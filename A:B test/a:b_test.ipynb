{
 "cells": [
  {
   "cell_type": "markdown",
   "metadata": {},
   "source": [
    "<div class=\"alert alert-block alert-info\">\n",
    "    \n",
    "\n",
    "__Комментари гео__\n",
    "\n",
    " \n",
    "— модуль folium для визуализации геоданных на карте — https://dev-gang.ru/article/interaktivnaja-vizualizacija-geo-dannyh-na-python-9yqzq8qlud/  \n",
    "— модуль для сервиса Геокодер от Яндекса: https://pypi.org/project/yandex-geocoder/  \n",
    "— модуль для сервиса замечательной российской компании Dadata: https://pypi.org/project/dadata/  \n",
    "\n",
    "\n",
    "</div>"
   ]
  },
  {
   "cell_type": "markdown",
   "metadata": {},
   "source": [
    "# А/В тест "
   ]
  },
  {
   "cell_type": "markdown",
   "metadata": {},
   "source": [
    "Вы — аналитик крупного интернет-магазина. Вместе с отделом маркетинга вы подготовили список гипотез для увеличения выручки.\n",
    "\n",
    " **Цель исследования**\n",
    " \n",
    "Приоритизируйте гипотезы, запустите A/B-тест и проанализируйте результаты.\n",
    "\n",
    " **Ход исследования**\n",
    " \n",
    "Данные для первой части:\n",
    "\n",
    " Файл /datasets/hypothesis.csv\n",
    " \n",
    "- Hypothesis — краткое описание гипотезы;\n",
    "- Reach — охват пользователей по 10-балльной шкале;\n",
    "- Impact — влияние на пользователей по 10-балльной шкале;\n",
    "- Confidence — уверенность в гипотезе по 10-балльной шкале;\n",
    "- Efforts — затраты ресурсов на проверку гипотезы по 10-балльной шкале. Чем больше значение Efforts, тем дороже проверка гипотезы.\n",
    "\n",
    "Данные для второй части:\n",
    "\n",
    "Файл /datasets/orders.csv\n",
    "\n",
    "- transactionId — идентификатор заказа;\n",
    "- visitorId — идентификатор пользователя, совершившего заказ;\n",
    "- date — дата, когда был совершён заказ;\n",
    "- revenue — выручка заказа;\n",
    "- group — группа A/B-теста, в которую попал заказ.\n",
    "\n",
    "Файл /datasets/visitors.csv\n",
    "\n",
    "- date — дата;\n",
    "- group — группа A/B-теста;\n",
    "- visitors — количество пользователей в указанную дату в указанной группе A/B-теста"
   ]
  },
  {
   "cell_type": "code",
   "execution_count": 47,
   "metadata": {},
   "outputs": [],
   "source": [
    "import pandas as pd\n",
    "import scipy.stats as stats\n",
    "import datetime as dt\n",
    "import numpy as np\n",
    "import seaborn as sns\n",
    "from matplotlib import pyplot as plt\n",
    "# from pymystem3 import Mystem\n",
    "# m = Mystem()"
   ]
  },
  {
   "cell_type": "code",
   "execution_count": 48,
   "metadata": {},
   "outputs": [],
   "source": [
    "hypothesis, orders, visitors = (pd.read_csv('/datasets/hypothesis.csv'),\n",
    "                                pd.read_csv('/datasets/orders.csv'),\n",
    "                                pd.read_csv('/datasets/visitors.csv'))"
   ]
  },
  {
   "cell_type": "code",
   "execution_count": 49,
   "metadata": {},
   "outputs": [],
   "source": [
    "#посмотрим загруженные данные\n",
    "def all_info(df: pd.DataFrame):\n",
    "    print(\"info\")\n",
    "    df.info(verbose=True)\n",
    "    display( df.head(10)) "
   ]
  },
  {
   "cell_type": "code",
   "execution_count": 50,
   "metadata": {
    "scrolled": false
   },
   "outputs": [
    {
     "name": "stdout",
     "output_type": "stream",
     "text": [
      "info\n",
      "<class 'pandas.core.frame.DataFrame'>\n",
      "RangeIndex: 9 entries, 0 to 8\n",
      "Data columns (total 5 columns):\n",
      " #   Column      Non-Null Count  Dtype \n",
      "---  ------      --------------  ----- \n",
      " 0   Hypothesis  9 non-null      object\n",
      " 1   Reach       9 non-null      int64 \n",
      " 2   Impact      9 non-null      int64 \n",
      " 3   Confidence  9 non-null      int64 \n",
      " 4   Efforts     9 non-null      int64 \n",
      "dtypes: int64(4), object(1)\n",
      "memory usage: 488.0+ bytes\n"
     ]
    },
    {
     "data": {
      "text/html": [
       "<div>\n",
       "<style scoped>\n",
       "    .dataframe tbody tr th:only-of-type {\n",
       "        vertical-align: middle;\n",
       "    }\n",
       "\n",
       "    .dataframe tbody tr th {\n",
       "        vertical-align: top;\n",
       "    }\n",
       "\n",
       "    .dataframe thead th {\n",
       "        text-align: right;\n",
       "    }\n",
       "</style>\n",
       "<table border=\"1\" class=\"dataframe\">\n",
       "  <thead>\n",
       "    <tr style=\"text-align: right;\">\n",
       "      <th></th>\n",
       "      <th>Hypothesis</th>\n",
       "      <th>Reach</th>\n",
       "      <th>Impact</th>\n",
       "      <th>Confidence</th>\n",
       "      <th>Efforts</th>\n",
       "    </tr>\n",
       "  </thead>\n",
       "  <tbody>\n",
       "    <tr>\n",
       "      <th>0</th>\n",
       "      <td>Добавить два новых канала привлечения трафика, что позволит привлекать на 30% больше пользователей</td>\n",
       "      <td>3</td>\n",
       "      <td>10</td>\n",
       "      <td>8</td>\n",
       "      <td>6</td>\n",
       "    </tr>\n",
       "    <tr>\n",
       "      <th>1</th>\n",
       "      <td>Запустить собственную службу доставки, что сократит срок доставки заказов</td>\n",
       "      <td>2</td>\n",
       "      <td>5</td>\n",
       "      <td>4</td>\n",
       "      <td>10</td>\n",
       "    </tr>\n",
       "    <tr>\n",
       "      <th>2</th>\n",
       "      <td>Добавить блоки рекомендаций товаров на сайт интернет магазина, чтобы повысить конверсию и средний чек заказа</td>\n",
       "      <td>8</td>\n",
       "      <td>3</td>\n",
       "      <td>7</td>\n",
       "      <td>3</td>\n",
       "    </tr>\n",
       "    <tr>\n",
       "      <th>3</th>\n",
       "      <td>Изменить структура категорий, что увеличит конверсию, т.к. пользователи быстрее найдут нужный товар</td>\n",
       "      <td>8</td>\n",
       "      <td>3</td>\n",
       "      <td>3</td>\n",
       "      <td>8</td>\n",
       "    </tr>\n",
       "    <tr>\n",
       "      <th>4</th>\n",
       "      <td>Изменить цвет фона главной страницы, чтобы увеличить вовлеченность пользователей</td>\n",
       "      <td>3</td>\n",
       "      <td>1</td>\n",
       "      <td>1</td>\n",
       "      <td>1</td>\n",
       "    </tr>\n",
       "    <tr>\n",
       "      <th>5</th>\n",
       "      <td>Добавить страницу отзывов клиентов о магазине, что позволит увеличить количество заказов</td>\n",
       "      <td>3</td>\n",
       "      <td>2</td>\n",
       "      <td>2</td>\n",
       "      <td>3</td>\n",
       "    </tr>\n",
       "    <tr>\n",
       "      <th>6</th>\n",
       "      <td>Показать на главной странице баннеры с актуальными акциями и распродажами, чтобы увеличить конверсию</td>\n",
       "      <td>5</td>\n",
       "      <td>3</td>\n",
       "      <td>8</td>\n",
       "      <td>3</td>\n",
       "    </tr>\n",
       "    <tr>\n",
       "      <th>7</th>\n",
       "      <td>Добавить форму подписки на все основные страницы, чтобы собрать базу клиентов для email-рассылок</td>\n",
       "      <td>10</td>\n",
       "      <td>7</td>\n",
       "      <td>8</td>\n",
       "      <td>5</td>\n",
       "    </tr>\n",
       "    <tr>\n",
       "      <th>8</th>\n",
       "      <td>Запустить акцию, дающую скидку на товар в день рождения</td>\n",
       "      <td>1</td>\n",
       "      <td>9</td>\n",
       "      <td>9</td>\n",
       "      <td>5</td>\n",
       "    </tr>\n",
       "  </tbody>\n",
       "</table>\n",
       "</div>"
      ],
      "text/plain": [
       "                                                                                                     Hypothesis  \\\n",
       "0            Добавить два новых канала привлечения трафика, что позволит привлекать на 30% больше пользователей   \n",
       "1                                     Запустить собственную службу доставки, что сократит срок доставки заказов   \n",
       "2  Добавить блоки рекомендаций товаров на сайт интернет магазина, чтобы повысить конверсию и средний чек заказа   \n",
       "3           Изменить структура категорий, что увеличит конверсию, т.к. пользователи быстрее найдут нужный товар   \n",
       "4                              Изменить цвет фона главной страницы, чтобы увеличить вовлеченность пользователей   \n",
       "5                      Добавить страницу отзывов клиентов о магазине, что позволит увеличить количество заказов   \n",
       "6          Показать на главной странице баннеры с актуальными акциями и распродажами, чтобы увеличить конверсию   \n",
       "7              Добавить форму подписки на все основные страницы, чтобы собрать базу клиентов для email-рассылок   \n",
       "8                                                       Запустить акцию, дающую скидку на товар в день рождения   \n",
       "\n",
       "   Reach  Impact  Confidence  Efforts  \n",
       "0      3      10           8        6  \n",
       "1      2       5           4       10  \n",
       "2      8       3           7        3  \n",
       "3      8       3           3        8  \n",
       "4      3       1           1        1  \n",
       "5      3       2           2        3  \n",
       "6      5       3           8        3  \n",
       "7     10       7           8        5  \n",
       "8      1       9           9        5  "
      ]
     },
     "metadata": {},
     "output_type": "display_data"
    }
   ],
   "source": [
    "all_info(hypothesis)"
   ]
  },
  {
   "cell_type": "markdown",
   "metadata": {},
   "source": [
    "<div class=\"alert alert-block alert-warning\">\n",
    "    \n",
    "\n",
    "__Комментарий __\n",
    "\n",
    "Чтобы вывести полное название гипотез, можно использовать такой код:  \n",
    "<code>pd.set_option('display.max_columns', None)  \n",
    "pd.options.display.max_colwidth = 150  </code>\n",
    "</div>"
   ]
  },
  {
   "cell_type": "code",
   "execution_count": 51,
   "metadata": {
    "scrolled": false
   },
   "outputs": [
    {
     "name": "stdout",
     "output_type": "stream",
     "text": [
      "info\n",
      "<class 'pandas.core.frame.DataFrame'>\n",
      "RangeIndex: 1197 entries, 0 to 1196\n",
      "Data columns (total 5 columns):\n",
      " #   Column         Non-Null Count  Dtype \n",
      "---  ------         --------------  ----- \n",
      " 0   transactionId  1197 non-null   int64 \n",
      " 1   visitorId      1197 non-null   int64 \n",
      " 2   date           1197 non-null   object\n",
      " 3   revenue        1197 non-null   int64 \n",
      " 4   group          1197 non-null   object\n",
      "dtypes: int64(3), object(2)\n",
      "memory usage: 46.9+ KB\n"
     ]
    },
    {
     "data": {
      "text/html": [
       "<div>\n",
       "<style scoped>\n",
       "    .dataframe tbody tr th:only-of-type {\n",
       "        vertical-align: middle;\n",
       "    }\n",
       "\n",
       "    .dataframe tbody tr th {\n",
       "        vertical-align: top;\n",
       "    }\n",
       "\n",
       "    .dataframe thead th {\n",
       "        text-align: right;\n",
       "    }\n",
       "</style>\n",
       "<table border=\"1\" class=\"dataframe\">\n",
       "  <thead>\n",
       "    <tr style=\"text-align: right;\">\n",
       "      <th></th>\n",
       "      <th>transactionId</th>\n",
       "      <th>visitorId</th>\n",
       "      <th>date</th>\n",
       "      <th>revenue</th>\n",
       "      <th>group</th>\n",
       "    </tr>\n",
       "  </thead>\n",
       "  <tbody>\n",
       "    <tr>\n",
       "      <th>0</th>\n",
       "      <td>3667963787</td>\n",
       "      <td>3312258926</td>\n",
       "      <td>2019-08-15</td>\n",
       "      <td>1650</td>\n",
       "      <td>B</td>\n",
       "    </tr>\n",
       "    <tr>\n",
       "      <th>1</th>\n",
       "      <td>2804400009</td>\n",
       "      <td>3642806036</td>\n",
       "      <td>2019-08-15</td>\n",
       "      <td>730</td>\n",
       "      <td>B</td>\n",
       "    </tr>\n",
       "    <tr>\n",
       "      <th>2</th>\n",
       "      <td>2961555356</td>\n",
       "      <td>4069496402</td>\n",
       "      <td>2019-08-15</td>\n",
       "      <td>400</td>\n",
       "      <td>A</td>\n",
       "    </tr>\n",
       "    <tr>\n",
       "      <th>3</th>\n",
       "      <td>3797467345</td>\n",
       "      <td>1196621759</td>\n",
       "      <td>2019-08-15</td>\n",
       "      <td>9759</td>\n",
       "      <td>B</td>\n",
       "    </tr>\n",
       "    <tr>\n",
       "      <th>4</th>\n",
       "      <td>2282983706</td>\n",
       "      <td>2322279887</td>\n",
       "      <td>2019-08-15</td>\n",
       "      <td>2308</td>\n",
       "      <td>B</td>\n",
       "    </tr>\n",
       "    <tr>\n",
       "      <th>5</th>\n",
       "      <td>182168103</td>\n",
       "      <td>935554773</td>\n",
       "      <td>2019-08-15</td>\n",
       "      <td>2210</td>\n",
       "      <td>B</td>\n",
       "    </tr>\n",
       "    <tr>\n",
       "      <th>6</th>\n",
       "      <td>398296753</td>\n",
       "      <td>2900797465</td>\n",
       "      <td>2019-08-15</td>\n",
       "      <td>1860</td>\n",
       "      <td>B</td>\n",
       "    </tr>\n",
       "    <tr>\n",
       "      <th>7</th>\n",
       "      <td>2626614568</td>\n",
       "      <td>78758296</td>\n",
       "      <td>2019-08-15</td>\n",
       "      <td>1044</td>\n",
       "      <td>A</td>\n",
       "    </tr>\n",
       "    <tr>\n",
       "      <th>8</th>\n",
       "      <td>1576988021</td>\n",
       "      <td>295230930</td>\n",
       "      <td>2019-08-15</td>\n",
       "      <td>13710</td>\n",
       "      <td>A</td>\n",
       "    </tr>\n",
       "    <tr>\n",
       "      <th>9</th>\n",
       "      <td>1506739906</td>\n",
       "      <td>1882260405</td>\n",
       "      <td>2019-08-15</td>\n",
       "      <td>1855</td>\n",
       "      <td>B</td>\n",
       "    </tr>\n",
       "  </tbody>\n",
       "</table>\n",
       "</div>"
      ],
      "text/plain": [
       "   transactionId   visitorId        date  revenue group\n",
       "0     3667963787  3312258926  2019-08-15     1650     B\n",
       "1     2804400009  3642806036  2019-08-15      730     B\n",
       "2     2961555356  4069496402  2019-08-15      400     A\n",
       "3     3797467345  1196621759  2019-08-15     9759     B\n",
       "4     2282983706  2322279887  2019-08-15     2308     B\n",
       "5      182168103   935554773  2019-08-15     2210     B\n",
       "6      398296753  2900797465  2019-08-15     1860     B\n",
       "7     2626614568    78758296  2019-08-15     1044     A\n",
       "8     1576988021   295230930  2019-08-15    13710     A\n",
       "9     1506739906  1882260405  2019-08-15     1855     B"
      ]
     },
     "metadata": {},
     "output_type": "display_data"
    }
   ],
   "source": [
    "all_info(orders)"
   ]
  },
  {
   "cell_type": "code",
   "execution_count": 52,
   "metadata": {},
   "outputs": [
    {
     "name": "stdout",
     "output_type": "stream",
     "text": [
      "info\n",
      "<class 'pandas.core.frame.DataFrame'>\n",
      "RangeIndex: 62 entries, 0 to 61\n",
      "Data columns (total 3 columns):\n",
      " #   Column    Non-Null Count  Dtype \n",
      "---  ------    --------------  ----- \n",
      " 0   date      62 non-null     object\n",
      " 1   group     62 non-null     object\n",
      " 2   visitors  62 non-null     int64 \n",
      "dtypes: int64(1), object(2)\n",
      "memory usage: 1.6+ KB\n"
     ]
    },
    {
     "data": {
      "text/html": [
       "<div>\n",
       "<style scoped>\n",
       "    .dataframe tbody tr th:only-of-type {\n",
       "        vertical-align: middle;\n",
       "    }\n",
       "\n",
       "    .dataframe tbody tr th {\n",
       "        vertical-align: top;\n",
       "    }\n",
       "\n",
       "    .dataframe thead th {\n",
       "        text-align: right;\n",
       "    }\n",
       "</style>\n",
       "<table border=\"1\" class=\"dataframe\">\n",
       "  <thead>\n",
       "    <tr style=\"text-align: right;\">\n",
       "      <th></th>\n",
       "      <th>date</th>\n",
       "      <th>group</th>\n",
       "      <th>visitors</th>\n",
       "    </tr>\n",
       "  </thead>\n",
       "  <tbody>\n",
       "    <tr>\n",
       "      <th>0</th>\n",
       "      <td>2019-08-01</td>\n",
       "      <td>A</td>\n",
       "      <td>719</td>\n",
       "    </tr>\n",
       "    <tr>\n",
       "      <th>1</th>\n",
       "      <td>2019-08-02</td>\n",
       "      <td>A</td>\n",
       "      <td>619</td>\n",
       "    </tr>\n",
       "    <tr>\n",
       "      <th>2</th>\n",
       "      <td>2019-08-03</td>\n",
       "      <td>A</td>\n",
       "      <td>507</td>\n",
       "    </tr>\n",
       "    <tr>\n",
       "      <th>3</th>\n",
       "      <td>2019-08-04</td>\n",
       "      <td>A</td>\n",
       "      <td>717</td>\n",
       "    </tr>\n",
       "    <tr>\n",
       "      <th>4</th>\n",
       "      <td>2019-08-05</td>\n",
       "      <td>A</td>\n",
       "      <td>756</td>\n",
       "    </tr>\n",
       "    <tr>\n",
       "      <th>5</th>\n",
       "      <td>2019-08-06</td>\n",
       "      <td>A</td>\n",
       "      <td>667</td>\n",
       "    </tr>\n",
       "    <tr>\n",
       "      <th>6</th>\n",
       "      <td>2019-08-07</td>\n",
       "      <td>A</td>\n",
       "      <td>644</td>\n",
       "    </tr>\n",
       "    <tr>\n",
       "      <th>7</th>\n",
       "      <td>2019-08-08</td>\n",
       "      <td>A</td>\n",
       "      <td>610</td>\n",
       "    </tr>\n",
       "    <tr>\n",
       "      <th>8</th>\n",
       "      <td>2019-08-09</td>\n",
       "      <td>A</td>\n",
       "      <td>617</td>\n",
       "    </tr>\n",
       "    <tr>\n",
       "      <th>9</th>\n",
       "      <td>2019-08-10</td>\n",
       "      <td>A</td>\n",
       "      <td>406</td>\n",
       "    </tr>\n",
       "  </tbody>\n",
       "</table>\n",
       "</div>"
      ],
      "text/plain": [
       "         date group  visitors\n",
       "0  2019-08-01     A       719\n",
       "1  2019-08-02     A       619\n",
       "2  2019-08-03     A       507\n",
       "3  2019-08-04     A       717\n",
       "4  2019-08-05     A       756\n",
       "5  2019-08-06     A       667\n",
       "6  2019-08-07     A       644\n",
       "7  2019-08-08     A       610\n",
       "8  2019-08-09     A       617\n",
       "9  2019-08-10     A       406"
      ]
     },
     "metadata": {},
     "output_type": "display_data"
    }
   ],
   "source": [
    "all_info(visitors)"
   ]
  },
  {
   "cell_type": "markdown",
   "metadata": {},
   "source": [
    "##### комментарий: \n",
    "по результатам данных для более полного понимания нужно:\n",
    "- привести названия столбцов к удобному формату ( строчные буквы везде)\n",
    "- привести даты к формату дат\n"
   ]
  },
  {
   "cell_type": "code",
   "execution_count": 53,
   "metadata": {},
   "outputs": [],
   "source": [
    "hypothesis.columns = hypothesis.columns.str.lower()"
   ]
  },
  {
   "cell_type": "code",
   "execution_count": 54,
   "metadata": {},
   "outputs": [],
   "source": [
    "orders['date'] = pd.to_datetime(orders['date'])\n",
    "visitors['date'] = pd.to_datetime(visitors['date'])"
   ]
  },
  {
   "cell_type": "code",
   "execution_count": 55,
   "metadata": {
    "scrolled": true
   },
   "outputs": [
    {
     "name": "stdout",
     "output_type": "stream",
     "text": [
      "<class 'pandas.core.frame.DataFrame'>\n",
      "RangeIndex: 1197 entries, 0 to 1196\n",
      "Data columns (total 5 columns):\n",
      " #   Column         Non-Null Count  Dtype         \n",
      "---  ------         --------------  -----         \n",
      " 0   transactionId  1197 non-null   int64         \n",
      " 1   visitorId      1197 non-null   int64         \n",
      " 2   date           1197 non-null   datetime64[ns]\n",
      " 3   revenue        1197 non-null   int64         \n",
      " 4   group          1197 non-null   object        \n",
      "dtypes: datetime64[ns](1), int64(3), object(1)\n",
      "memory usage: 46.9+ KB\n"
     ]
    }
   ],
   "source": [
    "#проверила как даты исправились\n",
    "orders.info()"
   ]
  },
  {
   "cell_type": "code",
   "execution_count": 56,
   "metadata": {},
   "outputs": [
    {
     "data": {
      "text/html": [
       "<div>\n",
       "<style scoped>\n",
       "    .dataframe tbody tr th:only-of-type {\n",
       "        vertical-align: middle;\n",
       "    }\n",
       "\n",
       "    .dataframe tbody tr th {\n",
       "        vertical-align: top;\n",
       "    }\n",
       "\n",
       "    .dataframe thead th {\n",
       "        text-align: right;\n",
       "    }\n",
       "</style>\n",
       "<table border=\"1\" class=\"dataframe\">\n",
       "  <thead>\n",
       "    <tr style=\"text-align: right;\">\n",
       "      <th></th>\n",
       "      <th>group</th>\n",
       "      <th>names</th>\n",
       "    </tr>\n",
       "    <tr>\n",
       "      <th>visitorId</th>\n",
       "      <th></th>\n",
       "      <th></th>\n",
       "    </tr>\n",
       "  </thead>\n",
       "  <tbody>\n",
       "    <tr>\n",
       "      <th>5114589</th>\n",
       "      <td>1</td>\n",
       "      <td>[B]</td>\n",
       "    </tr>\n",
       "    <tr>\n",
       "      <th>6958315</th>\n",
       "      <td>1</td>\n",
       "      <td>[B]</td>\n",
       "    </tr>\n",
       "    <tr>\n",
       "      <th>8300375</th>\n",
       "      <td>2</td>\n",
       "      <td>[B, A]</td>\n",
       "    </tr>\n",
       "    <tr>\n",
       "      <th>11685486</th>\n",
       "      <td>1</td>\n",
       "      <td>[A]</td>\n",
       "    </tr>\n",
       "    <tr>\n",
       "      <th>39475350</th>\n",
       "      <td>1</td>\n",
       "      <td>[B]</td>\n",
       "    </tr>\n",
       "    <tr>\n",
       "      <th>...</th>\n",
       "      <td>...</td>\n",
       "      <td>...</td>\n",
       "    </tr>\n",
       "    <tr>\n",
       "      <th>4266935830</th>\n",
       "      <td>2</td>\n",
       "      <td>[A, B]</td>\n",
       "    </tr>\n",
       "    <tr>\n",
       "      <th>4278982564</th>\n",
       "      <td>1</td>\n",
       "      <td>[A]</td>\n",
       "    </tr>\n",
       "    <tr>\n",
       "      <th>4279090005</th>\n",
       "      <td>1</td>\n",
       "      <td>[B]</td>\n",
       "    </tr>\n",
       "    <tr>\n",
       "      <th>4281247801</th>\n",
       "      <td>1</td>\n",
       "      <td>[B]</td>\n",
       "    </tr>\n",
       "    <tr>\n",
       "      <th>4283872382</th>\n",
       "      <td>1</td>\n",
       "      <td>[B]</td>\n",
       "    </tr>\n",
       "  </tbody>\n",
       "</table>\n",
       "<p>1031 rows × 2 columns</p>\n",
       "</div>"
      ],
      "text/plain": [
       "            group   names\n",
       "visitorId                \n",
       "5114589         1     [B]\n",
       "6958315         1     [B]\n",
       "8300375         2  [B, A]\n",
       "11685486        1     [A]\n",
       "39475350        1     [B]\n",
       "...           ...     ...\n",
       "4266935830      2  [A, B]\n",
       "4278982564      1     [A]\n",
       "4279090005      1     [B]\n",
       "4281247801      1     [B]\n",
       "4283872382      1     [B]\n",
       "\n",
       "[1031 rows x 2 columns]"
      ]
     },
     "execution_count": 56,
     "metadata": {},
     "output_type": "execute_result"
    }
   ],
   "source": [
    "dublicated = orders.groupby('visitorId').agg({'group': ['nunique', 'unique']})\n",
    "dublicated.columns = ['group','names' ]\n",
    "dublicated"
   ]
  },
  {
   "cell_type": "code",
   "execution_count": 57,
   "metadata": {},
   "outputs": [
    {
     "data": {
      "text/html": [
       "<div>\n",
       "<style scoped>\n",
       "    .dataframe tbody tr th:only-of-type {\n",
       "        vertical-align: middle;\n",
       "    }\n",
       "\n",
       "    .dataframe tbody tr th {\n",
       "        vertical-align: top;\n",
       "    }\n",
       "\n",
       "    .dataframe thead th {\n",
       "        text-align: right;\n",
       "    }\n",
       "</style>\n",
       "<table border=\"1\" class=\"dataframe\">\n",
       "  <thead>\n",
       "    <tr style=\"text-align: right;\">\n",
       "      <th></th>\n",
       "      <th>group</th>\n",
       "      <th>names</th>\n",
       "    </tr>\n",
       "    <tr>\n",
       "      <th>visitorId</th>\n",
       "      <th></th>\n",
       "      <th></th>\n",
       "    </tr>\n",
       "  </thead>\n",
       "  <tbody>\n",
       "    <tr>\n",
       "      <th>8300375</th>\n",
       "      <td>2</td>\n",
       "      <td>[B, A]</td>\n",
       "    </tr>\n",
       "    <tr>\n",
       "      <th>199603092</th>\n",
       "      <td>2</td>\n",
       "      <td>[A, B]</td>\n",
       "    </tr>\n",
       "    <tr>\n",
       "      <th>232979603</th>\n",
       "      <td>2</td>\n",
       "      <td>[B, A]</td>\n",
       "    </tr>\n",
       "    <tr>\n",
       "      <th>237748145</th>\n",
       "      <td>2</td>\n",
       "      <td>[B, A]</td>\n",
       "    </tr>\n",
       "    <tr>\n",
       "      <th>276558944</th>\n",
       "      <td>2</td>\n",
       "      <td>[B, A]</td>\n",
       "    </tr>\n",
       "  </tbody>\n",
       "</table>\n",
       "</div>"
      ],
      "text/plain": [
       "           group   names\n",
       "visitorId               \n",
       "8300375        2  [B, A]\n",
       "199603092      2  [A, B]\n",
       "232979603      2  [B, A]\n",
       "237748145      2  [B, A]\n",
       "276558944      2  [B, A]"
      ]
     },
     "execution_count": 57,
     "metadata": {},
     "output_type": "execute_result"
    }
   ],
   "source": [
    "duplicated = dublicated.query('group>1')\n",
    "duplicated.head(5)"
   ]
  },
  {
   "cell_type": "code",
   "execution_count": 58,
   "metadata": {},
   "outputs": [
    {
     "data": {
      "text/plain": [
       "2    58\n",
       "Name: group, dtype: int64"
      ]
     },
     "execution_count": 58,
     "metadata": {},
     "output_type": "execute_result"
    }
   ],
   "source": [
    "duplicated['group'].value_counts()"
   ]
  },
  {
   "cell_type": "code",
   "execution_count": 59,
   "metadata": {},
   "outputs": [
    {
     "data": {
      "text/html": [
       "<div>\n",
       "<style scoped>\n",
       "    .dataframe tbody tr th:only-of-type {\n",
       "        vertical-align: middle;\n",
       "    }\n",
       "\n",
       "    .dataframe tbody tr th {\n",
       "        vertical-align: top;\n",
       "    }\n",
       "\n",
       "    .dataframe thead th {\n",
       "        text-align: right;\n",
       "    }\n",
       "</style>\n",
       "<table border=\"1\" class=\"dataframe\">\n",
       "  <thead>\n",
       "    <tr style=\"text-align: right;\">\n",
       "      <th></th>\n",
       "      <th>transactionId</th>\n",
       "      <th>visitorId</th>\n",
       "      <th>date</th>\n",
       "      <th>revenue</th>\n",
       "      <th>group</th>\n",
       "    </tr>\n",
       "  </thead>\n",
       "  <tbody>\n",
       "    <tr>\n",
       "      <th>0</th>\n",
       "      <td>3667963787</td>\n",
       "      <td>3312258926</td>\n",
       "      <td>2019-08-15</td>\n",
       "      <td>1650</td>\n",
       "      <td>B</td>\n",
       "    </tr>\n",
       "    <tr>\n",
       "      <th>1</th>\n",
       "      <td>2804400009</td>\n",
       "      <td>3642806036</td>\n",
       "      <td>2019-08-15</td>\n",
       "      <td>730</td>\n",
       "      <td>B</td>\n",
       "    </tr>\n",
       "    <tr>\n",
       "      <th>3</th>\n",
       "      <td>3797467345</td>\n",
       "      <td>1196621759</td>\n",
       "      <td>2019-08-15</td>\n",
       "      <td>9759</td>\n",
       "      <td>B</td>\n",
       "    </tr>\n",
       "    <tr>\n",
       "      <th>4</th>\n",
       "      <td>2282983706</td>\n",
       "      <td>2322279887</td>\n",
       "      <td>2019-08-15</td>\n",
       "      <td>2308</td>\n",
       "      <td>B</td>\n",
       "    </tr>\n",
       "    <tr>\n",
       "      <th>5</th>\n",
       "      <td>182168103</td>\n",
       "      <td>935554773</td>\n",
       "      <td>2019-08-15</td>\n",
       "      <td>2210</td>\n",
       "      <td>B</td>\n",
       "    </tr>\n",
       "  </tbody>\n",
       "</table>\n",
       "</div>"
      ],
      "text/plain": [
       "   transactionId   visitorId       date  revenue group\n",
       "0     3667963787  3312258926 2019-08-15     1650     B\n",
       "1     2804400009  3642806036 2019-08-15      730     B\n",
       "3     3797467345  1196621759 2019-08-15     9759     B\n",
       "4     2282983706  2322279887 2019-08-15     2308     B\n",
       "5      182168103   935554773 2019-08-15     2210     B"
      ]
     },
     "execution_count": 59,
     "metadata": {},
     "output_type": "execute_result"
    }
   ],
   "source": [
    "#чистка пользователей\n",
    "new_orders = orders.query('visitorId not in @duplicated.index')\n",
    "new_orders.head(5)"
   ]
  },
  {
   "cell_type": "markdown",
   "metadata": {},
   "source": [
    "## Приоритизация гипотез\n",
    "\n",
    "9 гипотез по увеличению выручки интернет-магазина с указанными параметрами Reach, Impact, Confidence, Effort. \n",
    "### Задача 1\n",
    "Примените фреймворк ICE для приоритизации гипотез. Отсортируйте их по убыванию приоритета.\n"
   ]
  },
  {
   "cell_type": "code",
   "execution_count": 60,
   "metadata": {
    "scrolled": true
   },
   "outputs": [
    {
     "data": {
      "text/html": [
       "<div>\n",
       "<style scoped>\n",
       "    .dataframe tbody tr th:only-of-type {\n",
       "        vertical-align: middle;\n",
       "    }\n",
       "\n",
       "    .dataframe tbody tr th {\n",
       "        vertical-align: top;\n",
       "    }\n",
       "\n",
       "    .dataframe thead th {\n",
       "        text-align: right;\n",
       "    }\n",
       "</style>\n",
       "<table border=\"1\" class=\"dataframe\">\n",
       "  <thead>\n",
       "    <tr style=\"text-align: right;\">\n",
       "      <th></th>\n",
       "      <th>hypothesis</th>\n",
       "      <th>reach</th>\n",
       "      <th>impact</th>\n",
       "      <th>confidence</th>\n",
       "      <th>efforts</th>\n",
       "      <th>ice</th>\n",
       "    </tr>\n",
       "  </thead>\n",
       "  <tbody>\n",
       "    <tr>\n",
       "      <th>8</th>\n",
       "      <td>Запустить акцию, дающую скидку на товар в день рождения</td>\n",
       "      <td>1</td>\n",
       "      <td>9</td>\n",
       "      <td>9</td>\n",
       "      <td>5</td>\n",
       "      <td>16.200000</td>\n",
       "    </tr>\n",
       "    <tr>\n",
       "      <th>0</th>\n",
       "      <td>Добавить два новых канала привлечения трафика, что позволит привлекать на 30% больше пользователей</td>\n",
       "      <td>3</td>\n",
       "      <td>10</td>\n",
       "      <td>8</td>\n",
       "      <td>6</td>\n",
       "      <td>13.333333</td>\n",
       "    </tr>\n",
       "    <tr>\n",
       "      <th>7</th>\n",
       "      <td>Добавить форму подписки на все основные страницы, чтобы собрать базу клиентов для email-рассылок</td>\n",
       "      <td>10</td>\n",
       "      <td>7</td>\n",
       "      <td>8</td>\n",
       "      <td>5</td>\n",
       "      <td>11.200000</td>\n",
       "    </tr>\n",
       "    <tr>\n",
       "      <th>6</th>\n",
       "      <td>Показать на главной странице баннеры с актуальными акциями и распродажами, чтобы увеличить конверсию</td>\n",
       "      <td>5</td>\n",
       "      <td>3</td>\n",
       "      <td>8</td>\n",
       "      <td>3</td>\n",
       "      <td>8.000000</td>\n",
       "    </tr>\n",
       "    <tr>\n",
       "      <th>2</th>\n",
       "      <td>Добавить блоки рекомендаций товаров на сайт интернет магазина, чтобы повысить конверсию и средний чек заказа</td>\n",
       "      <td>8</td>\n",
       "      <td>3</td>\n",
       "      <td>7</td>\n",
       "      <td>3</td>\n",
       "      <td>7.000000</td>\n",
       "    </tr>\n",
       "    <tr>\n",
       "      <th>1</th>\n",
       "      <td>Запустить собственную службу доставки, что сократит срок доставки заказов</td>\n",
       "      <td>2</td>\n",
       "      <td>5</td>\n",
       "      <td>4</td>\n",
       "      <td>10</td>\n",
       "      <td>2.000000</td>\n",
       "    </tr>\n",
       "    <tr>\n",
       "      <th>5</th>\n",
       "      <td>Добавить страницу отзывов клиентов о магазине, что позволит увеличить количество заказов</td>\n",
       "      <td>3</td>\n",
       "      <td>2</td>\n",
       "      <td>2</td>\n",
       "      <td>3</td>\n",
       "      <td>1.333333</td>\n",
       "    </tr>\n",
       "    <tr>\n",
       "      <th>3</th>\n",
       "      <td>Изменить структура категорий, что увеличит конверсию, т.к. пользователи быстрее найдут нужный товар</td>\n",
       "      <td>8</td>\n",
       "      <td>3</td>\n",
       "      <td>3</td>\n",
       "      <td>8</td>\n",
       "      <td>1.125000</td>\n",
       "    </tr>\n",
       "    <tr>\n",
       "      <th>4</th>\n",
       "      <td>Изменить цвет фона главной страницы, чтобы увеличить вовлеченность пользователей</td>\n",
       "      <td>3</td>\n",
       "      <td>1</td>\n",
       "      <td>1</td>\n",
       "      <td>1</td>\n",
       "      <td>1.000000</td>\n",
       "    </tr>\n",
       "  </tbody>\n",
       "</table>\n",
       "</div>"
      ],
      "text/plain": [
       "                                                                                                     hypothesis  \\\n",
       "8                                                       Запустить акцию, дающую скидку на товар в день рождения   \n",
       "0            Добавить два новых канала привлечения трафика, что позволит привлекать на 30% больше пользователей   \n",
       "7              Добавить форму подписки на все основные страницы, чтобы собрать базу клиентов для email-рассылок   \n",
       "6          Показать на главной странице баннеры с актуальными акциями и распродажами, чтобы увеличить конверсию   \n",
       "2  Добавить блоки рекомендаций товаров на сайт интернет магазина, чтобы повысить конверсию и средний чек заказа   \n",
       "1                                     Запустить собственную службу доставки, что сократит срок доставки заказов   \n",
       "5                      Добавить страницу отзывов клиентов о магазине, что позволит увеличить количество заказов   \n",
       "3           Изменить структура категорий, что увеличит конверсию, т.к. пользователи быстрее найдут нужный товар   \n",
       "4                              Изменить цвет фона главной страницы, чтобы увеличить вовлеченность пользователей   \n",
       "\n",
       "   reach  impact  confidence  efforts        ice  \n",
       "8      1       9           9        5  16.200000  \n",
       "0      3      10           8        6  13.333333  \n",
       "7     10       7           8        5  11.200000  \n",
       "6      5       3           8        3   8.000000  \n",
       "2      8       3           7        3   7.000000  \n",
       "1      2       5           4       10   2.000000  \n",
       "5      3       2           2        3   1.333333  \n",
       "3      8       3           3        8   1.125000  \n",
       "4      3       1           1        1   1.000000  "
      ]
     },
     "execution_count": 60,
     "metadata": {},
     "output_type": "execute_result"
    }
   ],
   "source": [
    "hypothesis['ice'] = hypothesis['impact']*hypothesis['confidence']/hypothesis['efforts']\n",
    "hypothesis.sort_values(by = 'ice', ascending=False)"
   ]
  },
  {
   "cell_type": "markdown",
   "metadata": {},
   "source": [
    "### Задача 2\n",
    "\n",
    "Примените фреймворк RICE для приоритизации гипотез. Отсортируйте их по убыванию приоритета.\n",
    "Укажите, как изменилась приоритизация гипотез при применении RICE вместо ICE. Объясните, почему так произошло."
   ]
  },
  {
   "cell_type": "code",
   "execution_count": 61,
   "metadata": {
    "scrolled": false
   },
   "outputs": [
    {
     "data": {
      "text/html": [
       "<div>\n",
       "<style scoped>\n",
       "    .dataframe tbody tr th:only-of-type {\n",
       "        vertical-align: middle;\n",
       "    }\n",
       "\n",
       "    .dataframe tbody tr th {\n",
       "        vertical-align: top;\n",
       "    }\n",
       "\n",
       "    .dataframe thead th {\n",
       "        text-align: right;\n",
       "    }\n",
       "</style>\n",
       "<table border=\"1\" class=\"dataframe\">\n",
       "  <thead>\n",
       "    <tr style=\"text-align: right;\">\n",
       "      <th></th>\n",
       "      <th>hypothesis</th>\n",
       "      <th>reach</th>\n",
       "      <th>impact</th>\n",
       "      <th>confidence</th>\n",
       "      <th>efforts</th>\n",
       "      <th>ice</th>\n",
       "      <th>rice</th>\n",
       "    </tr>\n",
       "  </thead>\n",
       "  <tbody>\n",
       "    <tr>\n",
       "      <th>7</th>\n",
       "      <td>Добавить форму подписки на все основные страницы, чтобы собрать базу клиентов для email-рассылок</td>\n",
       "      <td>10</td>\n",
       "      <td>7</td>\n",
       "      <td>8</td>\n",
       "      <td>5</td>\n",
       "      <td>11.200000</td>\n",
       "      <td>112.0</td>\n",
       "    </tr>\n",
       "    <tr>\n",
       "      <th>2</th>\n",
       "      <td>Добавить блоки рекомендаций товаров на сайт интернет магазина, чтобы повысить конверсию и средний чек заказа</td>\n",
       "      <td>8</td>\n",
       "      <td>3</td>\n",
       "      <td>7</td>\n",
       "      <td>3</td>\n",
       "      <td>7.000000</td>\n",
       "      <td>56.0</td>\n",
       "    </tr>\n",
       "    <tr>\n",
       "      <th>0</th>\n",
       "      <td>Добавить два новых канала привлечения трафика, что позволит привлекать на 30% больше пользователей</td>\n",
       "      <td>3</td>\n",
       "      <td>10</td>\n",
       "      <td>8</td>\n",
       "      <td>6</td>\n",
       "      <td>13.333333</td>\n",
       "      <td>40.0</td>\n",
       "    </tr>\n",
       "    <tr>\n",
       "      <th>6</th>\n",
       "      <td>Показать на главной странице баннеры с актуальными акциями и распродажами, чтобы увеличить конверсию</td>\n",
       "      <td>5</td>\n",
       "      <td>3</td>\n",
       "      <td>8</td>\n",
       "      <td>3</td>\n",
       "      <td>8.000000</td>\n",
       "      <td>40.0</td>\n",
       "    </tr>\n",
       "    <tr>\n",
       "      <th>8</th>\n",
       "      <td>Запустить акцию, дающую скидку на товар в день рождения</td>\n",
       "      <td>1</td>\n",
       "      <td>9</td>\n",
       "      <td>9</td>\n",
       "      <td>5</td>\n",
       "      <td>16.200000</td>\n",
       "      <td>16.2</td>\n",
       "    </tr>\n",
       "    <tr>\n",
       "      <th>3</th>\n",
       "      <td>Изменить структура категорий, что увеличит конверсию, т.к. пользователи быстрее найдут нужный товар</td>\n",
       "      <td>8</td>\n",
       "      <td>3</td>\n",
       "      <td>3</td>\n",
       "      <td>8</td>\n",
       "      <td>1.125000</td>\n",
       "      <td>9.0</td>\n",
       "    </tr>\n",
       "    <tr>\n",
       "      <th>1</th>\n",
       "      <td>Запустить собственную службу доставки, что сократит срок доставки заказов</td>\n",
       "      <td>2</td>\n",
       "      <td>5</td>\n",
       "      <td>4</td>\n",
       "      <td>10</td>\n",
       "      <td>2.000000</td>\n",
       "      <td>4.0</td>\n",
       "    </tr>\n",
       "    <tr>\n",
       "      <th>5</th>\n",
       "      <td>Добавить страницу отзывов клиентов о магазине, что позволит увеличить количество заказов</td>\n",
       "      <td>3</td>\n",
       "      <td>2</td>\n",
       "      <td>2</td>\n",
       "      <td>3</td>\n",
       "      <td>1.333333</td>\n",
       "      <td>4.0</td>\n",
       "    </tr>\n",
       "    <tr>\n",
       "      <th>4</th>\n",
       "      <td>Изменить цвет фона главной страницы, чтобы увеличить вовлеченность пользователей</td>\n",
       "      <td>3</td>\n",
       "      <td>1</td>\n",
       "      <td>1</td>\n",
       "      <td>1</td>\n",
       "      <td>1.000000</td>\n",
       "      <td>3.0</td>\n",
       "    </tr>\n",
       "  </tbody>\n",
       "</table>\n",
       "</div>"
      ],
      "text/plain": [
       "                                                                                                     hypothesis  \\\n",
       "7              Добавить форму подписки на все основные страницы, чтобы собрать базу клиентов для email-рассылок   \n",
       "2  Добавить блоки рекомендаций товаров на сайт интернет магазина, чтобы повысить конверсию и средний чек заказа   \n",
       "0            Добавить два новых канала привлечения трафика, что позволит привлекать на 30% больше пользователей   \n",
       "6          Показать на главной странице баннеры с актуальными акциями и распродажами, чтобы увеличить конверсию   \n",
       "8                                                       Запустить акцию, дающую скидку на товар в день рождения   \n",
       "3           Изменить структура категорий, что увеличит конверсию, т.к. пользователи быстрее найдут нужный товар   \n",
       "1                                     Запустить собственную службу доставки, что сократит срок доставки заказов   \n",
       "5                      Добавить страницу отзывов клиентов о магазине, что позволит увеличить количество заказов   \n",
       "4                              Изменить цвет фона главной страницы, чтобы увеличить вовлеченность пользователей   \n",
       "\n",
       "   reach  impact  confidence  efforts        ice   rice  \n",
       "7     10       7           8        5  11.200000  112.0  \n",
       "2      8       3           7        3   7.000000   56.0  \n",
       "0      3      10           8        6  13.333333   40.0  \n",
       "6      5       3           8        3   8.000000   40.0  \n",
       "8      1       9           9        5  16.200000   16.2  \n",
       "3      8       3           3        8   1.125000    9.0  \n",
       "1      2       5           4       10   2.000000    4.0  \n",
       "5      3       2           2        3   1.333333    4.0  \n",
       "4      3       1           1        1   1.000000    3.0  "
      ]
     },
     "execution_count": 61,
     "metadata": {},
     "output_type": "execute_result"
    }
   ],
   "source": [
    "hypothesis['rice'] = hypothesis['impact']*hypothesis['confidence']*hypothesis['reach']/hypothesis['efforts']\n",
    "hypothesis.sort_values(by = 'rice', ascending=False)"
   ]
  },
  {
   "cell_type": "code",
   "execution_count": 62,
   "metadata": {},
   "outputs": [
    {
     "data": {
      "text/html": [
       "<div>\n",
       "<style scoped>\n",
       "    .dataframe tbody tr th:only-of-type {\n",
       "        vertical-align: middle;\n",
       "    }\n",
       "\n",
       "    .dataframe tbody tr th {\n",
       "        vertical-align: top;\n",
       "    }\n",
       "\n",
       "    .dataframe thead th {\n",
       "        text-align: right;\n",
       "    }\n",
       "</style>\n",
       "<table border=\"1\" class=\"dataframe\">\n",
       "  <thead>\n",
       "    <tr style=\"text-align: right;\">\n",
       "      <th></th>\n",
       "      <th>hypothesis</th>\n",
       "      <th>rice</th>\n",
       "      <th>ice</th>\n",
       "    </tr>\n",
       "  </thead>\n",
       "  <tbody>\n",
       "    <tr>\n",
       "      <th>7</th>\n",
       "      <td>Добавить форму подписки на все основные страницы, чтобы собрать базу клиентов для email-рассылок</td>\n",
       "      <td>112.0</td>\n",
       "      <td>11.20</td>\n",
       "    </tr>\n",
       "    <tr>\n",
       "      <th>2</th>\n",
       "      <td>Добавить блоки рекомендаций товаров на сайт интернет магазина, чтобы повысить конверсию и средний чек заказа</td>\n",
       "      <td>56.0</td>\n",
       "      <td>7.00</td>\n",
       "    </tr>\n",
       "    <tr>\n",
       "      <th>0</th>\n",
       "      <td>Добавить два новых канала привлечения трафика, что позволит привлекать на 30% больше пользователей</td>\n",
       "      <td>40.0</td>\n",
       "      <td>13.33</td>\n",
       "    </tr>\n",
       "    <tr>\n",
       "      <th>6</th>\n",
       "      <td>Показать на главной странице баннеры с актуальными акциями и распродажами, чтобы увеличить конверсию</td>\n",
       "      <td>40.0</td>\n",
       "      <td>8.00</td>\n",
       "    </tr>\n",
       "    <tr>\n",
       "      <th>8</th>\n",
       "      <td>Запустить акцию, дающую скидку на товар в день рождения</td>\n",
       "      <td>16.2</td>\n",
       "      <td>16.20</td>\n",
       "    </tr>\n",
       "    <tr>\n",
       "      <th>3</th>\n",
       "      <td>Изменить структура категорий, что увеличит конверсию, т.к. пользователи быстрее найдут нужный товар</td>\n",
       "      <td>9.0</td>\n",
       "      <td>1.12</td>\n",
       "    </tr>\n",
       "    <tr>\n",
       "      <th>1</th>\n",
       "      <td>Запустить собственную службу доставки, что сократит срок доставки заказов</td>\n",
       "      <td>4.0</td>\n",
       "      <td>2.00</td>\n",
       "    </tr>\n",
       "    <tr>\n",
       "      <th>5</th>\n",
       "      <td>Добавить страницу отзывов клиентов о магазине, что позволит увеличить количество заказов</td>\n",
       "      <td>4.0</td>\n",
       "      <td>1.33</td>\n",
       "    </tr>\n",
       "    <tr>\n",
       "      <th>4</th>\n",
       "      <td>Изменить цвет фона главной страницы, чтобы увеличить вовлеченность пользователей</td>\n",
       "      <td>3.0</td>\n",
       "      <td>1.00</td>\n",
       "    </tr>\n",
       "  </tbody>\n",
       "</table>\n",
       "</div>"
      ],
      "text/plain": [
       "                                                                                                     hypothesis  \\\n",
       "7              Добавить форму подписки на все основные страницы, чтобы собрать базу клиентов для email-рассылок   \n",
       "2  Добавить блоки рекомендаций товаров на сайт интернет магазина, чтобы повысить конверсию и средний чек заказа   \n",
       "0            Добавить два новых канала привлечения трафика, что позволит привлекать на 30% больше пользователей   \n",
       "6          Показать на главной странице баннеры с актуальными акциями и распродажами, чтобы увеличить конверсию   \n",
       "8                                                       Запустить акцию, дающую скидку на товар в день рождения   \n",
       "3           Изменить структура категорий, что увеличит конверсию, т.к. пользователи быстрее найдут нужный товар   \n",
       "1                                     Запустить собственную службу доставки, что сократит срок доставки заказов   \n",
       "5                      Добавить страницу отзывов клиентов о магазине, что позволит увеличить количество заказов   \n",
       "4                              Изменить цвет фона главной страницы, чтобы увеличить вовлеченность пользователей   \n",
       "\n",
       "    rice    ice  \n",
       "7  112.0  11.20  \n",
       "2   56.0   7.00  \n",
       "0   40.0  13.33  \n",
       "6   40.0   8.00  \n",
       "8   16.2  16.20  \n",
       "3    9.0   1.12  \n",
       "1    4.0   2.00  \n",
       "5    4.0   1.33  \n",
       "4    3.0   1.00  "
      ]
     },
     "execution_count": 62,
     "metadata": {},
     "output_type": "execute_result"
    }
   ],
   "source": [
    "#расширю ячейку чтобы видеть весь текст\n",
    "pd.set_option('display.max_colwidth', 500)\n",
    "hypothesis[['hypothesis', 'rice', 'ice']].sort_values(by = 'rice', ascending=False).round(2)"
   ]
  },
  {
   "cell_type": "markdown",
   "metadata": {},
   "source": [
    "#### Вывод\n",
    "после приоретизации гипотез разными методами, гипотезы поменялись местами. Если при ICE топ была гипотеза \"Запустить акцию, дающую скидку на товар в день рождения\" под номеров 8 в отчете, то в случае метода RICE она на 5-м месте. В фреймворке RICE мы учитываем  параметр - Reach (скольких пользователей затронет изменение, которое мы хотим внести), и в гипотезах \"Добавить форму подписки на все основные страницы, чтобы собрать базу клиентов для email-рассылок\"  и \t\"Добавить блоки рекомендаций товаров на сайт интернет магазина, чтобы повысить конверсию и средний чек заказа\" он очень высок (в 7 он =10,  в лидере ICE -  он минимальный =1). Если этот параметр возможно посчитать, его необходимо учитывать при приоретизации."
   ]
  },
  {
   "cell_type": "markdown",
   "metadata": {},
   "source": [
    "## Анализ A/B-теста"
   ]
  },
  {
   "cell_type": "markdown",
   "metadata": {},
   "source": [
    "Проанализируйте A/B-тест:\n",
    "\n",
    "Примите решение по результатам теста и объясните его. Варианты решений: 1. Остановить тест, зафиксировать победу одной из групп. 2. Остановить тест, зафиксировать отсутствие различий между группами. 3. Продолжить тест."
   ]
  },
  {
   "cell_type": "markdown",
   "metadata": {},
   "source": [
    "### Задача 1\n",
    "\n",
    "- Постройте график кумулятивной выручки по группам. Сделайте выводы и предположения.\n",
    "- Постройте график кумулятивного среднего чека по группам. Сделайте выводы и предположения. \n",
    "- Постройте график относительного изменения кумулятивного среднего чека группы B к группе A. Сделайте выводы и предположения"
   ]
  },
  {
   "cell_type": "code",
   "execution_count": 63,
   "metadata": {},
   "outputs": [
    {
     "data": {
      "text/html": [
       "<div>\n",
       "<style scoped>\n",
       "    .dataframe tbody tr th:only-of-type {\n",
       "        vertical-align: middle;\n",
       "    }\n",
       "\n",
       "    .dataframe tbody tr th {\n",
       "        vertical-align: top;\n",
       "    }\n",
       "\n",
       "    .dataframe thead th {\n",
       "        text-align: right;\n",
       "    }\n",
       "</style>\n",
       "<table border=\"1\" class=\"dataframe\">\n",
       "  <thead>\n",
       "    <tr style=\"text-align: right;\">\n",
       "      <th></th>\n",
       "      <th>transactionId</th>\n",
       "      <th>visitorId</th>\n",
       "      <th>date</th>\n",
       "      <th>revenue</th>\n",
       "      <th>group</th>\n",
       "    </tr>\n",
       "  </thead>\n",
       "  <tbody>\n",
       "    <tr>\n",
       "      <th>453</th>\n",
       "      <td>3075639014</td>\n",
       "      <td>351125977</td>\n",
       "      <td>2019-08-06</td>\n",
       "      <td>4485</td>\n",
       "      <td>A</td>\n",
       "    </tr>\n",
       "    <tr>\n",
       "      <th>1024</th>\n",
       "      <td>3845118557</td>\n",
       "      <td>1964413493</td>\n",
       "      <td>2019-08-31</td>\n",
       "      <td>160</td>\n",
       "      <td>B</td>\n",
       "    </tr>\n",
       "    <tr>\n",
       "      <th>576</th>\n",
       "      <td>2724331495</td>\n",
       "      <td>4279090005</td>\n",
       "      <td>2019-08-04</td>\n",
       "      <td>6716</td>\n",
       "      <td>B</td>\n",
       "    </tr>\n",
       "  </tbody>\n",
       "</table>\n",
       "</div>"
      ],
      "text/plain": [
       "      transactionId   visitorId       date  revenue group\n",
       "453      3075639014   351125977 2019-08-06     4485     A\n",
       "1024     3845118557  1964413493 2019-08-31      160     B\n",
       "576      2724331495  4279090005 2019-08-04     6716     B"
      ]
     },
     "execution_count": 63,
     "metadata": {},
     "output_type": "execute_result"
    }
   ],
   "source": [
    "orders.sample(3)"
   ]
  },
  {
   "cell_type": "code",
   "execution_count": 64,
   "metadata": {
    "scrolled": true
   },
   "outputs": [
    {
     "data": {
      "text/html": [
       "<div>\n",
       "<style scoped>\n",
       "    .dataframe tbody tr th:only-of-type {\n",
       "        vertical-align: middle;\n",
       "    }\n",
       "\n",
       "    .dataframe tbody tr th {\n",
       "        vertical-align: top;\n",
       "    }\n",
       "\n",
       "    .dataframe thead th {\n",
       "        text-align: right;\n",
       "    }\n",
       "</style>\n",
       "<table border=\"1\" class=\"dataframe\">\n",
       "  <thead>\n",
       "    <tr style=\"text-align: right;\">\n",
       "      <th></th>\n",
       "      <th>date</th>\n",
       "      <th>group</th>\n",
       "      <th>visitors</th>\n",
       "    </tr>\n",
       "  </thead>\n",
       "  <tbody>\n",
       "    <tr>\n",
       "      <th>24</th>\n",
       "      <td>2019-08-25</td>\n",
       "      <td>A</td>\n",
       "      <td>621</td>\n",
       "    </tr>\n",
       "    <tr>\n",
       "      <th>34</th>\n",
       "      <td>2019-08-04</td>\n",
       "      <td>B</td>\n",
       "      <td>770</td>\n",
       "    </tr>\n",
       "    <tr>\n",
       "      <th>4</th>\n",
       "      <td>2019-08-05</td>\n",
       "      <td>A</td>\n",
       "      <td>756</td>\n",
       "    </tr>\n",
       "  </tbody>\n",
       "</table>\n",
       "</div>"
      ],
      "text/plain": [
       "         date group  visitors\n",
       "24 2019-08-25     A       621\n",
       "34 2019-08-04     B       770\n",
       "4  2019-08-05     A       756"
      ]
     },
     "execution_count": 64,
     "metadata": {},
     "output_type": "execute_result"
    }
   ],
   "source": [
    "visitors.sample(3)"
   ]
  },
  {
   "cell_type": "code",
   "execution_count": 65,
   "metadata": {},
   "outputs": [
    {
     "data": {
      "text/plain": [
       "B    640\n",
       "A    557\n",
       "Name: group, dtype: int64"
      ]
     },
     "execution_count": 65,
     "metadata": {},
     "output_type": "execute_result"
    }
   ],
   "source": [
    "#проверим распределение по группам в заказах\n",
    "orders['group'].value_counts()"
   ]
  },
  {
   "cell_type": "markdown",
   "metadata": {},
   "source": [
    "создадим датафрейм datesGroups с уникальными парами значений 'date' и 'group', таблицы orders. Удалим дубликаты методом drop_duplicates()."
   ]
  },
  {
   "cell_type": "code",
   "execution_count": 66,
   "metadata": {},
   "outputs": [
    {
     "data": {
      "text/html": [
       "<div>\n",
       "<style scoped>\n",
       "    .dataframe tbody tr th:only-of-type {\n",
       "        vertical-align: middle;\n",
       "    }\n",
       "\n",
       "    .dataframe tbody tr th {\n",
       "        vertical-align: top;\n",
       "    }\n",
       "\n",
       "    .dataframe thead th {\n",
       "        text-align: right;\n",
       "    }\n",
       "</style>\n",
       "<table border=\"1\" class=\"dataframe\">\n",
       "  <thead>\n",
       "    <tr style=\"text-align: right;\">\n",
       "      <th></th>\n",
       "      <th>date</th>\n",
       "      <th>group</th>\n",
       "    </tr>\n",
       "  </thead>\n",
       "  <tbody>\n",
       "    <tr>\n",
       "      <th>0</th>\n",
       "      <td>2019-08-15</td>\n",
       "      <td>B</td>\n",
       "    </tr>\n",
       "    <tr>\n",
       "      <th>2</th>\n",
       "      <td>2019-08-15</td>\n",
       "      <td>A</td>\n",
       "    </tr>\n",
       "    <tr>\n",
       "      <th>45</th>\n",
       "      <td>2019-08-16</td>\n",
       "      <td>A</td>\n",
       "    </tr>\n",
       "  </tbody>\n",
       "</table>\n",
       "</div>"
      ],
      "text/plain": [
       "         date group\n",
       "0  2019-08-15     B\n",
       "2  2019-08-15     A\n",
       "45 2019-08-16     A"
      ]
     },
     "execution_count": 66,
     "metadata": {},
     "output_type": "execute_result"
    }
   ],
   "source": [
    "datesGroups = orders[['date','group']].drop_duplicates()\n",
    "datesGroups.head(3)"
   ]
  },
  {
   "cell_type": "markdown",
   "metadata": {},
   "source": [
    "Создадим таблицу cumulativeData куммулятивных данных по обеим таблицам\n",
    "объявляем переменную ordersAggregated, содержащую:\n",
    "- дату;\n",
    "- группу A/B-теста;\n",
    "- число уникальных транзакций в группе теста по указанную дату включительно;\n",
    "- число уникальных пользователей, совершивших хотя бы 1 транзакцию в группе теста по указанную дату включительно;\n",
    "- суммарную выручку заказов в группе теста по указанную дату включительно\n",
    "\n",
    "и\n",
    "\n",
    "visitorsAggregated, содержащую:\n",
    "- дату;\n",
    "- группу A/B-теста;\n",
    "- количество уникальных посетителей в группе теста по указанную дату включительно."
   ]
  },
  {
   "cell_type": "code",
   "execution_count": 67,
   "metadata": {},
   "outputs": [],
   "source": [
    "# получаем агрегированные кумулятивные по дням данные о заказах \n",
    "ordersAggregated = datesGroups.apply(\n",
    "    lambda x: orders[np.logical_and(orders['date'] <= x['date'], orders['group'] == x['group'])].agg({\n",
    "'date' : 'max',\n",
    "'group' : 'max',\n",
    "'transactionId' : 'nunique',\n",
    "'visitorId' : 'nunique',\n",
    "'revenue' : 'sum'}), axis=1).sort_values(by=['date','group']) "
   ]
  },
  {
   "cell_type": "code",
   "execution_count": 68,
   "metadata": {},
   "outputs": [],
   "source": [
    "visitorsAggregated = datesGroups.apply(\n",
    "    lambda x: visitors[np.logical_and(visitors['date'] <= x['date'], visitors['group'] == x['group'])].agg({\n",
    "        'date' : 'max', 'group' : 'max', 'visitors' : 'sum'}), axis=1).sort_values(by=['date','group'])"
   ]
  },
  {
   "cell_type": "code",
   "execution_count": 69,
   "metadata": {},
   "outputs": [
    {
     "data": {
      "text/html": [
       "<div>\n",
       "<style scoped>\n",
       "    .dataframe tbody tr th:only-of-type {\n",
       "        vertical-align: middle;\n",
       "    }\n",
       "\n",
       "    .dataframe tbody tr th {\n",
       "        vertical-align: top;\n",
       "    }\n",
       "\n",
       "    .dataframe thead th {\n",
       "        text-align: right;\n",
       "    }\n",
       "</style>\n",
       "<table border=\"1\" class=\"dataframe\">\n",
       "  <thead>\n",
       "    <tr style=\"text-align: right;\">\n",
       "      <th></th>\n",
       "      <th>date</th>\n",
       "      <th>group</th>\n",
       "      <th>orders</th>\n",
       "      <th>buyers</th>\n",
       "      <th>revenue</th>\n",
       "      <th>visitors</th>\n",
       "    </tr>\n",
       "  </thead>\n",
       "  <tbody>\n",
       "    <tr>\n",
       "      <th>0</th>\n",
       "      <td>2019-08-01</td>\n",
       "      <td>A</td>\n",
       "      <td>24</td>\n",
       "      <td>20</td>\n",
       "      <td>148579</td>\n",
       "      <td>719</td>\n",
       "    </tr>\n",
       "    <tr>\n",
       "      <th>1</th>\n",
       "      <td>2019-08-01</td>\n",
       "      <td>B</td>\n",
       "      <td>21</td>\n",
       "      <td>20</td>\n",
       "      <td>101217</td>\n",
       "      <td>713</td>\n",
       "    </tr>\n",
       "    <tr>\n",
       "      <th>2</th>\n",
       "      <td>2019-08-02</td>\n",
       "      <td>A</td>\n",
       "      <td>44</td>\n",
       "      <td>38</td>\n",
       "      <td>242401</td>\n",
       "      <td>1338</td>\n",
       "    </tr>\n",
       "    <tr>\n",
       "      <th>3</th>\n",
       "      <td>2019-08-02</td>\n",
       "      <td>B</td>\n",
       "      <td>45</td>\n",
       "      <td>43</td>\n",
       "      <td>266748</td>\n",
       "      <td>1294</td>\n",
       "    </tr>\n",
       "    <tr>\n",
       "      <th>4</th>\n",
       "      <td>2019-08-03</td>\n",
       "      <td>A</td>\n",
       "      <td>68</td>\n",
       "      <td>62</td>\n",
       "      <td>354874</td>\n",
       "      <td>1845</td>\n",
       "    </tr>\n",
       "  </tbody>\n",
       "</table>\n",
       "</div>"
      ],
      "text/plain": [
       "        date group  orders  buyers  revenue  visitors\n",
       "0 2019-08-01     A      24      20   148579       719\n",
       "1 2019-08-01     B      21      20   101217       713\n",
       "2 2019-08-02     A      44      38   242401      1338\n",
       "3 2019-08-02     B      45      43   266748      1294\n",
       "4 2019-08-03     A      68      62   354874      1845"
      ]
     },
     "execution_count": 69,
     "metadata": {},
     "output_type": "execute_result"
    }
   ],
   "source": [
    "cumulativeData = ordersAggregated.merge(visitorsAggregated, left_on=['date', 'group'], right_on=['date', 'group'])\n",
    "cumulativeData.columns = ['date', 'group', 'orders', 'buyers', 'revenue', 'visitors']\n",
    "cumulativeData.head(5)"
   ]
  },
  {
   "cell_type": "code",
   "execution_count": 70,
   "metadata": {},
   "outputs": [
    {
     "data": {
      "text/plain": [
       "group\n",
       "A    112473\n",
       "B    147274\n",
       "Name: revenue, dtype: int64"
      ]
     },
     "execution_count": 70,
     "metadata": {},
     "output_type": "execute_result"
    }
   ],
   "source": [
    "orders.groupby(['date','group'])['revenue'].sum().groupby('group').median()\n",
    "#средняя выручка за день в каждой группе"
   ]
  },
  {
   "cell_type": "code",
   "execution_count": 71,
   "metadata": {},
   "outputs": [
    {
     "data": {
      "text/plain": [
       "group\n",
       "A    2078908\n",
       "B    2539635\n",
       "Name: revenue, dtype: int64"
      ]
     },
     "execution_count": 71,
     "metadata": {},
     "output_type": "execute_result"
    }
   ],
   "source": [
    "cumulativeData.groupby(['date','group'])['revenue'].sum().groupby('group').median()"
   ]
  },
  {
   "cell_type": "markdown",
   "metadata": {},
   "source": [
    "Объявим переменные cumulativeRevenueA и cumulativeRevenueB, в которых сохраните данные о датах, выручке и числе заказов в группах A и B.\n",
    "Далее построим графики кумулятивной выручки по дням по группам."
   ]
  },
  {
   "cell_type": "code",
   "execution_count": 72,
   "metadata": {},
   "outputs": [
    {
     "name": "stderr",
     "output_type": "stream",
     "text": [
      "/tmp/ipykernel_36/3594970917.py:9: FutureWarning: The pandas.datetime class is deprecated and will be removed from pandas in a future version. Import from datetime module instead.\n",
      "  plt.annotate('скачок', xy=((pd.datetime(2019,8,17)), 2800000), xytext=((pd.datetime(2019,8,17)), 3500000),\n",
      "/tmp/ipykernel_36/3594970917.py:11: FutureWarning: The pandas.datetime class is deprecated and will be removed from pandas in a future version. Import from datetime module instead.\n",
      "  plt.annotate('отрыв', xy=((pd.datetime(2019,8,5)), 800000), xytext=((pd.datetime(2019,8,17)), 2000000),\n"
     ]
    },
    {
     "data": {
      "image/png": "[encoded data removed]",
      "text/plain": [
       "<Figure size 720x360 with 1 Axes>"
      ]
     },
     "metadata": {
      "needs_background": "light"
     },
     "output_type": "display_data"
    }
   ],
   "source": [
    "cumulativeRevenueA = cumulativeData[cumulativeData['group']=='A'][['date','revenue', 'orders']]\n",
    "cumulativeRevenueB = cumulativeData[cumulativeData['group']=='B'][['date','revenue', 'orders']]\n",
    "# Строим график выручки группы А\n",
    "plt.figure(figsize=(10,5))\n",
    "plt.plot(cumulativeRevenueA['date'], cumulativeRevenueA['revenue'], label='A')\n",
    " \n",
    "# Строим график выручки группы B\n",
    "plt.plot(cumulativeRevenueB['date'], cumulativeRevenueB['revenue'], label='B')\n",
    "plt.annotate('скачок', xy=((pd.datetime(2019,8,17)), 2800000), xytext=((pd.datetime(2019,8,17)), 3500000),\n",
    "            arrowprops=dict(facecolor='g'))\n",
    "plt.annotate('отрыв', xy=((pd.datetime(2019,8,5)), 800000), xytext=((pd.datetime(2019,8,17)), 2000000),\n",
    "            arrowprops=dict(facecolor='g')) \n",
    "plt.xlabel('Дата')\n",
    "plt.ylabel('Выручка')\n",
    "plt.title(f'График кумулятивной выручки по группам')\n",
    "plt.show()"
   ]
  },
  {
   "cell_type": "markdown",
   "metadata": {},
   "source": [
    "##### комментарий: \n",
    "по графику видно, что в первую половину срока после теста выручка в группе В чуть больше, 13 августа данные сравнялись, далее значения в группе B стали еще выше за счет всплеска, связано это может быть с кол-вм заказов или чеком, который как раньше посмотрели в группе B выше."
   ]
  },
  {
   "cell_type": "markdown",
   "metadata": {},
   "source": [
    "<div class=\"alert alert-block alert-warning\">\n",
    "    \n",
    "\n",
    "__Комментарий __\n",
    "\n",
    "На график можно добавлять аннотации для наглядности через такой код:  \n",
    "<code>plt.annotate('скачок', xy=('2019-08-17', 2800000), xytext=('2019-08-10', 3500000),\n",
    "            arrowprops=dict(facecolor='g'))\n",
    "plt.annotate('отрыв', xy=('2019-08-05', 800000), xytext=('2019-08-05', 2000000),\n",
    "            arrowprops=dict(facecolor='g')) </code>\n",
    "</div>"
   ]
  },
  {
   "cell_type": "code",
   "execution_count": 73,
   "metadata": {},
   "outputs": [
    {
     "data": {
      "image/png": "[encoded data removed]",
      "text/plain": [
       "<Figure size 720x360 with 1 Axes>"
      ]
     },
     "metadata": {
      "needs_background": "light"
     },
     "output_type": "display_data"
    }
   ],
   "source": [
    "#графики кумулятивного среднего чека по дням\n",
    "plt.figure(figsize=(10,5))\n",
    "plt.plot(cumulativeRevenueA['date'], cumulativeRevenueA['revenue']/cumulativeRevenueA['orders'], label='A')\n",
    "plt.plot(cumulativeRevenueB['date'], cumulativeRevenueB['revenue']/cumulativeRevenueB['orders'], label='B')\n",
    "plt.title('График кумулятивного среднего чека по дням')\n",
    "plt.xlabel('Дата')\n",
    "plt.ylabel('Средний чек')\n",
    "plt.legend()\n",
    "plt.show()"
   ]
  },
  {
   "cell_type": "markdown",
   "metadata": {},
   "source": [
    "##### комментарий: \n",
    "по графику среднего чека видно, что средний чек группы В был выше всегда, кроме 13 августа (когда произошла крупная покупка в группе А, что позволило сравняться графикам в выручке), далее в группе В средний чек значительно был увеличен"
   ]
  },
  {
   "cell_type": "code",
   "execution_count": 74,
   "metadata": {},
   "outputs": [
    {
     "data": {
      "image/png": "[encoded data removed]",
      "text/plain": [
       "<Figure size 432x288 with 1 Axes>"
      ]
     },
     "metadata": {
      "needs_background": "light"
     },
     "output_type": "display_data"
    }
   ],
   "source": [
    "#хочу посмотреть что за скачок среднего чека\n",
    "plotdata = cumulativeRevenueB.query('\"2019-08-13\" < date < \"2019-08-26\"').boxplot('revenue')\n",
    "plt.title('Кумулятивная выручка B после увеличения', fontsize=12)\n",
    "plt.xlabel('выручка', fontsize=12)\n",
    "plt.show()"
   ]
  },
  {
   "cell_type": "code",
   "execution_count": 75,
   "metadata": {},
   "outputs": [
    {
     "data": {
      "image/png": "[encoded data removed]",
      "text/plain": [
       "<Figure size 432x288 with 1 Axes>"
      ]
     },
     "metadata": {
      "needs_background": "light"
     },
     "output_type": "display_data"
    }
   ],
   "source": [
    "plotdata1 = cumulativeRevenueB.boxplot('revenue')\n",
    "plt.title('Кумулятивная выручка B общая', fontsize=12)\n",
    "plt.xlabel('Выручка', fontsize=12)\n",
    "plt.show()"
   ]
  },
  {
   "cell_type": "code",
   "execution_count": 76,
   "metadata": {},
   "outputs": [
    {
     "data": {
      "image/png": "[encoded data removed]",
      "text/plain": [
       "<Figure size 720x360 with 1 Axes>"
      ]
     },
     "metadata": {
      "needs_background": "light"
     },
     "output_type": "display_data"
    }
   ],
   "source": [
    "orders1 = orders.query('\"2019-08-01\" < date < \"2019-08-31\"')\n",
    "orders2 = orders1.query('199000 < revenue < 2000000')\n",
    "fig = plt.figure(figsize=(10,5))\n",
    "ax = fig.add_subplot()\n",
    "plt.title('Стоимость заказов ',fontsize=12)\n",
    "sns.barplot(data=orders2, x='date', y='revenue')\n",
    "\n",
    "plt.xlabel('Дата',fontsize=9)\n",
    "plt.ylabel('Распредение',fontsize=9)\n",
    "plt.show()"
   ]
  },
  {
   "cell_type": "code",
   "execution_count": 77,
   "metadata": {},
   "outputs": [
    {
     "data": {
      "text/plain": [
       "Text(0.5, 0, 'Выручка')"
      ]
     },
     "execution_count": 77,
     "metadata": {},
     "output_type": "execute_result"
    },
    {
     "data": {
      "image/png": "[encoded data removed]",
      "text/plain": [
       "<Figure size 432x288 with 1 Axes>"
      ]
     },
     "metadata": {
      "needs_background": "light"
     },
     "output_type": "display_data"
    }
   ],
   "source": [
    "orders1.boxplot('revenue')\n",
    "plt.title('Стоимость заказов', fontsize=12)\n",
    "plt.xlabel('Выручка', fontsize=12)\n",
    "#видимо с этим связан всплеск, но непонятно пока"
   ]
  },
  {
   "cell_type": "code",
   "execution_count": 78,
   "metadata": {},
   "outputs": [
    {
     "data": {
      "text/html": [
       "<div>\n",
       "<style scoped>\n",
       "    .dataframe tbody tr th:only-of-type {\n",
       "        vertical-align: middle;\n",
       "    }\n",
       "\n",
       "    .dataframe tbody tr th {\n",
       "        vertical-align: top;\n",
       "    }\n",
       "\n",
       "    .dataframe thead th {\n",
       "        text-align: right;\n",
       "    }\n",
       "</style>\n",
       "<table border=\"1\" class=\"dataframe\">\n",
       "  <thead>\n",
       "    <tr style=\"text-align: right;\">\n",
       "      <th></th>\n",
       "      <th>date</th>\n",
       "      <th>revenue</th>\n",
       "      <th>orders</th>\n",
       "    </tr>\n",
       "  </thead>\n",
       "  <tbody>\n",
       "    <tr>\n",
       "      <th>33</th>\n",
       "      <td>2019-08-17</td>\n",
       "      <td>2620790</td>\n",
       "      <td>373</td>\n",
       "    </tr>\n",
       "    <tr>\n",
       "      <th>35</th>\n",
       "      <td>2019-08-18</td>\n",
       "      <td>2686621</td>\n",
       "      <td>382</td>\n",
       "    </tr>\n",
       "    <tr>\n",
       "      <th>37</th>\n",
       "      <td>2019-08-19</td>\n",
       "      <td>4116541</td>\n",
       "      <td>403</td>\n",
       "    </tr>\n",
       "    <tr>\n",
       "      <th>39</th>\n",
       "      <td>2019-08-20</td>\n",
       "      <td>4263815</td>\n",
       "      <td>423</td>\n",
       "    </tr>\n",
       "    <tr>\n",
       "      <th>41</th>\n",
       "      <td>2019-08-21</td>\n",
       "      <td>4426892</td>\n",
       "      <td>437</td>\n",
       "    </tr>\n",
       "  </tbody>\n",
       "</table>\n",
       "</div>"
      ],
      "text/plain": [
       "         date  revenue  orders\n",
       "33 2019-08-17  2620790     373\n",
       "35 2019-08-18  2686621     382\n",
       "37 2019-08-19  4116541     403\n",
       "39 2019-08-20  4263815     423\n",
       "41 2019-08-21  4426892     437"
      ]
     },
     "execution_count": 78,
     "metadata": {},
     "output_type": "execute_result"
    }
   ],
   "source": [
    "cumulativeRevenueB.query(' \"2019-08-17\" <= date <= \"2019-08-21\" ')"
   ]
  },
  {
   "cell_type": "markdown",
   "metadata": {},
   "source": [
    "еще раз убедилась, что выручка с 19 числа стала больше, как и количество заказов,  тест показал явный успех группы B, но выше обнаружены 2 заказа на большие суммы, которые также могли повлиять на анализ"
   ]
  },
  {
   "cell_type": "markdown",
   "metadata": {},
   "source": [
    "Построим график относительного изменения кумулятивного среднего чека группы B к группе A"
   ]
  },
  {
   "cell_type": "code",
   "execution_count": 79,
   "metadata": {},
   "outputs": [
    {
     "data": {
      "image/png": "[encoded data removed]",
      "text/plain": [
       "<Figure size 1080x360 with 1 Axes>"
      ]
     },
     "metadata": {
      "needs_background": "light"
     },
     "output_type": "display_data"
    }
   ],
   "source": [
    "# собираем данные в одном датафрейме\n",
    "mergedCumulativeRevenue = cumulativeRevenueA.merge(cumulativeRevenueB, left_on = 'date', right_on ='date', how='left', suffixes=['A', 'B'])\n",
    "# cтроим отношение средних чеков\n",
    "plt.figure(figsize=(15,5))\n",
    "plt.plot(mergedCumulativeRevenue['date'], (mergedCumulativeRevenue['revenueB']/mergedCumulativeRevenue['ordersB'])/(mergedCumulativeRevenue['revenueA']/mergedCumulativeRevenue['ordersA'])-1)\n",
    "plt.title('Относительное изменение кумулятивного среднего чека групп \"B\" к \"А\"')\n",
    "plt.xlabel ('Дата')\n",
    "# добавляем ось X\n",
    "plt.axhline(y=0, color='black', linestyle='--') \n",
    "plt.show()"
   ]
  },
  {
   "cell_type": "markdown",
   "metadata": {},
   "source": [
    "##### комментарий: \n",
    "график относительного изменения показал тоже самое, что и график среднего чека, поэтому выводы не поменялись"
   ]
  },
  {
   "cell_type": "markdown",
   "metadata": {},
   "source": [
    "### Задача 2\n",
    "\n",
    "- Постройте график кумулятивной конверсии по группам. Сделайте выводы и предположения. \n",
    "- Постройте график относительного изменения кумулятивной конверсии группы B к группе A. Сделайте выводы и предположения."
   ]
  },
  {
   "cell_type": "code",
   "execution_count": 80,
   "metadata": {},
   "outputs": [
    {
     "data": {
      "image/png": "[encoded data removed]",
      "text/plain": [
       "<Figure size 1080x360 with 1 Axes>"
      ]
     },
     "metadata": {
      "needs_background": "light"
     },
     "output_type": "display_data"
    }
   ],
   "source": [
    "#Добим столбец 'conversion' c отношением числа заказов к количеству пользователей в указанной группе в указанный день.\n",
    "#Сделаем переменные, в которых  данные о заказах в сегментах A и B.\n",
    "cumulativeData['conversion'] = cumulativeData['orders']/cumulativeData['visitors']\n",
    "# отделяем данные по группе A и B\n",
    "cumulativeDataA = cumulativeData[cumulativeData['group']=='A']\n",
    "cumulativeDataB = cumulativeData[cumulativeData['group']=='B']\n",
    "# строим графики\n",
    "plt.figure(figsize=(15,5))\n",
    "plt.plot(cumulativeDataA['date'], cumulativeDataA['conversion'], label='A')\n",
    "plt.plot(cumulativeDataB['date'], cumulativeDataB['conversion'], label='B')\n",
    "plt.title('Кумулятивная конверсия')\n",
    "\n",
    "plt.grid()\n",
    "plt.legend()\n",
    "plt.xlabel ('Дата')\n",
    "# задаем масштаб осей\n",
    "plt.axis([dt.datetime(2019, 8, 1), dt.datetime(2019, 8, 31), 0.028, 0.04])\n",
    "plt.show()\n"
   ]
  },
  {
   "cell_type": "markdown",
   "metadata": {},
   "source": [
    "##### комментарий: \n",
    "С начала месяца конверсия конверсия группы А была  больше,   после пика (3 августа) она пошла на спад, с  9 августа равномерно ниже группы В. Конверсия группы B с 4 августа пошла расти и уже 6 августа превысила конверсию A, затем пошло постепенное снижение, оставаяся при этом лучше, чем в группе А. Итого конверсия группы B лучше."
   ]
  },
  {
   "cell_type": "code",
   "execution_count": 81,
   "metadata": {},
   "outputs": [
    {
     "data": {
      "image/png": "[encoded data removed]",
      "text/plain": [
       "<Figure size 1080x360 with 1 Axes>"
      ]
     },
     "metadata": {
      "needs_background": "light"
     },
     "output_type": "display_data"
    }
   ],
   "source": [
    "\n",
    "mergedCumulativeConversions = cumulativeDataA[['date','conversion']].merge(cumulativeDataB[['date','conversion']], left_on='date', right_on='date', how='left', suffixes=['A', 'B'])\n",
    "\n",
    "#график относительного различия конверсии\n",
    "plt.figure(figsize=(15,5))\n",
    "plt.plot(mergedCumulativeConversions['date'], mergedCumulativeConversions['conversionB']/mergedCumulativeConversions['conversionA']-1, label=\"Относительный прирост конверсии группы B относительно группы A\")\n",
    "plt.title('Относительное изменение конверсии группы B к А')\n",
    "\n",
    "plt.xlabel ('Дата')\n",
    "plt.axhline(y=0, color='black', linestyle='--')\n",
    "plt.axhline(y=0.2, color='grey', linestyle='--')\n",
    "plt.show()\n"
   ]
  },
  {
   "cell_type": "markdown",
   "metadata": {},
   "source": [
    "Максимальная конверсия B росла c 6 августа до 15 августа и разница с \"A\"  составила около 20%, затем пошло постепенное снижение отностельной конверсии до 10%-12%."
   ]
  },
  {
   "cell_type": "markdown",
   "metadata": {},
   "source": [
    "### Задача 3 - проверка аномалий\n",
    "\n",
    "- Постройте точечный график количества заказов по пользователям. Сделайте выводы и предположения.\n",
    "- Посчитайте 95-й и 99-й перцентили количества заказов на пользователя. Выберите границу для определения аномальных пользователей."
   ]
  },
  {
   "cell_type": "code",
   "execution_count": 82,
   "metadata": {},
   "outputs": [
    {
     "data": {
      "text/html": [
       "<div>\n",
       "<style scoped>\n",
       "    .dataframe tbody tr th:only-of-type {\n",
       "        vertical-align: middle;\n",
       "    }\n",
       "\n",
       "    .dataframe tbody tr th {\n",
       "        vertical-align: top;\n",
       "    }\n",
       "\n",
       "    .dataframe thead th {\n",
       "        text-align: right;\n",
       "    }\n",
       "</style>\n",
       "<table border=\"1\" class=\"dataframe\">\n",
       "  <thead>\n",
       "    <tr style=\"text-align: right;\">\n",
       "      <th></th>\n",
       "      <th>userId</th>\n",
       "      <th>orders</th>\n",
       "    </tr>\n",
       "  </thead>\n",
       "  <tbody>\n",
       "    <tr>\n",
       "      <th>1023</th>\n",
       "      <td>4256040402</td>\n",
       "      <td>11</td>\n",
       "    </tr>\n",
       "    <tr>\n",
       "      <th>591</th>\n",
       "      <td>2458001652</td>\n",
       "      <td>11</td>\n",
       "    </tr>\n",
       "    <tr>\n",
       "      <th>569</th>\n",
       "      <td>2378935119</td>\n",
       "      <td>9</td>\n",
       "    </tr>\n",
       "    <tr>\n",
       "      <th>487</th>\n",
       "      <td>2038680547</td>\n",
       "      <td>8</td>\n",
       "    </tr>\n",
       "    <tr>\n",
       "      <th>44</th>\n",
       "      <td>199603092</td>\n",
       "      <td>5</td>\n",
       "    </tr>\n",
       "    <tr>\n",
       "      <th>...</th>\n",
       "      <td>...</td>\n",
       "      <td>...</td>\n",
       "    </tr>\n",
       "    <tr>\n",
       "      <th>359</th>\n",
       "      <td>1484903144</td>\n",
       "      <td>1</td>\n",
       "    </tr>\n",
       "    <tr>\n",
       "      <th>360</th>\n",
       "      <td>1485964287</td>\n",
       "      <td>1</td>\n",
       "    </tr>\n",
       "    <tr>\n",
       "      <th>361</th>\n",
       "      <td>1494664757</td>\n",
       "      <td>1</td>\n",
       "    </tr>\n",
       "    <tr>\n",
       "      <th>362</th>\n",
       "      <td>1495112755</td>\n",
       "      <td>1</td>\n",
       "    </tr>\n",
       "    <tr>\n",
       "      <th>1030</th>\n",
       "      <td>4283872382</td>\n",
       "      <td>1</td>\n",
       "    </tr>\n",
       "  </tbody>\n",
       "</table>\n",
       "<p>1031 rows × 2 columns</p>\n",
       "</div>"
      ],
      "text/plain": [
       "          userId  orders\n",
       "1023  4256040402      11\n",
       "591   2458001652      11\n",
       "569   2378935119       9\n",
       "487   2038680547       8\n",
       "44     199603092       5\n",
       "...          ...     ...\n",
       "359   1484903144       1\n",
       "360   1485964287       1\n",
       "361   1494664757       1\n",
       "362   1495112755       1\n",
       "1030  4283872382       1\n",
       "\n",
       "[1031 rows x 2 columns]"
      ]
     },
     "execution_count": 82,
     "metadata": {},
     "output_type": "execute_result"
    }
   ],
   "source": [
    "ordersByUsers = orders.drop(['revenue', 'date', 'group'], axis=1).groupby('visitorId', as_index=False).agg({'transactionId': pd.Series.nunique})\n",
    "ordersByUsers.columns = ['userId', 'orders']\n",
    "ordersByUsers.sort_values(by='orders', ascending = False)"
   ]
  },
  {
   "cell_type": "code",
   "execution_count": 83,
   "metadata": {},
   "outputs": [
    {
     "data": {
      "text/plain": [
       "Text(0.5, 0, 'Пользователи')"
      ]
     },
     "execution_count": 83,
     "metadata": {},
     "output_type": "execute_result"
    },
    {
     "data": {
      "image/png": "[encoded data removed]",
      "text/plain": [
       "<Figure size 432x288 with 1 Axes>"
      ]
     },
     "metadata": {
      "needs_background": "light"
     },
     "output_type": "display_data"
    }
   ],
   "source": [
    "## гистограмма распределения числа заказов по пользователям методом hist()\n",
    "ordersByUsers['orders'].hist(bins=50)\n",
    "plt.ylabel('Заказы',fontsize=9)\n",
    "plt.xlabel('Пользователи',fontsize=9)"
   ]
  },
  {
   "cell_type": "code",
   "execution_count": 84,
   "metadata": {
    "scrolled": true
   },
   "outputs": [
    {
     "data": {
      "image/png": "[encoded data removed]",
      "text/plain": [
       "<Figure size 432x288 with 1 Axes>"
      ]
     },
     "metadata": {
      "needs_background": "light"
     },
     "output_type": "display_data"
    }
   ],
   "source": [
    "#точечный график\n",
    "x_values = pd.Series(range(0, len(ordersByUsers)))\n",
    "plt.scatter(x_values, ordersByUsers['orders'], alpha = 0.5) \n",
    "plt.title('График количества заказов по пользователям')\n",
    "plt.xlabel ('Пользователи')\n",
    "plt.ylabel ('Заказы')\n",
    "plt.show()"
   ]
  },
  {
   "cell_type": "code",
   "execution_count": 85,
   "metadata": {},
   "outputs": [
    {
     "name": "stdout",
     "output_type": "stream",
     "text": [
      "95 и 99 перцентили по заказам :  [2. 4.]\n"
     ]
    }
   ],
   "source": [
    "print('95 и 99 перцентили по заказам : ', np.percentile(ordersByUsers['orders'], [ 95, 99]))"
   ]
  },
  {
   "cell_type": "markdown",
   "metadata": {},
   "source": [
    "##### комментарий: \n",
    "В основном у пользователей по 1 заказу, достаточно тех кто делает 2. Тех кто совершил 4 и более (есть те кто более 10) очень мало, после расчета перцентилей уточнили, что не более 1% заказов больше 4-х (можно принять за выбросы)"
   ]
  },
  {
   "cell_type": "markdown",
   "metadata": {},
   "source": [
    "### Задача 4 - проверка аномалий \n",
    "- Постройте точечный график стоимостей заказов. Сделайте выводы и предположения.\n",
    "- Посчитайте 95-й и 99-й перцентили стоимости заказов. Выберите границу для определения аномальных заказов.\n",
    "- Посчитайте статистическую значимость различий в конверсии между группами по «сырым» данным. Сделайте выводы и предположения."
   ]
  },
  {
   "cell_type": "code",
   "execution_count": 97,
   "metadata": {},
   "outputs": [
    {
     "data": {
      "image/png": "[encoded data removed]",
      "text/plain": [
       "<Figure size 720x360 with 1 Axes>"
      ]
     },
     "metadata": {
      "needs_background": "light"
     },
     "output_type": "display_data"
    }
   ],
   "source": [
    "x_values = pd.Series(range(0,len(orders['revenue'])))\n",
    "plt.figure(figsize=(10,5))\n",
    "plt.title('График стоимостей заказов')\n",
    "plt.scatter(x_values, orders['revenue'], alpha=0.5);\n",
    "plt.xlabel ('Заказ')\n",
    "plt.ylabel ('Стоимость заказа, млн')\n",
    "plt.show()"
   ]
  },
  {
   "cell_type": "code",
   "execution_count": 87,
   "metadata": {},
   "outputs": [
    {
     "name": "stdout",
     "output_type": "stream",
     "text": [
      "95 и 99 перцентили по заказам :  [28000.  58233.2]\n"
     ]
    }
   ],
   "source": [
    "print('95 и 99 перцентили по заказам : ', np.percentile(orders['revenue'], [ 95, 99]))"
   ]
  },
  {
   "cell_type": "markdown",
   "metadata": {},
   "source": [
    "##### комментарий: \n",
    "Один заказ > 1,2 млн (это тот всплеск, что ранее был виден на графике чека), еще один заказ на 200 млн. Остальные заказы более равномерно распределены по стоимости, не более 1% более 58 233, поэтому все что выше будем считать аномалией."
   ]
  },
  {
   "cell_type": "markdown",
   "metadata": {},
   "source": [
    "###  Задача 5 \n",
    "- Посчитайте статистическую значимость различий в конверсии между группами по «сырым» данным.\n",
    "- Посчитайте статистическую значимость различий в среднем чеке заказа между группами по «сырым» данным. Сделайте выводы и предположения."
   ]
  },
  {
   "cell_type": "code",
   "execution_count": 88,
   "metadata": {},
   "outputs": [
    {
     "data": {
      "text/html": [
       "<div>\n",
       "<style scoped>\n",
       "    .dataframe tbody tr th:only-of-type {\n",
       "        vertical-align: middle;\n",
       "    }\n",
       "\n",
       "    .dataframe tbody tr th {\n",
       "        vertical-align: top;\n",
       "    }\n",
       "\n",
       "    .dataframe thead th {\n",
       "        text-align: right;\n",
       "    }\n",
       "</style>\n",
       "<table border=\"1\" class=\"dataframe\">\n",
       "  <thead>\n",
       "    <tr style=\"text-align: right;\">\n",
       "      <th></th>\n",
       "      <th>date</th>\n",
       "      <th>ordersPerDateA</th>\n",
       "      <th>revenuePerDateA</th>\n",
       "      <th>ordersPerDateB</th>\n",
       "      <th>revenuePerDateB</th>\n",
       "      <th>ordersCummulativeA</th>\n",
       "      <th>revenueCummulativeA</th>\n",
       "      <th>ordersCummulativeB</th>\n",
       "      <th>revenueCummulativeB</th>\n",
       "      <th>visitorsPerDateA</th>\n",
       "      <th>visitorsPerDateB</th>\n",
       "      <th>visitorsCummulativeA</th>\n",
       "      <th>visitorsCummulativeB</th>\n",
       "    </tr>\n",
       "  </thead>\n",
       "  <tbody>\n",
       "    <tr>\n",
       "      <th>0</th>\n",
       "      <td>2019-08-01</td>\n",
       "      <td>24</td>\n",
       "      <td>148579</td>\n",
       "      <td>21</td>\n",
       "      <td>101217</td>\n",
       "      <td>24</td>\n",
       "      <td>148579</td>\n",
       "      <td>21</td>\n",
       "      <td>101217</td>\n",
       "      <td>719</td>\n",
       "      <td>713</td>\n",
       "      <td>719</td>\n",
       "      <td>713</td>\n",
       "    </tr>\n",
       "    <tr>\n",
       "      <th>1</th>\n",
       "      <td>2019-08-02</td>\n",
       "      <td>20</td>\n",
       "      <td>93822</td>\n",
       "      <td>24</td>\n",
       "      <td>165531</td>\n",
       "      <td>44</td>\n",
       "      <td>242401</td>\n",
       "      <td>45</td>\n",
       "      <td>266748</td>\n",
       "      <td>619</td>\n",
       "      <td>581</td>\n",
       "      <td>1338</td>\n",
       "      <td>1294</td>\n",
       "    </tr>\n",
       "    <tr>\n",
       "      <th>2</th>\n",
       "      <td>2019-08-03</td>\n",
       "      <td>24</td>\n",
       "      <td>112473</td>\n",
       "      <td>16</td>\n",
       "      <td>114248</td>\n",
       "      <td>68</td>\n",
       "      <td>354874</td>\n",
       "      <td>61</td>\n",
       "      <td>380996</td>\n",
       "      <td>507</td>\n",
       "      <td>509</td>\n",
       "      <td>1845</td>\n",
       "      <td>1803</td>\n",
       "    </tr>\n",
       "    <tr>\n",
       "      <th>3</th>\n",
       "      <td>2019-08-04</td>\n",
       "      <td>16</td>\n",
       "      <td>70825</td>\n",
       "      <td>17</td>\n",
       "      <td>108571</td>\n",
       "      <td>84</td>\n",
       "      <td>425699</td>\n",
       "      <td>78</td>\n",
       "      <td>489567</td>\n",
       "      <td>717</td>\n",
       "      <td>770</td>\n",
       "      <td>2562</td>\n",
       "      <td>2573</td>\n",
       "    </tr>\n",
       "    <tr>\n",
       "      <th>4</th>\n",
       "      <td>2019-08-05</td>\n",
       "      <td>25</td>\n",
       "      <td>124218</td>\n",
       "      <td>23</td>\n",
       "      <td>92428</td>\n",
       "      <td>109</td>\n",
       "      <td>549917</td>\n",
       "      <td>101</td>\n",
       "      <td>581995</td>\n",
       "      <td>756</td>\n",
       "      <td>707</td>\n",
       "      <td>3318</td>\n",
       "      <td>3280</td>\n",
       "    </tr>\n",
       "    <tr>\n",
       "      <th>5</th>\n",
       "      <td>2019-08-06</td>\n",
       "      <td>18</td>\n",
       "      <td>48484</td>\n",
       "      <td>28</td>\n",
       "      <td>242342</td>\n",
       "      <td>127</td>\n",
       "      <td>598401</td>\n",
       "      <td>129</td>\n",
       "      <td>824337</td>\n",
       "      <td>667</td>\n",
       "      <td>655</td>\n",
       "      <td>3985</td>\n",
       "      <td>3935</td>\n",
       "    </tr>\n",
       "    <tr>\n",
       "      <th>6</th>\n",
       "      <td>2019-08-07</td>\n",
       "      <td>18</td>\n",
       "      <td>142417</td>\n",
       "      <td>24</td>\n",
       "      <td>225334</td>\n",
       "      <td>145</td>\n",
       "      <td>740818</td>\n",
       "      <td>153</td>\n",
       "      <td>1049671</td>\n",
       "      <td>644</td>\n",
       "      <td>709</td>\n",
       "      <td>4629</td>\n",
       "      <td>4644</td>\n",
       "    </tr>\n",
       "    <tr>\n",
       "      <th>7</th>\n",
       "      <td>2019-08-08</td>\n",
       "      <td>16</td>\n",
       "      <td>96279</td>\n",
       "      <td>27</td>\n",
       "      <td>220918</td>\n",
       "      <td>161</td>\n",
       "      <td>837097</td>\n",
       "      <td>180</td>\n",
       "      <td>1270589</td>\n",
       "      <td>610</td>\n",
       "      <td>654</td>\n",
       "      <td>5239</td>\n",
       "      <td>5298</td>\n",
       "    </tr>\n",
       "    <tr>\n",
       "      <th>8</th>\n",
       "      <td>2019-08-09</td>\n",
       "      <td>16</td>\n",
       "      <td>188506</td>\n",
       "      <td>25</td>\n",
       "      <td>160812</td>\n",
       "      <td>177</td>\n",
       "      <td>1025603</td>\n",
       "      <td>205</td>\n",
       "      <td>1431401</td>\n",
       "      <td>617</td>\n",
       "      <td>610</td>\n",
       "      <td>5856</td>\n",
       "      <td>5908</td>\n",
       "    </tr>\n",
       "    <tr>\n",
       "      <th>9</th>\n",
       "      <td>2019-08-10</td>\n",
       "      <td>16</td>\n",
       "      <td>210495</td>\n",
       "      <td>23</td>\n",
       "      <td>107802</td>\n",
       "      <td>193</td>\n",
       "      <td>1236098</td>\n",
       "      <td>228</td>\n",
       "      <td>1539203</td>\n",
       "      <td>406</td>\n",
       "      <td>369</td>\n",
       "      <td>6262</td>\n",
       "      <td>6277</td>\n",
       "    </tr>\n",
       "  </tbody>\n",
       "</table>\n",
       "</div>"
      ],
      "text/plain": [
       "        date  ordersPerDateA  revenuePerDateA  ordersPerDateB  \\\n",
       "0 2019-08-01              24           148579              21   \n",
       "1 2019-08-02              20            93822              24   \n",
       "2 2019-08-03              24           112473              16   \n",
       "3 2019-08-04              16            70825              17   \n",
       "4 2019-08-05              25           124218              23   \n",
       "5 2019-08-06              18            48484              28   \n",
       "6 2019-08-07              18           142417              24   \n",
       "7 2019-08-08              16            96279              27   \n",
       "8 2019-08-09              16           188506              25   \n",
       "9 2019-08-10              16           210495              23   \n",
       "\n",
       "   revenuePerDateB  ordersCummulativeA  revenueCummulativeA  \\\n",
       "0           101217                  24               148579   \n",
       "1           165531                  44               242401   \n",
       "2           114248                  68               354874   \n",
       "3           108571                  84               425699   \n",
       "4            92428                 109               549917   \n",
       "5           242342                 127               598401   \n",
       "6           225334                 145               740818   \n",
       "7           220918                 161               837097   \n",
       "8           160812                 177              1025603   \n",
       "9           107802                 193              1236098   \n",
       "\n",
       "   ordersCummulativeB  revenueCummulativeB  visitorsPerDateA  \\\n",
       "0                  21               101217               719   \n",
       "1                  45               266748               619   \n",
       "2                  61               380996               507   \n",
       "3                  78               489567               717   \n",
       "4                 101               581995               756   \n",
       "5                 129               824337               667   \n",
       "6                 153              1049671               644   \n",
       "7                 180              1270589               610   \n",
       "8                 205              1431401               617   \n",
       "9                 228              1539203               406   \n",
       "\n",
       "   visitorsPerDateB  visitorsCummulativeA  visitorsCummulativeB  \n",
       "0               713                   719                   713  \n",
       "1               581                  1338                  1294  \n",
       "2               509                  1845                  1803  \n",
       "3               770                  2562                  2573  \n",
       "4               707                  3318                  3280  \n",
       "5               655                  3985                  3935  \n",
       "6               709                  4629                  4644  \n",
       "7               654                  5239                  5298  \n",
       "8               610                  5856                  5908  \n",
       "9               369                  6262                  6277  "
      ]
     },
     "execution_count": 88,
     "metadata": {},
     "output_type": "execute_result"
    }
   ],
   "source": [
    "visitorsADaily = visitors[visitors['group'] == 'A'][['date', 'visitors']]\n",
    "visitorsADaily.columns = ['date', 'visitorsPerDateA']\n",
    "\n",
    "visitorsACummulative = visitorsADaily.apply(\n",
    "    lambda x: visitorsADaily[visitorsADaily['date'] <= x['date']].agg(\n",
    "        {'date': 'max', 'visitorsPerDateA': 'sum'}\n",
    "    ),\n",
    "    axis=1,\n",
    ")\n",
    "visitorsACummulative.columns = ['date', 'visitorsCummulativeA']\n",
    "\n",
    "visitorsBDaily = visitors[visitors['group'] == 'B'][['date', 'visitors']]\n",
    "visitorsBDaily.columns = ['date', 'visitorsPerDateB']\n",
    "\n",
    "visitorsBCummulative = visitorsBDaily.apply(\n",
    "    lambda x: visitorsBDaily[visitorsBDaily['date'] <= x['date']].agg(\n",
    "        {'date': 'max', 'visitorsPerDateB': 'sum'}\n",
    "    ),\n",
    "    axis=1,\n",
    ")\n",
    "visitorsBCummulative.columns = ['date', 'visitorsCummulativeB']\n",
    "\n",
    "ordersADaily = (\n",
    "    orders[orders['group'] == 'A'][['date', 'transactionId', 'visitorId', 'revenue']]\n",
    "    .groupby('date', as_index=False)\n",
    "    .agg({'transactionId': pd.Series.nunique, 'revenue': 'sum'})\n",
    ")\n",
    "ordersADaily.columns = ['date', 'ordersPerDateA', 'revenuePerDateA']\n",
    "\n",
    "ordersACummulative = ordersADaily.apply(\n",
    "    lambda x: ordersADaily[ordersADaily['date'] <= x['date']].agg(\n",
    "        {'date': 'max', 'ordersPerDateA': 'sum', 'revenuePerDateA': 'sum'}\n",
    "    ),\n",
    "    axis=1,\n",
    ").sort_values(by=['date'])\n",
    "ordersACummulative.columns = [\n",
    "    'date',\n",
    "    'ordersCummulativeA',\n",
    "    'revenueCummulativeA',\n",
    "]\n",
    "\n",
    "ordersBDaily = (\n",
    "    orders[orders['group'] == 'B'][['date', 'transactionId', 'visitorId', 'revenue']]\n",
    "    .groupby('date', as_index=False)\n",
    "    .agg({'transactionId': pd.Series.nunique, 'revenue': 'sum'})\n",
    ")\n",
    "ordersBDaily.columns = ['date', 'ordersPerDateB', 'revenuePerDateB']\n",
    "\n",
    "ordersBCummulative = ordersBDaily.apply(\n",
    "    lambda x: ordersBDaily[ordersBDaily['date'] <= x['date']].agg(\n",
    "        {'date': 'max', 'ordersPerDateB': 'sum', 'revenuePerDateB': 'sum'}\n",
    "    ),\n",
    "    axis=1,\n",
    ").sort_values(by=['date'])\n",
    "ordersBCummulative.columns = [\n",
    "    'date',\n",
    "    'ordersCummulativeB',\n",
    "    'revenueCummulativeB',\n",
    "]\n",
    "\n",
    "data = (\n",
    "    ordersADaily.merge(\n",
    "        ordersBDaily, left_on='date', right_on='date', how='left'\n",
    "    )\n",
    "    .merge(ordersACummulative, left_on='date', right_on='date', how='left')\n",
    "    .merge(ordersBCummulative, left_on='date', right_on='date', how='left')\n",
    "    .merge(visitorsADaily, left_on='date', right_on='date', how='left')\n",
    "    .merge(visitorsBDaily, left_on='date', right_on='date', how='left')\n",
    "    .merge(visitorsACummulative, left_on='date', right_on='date', how='left')\n",
    "    .merge(visitorsBCummulative, left_on='date', right_on='date', how='left')\n",
    ")\n",
    "data.head(10)"
   ]
  },
  {
   "cell_type": "markdown",
   "metadata": {},
   "source": [
    "\n",
    "Применим критерий манна уитни, отформатируем p-value. В sampleA и sampleB сохраним выборку, где каждый элемент — число заказов определённого пользователя, в том числе ноль. Значит, число элементов sampleA/sampleB — это количество пользователей, сумма всех элементов — количество заказов. \n",
    "Выведем относительный прирост конверсии группы B: конверсия группы B / конверсия группы A - 1. "
   ]
  },
  {
   "cell_type": "markdown",
   "metadata": {},
   "source": [
    "сформирую гипотезу:\n",
    "H0 - статистически значимых различий в конверсии между группами нет; \n",
    "H1 - статистически значимые различия есть."
   ]
  },
  {
   "cell_type": "code",
   "execution_count": 89,
   "metadata": {},
   "outputs": [
    {
     "name": "stdout",
     "output_type": "stream",
     "text": [
      "p-value 0.01679\n",
      "Относительный прирост конверсии В 0.138\n"
     ]
    }
   ],
   "source": [
    "#для пользователей, совершивших хотя бы 1 заказ, будет указано число заказов\n",
    "ordersByUsersA = (orders[orders['group'] =='A'].groupby('visitorId', as_index=False).agg({'transactionId': pd.Series.nunique}))\n",
    "ordersByUsersA.columns = ['userId', 'orders']\n",
    "ordersByUsersB = (orders[orders['group'] == 'B'].groupby('visitorId', as_index=False).agg({'transactionId': pd.Series.nunique}))\n",
    "ordersByUsersB.columns = ['userId', 'orders']\n",
    "\n",
    "#Объявим переменные, в которых пользователям из разных групп будет соответствовать количество заказов.\n",
    "sampleA = pd.concat([ordersByUsersA['orders'],pd.Series(0, index=np.arange(data['visitorsPerDateA'].sum() - len(ordersByUsersA['orders'])), name='orders')],axis=0)\n",
    "\n",
    "sampleB = pd.concat([ordersByUsersB['orders'],pd.Series(0, index=np.arange(data['visitorsPerDateB'].sum() - len(ordersByUsersB['orders'])), name='orders')],axis=0)\n",
    "print(\"p-value {0:.5f}\".format(stats.mannwhitneyu(sampleA, sampleB)[1])) #берем количество заказов\n",
    "print(\n",
    "    \"Относительный прирост конверсии В {0:.3f}\".format(\n",
    "        (data['ordersPerDateB'].sum() / data['visitorsPerDateB'].sum())\n",
    "        / (data['ordersPerDateA'].sum() / data['visitorsPerDateA'].sum())\n",
    "        - 1\n",
    "    )\n",
    ")"
   ]
  },
  {
   "cell_type": "markdown",
   "metadata": {},
   "source": [
    "##### комментарий:  \n",
    "p-value меньше 0.05, а значит отвергаем нулевую гипотезу и статистически значимые различия есть. Относительный прирост конверсии группы В над А 13,8%."
   ]
  },
  {
   "cell_type": "code",
   "execution_count": 90,
   "metadata": {},
   "outputs": [
    {
     "name": "stdout",
     "output_type": "stream",
     "text": [
      "p-value 0.729\n",
      "Относительный показатель В к А 0.259\n"
     ]
    }
   ],
   "source": [
    "print('p-value {0:.3f}'.format(stats.mannwhitneyu(orders[orders['group']=='A']['revenue'], orders[orders['group']=='B']['revenue'])[1]))\n",
    "print('Относительный показатель В к А {0:.3f}'.format(orders[orders['group']=='B']['revenue'].mean()/orders[orders['group']=='A']['revenue'].mean()-1))"
   ]
  },
  {
   "cell_type": "markdown",
   "metadata": {},
   "source": [
    "##### комментарий:  \n",
    "p-value > 0.05, а значит статистических различий в среднем чеке при условии всех данных \"сырых\" -  нет. Хотя прирост по среднему чеку в группе B на 26%, плюс выше мы уже рассматривали данные, по которым видно, что чек выше"
   ]
  },
  {
   "cell_type": "markdown",
   "metadata": {},
   "source": [
    "###  Задача 6 - статическая значимость различий по данным без выбросов\n",
    "- Посчитайте статистическую значимость различий в конверсии между группами по «очищенным» данным. Сделайте выводы и предположения.\n",
    "- Посчитайте статистическую значимость различий в среднем чеке заказа между группами по «очищенным» данным."
   ]
  },
  {
   "cell_type": "markdown",
   "metadata": {},
   "source": [
    "ранее уже был комментарий, что считаем аномальными пользователей кто сделал больше 4 заказов, пользователей, сумма заказа которых дороже  58233"
   ]
  },
  {
   "cell_type": "code",
   "execution_count": 91,
   "metadata": {},
   "outputs": [
    {
     "data": {
      "text/html": [
       "<div>\n",
       "<style scoped>\n",
       "    .dataframe tbody tr th:only-of-type {\n",
       "        vertical-align: middle;\n",
       "    }\n",
       "\n",
       "    .dataframe tbody tr th {\n",
       "        vertical-align: top;\n",
       "    }\n",
       "\n",
       "    .dataframe thead th {\n",
       "        text-align: right;\n",
       "    }\n",
       "</style>\n",
       "<table border=\"1\" class=\"dataframe\">\n",
       "  <thead>\n",
       "    <tr style=\"text-align: right;\">\n",
       "      <th></th>\n",
       "      <th>userId</th>\n",
       "      <th>orders</th>\n",
       "    </tr>\n",
       "  </thead>\n",
       "  <tbody>\n",
       "    <tr>\n",
       "      <th>0</th>\n",
       "      <td>8300375</td>\n",
       "      <td>1</td>\n",
       "    </tr>\n",
       "    <tr>\n",
       "      <th>1</th>\n",
       "      <td>11685486</td>\n",
       "      <td>1</td>\n",
       "    </tr>\n",
       "    <tr>\n",
       "      <th>2</th>\n",
       "      <td>54447517</td>\n",
       "      <td>1</td>\n",
       "    </tr>\n",
       "    <tr>\n",
       "      <th>3</th>\n",
       "      <td>66685450</td>\n",
       "      <td>1</td>\n",
       "    </tr>\n",
       "    <tr>\n",
       "      <th>4</th>\n",
       "      <td>78758296</td>\n",
       "      <td>1</td>\n",
       "    </tr>\n",
       "    <tr>\n",
       "      <th>...</th>\n",
       "      <td>...</td>\n",
       "      <td>...</td>\n",
       "    </tr>\n",
       "    <tr>\n",
       "      <th>498</th>\n",
       "      <td>4243832526</td>\n",
       "      <td>1</td>\n",
       "    </tr>\n",
       "    <tr>\n",
       "      <th>499</th>\n",
       "      <td>4256040402</td>\n",
       "      <td>7</td>\n",
       "    </tr>\n",
       "    <tr>\n",
       "      <th>500</th>\n",
       "      <td>4259830713</td>\n",
       "      <td>1</td>\n",
       "    </tr>\n",
       "    <tr>\n",
       "      <th>501</th>\n",
       "      <td>4266935830</td>\n",
       "      <td>1</td>\n",
       "    </tr>\n",
       "    <tr>\n",
       "      <th>502</th>\n",
       "      <td>4278982564</td>\n",
       "      <td>1</td>\n",
       "    </tr>\n",
       "  </tbody>\n",
       "</table>\n",
       "<p>503 rows × 2 columns</p>\n",
       "</div>"
      ],
      "text/plain": [
       "         userId  orders\n",
       "0       8300375       1\n",
       "1      11685486       1\n",
       "2      54447517       1\n",
       "3      66685450       1\n",
       "4      78758296       1\n",
       "..          ...     ...\n",
       "498  4243832526       1\n",
       "499  4256040402       7\n",
       "500  4259830713       1\n",
       "501  4266935830       1\n",
       "502  4278982564       1\n",
       "\n",
       "[503 rows x 2 columns]"
      ]
     },
     "execution_count": 91,
     "metadata": {},
     "output_type": "execute_result"
    }
   ],
   "source": [
    "ordersByUsersA"
   ]
  },
  {
   "cell_type": "code",
   "execution_count": 92,
   "metadata": {},
   "outputs": [],
   "source": [
    "usersWithManyOrders = pd.concat(\n",
    "    [\n",
    "        ordersByUsersA[ordersByUsersA['orders'] >4]['userId'],\n",
    "        ordersByUsersB[ordersByUsersB['orders'] > 4]['userId'],\n",
    "    ],\n",
    "    axis=0,\n",
    ")\n",
    "usersWithExpensiveOrders = orders[orders['revenue'] > 58233]['visitorId']\n",
    "abnormalUsers = pd.concat([usersWithManyOrders, usersWithExpensiveOrders], axis=0).drop_duplicates().sort_values()\n"
   ]
  },
  {
   "cell_type": "code",
   "execution_count": 93,
   "metadata": {},
   "outputs": [
    {
     "data": {
      "text/plain": [
       "15"
      ]
     },
     "execution_count": 93,
     "metadata": {},
     "output_type": "execute_result"
    }
   ],
   "source": [
    "#всего аномальных пользователей\n",
    "abnormalUsers.shape[0]"
   ]
  },
  {
   "cell_type": "code",
   "execution_count": 94,
   "metadata": {},
   "outputs": [
    {
     "name": "stdout",
     "output_type": "stream",
     "text": [
      "p-value 0.01438\n",
      "Относительный прирост конверсии В 0.153\n"
     ]
    }
   ],
   "source": [
    "sampleAFiltered = pd.concat(\n",
    "    [\n",
    "        ordersByUsersA[\n",
    "            np.logical_not(ordersByUsersA['userId'].isin(abnormalUsers))\n",
    "        ]['orders'],\n",
    "        pd.Series(\n",
    "            0,\n",
    "            index=np.arange(\n",
    "                data['visitorsPerDateA'].sum() - len(ordersByUsersA['orders'])\n",
    "            ),\n",
    "            name='orders',\n",
    "        ),\n",
    "    ],\n",
    "    axis=0,\n",
    ")\n",
    "sampleBFiltered = pd.concat(\n",
    "    [\n",
    "        ordersByUsersB[\n",
    "            np.logical_not(ordersByUsersB['userId'].isin(abnormalUsers))\n",
    "        ]['orders'],\n",
    "        pd.Series(\n",
    "            0,\n",
    "            index=np.arange(\n",
    "                data['visitorsPerDateB'].sum() - len(ordersByUsersB['orders'])\n",
    "            ),\n",
    "            name='orders',\n",
    "        ),\n",
    "    ],\n",
    "    axis=0,\n",
    ") \n",
    "print('p-value {0:.5f}'.format(stats.mannwhitneyu(sampleAFiltered, sampleBFiltered)[1]))\n",
    "print('Относительный прирост конверсии В {0:.3f}'.format(sampleBFiltered.mean()/sampleAFiltered.mean()-1))"
   ]
  },
  {
   "cell_type": "markdown",
   "metadata": {},
   "source": [
    "##### комментарий:  \n",
    "По «очищенным» данным 0,014 < 0,05, (alpha), а значит различия в конверсии групп A и B есть (отвергаем гипотезу что статистических различий нет). Относительный прирост группы \"B\" над \"A\" равен 15,3% (выше, чем с «сырыми» данными - 13.8%) . Но и ранее по сырым данным мы также определили что различия в группе А и B есть."
   ]
  },
  {
   "cell_type": "markdown",
   "metadata": {},
   "source": [
    "посчитаем статистическую значимость различий в среднем чеке заказа между группами по «очищенным» данным"
   ]
  },
  {
   "cell_type": "code",
   "execution_count": 95,
   "metadata": {},
   "outputs": [
    {
     "name": "stdout",
     "output_type": "stream",
     "text": [
      " p-value 0.851\n",
      "Относительный показатель B к А -0.006\n"
     ]
    }
   ],
   "source": [
    "print(\n",
    "    ' p-value {0:.3f}'.format(\n",
    "        stats.mannwhitneyu(\n",
    "            orders[\n",
    "                np.logical_and(\n",
    "                    orders['group'] == 'A',\n",
    "                    np.logical_not(orders['visitorId'].isin(abnormalUsers)),\n",
    "                )\n",
    "            ]['revenue'],\n",
    "            orders[\n",
    "                np.logical_and(\n",
    "                    orders['group'] == 'B',\n",
    "                    np.logical_not(orders['visitorId'].isin(abnormalUsers)),\n",
    "                )\n",
    "            ]['revenue'],\n",
    "        )[1]\n",
    "    )\n",
    ")\n",
    "\n",
    "print(\n",
    "    \"Относительный показатель B к А {0:.3f}\".format(\n",
    "        orders[\n",
    "            np.logical_and(\n",
    "                orders['group'] == 'B',\n",
    "                np.logical_not(orders['visitorId'].isin(abnormalUsers)),\n",
    "            )\n",
    "        ]['revenue'].mean()\n",
    "        / orders[\n",
    "            np.logical_and(\n",
    "                orders['group'] == 'A',\n",
    "                np.logical_not(orders['visitorId'].isin(abnormalUsers)),\n",
    "            )\n",
    "        ]['revenue'].mean()\n",
    "        - 1\n",
    "    )\n",
    ")"
   ]
  },
  {
   "cell_type": "markdown",
   "metadata": {},
   "source": [
    "P-value значительно больше 0.05. Значит, причин отвергать нулевую гипотезу и считать, что в среднем чеке есть различия, нет. Относительный показатель отрицательный - а значит средний чек в группе B оказался немного ниже, значит ранее повлияли 2 больших заказа на данные."
   ]
  },
  {
   "cell_type": "markdown",
   "metadata": {},
   "source": [
    "###  Задача 6 - решение по тесту"
   ]
  },
  {
   "cell_type": "markdown",
   "metadata": {},
   "source": [
    "Для принятия решения по тесту необходимо понимать точное определение тестируемой гипотезы. Наиболее перспективная гипотеза по ICE (влияние, уверенность, усилия) - это \"Запустить акцию, дающую скидку на товар в день рождения\". Если я правильно поняла, то с помощью метода RICE мы определили тестируемую гипотезу ( Добавить форму подписки на все основные страницы, чтобы собрать базу клиентов для email-рассылок). Выбран метод RICE так как он включает дополнительно и оценку влияния на пользователя (сколько пользователей затронет гипотеза), что по моему мнению более верно.\n",
    "\n",
    "- По полученным данным комулятивной выручки и кумулятивного среднего чека определен явный лидер - группа B. В том числе конверсия и влияет на количество заказов, которых в группе B будет больше\n",
    "- И по \"сырым\" и по \"очищенным\" данным различия в конверсии групп A и B есть. Относительный выигрыш группы \"B\" над \"A\" равен 15,3% по \"очищенным\" и 13.8% по \"сырым\" данным.\n",
    "- В среднх чеках статистических различий определено, что нет. При этом по сырым данным средний чек в группе B выше почти на 26% за счет 2-х крупных заказов. По очищенным данным оказалось, что средний чек в группе В немного ниже. Но количество заказов постепенно увеличивалось с момента проведения теста, что повлияло на увеличение выручки.\n",
    "\n",
    "Учитывая, что гипотеза не ставила целью повлиять на чек, считаю что тест можно остановить и признать успешным на основании данных группы B."
   ]
  }
 ],
 "metadata": {
  "ExecuteTimeLog": [
   {
    "duration": 841,
    "start_time": "2022-03-24T18:54:11.842Z"
   },
   {
    "duration": 489,
    "start_time": "2022-03-24T18:55:53.138Z"
   },
   {
    "duration": 74,
    "start_time": "2022-03-24T18:55:54.220Z"
   },
   {
    "duration": 62,
    "start_time": "2022-03-24T18:58:33.144Z"
   },
   {
    "duration": 3,
    "start_time": "2022-03-24T18:58:58.910Z"
   },
   {
    "duration": 18,
    "start_time": "2022-03-24T18:59:14.461Z"
   },
   {
    "duration": 15,
    "start_time": "2022-03-24T19:00:11.185Z"
   },
   {
    "duration": 14,
    "start_time": "2022-03-24T19:00:54.206Z"
   },
   {
    "duration": 3,
    "start_time": "2022-03-24T19:02:46.790Z"
   },
   {
    "duration": 7,
    "start_time": "2022-03-24T19:02:57.291Z"
   },
   {
    "duration": 6,
    "start_time": "2022-03-24T19:04:53.431Z"
   },
   {
    "duration": 9,
    "start_time": "2022-03-24T19:05:46.452Z"
   },
   {
    "duration": 5,
    "start_time": "2022-03-24T19:06:31.602Z"
   },
   {
    "duration": 9,
    "start_time": "2022-03-24T19:06:32.141Z"
   },
   {
    "duration": 10,
    "start_time": "2022-03-24T19:06:46.970Z"
   },
   {
    "duration": 12,
    "start_time": "2022-03-25T08:23:40.501Z"
   },
   {
    "duration": 1380,
    "start_time": "2022-03-25T08:23:45.586Z"
   },
   {
    "duration": 51,
    "start_time": "2022-03-25T08:23:46.969Z"
   },
   {
    "duration": 3,
    "start_time": "2022-03-25T08:23:47.022Z"
   },
   {
    "duration": 25,
    "start_time": "2022-03-25T08:23:47.026Z"
   },
   {
    "duration": 17,
    "start_time": "2022-03-25T08:23:47.053Z"
   },
   {
    "duration": 16,
    "start_time": "2022-03-25T08:23:47.072Z"
   },
   {
    "duration": 8,
    "start_time": "2022-03-25T08:23:47.089Z"
   },
   {
    "duration": 11,
    "start_time": "2022-03-25T08:23:47.099Z"
   },
   {
    "duration": 30,
    "start_time": "2022-03-25T08:23:47.112Z"
   },
   {
    "duration": 5,
    "start_time": "2022-03-25T08:23:47.144Z"
   },
   {
    "duration": 15,
    "start_time": "2022-03-25T08:24:00.237Z"
   },
   {
    "duration": 14,
    "start_time": "2022-03-25T08:25:23.510Z"
   },
   {
    "duration": 19,
    "start_time": "2022-03-25T08:27:05.135Z"
   },
   {
    "duration": 2210,
    "start_time": "2022-03-25T08:27:33.756Z"
   },
   {
    "duration": 15,
    "start_time": "2022-03-25T08:27:52.776Z"
   },
   {
    "duration": 13,
    "start_time": "2022-03-25T08:28:31.876Z"
   },
   {
    "duration": 13,
    "start_time": "2022-03-25T08:28:42.127Z"
   },
   {
    "duration": 10,
    "start_time": "2022-03-25T08:29:21.929Z"
   },
   {
    "duration": 10,
    "start_time": "2022-03-25T08:29:44.168Z"
   },
   {
    "duration": 15,
    "start_time": "2022-03-25T08:35:33.406Z"
   },
   {
    "duration": 13,
    "start_time": "2022-03-25T08:36:34.557Z"
   },
   {
    "duration": 24,
    "start_time": "2022-03-25T11:55:02.331Z"
   },
   {
    "duration": 8,
    "start_time": "2022-03-25T11:55:19.256Z"
   },
   {
    "duration": 9,
    "start_time": "2022-03-25T11:55:56.471Z"
   },
   {
    "duration": 10,
    "start_time": "2022-03-25T11:57:14.856Z"
   },
   {
    "duration": 6,
    "start_time": "2022-03-25T12:00:12.023Z"
   },
   {
    "duration": 6,
    "start_time": "2022-03-25T12:00:34.127Z"
   },
   {
    "duration": 7,
    "start_time": "2022-03-25T12:02:13.141Z"
   },
   {
    "duration": 14,
    "start_time": "2022-03-25T12:02:27.079Z"
   },
   {
    "duration": 13,
    "start_time": "2022-03-25T12:02:49.850Z"
   },
   {
    "duration": 23,
    "start_time": "2022-03-25T12:06:56.580Z"
   },
   {
    "duration": 167,
    "start_time": "2022-03-25T12:08:29.652Z"
   },
   {
    "duration": 154,
    "start_time": "2022-03-25T12:11:00.087Z"
   },
   {
    "duration": 10,
    "start_time": "2022-03-25T12:15:56.886Z"
   },
   {
    "duration": 150,
    "start_time": "2022-03-25T12:16:09.966Z"
   },
   {
    "duration": 117,
    "start_time": "2022-03-25T12:16:10.550Z"
   },
   {
    "duration": 16,
    "start_time": "2022-03-25T12:16:11.050Z"
   },
   {
    "duration": 13,
    "start_time": "2022-03-25T12:20:46.892Z"
   },
   {
    "duration": 18,
    "start_time": "2022-03-25T12:20:58.413Z"
   },
   {
    "duration": 43,
    "start_time": "2022-03-25T21:19:07.851Z"
   },
   {
    "duration": 1335,
    "start_time": "2022-03-25T21:19:11.256Z"
   },
   {
    "duration": 73,
    "start_time": "2022-03-25T21:19:12.593Z"
   },
   {
    "duration": 3,
    "start_time": "2022-03-25T21:19:12.668Z"
   },
   {
    "duration": 23,
    "start_time": "2022-03-25T21:19:12.673Z"
   },
   {
    "duration": 14,
    "start_time": "2022-03-25T21:19:12.697Z"
   },
   {
    "duration": 16,
    "start_time": "2022-03-25T21:19:12.713Z"
   },
   {
    "duration": 4,
    "start_time": "2022-03-25T21:19:12.731Z"
   },
   {
    "duration": 8,
    "start_time": "2022-03-25T21:19:12.737Z"
   },
   {
    "duration": 12,
    "start_time": "2022-03-25T21:19:12.746Z"
   },
   {
    "duration": 12,
    "start_time": "2022-03-25T21:19:12.781Z"
   },
   {
    "duration": 13,
    "start_time": "2022-03-25T21:19:12.794Z"
   },
   {
    "duration": 15,
    "start_time": "2022-03-25T21:19:12.808Z"
   },
   {
    "duration": 8,
    "start_time": "2022-03-25T21:19:12.825Z"
   },
   {
    "duration": 8,
    "start_time": "2022-03-25T21:19:12.835Z"
   },
   {
    "duration": 7,
    "start_time": "2022-03-25T21:19:12.845Z"
   },
   {
    "duration": 29,
    "start_time": "2022-03-25T21:19:12.854Z"
   },
   {
    "duration": 158,
    "start_time": "2022-03-25T21:19:12.885Z"
   },
   {
    "duration": 117,
    "start_time": "2022-03-25T21:19:13.044Z"
   },
   {
    "duration": 19,
    "start_time": "2022-03-25T21:19:13.163Z"
   },
   {
    "duration": 12,
    "start_time": "2022-03-25T21:19:13.184Z"
   },
   {
    "duration": 9,
    "start_time": "2022-03-25T21:19:13.198Z"
   },
   {
    "duration": 229,
    "start_time": "2022-03-25T21:19:16.305Z"
   },
   {
    "duration": 146,
    "start_time": "2022-03-25T21:19:43.129Z"
   },
   {
    "duration": 148,
    "start_time": "2022-03-25T21:20:21.297Z"
   },
   {
    "duration": 164,
    "start_time": "2022-03-25T21:20:34.491Z"
   },
   {
    "duration": 156,
    "start_time": "2022-03-25T21:20:42.309Z"
   },
   {
    "duration": 172,
    "start_time": "2022-03-25T21:23:30.230Z"
   },
   {
    "duration": 162,
    "start_time": "2022-03-25T21:23:48.422Z"
   },
   {
    "duration": 141,
    "start_time": "2022-03-25T21:34:04.652Z"
   },
   {
    "duration": 227,
    "start_time": "2022-03-25T21:35:17.347Z"
   },
   {
    "duration": 483,
    "start_time": "2022-03-25T21:41:02.775Z"
   },
   {
    "duration": 476,
    "start_time": "2022-03-25T21:41:15.584Z"
   },
   {
    "duration": 608,
    "start_time": "2022-03-25T21:43:34.829Z"
   },
   {
    "duration": 460,
    "start_time": "2022-03-25T21:43:53.110Z"
   },
   {
    "duration": 100,
    "start_time": "2022-03-25T21:45:00.462Z"
   },
   {
    "duration": 99,
    "start_time": "2022-03-25T21:45:11.112Z"
   },
   {
    "duration": 314,
    "start_time": "2022-03-25T21:45:18.400Z"
   },
   {
    "duration": 300,
    "start_time": "2022-03-25T21:45:46.599Z"
   },
   {
    "duration": 286,
    "start_time": "2022-03-25T21:47:09.526Z"
   },
   {
    "duration": 278,
    "start_time": "2022-03-25T21:48:10.506Z"
   },
   {
    "duration": 178,
    "start_time": "2022-03-25T21:48:19.917Z"
   },
   {
    "duration": 93,
    "start_time": "2022-03-25T21:48:24.592Z"
   },
   {
    "duration": 51,
    "start_time": "2022-03-26T11:17:00.842Z"
   },
   {
    "duration": 1393,
    "start_time": "2022-03-26T11:17:05.128Z"
   },
   {
    "duration": 84,
    "start_time": "2022-03-26T11:17:06.523Z"
   },
   {
    "duration": 3,
    "start_time": "2022-03-26T11:17:06.609Z"
   },
   {
    "duration": 30,
    "start_time": "2022-03-26T11:17:06.615Z"
   },
   {
    "duration": 26,
    "start_time": "2022-03-26T11:17:06.647Z"
   },
   {
    "duration": 24,
    "start_time": "2022-03-26T11:17:06.675Z"
   },
   {
    "duration": 7,
    "start_time": "2022-03-26T11:17:06.701Z"
   },
   {
    "duration": 28,
    "start_time": "2022-03-26T11:17:06.710Z"
   },
   {
    "duration": 14,
    "start_time": "2022-03-26T11:17:06.739Z"
   },
   {
    "duration": 14,
    "start_time": "2022-03-26T11:17:06.756Z"
   },
   {
    "duration": 14,
    "start_time": "2022-03-26T11:17:06.772Z"
   },
   {
    "duration": 48,
    "start_time": "2022-03-26T11:17:06.788Z"
   },
   {
    "duration": 11,
    "start_time": "2022-03-26T11:17:06.839Z"
   },
   {
    "duration": 11,
    "start_time": "2022-03-26T11:17:06.852Z"
   },
   {
    "duration": 8,
    "start_time": "2022-03-26T11:17:06.865Z"
   },
   {
    "duration": 14,
    "start_time": "2022-03-26T11:17:06.875Z"
   },
   {
    "duration": 208,
    "start_time": "2022-03-26T11:17:06.891Z"
   },
   {
    "duration": 144,
    "start_time": "2022-03-26T11:17:07.101Z"
   },
   {
    "duration": 15,
    "start_time": "2022-03-26T11:17:07.247Z"
   },
   {
    "duration": 17,
    "start_time": "2022-03-26T11:17:07.263Z"
   },
   {
    "duration": 10,
    "start_time": "2022-03-26T11:17:07.282Z"
   },
   {
    "duration": 319,
    "start_time": "2022-03-26T11:17:07.294Z"
   },
   {
    "duration": 227,
    "start_time": "2022-03-26T11:17:07.615Z"
   },
   {
    "duration": 128,
    "start_time": "2022-03-26T11:17:12.507Z"
   },
   {
    "duration": 512,
    "start_time": "2022-03-26T11:19:41.867Z"
   },
   {
    "duration": 259,
    "start_time": "2022-03-26T11:21:08.074Z"
   },
   {
    "duration": 11,
    "start_time": "2022-03-26T11:21:51.377Z"
   },
   {
    "duration": 73,
    "start_time": "2022-03-26T11:24:04.485Z"
   },
   {
    "duration": 12,
    "start_time": "2022-03-26T11:24:45.871Z"
   },
   {
    "duration": 7,
    "start_time": "2022-03-26T11:24:53.133Z"
   },
   {
    "duration": 203,
    "start_time": "2022-03-26T11:27:10.980Z"
   },
   {
    "duration": 270,
    "start_time": "2022-03-26T11:29:47.035Z"
   },
   {
    "duration": 115,
    "start_time": "2022-03-26T11:30:03.410Z"
   },
   {
    "duration": 129,
    "start_time": "2022-03-26T11:33:27.626Z"
   },
   {
    "duration": 124,
    "start_time": "2022-03-26T11:33:33.370Z"
   },
   {
    "duration": 122,
    "start_time": "2022-03-26T11:33:37.878Z"
   },
   {
    "duration": 126,
    "start_time": "2022-03-26T11:33:43.161Z"
   },
   {
    "duration": 252,
    "start_time": "2022-03-26T11:34:26.987Z"
   },
   {
    "duration": 127,
    "start_time": "2022-03-26T11:34:29.311Z"
   },
   {
    "duration": 121,
    "start_time": "2022-03-26T11:34:43.544Z"
   },
   {
    "duration": 322,
    "start_time": "2022-03-26T11:42:24.651Z"
   },
   {
    "duration": 324,
    "start_time": "2022-03-26T11:43:51.742Z"
   },
   {
    "duration": 3,
    "start_time": "2022-03-26T11:52:44.178Z"
   },
   {
    "duration": 271,
    "start_time": "2022-03-26T11:55:13.405Z"
   },
   {
    "duration": 362,
    "start_time": "2022-03-26T11:55:30.408Z"
   },
   {
    "duration": 349,
    "start_time": "2022-03-26T11:55:37.899Z"
   },
   {
    "duration": 214,
    "start_time": "2022-03-26T11:56:01.108Z"
   },
   {
    "duration": 201,
    "start_time": "2022-03-26T11:56:25.625Z"
   },
   {
    "duration": 229,
    "start_time": "2022-03-26T11:57:07.431Z"
   },
   {
    "duration": 252,
    "start_time": "2022-03-26T11:57:18.661Z"
   },
   {
    "duration": 235,
    "start_time": "2022-03-26T11:57:43.126Z"
   },
   {
    "duration": 382,
    "start_time": "2022-03-26T12:02:29.700Z"
   },
   {
    "duration": 334,
    "start_time": "2022-03-26T12:03:10.351Z"
   },
   {
    "duration": 355,
    "start_time": "2022-03-26T12:03:49.512Z"
   },
   {
    "duration": 1355,
    "start_time": "2022-03-26T17:13:21.654Z"
   },
   {
    "duration": 77,
    "start_time": "2022-03-26T17:13:23.011Z"
   },
   {
    "duration": 4,
    "start_time": "2022-03-26T17:13:23.089Z"
   },
   {
    "duration": 26,
    "start_time": "2022-03-26T17:13:23.094Z"
   },
   {
    "duration": 18,
    "start_time": "2022-03-26T17:13:23.122Z"
   },
   {
    "duration": 16,
    "start_time": "2022-03-26T17:13:23.142Z"
   },
   {
    "duration": 6,
    "start_time": "2022-03-26T17:13:23.161Z"
   },
   {
    "duration": 12,
    "start_time": "2022-03-26T17:13:23.168Z"
   },
   {
    "duration": 13,
    "start_time": "2022-03-26T17:13:23.181Z"
   },
   {
    "duration": 16,
    "start_time": "2022-03-26T17:13:23.195Z"
   },
   {
    "duration": 11,
    "start_time": "2022-03-26T17:13:23.212Z"
   },
   {
    "duration": 15,
    "start_time": "2022-03-26T17:13:23.225Z"
   },
   {
    "duration": 13,
    "start_time": "2022-03-26T17:13:23.263Z"
   },
   {
    "duration": 11,
    "start_time": "2022-03-26T17:13:23.280Z"
   },
   {
    "duration": 9,
    "start_time": "2022-03-26T17:13:23.293Z"
   },
   {
    "duration": 13,
    "start_time": "2022-03-26T17:13:23.304Z"
   },
   {
    "duration": 176,
    "start_time": "2022-03-26T17:13:23.318Z"
   },
   {
    "duration": 126,
    "start_time": "2022-03-26T17:13:23.496Z"
   },
   {
    "duration": 12,
    "start_time": "2022-03-26T17:13:23.624Z"
   },
   {
    "duration": 26,
    "start_time": "2022-03-26T17:13:23.637Z"
   },
   {
    "duration": 15,
    "start_time": "2022-03-26T17:13:23.665Z"
   },
   {
    "duration": 254,
    "start_time": "2022-03-26T17:13:23.682Z"
   },
   {
    "duration": 201,
    "start_time": "2022-03-26T17:13:23.938Z"
   },
   {
    "duration": 110,
    "start_time": "2022-03-26T17:13:24.140Z"
   },
   {
    "duration": 117,
    "start_time": "2022-03-26T17:13:24.251Z"
   },
   {
    "duration": 9,
    "start_time": "2022-03-26T17:13:24.370Z"
   },
   {
    "duration": 315,
    "start_time": "2022-03-26T17:13:24.381Z"
   },
   {
    "duration": 199,
    "start_time": "2022-03-26T17:13:24.698Z"
   },
   {
    "duration": 289,
    "start_time": "2022-03-26T17:13:24.899Z"
   },
   {
    "duration": 155,
    "start_time": "2022-03-26T17:13:25.190Z"
   },
   {
    "duration": 116,
    "start_time": "2022-03-26T17:14:21.470Z"
   },
   {
    "duration": 257,
    "start_time": "2022-03-26T18:29:09.946Z"
   },
   {
    "duration": 140,
    "start_time": "2022-03-26T18:29:26.341Z"
   },
   {
    "duration": 127,
    "start_time": "2022-03-26T18:29:48.470Z"
   },
   {
    "duration": 104,
    "start_time": "2022-03-26T18:30:42.224Z"
   },
   {
    "duration": 134,
    "start_time": "2022-03-26T18:31:12.743Z"
   },
   {
    "duration": 138,
    "start_time": "2022-03-26T18:33:12.728Z"
   },
   {
    "duration": 146,
    "start_time": "2022-03-26T18:33:29.159Z"
   },
   {
    "duration": 4,
    "start_time": "2022-03-26T18:36:05.317Z"
   },
   {
    "duration": 146,
    "start_time": "2022-03-26T18:36:34.314Z"
   },
   {
    "duration": 152,
    "start_time": "2022-03-26T18:36:39.589Z"
   },
   {
    "duration": 5,
    "start_time": "2022-03-26T18:36:44.337Z"
   },
   {
    "duration": 133,
    "start_time": "2022-03-26T18:47:49.929Z"
   },
   {
    "duration": 111,
    "start_time": "2022-03-26T18:47:56.849Z"
   },
   {
    "duration": 120,
    "start_time": "2022-03-26T18:48:03.722Z"
   },
   {
    "duration": 2283,
    "start_time": "2022-03-26T18:48:47.364Z"
   },
   {
    "duration": 4,
    "start_time": "2022-03-26T18:50:57.255Z"
   },
   {
    "duration": 94,
    "start_time": "2022-03-26T18:54:54.236Z"
   },
   {
    "duration": 246,
    "start_time": "2022-03-26T18:55:16.345Z"
   },
   {
    "duration": 96,
    "start_time": "2022-03-26T18:55:32.528Z"
   },
   {
    "duration": 850,
    "start_time": "2022-03-26T18:57:19.123Z"
   },
   {
    "duration": 869,
    "start_time": "2022-03-26T18:57:40.678Z"
   },
   {
    "duration": 435,
    "start_time": "2022-03-26T18:58:26.706Z"
   },
   {
    "duration": 566,
    "start_time": "2022-03-26T18:58:40.780Z"
   },
   {
    "duration": 144,
    "start_time": "2022-03-26T18:59:09.545Z"
   },
   {
    "duration": 1403,
    "start_time": "2022-03-26T18:59:23.781Z"
   },
   {
    "duration": 1068,
    "start_time": "2022-03-26T19:00:24.551Z"
   },
   {
    "duration": 883,
    "start_time": "2022-03-26T19:00:35.072Z"
   },
   {
    "duration": 169,
    "start_time": "2022-03-26T19:01:54.603Z"
   },
   {
    "duration": 432,
    "start_time": "2022-03-26T19:02:09.641Z"
   },
   {
    "duration": 167,
    "start_time": "2022-03-26T19:03:08.228Z"
   },
   {
    "duration": 627,
    "start_time": "2022-03-26T19:03:21.186Z"
   },
   {
    "duration": 415,
    "start_time": "2022-03-26T19:04:12.089Z"
   },
   {
    "duration": 796,
    "start_time": "2022-03-26T19:04:23.901Z"
   },
   {
    "duration": 154,
    "start_time": "2022-03-26T19:06:11.865Z"
   },
   {
    "duration": 150,
    "start_time": "2022-03-26T19:06:28.190Z"
   },
   {
    "duration": 122,
    "start_time": "2022-03-26T19:06:35.885Z"
   },
   {
    "duration": 129,
    "start_time": "2022-03-26T20:18:48.323Z"
   },
   {
    "duration": 102,
    "start_time": "2022-03-26T20:22:02.746Z"
   },
   {
    "duration": 121,
    "start_time": "2022-03-26T20:22:41.658Z"
   },
   {
    "duration": 237,
    "start_time": "2022-03-26T20:23:44.534Z"
   },
   {
    "duration": 155,
    "start_time": "2022-03-26T20:34:36.901Z"
   },
   {
    "duration": 147,
    "start_time": "2022-03-26T20:35:19.785Z"
   },
   {
    "duration": 172,
    "start_time": "2022-03-26T20:35:29.049Z"
   },
   {
    "duration": 172,
    "start_time": "2022-03-26T20:36:09.493Z"
   },
   {
    "duration": 140,
    "start_time": "2022-03-26T20:36:31.818Z"
   },
   {
    "duration": 149,
    "start_time": "2022-03-26T20:48:14.306Z"
   },
   {
    "duration": 10,
    "start_time": "2022-03-26T20:50:14.334Z"
   },
   {
    "duration": 10,
    "start_time": "2022-03-26T20:51:37.076Z"
   },
   {
    "duration": 45,
    "start_time": "2022-03-27T14:39:53.678Z"
   },
   {
    "duration": 1326,
    "start_time": "2022-03-27T14:39:56.969Z"
   },
   {
    "duration": 63,
    "start_time": "2022-03-27T14:39:58.297Z"
   },
   {
    "duration": 5,
    "start_time": "2022-03-27T14:39:58.362Z"
   },
   {
    "duration": 22,
    "start_time": "2022-03-27T14:39:58.369Z"
   },
   {
    "duration": 14,
    "start_time": "2022-03-27T14:39:58.393Z"
   },
   {
    "duration": 23,
    "start_time": "2022-03-27T14:39:58.409Z"
   },
   {
    "duration": 2,
    "start_time": "2022-03-27T14:39:58.434Z"
   },
   {
    "duration": 8,
    "start_time": "2022-03-27T14:39:58.437Z"
   },
   {
    "duration": 36,
    "start_time": "2022-03-27T14:39:58.447Z"
   },
   {
    "duration": 11,
    "start_time": "2022-03-27T14:39:58.486Z"
   },
   {
    "duration": 10,
    "start_time": "2022-03-27T14:39:58.498Z"
   },
   {
    "duration": 11,
    "start_time": "2022-03-27T14:39:58.510Z"
   },
   {
    "duration": 10,
    "start_time": "2022-03-27T14:39:58.522Z"
   },
   {
    "duration": 7,
    "start_time": "2022-03-27T14:39:58.533Z"
   },
   {
    "duration": 5,
    "start_time": "2022-03-27T14:39:58.581Z"
   },
   {
    "duration": 12,
    "start_time": "2022-03-27T14:39:58.588Z"
   },
   {
    "duration": 162,
    "start_time": "2022-03-27T14:39:58.602Z"
   },
   {
    "duration": 120,
    "start_time": "2022-03-27T14:39:58.766Z"
   },
   {
    "duration": 12,
    "start_time": "2022-03-27T14:39:58.887Z"
   },
   {
    "duration": 17,
    "start_time": "2022-03-27T14:39:58.900Z"
   },
   {
    "duration": 8,
    "start_time": "2022-03-27T14:39:58.918Z"
   },
   {
    "duration": 257,
    "start_time": "2022-03-27T14:39:58.927Z"
   },
   {
    "duration": 175,
    "start_time": "2022-03-27T14:39:59.186Z"
   },
   {
    "duration": 108,
    "start_time": "2022-03-27T14:39:59.363Z"
   },
   {
    "duration": 109,
    "start_time": "2022-03-27T14:39:59.472Z"
   },
   {
    "duration": 125,
    "start_time": "2022-03-27T14:39:59.583Z"
   },
   {
    "duration": 101,
    "start_time": "2022-03-27T14:39:59.710Z"
   },
   {
    "duration": 8,
    "start_time": "2022-03-27T14:39:59.815Z"
   },
   {
    "duration": 339,
    "start_time": "2022-03-27T14:39:59.825Z"
   },
   {
    "duration": 186,
    "start_time": "2022-03-27T14:40:00.166Z"
   },
   {
    "duration": 363,
    "start_time": "2022-03-27T14:40:00.353Z"
   },
   {
    "duration": 137,
    "start_time": "2022-03-27T14:40:00.718Z"
   },
   {
    "duration": 175,
    "start_time": "2022-03-27T14:40:00.856Z"
   },
   {
    "duration": 121,
    "start_time": "2022-03-27T14:40:01.033Z"
   },
   {
    "duration": 4,
    "start_time": "2022-03-27T14:40:01.156Z"
   },
   {
    "duration": 146,
    "start_time": "2022-03-27T14:40:01.162Z"
   },
   {
    "duration": 4,
    "start_time": "2022-03-27T14:40:01.309Z"
   },
   {
    "duration": 234,
    "start_time": "2022-03-27T14:40:01.315Z"
   },
   {
    "duration": 149,
    "start_time": "2022-03-27T14:40:01.551Z"
   },
   {
    "duration": 10,
    "start_time": "2022-03-27T14:40:01.703Z"
   },
   {
    "duration": 3707,
    "start_time": "2022-03-27T14:40:01.715Z"
   },
   {
    "duration": 8,
    "start_time": "2022-03-27T14:41:14.554Z"
   },
   {
    "duration": 3156,
    "start_time": "2022-03-27T14:41:35.520Z"
   },
   {
    "duration": 11,
    "start_time": "2022-03-27T14:42:12.506Z"
   },
   {
    "duration": 6,
    "start_time": "2022-03-27T14:42:27.495Z"
   },
   {
    "duration": 11,
    "start_time": "2022-03-27T14:42:44.902Z"
   },
   {
    "duration": 5,
    "start_time": "2022-03-27T14:43:27.481Z"
   },
   {
    "duration": 7,
    "start_time": "2022-03-27T14:43:45.778Z"
   },
   {
    "duration": 5,
    "start_time": "2022-03-27T14:44:04.156Z"
   },
   {
    "duration": 3,
    "start_time": "2022-03-27T14:44:22.474Z"
   },
   {
    "duration": 3,
    "start_time": "2022-03-27T14:44:27.898Z"
   },
   {
    "duration": 3,
    "start_time": "2022-03-27T14:44:30.931Z"
   },
   {
    "duration": 2,
    "start_time": "2022-03-27T14:44:32.467Z"
   },
   {
    "duration": 3,
    "start_time": "2022-03-27T14:44:36.830Z"
   },
   {
    "duration": 4,
    "start_time": "2022-03-27T14:44:41.085Z"
   },
   {
    "duration": 42,
    "start_time": "2022-03-27T14:55:00.076Z"
   },
   {
    "duration": 45,
    "start_time": "2022-03-27T14:55:30.807Z"
   },
   {
    "duration": 18,
    "start_time": "2022-03-27T15:00:49.158Z"
   },
   {
    "duration": 14,
    "start_time": "2022-03-27T15:01:24.236Z"
   },
   {
    "duration": 1687,
    "start_time": "2022-03-28T17:26:19.878Z"
   },
   {
    "duration": 78,
    "start_time": "2022-03-28T17:26:21.568Z"
   },
   {
    "duration": 4,
    "start_time": "2022-03-28T17:26:21.648Z"
   },
   {
    "duration": 34,
    "start_time": "2022-03-28T17:26:21.655Z"
   },
   {
    "duration": 25,
    "start_time": "2022-03-28T17:26:21.691Z"
   },
   {
    "duration": 22,
    "start_time": "2022-03-28T17:26:21.742Z"
   },
   {
    "duration": 5,
    "start_time": "2022-03-28T17:26:21.767Z"
   },
   {
    "duration": 27,
    "start_time": "2022-03-28T17:26:21.774Z"
   },
   {
    "duration": 21,
    "start_time": "2022-03-28T17:26:21.803Z"
   },
   {
    "duration": 23,
    "start_time": "2022-03-28T17:26:21.845Z"
   },
   {
    "duration": 19,
    "start_time": "2022-03-28T17:26:21.870Z"
   },
   {
    "duration": 24,
    "start_time": "2022-03-28T17:26:21.891Z"
   },
   {
    "duration": 39,
    "start_time": "2022-03-28T17:26:21.918Z"
   },
   {
    "duration": 14,
    "start_time": "2022-03-28T17:26:21.959Z"
   },
   {
    "duration": 36,
    "start_time": "2022-03-28T17:26:21.976Z"
   },
   {
    "duration": 34,
    "start_time": "2022-03-28T17:26:22.015Z"
   },
   {
    "duration": 297,
    "start_time": "2022-03-28T17:26:22.051Z"
   },
   {
    "duration": 251,
    "start_time": "2022-03-28T17:26:22.350Z"
   },
   {
    "duration": 39,
    "start_time": "2022-03-28T17:26:22.604Z"
   },
   {
    "duration": 15,
    "start_time": "2022-03-28T17:26:22.646Z"
   },
   {
    "duration": 17,
    "start_time": "2022-03-28T17:26:22.663Z"
   },
   {
    "duration": 485,
    "start_time": "2022-03-28T17:26:22.683Z"
   },
   {
    "duration": 330,
    "start_time": "2022-03-28T17:26:23.171Z"
   },
   {
    "duration": 200,
    "start_time": "2022-03-28T17:26:23.503Z"
   },
   {
    "duration": 185,
    "start_time": "2022-03-28T17:26:23.705Z"
   },
   {
    "duration": 224,
    "start_time": "2022-03-28T17:26:23.892Z"
   },
   {
    "duration": 190,
    "start_time": "2022-03-28T17:26:24.118Z"
   },
   {
    "duration": 13,
    "start_time": "2022-03-28T17:26:24.313Z"
   },
   {
    "duration": 473,
    "start_time": "2022-03-28T17:26:24.328Z"
   },
   {
    "duration": 340,
    "start_time": "2022-03-28T17:26:24.803Z"
   },
   {
    "duration": 559,
    "start_time": "2022-03-28T17:26:25.145Z"
   },
   {
    "duration": 270,
    "start_time": "2022-03-28T17:26:25.706Z"
   },
   {
    "duration": 280,
    "start_time": "2022-03-28T17:26:25.978Z"
   },
   {
    "duration": 203,
    "start_time": "2022-03-28T17:26:26.261Z"
   },
   {
    "duration": 6,
    "start_time": "2022-03-28T17:26:26.466Z"
   },
   {
    "duration": 240,
    "start_time": "2022-03-28T17:26:26.475Z"
   },
   {
    "duration": 6,
    "start_time": "2022-03-28T17:26:26.717Z"
   },
   {
    "duration": 377,
    "start_time": "2022-03-28T17:26:26.725Z"
   },
   {
    "duration": 291,
    "start_time": "2022-03-28T17:26:27.104Z"
   },
   {
    "duration": 14,
    "start_time": "2022-03-28T17:26:27.397Z"
   },
   {
    "duration": 34,
    "start_time": "2022-03-28T17:26:27.413Z"
   },
   {
    "duration": 11,
    "start_time": "2022-03-28T17:26:27.450Z"
   },
   {
    "duration": 6,
    "start_time": "2022-03-28T17:26:27.463Z"
   },
   {
    "duration": 36,
    "start_time": "2022-03-28T17:26:27.471Z"
   },
   {
    "duration": 53,
    "start_time": "2022-03-28T17:26:27.509Z"
   },
   {
    "duration": 1732,
    "start_time": "2022-03-29T12:46:33.129Z"
   },
   {
    "duration": 40,
    "start_time": "2022-03-29T12:46:34.864Z"
   },
   {
    "duration": 4,
    "start_time": "2022-03-29T12:46:34.906Z"
   },
   {
    "duration": 31,
    "start_time": "2022-03-29T12:46:34.913Z"
   },
   {
    "duration": 32,
    "start_time": "2022-03-29T12:46:34.946Z"
   },
   {
    "duration": 22,
    "start_time": "2022-03-29T12:46:34.981Z"
   },
   {
    "duration": 5,
    "start_time": "2022-03-29T12:46:35.005Z"
   },
   {
    "duration": 10,
    "start_time": "2022-03-29T12:46:35.012Z"
   },
   {
    "duration": 50,
    "start_time": "2022-03-29T12:46:35.024Z"
   },
   {
    "duration": 124,
    "start_time": "2022-03-29T12:55:17.102Z"
   },
   {
    "duration": 19,
    "start_time": "2022-03-29T12:56:03.591Z"
   },
   {
    "duration": 8,
    "start_time": "2022-03-29T12:57:05.600Z"
   },
   {
    "duration": 17,
    "start_time": "2022-03-29T12:58:27.433Z"
   },
   {
    "duration": 18,
    "start_time": "2022-03-29T13:00:15.923Z"
   },
   {
    "duration": 18,
    "start_time": "2022-03-29T13:00:16.947Z"
   },
   {
    "duration": 18,
    "start_time": "2022-03-29T13:00:17.180Z"
   },
   {
    "duration": 12,
    "start_time": "2022-03-29T13:02:07.777Z"
   },
   {
    "duration": 11,
    "start_time": "2022-03-29T13:02:08.103Z"
   },
   {
    "duration": 8,
    "start_time": "2022-03-29T13:02:08.604Z"
   },
   {
    "duration": 14,
    "start_time": "2022-03-29T13:02:09.193Z"
   },
   {
    "duration": 260,
    "start_time": "2022-03-29T13:02:10.254Z"
   },
   {
    "duration": 207,
    "start_time": "2022-03-29T13:02:10.614Z"
   },
   {
    "duration": 20,
    "start_time": "2022-03-29T13:02:10.824Z"
   },
   {
    "duration": 16,
    "start_time": "2022-03-29T13:02:11.060Z"
   },
   {
    "duration": 15,
    "start_time": "2022-03-29T13:02:11.779Z"
   },
   {
    "duration": 415,
    "start_time": "2022-03-29T13:02:12.713Z"
   },
   {
    "duration": 341,
    "start_time": "2022-03-29T13:03:10.926Z"
   },
   {
    "duration": 111,
    "start_time": "2022-03-29T13:04:11.276Z"
   },
   {
    "duration": 153,
    "start_time": "2022-03-29T13:04:37.699Z"
   },
   {
    "duration": 155,
    "start_time": "2022-03-29T13:05:03.540Z"
   },
   {
    "duration": 317,
    "start_time": "2022-03-29T13:05:25.854Z"
   },
   {
    "duration": 150,
    "start_time": "2022-03-29T13:07:08.972Z"
   },
   {
    "duration": 156,
    "start_time": "2022-03-29T13:09:04.324Z"
   },
   {
    "duration": 73,
    "start_time": "2022-03-29T19:21:02.927Z"
   },
   {
    "duration": 1646,
    "start_time": "2022-03-29T19:21:07.394Z"
   },
   {
    "duration": 42,
    "start_time": "2022-03-29T19:21:09.043Z"
   },
   {
    "duration": 4,
    "start_time": "2022-03-29T19:21:09.087Z"
   },
   {
    "duration": 31,
    "start_time": "2022-03-29T19:21:09.094Z"
   },
   {
    "duration": 22,
    "start_time": "2022-03-29T19:21:09.128Z"
   },
   {
    "duration": 35,
    "start_time": "2022-03-29T19:21:09.152Z"
   },
   {
    "duration": 4,
    "start_time": "2022-03-29T19:21:09.189Z"
   },
   {
    "duration": 18,
    "start_time": "2022-03-29T19:21:09.196Z"
   },
   {
    "duration": 15,
    "start_time": "2022-03-29T19:21:09.216Z"
   },
   {
    "duration": 156,
    "start_time": "2022-03-29T19:21:09.267Z"
   },
   {
    "duration": 18,
    "start_time": "2022-03-29T19:21:09.425Z"
   },
   {
    "duration": 24,
    "start_time": "2022-03-29T19:21:09.445Z"
   },
   {
    "duration": 18,
    "start_time": "2022-03-29T19:21:09.472Z"
   },
   {
    "duration": 19,
    "start_time": "2022-03-29T19:21:09.492Z"
   },
   {
    "duration": 62,
    "start_time": "2022-03-29T19:21:09.514Z"
   },
   {
    "duration": 17,
    "start_time": "2022-03-29T19:21:09.578Z"
   },
   {
    "duration": 12,
    "start_time": "2022-03-29T19:21:09.598Z"
   },
   {
    "duration": 13,
    "start_time": "2022-03-29T19:21:09.612Z"
   },
   {
    "duration": 42,
    "start_time": "2022-03-29T19:21:09.627Z"
   },
   {
    "duration": 15,
    "start_time": "2022-03-29T19:21:09.672Z"
   },
   {
    "duration": 282,
    "start_time": "2022-03-29T19:21:09.690Z"
   },
   {
    "duration": 232,
    "start_time": "2022-03-29T19:21:09.974Z"
   },
   {
    "duration": 20,
    "start_time": "2022-03-29T19:21:10.208Z"
   },
   {
    "duration": 38,
    "start_time": "2022-03-29T19:21:10.231Z"
   },
   {
    "duration": 14,
    "start_time": "2022-03-29T19:21:10.271Z"
   },
   {
    "duration": 464,
    "start_time": "2022-03-29T19:21:51.762Z"
   },
   {
    "duration": 261,
    "start_time": "2022-03-29T19:23:51.487Z"
   },
   {
    "duration": 274,
    "start_time": "2022-03-29T19:24:39.353Z"
   },
   {
    "duration": 368,
    "start_time": "2022-03-29T19:25:03.275Z"
   },
   {
    "duration": 321,
    "start_time": "2022-03-29T19:27:20.986Z"
   },
   {
    "duration": 288,
    "start_time": "2022-03-29T19:30:32.792Z"
   },
   {
    "duration": 359,
    "start_time": "2022-03-29T19:30:40.092Z"
   },
   {
    "duration": 194,
    "start_time": "2022-03-29T19:30:57.737Z"
   },
   {
    "duration": 251,
    "start_time": "2022-03-29T19:31:02.036Z"
   },
   {
    "duration": 181,
    "start_time": "2022-03-29T19:31:13.972Z"
   },
   {
    "duration": 181,
    "start_time": "2022-03-29T19:31:20.831Z"
   },
   {
    "duration": 192,
    "start_time": "2022-03-29T19:31:31.279Z"
   },
   {
    "duration": 174,
    "start_time": "2022-03-29T19:32:05.935Z"
   },
   {
    "duration": 480,
    "start_time": "2022-03-29T19:32:45.904Z"
   },
   {
    "duration": 323,
    "start_time": "2022-03-29T19:33:25.704Z"
   },
   {
    "duration": 485,
    "start_time": "2022-03-29T19:33:52.239Z"
   },
   {
    "duration": 417,
    "start_time": "2022-03-29T19:33:59.170Z"
   },
   {
    "duration": 14,
    "start_time": "2022-03-29T19:35:02.176Z"
   },
   {
    "duration": 11,
    "start_time": "2022-03-29T19:35:19.892Z"
   },
   {
    "duration": 11,
    "start_time": "2022-03-29T19:35:23.624Z"
   },
   {
    "duration": 5,
    "start_time": "2022-03-29T19:35:25.967Z"
   },
   {
    "duration": 44,
    "start_time": "2022-03-29T19:35:25.975Z"
   },
   {
    "duration": 5,
    "start_time": "2022-03-29T19:35:26.022Z"
   },
   {
    "duration": 47,
    "start_time": "2022-03-29T19:35:26.030Z"
   },
   {
    "duration": 26,
    "start_time": "2022-03-29T19:35:26.080Z"
   },
   {
    "duration": 70,
    "start_time": "2022-03-29T19:35:26.108Z"
   },
   {
    "duration": 4,
    "start_time": "2022-03-29T19:35:26.181Z"
   },
   {
    "duration": 14,
    "start_time": "2022-03-29T19:35:26.188Z"
   },
   {
    "duration": 21,
    "start_time": "2022-03-29T19:35:26.206Z"
   },
   {
    "duration": 171,
    "start_time": "2022-03-29T19:35:26.229Z"
   },
   {
    "duration": 13,
    "start_time": "2022-03-29T19:35:26.402Z"
   },
   {
    "duration": 8,
    "start_time": "2022-03-29T19:35:26.417Z"
   },
   {
    "duration": 42,
    "start_time": "2022-03-29T19:35:26.427Z"
   },
   {
    "duration": 16,
    "start_time": "2022-03-29T19:35:26.471Z"
   },
   {
    "duration": 26,
    "start_time": "2022-03-29T19:35:26.490Z"
   },
   {
    "duration": 21,
    "start_time": "2022-03-29T19:35:26.518Z"
   },
   {
    "duration": 12,
    "start_time": "2022-03-29T19:35:26.567Z"
   },
   {
    "duration": 12,
    "start_time": "2022-03-29T19:35:26.581Z"
   },
   {
    "duration": 10,
    "start_time": "2022-03-29T19:35:26.595Z"
   },
   {
    "duration": 14,
    "start_time": "2022-03-29T19:35:26.607Z"
   },
   {
    "duration": 332,
    "start_time": "2022-03-29T19:35:26.623Z"
   },
   {
    "duration": 228,
    "start_time": "2022-03-29T19:35:26.957Z"
   },
   {
    "duration": 19,
    "start_time": "2022-03-29T19:35:27.188Z"
   },
   {
    "duration": 14,
    "start_time": "2022-03-29T19:35:27.212Z"
   },
   {
    "duration": 48,
    "start_time": "2022-03-29T19:35:27.228Z"
   },
   {
    "duration": 391,
    "start_time": "2022-03-29T19:35:27.279Z"
   },
   {
    "duration": 443,
    "start_time": "2022-03-29T19:35:27.672Z"
   },
   {
    "duration": 341,
    "start_time": "2022-03-29T19:35:28.117Z"
   },
   {
    "duration": 185,
    "start_time": "2022-03-29T19:35:28.461Z"
   },
   {
    "duration": 216,
    "start_time": "2022-03-29T19:35:28.649Z"
   },
   {
    "duration": 193,
    "start_time": "2022-03-29T19:35:28.867Z"
   },
   {
    "duration": 18,
    "start_time": "2022-03-29T19:35:29.063Z"
   },
   {
    "duration": 407,
    "start_time": "2022-03-29T19:35:29.083Z"
   },
   {
    "duration": 350,
    "start_time": "2022-03-29T19:35:29.492Z"
   },
   {
    "duration": 433,
    "start_time": "2022-03-29T19:35:29.844Z"
   },
   {
    "duration": 282,
    "start_time": "2022-03-29T19:35:30.279Z"
   },
   {
    "duration": 277,
    "start_time": "2022-03-29T19:35:30.567Z"
   },
   {
    "duration": 285,
    "start_time": "2022-03-29T19:35:30.847Z"
   },
   {
    "duration": 8,
    "start_time": "2022-03-29T19:35:31.135Z"
   },
   {
    "duration": 249,
    "start_time": "2022-03-29T19:35:31.145Z"
   },
   {
    "duration": 5,
    "start_time": "2022-03-29T19:35:31.397Z"
   },
   {
    "duration": 406,
    "start_time": "2022-03-29T19:35:31.405Z"
   },
   {
    "duration": 470,
    "start_time": "2022-03-29T19:35:31.814Z"
   },
   {
    "duration": 18,
    "start_time": "2022-03-29T19:35:32.286Z"
   },
   {
    "duration": 16,
    "start_time": "2022-03-29T19:35:32.307Z"
   },
   {
    "duration": 46,
    "start_time": "2022-03-29T19:35:32.326Z"
   },
   {
    "duration": 16,
    "start_time": "2022-03-29T19:35:32.374Z"
   },
   {
    "duration": 39,
    "start_time": "2022-03-29T19:35:32.392Z"
   },
   {
    "duration": 42,
    "start_time": "2022-03-29T19:35:32.433Z"
   },
   {
    "duration": 258,
    "start_time": "2022-03-29T19:36:11.469Z"
   },
   {
    "duration": 216,
    "start_time": "2022-03-29T19:36:43.945Z"
   }
  ],
  "kernelspec": {
   "display_name": "Python 3 (ipykernel)",
   "language": "python",
   "name": "python3"
  },
  "language_info": {
   "codemirror_mode": {
    "name": "ipython",
    "version": 3
   },
   "file_extension": ".py",
   "mimetype": "text/x-python",
   "name": "python",
   "nbconvert_exporter": "python",
   "pygments_lexer": "ipython3",
   "version": "3.9.5"
  },
  "toc": {
   "base_numbering": 1,
   "nav_menu": {},
   "number_sections": true,
   "sideBar": true,
   "skip_h1_title": true,
   "title_cell": "Table of Contents",
   "title_sidebar": "Contents",
   "toc_cell": false,
   "toc_position": {},
   "toc_section_display": true,
   "toc_window_display": false
  }
 },
 "nbformat": 4,
 "nbformat_minor": 2
}
