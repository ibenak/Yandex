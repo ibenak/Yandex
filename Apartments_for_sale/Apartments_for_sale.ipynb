{
 "cells": [
  {
   "cell_type": "markdown",
   "metadata": {
    "toc": true
   },
   "source": [
    "<h1>Содержание<span class=\"tocSkip\"></span></h1>\n",
    "<div class=\"toc\"><ul class=\"toc-item\"><li><span><a href=\"#Изучение-данных-из-файла\" data-toc-modified-id=\"Изучение-данных-из-файла-1\"><span class=\"toc-item-num\">1&nbsp;&nbsp;</span>Изучение данных из файла</a></span><ul class=\"toc-item\"><li><ul class=\"toc-item\"><li><span><a href=\"#Описание-даннх\" data-toc-modified-id=\"Описание-даннх-1.0.1\"><span class=\"toc-item-num\">1.0.1&nbsp;&nbsp;</span>Описание даннх</a></span></li><li><span><a href=\"#Комментарии\" data-toc-modified-id=\"Комментарии-1.0.2\"><span class=\"toc-item-num\">1.0.2&nbsp;&nbsp;</span>Комментарии</a></span></li></ul></li><li><span><a href=\"#Вывод\" data-toc-modified-id=\"Вывод-1.1\"><span class=\"toc-item-num\">1.1&nbsp;&nbsp;</span>Вывод</a></span></li></ul></li><li><span><a href=\"#Предобработка-данных\" data-toc-modified-id=\"Предобработка-данных-2\"><span class=\"toc-item-num\">2&nbsp;&nbsp;</span>Предобработка данных</a></span><ul class=\"toc-item\"><li><ul class=\"toc-item\"><li><span><a href=\"#Комментарии-по-living_area\" data-toc-modified-id=\"Комментарии-по-living_area-2.0.1\"><span class=\"toc-item-num\">2.0.1&nbsp;&nbsp;</span>Комментарии по living_area</a></span></li><li><span><a href=\"#Комментарии-по-kitchen_area\" data-toc-modified-id=\"Комментарии-по-kitchen_area-2.0.2\"><span class=\"toc-item-num\">2.0.2&nbsp;&nbsp;</span>Комментарии по kitchen_area</a></span></li></ul></li><li><span><a href=\"#Вывод\" data-toc-modified-id=\"Вывод-2.1\"><span class=\"toc-item-num\">2.1&nbsp;&nbsp;</span>Вывод</a></span></li></ul></li><li><span><a href=\"#Расчёты-и-добавление-результатов-в-таблицу\" data-toc-modified-id=\"Расчёты-и-добавление-результатов-в-таблицу-3\"><span class=\"toc-item-num\">3&nbsp;&nbsp;</span>Расчёты и добавление результатов в таблицу</a></span><ul class=\"toc-item\"><li><ul class=\"toc-item\"><li><span><a href=\"#задача-посчитать:\" data-toc-modified-id=\"задача-посчитать:-3.0.1\"><span class=\"toc-item-num\">3.0.1&nbsp;&nbsp;</span>задача посчитать:</a></span></li></ul></li><li><span><a href=\"#Вывод\" data-toc-modified-id=\"Вывод-3.1\"><span class=\"toc-item-num\">3.1&nbsp;&nbsp;</span>Вывод</a></span></li></ul></li><li><span><a href=\"#Исследовательский-анализ-данных\" data-toc-modified-id=\"Исследовательский-анализ-данных-4\"><span class=\"toc-item-num\">4&nbsp;&nbsp;</span>Исследовательский анализ данных</a></span><ul class=\"toc-item\"><li><ul class=\"toc-item\"><li><span><a href=\"#Задача.\" data-toc-modified-id=\"Задача.-4.0.1\"><span class=\"toc-item-num\">4.0.1&nbsp;&nbsp;</span>Задача.</a></span></li></ul></li><li><span><a href=\"#Вывод\" data-toc-modified-id=\"Вывод-4.1\"><span class=\"toc-item-num\">4.1&nbsp;&nbsp;</span>Вывод</a></span><ul class=\"toc-item\"><li><span><a href=\"#Задача.\" data-toc-modified-id=\"Задача.-4.1.1\"><span class=\"toc-item-num\">4.1.1&nbsp;&nbsp;</span>Задача.</a></span></li></ul></li><li><span><a href=\"#Вывод:\" data-toc-modified-id=\"Вывод:-4.2\"><span class=\"toc-item-num\">4.2&nbsp;&nbsp;</span>Вывод:</a></span><ul class=\"toc-item\"><li><span><a href=\"#Задача.\" data-toc-modified-id=\"Задача.-4.2.1\"><span class=\"toc-item-num\">4.2.1&nbsp;&nbsp;</span>Задача.</a></span></li><li><span><a href=\"#Комментарии\" data-toc-modified-id=\"Комментарии-4.2.2\"><span class=\"toc-item-num\">4.2.2&nbsp;&nbsp;</span>Комментарии</a></span></li><li><span><a href=\"#Комментарии\" data-toc-modified-id=\"Комментарии-4.2.3\"><span class=\"toc-item-num\">4.2.3&nbsp;&nbsp;</span>Комментарии</a></span></li><li><span><a href=\"#Вывод\" data-toc-modified-id=\"Вывод-4.2.4\"><span class=\"toc-item-num\">4.2.4&nbsp;&nbsp;</span>Вывод</a></span></li><li><span><a href=\"#задача\" data-toc-modified-id=\"задача-4.2.5\"><span class=\"toc-item-num\">4.2.5&nbsp;&nbsp;</span>задача</a></span></li><li><span><a href=\"#Вывод\" data-toc-modified-id=\"Вывод-4.2.6\"><span class=\"toc-item-num\">4.2.6&nbsp;&nbsp;</span>Вывод</a></span></li><li><span><a href=\"#задача:\" data-toc-modified-id=\"задача:-4.2.7\"><span class=\"toc-item-num\">4.2.7&nbsp;&nbsp;</span>задача:</a></span></li><li><span><a href=\"#Вывод\" data-toc-modified-id=\"Вывод-4.2.8\"><span class=\"toc-item-num\">4.2.8&nbsp;&nbsp;</span>Вывод</a></span></li><li><span><a href=\"#задача\" data-toc-modified-id=\"задача-4.2.9\"><span class=\"toc-item-num\">4.2.9&nbsp;&nbsp;</span>задача</a></span></li></ul></li><li><span><a href=\"#Вывод\" data-toc-modified-id=\"Вывод-4.3\"><span class=\"toc-item-num\">4.3&nbsp;&nbsp;</span>Вывод</a></span></li></ul></li><li><span><a href=\"#Общий-вывод\" data-toc-modified-id=\"Общий-вывод-5\"><span class=\"toc-item-num\">5&nbsp;&nbsp;</span>Общий вывод</a></span></li><li><span><a href=\"#Чек-лист-готовности-проекта\" data-toc-modified-id=\"Чек-лист-готовности-проекта-6\"><span class=\"toc-item-num\">6&nbsp;&nbsp;</span>Чек-лист готовности проекта</a></span></li></ul></div>"
   ]
  },
  {
   "cell_type": "markdown",
   "metadata": {},
   "source": [
    "# Исследование объявлений о продаже квартир\n",
    "\n",
    "В вашем распоряжении данные сервиса Яндекс.Недвижимость — архив объявлений о продаже квартир в Санкт-Петербурге и соседних населённых пунктах за несколько лет. Нужно научиться определять рыночную стоимость объектов недвижимости. Ваша задача — установить параметры. Это позволит построить автоматизированную систему: она отследит аномалии и мошенническую деятельность. \n",
    "\n",
    "По каждой квартире на продажу доступны два вида данных. Первые вписаны пользователем, вторые получены автоматически на основе картографических данных. Например, расстояние до центра, аэропорта, ближайшего парка и водоёма. "
   ]
  },
  {
   "cell_type": "markdown",
   "metadata": {},
   "source": [
    "## Изучение данных из файла"
   ]
  },
  {
   "cell_type": "code",
   "execution_count": 137,
   "metadata": {},
   "outputs": [],
   "source": [
    "import pandas as pd\n",
    "import matplotlib.pyplot as plt\n",
    "\n",
    "data = pd.read_csv ('/datasets/real_estate_data.csv', sep='\\t')"
   ]
  },
  {
   "cell_type": "code",
   "execution_count": 138,
   "metadata": {
    "scrolled": true
   },
   "outputs": [
    {
     "data": {
      "text/html": [
       "<div>\n",
       "<style scoped>\n",
       "    .dataframe tbody tr th:only-of-type {\n",
       "        vertical-align: middle;\n",
       "    }\n",
       "\n",
       "    .dataframe tbody tr th {\n",
       "        vertical-align: top;\n",
       "    }\n",
       "\n",
       "    .dataframe thead th {\n",
       "        text-align: right;\n",
       "    }\n",
       "</style>\n",
       "<table border=\"1\" class=\"dataframe\">\n",
       "  <thead>\n",
       "    <tr style=\"text-align: right;\">\n",
       "      <th></th>\n",
       "      <th>total_images</th>\n",
       "      <th>last_price</th>\n",
       "      <th>total_area</th>\n",
       "      <th>first_day_exposition</th>\n",
       "      <th>rooms</th>\n",
       "      <th>ceiling_height</th>\n",
       "      <th>floors_total</th>\n",
       "      <th>living_area</th>\n",
       "      <th>floor</th>\n",
       "      <th>is_apartment</th>\n",
       "      <th>...</th>\n",
       "      <th>kitchen_area</th>\n",
       "      <th>balcony</th>\n",
       "      <th>locality_name</th>\n",
       "      <th>airports_nearest</th>\n",
       "      <th>cityCenters_nearest</th>\n",
       "      <th>parks_around3000</th>\n",
       "      <th>parks_nearest</th>\n",
       "      <th>ponds_around3000</th>\n",
       "      <th>ponds_nearest</th>\n",
       "      <th>days_exposition</th>\n",
       "    </tr>\n",
       "  </thead>\n",
       "  <tbody>\n",
       "    <tr>\n",
       "      <td>0</td>\n",
       "      <td>20</td>\n",
       "      <td>13000000.0</td>\n",
       "      <td>108.00</td>\n",
       "      <td>2019-03-07T00:00:00</td>\n",
       "      <td>3</td>\n",
       "      <td>2.70</td>\n",
       "      <td>16.0</td>\n",
       "      <td>51.00</td>\n",
       "      <td>8</td>\n",
       "      <td>NaN</td>\n",
       "      <td>...</td>\n",
       "      <td>25.00</td>\n",
       "      <td>NaN</td>\n",
       "      <td>Санкт-Петербург</td>\n",
       "      <td>18863.0</td>\n",
       "      <td>16028.0</td>\n",
       "      <td>1.0</td>\n",
       "      <td>482.0</td>\n",
       "      <td>2.0</td>\n",
       "      <td>755.0</td>\n",
       "      <td>NaN</td>\n",
       "    </tr>\n",
       "    <tr>\n",
       "      <td>1</td>\n",
       "      <td>7</td>\n",
       "      <td>3350000.0</td>\n",
       "      <td>40.40</td>\n",
       "      <td>2018-12-04T00:00:00</td>\n",
       "      <td>1</td>\n",
       "      <td>NaN</td>\n",
       "      <td>11.0</td>\n",
       "      <td>18.60</td>\n",
       "      <td>1</td>\n",
       "      <td>NaN</td>\n",
       "      <td>...</td>\n",
       "      <td>11.00</td>\n",
       "      <td>2.0</td>\n",
       "      <td>посёлок Шушары</td>\n",
       "      <td>12817.0</td>\n",
       "      <td>18603.0</td>\n",
       "      <td>0.0</td>\n",
       "      <td>NaN</td>\n",
       "      <td>0.0</td>\n",
       "      <td>NaN</td>\n",
       "      <td>81.0</td>\n",
       "    </tr>\n",
       "    <tr>\n",
       "      <td>2</td>\n",
       "      <td>10</td>\n",
       "      <td>5196000.0</td>\n",
       "      <td>56.00</td>\n",
       "      <td>2015-08-20T00:00:00</td>\n",
       "      <td>2</td>\n",
       "      <td>NaN</td>\n",
       "      <td>5.0</td>\n",
       "      <td>34.30</td>\n",
       "      <td>4</td>\n",
       "      <td>NaN</td>\n",
       "      <td>...</td>\n",
       "      <td>8.30</td>\n",
       "      <td>0.0</td>\n",
       "      <td>Санкт-Петербург</td>\n",
       "      <td>21741.0</td>\n",
       "      <td>13933.0</td>\n",
       "      <td>1.0</td>\n",
       "      <td>90.0</td>\n",
       "      <td>2.0</td>\n",
       "      <td>574.0</td>\n",
       "      <td>558.0</td>\n",
       "    </tr>\n",
       "    <tr>\n",
       "      <td>3</td>\n",
       "      <td>0</td>\n",
       "      <td>64900000.0</td>\n",
       "      <td>159.00</td>\n",
       "      <td>2015-07-24T00:00:00</td>\n",
       "      <td>3</td>\n",
       "      <td>NaN</td>\n",
       "      <td>14.0</td>\n",
       "      <td>NaN</td>\n",
       "      <td>9</td>\n",
       "      <td>NaN</td>\n",
       "      <td>...</td>\n",
       "      <td>NaN</td>\n",
       "      <td>0.0</td>\n",
       "      <td>Санкт-Петербург</td>\n",
       "      <td>28098.0</td>\n",
       "      <td>6800.0</td>\n",
       "      <td>2.0</td>\n",
       "      <td>84.0</td>\n",
       "      <td>3.0</td>\n",
       "      <td>234.0</td>\n",
       "      <td>424.0</td>\n",
       "    </tr>\n",
       "    <tr>\n",
       "      <td>4</td>\n",
       "      <td>2</td>\n",
       "      <td>10000000.0</td>\n",
       "      <td>100.00</td>\n",
       "      <td>2018-06-19T00:00:00</td>\n",
       "      <td>2</td>\n",
       "      <td>3.03</td>\n",
       "      <td>14.0</td>\n",
       "      <td>32.00</td>\n",
       "      <td>13</td>\n",
       "      <td>NaN</td>\n",
       "      <td>...</td>\n",
       "      <td>41.00</td>\n",
       "      <td>NaN</td>\n",
       "      <td>Санкт-Петербург</td>\n",
       "      <td>31856.0</td>\n",
       "      <td>8098.0</td>\n",
       "      <td>2.0</td>\n",
       "      <td>112.0</td>\n",
       "      <td>1.0</td>\n",
       "      <td>48.0</td>\n",
       "      <td>121.0</td>\n",
       "    </tr>\n",
       "    <tr>\n",
       "      <td>5</td>\n",
       "      <td>10</td>\n",
       "      <td>2890000.0</td>\n",
       "      <td>30.40</td>\n",
       "      <td>2018-09-10T00:00:00</td>\n",
       "      <td>1</td>\n",
       "      <td>NaN</td>\n",
       "      <td>12.0</td>\n",
       "      <td>14.40</td>\n",
       "      <td>5</td>\n",
       "      <td>NaN</td>\n",
       "      <td>...</td>\n",
       "      <td>9.10</td>\n",
       "      <td>NaN</td>\n",
       "      <td>городской посёлок Янино-1</td>\n",
       "      <td>NaN</td>\n",
       "      <td>NaN</td>\n",
       "      <td>NaN</td>\n",
       "      <td>NaN</td>\n",
       "      <td>NaN</td>\n",
       "      <td>NaN</td>\n",
       "      <td>55.0</td>\n",
       "    </tr>\n",
       "    <tr>\n",
       "      <td>6</td>\n",
       "      <td>6</td>\n",
       "      <td>3700000.0</td>\n",
       "      <td>37.30</td>\n",
       "      <td>2017-11-02T00:00:00</td>\n",
       "      <td>1</td>\n",
       "      <td>NaN</td>\n",
       "      <td>26.0</td>\n",
       "      <td>10.60</td>\n",
       "      <td>6</td>\n",
       "      <td>NaN</td>\n",
       "      <td>...</td>\n",
       "      <td>14.40</td>\n",
       "      <td>1.0</td>\n",
       "      <td>посёлок Парголово</td>\n",
       "      <td>52996.0</td>\n",
       "      <td>19143.0</td>\n",
       "      <td>0.0</td>\n",
       "      <td>NaN</td>\n",
       "      <td>0.0</td>\n",
       "      <td>NaN</td>\n",
       "      <td>155.0</td>\n",
       "    </tr>\n",
       "    <tr>\n",
       "      <td>7</td>\n",
       "      <td>5</td>\n",
       "      <td>7915000.0</td>\n",
       "      <td>71.60</td>\n",
       "      <td>2019-04-18T00:00:00</td>\n",
       "      <td>2</td>\n",
       "      <td>NaN</td>\n",
       "      <td>24.0</td>\n",
       "      <td>NaN</td>\n",
       "      <td>22</td>\n",
       "      <td>NaN</td>\n",
       "      <td>...</td>\n",
       "      <td>18.90</td>\n",
       "      <td>2.0</td>\n",
       "      <td>Санкт-Петербург</td>\n",
       "      <td>23982.0</td>\n",
       "      <td>11634.0</td>\n",
       "      <td>0.0</td>\n",
       "      <td>NaN</td>\n",
       "      <td>0.0</td>\n",
       "      <td>NaN</td>\n",
       "      <td>NaN</td>\n",
       "    </tr>\n",
       "    <tr>\n",
       "      <td>8</td>\n",
       "      <td>20</td>\n",
       "      <td>2900000.0</td>\n",
       "      <td>33.16</td>\n",
       "      <td>2018-05-23T00:00:00</td>\n",
       "      <td>1</td>\n",
       "      <td>NaN</td>\n",
       "      <td>27.0</td>\n",
       "      <td>15.43</td>\n",
       "      <td>26</td>\n",
       "      <td>NaN</td>\n",
       "      <td>...</td>\n",
       "      <td>8.81</td>\n",
       "      <td>NaN</td>\n",
       "      <td>посёлок Мурино</td>\n",
       "      <td>NaN</td>\n",
       "      <td>NaN</td>\n",
       "      <td>NaN</td>\n",
       "      <td>NaN</td>\n",
       "      <td>NaN</td>\n",
       "      <td>NaN</td>\n",
       "      <td>189.0</td>\n",
       "    </tr>\n",
       "    <tr>\n",
       "      <td>9</td>\n",
       "      <td>18</td>\n",
       "      <td>5400000.0</td>\n",
       "      <td>61.00</td>\n",
       "      <td>2017-02-26T00:00:00</td>\n",
       "      <td>3</td>\n",
       "      <td>2.50</td>\n",
       "      <td>9.0</td>\n",
       "      <td>43.60</td>\n",
       "      <td>7</td>\n",
       "      <td>NaN</td>\n",
       "      <td>...</td>\n",
       "      <td>6.50</td>\n",
       "      <td>2.0</td>\n",
       "      <td>Санкт-Петербург</td>\n",
       "      <td>50898.0</td>\n",
       "      <td>15008.0</td>\n",
       "      <td>0.0</td>\n",
       "      <td>NaN</td>\n",
       "      <td>0.0</td>\n",
       "      <td>NaN</td>\n",
       "      <td>289.0</td>\n",
       "    </tr>\n",
       "    <tr>\n",
       "      <td>10</td>\n",
       "      <td>5</td>\n",
       "      <td>5050000.0</td>\n",
       "      <td>39.60</td>\n",
       "      <td>2017-11-16T00:00:00</td>\n",
       "      <td>1</td>\n",
       "      <td>2.67</td>\n",
       "      <td>12.0</td>\n",
       "      <td>20.30</td>\n",
       "      <td>3</td>\n",
       "      <td>NaN</td>\n",
       "      <td>...</td>\n",
       "      <td>8.50</td>\n",
       "      <td>NaN</td>\n",
       "      <td>Санкт-Петербург</td>\n",
       "      <td>38357.0</td>\n",
       "      <td>13878.0</td>\n",
       "      <td>1.0</td>\n",
       "      <td>310.0</td>\n",
       "      <td>2.0</td>\n",
       "      <td>553.0</td>\n",
       "      <td>137.0</td>\n",
       "    </tr>\n",
       "    <tr>\n",
       "      <td>11</td>\n",
       "      <td>9</td>\n",
       "      <td>3300000.0</td>\n",
       "      <td>44.00</td>\n",
       "      <td>2018-08-27T00:00:00</td>\n",
       "      <td>2</td>\n",
       "      <td>NaN</td>\n",
       "      <td>5.0</td>\n",
       "      <td>31.00</td>\n",
       "      <td>4</td>\n",
       "      <td>False</td>\n",
       "      <td>...</td>\n",
       "      <td>6.00</td>\n",
       "      <td>1.0</td>\n",
       "      <td>Ломоносов</td>\n",
       "      <td>48252.0</td>\n",
       "      <td>51677.0</td>\n",
       "      <td>0.0</td>\n",
       "      <td>NaN</td>\n",
       "      <td>0.0</td>\n",
       "      <td>NaN</td>\n",
       "      <td>7.0</td>\n",
       "    </tr>\n",
       "    <tr>\n",
       "      <td>12</td>\n",
       "      <td>10</td>\n",
       "      <td>3890000.0</td>\n",
       "      <td>54.00</td>\n",
       "      <td>2016-06-30T00:00:00</td>\n",
       "      <td>2</td>\n",
       "      <td>NaN</td>\n",
       "      <td>5.0</td>\n",
       "      <td>30.00</td>\n",
       "      <td>5</td>\n",
       "      <td>NaN</td>\n",
       "      <td>...</td>\n",
       "      <td>9.00</td>\n",
       "      <td>0.0</td>\n",
       "      <td>Сертолово</td>\n",
       "      <td>NaN</td>\n",
       "      <td>NaN</td>\n",
       "      <td>NaN</td>\n",
       "      <td>NaN</td>\n",
       "      <td>NaN</td>\n",
       "      <td>NaN</td>\n",
       "      <td>90.0</td>\n",
       "    </tr>\n",
       "    <tr>\n",
       "      <td>13</td>\n",
       "      <td>20</td>\n",
       "      <td>3550000.0</td>\n",
       "      <td>42.80</td>\n",
       "      <td>2017-07-01T00:00:00</td>\n",
       "      <td>2</td>\n",
       "      <td>2.56</td>\n",
       "      <td>5.0</td>\n",
       "      <td>27.00</td>\n",
       "      <td>5</td>\n",
       "      <td>NaN</td>\n",
       "      <td>...</td>\n",
       "      <td>5.20</td>\n",
       "      <td>1.0</td>\n",
       "      <td>Петергоф</td>\n",
       "      <td>37868.0</td>\n",
       "      <td>33058.0</td>\n",
       "      <td>1.0</td>\n",
       "      <td>294.0</td>\n",
       "      <td>3.0</td>\n",
       "      <td>298.0</td>\n",
       "      <td>366.0</td>\n",
       "    </tr>\n",
       "    <tr>\n",
       "      <td>14</td>\n",
       "      <td>1</td>\n",
       "      <td>4400000.0</td>\n",
       "      <td>36.00</td>\n",
       "      <td>2016-06-23T00:00:00</td>\n",
       "      <td>1</td>\n",
       "      <td>NaN</td>\n",
       "      <td>6.0</td>\n",
       "      <td>17.00</td>\n",
       "      <td>1</td>\n",
       "      <td>NaN</td>\n",
       "      <td>...</td>\n",
       "      <td>8.00</td>\n",
       "      <td>0.0</td>\n",
       "      <td>Пушкин</td>\n",
       "      <td>20782.0</td>\n",
       "      <td>30759.0</td>\n",
       "      <td>0.0</td>\n",
       "      <td>NaN</td>\n",
       "      <td>1.0</td>\n",
       "      <td>96.0</td>\n",
       "      <td>203.0</td>\n",
       "    </tr>\n",
       "  </tbody>\n",
       "</table>\n",
       "<p>15 rows × 22 columns</p>\n",
       "</div>"
      ],
      "text/plain": [
       "    total_images  last_price  total_area first_day_exposition  rooms  \\\n",
       "0             20  13000000.0      108.00  2019-03-07T00:00:00      3   \n",
       "1              7   3350000.0       40.40  2018-12-04T00:00:00      1   \n",
       "2             10   5196000.0       56.00  2015-08-20T00:00:00      2   \n",
       "3              0  64900000.0      159.00  2015-07-24T00:00:00      3   \n",
       "4              2  10000000.0      100.00  2018-06-19T00:00:00      2   \n",
       "5             10   2890000.0       30.40  2018-09-10T00:00:00      1   \n",
       "6              6   3700000.0       37.30  2017-11-02T00:00:00      1   \n",
       "7              5   7915000.0       71.60  2019-04-18T00:00:00      2   \n",
       "8             20   2900000.0       33.16  2018-05-23T00:00:00      1   \n",
       "9             18   5400000.0       61.00  2017-02-26T00:00:00      3   \n",
       "10             5   5050000.0       39.60  2017-11-16T00:00:00      1   \n",
       "11             9   3300000.0       44.00  2018-08-27T00:00:00      2   \n",
       "12            10   3890000.0       54.00  2016-06-30T00:00:00      2   \n",
       "13            20   3550000.0       42.80  2017-07-01T00:00:00      2   \n",
       "14             1   4400000.0       36.00  2016-06-23T00:00:00      1   \n",
       "\n",
       "    ceiling_height  floors_total  living_area  floor is_apartment  ...  \\\n",
       "0             2.70          16.0        51.00      8          NaN  ...   \n",
       "1              NaN          11.0        18.60      1          NaN  ...   \n",
       "2              NaN           5.0        34.30      4          NaN  ...   \n",
       "3              NaN          14.0          NaN      9          NaN  ...   \n",
       "4             3.03          14.0        32.00     13          NaN  ...   \n",
       "5              NaN          12.0        14.40      5          NaN  ...   \n",
       "6              NaN          26.0        10.60      6          NaN  ...   \n",
       "7              NaN          24.0          NaN     22          NaN  ...   \n",
       "8              NaN          27.0        15.43     26          NaN  ...   \n",
       "9             2.50           9.0        43.60      7          NaN  ...   \n",
       "10            2.67          12.0        20.30      3          NaN  ...   \n",
       "11             NaN           5.0        31.00      4        False  ...   \n",
       "12             NaN           5.0        30.00      5          NaN  ...   \n",
       "13            2.56           5.0        27.00      5          NaN  ...   \n",
       "14             NaN           6.0        17.00      1          NaN  ...   \n",
       "\n",
       "    kitchen_area  balcony              locality_name  airports_nearest  \\\n",
       "0          25.00      NaN            Санкт-Петербург           18863.0   \n",
       "1          11.00      2.0             посёлок Шушары           12817.0   \n",
       "2           8.30      0.0            Санкт-Петербург           21741.0   \n",
       "3            NaN      0.0            Санкт-Петербург           28098.0   \n",
       "4          41.00      NaN            Санкт-Петербург           31856.0   \n",
       "5           9.10      NaN  городской посёлок Янино-1               NaN   \n",
       "6          14.40      1.0          посёлок Парголово           52996.0   \n",
       "7          18.90      2.0            Санкт-Петербург           23982.0   \n",
       "8           8.81      NaN             посёлок Мурино               NaN   \n",
       "9           6.50      2.0            Санкт-Петербург           50898.0   \n",
       "10          8.50      NaN            Санкт-Петербург           38357.0   \n",
       "11          6.00      1.0                  Ломоносов           48252.0   \n",
       "12          9.00      0.0                  Сертолово               NaN   \n",
       "13          5.20      1.0                   Петергоф           37868.0   \n",
       "14          8.00      0.0                     Пушкин           20782.0   \n",
       "\n",
       "   cityCenters_nearest  parks_around3000  parks_nearest  ponds_around3000  \\\n",
       "0              16028.0               1.0          482.0               2.0   \n",
       "1              18603.0               0.0            NaN               0.0   \n",
       "2              13933.0               1.0           90.0               2.0   \n",
       "3               6800.0               2.0           84.0               3.0   \n",
       "4               8098.0               2.0          112.0               1.0   \n",
       "5                  NaN               NaN            NaN               NaN   \n",
       "6              19143.0               0.0            NaN               0.0   \n",
       "7              11634.0               0.0            NaN               0.0   \n",
       "8                  NaN               NaN            NaN               NaN   \n",
       "9              15008.0               0.0            NaN               0.0   \n",
       "10             13878.0               1.0          310.0               2.0   \n",
       "11             51677.0               0.0            NaN               0.0   \n",
       "12                 NaN               NaN            NaN               NaN   \n",
       "13             33058.0               1.0          294.0               3.0   \n",
       "14             30759.0               0.0            NaN               1.0   \n",
       "\n",
       "    ponds_nearest  days_exposition  \n",
       "0           755.0              NaN  \n",
       "1             NaN             81.0  \n",
       "2           574.0            558.0  \n",
       "3           234.0            424.0  \n",
       "4            48.0            121.0  \n",
       "5             NaN             55.0  \n",
       "6             NaN            155.0  \n",
       "7             NaN              NaN  \n",
       "8             NaN            189.0  \n",
       "9             NaN            289.0  \n",
       "10          553.0            137.0  \n",
       "11            NaN              7.0  \n",
       "12            NaN             90.0  \n",
       "13          298.0            366.0  \n",
       "14           96.0            203.0  \n",
       "\n",
       "[15 rows x 22 columns]"
      ]
     },
     "execution_count": 138,
     "metadata": {},
     "output_type": "execute_result"
    }
   ],
   "source": [
    "data.head(15)"
   ]
  },
  {
   "cell_type": "markdown",
   "metadata": {},
   "source": [
    "#### Описание даннх\n",
    "- airports_nearest — расстояние до ближайшего аэропорта в метрах (м)\n",
    "- balcony — число балконов\n",
    "- ceiling_height — высота потолков (м)\n",
    "- cityCenters_nearest — расстояние до центра города (м)\n",
    "- days_exposition — сколько дней было размещено объявление (от публикации до снятия)\n",
    "- first_day_exposition — дата публикации\n",
    "- floor — этаж\n",
    "- floors_total — всего этажей в доме\n",
    "- is_apartment — апартаменты (булев тип)\n",
    "- kitchen_area — площадь кухни в квадратных метрах (м²)\n",
    "- last_price — цена на момент снятия с публикации\n",
    "- living_area — жилая площадь в квадратных метрах (м²)\n",
    "- locality_name — название населённого пункта\n",
    "- open_plan — свободная планировка (булев тип)\n",
    "- parks_around3000 — число парков в радиусе 3 км\n",
    "- parks_nearest — расстояние до ближайшего парка (м)\n",
    "- ponds_around3000 — число водоёмов в радиусе 3 км\n",
    "- ponds_nearest — расстояние до ближайшего водоёма (м)\n",
    "- rooms — число комнат\n",
    "- studio — квартира-студия (булев тип)\n",
    "- total_area — площадь квартиры в квадратных метрах (м²)\n",
    "- total_images — число фотографий квартиры в объявлении"
   ]
  },
  {
   "cell_type": "code",
   "execution_count": 139,
   "metadata": {
    "scrolled": true
   },
   "outputs": [
    {
     "name": "stdout",
     "output_type": "stream",
     "text": [
      "<class 'pandas.core.frame.DataFrame'>\n",
      "RangeIndex: 23699 entries, 0 to 23698\n",
      "Data columns (total 22 columns):\n",
      "total_images            23699 non-null int64\n",
      "last_price              23699 non-null float64\n",
      "total_area              23699 non-null float64\n",
      "first_day_exposition    23699 non-null object\n",
      "rooms                   23699 non-null int64\n",
      "ceiling_height          14504 non-null float64\n",
      "floors_total            23613 non-null float64\n",
      "living_area             21796 non-null float64\n",
      "floor                   23699 non-null int64\n",
      "is_apartment            2775 non-null object\n",
      "studio                  23699 non-null bool\n",
      "open_plan               23699 non-null bool\n",
      "kitchen_area            21421 non-null float64\n",
      "balcony                 12180 non-null float64\n",
      "locality_name           23650 non-null object\n",
      "airports_nearest        18157 non-null float64\n",
      "cityCenters_nearest     18180 non-null float64\n",
      "parks_around3000        18181 non-null float64\n",
      "parks_nearest           8079 non-null float64\n",
      "ponds_around3000        18181 non-null float64\n",
      "ponds_nearest           9110 non-null float64\n",
      "days_exposition         20518 non-null float64\n",
      "dtypes: bool(2), float64(14), int64(3), object(3)\n",
      "memory usage: 3.7+ MB\n"
     ]
    }
   ],
   "source": [
    "data.info()"
   ]
  },
  {
   "cell_type": "markdown",
   "metadata": {},
   "source": [
    "#### Комментарии\n",
    "- first_day_exposition  тип не соответсвует дате\n",
    "- floors_total - логично что должно быть int как и floor, но может из-за мансард такой тип\n",
    "- is_apartment - указано что должно быть bool\n",
    "- пропущенные значения нужно разбирать"
   ]
  },
  {
   "cell_type": "code",
   "execution_count": 140,
   "metadata": {},
   "outputs": [
    {
     "data": {
      "text/plain": [
       "total_images                0\n",
       "last_price                  0\n",
       "total_area                  0\n",
       "first_day_exposition        0\n",
       "rooms                       0\n",
       "ceiling_height           9195\n",
       "floors_total               86\n",
       "living_area              1903\n",
       "floor                       0\n",
       "is_apartment            20924\n",
       "studio                      0\n",
       "open_plan                   0\n",
       "kitchen_area             2278\n",
       "balcony                 11519\n",
       "locality_name              49\n",
       "airports_nearest         5542\n",
       "cityCenters_nearest      5519\n",
       "parks_around3000         5518\n",
       "parks_nearest           15620\n",
       "ponds_around3000         5518\n",
       "ponds_nearest           14589\n",
       "days_exposition          3181\n",
       "dtype: int64"
      ]
     },
     "execution_count": 140,
     "metadata": {},
     "output_type": "execute_result"
    }
   ],
   "source": [
    "data.isna().sum() #посмотрим пропуски где и сколько"
   ]
  },
  {
   "cell_type": "code",
   "execution_count": 141,
   "metadata": {},
   "outputs": [
    {
     "data": {
      "text/html": [
       "<div>\n",
       "<style scoped>\n",
       "    .dataframe tbody tr th:only-of-type {\n",
       "        vertical-align: middle;\n",
       "    }\n",
       "\n",
       "    .dataframe tbody tr th {\n",
       "        vertical-align: top;\n",
       "    }\n",
       "\n",
       "    .dataframe thead th {\n",
       "        text-align: right;\n",
       "    }\n",
       "</style>\n",
       "<table border=\"1\" class=\"dataframe\">\n",
       "  <thead>\n",
       "    <tr style=\"text-align: right;\">\n",
       "      <th></th>\n",
       "      <th>total_images</th>\n",
       "      <th>last_price</th>\n",
       "      <th>total_area</th>\n",
       "      <th>rooms</th>\n",
       "      <th>ceiling_height</th>\n",
       "      <th>floors_total</th>\n",
       "      <th>living_area</th>\n",
       "      <th>floor</th>\n",
       "      <th>kitchen_area</th>\n",
       "      <th>balcony</th>\n",
       "      <th>airports_nearest</th>\n",
       "      <th>cityCenters_nearest</th>\n",
       "      <th>parks_around3000</th>\n",
       "      <th>parks_nearest</th>\n",
       "      <th>ponds_around3000</th>\n",
       "      <th>ponds_nearest</th>\n",
       "      <th>days_exposition</th>\n",
       "    </tr>\n",
       "  </thead>\n",
       "  <tbody>\n",
       "    <tr>\n",
       "      <td>count</td>\n",
       "      <td>23699.000000</td>\n",
       "      <td>2.369900e+04</td>\n",
       "      <td>23699.000000</td>\n",
       "      <td>23699.000000</td>\n",
       "      <td>14504.000000</td>\n",
       "      <td>23613.000000</td>\n",
       "      <td>21796.000000</td>\n",
       "      <td>23699.000000</td>\n",
       "      <td>21421.000000</td>\n",
       "      <td>12180.000000</td>\n",
       "      <td>18157.000000</td>\n",
       "      <td>18180.000000</td>\n",
       "      <td>18181.000000</td>\n",
       "      <td>8079.000000</td>\n",
       "      <td>18181.000000</td>\n",
       "      <td>9110.000000</td>\n",
       "      <td>20518.000000</td>\n",
       "    </tr>\n",
       "    <tr>\n",
       "      <td>mean</td>\n",
       "      <td>9.858475</td>\n",
       "      <td>6.541549e+06</td>\n",
       "      <td>60.348651</td>\n",
       "      <td>2.070636</td>\n",
       "      <td>2.771499</td>\n",
       "      <td>10.673824</td>\n",
       "      <td>34.457852</td>\n",
       "      <td>5.892358</td>\n",
       "      <td>10.569807</td>\n",
       "      <td>1.150082</td>\n",
       "      <td>28793.672193</td>\n",
       "      <td>14191.277833</td>\n",
       "      <td>0.611408</td>\n",
       "      <td>490.804555</td>\n",
       "      <td>0.770255</td>\n",
       "      <td>517.980900</td>\n",
       "      <td>180.888634</td>\n",
       "    </tr>\n",
       "    <tr>\n",
       "      <td>std</td>\n",
       "      <td>5.682529</td>\n",
       "      <td>1.088701e+07</td>\n",
       "      <td>35.654083</td>\n",
       "      <td>1.078405</td>\n",
       "      <td>1.261056</td>\n",
       "      <td>6.597173</td>\n",
       "      <td>22.030445</td>\n",
       "      <td>4.885249</td>\n",
       "      <td>5.905438</td>\n",
       "      <td>1.071300</td>\n",
       "      <td>12630.880622</td>\n",
       "      <td>8608.386210</td>\n",
       "      <td>0.802074</td>\n",
       "      <td>342.317995</td>\n",
       "      <td>0.938346</td>\n",
       "      <td>277.720643</td>\n",
       "      <td>219.727988</td>\n",
       "    </tr>\n",
       "    <tr>\n",
       "      <td>min</td>\n",
       "      <td>0.000000</td>\n",
       "      <td>1.219000e+04</td>\n",
       "      <td>12.000000</td>\n",
       "      <td>0.000000</td>\n",
       "      <td>1.000000</td>\n",
       "      <td>1.000000</td>\n",
       "      <td>2.000000</td>\n",
       "      <td>1.000000</td>\n",
       "      <td>1.300000</td>\n",
       "      <td>0.000000</td>\n",
       "      <td>0.000000</td>\n",
       "      <td>181.000000</td>\n",
       "      <td>0.000000</td>\n",
       "      <td>1.000000</td>\n",
       "      <td>0.000000</td>\n",
       "      <td>13.000000</td>\n",
       "      <td>1.000000</td>\n",
       "    </tr>\n",
       "    <tr>\n",
       "      <td>25%</td>\n",
       "      <td>6.000000</td>\n",
       "      <td>3.400000e+06</td>\n",
       "      <td>40.000000</td>\n",
       "      <td>1.000000</td>\n",
       "      <td>2.520000</td>\n",
       "      <td>5.000000</td>\n",
       "      <td>18.600000</td>\n",
       "      <td>2.000000</td>\n",
       "      <td>7.000000</td>\n",
       "      <td>0.000000</td>\n",
       "      <td>18585.000000</td>\n",
       "      <td>9238.000000</td>\n",
       "      <td>0.000000</td>\n",
       "      <td>288.000000</td>\n",
       "      <td>0.000000</td>\n",
       "      <td>294.000000</td>\n",
       "      <td>45.000000</td>\n",
       "    </tr>\n",
       "    <tr>\n",
       "      <td>50%</td>\n",
       "      <td>9.000000</td>\n",
       "      <td>4.650000e+06</td>\n",
       "      <td>52.000000</td>\n",
       "      <td>2.000000</td>\n",
       "      <td>2.650000</td>\n",
       "      <td>9.000000</td>\n",
       "      <td>30.000000</td>\n",
       "      <td>4.000000</td>\n",
       "      <td>9.100000</td>\n",
       "      <td>1.000000</td>\n",
       "      <td>26726.000000</td>\n",
       "      <td>13098.500000</td>\n",
       "      <td>0.000000</td>\n",
       "      <td>455.000000</td>\n",
       "      <td>1.000000</td>\n",
       "      <td>502.000000</td>\n",
       "      <td>95.000000</td>\n",
       "    </tr>\n",
       "    <tr>\n",
       "      <td>75%</td>\n",
       "      <td>14.000000</td>\n",
       "      <td>6.800000e+06</td>\n",
       "      <td>69.900000</td>\n",
       "      <td>3.000000</td>\n",
       "      <td>2.800000</td>\n",
       "      <td>16.000000</td>\n",
       "      <td>42.300000</td>\n",
       "      <td>8.000000</td>\n",
       "      <td>12.000000</td>\n",
       "      <td>2.000000</td>\n",
       "      <td>37273.000000</td>\n",
       "      <td>16293.000000</td>\n",
       "      <td>1.000000</td>\n",
       "      <td>612.000000</td>\n",
       "      <td>1.000000</td>\n",
       "      <td>729.000000</td>\n",
       "      <td>232.000000</td>\n",
       "    </tr>\n",
       "    <tr>\n",
       "      <td>max</td>\n",
       "      <td>50.000000</td>\n",
       "      <td>7.630000e+08</td>\n",
       "      <td>900.000000</td>\n",
       "      <td>19.000000</td>\n",
       "      <td>100.000000</td>\n",
       "      <td>60.000000</td>\n",
       "      <td>409.700000</td>\n",
       "      <td>33.000000</td>\n",
       "      <td>112.000000</td>\n",
       "      <td>5.000000</td>\n",
       "      <td>84869.000000</td>\n",
       "      <td>65968.000000</td>\n",
       "      <td>3.000000</td>\n",
       "      <td>3190.000000</td>\n",
       "      <td>3.000000</td>\n",
       "      <td>1344.000000</td>\n",
       "      <td>1580.000000</td>\n",
       "    </tr>\n",
       "  </tbody>\n",
       "</table>\n",
       "</div>"
      ],
      "text/plain": [
       "       total_images    last_price    total_area         rooms  ceiling_height  \\\n",
       "count  23699.000000  2.369900e+04  23699.000000  23699.000000    14504.000000   \n",
       "mean       9.858475  6.541549e+06     60.348651      2.070636        2.771499   \n",
       "std        5.682529  1.088701e+07     35.654083      1.078405        1.261056   \n",
       "min        0.000000  1.219000e+04     12.000000      0.000000        1.000000   \n",
       "25%        6.000000  3.400000e+06     40.000000      1.000000        2.520000   \n",
       "50%        9.000000  4.650000e+06     52.000000      2.000000        2.650000   \n",
       "75%       14.000000  6.800000e+06     69.900000      3.000000        2.800000   \n",
       "max       50.000000  7.630000e+08    900.000000     19.000000      100.000000   \n",
       "\n",
       "       floors_total   living_area         floor  kitchen_area       balcony  \\\n",
       "count  23613.000000  21796.000000  23699.000000  21421.000000  12180.000000   \n",
       "mean      10.673824     34.457852      5.892358     10.569807      1.150082   \n",
       "std        6.597173     22.030445      4.885249      5.905438      1.071300   \n",
       "min        1.000000      2.000000      1.000000      1.300000      0.000000   \n",
       "25%        5.000000     18.600000      2.000000      7.000000      0.000000   \n",
       "50%        9.000000     30.000000      4.000000      9.100000      1.000000   \n",
       "75%       16.000000     42.300000      8.000000     12.000000      2.000000   \n",
       "max       60.000000    409.700000     33.000000    112.000000      5.000000   \n",
       "\n",
       "       airports_nearest  cityCenters_nearest  parks_around3000  parks_nearest  \\\n",
       "count      18157.000000         18180.000000      18181.000000    8079.000000   \n",
       "mean       28793.672193         14191.277833          0.611408     490.804555   \n",
       "std        12630.880622          8608.386210          0.802074     342.317995   \n",
       "min            0.000000           181.000000          0.000000       1.000000   \n",
       "25%        18585.000000          9238.000000          0.000000     288.000000   \n",
       "50%        26726.000000         13098.500000          0.000000     455.000000   \n",
       "75%        37273.000000         16293.000000          1.000000     612.000000   \n",
       "max        84869.000000         65968.000000          3.000000    3190.000000   \n",
       "\n",
       "       ponds_around3000  ponds_nearest  days_exposition  \n",
       "count      18181.000000    9110.000000     20518.000000  \n",
       "mean           0.770255     517.980900       180.888634  \n",
       "std            0.938346     277.720643       219.727988  \n",
       "min            0.000000      13.000000         1.000000  \n",
       "25%            0.000000     294.000000        45.000000  \n",
       "50%            1.000000     502.000000        95.000000  \n",
       "75%            1.000000     729.000000       232.000000  \n",
       "max            3.000000    1344.000000      1580.000000  "
      ]
     },
     "execution_count": 141,
     "metadata": {},
     "output_type": "execute_result"
    }
   ],
   "source": [
    "data.describe()"
   ]
  },
  {
   "cell_type": "markdown",
   "metadata": {},
   "source": [
    "### Вывод\n",
    "Обнаружны пропуски и некорректные типы данных, которые нужно заменить. Аномальное макс значение в ceiling_height, может ошибка, так как таких потолков в кв нет. Дату нужно перевести в удобный читаемый формат. "
   ]
  },
  {
   "cell_type": "code",
   "execution_count": 142,
   "metadata": {},
   "outputs": [],
   "source": [
    "def all_info(data: pd.DataFrame):\n",
    "    print(\"info\")\n",
    "    data.info(verbose=True)\n",
    "    print('describe' + '\\n', data.describe())\n",
    "    print('head' + '\\n', data.head())\n"
   ]
  },
  {
   "cell_type": "code",
   "execution_count": 143,
   "metadata": {},
   "outputs": [
    {
     "name": "stdout",
     "output_type": "stream",
     "text": [
      "info\n",
      "<class 'pandas.core.frame.DataFrame'>\n",
      "RangeIndex: 23699 entries, 0 to 23698\n",
      "Data columns (total 22 columns):\n",
      "total_images            23699 non-null int64\n",
      "last_price              23699 non-null float64\n",
      "total_area              23699 non-null float64\n",
      "first_day_exposition    23699 non-null object\n",
      "rooms                   23699 non-null int64\n",
      "ceiling_height          14504 non-null float64\n",
      "floors_total            23613 non-null float64\n",
      "living_area             21796 non-null float64\n",
      "floor                   23699 non-null int64\n",
      "is_apartment            2775 non-null object\n",
      "studio                  23699 non-null bool\n",
      "open_plan               23699 non-null bool\n",
      "kitchen_area            21421 non-null float64\n",
      "balcony                 12180 non-null float64\n",
      "locality_name           23650 non-null object\n",
      "airports_nearest        18157 non-null float64\n",
      "cityCenters_nearest     18180 non-null float64\n",
      "parks_around3000        18181 non-null float64\n",
      "parks_nearest           8079 non-null float64\n",
      "ponds_around3000        18181 non-null float64\n",
      "ponds_nearest           9110 non-null float64\n",
      "days_exposition         20518 non-null float64\n",
      "dtypes: bool(2), float64(14), int64(3), object(3)\n",
      "memory usage: 3.7+ MB\n",
      "describe\n",
      "        total_images    last_price    total_area         rooms  ceiling_height  \\\n",
      "count  23699.000000  2.369900e+04  23699.000000  23699.000000    14504.000000   \n",
      "mean       9.858475  6.541549e+06     60.348651      2.070636        2.771499   \n",
      "std        5.682529  1.088701e+07     35.654083      1.078405        1.261056   \n",
      "min        0.000000  1.219000e+04     12.000000      0.000000        1.000000   \n",
      "25%        6.000000  3.400000e+06     40.000000      1.000000        2.520000   \n",
      "50%        9.000000  4.650000e+06     52.000000      2.000000        2.650000   \n",
      "75%       14.000000  6.800000e+06     69.900000      3.000000        2.800000   \n",
      "max       50.000000  7.630000e+08    900.000000     19.000000      100.000000   \n",
      "\n",
      "       floors_total   living_area         floor  kitchen_area       balcony  \\\n",
      "count  23613.000000  21796.000000  23699.000000  21421.000000  12180.000000   \n",
      "mean      10.673824     34.457852      5.892358     10.569807      1.150082   \n",
      "std        6.597173     22.030445      4.885249      5.905438      1.071300   \n",
      "min        1.000000      2.000000      1.000000      1.300000      0.000000   \n",
      "25%        5.000000     18.600000      2.000000      7.000000      0.000000   \n",
      "50%        9.000000     30.000000      4.000000      9.100000      1.000000   \n",
      "75%       16.000000     42.300000      8.000000     12.000000      2.000000   \n",
      "max       60.000000    409.700000     33.000000    112.000000      5.000000   \n",
      "\n",
      "       airports_nearest  cityCenters_nearest  parks_around3000  parks_nearest  \\\n",
      "count      18157.000000         18180.000000      18181.000000    8079.000000   \n",
      "mean       28793.672193         14191.277833          0.611408     490.804555   \n",
      "std        12630.880622          8608.386210          0.802074     342.317995   \n",
      "min            0.000000           181.000000          0.000000       1.000000   \n",
      "25%        18585.000000          9238.000000          0.000000     288.000000   \n",
      "50%        26726.000000         13098.500000          0.000000     455.000000   \n",
      "75%        37273.000000         16293.000000          1.000000     612.000000   \n",
      "max        84869.000000         65968.000000          3.000000    3190.000000   \n",
      "\n",
      "       ponds_around3000  ponds_nearest  days_exposition  \n",
      "count      18181.000000    9110.000000     20518.000000  \n",
      "mean           0.770255     517.980900       180.888634  \n",
      "std            0.938346     277.720643       219.727988  \n",
      "min            0.000000      13.000000         1.000000  \n",
      "25%            0.000000     294.000000        45.000000  \n",
      "50%            1.000000     502.000000        95.000000  \n",
      "75%            1.000000     729.000000       232.000000  \n",
      "max            3.000000    1344.000000      1580.000000  \n",
      "head\n",
      "    total_images  last_price  total_area first_day_exposition  rooms  \\\n",
      "0            20  13000000.0       108.0  2019-03-07T00:00:00      3   \n",
      "1             7   3350000.0        40.4  2018-12-04T00:00:00      1   \n",
      "2            10   5196000.0        56.0  2015-08-20T00:00:00      2   \n",
      "3             0  64900000.0       159.0  2015-07-24T00:00:00      3   \n",
      "4             2  10000000.0       100.0  2018-06-19T00:00:00      2   \n",
      "\n",
      "   ceiling_height  floors_total  living_area  floor is_apartment  ...  \\\n",
      "0            2.70          16.0         51.0      8          NaN  ...   \n",
      "1             NaN          11.0         18.6      1          NaN  ...   \n",
      "2             NaN           5.0         34.3      4          NaN  ...   \n",
      "3             NaN          14.0          NaN      9          NaN  ...   \n",
      "4            3.03          14.0         32.0     13          NaN  ...   \n",
      "\n",
      "   kitchen_area  balcony    locality_name  airports_nearest  \\\n",
      "0          25.0      NaN  Санкт-Петербург           18863.0   \n",
      "1          11.0      2.0   посёлок Шушары           12817.0   \n",
      "2           8.3      0.0  Санкт-Петербург           21741.0   \n",
      "3           NaN      0.0  Санкт-Петербург           28098.0   \n",
      "4          41.0      NaN  Санкт-Петербург           31856.0   \n",
      "\n",
      "  cityCenters_nearest  parks_around3000  parks_nearest  ponds_around3000  \\\n",
      "0             16028.0               1.0          482.0               2.0   \n",
      "1             18603.0               0.0            NaN               0.0   \n",
      "2             13933.0               1.0           90.0               2.0   \n",
      "3              6800.0               2.0           84.0               3.0   \n",
      "4              8098.0               2.0          112.0               1.0   \n",
      "\n",
      "   ponds_nearest  days_exposition  \n",
      "0          755.0              NaN  \n",
      "1            NaN             81.0  \n",
      "2          574.0            558.0  \n",
      "3          234.0            424.0  \n",
      "4           48.0            121.0  \n",
      "\n",
      "[5 rows x 22 columns]\n"
     ]
    }
   ],
   "source": [
    "all_info(data)"
   ]
  },
  {
   "cell_type": "markdown",
   "metadata": {},
   "source": []
  },
  {
   "cell_type": "markdown",
   "metadata": {},
   "source": [
    "## Предобработка данных"
   ]
  },
  {
   "cell_type": "code",
   "execution_count": 144,
   "metadata": {
    "scrolled": true
   },
   "outputs": [
    {
     "data": {
      "text/plain": [
       "2.50      3515\n",
       "2.60      1646\n",
       "2.70      1574\n",
       "3.00      1112\n",
       "2.80       993\n",
       "          ... \n",
       "27.50        1\n",
       "5.00         1\n",
       "3.59         1\n",
       "4.80         1\n",
       "100.00       1\n",
       "Name: ceiling_height, Length: 183, dtype: int64"
      ]
     },
     "execution_count": 144,
     "metadata": {},
     "output_type": "execute_result"
    }
   ],
   "source": [
    "#столбцы обрабатываю по очереди в соответствии с пропусками\n",
    "data['ceiling_height'].value_counts()"
   ]
  },
  {
   "cell_type": "code",
   "execution_count": 145,
   "metadata": {
    "scrolled": true
   },
   "outputs": [
    {
     "data": {
      "text/plain": [
       "22869    100.0\n",
       "3148      32.0\n",
       "22336     32.0\n",
       "21377     27.5\n",
       "4876      27.0\n",
       "5246      27.0\n",
       "5807      27.0\n",
       "10773     27.0\n",
       "17857     27.0\n",
       "20478     27.0\n",
       "21824     27.0\n",
       "22938     27.0\n",
       "5669      26.0\n",
       "355       25.0\n",
       "4643      25.0\n",
       "6246      25.0\n",
       "9379      25.0\n",
       "11285     25.0\n",
       "14382     25.0\n",
       "18545     25.0\n",
       "Name: ceiling_height, dtype: float64"
      ]
     },
     "execution_count": 145,
     "metadata": {},
     "output_type": "execute_result"
    }
   ],
   "source": [
    "data['ceiling_height'].nlargest(20) #топ 20 вцелом не особо аномальный, тем более среднее и медианное значение адекватное, менять значения не буду. Хотя возможно просто из-за технической ошибки нет ','"
   ]
  },
  {
   "cell_type": "code",
   "execution_count": 146,
   "metadata": {
    "scrolled": true
   },
   "outputs": [
    {
     "data": {
      "text/plain": [
       "floors_total\n",
       "1.0      2.80\n",
       "2.0      2.70\n",
       "3.0      2.80\n",
       "4.0      3.00\n",
       "5.0      2.55\n",
       "6.0      3.00\n",
       "7.0      3.00\n",
       "8.0      2.80\n",
       "9.0      2.55\n",
       "10.0     2.60\n",
       "11.0     2.75\n",
       "12.0     2.65\n",
       "13.0     2.70\n",
       "14.0     2.60\n",
       "15.0     2.70\n",
       "16.0     2.70\n",
       "17.0     2.70\n",
       "18.0     2.70\n",
       "19.0     2.75\n",
       "20.0     2.75\n",
       "21.0     2.70\n",
       "22.0     2.75\n",
       "23.0     2.75\n",
       "24.0     2.75\n",
       "25.0     2.75\n",
       "26.0     2.66\n",
       "27.0     2.70\n",
       "28.0     2.60\n",
       "29.0     2.60\n",
       "33.0      NaN\n",
       "34.0     2.65\n",
       "35.0     2.70\n",
       "36.0    14.85\n",
       "37.0     1.75\n",
       "52.0     2.65\n",
       "60.0     2.88\n",
       "Name: ceiling_height, dtype: float64"
      ]
     },
     "execution_count": 146,
     "metadata": {},
     "output_type": "execute_result"
    }
   ],
   "source": [
    "data.groupby('floors_total')['ceiling_height'].median() #посмотрю распределение медианы"
   ]
  },
  {
   "cell_type": "code",
   "execution_count": 147,
   "metadata": {},
   "outputs": [
    {
     "data": {
      "text/plain": [
       "Text(0.5, 0, 'ceiling_height(m)')"
      ]
     },
     "execution_count": 147,
     "metadata": {},
     "output_type": "execute_result"
    },
    {
     "data": {
      "image/png": "[encoded data removed]",
      "text/plain": [
       "<Figure size 432x288 with 1 Axes>"
      ]
     },
     "metadata": {
      "needs_background": "light"
     },
     "output_type": "display_data"
    }
   ],
   "source": [
    "#проверю как в теории аномальные значения \n",
    "import matplotlib.ticker as mticker  \n",
    "data['ceiling_height'].sort_values().plot(y = 'ceiling_height', kind = 'hist', bins = 30, range=(2,5), title = 'Потолки')\n",
    "plt.xlabel('ceiling_height(m)')"
   ]
  },
  {
   "cell_type": "code",
   "execution_count": 148,
   "metadata": {},
   "outputs": [],
   "source": [
    "ceiling_height_median = data.pivot_table(index='floors_total', values='ceiling_height', aggfunc=['median', 'count'])"
   ]
  },
  {
   "cell_type": "code",
   "execution_count": 149,
   "metadata": {},
   "outputs": [
    {
     "data": {
      "text/html": [
       "<div>\n",
       "<style scoped>\n",
       "    .dataframe tbody tr th:only-of-type {\n",
       "        vertical-align: middle;\n",
       "    }\n",
       "\n",
       "    .dataframe tbody tr th {\n",
       "        vertical-align: top;\n",
       "    }\n",
       "\n",
       "    .dataframe thead tr th {\n",
       "        text-align: left;\n",
       "    }\n",
       "\n",
       "    .dataframe thead tr:last-of-type th {\n",
       "        text-align: right;\n",
       "    }\n",
       "</style>\n",
       "<table border=\"1\" class=\"dataframe\">\n",
       "  <thead>\n",
       "    <tr>\n",
       "      <th></th>\n",
       "      <th>median</th>\n",
       "      <th>count</th>\n",
       "    </tr>\n",
       "    <tr>\n",
       "      <th></th>\n",
       "      <th>ceiling_height</th>\n",
       "      <th>ceiling_height</th>\n",
       "    </tr>\n",
       "    <tr>\n",
       "      <th>floors_total</th>\n",
       "      <th></th>\n",
       "      <th></th>\n",
       "    </tr>\n",
       "  </thead>\n",
       "  <tbody>\n",
       "    <tr>\n",
       "      <td>1.0</td>\n",
       "      <td>2.80</td>\n",
       "      <td>10</td>\n",
       "    </tr>\n",
       "    <tr>\n",
       "      <td>2.0</td>\n",
       "      <td>2.70</td>\n",
       "      <td>215</td>\n",
       "    </tr>\n",
       "    <tr>\n",
       "      <td>3.0</td>\n",
       "      <td>2.80</td>\n",
       "      <td>399</td>\n",
       "    </tr>\n",
       "    <tr>\n",
       "      <td>4.0</td>\n",
       "      <td>3.00</td>\n",
       "      <td>789</td>\n",
       "    </tr>\n",
       "    <tr>\n",
       "      <td>5.0</td>\n",
       "      <td>2.55</td>\n",
       "      <td>3666</td>\n",
       "    </tr>\n",
       "  </tbody>\n",
       "</table>\n",
       "</div>"
      ],
      "text/plain": [
       "                     median          count\n",
       "             ceiling_height ceiling_height\n",
       "floors_total                              \n",
       "1.0                    2.80             10\n",
       "2.0                    2.70            215\n",
       "3.0                    2.80            399\n",
       "4.0                    3.00            789\n",
       "5.0                    2.55           3666"
      ]
     },
     "metadata": {},
     "output_type": "display_data"
    }
   ],
   "source": [
    "display(ceiling_height_median.head(5))"
   ]
  },
  {
   "cell_type": "code",
   "execution_count": 150,
   "metadata": {},
   "outputs": [],
   "source": [
    "#фрейм с группированными значениями - скорее всего для аждого дома для определенной этажности свои нормативы\n",
    "medians = (data.groupby(['floors_total']).agg({'ceiling_height': 'median'}).rename(columns={'ceiling_height':'median_ceiling_height'}))"
   ]
  },
  {
   "cell_type": "code",
   "execution_count": 151,
   "metadata": {},
   "outputs": [],
   "source": [
    "data = data.merge(medians, on = ['floors_total'])"
   ]
  },
  {
   "cell_type": "code",
   "execution_count": 152,
   "metadata": {},
   "outputs": [],
   "source": [
    "#заменяю Nan на медианы\n",
    "data.loc[data['ceiling_height'].isna(), 'ceiling_height'] = data.loc[data['ceiling_height'].isna(), 'median_ceiling_height']"
   ]
  },
  {
   "cell_type": "code",
   "execution_count": 153,
   "metadata": {},
   "outputs": [
    {
     "data": {
      "text/plain": [
       "False    23612\n",
       "True         1\n",
       "Name: ceiling_height, dtype: int64"
      ]
     },
     "execution_count": 153,
     "metadata": {},
     "output_type": "execute_result"
    }
   ],
   "source": [
    "data['ceiling_height'].isna().value_counts() #количество пропущенных значений"
   ]
  },
  {
   "cell_type": "code",
   "execution_count": 154,
   "metadata": {
    "scrolled": true
   },
   "outputs": [
    {
     "data": {
      "text/html": [
       "<div>\n",
       "<style scoped>\n",
       "    .dataframe tbody tr th:only-of-type {\n",
       "        vertical-align: middle;\n",
       "    }\n",
       "\n",
       "    .dataframe tbody tr th {\n",
       "        vertical-align: top;\n",
       "    }\n",
       "\n",
       "    .dataframe thead tr th {\n",
       "        text-align: left;\n",
       "    }\n",
       "\n",
       "    .dataframe thead tr:last-of-type th {\n",
       "        text-align: right;\n",
       "    }\n",
       "</style>\n",
       "<table border=\"1\" class=\"dataframe\">\n",
       "  <thead>\n",
       "    <tr>\n",
       "      <th></th>\n",
       "      <th>median</th>\n",
       "      <th>count</th>\n",
       "    </tr>\n",
       "    <tr>\n",
       "      <th></th>\n",
       "      <th>ceiling_height</th>\n",
       "      <th>ceiling_height</th>\n",
       "    </tr>\n",
       "    <tr>\n",
       "      <th>floors_total</th>\n",
       "      <th></th>\n",
       "      <th></th>\n",
       "    </tr>\n",
       "  </thead>\n",
       "  <tbody>\n",
       "    <tr>\n",
       "      <td>1.0</td>\n",
       "      <td>2.80</td>\n",
       "      <td>10</td>\n",
       "    </tr>\n",
       "    <tr>\n",
       "      <td>2.0</td>\n",
       "      <td>2.70</td>\n",
       "      <td>215</td>\n",
       "    </tr>\n",
       "    <tr>\n",
       "      <td>3.0</td>\n",
       "      <td>2.80</td>\n",
       "      <td>399</td>\n",
       "    </tr>\n",
       "    <tr>\n",
       "      <td>4.0</td>\n",
       "      <td>3.00</td>\n",
       "      <td>789</td>\n",
       "    </tr>\n",
       "    <tr>\n",
       "      <td>5.0</td>\n",
       "      <td>2.55</td>\n",
       "      <td>3666</td>\n",
       "    </tr>\n",
       "    <tr>\n",
       "      <td>6.0</td>\n",
       "      <td>3.00</td>\n",
       "      <td>619</td>\n",
       "    </tr>\n",
       "    <tr>\n",
       "      <td>7.0</td>\n",
       "      <td>3.00</td>\n",
       "      <td>398</td>\n",
       "    </tr>\n",
       "    <tr>\n",
       "      <td>8.0</td>\n",
       "      <td>2.80</td>\n",
       "      <td>220</td>\n",
       "    </tr>\n",
       "    <tr>\n",
       "      <td>9.0</td>\n",
       "      <td>2.55</td>\n",
       "      <td>2557</td>\n",
       "    </tr>\n",
       "    <tr>\n",
       "      <td>10.0</td>\n",
       "      <td>2.60</td>\n",
       "      <td>750</td>\n",
       "    </tr>\n",
       "    <tr>\n",
       "      <td>11.0</td>\n",
       "      <td>2.75</td>\n",
       "      <td>109</td>\n",
       "    </tr>\n",
       "    <tr>\n",
       "      <td>12.0</td>\n",
       "      <td>2.65</td>\n",
       "      <td>853</td>\n",
       "    </tr>\n",
       "    <tr>\n",
       "      <td>13.0</td>\n",
       "      <td>2.70</td>\n",
       "      <td>117</td>\n",
       "    </tr>\n",
       "    <tr>\n",
       "      <td>14.0</td>\n",
       "      <td>2.60</td>\n",
       "      <td>343</td>\n",
       "    </tr>\n",
       "    <tr>\n",
       "      <td>15.0</td>\n",
       "      <td>2.70</td>\n",
       "      <td>225</td>\n",
       "    </tr>\n",
       "    <tr>\n",
       "      <td>16.0</td>\n",
       "      <td>2.70</td>\n",
       "      <td>865</td>\n",
       "    </tr>\n",
       "    <tr>\n",
       "      <td>17.0</td>\n",
       "      <td>2.70</td>\n",
       "      <td>503</td>\n",
       "    </tr>\n",
       "    <tr>\n",
       "      <td>18.0</td>\n",
       "      <td>2.70</td>\n",
       "      <td>275</td>\n",
       "    </tr>\n",
       "    <tr>\n",
       "      <td>19.0</td>\n",
       "      <td>2.75</td>\n",
       "      <td>134</td>\n",
       "    </tr>\n",
       "    <tr>\n",
       "      <td>20.0</td>\n",
       "      <td>2.75</td>\n",
       "      <td>156</td>\n",
       "    </tr>\n",
       "    <tr>\n",
       "      <td>21.0</td>\n",
       "      <td>2.70</td>\n",
       "      <td>65</td>\n",
       "    </tr>\n",
       "    <tr>\n",
       "      <td>22.0</td>\n",
       "      <td>2.75</td>\n",
       "      <td>141</td>\n",
       "    </tr>\n",
       "    <tr>\n",
       "      <td>23.0</td>\n",
       "      <td>2.75</td>\n",
       "      <td>196</td>\n",
       "    </tr>\n",
       "    <tr>\n",
       "      <td>24.0</td>\n",
       "      <td>2.75</td>\n",
       "      <td>217</td>\n",
       "    </tr>\n",
       "    <tr>\n",
       "      <td>25.0</td>\n",
       "      <td>2.75</td>\n",
       "      <td>523</td>\n",
       "    </tr>\n",
       "    <tr>\n",
       "      <td>26.0</td>\n",
       "      <td>2.66</td>\n",
       "      <td>54</td>\n",
       "    </tr>\n",
       "    <tr>\n",
       "      <td>27.0</td>\n",
       "      <td>2.70</td>\n",
       "      <td>72</td>\n",
       "    </tr>\n",
       "    <tr>\n",
       "      <td>28.0</td>\n",
       "      <td>2.60</td>\n",
       "      <td>9</td>\n",
       "    </tr>\n",
       "    <tr>\n",
       "      <td>29.0</td>\n",
       "      <td>2.60</td>\n",
       "      <td>1</td>\n",
       "    </tr>\n",
       "    <tr>\n",
       "      <td>33.0</td>\n",
       "      <td>NaN</td>\n",
       "      <td>0</td>\n",
       "    </tr>\n",
       "    <tr>\n",
       "      <td>34.0</td>\n",
       "      <td>2.65</td>\n",
       "      <td>1</td>\n",
       "    </tr>\n",
       "    <tr>\n",
       "      <td>35.0</td>\n",
       "      <td>2.70</td>\n",
       "      <td>8</td>\n",
       "    </tr>\n",
       "    <tr>\n",
       "      <td>36.0</td>\n",
       "      <td>14.85</td>\n",
       "      <td>2</td>\n",
       "    </tr>\n",
       "    <tr>\n",
       "      <td>37.0</td>\n",
       "      <td>1.75</td>\n",
       "      <td>1</td>\n",
       "    </tr>\n",
       "    <tr>\n",
       "      <td>52.0</td>\n",
       "      <td>2.65</td>\n",
       "      <td>1</td>\n",
       "    </tr>\n",
       "    <tr>\n",
       "      <td>60.0</td>\n",
       "      <td>2.88</td>\n",
       "      <td>1</td>\n",
       "    </tr>\n",
       "  </tbody>\n",
       "</table>\n",
       "</div>"
      ],
      "text/plain": [
       "                     median          count\n",
       "             ceiling_height ceiling_height\n",
       "floors_total                              \n",
       "1.0                    2.80             10\n",
       "2.0                    2.70            215\n",
       "3.0                    2.80            399\n",
       "4.0                    3.00            789\n",
       "5.0                    2.55           3666\n",
       "6.0                    3.00            619\n",
       "7.0                    3.00            398\n",
       "8.0                    2.80            220\n",
       "9.0                    2.55           2557\n",
       "10.0                   2.60            750\n",
       "11.0                   2.75            109\n",
       "12.0                   2.65            853\n",
       "13.0                   2.70            117\n",
       "14.0                   2.60            343\n",
       "15.0                   2.70            225\n",
       "16.0                   2.70            865\n",
       "17.0                   2.70            503\n",
       "18.0                   2.70            275\n",
       "19.0                   2.75            134\n",
       "20.0                   2.75            156\n",
       "21.0                   2.70             65\n",
       "22.0                   2.75            141\n",
       "23.0                   2.75            196\n",
       "24.0                   2.75            217\n",
       "25.0                   2.75            523\n",
       "26.0                   2.66             54\n",
       "27.0                   2.70             72\n",
       "28.0                   2.60              9\n",
       "29.0                   2.60              1\n",
       "33.0                    NaN              0\n",
       "34.0                   2.65              1\n",
       "35.0                   2.70              8\n",
       "36.0                  14.85              2\n",
       "37.0                   1.75              1\n",
       "52.0                   2.65              1\n",
       "60.0                   2.88              1"
      ]
     },
     "metadata": {},
     "output_type": "display_data"
    }
   ],
   "source": [
    "display(ceiling_height_median)"
   ]
  },
  {
   "cell_type": "code",
   "execution_count": 155,
   "metadata": {
    "scrolled": true
   },
   "outputs": [
    {
     "data": {
      "text/html": [
       "<div>\n",
       "<style scoped>\n",
       "    .dataframe tbody tr th:only-of-type {\n",
       "        vertical-align: middle;\n",
       "    }\n",
       "\n",
       "    .dataframe tbody tr th {\n",
       "        vertical-align: top;\n",
       "    }\n",
       "\n",
       "    .dataframe thead th {\n",
       "        text-align: right;\n",
       "    }\n",
       "</style>\n",
       "<table border=\"1\" class=\"dataframe\">\n",
       "  <thead>\n",
       "    <tr style=\"text-align: right;\">\n",
       "      <th></th>\n",
       "      <th>total_images</th>\n",
       "      <th>last_price</th>\n",
       "      <th>total_area</th>\n",
       "      <th>first_day_exposition</th>\n",
       "      <th>rooms</th>\n",
       "      <th>ceiling_height</th>\n",
       "      <th>floors_total</th>\n",
       "      <th>living_area</th>\n",
       "      <th>floor</th>\n",
       "      <th>is_apartment</th>\n",
       "      <th>...</th>\n",
       "      <th>balcony</th>\n",
       "      <th>locality_name</th>\n",
       "      <th>airports_nearest</th>\n",
       "      <th>cityCenters_nearest</th>\n",
       "      <th>parks_around3000</th>\n",
       "      <th>parks_nearest</th>\n",
       "      <th>ponds_around3000</th>\n",
       "      <th>ponds_nearest</th>\n",
       "      <th>days_exposition</th>\n",
       "      <th>median_ceiling_height</th>\n",
       "    </tr>\n",
       "  </thead>\n",
       "  <tbody>\n",
       "    <tr>\n",
       "      <td>23610</td>\n",
       "      <td>9</td>\n",
       "      <td>9900000.0</td>\n",
       "      <td>101.0</td>\n",
       "      <td>2016-04-28T00:00:00</td>\n",
       "      <td>3</td>\n",
       "      <td>NaN</td>\n",
       "      <td>33.0</td>\n",
       "      <td>53.0</td>\n",
       "      <td>32</td>\n",
       "      <td>False</td>\n",
       "      <td>...</td>\n",
       "      <td>0.0</td>\n",
       "      <td>Санкт-Петербург</td>\n",
       "      <td>18732.0</td>\n",
       "      <td>20444.0</td>\n",
       "      <td>0.0</td>\n",
       "      <td>NaN</td>\n",
       "      <td>3.0</td>\n",
       "      <td>80.0</td>\n",
       "      <td>53.0</td>\n",
       "      <td>NaN</td>\n",
       "    </tr>\n",
       "  </tbody>\n",
       "</table>\n",
       "<p>1 rows × 23 columns</p>\n",
       "</div>"
      ],
      "text/plain": [
       "       total_images  last_price  total_area first_day_exposition  rooms  \\\n",
       "23610             9   9900000.0       101.0  2016-04-28T00:00:00      3   \n",
       "\n",
       "       ceiling_height  floors_total  living_area  floor is_apartment  ...  \\\n",
       "23610             NaN          33.0         53.0     32        False  ...   \n",
       "\n",
       "       balcony    locality_name  airports_nearest  cityCenters_nearest  \\\n",
       "23610      0.0  Санкт-Петербург           18732.0              20444.0   \n",
       "\n",
       "      parks_around3000  parks_nearest  ponds_around3000  ponds_nearest  \\\n",
       "23610              0.0            NaN               3.0           80.0   \n",
       "\n",
       "       days_exposition  median_ceiling_height  \n",
       "23610             53.0                    NaN  \n",
       "\n",
       "[1 rows x 23 columns]"
      ]
     },
     "execution_count": 155,
     "metadata": {},
     "output_type": "execute_result"
    }
   ],
   "source": [
    "data.query('floors_total==33') #посмотреть что почему 1 NaN (скорее всего не было вариантов для расчета медианы)"
   ]
  },
  {
   "cell_type": "code",
   "execution_count": 156,
   "metadata": {},
   "outputs": [],
   "source": [
    "#заменю пропуск вручную исходя из того, что стандартная 3-х комнатная квартира, поставлю среднее \n",
    "data['ceiling_height'] = data['ceiling_height'].fillna(data['ceiling_height'].mean())"
   ]
  },
  {
   "cell_type": "code",
   "execution_count": 157,
   "metadata": {
    "scrolled": true
   },
   "outputs": [
    {
     "data": {
      "text/html": [
       "<div>\n",
       "<style scoped>\n",
       "    .dataframe tbody tr th:only-of-type {\n",
       "        vertical-align: middle;\n",
       "    }\n",
       "\n",
       "    .dataframe tbody tr th {\n",
       "        vertical-align: top;\n",
       "    }\n",
       "\n",
       "    .dataframe thead th {\n",
       "        text-align: right;\n",
       "    }\n",
       "</style>\n",
       "<table border=\"1\" class=\"dataframe\">\n",
       "  <thead>\n",
       "    <tr style=\"text-align: right;\">\n",
       "      <th></th>\n",
       "      <th>total_images</th>\n",
       "      <th>last_price</th>\n",
       "      <th>total_area</th>\n",
       "      <th>first_day_exposition</th>\n",
       "      <th>rooms</th>\n",
       "      <th>ceiling_height</th>\n",
       "      <th>floors_total</th>\n",
       "      <th>living_area</th>\n",
       "      <th>floor</th>\n",
       "      <th>is_apartment</th>\n",
       "      <th>...</th>\n",
       "      <th>balcony</th>\n",
       "      <th>locality_name</th>\n",
       "      <th>airports_nearest</th>\n",
       "      <th>cityCenters_nearest</th>\n",
       "      <th>parks_around3000</th>\n",
       "      <th>parks_nearest</th>\n",
       "      <th>ponds_around3000</th>\n",
       "      <th>ponds_nearest</th>\n",
       "      <th>days_exposition</th>\n",
       "      <th>median_ceiling_height</th>\n",
       "    </tr>\n",
       "  </thead>\n",
       "  <tbody>\n",
       "    <tr>\n",
       "      <td>0</td>\n",
       "      <td>20</td>\n",
       "      <td>13000000.0</td>\n",
       "      <td>108.0</td>\n",
       "      <td>2019-03-07T00:00:00</td>\n",
       "      <td>3</td>\n",
       "      <td>2.700000</td>\n",
       "      <td>16.0</td>\n",
       "      <td>51.00</td>\n",
       "      <td>8</td>\n",
       "      <td>NaN</td>\n",
       "      <td>...</td>\n",
       "      <td>NaN</td>\n",
       "      <td>Санкт-Петербург</td>\n",
       "      <td>18863.0</td>\n",
       "      <td>16028.0</td>\n",
       "      <td>1.0</td>\n",
       "      <td>482.0</td>\n",
       "      <td>2.0</td>\n",
       "      <td>755.0</td>\n",
       "      <td>NaN</td>\n",
       "      <td>2.70</td>\n",
       "    </tr>\n",
       "    <tr>\n",
       "      <td>1</td>\n",
       "      <td>16</td>\n",
       "      <td>14200000.0</td>\n",
       "      <td>121.0</td>\n",
       "      <td>2019-01-09T00:00:00</td>\n",
       "      <td>3</td>\n",
       "      <td>2.750000</td>\n",
       "      <td>16.0</td>\n",
       "      <td>76.00</td>\n",
       "      <td>8</td>\n",
       "      <td>NaN</td>\n",
       "      <td>...</td>\n",
       "      <td>NaN</td>\n",
       "      <td>Санкт-Петербург</td>\n",
       "      <td>38900.0</td>\n",
       "      <td>12843.0</td>\n",
       "      <td>0.0</td>\n",
       "      <td>NaN</td>\n",
       "      <td>0.0</td>\n",
       "      <td>NaN</td>\n",
       "      <td>97.0</td>\n",
       "      <td>2.70</td>\n",
       "    </tr>\n",
       "    <tr>\n",
       "      <td>2</td>\n",
       "      <td>8</td>\n",
       "      <td>7200000.0</td>\n",
       "      <td>67.9</td>\n",
       "      <td>2017-10-26T00:00:00</td>\n",
       "      <td>2</td>\n",
       "      <td>2.800000</td>\n",
       "      <td>16.0</td>\n",
       "      <td>38.10</td>\n",
       "      <td>4</td>\n",
       "      <td>NaN</td>\n",
       "      <td>...</td>\n",
       "      <td>2.0</td>\n",
       "      <td>Санкт-Петербург</td>\n",
       "      <td>32888.0</td>\n",
       "      <td>12944.0</td>\n",
       "      <td>0.0</td>\n",
       "      <td>NaN</td>\n",
       "      <td>0.0</td>\n",
       "      <td>NaN</td>\n",
       "      <td>112.0</td>\n",
       "      <td>2.70</td>\n",
       "    </tr>\n",
       "    <tr>\n",
       "      <td>3</td>\n",
       "      <td>3</td>\n",
       "      <td>3290000.0</td>\n",
       "      <td>33.0</td>\n",
       "      <td>2018-02-04T00:00:00</td>\n",
       "      <td>1</td>\n",
       "      <td>2.550000</td>\n",
       "      <td>16.0</td>\n",
       "      <td>14.00</td>\n",
       "      <td>3</td>\n",
       "      <td>NaN</td>\n",
       "      <td>...</td>\n",
       "      <td>NaN</td>\n",
       "      <td>Санкт-Петербург</td>\n",
       "      <td>13943.0</td>\n",
       "      <td>12739.0</td>\n",
       "      <td>0.0</td>\n",
       "      <td>NaN</td>\n",
       "      <td>0.0</td>\n",
       "      <td>NaN</td>\n",
       "      <td>15.0</td>\n",
       "      <td>2.70</td>\n",
       "    </tr>\n",
       "    <tr>\n",
       "      <td>4</td>\n",
       "      <td>18</td>\n",
       "      <td>10999000.0</td>\n",
       "      <td>97.2</td>\n",
       "      <td>2017-11-13T00:00:00</td>\n",
       "      <td>3</td>\n",
       "      <td>2.500000</td>\n",
       "      <td>16.0</td>\n",
       "      <td>NaN</td>\n",
       "      <td>16</td>\n",
       "      <td>NaN</td>\n",
       "      <td>...</td>\n",
       "      <td>5.0</td>\n",
       "      <td>Санкт-Петербург</td>\n",
       "      <td>19426.0</td>\n",
       "      <td>21138.0</td>\n",
       "      <td>0.0</td>\n",
       "      <td>NaN</td>\n",
       "      <td>2.0</td>\n",
       "      <td>390.0</td>\n",
       "      <td>394.0</td>\n",
       "      <td>2.70</td>\n",
       "    </tr>\n",
       "    <tr>\n",
       "      <td>...</td>\n",
       "      <td>...</td>\n",
       "      <td>...</td>\n",
       "      <td>...</td>\n",
       "      <td>...</td>\n",
       "      <td>...</td>\n",
       "      <td>...</td>\n",
       "      <td>...</td>\n",
       "      <td>...</td>\n",
       "      <td>...</td>\n",
       "      <td>...</td>\n",
       "      <td>...</td>\n",
       "      <td>...</td>\n",
       "      <td>...</td>\n",
       "      <td>...</td>\n",
       "      <td>...</td>\n",
       "      <td>...</td>\n",
       "      <td>...</td>\n",
       "      <td>...</td>\n",
       "      <td>...</td>\n",
       "      <td>...</td>\n",
       "      <td>...</td>\n",
       "    </tr>\n",
       "    <tr>\n",
       "      <td>23608</td>\n",
       "      <td>7</td>\n",
       "      <td>1600000.0</td>\n",
       "      <td>54.0</td>\n",
       "      <td>2016-12-26T00:00:00</td>\n",
       "      <td>2</td>\n",
       "      <td>2.300000</td>\n",
       "      <td>1.0</td>\n",
       "      <td>33.00</td>\n",
       "      <td>1</td>\n",
       "      <td>False</td>\n",
       "      <td>...</td>\n",
       "      <td>0.0</td>\n",
       "      <td>Высоцк</td>\n",
       "      <td>NaN</td>\n",
       "      <td>NaN</td>\n",
       "      <td>NaN</td>\n",
       "      <td>NaN</td>\n",
       "      <td>NaN</td>\n",
       "      <td>NaN</td>\n",
       "      <td>281.0</td>\n",
       "      <td>2.80</td>\n",
       "    </tr>\n",
       "    <tr>\n",
       "      <td>23609</td>\n",
       "      <td>10</td>\n",
       "      <td>4100000.0</td>\n",
       "      <td>43.2</td>\n",
       "      <td>2018-09-24T00:00:00</td>\n",
       "      <td>1</td>\n",
       "      <td>2.600000</td>\n",
       "      <td>29.0</td>\n",
       "      <td>14.35</td>\n",
       "      <td>18</td>\n",
       "      <td>NaN</td>\n",
       "      <td>...</td>\n",
       "      <td>2.0</td>\n",
       "      <td>посёлок Парголово</td>\n",
       "      <td>53734.0</td>\n",
       "      <td>19942.0</td>\n",
       "      <td>0.0</td>\n",
       "      <td>NaN</td>\n",
       "      <td>0.0</td>\n",
       "      <td>NaN</td>\n",
       "      <td>45.0</td>\n",
       "      <td>2.60</td>\n",
       "    </tr>\n",
       "    <tr>\n",
       "      <td>23610</td>\n",
       "      <td>9</td>\n",
       "      <td>9900000.0</td>\n",
       "      <td>101.0</td>\n",
       "      <td>2016-04-28T00:00:00</td>\n",
       "      <td>3</td>\n",
       "      <td>2.735917</td>\n",
       "      <td>33.0</td>\n",
       "      <td>53.00</td>\n",
       "      <td>32</td>\n",
       "      <td>False</td>\n",
       "      <td>...</td>\n",
       "      <td>0.0</td>\n",
       "      <td>Санкт-Петербург</td>\n",
       "      <td>18732.0</td>\n",
       "      <td>20444.0</td>\n",
       "      <td>0.0</td>\n",
       "      <td>NaN</td>\n",
       "      <td>3.0</td>\n",
       "      <td>80.0</td>\n",
       "      <td>53.0</td>\n",
       "      <td>NaN</td>\n",
       "    </tr>\n",
       "    <tr>\n",
       "      <td>23611</td>\n",
       "      <td>9</td>\n",
       "      <td>3978000.0</td>\n",
       "      <td>40.0</td>\n",
       "      <td>2018-09-24T00:00:00</td>\n",
       "      <td>1</td>\n",
       "      <td>2.650000</td>\n",
       "      <td>52.0</td>\n",
       "      <td>10.50</td>\n",
       "      <td>18</td>\n",
       "      <td>NaN</td>\n",
       "      <td>...</td>\n",
       "      <td>NaN</td>\n",
       "      <td>Санкт-Петербург</td>\n",
       "      <td>20728.0</td>\n",
       "      <td>12978.0</td>\n",
       "      <td>1.0</td>\n",
       "      <td>793.0</td>\n",
       "      <td>0.0</td>\n",
       "      <td>NaN</td>\n",
       "      <td>45.0</td>\n",
       "      <td>2.65</td>\n",
       "    </tr>\n",
       "    <tr>\n",
       "      <td>23612</td>\n",
       "      <td>5</td>\n",
       "      <td>4100000.0</td>\n",
       "      <td>40.0</td>\n",
       "      <td>2017-10-17T00:00:00</td>\n",
       "      <td>1</td>\n",
       "      <td>1.750000</td>\n",
       "      <td>37.0</td>\n",
       "      <td>17.40</td>\n",
       "      <td>5</td>\n",
       "      <td>NaN</td>\n",
       "      <td>...</td>\n",
       "      <td>NaN</td>\n",
       "      <td>Санкт-Петербург</td>\n",
       "      <td>18732.0</td>\n",
       "      <td>20444.0</td>\n",
       "      <td>0.0</td>\n",
       "      <td>NaN</td>\n",
       "      <td>3.0</td>\n",
       "      <td>80.0</td>\n",
       "      <td>71.0</td>\n",
       "      <td>1.75</td>\n",
       "    </tr>\n",
       "  </tbody>\n",
       "</table>\n",
       "<p>23613 rows × 23 columns</p>\n",
       "</div>"
      ],
      "text/plain": [
       "       total_images  last_price  total_area first_day_exposition  rooms  \\\n",
       "0                20  13000000.0       108.0  2019-03-07T00:00:00      3   \n",
       "1                16  14200000.0       121.0  2019-01-09T00:00:00      3   \n",
       "2                 8   7200000.0        67.9  2017-10-26T00:00:00      2   \n",
       "3                 3   3290000.0        33.0  2018-02-04T00:00:00      1   \n",
       "4                18  10999000.0        97.2  2017-11-13T00:00:00      3   \n",
       "...             ...         ...         ...                  ...    ...   \n",
       "23608             7   1600000.0        54.0  2016-12-26T00:00:00      2   \n",
       "23609            10   4100000.0        43.2  2018-09-24T00:00:00      1   \n",
       "23610             9   9900000.0       101.0  2016-04-28T00:00:00      3   \n",
       "23611             9   3978000.0        40.0  2018-09-24T00:00:00      1   \n",
       "23612             5   4100000.0        40.0  2017-10-17T00:00:00      1   \n",
       "\n",
       "       ceiling_height  floors_total  living_area  floor is_apartment  ...  \\\n",
       "0            2.700000          16.0        51.00      8          NaN  ...   \n",
       "1            2.750000          16.0        76.00      8          NaN  ...   \n",
       "2            2.800000          16.0        38.10      4          NaN  ...   \n",
       "3            2.550000          16.0        14.00      3          NaN  ...   \n",
       "4            2.500000          16.0          NaN     16          NaN  ...   \n",
       "...               ...           ...          ...    ...          ...  ...   \n",
       "23608        2.300000           1.0        33.00      1        False  ...   \n",
       "23609        2.600000          29.0        14.35     18          NaN  ...   \n",
       "23610        2.735917          33.0        53.00     32        False  ...   \n",
       "23611        2.650000          52.0        10.50     18          NaN  ...   \n",
       "23612        1.750000          37.0        17.40      5          NaN  ...   \n",
       "\n",
       "       balcony      locality_name  airports_nearest  cityCenters_nearest  \\\n",
       "0          NaN    Санкт-Петербург           18863.0              16028.0   \n",
       "1          NaN    Санкт-Петербург           38900.0              12843.0   \n",
       "2          2.0    Санкт-Петербург           32888.0              12944.0   \n",
       "3          NaN    Санкт-Петербург           13943.0              12739.0   \n",
       "4          5.0    Санкт-Петербург           19426.0              21138.0   \n",
       "...        ...                ...               ...                  ...   \n",
       "23608      0.0             Высоцк               NaN                  NaN   \n",
       "23609      2.0  посёлок Парголово           53734.0              19942.0   \n",
       "23610      0.0    Санкт-Петербург           18732.0              20444.0   \n",
       "23611      NaN    Санкт-Петербург           20728.0              12978.0   \n",
       "23612      NaN    Санкт-Петербург           18732.0              20444.0   \n",
       "\n",
       "      parks_around3000  parks_nearest  ponds_around3000  ponds_nearest  \\\n",
       "0                  1.0          482.0               2.0          755.0   \n",
       "1                  0.0            NaN               0.0            NaN   \n",
       "2                  0.0            NaN               0.0            NaN   \n",
       "3                  0.0            NaN               0.0            NaN   \n",
       "4                  0.0            NaN               2.0          390.0   \n",
       "...                ...            ...               ...            ...   \n",
       "23608              NaN            NaN               NaN            NaN   \n",
       "23609              0.0            NaN               0.0            NaN   \n",
       "23610              0.0            NaN               3.0           80.0   \n",
       "23611              1.0          793.0               0.0            NaN   \n",
       "23612              0.0            NaN               3.0           80.0   \n",
       "\n",
       "       days_exposition  median_ceiling_height  \n",
       "0                  NaN                   2.70  \n",
       "1                 97.0                   2.70  \n",
       "2                112.0                   2.70  \n",
       "3                 15.0                   2.70  \n",
       "4                394.0                   2.70  \n",
       "...                ...                    ...  \n",
       "23608            281.0                   2.80  \n",
       "23609             45.0                   2.60  \n",
       "23610             53.0                    NaN  \n",
       "23611             45.0                   2.65  \n",
       "23612             71.0                   1.75  \n",
       "\n",
       "[23613 rows x 23 columns]"
      ]
     },
     "execution_count": 157,
     "metadata": {},
     "output_type": "execute_result"
    }
   ],
   "source": [
    "data.dropna(subset=['floors_total']) #удалю пропуски, так как их очень мало и они не повлияют на исследование"
   ]
  },
  {
   "cell_type": "code",
   "execution_count": 158,
   "metadata": {},
   "outputs": [
    {
     "data": {
      "text/plain": [
       "14328    2.0\n",
       "9833     2.0\n",
       "20359    3.0\n",
       "14823    3.0\n",
       "16356    5.0\n",
       "        ... \n",
       "23588    NaN\n",
       "23589    NaN\n",
       "23592    NaN\n",
       "23602    NaN\n",
       "23606    NaN\n",
       "Name: living_area, Length: 23613, dtype: float64"
      ]
     },
     "execution_count": 158,
     "metadata": {},
     "output_type": "execute_result"
    }
   ],
   "source": [
    "data['living_area'].sort_values() #маленькая площадь возможно мини-студия, современная квартира-капсула, популярно с 2019"
   ]
  },
  {
   "cell_type": "markdown",
   "metadata": {},
   "source": [
    "#### Комментарии по living_area\n",
    "площадь также зависит от этажности и типа дома. Так как типа нет, буду заменять средними значениями в зависимости от этажности. Еще я бы проверила 2 вариант замены пропусков в living_area, когда можно вставить средние значения исходя из общей площади (т/е в ексель я бы посчитала  какую часть жилая площадь занимает от общей, и взяла бы потом среднее значение из всей выборки по этажам), но на практике как реализовать не поняла"
   ]
  },
  {
   "cell_type": "code",
   "execution_count": 159,
   "metadata": {},
   "outputs": [
    {
     "data": {
      "text/plain": [
       "floors_total\n",
       "1.0     33.900000\n",
       "2.0     34.946351\n",
       "3.0     38.952623\n",
       "4.0     44.235714\n",
       "5.0     35.517099\n",
       "6.0     51.880000\n",
       "7.0     47.940878\n",
       "8.0     45.306091\n",
       "9.0     32.114524\n",
       "10.0    32.879548\n",
       "11.0    32.982260\n",
       "12.0    31.876139\n",
       "13.0    32.240243\n",
       "14.0    28.962321\n",
       "15.0    32.900767\n",
       "16.0    31.932222\n",
       "17.0    29.365058\n",
       "18.0    28.888069\n",
       "19.0    28.139698\n",
       "20.0    32.892521\n",
       "21.0    28.010216\n",
       "22.0    26.909961\n",
       "23.0    28.754765\n",
       "24.0    27.541449\n",
       "25.0    29.358337\n",
       "26.0    24.462982\n",
       "27.0    21.915909\n",
       "28.0    30.930000\n",
       "29.0    14.350000\n",
       "33.0    53.000000\n",
       "34.0    18.000000\n",
       "35.0    30.404348\n",
       "36.0    34.133333\n",
       "37.0    17.400000\n",
       "52.0    10.500000\n",
       "60.0    27.400000\n",
       "Name: living_area, dtype: float64"
      ]
     },
     "execution_count": 159,
     "metadata": {},
     "output_type": "execute_result"
    }
   ],
   "source": [
    "data.groupby('floors_total')['living_area'].mean()"
   ]
  },
  {
   "cell_type": "code",
   "execution_count": 160,
   "metadata": {},
   "outputs": [],
   "source": [
    "data['living_area'] = data['living_area'].fillna(\n",
    "    data.groupby('floors_total')['living_area'].transform('mean'))"
   ]
  },
  {
   "cell_type": "code",
   "execution_count": 161,
   "metadata": {},
   "outputs": [
    {
     "data": {
      "text/plain": [
       "0"
      ]
     },
     "execution_count": 161,
     "metadata": {},
     "output_type": "execute_result"
    }
   ],
   "source": [
    "data['living_area'].isna().sum()"
   ]
  },
  {
   "cell_type": "markdown",
   "metadata": {},
   "source": [
    "#### Комментарии по kitchen_area\n",
    "в студиях формата эконом площадь кухни не всегда выделяют, поэтому возможно заполнял человек и пропущенные значения означают именно вышеуказанный тип квартиры, поэтому заменю на 0 где студии, где квартиры - на разницу исходя из текущих данных (вся площадь-жилая). Также для тренировки посмотрю зависимость площади кухни от жилой (логично если при увеличении площади и больше площадь кухни)"
   ]
  },
  {
   "cell_type": "code",
   "execution_count": 162,
   "metadata": {
    "scrolled": true
   },
   "outputs": [
    {
     "data": {
      "text/html": [
       "<div>\n",
       "<style scoped>\n",
       "    .dataframe tbody tr th:only-of-type {\n",
       "        vertical-align: middle;\n",
       "    }\n",
       "\n",
       "    .dataframe tbody tr th {\n",
       "        vertical-align: top;\n",
       "    }\n",
       "\n",
       "    .dataframe thead th {\n",
       "        text-align: right;\n",
       "    }\n",
       "</style>\n",
       "<table border=\"1\" class=\"dataframe\">\n",
       "  <thead>\n",
       "    <tr style=\"text-align: right;\">\n",
       "      <th></th>\n",
       "      <th>total_images</th>\n",
       "      <th>last_price</th>\n",
       "      <th>total_area</th>\n",
       "      <th>first_day_exposition</th>\n",
       "      <th>rooms</th>\n",
       "      <th>ceiling_height</th>\n",
       "      <th>floors_total</th>\n",
       "      <th>living_area</th>\n",
       "      <th>floor</th>\n",
       "      <th>is_apartment</th>\n",
       "      <th>...</th>\n",
       "      <th>balcony</th>\n",
       "      <th>locality_name</th>\n",
       "      <th>airports_nearest</th>\n",
       "      <th>cityCenters_nearest</th>\n",
       "      <th>parks_around3000</th>\n",
       "      <th>parks_nearest</th>\n",
       "      <th>ponds_around3000</th>\n",
       "      <th>ponds_nearest</th>\n",
       "      <th>days_exposition</th>\n",
       "      <th>median_ceiling_height</th>\n",
       "    </tr>\n",
       "  </thead>\n",
       "  <tbody>\n",
       "    <tr>\n",
       "      <td>72</td>\n",
       "      <td>0</td>\n",
       "      <td>2600000.0</td>\n",
       "      <td>27.0</td>\n",
       "      <td>2018-07-20T00:00:00</td>\n",
       "      <td>0</td>\n",
       "      <td>2.70</td>\n",
       "      <td>16.0</td>\n",
       "      <td>16.0</td>\n",
       "      <td>4</td>\n",
       "      <td>NaN</td>\n",
       "      <td>...</td>\n",
       "      <td>2.0</td>\n",
       "      <td>Кудрово</td>\n",
       "      <td>NaN</td>\n",
       "      <td>NaN</td>\n",
       "      <td>NaN</td>\n",
       "      <td>NaN</td>\n",
       "      <td>NaN</td>\n",
       "      <td>NaN</td>\n",
       "      <td>102.0</td>\n",
       "      <td>2.7</td>\n",
       "    </tr>\n",
       "    <tr>\n",
       "      <td>413</td>\n",
       "      <td>16</td>\n",
       "      <td>3500000.0</td>\n",
       "      <td>29.2</td>\n",
       "      <td>2017-04-16T00:00:00</td>\n",
       "      <td>0</td>\n",
       "      <td>2.64</td>\n",
       "      <td>16.0</td>\n",
       "      <td>16.7</td>\n",
       "      <td>3</td>\n",
       "      <td>False</td>\n",
       "      <td>...</td>\n",
       "      <td>2.0</td>\n",
       "      <td>Санкт-Петербург</td>\n",
       "      <td>17693.0</td>\n",
       "      <td>12516.0</td>\n",
       "      <td>0.0</td>\n",
       "      <td>NaN</td>\n",
       "      <td>0.0</td>\n",
       "      <td>NaN</td>\n",
       "      <td>28.0</td>\n",
       "      <td>2.7</td>\n",
       "    </tr>\n",
       "    <tr>\n",
       "      <td>489</td>\n",
       "      <td>10</td>\n",
       "      <td>4000000.0</td>\n",
       "      <td>26.0</td>\n",
       "      <td>2018-02-27T00:00:00</td>\n",
       "      <td>0</td>\n",
       "      <td>2.80</td>\n",
       "      <td>16.0</td>\n",
       "      <td>22.0</td>\n",
       "      <td>7</td>\n",
       "      <td>NaN</td>\n",
       "      <td>...</td>\n",
       "      <td>2.0</td>\n",
       "      <td>Санкт-Петербург</td>\n",
       "      <td>10796.0</td>\n",
       "      <td>14361.0</td>\n",
       "      <td>0.0</td>\n",
       "      <td>NaN</td>\n",
       "      <td>0.0</td>\n",
       "      <td>NaN</td>\n",
       "      <td>50.0</td>\n",
       "      <td>2.7</td>\n",
       "    </tr>\n",
       "    <tr>\n",
       "      <td>552</td>\n",
       "      <td>3</td>\n",
       "      <td>2200000.0</td>\n",
       "      <td>23.7</td>\n",
       "      <td>2018-02-01T00:00:00</td>\n",
       "      <td>0</td>\n",
       "      <td>2.70</td>\n",
       "      <td>16.0</td>\n",
       "      <td>16.7</td>\n",
       "      <td>12</td>\n",
       "      <td>NaN</td>\n",
       "      <td>...</td>\n",
       "      <td>NaN</td>\n",
       "      <td>посёлок Мурино</td>\n",
       "      <td>NaN</td>\n",
       "      <td>NaN</td>\n",
       "      <td>NaN</td>\n",
       "      <td>NaN</td>\n",
       "      <td>NaN</td>\n",
       "      <td>NaN</td>\n",
       "      <td>32.0</td>\n",
       "      <td>2.7</td>\n",
       "    </tr>\n",
       "    <tr>\n",
       "      <td>698</td>\n",
       "      <td>10</td>\n",
       "      <td>2200000.0</td>\n",
       "      <td>21.0</td>\n",
       "      <td>2016-04-02T00:00:00</td>\n",
       "      <td>0</td>\n",
       "      <td>2.60</td>\n",
       "      <td>16.0</td>\n",
       "      <td>13.0</td>\n",
       "      <td>10</td>\n",
       "      <td>NaN</td>\n",
       "      <td>...</td>\n",
       "      <td>1.0</td>\n",
       "      <td>Санкт-Петербург</td>\n",
       "      <td>12918.0</td>\n",
       "      <td>15509.0</td>\n",
       "      <td>0.0</td>\n",
       "      <td>NaN</td>\n",
       "      <td>0.0</td>\n",
       "      <td>NaN</td>\n",
       "      <td>931.0</td>\n",
       "      <td>2.7</td>\n",
       "    </tr>\n",
       "    <tr>\n",
       "      <td>...</td>\n",
       "      <td>...</td>\n",
       "      <td>...</td>\n",
       "      <td>...</td>\n",
       "      <td>...</td>\n",
       "      <td>...</td>\n",
       "      <td>...</td>\n",
       "      <td>...</td>\n",
       "      <td>...</td>\n",
       "      <td>...</td>\n",
       "      <td>...</td>\n",
       "      <td>...</td>\n",
       "      <td>...</td>\n",
       "      <td>...</td>\n",
       "      <td>...</td>\n",
       "      <td>...</td>\n",
       "      <td>...</td>\n",
       "      <td>...</td>\n",
       "      <td>...</td>\n",
       "      <td>...</td>\n",
       "      <td>...</td>\n",
       "      <td>...</td>\n",
       "    </tr>\n",
       "    <tr>\n",
       "      <td>23428</td>\n",
       "      <td>13</td>\n",
       "      <td>3600000.0</td>\n",
       "      <td>27.0</td>\n",
       "      <td>2017-12-07T00:00:00</td>\n",
       "      <td>0</td>\n",
       "      <td>2.70</td>\n",
       "      <td>21.0</td>\n",
       "      <td>20.5</td>\n",
       "      <td>16</td>\n",
       "      <td>NaN</td>\n",
       "      <td>...</td>\n",
       "      <td>NaN</td>\n",
       "      <td>Санкт-Петербург</td>\n",
       "      <td>10788.0</td>\n",
       "      <td>13087.0</td>\n",
       "      <td>0.0</td>\n",
       "      <td>NaN</td>\n",
       "      <td>0.0</td>\n",
       "      <td>NaN</td>\n",
       "      <td>323.0</td>\n",
       "      <td>2.7</td>\n",
       "    </tr>\n",
       "    <tr>\n",
       "      <td>23438</td>\n",
       "      <td>0</td>\n",
       "      <td>3450000.0</td>\n",
       "      <td>25.0</td>\n",
       "      <td>2019-04-04T00:00:00</td>\n",
       "      <td>0</td>\n",
       "      <td>2.70</td>\n",
       "      <td>21.0</td>\n",
       "      <td>19.0</td>\n",
       "      <td>6</td>\n",
       "      <td>NaN</td>\n",
       "      <td>...</td>\n",
       "      <td>NaN</td>\n",
       "      <td>Санкт-Петербург</td>\n",
       "      <td>14741.0</td>\n",
       "      <td>12665.0</td>\n",
       "      <td>0.0</td>\n",
       "      <td>NaN</td>\n",
       "      <td>0.0</td>\n",
       "      <td>NaN</td>\n",
       "      <td>22.0</td>\n",
       "      <td>2.7</td>\n",
       "    </tr>\n",
       "    <tr>\n",
       "      <td>23500</td>\n",
       "      <td>2</td>\n",
       "      <td>2700000.0</td>\n",
       "      <td>30.0</td>\n",
       "      <td>2016-05-10T00:00:00</td>\n",
       "      <td>1</td>\n",
       "      <td>2.70</td>\n",
       "      <td>21.0</td>\n",
       "      <td>26.0</td>\n",
       "      <td>6</td>\n",
       "      <td>False</td>\n",
       "      <td>...</td>\n",
       "      <td>0.0</td>\n",
       "      <td>деревня Кудрово</td>\n",
       "      <td>NaN</td>\n",
       "      <td>NaN</td>\n",
       "      <td>NaN</td>\n",
       "      <td>NaN</td>\n",
       "      <td>NaN</td>\n",
       "      <td>NaN</td>\n",
       "      <td>55.0</td>\n",
       "      <td>2.7</td>\n",
       "    </tr>\n",
       "    <tr>\n",
       "      <td>23506</td>\n",
       "      <td>7</td>\n",
       "      <td>2500000.0</td>\n",
       "      <td>22.3</td>\n",
       "      <td>2019-01-11T00:00:00</td>\n",
       "      <td>0</td>\n",
       "      <td>2.70</td>\n",
       "      <td>21.0</td>\n",
       "      <td>18.0</td>\n",
       "      <td>7</td>\n",
       "      <td>NaN</td>\n",
       "      <td>...</td>\n",
       "      <td>2.0</td>\n",
       "      <td>Кудрово</td>\n",
       "      <td>NaN</td>\n",
       "      <td>NaN</td>\n",
       "      <td>NaN</td>\n",
       "      <td>NaN</td>\n",
       "      <td>NaN</td>\n",
       "      <td>NaN</td>\n",
       "      <td>4.0</td>\n",
       "      <td>2.7</td>\n",
       "    </tr>\n",
       "    <tr>\n",
       "      <td>23569</td>\n",
       "      <td>9</td>\n",
       "      <td>3450000.0</td>\n",
       "      <td>24.8</td>\n",
       "      <td>2019-02-01T00:00:00</td>\n",
       "      <td>0</td>\n",
       "      <td>2.68</td>\n",
       "      <td>35.0</td>\n",
       "      <td>16.0</td>\n",
       "      <td>17</td>\n",
       "      <td>NaN</td>\n",
       "      <td>...</td>\n",
       "      <td>2.0</td>\n",
       "      <td>Санкт-Петербург</td>\n",
       "      <td>18732.0</td>\n",
       "      <td>20444.0</td>\n",
       "      <td>0.0</td>\n",
       "      <td>NaN</td>\n",
       "      <td>3.0</td>\n",
       "      <td>80.0</td>\n",
       "      <td>45.0</td>\n",
       "      <td>2.7</td>\n",
       "    </tr>\n",
       "  </tbody>\n",
       "</table>\n",
       "<p>146 rows × 23 columns</p>\n",
       "</div>"
      ],
      "text/plain": [
       "       total_images  last_price  total_area first_day_exposition  rooms  \\\n",
       "72                0   2600000.0        27.0  2018-07-20T00:00:00      0   \n",
       "413              16   3500000.0        29.2  2017-04-16T00:00:00      0   \n",
       "489              10   4000000.0        26.0  2018-02-27T00:00:00      0   \n",
       "552               3   2200000.0        23.7  2018-02-01T00:00:00      0   \n",
       "698              10   2200000.0        21.0  2016-04-02T00:00:00      0   \n",
       "...             ...         ...         ...                  ...    ...   \n",
       "23428            13   3600000.0        27.0  2017-12-07T00:00:00      0   \n",
       "23438             0   3450000.0        25.0  2019-04-04T00:00:00      0   \n",
       "23500             2   2700000.0        30.0  2016-05-10T00:00:00      1   \n",
       "23506             7   2500000.0        22.3  2019-01-11T00:00:00      0   \n",
       "23569             9   3450000.0        24.8  2019-02-01T00:00:00      0   \n",
       "\n",
       "       ceiling_height  floors_total  living_area  floor is_apartment  ...  \\\n",
       "72               2.70          16.0         16.0      4          NaN  ...   \n",
       "413              2.64          16.0         16.7      3        False  ...   \n",
       "489              2.80          16.0         22.0      7          NaN  ...   \n",
       "552              2.70          16.0         16.7     12          NaN  ...   \n",
       "698              2.60          16.0         13.0     10          NaN  ...   \n",
       "...               ...           ...          ...    ...          ...  ...   \n",
       "23428            2.70          21.0         20.5     16          NaN  ...   \n",
       "23438            2.70          21.0         19.0      6          NaN  ...   \n",
       "23500            2.70          21.0         26.0      6        False  ...   \n",
       "23506            2.70          21.0         18.0      7          NaN  ...   \n",
       "23569            2.68          35.0         16.0     17          NaN  ...   \n",
       "\n",
       "       balcony    locality_name  airports_nearest  cityCenters_nearest  \\\n",
       "72         2.0          Кудрово               NaN                  NaN   \n",
       "413        2.0  Санкт-Петербург           17693.0              12516.0   \n",
       "489        2.0  Санкт-Петербург           10796.0              14361.0   \n",
       "552        NaN   посёлок Мурино               NaN                  NaN   \n",
       "698        1.0  Санкт-Петербург           12918.0              15509.0   \n",
       "...        ...              ...               ...                  ...   \n",
       "23428      NaN  Санкт-Петербург           10788.0              13087.0   \n",
       "23438      NaN  Санкт-Петербург           14741.0              12665.0   \n",
       "23500      0.0  деревня Кудрово               NaN                  NaN   \n",
       "23506      2.0          Кудрово               NaN                  NaN   \n",
       "23569      2.0  Санкт-Петербург           18732.0              20444.0   \n",
       "\n",
       "      parks_around3000  parks_nearest  ponds_around3000  ponds_nearest  \\\n",
       "72                 NaN            NaN               NaN            NaN   \n",
       "413                0.0            NaN               0.0            NaN   \n",
       "489                0.0            NaN               0.0            NaN   \n",
       "552                NaN            NaN               NaN            NaN   \n",
       "698                0.0            NaN               0.0            NaN   \n",
       "...                ...            ...               ...            ...   \n",
       "23428              0.0            NaN               0.0            NaN   \n",
       "23438              0.0            NaN               0.0            NaN   \n",
       "23500              NaN            NaN               NaN            NaN   \n",
       "23506              NaN            NaN               NaN            NaN   \n",
       "23569              0.0            NaN               3.0           80.0   \n",
       "\n",
       "       days_exposition  median_ceiling_height  \n",
       "72               102.0                    2.7  \n",
       "413               28.0                    2.7  \n",
       "489               50.0                    2.7  \n",
       "552               32.0                    2.7  \n",
       "698              931.0                    2.7  \n",
       "...                ...                    ...  \n",
       "23428            323.0                    2.7  \n",
       "23438             22.0                    2.7  \n",
       "23500             55.0                    2.7  \n",
       "23506              4.0                    2.7  \n",
       "23569             45.0                    2.7  \n",
       "\n",
       "[146 rows x 23 columns]"
      ]
     },
     "execution_count": 162,
     "metadata": {},
     "output_type": "execute_result"
    }
   ],
   "source": [
    "data.query('studio==True') #проверила что студии вообще есть в выборке"
   ]
  },
  {
   "cell_type": "code",
   "execution_count": 163,
   "metadata": {
    "scrolled": true
   },
   "outputs": [
    {
     "data": {
      "text/plain": [
       "total_images                               3\n",
       "last_price                           2.2e+06\n",
       "total_area                              23.7\n",
       "first_day_exposition     2018-02-01T00:00:00\n",
       "rooms                                      0\n",
       "ceiling_height                           2.7\n",
       "floors_total                              16\n",
       "living_area                             16.7\n",
       "floor                                     12\n",
       "is_apartment                             NaN\n",
       "studio                                  True\n",
       "open_plan                              False\n",
       "kitchen_area                             NaN\n",
       "balcony                                  NaN\n",
       "locality_name                 посёлок Мурино\n",
       "airports_nearest                         NaN\n",
       "cityCenters_nearest                      NaN\n",
       "parks_around3000                         NaN\n",
       "parks_nearest                            NaN\n",
       "ponds_around3000                         NaN\n",
       "ponds_nearest                            NaN\n",
       "days_exposition                           32\n",
       "median_ceiling_height                    2.7\n",
       "Name: 552, dtype: object"
      ]
     },
     "execution_count": 163,
     "metadata": {},
     "output_type": "execute_result"
    }
   ],
   "source": [
    "data.loc[552] #проверю для интереса одну из строк со студией"
   ]
  },
  {
   "cell_type": "code",
   "execution_count": 164,
   "metadata": {},
   "outputs": [],
   "source": [
    "data.loc[data['studio'] == True, 'kitchen_area'] = 0"
   ]
  },
  {
   "cell_type": "code",
   "execution_count": 165,
   "metadata": {},
   "outputs": [
    {
     "data": {
      "text/plain": [
       "2085"
      ]
     },
     "execution_count": 165,
     "metadata": {},
     "output_type": "execute_result"
    }
   ],
   "source": [
    "data['kitchen_area'].isna().sum()"
   ]
  },
  {
   "cell_type": "code",
   "execution_count": 166,
   "metadata": {},
   "outputs": [
    {
     "data": {
      "text/plain": [
       "38      NaN\n",
       "50      NaN\n",
       "66      NaN\n",
       "88      NaN\n",
       "118     NaN\n",
       "         ..\n",
       "23589   NaN\n",
       "23592   NaN\n",
       "23594   NaN\n",
       "23602   NaN\n",
       "23606   NaN\n",
       "Name: kitchen_area, Length: 2085, dtype: float64"
      ]
     },
     "execution_count": 166,
     "metadata": {},
     "output_type": "execute_result"
    }
   ],
   "source": [
    "data.loc[data['kitchen_area'].isna(), 'kitchen_area'] "
   ]
  },
  {
   "cell_type": "code",
   "execution_count": 167,
   "metadata": {},
   "outputs": [],
   "source": [
    "#заполню пропущенные значения как вся площадь-жилая\n",
    "data.loc[data['kitchen_area'].isna(), 'kitchen_area'] = data['total_area']-data['living_area']"
   ]
  },
  {
   "cell_type": "code",
   "execution_count": 168,
   "metadata": {
    "scrolled": true
   },
   "outputs": [
    {
     "data": {
      "text/plain": [
       "total_images                               4\n",
       "last_price                            550000\n",
       "total_area                              46.2\n",
       "first_day_exposition     2018-04-20T00:00:00\n",
       "rooms                                      3\n",
       "ceiling_height                           2.8\n",
       "floors_total                               1\n",
       "living_area                             33.9\n",
       "floor                                      1\n",
       "is_apartment                             NaN\n",
       "studio                                 False\n",
       "open_plan                              False\n",
       "kitchen_area                            12.3\n",
       "balcony                                  NaN\n",
       "locality_name                           Луга\n",
       "airports_nearest                         NaN\n",
       "cityCenters_nearest                      NaN\n",
       "parks_around3000                         NaN\n",
       "parks_nearest                            NaN\n",
       "ponds_around3000                         NaN\n",
       "ponds_nearest                            NaN\n",
       "days_exposition                           45\n",
       "median_ceiling_height                    2.8\n",
       "Name: 23589, dtype: object"
      ]
     },
     "execution_count": 168,
     "metadata": {},
     "output_type": "execute_result"
    }
   ],
   "source": [
    "data.loc[23589] #проверю для себя"
   ]
  },
  {
   "cell_type": "code",
   "execution_count": 169,
   "metadata": {},
   "outputs": [
    {
     "data": {
      "text/plain": [
       "0"
      ]
     },
     "execution_count": 169,
     "metadata": {},
     "output_type": "execute_result"
    }
   ],
   "source": [
    "data['kitchen_area'].isna().sum()"
   ]
  },
  {
   "cell_type": "code",
   "execution_count": 170,
   "metadata": {
    "scrolled": true
   },
   "outputs": [
    {
     "data": {
      "text/plain": [
       "Text(0.5, 0, 'total_area(m)')"
      ]
     },
     "execution_count": 170,
     "metadata": {},
     "output_type": "execute_result"
    },
    {
     "data": {
      "image/png": "[encoded data removed]",
      "text/plain": [
       "<Figure size 720x360 with 1 Axes>"
      ]
     },
     "metadata": {
      "needs_background": "light"
     },
     "output_type": "display_data"
    }
   ],
   "source": [
    "data.sort_values('kitchen_area').plot(x='total_area', y='kitchen_area',figsize=(10, 5), kind='scatter', title = 'Анализ кухни')\n",
    "plt.xlabel('total_area(m)')"
   ]
  },
  {
   "cell_type": "code",
   "execution_count": 171,
   "metadata": {
    "scrolled": true
   },
   "outputs": [],
   "source": [
    "#пропущенные значения в балконах привожу к 0, так как очевидно что балконов нет (заполняли люди)\n",
    "data['balcony'].fillna(0, inplace=True)\n",
    "#пропущено несколько названий населенных пунктов, так как их мало, просто удалим данные\n",
    "data.dropna(subset=['locality_name'], inplace=True)\n"
   ]
  },
  {
   "cell_type": "code",
   "execution_count": 172,
   "metadata": {},
   "outputs": [
    {
     "data": {
      "text/plain": [
       "0          Санкт-Петербург\n",
       "1          Санкт-Петербург\n",
       "2          Санкт-Петербург\n",
       "3          Санкт-Петербург\n",
       "4          Санкт-Петербург\n",
       "               ...        \n",
       "23608               Высоцк\n",
       "23609    поселок Парголово\n",
       "23610      Санкт-Петербург\n",
       "23611      Санкт-Петербург\n",
       "23612      Санкт-Петербург\n",
       "Name: locality_name, Length: 23565, dtype: object"
      ]
     },
     "execution_count": 172,
     "metadata": {},
     "output_type": "execute_result"
    }
   ],
   "source": [
    "data['locality_name'].str.replace('ё', 'е') #заменим для удобства"
   ]
  },
  {
   "cell_type": "code",
   "execution_count": 173,
   "metadata": {},
   "outputs": [],
   "source": [
    "#переведем столбец с датой в формат даты \n",
    "data['first_day_exposition'] = pd.to_datetime(data['first_day_exposition'], format = '%Y-%m-%d')"
   ]
  },
  {
   "cell_type": "code",
   "execution_count": 174,
   "metadata": {},
   "outputs": [],
   "source": [
    "# пропуски в days_exposition заменяю на 0, так как вполне возможно что за ликвидные квартиры моментально после публикации вносят залог, соответственно объявление снимается, +  заменим тип данных\n",
    "data['days_exposition'] = data['days_exposition'].fillna(0).astype('int')"
   ]
  },
  {
   "cell_type": "code",
   "execution_count": 175,
   "metadata": {},
   "outputs": [],
   "source": [
    "data['balcony'] = data['balcony'].astype('int')\n",
    "data['floors_total'] = data['floors_total'].astype('int')"
   ]
  },
  {
   "cell_type": "code",
   "execution_count": 176,
   "metadata": {},
   "outputs": [],
   "source": [
    "#в апартаментах  все пропущенные значения заменим на False, так как база большая и скорее всего такого типа раньше не было\n",
    "data['is_apartment'] = data['is_apartment'].fillna(False).astype('bool')"
   ]
  },
  {
   "cell_type": "code",
   "execution_count": 177,
   "metadata": {},
   "outputs": [
    {
     "data": {
      "text/plain": [
       "15651"
      ]
     },
     "execution_count": 177,
     "metadata": {},
     "output_type": "execute_result"
    }
   ],
   "source": [
    "len(data.query('locality_name == \"Санкт-Петербург\"'))"
   ]
  },
  {
   "cell_type": "code",
   "execution_count": 178,
   "metadata": {},
   "outputs": [
    {
     "data": {
      "text/plain": [
       "60"
      ]
     },
     "execution_count": 178,
     "metadata": {},
     "output_type": "execute_result"
    }
   ],
   "source": [
    "#пропущено значений для квартир из Санкт-Петербурга, может быть потому-что это центр и имеется ввиду 0? в реальной практике посмотрела бы по адресу, запросив данные у базы\n",
    "len(data[(data['locality_name'] == 'Санкт-Петербург') & (data['cityCenters_nearest'].isna())])"
   ]
  },
  {
   "cell_type": "markdown",
   "metadata": {},
   "source": [
    "### Вывод\n",
    "Часть значений оставлена без замены пропусков, так как не уместно. Возможно это техническая ошибка выгрузки,например эти строки были не обязательны для заполнения объявлений, соответсвенно данные пропускали, плюс такие данные, как кол-во парков/водоемов или расстояние до аэропорта больше актуальны для аренды жилья, район обычно всегда указан и эти данные при покупки можно посмотреть по карте,  но расстояния заменять средними значениями, или 0 не корректно. В остальных столбцах пропуски устранила, плюс поменяля тип данных."
   ]
  },
  {
   "cell_type": "markdown",
   "metadata": {},
   "source": []
  },
  {
   "cell_type": "markdown",
   "metadata": {},
   "source": [
    "## Расчёты и добавление результатов в таблицу"
   ]
  },
  {
   "cell_type": "markdown",
   "metadata": {},
   "source": [
    "#### задача посчитать:\n",
    "1. цену квадратного метра;\n",
    "2. день недели, месяц и год публикации объявления;\n",
    "3. этаж квартиры; варианты — первый, последний, другой;\n",
    "4. соотношение жилой и общей площади, а также отношение площади кухни к общей."
   ]
  },
  {
   "cell_type": "code",
   "execution_count": 179,
   "metadata": {},
   "outputs": [],
   "source": [
    "#цена за метр = цена/на общее количество метров\n",
    "data['price_meter'] = data['last_price'] / data['total_area']"
   ]
  },
  {
   "cell_type": "code",
   "execution_count": 180,
   "metadata": {},
   "outputs": [
    {
     "data": {
      "text/plain": [
       "0        120370.370370\n",
       "1        117355.371901\n",
       "2        106038.291605\n",
       "3         99696.969697\n",
       "4        113158.436214\n",
       "             ...      \n",
       "23608     29629.629630\n",
       "23609     94907.407407\n",
       "23610     98019.801980\n",
       "23611     99450.000000\n",
       "23612    102500.000000\n",
       "Name: price_meter, Length: 23565, dtype: float64"
      ]
     },
     "execution_count": 180,
     "metadata": {},
     "output_type": "execute_result"
    }
   ],
   "source": [
    "data['price_meter']"
   ]
  },
  {
   "cell_type": "code",
   "execution_count": 181,
   "metadata": {},
   "outputs": [
    {
     "data": {
      "text/plain": [
       "0    120370.37\n",
       "1    117355.37\n",
       "2    106038.29\n",
       "3     99696.97\n",
       "4    113158.44\n",
       "Name: price_meter, dtype: float64"
      ]
     },
     "execution_count": 181,
     "metadata": {},
     "output_type": "execute_result"
    }
   ],
   "source": [
    "data['price_meter'].round(2).head(5) #сделаем 2 знака после запятой"
   ]
  },
  {
   "cell_type": "code",
   "execution_count": 182,
   "metadata": {},
   "outputs": [],
   "source": [
    "data['weekday'] = data['first_day_exposition'].dt.weekday\n",
    "data['month'] = data['first_day_exposition'].dt.month\n",
    "data['year'] = data['first_day_exposition'].dt.year"
   ]
  },
  {
   "cell_type": "markdown",
   "metadata": {},
   "source": [
    "######комментарий\n",
    "пыталась сделать методом через \"не включает\", но код упал и пока в чем ошибка не поняла\n",
    "data.loc[data['floor'] == 1,'floor_category']  = 'первый'\n",
    "data.loc[data['floor'] == data['floors_total'], 'floor_category'] = 'последний'\n",
    "data.loc[data['floor'] == data[~data['floor_category'].isin(('первый', 'последний'))],'floor_category'] = 'другой'"
   ]
  },
  {
   "cell_type": "code",
   "execution_count": 183,
   "metadata": {},
   "outputs": [],
   "source": [
    "def floor_category(row):\n",
    "    floor = row['floor']\n",
    "    floors_total = row['floors_total']\n",
    "    if floor ==1:\n",
    "        return 'первый'\n",
    "    elif floor == floors_total:\n",
    "        return 'последний'\n",
    "    return 'другой'\n",
    "        "
   ]
  },
  {
   "cell_type": "code",
   "execution_count": 184,
   "metadata": {},
   "outputs": [],
   "source": [
    "data['floor_category'] = data.apply(floor_category, axis=1)"
   ]
  },
  {
   "cell_type": "code",
   "execution_count": 185,
   "metadata": {
    "scrolled": true
   },
   "outputs": [
    {
     "data": {
      "text/plain": [
       "23593    первый\n",
       "23594    первый\n",
       "23595    первый\n",
       "23596    первый\n",
       "23597    первый\n",
       "23598    первый\n",
       "23599    первый\n",
       "23600    первый\n",
       "23601    первый\n",
       "23602    первый\n",
       "23603    первый\n",
       "23604    первый\n",
       "23605    первый\n",
       "23606    первый\n",
       "23607    первый\n",
       "23608    первый\n",
       "23609    другой\n",
       "23610    другой\n",
       "23611    другой\n",
       "23612    другой\n",
       "Name: floor_category, dtype: object"
      ]
     },
     "execution_count": 185,
     "metadata": {},
     "output_type": "execute_result"
    }
   ],
   "source": [
    "data['floor_category'].tail(20)"
   ]
  },
  {
   "cell_type": "code",
   "execution_count": 186,
   "metadata": {},
   "outputs": [],
   "source": [
    "#соотношение жилой плозади к общей\n",
    "data['area_ratio'] = data['living_area'] / data['total_area']\n",
    "data['kitchen_ratio'] = data['kitchen_area'] / data['total_area'] #отношение площади кухни к общей"
   ]
  },
  {
   "cell_type": "markdown",
   "metadata": {},
   "source": [
    "### Вывод\n",
    "Цена за метр и отношение площадей посчитаны, добавлены столбцы с годом, месяцем и неделей. Этажи приведены к категориям с помощью функции, также пыталась попробовать вариант без функции через loc и оператор \"не включает\", но этажи кроме 1 и последнего не получилось поменять (код сразу слетал в ошибку ядра)."
   ]
  },
  {
   "cell_type": "markdown",
   "metadata": {},
   "source": [
    "## Исследовательский анализ данных"
   ]
  },
  {
   "cell_type": "markdown",
   "metadata": {},
   "source": [
    "#### Задача. \n",
    "Изучите следующие параметры: площадь, цена, число комнат, высота потолков. Постройте гистограммы для каждого параметра."
   ]
  },
  {
   "cell_type": "code",
   "execution_count": 187,
   "metadata": {
    "scrolled": true
   },
   "outputs": [
    {
     "data": {
      "image/png": "[encoded data removed]",
      "text/plain": [
       "<Figure size 432x288 with 1 Axes>"
      ]
     },
     "metadata": {
      "needs_background": "light"
     },
     "output_type": "display_data"
    }
   ],
   "source": [
    "data['total_area'].hist(bins=100, range=(0,500))\n",
    "plt.xlabel('общая площадь(m)')\n",
    "plt.show()"
   ]
  },
  {
   "cell_type": "code",
   "execution_count": 188,
   "metadata": {},
   "outputs": [
    {
     "data": {
      "text/plain": [
       "Text(0.5, 0, 'стоимость(млн)')"
      ]
     },
     "execution_count": 188,
     "metadata": {},
     "output_type": "execute_result"
    },
    {
     "data": {
      "image/png": "[encoded data removed]",
      "text/plain": [
       "<Figure size 360x288 with 1 Axes>"
      ]
     },
     "metadata": {
      "needs_background": "light"
     },
     "output_type": "display_data"
    }
   ],
   "source": [
    "#изучим цену\n",
    "data.plot(y = 'last_price', kind = 'hist', bins = 100, grid=True, range = (0,25000000), figsize = (5,4), title = 'Стоимость')\n",
    "plt.xlabel('стоимость(млн)')"
   ]
  },
  {
   "cell_type": "code",
   "execution_count": 189,
   "metadata": {},
   "outputs": [
    {
     "data": {
      "image/png": "[encoded data removed]",
      "text/plain": [
       "<Figure size 360x288 with 1 Axes>"
      ]
     },
     "metadata": {
      "needs_background": "light"
     },
     "output_type": "display_data"
    }
   ],
   "source": [
    "data.plot(y = 'rooms', kind = 'hist', bins = 50, grid=True, figsize = (5,4), title = 'Комнаты')\n",
    "plt.xlabel('количество комнат(шт)')\n",
    "plt.show()"
   ]
  },
  {
   "cell_type": "code",
   "execution_count": 190,
   "metadata": {},
   "outputs": [
    {
     "data": {
      "image/png": "[encoded data removed]",
      "text/plain": [
       "<Figure size 360x288 with 1 Axes>"
      ]
     },
     "metadata": {
      "needs_background": "light"
     },
     "output_type": "display_data"
    }
   ],
   "source": [
    "data.plot(y = 'ceiling_height', kind = 'hist', bins = 30, range = (2,6), grid=True, figsize = (5,4), title = 'Потолки')\n",
    "plt.xlabel('высота потолков(m)')\n",
    "plt.show()"
   ]
  },
  {
   "cell_type": "markdown",
   "metadata": {},
   "source": [
    "### Вывод\n",
    "1. Площадь: основаная площадь сосредоточена до 150/200 м, остальные значения уже редкие, в теории мы отбрасывали часть значений (здесь это было бы условие data.query('total_area < 400'), но это недвижимость разных классов и есть элитная с большим метражом, которая имеет своих клиентов и логично при выборке делить квартиры на классы для анализа. Средняя площадь в диапазоне 50-70 метров.\n",
    "2. Распределение цены также как и площади,  вполне нормальное. Цена в квартирах зависит от количества метров, распределение на графиках это показывает (т/е картиры площадью в 400 и более доходят примерно до 25 млн и выше) \n",
    "3. Данные по комнатам и потолкам также не имеют явных аномалий. В основном в выборке 1 и 2-х комнатные квартиры, средняя высота потолков около 2,6 м. Есть и квартиры более 7 комнат, потолки более 4 м. Студий "
   ]
  },
  {
   "cell_type": "markdown",
   "metadata": {},
   "source": [
    "#### Задача. \n",
    "Изучите время продажи квартиры. Постройте гистограмму. Посчитайте среднее и медиану. Опишите, сколько обычно занимает продажа. Когда можно считать, что продажи прошли очень быстро, а когда необычно долго?\n",
    "Уберите редкие и выбивающиеся значения. Опишите, какие особенности обнаружили."
   ]
  },
  {
   "cell_type": "code",
   "execution_count": 191,
   "metadata": {
    "scrolled": true
   },
   "outputs": [
    {
     "data": {
      "image/png": "[encoded data removed]",
      "text/plain": [
       "<Figure size 360x288 with 1 Axes>"
      ]
     },
     "metadata": {
      "needs_background": "light"
     },
     "output_type": "display_data"
    }
   ],
   "source": [
    "data.plot(y = 'days_exposition', kind = 'hist', bins = 100, range = (0,1000), grid=True, figsize = (5,4), title = 'Объявление о продаже')\n",
    "plt.xlabel('количество дней')\n",
    "plt.show()"
   ]
  },
  {
   "cell_type": "code",
   "execution_count": 192,
   "metadata": {},
   "outputs": [
    {
     "data": {
      "image/png": "[encoded data removed]",
      "text/plain": [
       "<Figure size 432x288 with 1 Axes>"
      ]
     },
     "metadata": {
      "needs_background": "light"
     },
     "output_type": "display_data"
    }
   ],
   "source": [
    "plt.boxplot(data['days_exposition'])\n",
    "plt.ylim(0,1000)\n",
    "plt.ylabel('количество дней')\n",
    "plt.title('Срок объявления о продаже', fontsize=12)\n",
    "plt.show()"
   ]
  },
  {
   "cell_type": "markdown",
   "metadata": {},
   "source": [
    "В среднем около 3-х месяцев продается квартира, около 6 месяцев стандарт, все остальные значения очень долгие (примерно от 400-500)возможны когда продавцы не верно оценивают недвижимость"
   ]
  },
  {
   "cell_type": "code",
   "execution_count": 193,
   "metadata": {},
   "outputs": [
    {
     "data": {
      "text/plain": [
       "count    23565.000000\n",
       "mean       156.420115\n",
       "std        213.517293\n",
       "min          0.000000\n",
       "25%         22.000000\n",
       "50%         73.000000\n",
       "75%        198.000000\n",
       "max       1580.000000\n",
       "Name: days_exposition, dtype: float64"
      ]
     },
     "execution_count": 193,
     "metadata": {},
     "output_type": "execute_result"
    }
   ],
   "source": [
    "data['days_exposition'].describe()"
   ]
  },
  {
   "cell_type": "code",
   "execution_count": 194,
   "metadata": {},
   "outputs": [
    {
     "data": {
      "text/plain": [
       "0     3171\n",
       "45     879\n",
       "60     538\n",
       "7      234\n",
       "30     208\n",
       "90     200\n",
       "4      174\n",
       "3      157\n",
       "5      152\n",
       "14     147\n",
       "Name: days_exposition, dtype: int64"
      ]
     },
     "execution_count": 194,
     "metadata": {},
     "output_type": "execute_result"
    }
   ],
   "source": [
    "data['days_exposition'].value_counts().head(10) #отсортируем по убыванию кол-во дней"
   ]
  },
  {
   "cell_type": "markdown",
   "metadata": {},
   "source": [
    "0, 45, 60, 7, 30, 90  - это наиболее популярное количество дней до снятия объявления. Связано с правилами размещения на площадке, https://yandex.ru/support/realty/owner/home/add-ads-housing.html. Все что больше 90 дней скорее всего автопродлевалось, так как рыночная стоимость не соответствовала спросу. В рамках тренажера удалила бы значения с 0, так как сделка 1 дня в реальности возможно только с перекупами. Эти значения являются маркерами адекватной оценки недвижимости, поэтому даже большие значения важны."
   ]
  },
  {
   "cell_type": "code",
   "execution_count": 195,
   "metadata": {},
   "outputs": [],
   "source": [
    "days_exposition_fast = data.query('days_exposition != 0 and days_exposition < 500') #нормальной выборкой считаем от 1"
   ]
  },
  {
   "cell_type": "code",
   "execution_count": 196,
   "metadata": {
    "scrolled": true
   },
   "outputs": [
    {
     "data": {
      "image/png": "[encoded data removed]",
      "text/plain": [
       "<Figure size 432x288 with 1 Axes>"
      ]
     },
     "metadata": {
      "needs_background": "light"
     },
     "output_type": "display_data"
    }
   ],
   "source": [
    "plt.boxplot(days_exposition_fast['days_exposition'])\n",
    "plt.ylim(1,1000)\n",
    "plt.ylabel('количество дней')\n",
    "plt.title('Срок объявления о продаже', fontsize=12)\n",
    "plt.show()"
   ]
  },
  {
   "cell_type": "code",
   "execution_count": 197,
   "metadata": {},
   "outputs": [
    {
     "data": {
      "text/plain": [
       "count    18652.000000\n",
       "mean       126.907088\n",
       "std        119.100398\n",
       "min          1.000000\n",
       "25%         41.000000\n",
       "50%         84.000000\n",
       "75%        181.000000\n",
       "max        499.000000\n",
       "Name: days_exposition, dtype: float64"
      ]
     },
     "execution_count": 197,
     "metadata": {},
     "output_type": "execute_result"
    }
   ],
   "source": [
    "days_exposition_fast['days_exposition'].describe() #незначительно изменилиь показатели значений на 126 и 84"
   ]
  },
  {
   "cell_type": "code",
   "execution_count": 198,
   "metadata": {
    "scrolled": true
   },
   "outputs": [
    {
     "data": {
      "image/png": "[encoded data removed]",
      "text/plain": [
       "<Figure size 432x288 with 1 Axes>"
      ]
     },
     "metadata": {
      "needs_background": "light"
     },
     "output_type": "display_data"
    }
   ],
   "source": [
    "days_exposition_fast.plot(y = 'days_exposition', kind = 'hist', bins = 100, grid = True, range = (1,800))\n",
    "plt.xlabel('количество дней')\n",
    "plt.title('Срок объявления о продаже', fontsize=9)\n",
    "plt.show()"
   ]
  },
  {
   "cell_type": "code",
   "execution_count": 199,
   "metadata": {},
   "outputs": [
    {
     "data": {
      "text/html": [
       "<div>\n",
       "<style scoped>\n",
       "    .dataframe tbody tr th:only-of-type {\n",
       "        vertical-align: middle;\n",
       "    }\n",
       "\n",
       "    .dataframe tbody tr th {\n",
       "        vertical-align: top;\n",
       "    }\n",
       "\n",
       "    .dataframe thead th {\n",
       "        text-align: right;\n",
       "    }\n",
       "</style>\n",
       "<table border=\"1\" class=\"dataframe\">\n",
       "  <thead>\n",
       "    <tr style=\"text-align: right;\">\n",
       "      <th></th>\n",
       "      <th>total_images</th>\n",
       "      <th>last_price</th>\n",
       "      <th>total_area</th>\n",
       "      <th>first_day_exposition</th>\n",
       "      <th>rooms</th>\n",
       "      <th>ceiling_height</th>\n",
       "      <th>floors_total</th>\n",
       "      <th>living_area</th>\n",
       "      <th>floor</th>\n",
       "      <th>is_apartment</th>\n",
       "      <th>...</th>\n",
       "      <th>ponds_nearest</th>\n",
       "      <th>days_exposition</th>\n",
       "      <th>median_ceiling_height</th>\n",
       "      <th>price_meter</th>\n",
       "      <th>weekday</th>\n",
       "      <th>month</th>\n",
       "      <th>year</th>\n",
       "      <th>floor_category</th>\n",
       "      <th>area_ratio</th>\n",
       "      <th>kitchen_ratio</th>\n",
       "    </tr>\n",
       "  </thead>\n",
       "  <tbody>\n",
       "    <tr>\n",
       "      <td>1</td>\n",
       "      <td>16</td>\n",
       "      <td>14200000.0</td>\n",
       "      <td>121.0</td>\n",
       "      <td>2019-01-09</td>\n",
       "      <td>3</td>\n",
       "      <td>2.75</td>\n",
       "      <td>16</td>\n",
       "      <td>76.000000</td>\n",
       "      <td>8</td>\n",
       "      <td>False</td>\n",
       "      <td>...</td>\n",
       "      <td>NaN</td>\n",
       "      <td>97</td>\n",
       "      <td>2.7</td>\n",
       "      <td>117355.371901</td>\n",
       "      <td>2</td>\n",
       "      <td>1</td>\n",
       "      <td>2019</td>\n",
       "      <td>другой</td>\n",
       "      <td>0.628099</td>\n",
       "      <td>0.099174</td>\n",
       "    </tr>\n",
       "    <tr>\n",
       "      <td>2</td>\n",
       "      <td>8</td>\n",
       "      <td>7200000.0</td>\n",
       "      <td>67.9</td>\n",
       "      <td>2017-10-26</td>\n",
       "      <td>2</td>\n",
       "      <td>2.80</td>\n",
       "      <td>16</td>\n",
       "      <td>38.100000</td>\n",
       "      <td>4</td>\n",
       "      <td>False</td>\n",
       "      <td>...</td>\n",
       "      <td>NaN</td>\n",
       "      <td>112</td>\n",
       "      <td>2.7</td>\n",
       "      <td>106038.291605</td>\n",
       "      <td>3</td>\n",
       "      <td>10</td>\n",
       "      <td>2017</td>\n",
       "      <td>другой</td>\n",
       "      <td>0.561119</td>\n",
       "      <td>0.197349</td>\n",
       "    </tr>\n",
       "    <tr>\n",
       "      <td>3</td>\n",
       "      <td>3</td>\n",
       "      <td>3290000.0</td>\n",
       "      <td>33.0</td>\n",
       "      <td>2018-02-04</td>\n",
       "      <td>1</td>\n",
       "      <td>2.55</td>\n",
       "      <td>16</td>\n",
       "      <td>14.000000</td>\n",
       "      <td>3</td>\n",
       "      <td>False</td>\n",
       "      <td>...</td>\n",
       "      <td>NaN</td>\n",
       "      <td>15</td>\n",
       "      <td>2.7</td>\n",
       "      <td>99696.969697</td>\n",
       "      <td>6</td>\n",
       "      <td>2</td>\n",
       "      <td>2018</td>\n",
       "      <td>другой</td>\n",
       "      <td>0.424242</td>\n",
       "      <td>0.242424</td>\n",
       "    </tr>\n",
       "    <tr>\n",
       "      <td>4</td>\n",
       "      <td>18</td>\n",
       "      <td>10999000.0</td>\n",
       "      <td>97.2</td>\n",
       "      <td>2017-11-13</td>\n",
       "      <td>3</td>\n",
       "      <td>2.50</td>\n",
       "      <td>16</td>\n",
       "      <td>31.932222</td>\n",
       "      <td>16</td>\n",
       "      <td>False</td>\n",
       "      <td>...</td>\n",
       "      <td>390.0</td>\n",
       "      <td>394</td>\n",
       "      <td>2.7</td>\n",
       "      <td>113158.436214</td>\n",
       "      <td>0</td>\n",
       "      <td>11</td>\n",
       "      <td>2017</td>\n",
       "      <td>последний</td>\n",
       "      <td>0.328521</td>\n",
       "      <td>0.188272</td>\n",
       "    </tr>\n",
       "    <tr>\n",
       "      <td>8</td>\n",
       "      <td>8</td>\n",
       "      <td>8500000.0</td>\n",
       "      <td>49.9</td>\n",
       "      <td>2018-10-20</td>\n",
       "      <td>1</td>\n",
       "      <td>3.00</td>\n",
       "      <td>16</td>\n",
       "      <td>18.900000</td>\n",
       "      <td>14</td>\n",
       "      <td>False</td>\n",
       "      <td>...</td>\n",
       "      <td>833.0</td>\n",
       "      <td>145</td>\n",
       "      <td>2.7</td>\n",
       "      <td>170340.681363</td>\n",
       "      <td>5</td>\n",
       "      <td>10</td>\n",
       "      <td>2018</td>\n",
       "      <td>другой</td>\n",
       "      <td>0.378758</td>\n",
       "      <td>0.212425</td>\n",
       "    </tr>\n",
       "    <tr>\n",
       "      <td>9</td>\n",
       "      <td>10</td>\n",
       "      <td>5650000.0</td>\n",
       "      <td>61.4</td>\n",
       "      <td>2016-03-09</td>\n",
       "      <td>2</td>\n",
       "      <td>2.70</td>\n",
       "      <td>16</td>\n",
       "      <td>34.000000</td>\n",
       "      <td>8</td>\n",
       "      <td>False</td>\n",
       "      <td>...</td>\n",
       "      <td>NaN</td>\n",
       "      <td>361</td>\n",
       "      <td>2.7</td>\n",
       "      <td>92019.543974</td>\n",
       "      <td>2</td>\n",
       "      <td>3</td>\n",
       "      <td>2016</td>\n",
       "      <td>другой</td>\n",
       "      <td>0.553746</td>\n",
       "      <td>0.228013</td>\n",
       "    </tr>\n",
       "    <tr>\n",
       "      <td>10</td>\n",
       "      <td>7</td>\n",
       "      <td>7990000.0</td>\n",
       "      <td>55.0</td>\n",
       "      <td>2017-09-18</td>\n",
       "      <td>2</td>\n",
       "      <td>2.80</td>\n",
       "      <td>16</td>\n",
       "      <td>29.000000</td>\n",
       "      <td>6</td>\n",
       "      <td>False</td>\n",
       "      <td>...</td>\n",
       "      <td>NaN</td>\n",
       "      <td>127</td>\n",
       "      <td>2.7</td>\n",
       "      <td>145272.727273</td>\n",
       "      <td>0</td>\n",
       "      <td>9</td>\n",
       "      <td>2017</td>\n",
       "      <td>другой</td>\n",
       "      <td>0.527273</td>\n",
       "      <td>0.181818</td>\n",
       "    </tr>\n",
       "    <tr>\n",
       "      <td>11</td>\n",
       "      <td>6</td>\n",
       "      <td>6000000.0</td>\n",
       "      <td>46.4</td>\n",
       "      <td>2016-02-19</td>\n",
       "      <td>1</td>\n",
       "      <td>2.50</td>\n",
       "      <td>16</td>\n",
       "      <td>18.000000</td>\n",
       "      <td>5</td>\n",
       "      <td>False</td>\n",
       "      <td>...</td>\n",
       "      <td>NaN</td>\n",
       "      <td>120</td>\n",
       "      <td>2.7</td>\n",
       "      <td>129310.344828</td>\n",
       "      <td>4</td>\n",
       "      <td>2</td>\n",
       "      <td>2016</td>\n",
       "      <td>другой</td>\n",
       "      <td>0.387931</td>\n",
       "      <td>0.247845</td>\n",
       "    </tr>\n",
       "    <tr>\n",
       "      <td>12</td>\n",
       "      <td>13</td>\n",
       "      <td>3200000.0</td>\n",
       "      <td>51.7</td>\n",
       "      <td>2019-01-22</td>\n",
       "      <td>2</td>\n",
       "      <td>2.65</td>\n",
       "      <td>16</td>\n",
       "      <td>29.200000</td>\n",
       "      <td>5</td>\n",
       "      <td>False</td>\n",
       "      <td>...</td>\n",
       "      <td>NaN</td>\n",
       "      <td>21</td>\n",
       "      <td>2.7</td>\n",
       "      <td>61895.551257</td>\n",
       "      <td>1</td>\n",
       "      <td>1</td>\n",
       "      <td>2019</td>\n",
       "      <td>другой</td>\n",
       "      <td>0.564797</td>\n",
       "      <td>0.148936</td>\n",
       "    </tr>\n",
       "    <tr>\n",
       "      <td>13</td>\n",
       "      <td>15</td>\n",
       "      <td>5000000.0</td>\n",
       "      <td>43.0</td>\n",
       "      <td>2018-01-10</td>\n",
       "      <td>1</td>\n",
       "      <td>2.80</td>\n",
       "      <td>16</td>\n",
       "      <td>17.000000</td>\n",
       "      <td>11</td>\n",
       "      <td>False</td>\n",
       "      <td>...</td>\n",
       "      <td>NaN</td>\n",
       "      <td>103</td>\n",
       "      <td>2.7</td>\n",
       "      <td>116279.069767</td>\n",
       "      <td>2</td>\n",
       "      <td>1</td>\n",
       "      <td>2018</td>\n",
       "      <td>другой</td>\n",
       "      <td>0.395349</td>\n",
       "      <td>0.290698</td>\n",
       "    </tr>\n",
       "  </tbody>\n",
       "</table>\n",
       "<p>10 rows × 30 columns</p>\n",
       "</div>"
      ],
      "text/plain": [
       "    total_images  last_price  total_area first_day_exposition  rooms  \\\n",
       "1             16  14200000.0       121.0           2019-01-09      3   \n",
       "2              8   7200000.0        67.9           2017-10-26      2   \n",
       "3              3   3290000.0        33.0           2018-02-04      1   \n",
       "4             18  10999000.0        97.2           2017-11-13      3   \n",
       "8              8   8500000.0        49.9           2018-10-20      1   \n",
       "9             10   5650000.0        61.4           2016-03-09      2   \n",
       "10             7   7990000.0        55.0           2017-09-18      2   \n",
       "11             6   6000000.0        46.4           2016-02-19      1   \n",
       "12            13   3200000.0        51.7           2019-01-22      2   \n",
       "13            15   5000000.0        43.0           2018-01-10      1   \n",
       "\n",
       "    ceiling_height  floors_total  living_area  floor  is_apartment  ...  \\\n",
       "1             2.75            16    76.000000      8         False  ...   \n",
       "2             2.80            16    38.100000      4         False  ...   \n",
       "3             2.55            16    14.000000      3         False  ...   \n",
       "4             2.50            16    31.932222     16         False  ...   \n",
       "8             3.00            16    18.900000     14         False  ...   \n",
       "9             2.70            16    34.000000      8         False  ...   \n",
       "10            2.80            16    29.000000      6         False  ...   \n",
       "11            2.50            16    18.000000      5         False  ...   \n",
       "12            2.65            16    29.200000      5         False  ...   \n",
       "13            2.80            16    17.000000     11         False  ...   \n",
       "\n",
       "    ponds_nearest  days_exposition  median_ceiling_height    price_meter  \\\n",
       "1             NaN               97                    2.7  117355.371901   \n",
       "2             NaN              112                    2.7  106038.291605   \n",
       "3             NaN               15                    2.7   99696.969697   \n",
       "4           390.0              394                    2.7  113158.436214   \n",
       "8           833.0              145                    2.7  170340.681363   \n",
       "9             NaN              361                    2.7   92019.543974   \n",
       "10            NaN              127                    2.7  145272.727273   \n",
       "11            NaN              120                    2.7  129310.344828   \n",
       "12            NaN               21                    2.7   61895.551257   \n",
       "13            NaN              103                    2.7  116279.069767   \n",
       "\n",
       "   weekday  month  year  floor_category  area_ratio  kitchen_ratio  \n",
       "1        2      1  2019          другой    0.628099       0.099174  \n",
       "2        3     10  2017          другой    0.561119       0.197349  \n",
       "3        6      2  2018          другой    0.424242       0.242424  \n",
       "4        0     11  2017       последний    0.328521       0.188272  \n",
       "8        5     10  2018          другой    0.378758       0.212425  \n",
       "9        2      3  2016          другой    0.553746       0.228013  \n",
       "10       0      9  2017          другой    0.527273       0.181818  \n",
       "11       4      2  2016          другой    0.387931       0.247845  \n",
       "12       1      1  2019          другой    0.564797       0.148936  \n",
       "13       2      1  2018          другой    0.395349       0.290698  \n",
       "\n",
       "[10 rows x 30 columns]"
      ]
     },
     "execution_count": 199,
     "metadata": {},
     "output_type": "execute_result"
    }
   ],
   "source": [
    "days_exposition_fast.head(10)"
   ]
  },
  {
   "cell_type": "code",
   "execution_count": 200,
   "metadata": {},
   "outputs": [
    {
     "data": {
      "image/png": "[encoded data removed]",
      "text/plain": [
       "<Figure size 432x288 with 1 Axes>"
      ]
     },
     "metadata": {
      "needs_background": "light"
     },
     "output_type": "display_data"
    }
   ],
   "source": [
    "#сравнение\n",
    "ax = data.plot(\n",
    "    kind='hist',\n",
    "    y='days_exposition',\n",
    "    histtype='step',\n",
    "    range=(0, 500),\n",
    "    bins=100,\n",
    ")\n",
    "days_exposition_fast.plot(y = 'days_exposition', kind = 'hist', bins = 100, histtype='step', label='filtered', ax=ax, range=(0, 500))\n",
    "plt.xlabel('количество дней')\n",
    "plt.title('Сравнение выборок', fontsize=12)\n",
    "plt.show()"
   ]
  },
  {
   "cell_type": "markdown",
   "metadata": {},
   "source": [
    "### Вывод:\n",
    "0, 45, 60, 7, 30, 90  - это наиболее популярное количество дней до снятия объявления. Связано с правилами размещения на площадке, https://yandex.ru/support/realty/owner/home/add-ads-housing.html. Все что больше 90 дней скорее всего автопродлевалось, так как рыночная стоимость не соответствовала спросу. В рамках тренажера удалила бы значения с 0 и все что более 500 дней, так как сделка 1 дня в реальности возможно только с перекупами, что висит около 1,5 года и выше тоже в рамках задачи удалю (но значения являются маркерами адекватной оценки недвижимости, поэтому в реальности бы удалять не стала)"
   ]
  },
  {
   "cell_type": "code",
   "execution_count": 201,
   "metadata": {
    "scrolled": true
   },
   "outputs": [
    {
     "data": {
      "image/png": "[encoded data removed]",
      "text/plain": [
       "<Figure size 432x288 with 1 Axes>"
      ]
     },
     "metadata": {
      "needs_background": "light"
     },
     "output_type": "display_data"
    }
   ],
   "source": [
    "plt.boxplot(data['rooms'])\n",
    "plt.ylim(0,15)\n",
    "plt.ylabel('количество комнат')\n",
    "plt.title('Анализ числа комнат', fontsize=9)\n",
    "plt.show()"
   ]
  },
  {
   "cell_type": "code",
   "execution_count": 202,
   "metadata": {},
   "outputs": [
    {
     "data": {
      "text/plain": [
       "5124     19\n",
       "19449    16\n",
       "13995    15\n",
       "1789     14\n",
       "19560    14\n",
       "16444    12\n",
       "3976     11\n",
       "21930    11\n",
       "5978     10\n",
       "14513    10\n",
       "22010    10\n",
       "4771      9\n",
       "4857      9\n",
       "5712      9\n",
       "6675      9\n",
       "14131     9\n",
       "14155     9\n",
       "20496     9\n",
       "20594     9\n",
       "3738      8\n",
       "Name: rooms, dtype: int64"
      ]
     },
     "execution_count": 202,
     "metadata": {},
     "output_type": "execute_result"
    }
   ],
   "source": [
    "data['rooms'].nlargest(20) "
   ]
  },
  {
   "cell_type": "code",
   "execution_count": 203,
   "metadata": {},
   "outputs": [
    {
     "data": {
      "text/plain": [
       "0.9998726925525143"
      ]
     },
     "execution_count": 203,
     "metadata": {},
     "output_type": "execute_result"
    }
   ],
   "source": [
    "(data['rooms']< 15 ).mean() #узнаем какая доля значений от всего списка ( чтобы удалить выбросы)"
   ]
  },
  {
   "cell_type": "code",
   "execution_count": 204,
   "metadata": {},
   "outputs": [],
   "source": [
    "data['rooms_new']=(data['rooms']< 15 ) #построим данные без хвостов"
   ]
  },
  {
   "cell_type": "code",
   "execution_count": 205,
   "metadata": {},
   "outputs": [
    {
     "data": {
      "image/png": "[encoded data removed]",
      "text/plain": [
       "<Figure size 576x432 with 1 Axes>"
      ]
     },
     "metadata": {
      "needs_background": "light"
     },
     "output_type": "display_data"
    }
   ],
   "source": [
    "data.query('rooms_new == True')['rooms'].hist(figsize=(8, 6), range=(0, 15), bins=30)\n",
    "plt.xlabel('количество комнат')\n",
    "plt.title('Комнаты стандартные', fontsize=9)\n",
    "plt.show()"
   ]
  },
  {
   "cell_type": "code",
   "execution_count": 206,
   "metadata": {},
   "outputs": [
    {
     "data": {
      "text/plain": [
       "count    23562.000000\n",
       "mean         2.068797\n",
       "std          1.065837\n",
       "min          0.000000\n",
       "25%          1.000000\n",
       "50%          2.000000\n",
       "75%          3.000000\n",
       "max         14.000000\n",
       "Name: rooms, dtype: float64"
      ]
     },
     "execution_count": 206,
     "metadata": {},
     "output_type": "execute_result"
    }
   ],
   "source": [
    "data.query('rooms_new == True')['rooms'].describe() #среднее и макс значения поменялись\n"
   ]
  },
  {
   "cell_type": "code",
   "execution_count": 207,
   "metadata": {},
   "outputs": [],
   "source": [
    "data['rooms'] = data.query('rooms_new == True')['rooms']"
   ]
  },
  {
   "cell_type": "code",
   "execution_count": 208,
   "metadata": {},
   "outputs": [
    {
     "data": {
      "text/plain": [
       "3"
      ]
     },
     "execution_count": 208,
     "metadata": {},
     "output_type": "execute_result"
    }
   ],
   "source": [
    "data['rooms'].isna().sum()\n"
   ]
  },
  {
   "cell_type": "code",
   "execution_count": 209,
   "metadata": {},
   "outputs": [
    {
     "data": {
      "text/plain": [
       "5124    NaN\n",
       "13995   NaN\n",
       "19449   NaN\n",
       "Name: rooms, dtype: float64"
      ]
     },
     "execution_count": 209,
     "metadata": {},
     "output_type": "execute_result"
    }
   ],
   "source": [
    "data.loc[data['rooms'].isna(), 'rooms'] "
   ]
  },
  {
   "cell_type": "code",
   "execution_count": 210,
   "metadata": {},
   "outputs": [
    {
     "data": {
      "text/plain": [
       "total_images                               6\n",
       "last_price                         3.225e+07\n",
       "total_area                             374.6\n",
       "first_day_exposition     2018-06-09 00:00:00\n",
       "rooms                                    NaN\n",
       "ceiling_height                          2.55\n",
       "floors_total                               5\n",
       "living_area                            264.5\n",
       "floor                                      2\n",
       "is_apartment                           False\n",
       "studio                                 False\n",
       "open_plan                              False\n",
       "kitchen_area                            27.6\n",
       "balcony                                    0\n",
       "locality_name                Санкт-Петербург\n",
       "airports_nearest                       19497\n",
       "cityCenters_nearest                     3574\n",
       "parks_around3000                           0\n",
       "parks_nearest                            NaN\n",
       "ponds_around3000                           2\n",
       "ponds_nearest                            548\n",
       "days_exposition                          114\n",
       "median_ceiling_height                   2.55\n",
       "price_meter                          86091.8\n",
       "weekday                                    5\n",
       "month                                      6\n",
       "year                                    2018\n",
       "floor_category                        другой\n",
       "area_ratio                          0.706086\n",
       "kitchen_ratio                      0.0736786\n",
       "rooms_new                              False\n",
       "Name: 5124, dtype: object"
      ]
     },
     "execution_count": 210,
     "metadata": {},
     "output_type": "execute_result"
    }
   ],
   "source": [
    "data.loc[5124] #проверила одну строку с нанами(появились так как они попали в выбросы), но данные показывают вполне реальную картину - квартиру в 380 м в спб (такое возможно) вполне можно разделить на 16-19 комнат, в целях проекта для тренировки можем конечно удалить, но лучше заменить наны на 1 (посчитав за свободную планировку)"
   ]
  },
  {
   "cell_type": "code",
   "execution_count": 211,
   "metadata": {},
   "outputs": [],
   "source": [
    "data['rooms'] = data['rooms'].fillna(1)"
   ]
  },
  {
   "cell_type": "code",
   "execution_count": 212,
   "metadata": {},
   "outputs": [
    {
     "data": {
      "text/plain": [
       "0"
      ]
     },
     "execution_count": 212,
     "metadata": {},
     "output_type": "execute_result"
    }
   ],
   "source": [
    "data['rooms'].isna().sum()"
   ]
  },
  {
   "cell_type": "code",
   "execution_count": 213,
   "metadata": {},
   "outputs": [
    {
     "data": {
      "image/png": "[encoded data removed]",
      "text/plain": [
       "<Figure size 432x288 with 1 Axes>"
      ]
     },
     "metadata": {
      "needs_background": "light"
     },
     "output_type": "display_data"
    }
   ],
   "source": [
    "plt.boxplot(data['ceiling_height'])\n",
    "plt.ylim(1,4)\n",
    "plt.ylabel('потолки(m)')\n",
    "plt.title('Анализ потолков', fontsize=9)\n",
    "plt.show()"
   ]
  },
  {
   "cell_type": "code",
   "execution_count": 214,
   "metadata": {},
   "outputs": [
    {
     "data": {
      "text/plain": [
       "7153     100.0\n",
       "14654     32.0\n",
       "16736     32.0\n",
       "9825      27.5\n",
       "2846      27.0\n",
       "5921      27.0\n",
       "15785     27.0\n",
       "19537     27.0\n",
       "20721     27.0\n",
       "20733     27.0\n",
       "21274     27.0\n",
       "23398     27.0\n",
       "10918     26.0\n",
       "1673      25.0\n",
       "3115      25.0\n",
       "3892      25.0\n",
       "4353      25.0\n",
       "5089      25.0\n",
       "6101      25.0\n",
       "10755     25.0\n",
       "Name: ceiling_height, dtype: float64"
      ]
     },
     "execution_count": 214,
     "metadata": {},
     "output_type": "execute_result"
    }
   ],
   "source": [
    "data['ceiling_height'].nlargest(20) "
   ]
  },
  {
   "cell_type": "code",
   "execution_count": 215,
   "metadata": {},
   "outputs": [
    {
     "data": {
      "text/plain": [
       "0"
      ]
     },
     "execution_count": 215,
     "metadata": {},
     "output_type": "execute_result"
    }
   ],
   "source": [
    "data['ceiling_height'].isna().sum()"
   ]
  },
  {
   "cell_type": "code",
   "execution_count": 216,
   "metadata": {},
   "outputs": [
    {
     "data": {
      "text/plain": [
       "0.9983874389985148"
      ]
     },
     "execution_count": 216,
     "metadata": {},
     "output_type": "execute_result"
    }
   ],
   "source": [
    "(data['ceiling_height']< 5 ).mean()"
   ]
  },
  {
   "cell_type": "code",
   "execution_count": 217,
   "metadata": {},
   "outputs": [
    {
     "data": {
      "text/plain": [
       "0.9977933375769149"
      ]
     },
     "execution_count": 217,
     "metadata": {},
     "output_type": "execute_result"
    }
   ],
   "source": [
    "((data['ceiling_height']< 5 ) & (data['ceiling_height']> 2)).mean() #выборка выбросов незначительная"
   ]
  },
  {
   "cell_type": "code",
   "execution_count": 218,
   "metadata": {},
   "outputs": [],
   "source": [
    "data['ceiling_height_standart'] = ((data['ceiling_height']< 5 ) & (data['ceiling_height']> 2))"
   ]
  },
  {
   "cell_type": "code",
   "execution_count": 219,
   "metadata": {},
   "outputs": [
    {
     "data": {
      "image/png": "[encoded data removed]",
      "text/plain": [
       "<Figure size 576x432 with 1 Axes>"
      ]
     },
     "metadata": {
      "needs_background": "light"
     },
     "output_type": "display_data"
    }
   ],
   "source": [
    "ax = data.query('ceiling_height_standart == True')['ceiling_height'].hist(figsize=(8, 6), range=(0, 10), bins=30)\n",
    "plt.xlabel('потолки (м)')\n",
    "plt.title('Потолки после фильтрации', fontsize=9)\n",
    "plt.show()"
   ]
  },
  {
   "cell_type": "code",
   "execution_count": 221,
   "metadata": {},
   "outputs": [
    {
     "data": {
      "text/html": [
       "<div>\n",
       "<style scoped>\n",
       "    .dataframe tbody tr th:only-of-type {\n",
       "        vertical-align: middle;\n",
       "    }\n",
       "\n",
       "    .dataframe tbody tr th {\n",
       "        vertical-align: top;\n",
       "    }\n",
       "\n",
       "    .dataframe thead th {\n",
       "        text-align: right;\n",
       "    }\n",
       "</style>\n",
       "<table border=\"1\" class=\"dataframe\">\n",
       "  <thead>\n",
       "    <tr style=\"text-align: right;\">\n",
       "      <th></th>\n",
       "      <th>total_images</th>\n",
       "      <th>last_price</th>\n",
       "      <th>total_area</th>\n",
       "      <th>rooms</th>\n",
       "      <th>ceiling_height</th>\n",
       "      <th>floors_total</th>\n",
       "      <th>living_area</th>\n",
       "      <th>floor</th>\n",
       "      <th>kitchen_area</th>\n",
       "      <th>balcony</th>\n",
       "      <th>...</th>\n",
       "      <th>ponds_around3000</th>\n",
       "      <th>ponds_nearest</th>\n",
       "      <th>days_exposition</th>\n",
       "      <th>median_ceiling_height</th>\n",
       "      <th>price_meter</th>\n",
       "      <th>weekday</th>\n",
       "      <th>month</th>\n",
       "      <th>year</th>\n",
       "      <th>area_ratio</th>\n",
       "      <th>kitchen_ratio</th>\n",
       "    </tr>\n",
       "  </thead>\n",
       "  <tbody>\n",
       "    <tr>\n",
       "      <td>0</td>\n",
       "      <td>20</td>\n",
       "      <td>13000000.0</td>\n",
       "      <td>108.0</td>\n",
       "      <td>3.0</td>\n",
       "      <td>2.700000</td>\n",
       "      <td>16</td>\n",
       "      <td>51.000000</td>\n",
       "      <td>8</td>\n",
       "      <td>25.00</td>\n",
       "      <td>0</td>\n",
       "      <td>...</td>\n",
       "      <td>2.0</td>\n",
       "      <td>755.0</td>\n",
       "      <td>0</td>\n",
       "      <td>2.70</td>\n",
       "      <td>120370.370370</td>\n",
       "      <td>3</td>\n",
       "      <td>3</td>\n",
       "      <td>2019</td>\n",
       "      <td>0.472222</td>\n",
       "      <td>0.231481</td>\n",
       "    </tr>\n",
       "    <tr>\n",
       "      <td>1</td>\n",
       "      <td>16</td>\n",
       "      <td>14200000.0</td>\n",
       "      <td>121.0</td>\n",
       "      <td>3.0</td>\n",
       "      <td>2.750000</td>\n",
       "      <td>16</td>\n",
       "      <td>76.000000</td>\n",
       "      <td>8</td>\n",
       "      <td>12.00</td>\n",
       "      <td>0</td>\n",
       "      <td>...</td>\n",
       "      <td>0.0</td>\n",
       "      <td>NaN</td>\n",
       "      <td>97</td>\n",
       "      <td>2.70</td>\n",
       "      <td>117355.371901</td>\n",
       "      <td>2</td>\n",
       "      <td>1</td>\n",
       "      <td>2019</td>\n",
       "      <td>0.628099</td>\n",
       "      <td>0.099174</td>\n",
       "    </tr>\n",
       "    <tr>\n",
       "      <td>2</td>\n",
       "      <td>8</td>\n",
       "      <td>7200000.0</td>\n",
       "      <td>67.9</td>\n",
       "      <td>2.0</td>\n",
       "      <td>2.800000</td>\n",
       "      <td>16</td>\n",
       "      <td>38.100000</td>\n",
       "      <td>4</td>\n",
       "      <td>13.40</td>\n",
       "      <td>2</td>\n",
       "      <td>...</td>\n",
       "      <td>0.0</td>\n",
       "      <td>NaN</td>\n",
       "      <td>112</td>\n",
       "      <td>2.70</td>\n",
       "      <td>106038.291605</td>\n",
       "      <td>3</td>\n",
       "      <td>10</td>\n",
       "      <td>2017</td>\n",
       "      <td>0.561119</td>\n",
       "      <td>0.197349</td>\n",
       "    </tr>\n",
       "    <tr>\n",
       "      <td>3</td>\n",
       "      <td>3</td>\n",
       "      <td>3290000.0</td>\n",
       "      <td>33.0</td>\n",
       "      <td>1.0</td>\n",
       "      <td>2.550000</td>\n",
       "      <td>16</td>\n",
       "      <td>14.000000</td>\n",
       "      <td>3</td>\n",
       "      <td>8.00</td>\n",
       "      <td>0</td>\n",
       "      <td>...</td>\n",
       "      <td>0.0</td>\n",
       "      <td>NaN</td>\n",
       "      <td>15</td>\n",
       "      <td>2.70</td>\n",
       "      <td>99696.969697</td>\n",
       "      <td>6</td>\n",
       "      <td>2</td>\n",
       "      <td>2018</td>\n",
       "      <td>0.424242</td>\n",
       "      <td>0.242424</td>\n",
       "    </tr>\n",
       "    <tr>\n",
       "      <td>4</td>\n",
       "      <td>18</td>\n",
       "      <td>10999000.0</td>\n",
       "      <td>97.2</td>\n",
       "      <td>3.0</td>\n",
       "      <td>2.500000</td>\n",
       "      <td>16</td>\n",
       "      <td>31.932222</td>\n",
       "      <td>16</td>\n",
       "      <td>18.30</td>\n",
       "      <td>5</td>\n",
       "      <td>...</td>\n",
       "      <td>2.0</td>\n",
       "      <td>390.0</td>\n",
       "      <td>394</td>\n",
       "      <td>2.70</td>\n",
       "      <td>113158.436214</td>\n",
       "      <td>0</td>\n",
       "      <td>11</td>\n",
       "      <td>2017</td>\n",
       "      <td>0.328521</td>\n",
       "      <td>0.188272</td>\n",
       "    </tr>\n",
       "    <tr>\n",
       "      <td>...</td>\n",
       "      <td>...</td>\n",
       "      <td>...</td>\n",
       "      <td>...</td>\n",
       "      <td>...</td>\n",
       "      <td>...</td>\n",
       "      <td>...</td>\n",
       "      <td>...</td>\n",
       "      <td>...</td>\n",
       "      <td>...</td>\n",
       "      <td>...</td>\n",
       "      <td>...</td>\n",
       "      <td>...</td>\n",
       "      <td>...</td>\n",
       "      <td>...</td>\n",
       "      <td>...</td>\n",
       "      <td>...</td>\n",
       "      <td>...</td>\n",
       "      <td>...</td>\n",
       "      <td>...</td>\n",
       "      <td>...</td>\n",
       "      <td>...</td>\n",
       "    </tr>\n",
       "    <tr>\n",
       "      <td>23608</td>\n",
       "      <td>7</td>\n",
       "      <td>1600000.0</td>\n",
       "      <td>54.0</td>\n",
       "      <td>2.0</td>\n",
       "      <td>2.300000</td>\n",
       "      <td>1</td>\n",
       "      <td>33.000000</td>\n",
       "      <td>1</td>\n",
       "      <td>3.50</td>\n",
       "      <td>0</td>\n",
       "      <td>...</td>\n",
       "      <td>NaN</td>\n",
       "      <td>NaN</td>\n",
       "      <td>281</td>\n",
       "      <td>2.80</td>\n",
       "      <td>29629.629630</td>\n",
       "      <td>0</td>\n",
       "      <td>12</td>\n",
       "      <td>2016</td>\n",
       "      <td>0.611111</td>\n",
       "      <td>0.064815</td>\n",
       "    </tr>\n",
       "    <tr>\n",
       "      <td>23609</td>\n",
       "      <td>10</td>\n",
       "      <td>4100000.0</td>\n",
       "      <td>43.2</td>\n",
       "      <td>1.0</td>\n",
       "      <td>2.600000</td>\n",
       "      <td>29</td>\n",
       "      <td>14.350000</td>\n",
       "      <td>18</td>\n",
       "      <td>14.40</td>\n",
       "      <td>2</td>\n",
       "      <td>...</td>\n",
       "      <td>0.0</td>\n",
       "      <td>NaN</td>\n",
       "      <td>45</td>\n",
       "      <td>2.60</td>\n",
       "      <td>94907.407407</td>\n",
       "      <td>0</td>\n",
       "      <td>9</td>\n",
       "      <td>2018</td>\n",
       "      <td>0.332176</td>\n",
       "      <td>0.333333</td>\n",
       "    </tr>\n",
       "    <tr>\n",
       "      <td>23610</td>\n",
       "      <td>9</td>\n",
       "      <td>9900000.0</td>\n",
       "      <td>101.0</td>\n",
       "      <td>3.0</td>\n",
       "      <td>2.735917</td>\n",
       "      <td>33</td>\n",
       "      <td>53.000000</td>\n",
       "      <td>32</td>\n",
       "      <td>21.00</td>\n",
       "      <td>0</td>\n",
       "      <td>...</td>\n",
       "      <td>3.0</td>\n",
       "      <td>80.0</td>\n",
       "      <td>53</td>\n",
       "      <td>NaN</td>\n",
       "      <td>98019.801980</td>\n",
       "      <td>3</td>\n",
       "      <td>4</td>\n",
       "      <td>2016</td>\n",
       "      <td>0.524752</td>\n",
       "      <td>0.207921</td>\n",
       "    </tr>\n",
       "    <tr>\n",
       "      <td>23611</td>\n",
       "      <td>9</td>\n",
       "      <td>3978000.0</td>\n",
       "      <td>40.0</td>\n",
       "      <td>1.0</td>\n",
       "      <td>2.650000</td>\n",
       "      <td>52</td>\n",
       "      <td>10.500000</td>\n",
       "      <td>18</td>\n",
       "      <td>14.00</td>\n",
       "      <td>0</td>\n",
       "      <td>...</td>\n",
       "      <td>0.0</td>\n",
       "      <td>NaN</td>\n",
       "      <td>45</td>\n",
       "      <td>2.65</td>\n",
       "      <td>99450.000000</td>\n",
       "      <td>0</td>\n",
       "      <td>9</td>\n",
       "      <td>2018</td>\n",
       "      <td>0.262500</td>\n",
       "      <td>0.350000</td>\n",
       "    </tr>\n",
       "    <tr>\n",
       "      <td>23612</td>\n",
       "      <td>5</td>\n",
       "      <td>4100000.0</td>\n",
       "      <td>40.0</td>\n",
       "      <td>1.0</td>\n",
       "      <td>1.750000</td>\n",
       "      <td>37</td>\n",
       "      <td>17.400000</td>\n",
       "      <td>5</td>\n",
       "      <td>8.34</td>\n",
       "      <td>0</td>\n",
       "      <td>...</td>\n",
       "      <td>3.0</td>\n",
       "      <td>80.0</td>\n",
       "      <td>71</td>\n",
       "      <td>1.75</td>\n",
       "      <td>102500.000000</td>\n",
       "      <td>1</td>\n",
       "      <td>10</td>\n",
       "      <td>2017</td>\n",
       "      <td>0.435000</td>\n",
       "      <td>0.208500</td>\n",
       "    </tr>\n",
       "  </tbody>\n",
       "</table>\n",
       "<p>23565 rows × 24 columns</p>\n",
       "</div>"
      ],
      "text/plain": [
       "       total_images  last_price  total_area  rooms  ceiling_height  \\\n",
       "0                20  13000000.0       108.0    3.0        2.700000   \n",
       "1                16  14200000.0       121.0    3.0        2.750000   \n",
       "2                 8   7200000.0        67.9    2.0        2.800000   \n",
       "3                 3   3290000.0        33.0    1.0        2.550000   \n",
       "4                18  10999000.0        97.2    3.0        2.500000   \n",
       "...             ...         ...         ...    ...             ...   \n",
       "23608             7   1600000.0        54.0    2.0        2.300000   \n",
       "23609            10   4100000.0        43.2    1.0        2.600000   \n",
       "23610             9   9900000.0       101.0    3.0        2.735917   \n",
       "23611             9   3978000.0        40.0    1.0        2.650000   \n",
       "23612             5   4100000.0        40.0    1.0        1.750000   \n",
       "\n",
       "       floors_total  living_area  floor  kitchen_area  balcony  ...  \\\n",
       "0                16    51.000000      8         25.00        0  ...   \n",
       "1                16    76.000000      8         12.00        0  ...   \n",
       "2                16    38.100000      4         13.40        2  ...   \n",
       "3                16    14.000000      3          8.00        0  ...   \n",
       "4                16    31.932222     16         18.30        5  ...   \n",
       "...             ...          ...    ...           ...      ...  ...   \n",
       "23608             1    33.000000      1          3.50        0  ...   \n",
       "23609            29    14.350000     18         14.40        2  ...   \n",
       "23610            33    53.000000     32         21.00        0  ...   \n",
       "23611            52    10.500000     18         14.00        0  ...   \n",
       "23612            37    17.400000      5          8.34        0  ...   \n",
       "\n",
       "       ponds_around3000  ponds_nearest  days_exposition  \\\n",
       "0                   2.0          755.0                0   \n",
       "1                   0.0            NaN               97   \n",
       "2                   0.0            NaN              112   \n",
       "3                   0.0            NaN               15   \n",
       "4                   2.0          390.0              394   \n",
       "...                 ...            ...              ...   \n",
       "23608               NaN            NaN              281   \n",
       "23609               0.0            NaN               45   \n",
       "23610               3.0           80.0               53   \n",
       "23611               0.0            NaN               45   \n",
       "23612               3.0           80.0               71   \n",
       "\n",
       "       median_ceiling_height    price_meter  weekday  month  year  area_ratio  \\\n",
       "0                       2.70  120370.370370        3      3  2019    0.472222   \n",
       "1                       2.70  117355.371901        2      1  2019    0.628099   \n",
       "2                       2.70  106038.291605        3     10  2017    0.561119   \n",
       "3                       2.70   99696.969697        6      2  2018    0.424242   \n",
       "4                       2.70  113158.436214        0     11  2017    0.328521   \n",
       "...                      ...            ...      ...    ...   ...         ...   \n",
       "23608                   2.80   29629.629630        0     12  2016    0.611111   \n",
       "23609                   2.60   94907.407407        0      9  2018    0.332176   \n",
       "23610                    NaN   98019.801980        3      4  2016    0.524752   \n",
       "23611                   2.65   99450.000000        0      9  2018    0.262500   \n",
       "23612                   1.75  102500.000000        1     10  2017    0.435000   \n",
       "\n",
       "       kitchen_ratio  \n",
       "0           0.231481  \n",
       "1           0.099174  \n",
       "2           0.197349  \n",
       "3           0.242424  \n",
       "4           0.188272  \n",
       "...              ...  \n",
       "23608       0.064815  \n",
       "23609       0.333333  \n",
       "23610       0.207921  \n",
       "23611       0.350000  \n",
       "23612       0.208500  \n",
       "\n",
       "[23565 rows x 24 columns]"
      ]
     },
     "execution_count": 221,
     "metadata": {},
     "output_type": "execute_result"
    }
   ],
   "source": [
    "data.select_dtypes(include = 'number')"
   ]
  },
  {
   "cell_type": "code",
   "execution_count": null,
   "metadata": {},
   "outputs": [],
   "source": []
  },
  {
   "cell_type": "code",
   "execution_count": null,
   "metadata": {},
   "outputs": [],
   "source": [
    "data['ceiling_height'] = data.query('ceiling_height_standart == True')['ceiling_height']"
   ]
  },
  {
   "cell_type": "code",
   "execution_count": null,
   "metadata": {},
   "outputs": [],
   "source": [
    "data['ceiling_height'].isna().sum() "
   ]
  },
  {
   "cell_type": "code",
   "execution_count": null,
   "metadata": {},
   "outputs": [],
   "source": [
    "data['ceiling_height'].tail(5)"
   ]
  },
  {
   "cell_type": "code",
   "execution_count": null,
   "metadata": {},
   "outputs": [],
   "source": [
    "data.loc[23612] #проверила общую картину"
   ]
  },
  {
   "cell_type": "code",
   "execution_count": null,
   "metadata": {},
   "outputs": [],
   "source": [
    "data.dropna(subset=['ceiling_height']).style.highlight_min(color='#cd4f39') #удалю пропуски, так как их очень мало и они не повлияют на исследование, можно и заменить средним "
   ]
  },
  {
   "cell_type": "code",
   "execution_count": null,
   "metadata": {},
   "outputs": [],
   "source": [
    "data['ceiling_height'].describe()"
   ]
  },
  {
   "cell_type": "markdown",
   "metadata": {},
   "source": [
    "#### Задача. \n",
    "Какие факторы больше всего влияют на стоимость квартиры? Изучите, зависит ли цена от площади, числа комнат, удалённости от центра. Изучите зависимость цены от того, на каком этаже расположена квартира: первом, последнем или другом. Также изучите зависимость от даты размещения: дня недели, месяца и года.\n"
   ]
  },
  {
   "cell_type": "code",
   "execution_count": null,
   "metadata": {},
   "outputs": [],
   "source": [
    "total_area_rel = data.pivot_table(index = 'total_area', values = 'last_price', aggfunc = ['median', 'count'])"
   ]
  },
  {
   "cell_type": "code",
   "execution_count": null,
   "metadata": {},
   "outputs": [],
   "source": [
    "total_area_rel.columns = ['median', 'count']"
   ]
  },
  {
   "cell_type": "code",
   "execution_count": null,
   "metadata": {
    "scrolled": true
   },
   "outputs": [],
   "source": [
    "total_area_rel.corr()"
   ]
  },
  {
   "cell_type": "code",
   "execution_count": null,
   "metadata": {
    "scrolled": true
   },
   "outputs": [],
   "source": [
    "total_area_rel.plot(y = 'median', style = 'o')"
   ]
  },
  {
   "cell_type": "code",
   "execution_count": null,
   "metadata": {},
   "outputs": [],
   "source": [
    "price_multi = data.pivot_table(index='last_price', values=['total_area','rooms', 'price_meter', 'cityCenters_nearest'], aggfunc='mean')"
   ]
  },
  {
   "cell_type": "code",
   "execution_count": null,
   "metadata": {},
   "outputs": [],
   "source": [
    "pd.plotting.scatter_matrix(price_multi, figsize=(9,9))\n",
    "price_multi.corr()"
   ]
  },
  {
   "cell_type": "markdown",
   "metadata": {},
   "source": [
    "#### Комментарии\n",
    "По графикам видно что цена зависит в основном от площади, что очевидно. Чем больше комнат, тем меньше цена за метр, чем ближе к центру тем дороже метр."
   ]
  },
  {
   "cell_type": "code",
   "execution_count": null,
   "metadata": {
    "scrolled": false
   },
   "outputs": [],
   "source": [
    "data.plot(kind = 'scatter', y = 'price_meter', x = 'cityCenters_nearest') #Чем ближе к центру тем дороже метр, еще раз проверить\n",
    "plt.xlabel('cityCenters_nearest (km)')\n",
    "plt.title('Зависимость цены за метр от расстояния', fontsize=9)\n",
    "plt.show()"
   ]
  },
  {
   "cell_type": "code",
   "execution_count": null,
   "metadata": {},
   "outputs": [],
   "source": [
    "#сделаем сводную таблицу по зависимости от этажа\n",
    "floor_category_rel = data.pivot_table(index = 'floor_category', values = 'price_meter', aggfunc = ['mean', 'median'])\n",
    "floor_category_rel.columns = ['mean', 'median']\n",
    "floor_category_rel.plot( y = 'median', title = 'Этажи')\n"
   ]
  },
  {
   "cell_type": "code",
   "execution_count": null,
   "metadata": {},
   "outputs": [],
   "source": [
    "floor_category_rel"
   ]
  },
  {
   "cell_type": "markdown",
   "metadata": {},
   "source": [
    "#### Комментарии\n",
    "По графикам не особо понятно, видно что на 1 этажах дешевле, на последних - дороже 1, но дешевле остальных. Возможно это зависит от типа дома и года постройки - в старых домах а вторичке такое вполне реально, предпочитают этаж повыше, но не 1 и последний."
   ]
  },
  {
   "cell_type": "code",
   "execution_count": null,
   "metadata": {
    "scrolled": true
   },
   "outputs": [],
   "source": [
    "weekday_rel = data.pivot_table(index = 'weekday', values = 'last_price', aggfunc = ['mean', 'count', 'median'])\n",
    "weekday_rel.plot(y = 'mean')\n",
    "plt.xlabel('день недели')\n",
    "plt.title('Зависимость цены от дня недели', fontsize=9)\n"
   ]
  },
  {
   "cell_type": "code",
   "execution_count": null,
   "metadata": {
    "scrolled": true
   },
   "outputs": [],
   "source": [
    "month_rel = data.pivot_table(index = 'month', values = 'last_price', aggfunc = ['mean', 'count', 'median'])\n",
    "month_rel.plot(y = 'mean')\n",
    "plt.title('Зависимость цены от месяца', fontsize=9)"
   ]
  },
  {
   "cell_type": "code",
   "execution_count": null,
   "metadata": {},
   "outputs": [],
   "source": [
    "year_rel = data.pivot_table(index = 'year', values = 'last_price', aggfunc = ['mean', 'count', 'median'])\n",
    "year_rel.plot(y = 'mean')\n",
    "plt.title('Зависимость цены от года', fontsize=9)\n",
    "plt.show()"
   ]
  },
  {
   "cell_type": "markdown",
   "metadata": {},
   "source": [
    "#### Вывод\n",
    "По графикам в пятницу цена растет, в субботу самая большая средняя, скорее всего зависит от поиска - брокеры и покупатели подбирают недвижимость в будни, смотрят в выходной.  Есть четкая сезонность по месяцам, так как в праздники и летом этот вопрос видимо не так актуален (люди уезжают в отпуска/на каникулы), к зиме сезон.  Соответсвенно, если продаешь квартиру в несезон, скорее всего придется снизить цену, чтобы ее забрали. D 2014-15 цена упала и стала подниматься в соответсвии с введением ипотечной программы для семей и наступающим кризисом в недвижимости. Нужно смотреть еще и сегментацию клиентов и ипотечные ставки этого периода."
   ]
  },
  {
   "cell_type": "markdown",
   "metadata": {},
   "source": [
    "#### задача\n",
    "Выберите 10 населённых пунктов с наибольшим числом объявлений. Посчитайте среднюю цену квадратного метра в этих населённых пунктах. Выделите населённые пункты с самой высокой и низкой стоимостью жилья. Эти данные можно найти по имени в столбце locality_name."
   ]
  },
  {
   "cell_type": "code",
   "execution_count": null,
   "metadata": {},
   "outputs": [],
   "source": [
    "locality_name_rel = data.pivot_table(index='locality_name',values='price_meter', aggfunc=['count', 'mean']) "
   ]
  },
  {
   "cell_type": "code",
   "execution_count": null,
   "metadata": {},
   "outputs": [],
   "source": [
    "locality_name_rel.columns = ['count', 'mean']"
   ]
  },
  {
   "cell_type": "code",
   "execution_count": null,
   "metadata": {},
   "outputs": [],
   "source": [
    "locality_name_rel_top = locality_name_rel.sort_values('count', ascending = False).head(10)"
   ]
  },
  {
   "cell_type": "code",
   "execution_count": null,
   "metadata": {},
   "outputs": [],
   "source": [
    "locality_name_rel_top"
   ]
  },
  {
   "cell_type": "code",
   "execution_count": null,
   "metadata": {},
   "outputs": [],
   "source": [
    "locality_name_rel_top_max =locality_name_rel_top[locality_name_rel_top['mean']==locality_name_rel_top['mean'].max()]\n"
   ]
  },
  {
   "cell_type": "code",
   "execution_count": null,
   "metadata": {},
   "outputs": [],
   "source": [
    "locality_name_rel_top_max"
   ]
  },
  {
   "cell_type": "code",
   "execution_count": null,
   "metadata": {},
   "outputs": [],
   "source": [
    "locality_name_rel_top_min =locality_name_rel_top[locality_name_rel_top['mean']==locality_name_rel_top['mean'].min()]\n",
    "locality_name_rel_top_min"
   ]
  },
  {
   "cell_type": "markdown",
   "metadata": {},
   "source": [
    "#### Вывод\n",
    "самая высокая стоимость жилья из 10 населённых пунктов с самым большим количеством объявлений в Санкт-Петербурге, самая низкая стоимость в Выборге."
   ]
  },
  {
   "cell_type": "markdown",
   "metadata": {},
   "source": [
    "#### задача:\n",
    "- Изучите предложения квартир: для каждой квартиры есть информация о расстоянии до центра. Выделите квартиры в Санкт-Петербурге (locality_name). Ваша задача — выяснить, какая область входит в центр.\n",
    "- Создайте столбец с расстоянием до центра в километрах: округлите до целых значений. \n",
    "- После этого посчитайте среднюю цену для каждого километра. \n",
    "- Постройте график: он должен показывать, как цена зависит от удалённости от центра. Определите границу, где график сильно меняется, — это и будет центральная зона."
   ]
  },
  {
   "cell_type": "code",
   "execution_count": null,
   "metadata": {},
   "outputs": [],
   "source": [
    "data['cityCenters_nearest_km'] = round(data['cityCenters_nearest']/1000)"
   ]
  },
  {
   "cell_type": "code",
   "execution_count": null,
   "metadata": {
    "scrolled": false
   },
   "outputs": [],
   "source": [
    "data.head(5)"
   ]
  },
  {
   "cell_type": "code",
   "execution_count": null,
   "metadata": {},
   "outputs": [],
   "source": [
    "data['cityCenters_nearest_km'] = data['cityCenters_nearest_km'].astype('int', errors='ignore')"
   ]
  },
  {
   "cell_type": "code",
   "execution_count": null,
   "metadata": {
    "scrolled": true
   },
   "outputs": [],
   "source": [
    "data.pivot_table(index = 'cityCenters_nearest_km', values = 'price_meter', aggfunc = 'mean').plot(\n",
    "    y='price_meter',\n",
    "    ylim=(0, 300000),\n",
    "    style='o-',\n",
    "    grid=True,\n",
    "    figsize=(8, 6))"
   ]
  },
  {
   "cell_type": "code",
   "execution_count": null,
   "metadata": {},
   "outputs": [],
   "source": [
    "data.query('locality_name == \"Санкт-Петербург\"').pivot_table(index = 'cityCenters_nearest_km', values = 'price_meter', aggfunc = 'mean').plot(\n",
    "    y='price_meter',\n",
    "    ylim=(0, 300000),\n",
    "    style='o-',\n",
    "    grid=True,\n",
    "    figsize=(8, 6))"
   ]
  },
  {
   "cell_type": "markdown",
   "metadata": {},
   "source": [
    "#### Вывод\n",
    "Судя по графику центром можно считать 7-8 км (по графиу разница примерно в 1 млн)"
   ]
  },
  {
   "cell_type": "markdown",
   "metadata": {},
   "source": [
    "#### задача\n",
    "Выделите сегмент квартир в центре. Проанализируйте эту территорию и изучите следующие параметры: площадь, цена, число комнат, высота потолков. Также выделите факторы, которые влияют на стоимость квартиры (число комнат, этаж, удалённость от центра, дата размещения объявления). Сделайте выводы. Отличаются ли они от общих выводов по всему городу?\n"
   ]
  },
  {
   "cell_type": "code",
   "execution_count": null,
   "metadata": {},
   "outputs": [],
   "source": [
    "center = data.query('cityCenters_nearest_km <8 & locality_name == \"Санкт-Петербург\"')"
   ]
  },
  {
   "cell_type": "code",
   "execution_count": null,
   "metadata": {},
   "outputs": [],
   "source": [
    "center_multi = center.pivot_table(index='price_meter', values=['total_area','last_price', 'rooms', 'ceiling_height'], aggfunc='mean')"
   ]
  },
  {
   "cell_type": "code",
   "execution_count": null,
   "metadata": {},
   "outputs": [],
   "source": [
    "center_multi.sort_values(by = 'price_meter')"
   ]
  },
  {
   "cell_type": "code",
   "execution_count": null,
   "metadata": {},
   "outputs": [],
   "source": [
    "center['total_area'].describe() #посмотрим данные и диаграммы размаха по спб выборке "
   ]
  },
  {
   "cell_type": "code",
   "execution_count": null,
   "metadata": {
    "scrolled": true
   },
   "outputs": [],
   "source": [
    "center.boxplot(['total_area'])\n",
    "plt.ylim(1,600)\n",
    "plt.xlabel('Общая площадь (кв.м)')"
   ]
  },
  {
   "cell_type": "code",
   "execution_count": null,
   "metadata": {},
   "outputs": [],
   "source": [
    "center['last_price'].describe()"
   ]
  },
  {
   "cell_type": "code",
   "execution_count": null,
   "metadata": {
    "scrolled": true
   },
   "outputs": [],
   "source": [
    "center.boxplot(['last_price'])\n",
    "plt.ylim(1,30000000)\n",
    "plt.xlabel('Общая цена (млн)')"
   ]
  },
  {
   "cell_type": "code",
   "execution_count": null,
   "metadata": {},
   "outputs": [],
   "source": [
    "center['rooms'].describe()"
   ]
  },
  {
   "cell_type": "code",
   "execution_count": null,
   "metadata": {},
   "outputs": [],
   "source": [
    "center.boxplot(['rooms'])\n",
    "plt.ylim(1,10)\n",
    "plt.xlabel('Комнаты')"
   ]
  },
  {
   "cell_type": "code",
   "execution_count": null,
   "metadata": {
    "scrolled": true
   },
   "outputs": [],
   "source": [
    "center['ceiling_height'].describe()\n",
    "center.boxplot(['ceiling_height'])\n",
    "plt.ylim(1,6)\n",
    "plt.xlabel('Потолок')"
   ]
  },
  {
   "cell_type": "code",
   "execution_count": null,
   "metadata": {},
   "outputs": [],
   "source": [
    "center.boxplot(['days_exposition'])\n",
    "plt.ylim(0,600)\n",
    "plt.xlabel('Размещение')"
   ]
  },
  {
   "cell_type": "code",
   "execution_count": null,
   "metadata": {
    "scrolled": false
   },
   "outputs": [],
   "source": [
    "for column in ['rooms', 'floor_category', 'cityCenters_nearest_km', 'weekday', 'month', 'year', 'days_exposition']:\n",
    "    center.plot(x=column, y='price_meter', kind='hist', bins=30, title=column)"
   ]
  },
  {
   "cell_type": "code",
   "execution_count": null,
   "metadata": {
    "scrolled": false
   },
   "outputs": [],
   "source": [
    "# посмотрю отдельно понятнее\n",
    "center_weekday_exposition = center.pivot_table(index = 'weekday', values = 'last_price', aggfunc = ['mean', 'count'])\n",
    "center_weekday_exposition.columns = ['mean', 'count']\n",
    "center_weekday_exposition.plot(y = 'mean')\n",
    "plt.title('Зависимость цены от дня недели', fontsize=9)"
   ]
  },
  {
   "cell_type": "markdown",
   "metadata": {},
   "source": [
    "- самые высокие цены в понедельник и субботу, в будни по всей видимости в спб смотреть квартиры не любят, предпочитают на выходные сдвигать"
   ]
  },
  {
   "cell_type": "code",
   "execution_count": null,
   "metadata": {},
   "outputs": [],
   "source": [
    "#Зависимость стоимости  от месяца размещения объявления\n"
   ]
  },
  {
   "cell_type": "code",
   "execution_count": null,
   "metadata": {
    "scrolled": true
   },
   "outputs": [],
   "source": [
    "center_month_exposition = center.pivot_table(index = 'month', values = 'last_price', aggfunc = ['mean', 'count'])\n",
    "center_month_exposition.columns = ['mean', 'count']\n",
    "center_month_exposition.plot(y = 'mean')\n",
    "plt.title('Зависимость цены от месяца', fontsize=9)"
   ]
  },
  {
   "cell_type": "markdown",
   "metadata": {},
   "source": [
    "- ситуация похожая с общей выборкой, цена в октябре самая низкая и потом подничается вместе с началом зимнего сезона"
   ]
  },
  {
   "cell_type": "code",
   "execution_count": null,
   "metadata": {},
   "outputs": [],
   "source": [
    "center_year_exposition = center.pivot_table(index = 'year', values = 'price_meter', aggfunc = ['mean', 'count'])\n",
    "center_year_exposition.columns = ['mean', 'count']\n",
    "center_year_exposition.plot(y = 'mean')\n",
    "plt.title('Зависимость цены от года', fontsize=9)"
   ]
  },
  {
   "cell_type": "markdown",
   "metadata": {},
   "source": [
    "- что-то было в 2014 году, потому что и цена за метр и общая цена были высокими"
   ]
  },
  {
   "cell_type": "code",
   "execution_count": null,
   "metadata": {},
   "outputs": [],
   "source": [
    "center_year_exposition.sort_values('mean', ascending = False) #объявлений было мало в 2014, возможно с этим связана цена или это ошибка данных"
   ]
  },
  {
   "cell_type": "code",
   "execution_count": null,
   "metadata": {},
   "outputs": [],
   "source": [
    "floor_category_center = center.query('floor_category != \"другой\"').pivot_table(index = 'floor_category', values = 'price_meter', aggfunc = ['mean', 'count', 'median'])\n",
    "floor_category_center.plot(y= 'median')"
   ]
  },
  {
   "cell_type": "code",
   "execution_count": null,
   "metadata": {
    "scrolled": true
   },
   "outputs": [],
   "source": [
    "floor_category_center = center.pivot_table(index = 'floor_category', values = 'price_meter', aggfunc = ['mean', 'count', 'median'])\n",
    "floor_category_center.plot(y= 'median')"
   ]
  },
  {
   "cell_type": "markdown",
   "metadata": {},
   "source": [
    "- нет особых отличий от всей выборки квартир, на первом этаже в среднем дешевле"
   ]
  },
  {
   "cell_type": "code",
   "execution_count": null,
   "metadata": {
    "scrolled": false
   },
   "outputs": [],
   "source": [
    "#зависимость удаленности от центра\n",
    "center.plot(kind = 'scatter', y = 'price_meter', x = 'cityCenters_nearest', alpha = 0.5)\n",
    "\n",
    "center['cityCenters_nearest'].corr(center['price_meter'])"
   ]
  },
  {
   "cell_type": "markdown",
   "metadata": {},
   "source": [
    "учитывая что мы уже смотрим центр, то особой разницы нет "
   ]
  },
  {
   "cell_type": "code",
   "execution_count": null,
   "metadata": {},
   "outputs": [],
   "source": [
    "center_rooms = center.pivot_table(index = 'rooms', values = 'price_meter', aggfunc = ['mean', 'count', 'median'])\n",
    "center_rooms.columns = ['mean', 'count', 'median']\n",
    "center_rooms.plot(y= 'mean')\n",
    "plt.xlabel('количество комнат')\n",
    "plt.title('Зависимость цены за метр от комнат', fontsize=9)\n",
    "center['rooms'].corr(center['price_meter'])"
   ]
  },
  {
   "cell_type": "markdown",
   "metadata": {},
   "source": [
    "корреляция очень маленькая, значит очевидный вывод не сделать.  Можно предположить что при большем количестве комнат продавцы вынуждены снижать цену за метр, иначе общая цена будет огромной. Хотя общая стоимость и будет выше, чем стандартные квартиры (плюс планировка может быть разной и на цену все таки влияют именно метры)"
   ]
  },
  {
   "cell_type": "code",
   "execution_count": null,
   "metadata": {
    "scrolled": true
   },
   "outputs": [],
   "source": [
    "center_rooms = center.pivot_table(index = 'rooms', values = 'last_price', aggfunc = [ 'median'])\n",
    "center_rooms.columns = ['median']\n",
    "center_rooms.plot(y= 'median')\n",
    "plt.xlabel('количество комнат')\n",
    "plt.title('Зависимость цены от комнат', fontsize=9)\n",
    "\n",
    "center['rooms'].corr(center['last_price'])"
   ]
  },
  {
   "cell_type": "markdown",
   "metadata": {},
   "source": [
    "### Вывод\n",
    "Средняя квартира в центре Санкт-Петербурга-  это 2-комнатная квартира площадью 59 кв. м с потолками около 3 метров, больше попклярны 3-5-комнатные квартиры, прямая зависимости цены от числа комнат/метража, квартира на последнем этаже в среднем будет стоить дороже, чем на первом, объявления о продаже квартир, которые публиковались по субботам, стояли в среднем по более высокой цене.\n",
    "\n"
   ]
  },
  {
   "cell_type": "markdown",
   "metadata": {},
   "source": [
    "## Общий вывод"
   ]
  },
  {
   "cell_type": "markdown",
   "metadata": {},
   "source": [
    "Обработана база данныз -  пропущенные значения там, где это необходимо, заменила типы данных на необходимые для удобной работы. Посчитала и добавила в таблицу цену квадратного метра, вывела из даты дни недели, месяцы и года размещения объявлений, добавила категории по этажам квартир.\n",
    "Были определены аномалии в некоторых параметрах, но звучат они конечно странно (квартиры - тако продукт, который может отличаться по цене  - зависит еще и от правоустановки, от состояния и наличия ремонта, что здесь не учитывалось). Изучая время продажи квартир определено, что часть объявлений было автоматически пролонгированно.  При помощи диаграммы размаха посчитано, что нормальные значения продажи квартир варьируются от 1 до 600 дней. \n",
    "Для определения рыночной стоимости объектов недвижимости важны следующие параметры:\n",
    "общая площадь квартиры, расстояние до центра города (центр города огранчен окружностью радиусом 7-8 км), этаж квартиры (чем ближе к центру, тем дороже) и срок продажи квартиры (логично что \"сразу и быстро\" квартира уходит дешево по скидочной цене, чуть дороже через 90 дней), слишком долгая продажа — более 16 месяцев. "
   ]
  }
 ],
 "metadata": {
  "ExecuteTimeLog": [
   {
    "duration": 971,
    "start_time": "2022-01-10T19:25:39.563Z"
   },
   {
    "duration": 64,
    "start_time": "2022-01-10T19:26:58.372Z"
   },
   {
    "duration": 17,
    "start_time": "2022-01-10T19:29:51.431Z"
   },
   {
    "duration": 17,
    "start_time": "2022-01-10T19:30:59.579Z"
   },
   {
    "duration": 486,
    "start_time": "2022-01-10T19:49:41.395Z"
   },
   {
    "duration": 374,
    "start_time": "2022-01-10T19:49:46.474Z"
   },
   {
    "duration": 41,
    "start_time": "2022-01-10T20:01:26.868Z"
   },
   {
    "duration": 6,
    "start_time": "2022-01-10T20:02:42.814Z"
   },
   {
    "duration": 11,
    "start_time": "2022-01-10T20:06:28.493Z"
   },
   {
    "duration": 109,
    "start_time": "2022-01-10T20:07:18.459Z"
   },
   {
    "duration": 7,
    "start_time": "2022-01-10T20:16:10.722Z"
   },
   {
    "duration": 290,
    "start_time": "2022-01-10T20:21:07.350Z"
   },
   {
    "duration": 739,
    "start_time": "2022-01-10T20:21:43.041Z"
   },
   {
    "duration": 46,
    "start_time": "2022-01-10T20:21:43.782Z"
   },
   {
    "duration": 38,
    "start_time": "2022-01-10T20:21:43.833Z"
   },
   {
    "duration": 18,
    "start_time": "2022-01-10T20:21:43.874Z"
   },
   {
    "duration": 173,
    "start_time": "2022-01-10T20:21:43.896Z"
   },
   {
    "duration": 308,
    "start_time": "2022-01-10T20:21:44.071Z"
   },
   {
    "duration": 8,
    "start_time": "2022-01-10T20:23:24.116Z"
   },
   {
    "duration": 51,
    "start_time": "2022-01-10T20:25:27.462Z"
   },
   {
    "duration": 53,
    "start_time": "2022-01-10T20:25:55.733Z"
   },
   {
    "duration": 286,
    "start_time": "2022-01-10T20:29:37.635Z"
   },
   {
    "duration": 413,
    "start_time": "2022-01-10T20:30:53.209Z"
   },
   {
    "duration": 372,
    "start_time": "2022-01-10T20:31:26.817Z"
   },
   {
    "duration": 10,
    "start_time": "2022-01-10T20:31:37.149Z"
   },
   {
    "duration": 10,
    "start_time": "2022-01-10T20:35:17.309Z"
   },
   {
    "duration": 9,
    "start_time": "2022-01-10T20:37:56.582Z"
   },
   {
    "duration": 10,
    "start_time": "2022-01-10T20:38:17.112Z"
   },
   {
    "duration": 492,
    "start_time": "2022-01-10T20:40:30.976Z"
   },
   {
    "duration": 26,
    "start_time": "2022-01-10T20:44:55.970Z"
   },
   {
    "duration": 23,
    "start_time": "2022-01-10T20:44:59.234Z"
   },
   {
    "duration": 14,
    "start_time": "2022-01-10T20:45:15.748Z"
   },
   {
    "duration": 25,
    "start_time": "2022-01-10T20:45:47.393Z"
   },
   {
    "duration": 16,
    "start_time": "2022-01-10T20:45:48.393Z"
   },
   {
    "duration": 10,
    "start_time": "2022-01-10T20:46:42.108Z"
   },
   {
    "duration": 11,
    "start_time": "2022-01-10T20:50:14.228Z"
   },
   {
    "duration": 30,
    "start_time": "2022-01-10T20:50:41.754Z"
   },
   {
    "duration": 18,
    "start_time": "2022-01-10T20:51:36.131Z"
   },
   {
    "duration": 7,
    "start_time": "2022-01-10T20:52:33.627Z"
   },
   {
    "duration": 18,
    "start_time": "2022-01-10T20:55:28.697Z"
   },
   {
    "duration": 266,
    "start_time": "2022-01-10T20:57:30.889Z"
   },
   {
    "duration": 268,
    "start_time": "2022-01-10T20:58:00.629Z"
   },
   {
    "duration": 413,
    "start_time": "2022-01-10T20:58:47.176Z"
   },
   {
    "duration": 45,
    "start_time": "2022-01-10T21:00:16.317Z"
   },
   {
    "duration": 9,
    "start_time": "2022-01-10T21:03:50.052Z"
   },
   {
    "duration": 9,
    "start_time": "2022-01-10T21:04:09.627Z"
   },
   {
    "duration": 5,
    "start_time": "2022-01-10T21:09:00.515Z"
   },
   {
    "duration": 36,
    "start_time": "2022-01-10T21:09:13.468Z"
   },
   {
    "duration": 78,
    "start_time": "2022-01-10T21:12:55.695Z"
   },
   {
    "duration": 22,
    "start_time": "2022-01-10T21:14:00.869Z"
   },
   {
    "duration": 11,
    "start_time": "2022-01-10T21:18:16.576Z"
   },
   {
    "duration": 27,
    "start_time": "2022-01-10T21:32:13.121Z"
   },
   {
    "duration": 14,
    "start_time": "2022-01-10T21:32:54.417Z"
   },
   {
    "duration": 15,
    "start_time": "2022-01-10T21:33:11.387Z"
   },
   {
    "duration": 12,
    "start_time": "2022-01-10T21:33:30.190Z"
   },
   {
    "duration": 7,
    "start_time": "2022-01-10T21:33:42.188Z"
   },
   {
    "duration": 12,
    "start_time": "2022-01-10T21:33:56.781Z"
   },
   {
    "duration": 298,
    "start_time": "2022-01-10T21:35:02.177Z"
   },
   {
    "duration": 11,
    "start_time": "2022-01-10T21:35:07.678Z"
   },
   {
    "duration": 913,
    "start_time": "2022-01-11T10:01:00.583Z"
   },
   {
    "duration": 909,
    "start_time": "2022-01-11T10:01:24.143Z"
   },
   {
    "duration": 53,
    "start_time": "2022-01-11T10:01:25.055Z"
   },
   {
    "duration": 15,
    "start_time": "2022-01-11T10:01:25.123Z"
   },
   {
    "duration": 12,
    "start_time": "2022-01-11T10:01:25.141Z"
   },
   {
    "duration": 138,
    "start_time": "2022-01-11T10:01:25.156Z"
   },
   {
    "duration": 11,
    "start_time": "2022-01-11T10:01:25.297Z"
   },
   {
    "duration": 11,
    "start_time": "2022-01-11T10:01:25.324Z"
   },
   {
    "duration": 9,
    "start_time": "2022-01-11T10:01:25.339Z"
   },
   {
    "duration": 485,
    "start_time": "2022-01-11T10:01:25.351Z"
   },
   {
    "duration": 25,
    "start_time": "2022-01-11T10:01:25.838Z"
   },
   {
    "duration": 14,
    "start_time": "2022-01-11T10:01:25.865Z"
   },
   {
    "duration": 12,
    "start_time": "2022-01-11T10:01:25.881Z"
   },
   {
    "duration": 50,
    "start_time": "2022-01-11T10:01:25.895Z"
   },
   {
    "duration": 15,
    "start_time": "2022-01-11T10:01:25.948Z"
   },
   {
    "duration": 10,
    "start_time": "2022-01-11T10:01:25.965Z"
   },
   {
    "duration": 48,
    "start_time": "2022-01-11T10:01:25.977Z"
   },
   {
    "duration": 38,
    "start_time": "2022-01-11T10:01:26.027Z"
   },
   {
    "duration": 5,
    "start_time": "2022-01-11T10:01:26.068Z"
   },
   {
    "duration": 101,
    "start_time": "2022-01-11T10:01:26.075Z"
   },
   {
    "duration": 11,
    "start_time": "2022-01-11T10:01:26.178Z"
   },
   {
    "duration": 447,
    "start_time": "2022-01-11T10:01:26.192Z"
   },
   {
    "duration": 9,
    "start_time": "2022-01-11T10:01:41.699Z"
   },
   {
    "duration": 14,
    "start_time": "2022-01-11T10:03:34.337Z"
   },
   {
    "duration": 9,
    "start_time": "2022-01-11T10:05:24.837Z"
   },
   {
    "duration": 10,
    "start_time": "2022-01-11T10:05:49.950Z"
   },
   {
    "duration": 15,
    "start_time": "2022-01-11T10:06:04.400Z"
   },
   {
    "duration": 8,
    "start_time": "2022-01-11T10:06:33.643Z"
   },
   {
    "duration": 14,
    "start_time": "2022-01-11T10:08:17.672Z"
   },
   {
    "duration": 288,
    "start_time": "2022-01-11T10:34:10.990Z"
   },
   {
    "duration": 434,
    "start_time": "2022-01-11T10:34:17.832Z"
   },
   {
    "duration": 8,
    "start_time": "2022-01-11T10:35:46.547Z"
   },
   {
    "duration": 842,
    "start_time": "2022-01-11T10:36:30.059Z"
   },
   {
    "duration": 395,
    "start_time": "2022-01-11T10:37:03.744Z"
   },
   {
    "duration": 7,
    "start_time": "2022-01-11T10:42:51.509Z"
   },
   {
    "duration": 9,
    "start_time": "2022-01-11T10:43:00.953Z"
   },
   {
    "duration": 8,
    "start_time": "2022-01-11T10:45:19.502Z"
   },
   {
    "duration": 55,
    "start_time": "2022-01-11T10:46:46.191Z"
   },
   {
    "duration": 8,
    "start_time": "2022-01-11T10:49:20.244Z"
   },
   {
    "duration": 9,
    "start_time": "2022-01-11T10:50:47.278Z"
   },
   {
    "duration": 8,
    "start_time": "2022-01-11T10:51:11.908Z"
   },
   {
    "duration": 11,
    "start_time": "2022-01-11T10:52:12.752Z"
   },
   {
    "duration": 11,
    "start_time": "2022-01-11T10:52:54.664Z"
   },
   {
    "duration": 10,
    "start_time": "2022-01-11T11:59:06.428Z"
   },
   {
    "duration": 7,
    "start_time": "2022-01-11T11:59:18.792Z"
   },
   {
    "duration": 7,
    "start_time": "2022-01-11T11:59:30.245Z"
   },
   {
    "duration": 10,
    "start_time": "2022-01-11T12:00:06.335Z"
   },
   {
    "duration": 8,
    "start_time": "2022-01-11T12:04:16.048Z"
   },
   {
    "duration": 112,
    "start_time": "2022-01-11T12:08:14.064Z"
   },
   {
    "duration": 286,
    "start_time": "2022-01-11T12:08:41.853Z"
   },
   {
    "duration": 7126,
    "start_time": "2022-01-11T12:09:04.841Z"
   },
   {
    "duration": 9894,
    "start_time": "2022-01-11T12:11:02.553Z"
   },
   {
    "duration": 26,
    "start_time": "2022-01-11T12:13:11.201Z"
   },
   {
    "duration": 23,
    "start_time": "2022-01-11T12:13:35.669Z"
   },
   {
    "duration": 689,
    "start_time": "2022-01-11T12:15:41.103Z"
   },
   {
    "duration": 869,
    "start_time": "2022-01-11T12:17:15.071Z"
   },
   {
    "duration": 516,
    "start_time": "2022-01-11T12:17:21.784Z"
   },
   {
    "duration": 976,
    "start_time": "2022-01-11T12:18:42.189Z"
   },
   {
    "duration": 311,
    "start_time": "2022-01-11T12:19:56.706Z"
   },
   {
    "duration": 9,
    "start_time": "2022-01-11T12:21:33.289Z"
   },
   {
    "duration": 8,
    "start_time": "2022-01-11T12:21:38.966Z"
   },
   {
    "duration": 11,
    "start_time": "2022-01-11T12:21:49.485Z"
   },
   {
    "duration": 85,
    "start_time": "2022-01-11T12:22:01.291Z"
   },
   {
    "duration": 352,
    "start_time": "2022-01-11T12:22:26.648Z"
   },
   {
    "duration": 772,
    "start_time": "2022-01-11T12:23:45.572Z"
   },
   {
    "duration": 336,
    "start_time": "2022-01-11T15:07:04.682Z"
   },
   {
    "duration": 860,
    "start_time": "2022-01-11T15:07:17.404Z"
   },
   {
    "duration": 62,
    "start_time": "2022-01-11T15:07:18.266Z"
   },
   {
    "duration": 38,
    "start_time": "2022-01-11T15:07:18.331Z"
   },
   {
    "duration": 12,
    "start_time": "2022-01-11T15:07:18.372Z"
   },
   {
    "duration": 127,
    "start_time": "2022-01-11T15:07:18.387Z"
   },
   {
    "duration": 9,
    "start_time": "2022-01-11T15:07:18.517Z"
   },
   {
    "duration": 15,
    "start_time": "2022-01-11T15:07:18.528Z"
   },
   {
    "duration": 12,
    "start_time": "2022-01-11T15:07:18.568Z"
   },
   {
    "duration": 492,
    "start_time": "2022-01-11T15:07:18.583Z"
   },
   {
    "duration": 27,
    "start_time": "2022-01-11T15:07:19.078Z"
   },
   {
    "duration": 14,
    "start_time": "2022-01-11T15:07:19.107Z"
   },
   {
    "duration": 9,
    "start_time": "2022-01-11T15:07:19.124Z"
   },
   {
    "duration": 65,
    "start_time": "2022-01-11T15:07:19.136Z"
   },
   {
    "duration": 19,
    "start_time": "2022-01-11T15:07:19.204Z"
   },
   {
    "duration": 44,
    "start_time": "2022-01-11T15:07:19.226Z"
   },
   {
    "duration": 15,
    "start_time": "2022-01-11T15:07:19.273Z"
   },
   {
    "duration": 38,
    "start_time": "2022-01-11T15:07:19.290Z"
   },
   {
    "duration": 37,
    "start_time": "2022-01-11T15:07:19.330Z"
   },
   {
    "duration": 77,
    "start_time": "2022-01-11T15:07:19.369Z"
   },
   {
    "duration": 24,
    "start_time": "2022-01-11T15:07:19.449Z"
   },
   {
    "duration": 10,
    "start_time": "2022-01-11T15:07:19.475Z"
   },
   {
    "duration": 8,
    "start_time": "2022-01-11T15:07:19.487Z"
   },
   {
    "duration": 7,
    "start_time": "2022-01-11T15:07:19.501Z"
   },
   {
    "duration": 109,
    "start_time": "2022-01-11T15:07:19.511Z"
   },
   {
    "duration": 10,
    "start_time": "2022-01-11T15:07:19.622Z"
   },
   {
    "duration": 8,
    "start_time": "2022-01-11T15:07:19.634Z"
   },
   {
    "duration": 6,
    "start_time": "2022-01-11T15:07:19.668Z"
   },
   {
    "duration": 10,
    "start_time": "2022-01-11T15:07:19.677Z"
   },
   {
    "duration": 9,
    "start_time": "2022-01-11T15:07:19.690Z"
   },
   {
    "duration": 7,
    "start_time": "2022-01-11T15:07:19.701Z"
   },
   {
    "duration": 8,
    "start_time": "2022-01-11T15:07:19.711Z"
   },
   {
    "duration": 927,
    "start_time": "2022-01-11T15:07:19.721Z"
   },
   {
    "duration": 14,
    "start_time": "2022-01-11T15:07:23.704Z"
   },
   {
    "duration": 21,
    "start_time": "2022-01-11T15:08:24.573Z"
   },
   {
    "duration": 22,
    "start_time": "2022-01-11T15:08:50.760Z"
   },
   {
    "duration": 21,
    "start_time": "2022-01-11T15:08:59.707Z"
   },
   {
    "duration": 14,
    "start_time": "2022-01-11T15:11:39.988Z"
   },
   {
    "duration": 9,
    "start_time": "2022-01-11T15:13:37.763Z"
   },
   {
    "duration": 7,
    "start_time": "2022-01-11T15:14:12.870Z"
   },
   {
    "duration": 8,
    "start_time": "2022-01-11T15:15:46.321Z"
   },
   {
    "duration": 13,
    "start_time": "2022-01-11T15:16:10.868Z"
   },
   {
    "duration": 5,
    "start_time": "2022-01-11T15:17:40.866Z"
   },
   {
    "duration": 356,
    "start_time": "2022-01-11T15:19:24.715Z"
   },
   {
    "duration": 17,
    "start_time": "2022-01-11T15:21:55.887Z"
   },
   {
    "duration": 12,
    "start_time": "2022-01-11T15:24:24.251Z"
   },
   {
    "duration": 5,
    "start_time": "2022-01-11T15:37:54.656Z"
   },
   {
    "duration": 8,
    "start_time": "2022-01-11T15:38:44.170Z"
   },
   {
    "duration": 10,
    "start_time": "2022-01-11T15:38:58.922Z"
   },
   {
    "duration": 11,
    "start_time": "2022-01-11T15:39:32.252Z"
   },
   {
    "duration": 19,
    "start_time": "2022-01-11T15:44:46.252Z"
   },
   {
    "duration": 1077,
    "start_time": "2022-01-11T15:50:17.838Z"
   },
   {
    "duration": 266,
    "start_time": "2022-01-11T15:51:00.432Z"
   },
   {
    "duration": 6,
    "start_time": "2022-01-11T15:51:33.168Z"
   },
   {
    "duration": 5,
    "start_time": "2022-01-11T15:51:40.304Z"
   },
   {
    "duration": 6,
    "start_time": "2022-01-11T15:51:51.728Z"
   },
   {
    "duration": 83,
    "start_time": "2022-01-11T15:53:39.232Z"
   },
   {
    "duration": 172,
    "start_time": "2022-01-11T15:53:39.318Z"
   },
   {
    "duration": 198,
    "start_time": "2022-01-11T15:53:39.493Z"
   },
   {
    "duration": 211,
    "start_time": "2022-01-11T15:53:39.695Z"
   },
   {
    "duration": 314,
    "start_time": "2022-01-11T15:53:39.908Z"
   },
   {
    "duration": 127,
    "start_time": "2022-01-11T15:53:40.225Z"
   },
   {
    "duration": 208,
    "start_time": "2022-01-11T15:53:40.354Z"
   },
   {
    "duration": 204,
    "start_time": "2022-01-11T15:53:40.566Z"
   },
   {
    "duration": 571,
    "start_time": "2022-01-11T15:53:40.773Z"
   },
   {
    "duration": 35,
    "start_time": "2022-01-11T15:53:41.348Z"
   },
   {
    "duration": 177,
    "start_time": "2022-01-11T15:53:41.385Z"
   },
   {
    "duration": 209,
    "start_time": "2022-01-11T15:53:41.565Z"
   },
   {
    "duration": 209,
    "start_time": "2022-01-11T15:53:41.777Z"
   },
   {
    "duration": 181,
    "start_time": "2022-01-11T15:53:41.989Z"
   },
   {
    "duration": 191,
    "start_time": "2022-01-11T15:53:42.173Z"
   },
   {
    "duration": 193,
    "start_time": "2022-01-11T15:53:42.367Z"
   },
   {
    "duration": 287,
    "start_time": "2022-01-11T15:53:42.563Z"
   },
   {
    "duration": 116,
    "start_time": "2022-01-11T15:53:42.852Z"
   },
   {
    "duration": 291,
    "start_time": "2022-01-11T15:53:42.970Z"
   },
   {
    "duration": 158,
    "start_time": "2022-01-11T15:53:43.263Z"
   },
   {
    "duration": 226,
    "start_time": "2022-01-11T15:53:43.424Z"
   },
   {
    "duration": 197,
    "start_time": "2022-01-11T15:53:43.652Z"
   },
   {
    "duration": 239,
    "start_time": "2022-01-11T15:53:43.856Z"
   },
   {
    "duration": 216,
    "start_time": "2022-01-11T15:53:44.099Z"
   },
   {
    "duration": 130,
    "start_time": "2022-01-11T15:53:44.318Z"
   },
   {
    "duration": 137,
    "start_time": "2022-01-11T15:53:44.451Z"
   },
   {
    "duration": 181,
    "start_time": "2022-01-11T15:53:44.591Z"
   },
   {
    "duration": 249,
    "start_time": "2022-01-11T15:53:44.775Z"
   },
   {
    "duration": 333,
    "start_time": "2022-01-11T15:53:45.027Z"
   },
   {
    "duration": 350,
    "start_time": "2022-01-11T15:53:45.362Z"
   },
   {
    "duration": 290,
    "start_time": "2022-01-11T15:53:45.715Z"
   },
   {
    "duration": 1069,
    "start_time": "2022-01-11T15:53:46.007Z"
   },
   {
    "duration": 15,
    "start_time": "2022-01-11T15:53:47.079Z"
   },
   {
    "duration": 261,
    "start_time": "2022-01-11T15:53:47.097Z"
   },
   {
    "duration": 229,
    "start_time": "2022-01-11T15:53:47.361Z"
   },
   {
    "duration": 223,
    "start_time": "2022-01-11T15:53:47.594Z"
   },
   {
    "duration": 390,
    "start_time": "2022-01-11T15:53:47.820Z"
   },
   {
    "duration": 291,
    "start_time": "2022-01-11T15:53:48.212Z"
   },
   {
    "duration": 251,
    "start_time": "2022-01-11T15:53:48.506Z"
   },
   {
    "duration": 243,
    "start_time": "2022-01-11T15:53:48.760Z"
   },
   {
    "duration": 198,
    "start_time": "2022-01-11T15:53:49.006Z"
   },
   {
    "duration": 227,
    "start_time": "2022-01-11T15:53:49.207Z"
   },
   {
    "duration": 258,
    "start_time": "2022-01-11T15:53:49.437Z"
   },
   {
    "duration": 220,
    "start_time": "2022-01-11T15:53:49.698Z"
   },
   {
    "duration": 1247,
    "start_time": "2022-01-11T15:53:49.921Z"
   },
   {
    "duration": 389,
    "start_time": "2022-01-11T15:53:50.783Z"
   },
   {
    "duration": 388,
    "start_time": "2022-01-11T15:53:50.786Z"
   },
   {
    "duration": 16,
    "start_time": "2022-01-11T15:54:23.763Z"
   },
   {
    "duration": 10,
    "start_time": "2022-01-11T15:55:05.005Z"
   },
   {
    "duration": 91,
    "start_time": "2022-01-11T15:55:09.129Z"
   },
   {
    "duration": 265,
    "start_time": "2022-01-11T15:55:09.224Z"
   },
   {
    "duration": 293,
    "start_time": "2022-01-11T15:55:09.493Z"
   },
   {
    "duration": 207,
    "start_time": "2022-01-11T15:55:09.790Z"
   },
   {
    "duration": 375,
    "start_time": "2022-01-11T15:55:09.999Z"
   },
   {
    "duration": 196,
    "start_time": "2022-01-11T15:55:10.376Z"
   },
   {
    "duration": 282,
    "start_time": "2022-01-11T15:55:10.574Z"
   },
   {
    "duration": 261,
    "start_time": "2022-01-11T15:55:10.860Z"
   },
   {
    "duration": 618,
    "start_time": "2022-01-11T15:55:11.124Z"
   },
   {
    "duration": 34,
    "start_time": "2022-01-11T15:55:11.745Z"
   },
   {
    "duration": 219,
    "start_time": "2022-01-11T15:55:11.782Z"
   },
   {
    "duration": 257,
    "start_time": "2022-01-11T15:55:12.004Z"
   },
   {
    "duration": 279,
    "start_time": "2022-01-11T15:55:12.264Z"
   },
   {
    "duration": 233,
    "start_time": "2022-01-11T15:55:12.545Z"
   },
   {
    "duration": 400,
    "start_time": "2022-01-11T15:55:12.780Z"
   },
   {
    "duration": 278,
    "start_time": "2022-01-11T15:55:13.183Z"
   },
   {
    "duration": 309,
    "start_time": "2022-01-11T15:55:13.463Z"
   },
   {
    "duration": 375,
    "start_time": "2022-01-11T15:55:13.775Z"
   },
   {
    "duration": 303,
    "start_time": "2022-01-11T15:55:14.153Z"
   },
   {
    "duration": 188,
    "start_time": "2022-01-11T15:55:14.459Z"
   },
   {
    "duration": 277,
    "start_time": "2022-01-11T15:55:14.650Z"
   },
   {
    "duration": 284,
    "start_time": "2022-01-11T15:55:14.930Z"
   },
   {
    "duration": 242,
    "start_time": "2022-01-11T15:55:15.219Z"
   },
   {
    "duration": 354,
    "start_time": "2022-01-11T15:55:15.465Z"
   },
   {
    "duration": 204,
    "start_time": "2022-01-11T15:55:15.822Z"
   },
   {
    "duration": 274,
    "start_time": "2022-01-11T15:55:16.028Z"
   },
   {
    "duration": 393,
    "start_time": "2022-01-11T15:55:16.305Z"
   },
   {
    "duration": 375,
    "start_time": "2022-01-11T15:55:16.701Z"
   },
   {
    "duration": 374,
    "start_time": "2022-01-11T15:55:17.079Z"
   },
   {
    "duration": 283,
    "start_time": "2022-01-11T15:55:17.455Z"
   },
   {
    "duration": 303,
    "start_time": "2022-01-11T15:55:17.741Z"
   },
   {
    "duration": 1070,
    "start_time": "2022-01-11T15:55:18.047Z"
   },
   {
    "duration": 16,
    "start_time": "2022-01-11T15:55:19.120Z"
   },
   {
    "duration": 495,
    "start_time": "2022-01-11T15:55:19.138Z"
   },
   {
    "duration": 383,
    "start_time": "2022-01-11T15:55:19.636Z"
   },
   {
    "duration": 355,
    "start_time": "2022-01-11T15:55:20.022Z"
   },
   {
    "duration": 416,
    "start_time": "2022-01-11T15:55:20.379Z"
   },
   {
    "duration": 337,
    "start_time": "2022-01-11T15:55:20.798Z"
   },
   {
    "duration": 391,
    "start_time": "2022-01-11T15:55:21.138Z"
   },
   {
    "duration": 330,
    "start_time": "2022-01-11T15:55:21.531Z"
   },
   {
    "duration": 257,
    "start_time": "2022-01-11T15:55:21.864Z"
   },
   {
    "duration": 407,
    "start_time": "2022-01-11T15:55:22.124Z"
   },
   {
    "duration": 304,
    "start_time": "2022-01-11T15:55:22.534Z"
   },
   {
    "duration": 252,
    "start_time": "2022-01-11T15:55:22.841Z"
   },
   {
    "duration": 297,
    "start_time": "2022-01-11T15:55:23.096Z"
   },
   {
    "duration": 1519,
    "start_time": "2022-01-11T15:55:23.397Z"
   },
   {
    "duration": 404,
    "start_time": "2022-01-11T15:55:24.514Z"
   },
   {
    "duration": 401,
    "start_time": "2022-01-11T15:55:24.519Z"
   },
   {
    "duration": 5,
    "start_time": "2022-01-11T15:55:56.023Z"
   },
   {
    "duration": 13,
    "start_time": "2022-01-11T15:56:11.128Z"
   },
   {
    "duration": 89,
    "start_time": "2022-01-11T16:02:17.301Z"
   },
   {
    "duration": 81,
    "start_time": "2022-01-11T16:02:34.717Z"
   },
   {
    "duration": 9,
    "start_time": "2022-01-11T16:02:43.462Z"
   },
   {
    "duration": 92,
    "start_time": "2022-01-11T16:03:37.353Z"
   },
   {
    "duration": 356,
    "start_time": "2022-01-11T16:04:43.757Z"
   },
   {
    "duration": 267,
    "start_time": "2022-01-11T16:07:41.051Z"
   },
   {
    "duration": 90,
    "start_time": "2022-01-11T16:07:53.103Z"
   },
   {
    "duration": 84,
    "start_time": "2022-01-11T16:08:49.957Z"
   },
   {
    "duration": 82,
    "start_time": "2022-01-11T16:08:57.291Z"
   },
   {
    "duration": 92,
    "start_time": "2022-01-11T16:09:02.837Z"
   },
   {
    "duration": 133,
    "start_time": "2022-01-11T16:09:17.033Z"
   },
   {
    "duration": 99,
    "start_time": "2022-01-11T16:09:49.229Z"
   },
   {
    "duration": 96,
    "start_time": "2022-01-11T16:10:01.761Z"
   },
   {
    "duration": 116,
    "start_time": "2022-01-11T16:10:39.943Z"
   },
   {
    "duration": 110,
    "start_time": "2022-01-11T16:10:47.548Z"
   },
   {
    "duration": 103,
    "start_time": "2022-01-11T16:10:59.950Z"
   },
   {
    "duration": 108,
    "start_time": "2022-01-11T17:14:36.829Z"
   },
   {
    "duration": 282,
    "start_time": "2022-01-11T17:14:55.278Z"
   },
   {
    "duration": 318,
    "start_time": "2022-01-11T17:15:03.023Z"
   },
   {
    "duration": 288,
    "start_time": "2022-01-11T17:15:21.520Z"
   },
   {
    "duration": 21,
    "start_time": "2022-01-11T17:15:38.583Z"
   },
   {
    "duration": 49,
    "start_time": "2022-01-11T17:16:00.256Z"
   },
   {
    "duration": 445,
    "start_time": "2022-01-11T18:17:06.577Z"
   },
   {
    "duration": 431,
    "start_time": "2022-01-11T18:18:11.384Z"
   },
   {
    "duration": 337,
    "start_time": "2022-01-11T18:18:36.410Z"
   },
   {
    "duration": 285,
    "start_time": "2022-01-11T18:18:54.886Z"
   },
   {
    "duration": 833,
    "start_time": "2022-01-11T18:19:13.086Z"
   },
   {
    "duration": 59,
    "start_time": "2022-01-11T18:19:13.922Z"
   },
   {
    "duration": 16,
    "start_time": "2022-01-11T18:19:13.984Z"
   },
   {
    "duration": 12,
    "start_time": "2022-01-11T18:19:14.002Z"
   },
   {
    "duration": 142,
    "start_time": "2022-01-11T18:19:14.016Z"
   },
   {
    "duration": 9,
    "start_time": "2022-01-11T18:19:14.162Z"
   },
   {
    "duration": 8,
    "start_time": "2022-01-11T18:19:14.173Z"
   },
   {
    "duration": 11,
    "start_time": "2022-01-11T18:19:14.186Z"
   },
   {
    "duration": 503,
    "start_time": "2022-01-11T18:19:14.201Z"
   },
   {
    "duration": 26,
    "start_time": "2022-01-11T18:19:14.707Z"
   },
   {
    "duration": 30,
    "start_time": "2022-01-11T18:19:14.735Z"
   },
   {
    "duration": 12,
    "start_time": "2022-01-11T18:19:14.768Z"
   },
   {
    "duration": 33,
    "start_time": "2022-01-11T18:19:14.782Z"
   },
   {
    "duration": 54,
    "start_time": "2022-01-11T18:19:14.818Z"
   },
   {
    "duration": 11,
    "start_time": "2022-01-11T18:19:14.874Z"
   },
   {
    "duration": 16,
    "start_time": "2022-01-11T18:19:14.888Z"
   },
   {
    "duration": 82,
    "start_time": "2022-01-11T18:19:14.907Z"
   },
   {
    "duration": 7,
    "start_time": "2022-01-11T18:19:14.992Z"
   },
   {
    "duration": 92,
    "start_time": "2022-01-11T18:19:15.001Z"
   },
   {
    "duration": 12,
    "start_time": "2022-01-11T18:19:15.096Z"
   },
   {
    "duration": 12,
    "start_time": "2022-01-11T18:19:15.111Z"
   },
   {
    "duration": 43,
    "start_time": "2022-01-11T18:19:15.126Z"
   },
   {
    "duration": 7,
    "start_time": "2022-01-11T18:19:15.176Z"
   },
   {
    "duration": 91,
    "start_time": "2022-01-11T18:19:15.187Z"
   },
   {
    "duration": 8,
    "start_time": "2022-01-11T18:19:15.282Z"
   },
   {
    "duration": 7,
    "start_time": "2022-01-11T18:19:15.293Z"
   },
   {
    "duration": 7,
    "start_time": "2022-01-11T18:19:15.302Z"
   },
   {
    "duration": 8,
    "start_time": "2022-01-11T18:19:15.312Z"
   },
   {
    "duration": 11,
    "start_time": "2022-01-11T18:19:15.364Z"
   },
   {
    "duration": 8,
    "start_time": "2022-01-11T18:19:15.378Z"
   },
   {
    "duration": 6,
    "start_time": "2022-01-11T18:19:15.388Z"
   },
   {
    "duration": 810,
    "start_time": "2022-01-11T18:19:15.397Z"
   },
   {
    "duration": 13,
    "start_time": "2022-01-11T18:19:16.209Z"
   },
   {
    "duration": 41,
    "start_time": "2022-01-11T18:19:16.225Z"
   },
   {
    "duration": 13,
    "start_time": "2022-01-11T18:19:16.269Z"
   },
   {
    "duration": 8,
    "start_time": "2022-01-11T18:19:16.284Z"
   },
   {
    "duration": 7,
    "start_time": "2022-01-11T18:19:16.294Z"
   },
   {
    "duration": 8,
    "start_time": "2022-01-11T18:19:16.303Z"
   },
   {
    "duration": 55,
    "start_time": "2022-01-11T18:19:16.313Z"
   },
   {
    "duration": 10,
    "start_time": "2022-01-11T18:19:16.370Z"
   },
   {
    "duration": 8,
    "start_time": "2022-01-11T18:19:16.383Z"
   },
   {
    "duration": 12,
    "start_time": "2022-01-11T18:19:16.393Z"
   },
   {
    "duration": 8,
    "start_time": "2022-01-11T18:19:16.407Z"
   },
   {
    "duration": 54,
    "start_time": "2022-01-11T18:19:16.417Z"
   },
   {
    "duration": 22,
    "start_time": "2022-01-11T18:19:16.474Z"
   },
   {
    "duration": 6,
    "start_time": "2022-01-11T18:19:16.498Z"
   },
   {
    "duration": 367,
    "start_time": "2022-01-11T18:20:08.027Z"
   },
   {
    "duration": 43,
    "start_time": "2022-01-11T18:20:19.392Z"
   },
   {
    "duration": 7526,
    "start_time": "2022-01-11T18:21:07.795Z"
   },
   {
    "duration": 8885,
    "start_time": "2022-01-11T18:21:37.394Z"
   },
   {
    "duration": 273,
    "start_time": "2022-01-11T18:21:46.009Z"
   },
   {
    "duration": 87,
    "start_time": "2022-01-11T18:22:18.396Z"
   },
   {
    "duration": 78,
    "start_time": "2022-01-11T18:22:18.485Z"
   },
   {
    "duration": 15,
    "start_time": "2022-01-11T18:22:18.566Z"
   },
   {
    "duration": 13,
    "start_time": "2022-01-11T18:22:18.585Z"
   },
   {
    "duration": 137,
    "start_time": "2022-01-11T18:22:18.600Z"
   },
   {
    "duration": 23,
    "start_time": "2022-01-11T18:22:18.739Z"
   },
   {
    "duration": 9,
    "start_time": "2022-01-11T18:22:18.765Z"
   },
   {
    "duration": 11,
    "start_time": "2022-01-11T18:22:18.778Z"
   },
   {
    "duration": 383,
    "start_time": "2022-01-11T18:22:18.792Z"
   },
   {
    "duration": 26,
    "start_time": "2022-01-11T18:22:19.178Z"
   },
   {
    "duration": 14,
    "start_time": "2022-01-11T18:22:19.207Z"
   },
   {
    "duration": 43,
    "start_time": "2022-01-11T18:22:19.224Z"
   },
   {
    "duration": 29,
    "start_time": "2022-01-11T18:22:19.270Z"
   },
   {
    "duration": 18,
    "start_time": "2022-01-11T18:22:19.301Z"
   },
   {
    "duration": 44,
    "start_time": "2022-01-11T18:22:19.321Z"
   },
   {
    "duration": 16,
    "start_time": "2022-01-11T18:22:19.368Z"
   },
   {
    "duration": 37,
    "start_time": "2022-01-11T18:22:19.386Z"
   },
   {
    "duration": 39,
    "start_time": "2022-01-11T18:22:19.426Z"
   },
   {
    "duration": 71,
    "start_time": "2022-01-11T18:22:19.467Z"
   },
   {
    "duration": 27,
    "start_time": "2022-01-11T18:22:19.541Z"
   },
   {
    "duration": 9,
    "start_time": "2022-01-11T18:22:19.571Z"
   },
   {
    "duration": 7,
    "start_time": "2022-01-11T18:22:19.583Z"
   },
   {
    "duration": 5,
    "start_time": "2022-01-11T18:22:19.596Z"
   },
   {
    "duration": 95,
    "start_time": "2022-01-11T18:22:19.604Z"
   },
   {
    "duration": 10,
    "start_time": "2022-01-11T18:22:19.702Z"
   },
   {
    "duration": 8,
    "start_time": "2022-01-11T18:22:19.715Z"
   },
   {
    "duration": 40,
    "start_time": "2022-01-11T18:22:19.725Z"
   },
   {
    "duration": 10,
    "start_time": "2022-01-11T18:22:19.767Z"
   },
   {
    "duration": 10,
    "start_time": "2022-01-11T18:22:19.779Z"
   },
   {
    "duration": 8,
    "start_time": "2022-01-11T18:22:19.791Z"
   },
   {
    "duration": 7,
    "start_time": "2022-01-11T18:22:19.801Z"
   },
   {
    "duration": 822,
    "start_time": "2022-01-11T18:22:19.810Z"
   },
   {
    "duration": 29,
    "start_time": "2022-01-11T18:22:20.634Z"
   },
   {
    "duration": 21,
    "start_time": "2022-01-11T18:22:20.665Z"
   },
   {
    "duration": 11,
    "start_time": "2022-01-11T18:22:20.688Z"
   },
   {
    "duration": 8,
    "start_time": "2022-01-11T18:22:20.702Z"
   },
   {
    "duration": 10,
    "start_time": "2022-01-11T18:22:20.712Z"
   },
   {
    "duration": 7,
    "start_time": "2022-01-11T18:22:20.724Z"
   },
   {
    "duration": 14,
    "start_time": "2022-01-11T18:22:20.762Z"
   },
   {
    "duration": 13,
    "start_time": "2022-01-11T18:22:20.778Z"
   },
   {
    "duration": 6,
    "start_time": "2022-01-11T18:22:20.794Z"
   },
   {
    "duration": 10,
    "start_time": "2022-01-11T18:22:20.804Z"
   },
   {
    "duration": 51,
    "start_time": "2022-01-11T18:22:20.817Z"
   },
   {
    "duration": 20,
    "start_time": "2022-01-11T18:22:20.871Z"
   },
   {
    "duration": 21,
    "start_time": "2022-01-11T18:22:20.894Z"
   },
   {
    "duration": 10045,
    "start_time": "2022-01-11T18:22:20.917Z"
   },
   {
    "duration": 229,
    "start_time": "2022-01-11T18:22:30.735Z"
   },
   {
    "duration": 12,
    "start_time": "2022-01-11T18:23:25.148Z"
   },
   {
    "duration": 7981,
    "start_time": "2022-01-11T18:23:26.594Z"
   },
   {
    "duration": 10,
    "start_time": "2022-01-11T18:24:09.868Z"
   },
   {
    "duration": 10,
    "start_time": "2022-01-11T18:24:28.947Z"
   },
   {
    "duration": 50,
    "start_time": "2022-01-11T18:24:52.181Z"
   },
   {
    "duration": 11,
    "start_time": "2022-01-11T18:35:48.426Z"
   },
   {
    "duration": 8,
    "start_time": "2022-01-11T18:35:50.445Z"
   },
   {
    "duration": 6,
    "start_time": "2022-01-11T18:36:32.178Z"
   },
   {
    "duration": 7,
    "start_time": "2022-01-11T18:36:44.130Z"
   },
   {
    "duration": 390,
    "start_time": "2022-01-11T18:38:34.135Z"
   },
   {
    "duration": 885,
    "start_time": "2022-01-11T18:40:02.435Z"
   },
   {
    "duration": 65,
    "start_time": "2022-01-11T18:40:03.322Z"
   },
   {
    "duration": 18,
    "start_time": "2022-01-11T18:40:03.391Z"
   },
   {
    "duration": 13,
    "start_time": "2022-01-11T18:40:03.412Z"
   },
   {
    "duration": 142,
    "start_time": "2022-01-11T18:40:03.428Z"
   },
   {
    "duration": 9,
    "start_time": "2022-01-11T18:40:03.573Z"
   },
   {
    "duration": 12,
    "start_time": "2022-01-11T18:40:03.584Z"
   },
   {
    "duration": 21,
    "start_time": "2022-01-11T18:40:03.603Z"
   },
   {
    "duration": 522,
    "start_time": "2022-01-11T18:40:03.627Z"
   },
   {
    "duration": 34,
    "start_time": "2022-01-11T18:40:04.152Z"
   },
   {
    "duration": 11,
    "start_time": "2022-01-11T18:40:04.189Z"
   },
   {
    "duration": 25,
    "start_time": "2022-01-11T18:40:04.204Z"
   },
   {
    "duration": 64,
    "start_time": "2022-01-11T18:40:04.232Z"
   },
   {
    "duration": 21,
    "start_time": "2022-01-11T18:40:04.299Z"
   },
   {
    "duration": 29,
    "start_time": "2022-01-11T18:40:04.323Z"
   },
   {
    "duration": 27,
    "start_time": "2022-01-11T18:40:04.354Z"
   },
   {
    "duration": 59,
    "start_time": "2022-01-11T18:40:04.384Z"
   },
   {
    "duration": 7,
    "start_time": "2022-01-11T18:40:04.446Z"
   },
   {
    "duration": 105,
    "start_time": "2022-01-11T18:40:04.463Z"
   },
   {
    "duration": 10,
    "start_time": "2022-01-11T18:40:04.570Z"
   },
   {
    "duration": 26,
    "start_time": "2022-01-11T18:40:04.583Z"
   },
   {
    "duration": 21,
    "start_time": "2022-01-11T18:40:04.612Z"
   },
   {
    "duration": 36,
    "start_time": "2022-01-11T18:40:04.638Z"
   },
   {
    "duration": 94,
    "start_time": "2022-01-11T18:40:04.677Z"
   },
   {
    "duration": 8,
    "start_time": "2022-01-11T18:40:04.773Z"
   },
   {
    "duration": 7,
    "start_time": "2022-01-11T18:40:04.784Z"
   },
   {
    "duration": 36,
    "start_time": "2022-01-11T18:40:04.793Z"
   },
   {
    "duration": 29,
    "start_time": "2022-01-11T18:40:04.831Z"
   },
   {
    "duration": 8,
    "start_time": "2022-01-11T18:40:04.862Z"
   },
   {
    "duration": 21,
    "start_time": "2022-01-11T18:40:04.873Z"
   },
   {
    "duration": 12,
    "start_time": "2022-01-11T18:40:04.896Z"
   },
   {
    "duration": 785,
    "start_time": "2022-01-11T18:40:04.911Z"
   },
   {
    "duration": 15,
    "start_time": "2022-01-11T18:40:05.699Z"
   },
   {
    "duration": 47,
    "start_time": "2022-01-11T18:40:05.717Z"
   },
   {
    "duration": 13,
    "start_time": "2022-01-11T18:40:05.767Z"
   },
   {
    "duration": 11,
    "start_time": "2022-01-11T18:40:05.782Z"
   },
   {
    "duration": 9,
    "start_time": "2022-01-11T18:40:05.795Z"
   },
   {
    "duration": 8,
    "start_time": "2022-01-11T18:40:05.807Z"
   },
   {
    "duration": 53,
    "start_time": "2022-01-11T18:40:05.818Z"
   },
   {
    "duration": 10,
    "start_time": "2022-01-11T18:40:05.874Z"
   },
   {
    "duration": 5,
    "start_time": "2022-01-11T18:40:05.887Z"
   },
   {
    "duration": 8,
    "start_time": "2022-01-11T18:40:05.894Z"
   },
   {
    "duration": 63,
    "start_time": "2022-01-11T18:40:05.906Z"
   },
   {
    "duration": 19,
    "start_time": "2022-01-11T18:40:05.972Z"
   },
   {
    "duration": 24,
    "start_time": "2022-01-11T18:40:05.994Z"
   },
   {
    "duration": 328,
    "start_time": "2022-01-11T18:40:41.389Z"
   },
   {
    "duration": 811,
    "start_time": "2022-01-11T18:41:10.287Z"
   },
   {
    "duration": 87,
    "start_time": "2022-01-11T18:41:15.988Z"
   },
   {
    "duration": 55,
    "start_time": "2022-01-11T18:41:16.077Z"
   },
   {
    "duration": 35,
    "start_time": "2022-01-11T18:41:16.135Z"
   },
   {
    "duration": 12,
    "start_time": "2022-01-11T18:41:16.172Z"
   },
   {
    "duration": 132,
    "start_time": "2022-01-11T18:41:16.187Z"
   },
   {
    "duration": 9,
    "start_time": "2022-01-11T18:41:16.321Z"
   },
   {
    "duration": 11,
    "start_time": "2022-01-11T18:41:16.332Z"
   },
   {
    "duration": 27,
    "start_time": "2022-01-11T18:41:16.345Z"
   },
   {
    "duration": 482,
    "start_time": "2022-01-11T18:41:16.376Z"
   },
   {
    "duration": 25,
    "start_time": "2022-01-11T18:41:16.864Z"
   },
   {
    "duration": 11,
    "start_time": "2022-01-11T18:41:16.892Z"
   },
   {
    "duration": 10,
    "start_time": "2022-01-11T18:41:16.906Z"
   },
   {
    "duration": 63,
    "start_time": "2022-01-11T18:41:16.919Z"
   },
   {
    "duration": 17,
    "start_time": "2022-01-11T18:41:16.984Z"
   },
   {
    "duration": 8,
    "start_time": "2022-01-11T18:41:17.004Z"
   },
   {
    "duration": 15,
    "start_time": "2022-01-11T18:41:17.014Z"
   },
   {
    "duration": 36,
    "start_time": "2022-01-11T18:41:17.063Z"
   },
   {
    "duration": 5,
    "start_time": "2022-01-11T18:41:17.102Z"
   },
   {
    "duration": 105,
    "start_time": "2022-01-11T18:41:17.110Z"
   },
   {
    "duration": 20,
    "start_time": "2022-01-11T18:41:17.218Z"
   },
   {
    "duration": 27,
    "start_time": "2022-01-11T18:41:17.241Z"
   },
   {
    "duration": 11,
    "start_time": "2022-01-11T18:41:17.271Z"
   },
   {
    "duration": 7,
    "start_time": "2022-01-11T18:41:17.284Z"
   },
   {
    "duration": 99,
    "start_time": "2022-01-11T18:41:17.295Z"
   },
   {
    "duration": 10,
    "start_time": "2022-01-11T18:41:17.397Z"
   },
   {
    "duration": 8,
    "start_time": "2022-01-11T18:41:17.410Z"
   },
   {
    "duration": 39,
    "start_time": "2022-01-11T18:41:17.425Z"
   },
   {
    "duration": 10,
    "start_time": "2022-01-11T18:41:17.468Z"
   },
   {
    "duration": 10,
    "start_time": "2022-01-11T18:41:17.481Z"
   },
   {
    "duration": 8,
    "start_time": "2022-01-11T18:41:17.493Z"
   },
   {
    "duration": 60,
    "start_time": "2022-01-11T18:41:17.504Z"
   },
   {
    "duration": 760,
    "start_time": "2022-01-11T18:41:17.567Z"
   },
   {
    "duration": 33,
    "start_time": "2022-01-11T18:41:18.330Z"
   },
   {
    "duration": 23,
    "start_time": "2022-01-11T18:41:18.365Z"
   },
   {
    "duration": 14,
    "start_time": "2022-01-11T18:41:18.391Z"
   },
   {
    "duration": 8,
    "start_time": "2022-01-11T18:41:18.408Z"
   },
   {
    "duration": 44,
    "start_time": "2022-01-11T18:41:18.419Z"
   },
   {
    "duration": 9,
    "start_time": "2022-01-11T18:41:18.466Z"
   },
   {
    "duration": 16,
    "start_time": "2022-01-11T18:41:18.477Z"
   },
   {
    "duration": 10,
    "start_time": "2022-01-11T18:41:18.495Z"
   },
   {
    "duration": 12,
    "start_time": "2022-01-11T18:41:18.508Z"
   },
   {
    "duration": 43,
    "start_time": "2022-01-11T18:41:18.522Z"
   },
   {
    "duration": 12,
    "start_time": "2022-01-11T18:41:18.568Z"
   },
   {
    "duration": 27,
    "start_time": "2022-01-11T18:41:18.582Z"
   },
   {
    "duration": 22,
    "start_time": "2022-01-11T18:41:18.611Z"
   },
   {
    "duration": 396,
    "start_time": "2022-01-11T18:45:55.951Z"
   },
   {
    "duration": 826,
    "start_time": "2022-01-11T18:46:07.382Z"
   },
   {
    "duration": 58,
    "start_time": "2022-01-11T18:46:08.211Z"
   },
   {
    "duration": 15,
    "start_time": "2022-01-11T18:46:08.272Z"
   },
   {
    "duration": 12,
    "start_time": "2022-01-11T18:46:08.289Z"
   },
   {
    "duration": 139,
    "start_time": "2022-01-11T18:46:08.303Z"
   },
   {
    "duration": 8,
    "start_time": "2022-01-11T18:46:08.444Z"
   },
   {
    "duration": 10,
    "start_time": "2022-01-11T18:46:08.463Z"
   },
   {
    "duration": 10,
    "start_time": "2022-01-11T18:46:08.477Z"
   },
   {
    "duration": 496,
    "start_time": "2022-01-11T18:46:08.491Z"
   },
   {
    "duration": 25,
    "start_time": "2022-01-11T18:46:08.989Z"
   },
   {
    "duration": 12,
    "start_time": "2022-01-11T18:46:09.016Z"
   },
   {
    "duration": 32,
    "start_time": "2022-01-11T18:46:09.031Z"
   },
   {
    "duration": 32,
    "start_time": "2022-01-11T18:46:09.066Z"
   },
   {
    "duration": 16,
    "start_time": "2022-01-11T18:46:09.100Z"
   },
   {
    "duration": 9,
    "start_time": "2022-01-11T18:46:09.118Z"
   },
   {
    "duration": 16,
    "start_time": "2022-01-11T18:46:09.164Z"
   },
   {
    "duration": 39,
    "start_time": "2022-01-11T18:46:09.182Z"
   },
   {
    "duration": 6,
    "start_time": "2022-01-11T18:46:09.223Z"
   },
   {
    "duration": 73,
    "start_time": "2022-01-11T18:46:09.264Z"
   },
   {
    "duration": 27,
    "start_time": "2022-01-11T18:46:09.340Z"
   },
   {
    "duration": 21,
    "start_time": "2022-01-11T18:46:09.370Z"
   },
   {
    "duration": 8,
    "start_time": "2022-01-11T18:46:09.394Z"
   },
   {
    "duration": 6,
    "start_time": "2022-01-11T18:46:09.407Z"
   },
   {
    "duration": 86,
    "start_time": "2022-01-11T18:46:09.416Z"
   },
   {
    "duration": 8,
    "start_time": "2022-01-11T18:46:09.505Z"
   },
   {
    "duration": 7,
    "start_time": "2022-01-11T18:46:09.515Z"
   },
   {
    "duration": 39,
    "start_time": "2022-01-11T18:46:09.524Z"
   },
   {
    "duration": 9,
    "start_time": "2022-01-11T18:46:09.565Z"
   },
   {
    "duration": 8,
    "start_time": "2022-01-11T18:46:09.576Z"
   },
   {
    "duration": 7,
    "start_time": "2022-01-11T18:46:09.587Z"
   },
   {
    "duration": 6,
    "start_time": "2022-01-11T18:46:09.597Z"
   },
   {
    "duration": 801,
    "start_time": "2022-01-11T18:46:09.605Z"
   },
   {
    "duration": 15,
    "start_time": "2022-01-11T18:46:10.409Z"
   },
   {
    "duration": 42,
    "start_time": "2022-01-11T18:46:10.426Z"
   },
   {
    "duration": 14,
    "start_time": "2022-01-11T18:46:10.470Z"
   },
   {
    "duration": 18,
    "start_time": "2022-01-11T18:46:10.486Z"
   },
   {
    "duration": 15,
    "start_time": "2022-01-11T18:46:10.507Z"
   },
   {
    "duration": 12,
    "start_time": "2022-01-11T18:46:10.524Z"
   },
   {
    "duration": 33,
    "start_time": "2022-01-11T18:46:10.539Z"
   },
   {
    "duration": 13,
    "start_time": "2022-01-11T18:46:10.575Z"
   },
   {
    "duration": 13,
    "start_time": "2022-01-11T18:46:10.591Z"
   },
   {
    "duration": 37,
    "start_time": "2022-01-11T18:46:10.606Z"
   },
   {
    "duration": 16,
    "start_time": "2022-01-11T18:46:10.646Z"
   },
   {
    "duration": 27,
    "start_time": "2022-01-11T18:46:10.665Z"
   },
   {
    "duration": 24,
    "start_time": "2022-01-11T18:46:10.694Z"
   },
   {
    "duration": 14,
    "start_time": "2022-01-11T18:46:15.340Z"
   },
   {
    "duration": 337,
    "start_time": "2022-01-11T18:50:31.751Z"
   },
   {
    "duration": 278,
    "start_time": "2022-01-11T18:53:23.448Z"
   },
   {
    "duration": 308,
    "start_time": "2022-01-11T18:53:25.040Z"
   },
   {
    "duration": 829,
    "start_time": "2022-01-11T18:53:35.674Z"
   },
   {
    "duration": 85,
    "start_time": "2022-01-11T18:53:46.307Z"
   },
   {
    "duration": 115,
    "start_time": "2022-01-11T18:53:50.351Z"
   },
   {
    "duration": 56,
    "start_time": "2022-01-11T18:53:50.468Z"
   },
   {
    "duration": 45,
    "start_time": "2022-01-11T18:53:50.527Z"
   },
   {
    "duration": 11,
    "start_time": "2022-01-11T18:53:50.575Z"
   },
   {
    "duration": 128,
    "start_time": "2022-01-11T18:53:50.589Z"
   },
   {
    "duration": 8,
    "start_time": "2022-01-11T18:53:50.719Z"
   },
   {
    "duration": 12,
    "start_time": "2022-01-11T18:53:50.730Z"
   },
   {
    "duration": 11,
    "start_time": "2022-01-11T18:53:50.764Z"
   },
   {
    "duration": 474,
    "start_time": "2022-01-11T18:53:50.778Z"
   },
   {
    "duration": 29,
    "start_time": "2022-01-11T18:53:51.254Z"
   },
   {
    "duration": 12,
    "start_time": "2022-01-11T18:53:51.285Z"
   },
   {
    "duration": 10,
    "start_time": "2022-01-11T18:53:51.300Z"
   },
   {
    "duration": 60,
    "start_time": "2022-01-11T18:53:51.312Z"
   },
   {
    "duration": 15,
    "start_time": "2022-01-11T18:53:51.374Z"
   },
   {
    "duration": 8,
    "start_time": "2022-01-11T18:53:51.392Z"
   },
   {
    "duration": 15,
    "start_time": "2022-01-11T18:53:51.402Z"
   },
   {
    "duration": 68,
    "start_time": "2022-01-11T18:53:51.420Z"
   },
   {
    "duration": 5,
    "start_time": "2022-01-11T18:53:51.490Z"
   },
   {
    "duration": 96,
    "start_time": "2022-01-11T18:53:51.497Z"
   },
   {
    "duration": 10,
    "start_time": "2022-01-11T18:53:51.595Z"
   },
   {
    "duration": 9,
    "start_time": "2022-01-11T18:53:51.608Z"
   },
   {
    "duration": 8,
    "start_time": "2022-01-11T18:53:51.619Z"
   },
   {
    "duration": 7,
    "start_time": "2022-01-11T18:53:51.663Z"
   },
   {
    "duration": 55,
    "start_time": "2022-01-11T18:53:51.674Z"
   },
   {
    "duration": 34,
    "start_time": "2022-01-11T18:53:51.731Z"
   },
   {
    "duration": 8,
    "start_time": "2022-01-11T18:53:51.767Z"
   },
   {
    "duration": 7,
    "start_time": "2022-01-11T18:53:51.777Z"
   },
   {
    "duration": 9,
    "start_time": "2022-01-11T18:53:51.786Z"
   },
   {
    "duration": 11,
    "start_time": "2022-01-11T18:53:51.798Z"
   },
   {
    "duration": 53,
    "start_time": "2022-01-11T18:53:51.812Z"
   },
   {
    "duration": 7,
    "start_time": "2022-01-11T18:53:51.868Z"
   },
   {
    "duration": 749,
    "start_time": "2022-01-11T18:53:51.878Z"
   },
   {
    "duration": 14,
    "start_time": "2022-01-11T18:53:52.630Z"
   },
   {
    "duration": 20,
    "start_time": "2022-01-11T18:53:52.663Z"
   },
   {
    "duration": 12,
    "start_time": "2022-01-11T18:53:52.685Z"
   },
   {
    "duration": 8,
    "start_time": "2022-01-11T18:53:52.699Z"
   },
   {
    "duration": 7,
    "start_time": "2022-01-11T18:53:52.710Z"
   },
   {
    "duration": 8,
    "start_time": "2022-01-11T18:53:52.719Z"
   },
   {
    "duration": 19,
    "start_time": "2022-01-11T18:53:52.762Z"
   },
   {
    "duration": 10,
    "start_time": "2022-01-11T18:53:52.785Z"
   },
   {
    "duration": 5,
    "start_time": "2022-01-11T18:53:52.797Z"
   },
   {
    "duration": 12,
    "start_time": "2022-01-11T18:53:52.805Z"
   },
   {
    "duration": 43,
    "start_time": "2022-01-11T18:53:52.819Z"
   },
   {
    "duration": 17,
    "start_time": "2022-01-11T18:53:52.865Z"
   },
   {
    "duration": 21,
    "start_time": "2022-01-11T18:53:52.884Z"
   },
   {
    "duration": 795,
    "start_time": "2022-01-11T18:56:40.508Z"
   },
   {
    "duration": 54,
    "start_time": "2022-01-11T18:56:43.273Z"
   },
   {
    "duration": 15,
    "start_time": "2022-01-11T18:56:44.928Z"
   },
   {
    "duration": 13,
    "start_time": "2022-01-11T18:56:45.919Z"
   },
   {
    "duration": 111,
    "start_time": "2022-01-11T18:56:46.264Z"
   },
   {
    "duration": 9,
    "start_time": "2022-01-11T18:56:47.712Z"
   },
   {
    "duration": 9,
    "start_time": "2022-01-11T18:56:48.081Z"
   },
   {
    "duration": 11,
    "start_time": "2022-01-11T18:56:48.558Z"
   },
   {
    "duration": 480,
    "start_time": "2022-01-11T18:56:49.064Z"
   },
   {
    "duration": 36,
    "start_time": "2022-01-11T18:56:49.547Z"
   },
   {
    "duration": 13,
    "start_time": "2022-01-11T18:56:50.004Z"
   },
   {
    "duration": 9,
    "start_time": "2022-01-11T18:56:50.411Z"
   },
   {
    "duration": 30,
    "start_time": "2022-01-11T18:56:50.808Z"
   },
   {
    "duration": 15,
    "start_time": "2022-01-11T18:56:51.205Z"
   },
   {
    "duration": 9,
    "start_time": "2022-01-11T18:56:51.615Z"
   },
   {
    "duration": 16,
    "start_time": "2022-01-11T18:56:52.003Z"
   },
   {
    "duration": 43,
    "start_time": "2022-01-11T18:56:52.470Z"
   },
   {
    "duration": 6,
    "start_time": "2022-01-11T18:56:52.856Z"
   },
   {
    "duration": 76,
    "start_time": "2022-01-11T18:56:53.180Z"
   },
   {
    "duration": 12,
    "start_time": "2022-01-11T18:56:53.476Z"
   },
   {
    "duration": 11,
    "start_time": "2022-01-11T18:56:54.095Z"
   },
   {
    "duration": 9,
    "start_time": "2022-01-11T18:56:54.372Z"
   },
   {
    "duration": 6,
    "start_time": "2022-01-11T18:56:54.647Z"
   },
   {
    "duration": 57,
    "start_time": "2022-01-11T18:56:55.286Z"
   },
   {
    "duration": 8,
    "start_time": "2022-01-11T18:56:55.575Z"
   },
   {
    "duration": 7,
    "start_time": "2022-01-11T18:56:55.841Z"
   },
   {
    "duration": 6,
    "start_time": "2022-01-11T18:56:56.489Z"
   },
   {
    "duration": 9,
    "start_time": "2022-01-11T18:56:56.769Z"
   },
   {
    "duration": 10,
    "start_time": "2022-01-11T18:56:57.145Z"
   },
   {
    "duration": 7,
    "start_time": "2022-01-11T18:56:57.519Z"
   },
   {
    "duration": 7,
    "start_time": "2022-01-11T18:56:57.859Z"
   },
   {
    "duration": 754,
    "start_time": "2022-01-11T18:56:58.214Z"
   },
   {
    "duration": 13,
    "start_time": "2022-01-11T18:56:58.971Z"
   },
   {
    "duration": 21,
    "start_time": "2022-01-11T18:56:58.988Z"
   },
   {
    "duration": 13,
    "start_time": "2022-01-11T18:56:59.311Z"
   },
   {
    "duration": 10,
    "start_time": "2022-01-11T18:56:59.667Z"
   },
   {
    "duration": 7,
    "start_time": "2022-01-11T18:57:00.029Z"
   },
   {
    "duration": 8,
    "start_time": "2022-01-11T18:57:00.421Z"
   },
   {
    "duration": 15,
    "start_time": "2022-01-11T18:57:00.876Z"
   },
   {
    "duration": 15,
    "start_time": "2022-01-11T18:57:01.338Z"
   },
   {
    "duration": 7,
    "start_time": "2022-01-11T18:57:03.725Z"
   },
   {
    "duration": 8,
    "start_time": "2022-01-11T18:57:04.187Z"
   },
   {
    "duration": 10,
    "start_time": "2022-01-11T18:57:04.590Z"
   },
   {
    "duration": 17,
    "start_time": "2022-01-11T18:57:05.018Z"
   },
   {
    "duration": 32,
    "start_time": "2022-01-11T18:57:05.510Z"
   },
   {
    "duration": 465,
    "start_time": "2022-01-11T18:58:07.491Z"
   },
   {
    "duration": 389,
    "start_time": "2022-01-11T18:58:22.392Z"
   },
   {
    "duration": 829,
    "start_time": "2022-01-11T18:58:31.667Z"
   },
   {
    "duration": 53,
    "start_time": "2022-01-11T18:58:33.471Z"
   },
   {
    "duration": 7847,
    "start_time": "2022-01-11T18:58:44.420Z"
   },
   {
    "duration": 91,
    "start_time": "2022-01-11T18:59:10.697Z"
   },
   {
    "duration": 42,
    "start_time": "2022-01-11T18:59:10.791Z"
   },
   {
    "duration": 42,
    "start_time": "2022-01-11T18:59:10.836Z"
   },
   {
    "duration": 13,
    "start_time": "2022-01-11T18:59:10.881Z"
   },
   {
    "duration": 150,
    "start_time": "2022-01-11T18:59:10.896Z"
   },
   {
    "duration": 16,
    "start_time": "2022-01-11T18:59:11.049Z"
   },
   {
    "duration": 14,
    "start_time": "2022-01-11T18:59:11.067Z"
   },
   {
    "duration": 11,
    "start_time": "2022-01-11T18:59:11.084Z"
   },
   {
    "duration": 477,
    "start_time": "2022-01-11T18:59:11.098Z"
   },
   {
    "duration": 23,
    "start_time": "2022-01-11T18:59:11.577Z"
   },
   {
    "duration": 11,
    "start_time": "2022-01-11T18:59:11.603Z"
   },
   {
    "duration": 10,
    "start_time": "2022-01-11T18:59:11.617Z"
   },
   {
    "duration": 30,
    "start_time": "2022-01-11T18:59:11.663Z"
   },
   {
    "duration": 17,
    "start_time": "2022-01-11T18:59:11.696Z"
   },
   {
    "duration": 10,
    "start_time": "2022-01-11T18:59:11.716Z"
   },
   {
    "duration": 45,
    "start_time": "2022-01-11T18:59:11.729Z"
   },
   {
    "duration": 38,
    "start_time": "2022-01-11T18:59:11.777Z"
   },
   {
    "duration": 7,
    "start_time": "2022-01-11T18:59:11.818Z"
   },
   {
    "duration": 114,
    "start_time": "2022-01-11T18:59:11.827Z"
   },
   {
    "duration": 14,
    "start_time": "2022-01-11T18:59:11.964Z"
   },
   {
    "duration": 11,
    "start_time": "2022-01-11T18:59:11.981Z"
   },
   {
    "duration": 10,
    "start_time": "2022-01-11T18:59:11.995Z"
   },
   {
    "duration": 8,
    "start_time": "2022-01-11T18:59:12.013Z"
   },
   {
    "duration": 59,
    "start_time": "2022-01-11T18:59:12.065Z"
   },
   {
    "duration": 8,
    "start_time": "2022-01-11T18:59:12.127Z"
   },
   {
    "duration": 7,
    "start_time": "2022-01-11T18:59:12.163Z"
   },
   {
    "duration": 11,
    "start_time": "2022-01-11T18:59:12.173Z"
   },
   {
    "duration": 10,
    "start_time": "2022-01-11T18:59:12.186Z"
   },
   {
    "duration": 11,
    "start_time": "2022-01-11T18:59:12.198Z"
   },
   {
    "duration": 51,
    "start_time": "2022-01-11T18:59:12.212Z"
   },
   {
    "duration": 8,
    "start_time": "2022-01-11T18:59:12.265Z"
   },
   {
    "duration": 742,
    "start_time": "2022-01-11T18:59:12.276Z"
   },
   {
    "duration": 13,
    "start_time": "2022-01-11T18:59:13.020Z"
   },
   {
    "duration": 34,
    "start_time": "2022-01-11T18:59:13.035Z"
   },
   {
    "duration": 12,
    "start_time": "2022-01-11T18:59:13.072Z"
   },
   {
    "duration": 8,
    "start_time": "2022-01-11T18:59:13.086Z"
   },
   {
    "duration": 8,
    "start_time": "2022-01-11T18:59:13.096Z"
   },
   {
    "duration": 8,
    "start_time": "2022-01-11T18:59:13.107Z"
   },
   {
    "duration": 16,
    "start_time": "2022-01-11T18:59:13.162Z"
   },
   {
    "duration": 12,
    "start_time": "2022-01-11T18:59:13.181Z"
   },
   {
    "duration": 6,
    "start_time": "2022-01-11T18:59:13.196Z"
   },
   {
    "duration": 9,
    "start_time": "2022-01-11T18:59:13.204Z"
   },
   {
    "duration": 54,
    "start_time": "2022-01-11T18:59:13.215Z"
   },
   {
    "duration": 19,
    "start_time": "2022-01-11T18:59:13.272Z"
   },
   {
    "duration": 23,
    "start_time": "2022-01-11T18:59:13.294Z"
   },
   {
    "duration": 854,
    "start_time": "2022-01-11T18:59:38.774Z"
   },
   {
    "duration": 55,
    "start_time": "2022-01-11T18:59:42.528Z"
   },
   {
    "duration": 16,
    "start_time": "2022-01-11T18:59:44.448Z"
   },
   {
    "duration": 12,
    "start_time": "2022-01-11T18:59:45.455Z"
   },
   {
    "duration": 109,
    "start_time": "2022-01-11T18:59:45.678Z"
   },
   {
    "duration": 12,
    "start_time": "2022-01-11T18:59:46.447Z"
   },
   {
    "duration": 9,
    "start_time": "2022-01-11T18:59:46.643Z"
   },
   {
    "duration": 12,
    "start_time": "2022-01-11T18:59:46.864Z"
   },
   {
    "duration": 452,
    "start_time": "2022-01-11T18:59:47.088Z"
   },
   {
    "duration": 25,
    "start_time": "2022-01-11T18:59:47.834Z"
   },
   {
    "duration": 13,
    "start_time": "2022-01-11T18:59:48.062Z"
   },
   {
    "duration": 8,
    "start_time": "2022-01-11T18:59:48.362Z"
   },
   {
    "duration": 32,
    "start_time": "2022-01-11T18:59:48.658Z"
   },
   {
    "duration": 17,
    "start_time": "2022-01-11T18:59:49.097Z"
   },
   {
    "duration": 9,
    "start_time": "2022-01-11T18:59:49.296Z"
   },
   {
    "duration": 15,
    "start_time": "2022-01-11T18:59:49.524Z"
   },
   {
    "duration": 41,
    "start_time": "2022-01-11T18:59:49.756Z"
   },
   {
    "duration": 6,
    "start_time": "2022-01-11T18:59:50.055Z"
   },
   {
    "duration": 75,
    "start_time": "2022-01-11T18:59:50.798Z"
   },
   {
    "duration": 10,
    "start_time": "2022-01-11T18:59:51.193Z"
   },
   {
    "duration": 10,
    "start_time": "2022-01-11T18:59:52.042Z"
   },
   {
    "duration": 9,
    "start_time": "2022-01-11T18:59:52.347Z"
   },
   {
    "duration": 7,
    "start_time": "2022-01-11T18:59:52.750Z"
   },
   {
    "duration": 60,
    "start_time": "2022-01-11T18:59:53.671Z"
   },
   {
    "duration": 8,
    "start_time": "2022-01-11T18:59:53.888Z"
   },
   {
    "duration": 8,
    "start_time": "2022-01-11T18:59:54.163Z"
   },
   {
    "duration": 6,
    "start_time": "2022-01-11T18:59:54.656Z"
   },
   {
    "duration": 9,
    "start_time": "2022-01-11T18:59:54.903Z"
   },
   {
    "duration": 9,
    "start_time": "2022-01-11T18:59:55.232Z"
   },
   {
    "duration": 7,
    "start_time": "2022-01-11T18:59:56.035Z"
   },
   {
    "duration": 7,
    "start_time": "2022-01-11T18:59:56.633Z"
   },
   {
    "duration": 748,
    "start_time": "2022-01-11T18:59:57.215Z"
   },
   {
    "duration": 13,
    "start_time": "2022-01-11T18:59:57.965Z"
   },
   {
    "duration": 21,
    "start_time": "2022-01-11T18:59:58.698Z"
   },
   {
    "duration": 11,
    "start_time": "2022-01-11T18:59:59.659Z"
   },
   {
    "duration": 8,
    "start_time": "2022-01-11T19:00:01.015Z"
   },
   {
    "duration": 7,
    "start_time": "2022-01-11T19:00:01.629Z"
   },
   {
    "duration": 8,
    "start_time": "2022-01-11T19:00:02.170Z"
   },
   {
    "duration": 15,
    "start_time": "2022-01-11T19:00:02.637Z"
   },
   {
    "duration": 10,
    "start_time": "2022-01-11T19:00:03.043Z"
   },
   {
    "duration": 5,
    "start_time": "2022-01-11T19:00:05.229Z"
   },
   {
    "duration": 7,
    "start_time": "2022-01-11T19:00:05.746Z"
   },
   {
    "duration": 8,
    "start_time": "2022-01-11T19:00:05.978Z"
   },
   {
    "duration": 18,
    "start_time": "2022-01-11T19:00:07.206Z"
   },
   {
    "duration": 23,
    "start_time": "2022-01-11T19:00:08.312Z"
   },
   {
    "duration": 357,
    "start_time": "2022-01-11T19:05:36.254Z"
   },
   {
    "duration": 534,
    "start_time": "2022-01-11T19:05:45.716Z"
   },
   {
    "duration": 823,
    "start_time": "2022-01-11T19:05:47.900Z"
   },
   {
    "duration": 60,
    "start_time": "2022-01-11T19:05:48.726Z"
   },
   {
    "duration": 16,
    "start_time": "2022-01-11T19:05:48.788Z"
   },
   {
    "duration": 11,
    "start_time": "2022-01-11T19:05:48.807Z"
   },
   {
    "duration": 136,
    "start_time": "2022-01-11T19:05:48.821Z"
   },
   {
    "duration": 10,
    "start_time": "2022-01-11T19:05:48.963Z"
   },
   {
    "duration": 9,
    "start_time": "2022-01-11T19:05:48.976Z"
   },
   {
    "duration": 11,
    "start_time": "2022-01-11T19:05:48.989Z"
   },
   {
    "duration": 648,
    "start_time": "2022-01-11T19:05:49.003Z"
   },
   {
    "duration": 27,
    "start_time": "2022-01-11T19:05:49.653Z"
   },
   {
    "duration": 12,
    "start_time": "2022-01-11T19:05:49.683Z"
   },
   {
    "duration": 9,
    "start_time": "2022-01-11T19:05:49.697Z"
   },
   {
    "duration": 62,
    "start_time": "2022-01-11T19:05:49.709Z"
   },
   {
    "duration": 15,
    "start_time": "2022-01-11T19:05:49.773Z"
   },
   {
    "duration": 8,
    "start_time": "2022-01-11T19:05:49.791Z"
   },
   {
    "duration": 13,
    "start_time": "2022-01-11T19:05:49.802Z"
   },
   {
    "duration": 73,
    "start_time": "2022-01-11T19:05:49.818Z"
   },
   {
    "duration": 5,
    "start_time": "2022-01-11T19:05:49.893Z"
   },
   {
    "duration": 85,
    "start_time": "2022-01-11T19:05:49.901Z"
   },
   {
    "duration": 10,
    "start_time": "2022-01-11T19:05:49.988Z"
   },
   {
    "duration": 8,
    "start_time": "2022-01-11T19:05:50.000Z"
   },
   {
    "duration": 8,
    "start_time": "2022-01-11T19:05:50.011Z"
   },
   {
    "duration": 45,
    "start_time": "2022-01-11T19:05:50.024Z"
   },
   {
    "duration": 55,
    "start_time": "2022-01-11T19:05:50.073Z"
   },
   {
    "duration": 7,
    "start_time": "2022-01-11T19:05:50.130Z"
   },
   {
    "duration": 8,
    "start_time": "2022-01-11T19:05:50.163Z"
   },
   {
    "duration": 9,
    "start_time": "2022-01-11T19:05:50.173Z"
   },
   {
    "duration": 14,
    "start_time": "2022-01-11T19:05:50.184Z"
   },
   {
    "duration": 8,
    "start_time": "2022-01-11T19:05:50.201Z"
   },
   {
    "duration": 8,
    "start_time": "2022-01-11T19:05:50.211Z"
   },
   {
    "duration": 47,
    "start_time": "2022-01-11T19:05:50.221Z"
   },
   {
    "duration": 759,
    "start_time": "2022-01-11T19:05:50.271Z"
   },
   {
    "duration": 13,
    "start_time": "2022-01-11T19:05:51.032Z"
   },
   {
    "duration": 33,
    "start_time": "2022-01-11T19:05:51.047Z"
   },
   {
    "duration": 11,
    "start_time": "2022-01-11T19:05:51.083Z"
   },
   {
    "duration": 8,
    "start_time": "2022-01-11T19:05:51.096Z"
   },
   {
    "duration": 8,
    "start_time": "2022-01-11T19:05:51.106Z"
   },
   {
    "duration": 8,
    "start_time": "2022-01-11T19:05:51.116Z"
   },
   {
    "duration": 49,
    "start_time": "2022-01-11T19:05:51.126Z"
   },
   {
    "duration": 9,
    "start_time": "2022-01-11T19:05:51.178Z"
   },
   {
    "duration": 8,
    "start_time": "2022-01-11T19:05:51.190Z"
   },
   {
    "duration": 7,
    "start_time": "2022-01-11T19:05:51.200Z"
   },
   {
    "duration": 8,
    "start_time": "2022-01-11T19:05:51.209Z"
   },
   {
    "duration": 18,
    "start_time": "2022-01-11T19:05:51.264Z"
   },
   {
    "duration": 23,
    "start_time": "2022-01-11T19:05:51.284Z"
   },
   {
    "duration": 415,
    "start_time": "2022-01-11T19:07:09.730Z"
   },
   {
    "duration": 379,
    "start_time": "2022-01-11T19:10:35.516Z"
   },
   {
    "duration": 965,
    "start_time": "2022-01-11T19:11:00.423Z"
   },
   {
    "duration": 53,
    "start_time": "2022-01-11T19:11:14.774Z"
   },
   {
    "duration": 16,
    "start_time": "2022-01-11T19:11:16.640Z"
   },
   {
    "duration": 13,
    "start_time": "2022-01-11T19:11:18.699Z"
   },
   {
    "duration": 106,
    "start_time": "2022-01-11T19:11:20.491Z"
   },
   {
    "duration": 9,
    "start_time": "2022-01-11T19:11:23.228Z"
   },
   {
    "duration": 10,
    "start_time": "2022-01-11T19:11:24.034Z"
   },
   {
    "duration": 11,
    "start_time": "2022-01-11T19:11:24.836Z"
   },
   {
    "duration": 460,
    "start_time": "2022-01-11T19:11:25.450Z"
   },
   {
    "duration": 24,
    "start_time": "2022-01-11T19:11:26.033Z"
   },
   {
    "duration": 12,
    "start_time": "2022-01-11T19:11:27.195Z"
   },
   {
    "duration": 9,
    "start_time": "2022-01-11T19:11:29.065Z"
   },
   {
    "duration": 31,
    "start_time": "2022-01-11T19:11:30.050Z"
   },
   {
    "duration": 17,
    "start_time": "2022-01-11T19:11:31.011Z"
   },
   {
    "duration": 8,
    "start_time": "2022-01-11T19:11:31.797Z"
   },
   {
    "duration": 15,
    "start_time": "2022-01-11T19:11:33.577Z"
   },
   {
    "duration": 41,
    "start_time": "2022-01-11T19:11:34.499Z"
   },
   {
    "duration": 5,
    "start_time": "2022-01-11T19:11:35.209Z"
   },
   {
    "duration": 72,
    "start_time": "2022-01-11T19:11:35.938Z"
   },
   {
    "duration": 11,
    "start_time": "2022-01-11T19:11:36.444Z"
   },
   {
    "duration": 10,
    "start_time": "2022-01-11T19:11:38.325Z"
   },
   {
    "duration": 9,
    "start_time": "2022-01-11T19:11:38.994Z"
   },
   {
    "duration": 6,
    "start_time": "2022-01-11T19:11:39.619Z"
   },
   {
    "duration": 58,
    "start_time": "2022-01-11T19:11:40.926Z"
   },
   {
    "duration": 8,
    "start_time": "2022-01-11T19:11:41.685Z"
   },
   {
    "duration": 7,
    "start_time": "2022-01-11T19:11:42.426Z"
   },
   {
    "duration": 7,
    "start_time": "2022-01-11T19:11:43.138Z"
   },
   {
    "duration": 8,
    "start_time": "2022-01-11T19:11:44.114Z"
   },
   {
    "duration": 9,
    "start_time": "2022-01-11T19:11:44.867Z"
   },
   {
    "duration": 8,
    "start_time": "2022-01-11T19:11:45.867Z"
   },
   {
    "duration": 7,
    "start_time": "2022-01-11T19:11:47.505Z"
   },
   {
    "duration": 719,
    "start_time": "2022-01-11T19:11:48.512Z"
   },
   {
    "duration": 14,
    "start_time": "2022-01-11T19:11:50.021Z"
   },
   {
    "duration": 20,
    "start_time": "2022-01-11T19:11:51.990Z"
   },
   {
    "duration": 12,
    "start_time": "2022-01-11T19:11:52.822Z"
   },
   {
    "duration": 8,
    "start_time": "2022-01-11T19:11:53.339Z"
   },
   {
    "duration": 8,
    "start_time": "2022-01-11T19:11:53.854Z"
   },
   {
    "duration": 8,
    "start_time": "2022-01-11T19:11:54.841Z"
   },
   {
    "duration": 13,
    "start_time": "2022-01-11T19:11:55.454Z"
   },
   {
    "duration": 10,
    "start_time": "2022-01-11T19:11:56.067Z"
   },
   {
    "duration": 5,
    "start_time": "2022-01-11T19:11:58.934Z"
   },
   {
    "duration": 8,
    "start_time": "2022-01-11T19:12:00.386Z"
   },
   {
    "duration": 9,
    "start_time": "2022-01-11T19:12:01.114Z"
   },
   {
    "duration": 18,
    "start_time": "2022-01-11T19:12:02.583Z"
   },
   {
    "duration": 24,
    "start_time": "2022-01-11T19:12:04.311Z"
   },
   {
    "duration": 340,
    "start_time": "2022-01-11T19:13:55.908Z"
   },
   {
    "duration": 936,
    "start_time": "2022-01-11T19:17:12.518Z"
   },
   {
    "duration": 13916,
    "start_time": "2022-01-11T19:18:32.035Z"
   },
   {
    "duration": 16,
    "start_time": "2022-01-11T19:19:16.843Z"
   },
   {
    "duration": 13,
    "start_time": "2022-01-11T19:19:17.402Z"
   },
   {
    "duration": 10,
    "start_time": "2022-01-11T19:19:18.526Z"
   },
   {
    "duration": 21,
    "start_time": "2022-01-11T19:19:40.122Z"
   },
   {
    "duration": 6,
    "start_time": "2022-01-11T19:38:44.300Z"
   },
   {
    "duration": 5,
    "start_time": "2022-01-11T19:38:52.148Z"
   },
   {
    "duration": 896,
    "start_time": "2022-01-11T19:38:58.326Z"
   },
   {
    "duration": 62,
    "start_time": "2022-01-11T19:38:59.225Z"
   },
   {
    "duration": 17,
    "start_time": "2022-01-11T19:38:59.290Z"
   },
   {
    "duration": 12,
    "start_time": "2022-01-11T19:38:59.310Z"
   },
   {
    "duration": 149,
    "start_time": "2022-01-11T19:38:59.325Z"
   },
   {
    "duration": 9,
    "start_time": "2022-01-11T19:38:59.477Z"
   },
   {
    "duration": 11,
    "start_time": "2022-01-11T19:38:59.489Z"
   },
   {
    "duration": 12,
    "start_time": "2022-01-11T19:38:59.505Z"
   },
   {
    "duration": 529,
    "start_time": "2022-01-11T19:38:59.520Z"
   },
   {
    "duration": 35,
    "start_time": "2022-01-11T19:39:00.051Z"
   },
   {
    "duration": 12,
    "start_time": "2022-01-11T19:39:00.088Z"
   },
   {
    "duration": 19,
    "start_time": "2022-01-11T19:39:00.102Z"
   },
   {
    "duration": 63,
    "start_time": "2022-01-11T19:39:00.124Z"
   },
   {
    "duration": 15,
    "start_time": "2022-01-11T19:39:00.189Z"
   },
   {
    "duration": 10,
    "start_time": "2022-01-11T19:39:00.206Z"
   },
   {
    "duration": 45,
    "start_time": "2022-01-11T19:39:00.218Z"
   },
   {
    "duration": 39,
    "start_time": "2022-01-11T19:39:00.266Z"
   },
   {
    "duration": 5,
    "start_time": "2022-01-11T19:39:00.308Z"
   },
   {
    "duration": 107,
    "start_time": "2022-01-11T19:39:00.315Z"
   },
   {
    "duration": 11,
    "start_time": "2022-01-11T19:39:00.424Z"
   },
   {
    "duration": 27,
    "start_time": "2022-01-11T19:39:00.437Z"
   },
   {
    "duration": 8,
    "start_time": "2022-01-11T19:39:00.467Z"
   },
   {
    "duration": 7,
    "start_time": "2022-01-11T19:39:00.480Z"
   },
   {
    "duration": 99,
    "start_time": "2022-01-11T19:39:00.490Z"
   },
   {
    "duration": 8,
    "start_time": "2022-01-11T19:39:00.591Z"
   },
   {
    "duration": 7,
    "start_time": "2022-01-11T19:39:00.602Z"
   },
   {
    "duration": 9,
    "start_time": "2022-01-11T19:39:00.611Z"
   },
   {
    "duration": 46,
    "start_time": "2022-01-11T19:39:00.622Z"
   },
   {
    "duration": 9,
    "start_time": "2022-01-11T19:39:00.671Z"
   },
   {
    "duration": 7,
    "start_time": "2022-01-11T19:39:00.683Z"
   },
   {
    "duration": 16,
    "start_time": "2022-01-11T19:39:00.693Z"
   },
   {
    "duration": 829,
    "start_time": "2022-01-11T19:39:00.711Z"
   },
   {
    "duration": 20,
    "start_time": "2022-01-11T19:39:01.542Z"
   },
   {
    "duration": 21,
    "start_time": "2022-01-11T19:39:01.565Z"
   },
   {
    "duration": 27,
    "start_time": "2022-01-11T19:39:01.589Z"
   },
   {
    "duration": 16,
    "start_time": "2022-01-11T19:39:01.619Z"
   },
   {
    "duration": 8,
    "start_time": "2022-01-11T19:39:01.638Z"
   },
   {
    "duration": 10,
    "start_time": "2022-01-11T19:39:01.649Z"
   },
   {
    "duration": 23,
    "start_time": "2022-01-11T19:39:01.661Z"
   },
   {
    "duration": 11,
    "start_time": "2022-01-11T19:39:01.687Z"
   },
   {
    "duration": 14,
    "start_time": "2022-01-11T19:39:01.700Z"
   },
   {
    "duration": 9,
    "start_time": "2022-01-11T19:39:01.717Z"
   },
   {
    "duration": 24,
    "start_time": "2022-01-11T19:39:01.728Z"
   },
   {
    "duration": 22,
    "start_time": "2022-01-11T19:39:01.754Z"
   },
   {
    "duration": 17,
    "start_time": "2022-01-11T19:39:10.855Z"
   },
   {
    "duration": 4,
    "start_time": "2022-01-11T19:39:12.763Z"
   },
   {
    "duration": 92,
    "start_time": "2022-01-11T19:39:22.729Z"
   },
   {
    "duration": 1540,
    "start_time": "2022-01-11T19:39:58.579Z"
   },
   {
    "duration": 9,
    "start_time": "2022-01-11T19:40:26.743Z"
   },
   {
    "duration": 4,
    "start_time": "2022-01-11T19:41:13.110Z"
   },
   {
    "duration": 781,
    "start_time": "2022-01-11T19:41:13.809Z"
   },
   {
    "duration": 7,
    "start_time": "2022-01-11T19:41:15.631Z"
   },
   {
    "duration": 8,
    "start_time": "2022-01-11T19:41:34.069Z"
   },
   {
    "duration": 8,
    "start_time": "2022-01-11T19:49:22.729Z"
   },
   {
    "duration": 312,
    "start_time": "2022-01-12T13:55:38.544Z"
   },
   {
    "duration": 873,
    "start_time": "2022-01-12T13:55:43.391Z"
   },
   {
    "duration": 59,
    "start_time": "2022-01-12T13:55:44.267Z"
   },
   {
    "duration": 15,
    "start_time": "2022-01-12T13:55:44.328Z"
   },
   {
    "duration": 11,
    "start_time": "2022-01-12T13:55:44.346Z"
   },
   {
    "duration": 134,
    "start_time": "2022-01-12T13:55:44.359Z"
   },
   {
    "duration": 26,
    "start_time": "2022-01-12T13:55:44.496Z"
   },
   {
    "duration": 11,
    "start_time": "2022-01-12T13:55:44.525Z"
   },
   {
    "duration": 12,
    "start_time": "2022-01-12T13:55:44.541Z"
   },
   {
    "duration": 509,
    "start_time": "2022-01-12T13:55:44.556Z"
   },
   {
    "duration": 23,
    "start_time": "2022-01-12T13:55:45.068Z"
   },
   {
    "duration": 25,
    "start_time": "2022-01-12T13:55:45.094Z"
   },
   {
    "duration": 9,
    "start_time": "2022-01-12T13:55:45.122Z"
   },
   {
    "duration": 32,
    "start_time": "2022-01-12T13:55:45.133Z"
   },
   {
    "duration": 51,
    "start_time": "2022-01-12T13:55:45.167Z"
   },
   {
    "duration": 10,
    "start_time": "2022-01-12T13:55:45.221Z"
   },
   {
    "duration": 17,
    "start_time": "2022-01-12T13:55:45.233Z"
   },
   {
    "duration": 68,
    "start_time": "2022-01-12T13:55:45.253Z"
   },
   {
    "duration": 4,
    "start_time": "2022-01-12T13:55:45.324Z"
   },
   {
    "duration": 87,
    "start_time": "2022-01-12T13:55:45.331Z"
   },
   {
    "duration": 10,
    "start_time": "2022-01-12T13:55:45.421Z"
   },
   {
    "duration": 12,
    "start_time": "2022-01-12T13:55:45.434Z"
   },
   {
    "duration": 7,
    "start_time": "2022-01-12T13:55:45.448Z"
   },
   {
    "duration": 6,
    "start_time": "2022-01-12T13:55:45.461Z"
   },
   {
    "duration": 101,
    "start_time": "2022-01-12T13:55:45.470Z"
   },
   {
    "duration": 8,
    "start_time": "2022-01-12T13:55:45.574Z"
   },
   {
    "duration": 34,
    "start_time": "2022-01-12T13:55:45.585Z"
   },
   {
    "duration": 7,
    "start_time": "2022-01-12T13:55:45.621Z"
   },
   {
    "duration": 8,
    "start_time": "2022-01-12T13:55:45.631Z"
   },
   {
    "duration": 10,
    "start_time": "2022-01-12T13:55:45.642Z"
   },
   {
    "duration": 6,
    "start_time": "2022-01-12T13:55:45.655Z"
   },
   {
    "duration": 6,
    "start_time": "2022-01-12T13:55:45.664Z"
   },
   {
    "duration": 786,
    "start_time": "2022-01-12T13:55:45.716Z"
   },
   {
    "duration": 19,
    "start_time": "2022-01-12T13:55:46.504Z"
   },
   {
    "duration": 21,
    "start_time": "2022-01-12T13:55:46.525Z"
   },
   {
    "duration": 14,
    "start_time": "2022-01-12T13:55:46.548Z"
   },
   {
    "duration": 8,
    "start_time": "2022-01-12T13:55:46.565Z"
   },
   {
    "duration": 7,
    "start_time": "2022-01-12T13:55:46.576Z"
   },
   {
    "duration": 9,
    "start_time": "2022-01-12T13:55:46.618Z"
   },
   {
    "duration": 17,
    "start_time": "2022-01-12T13:55:46.630Z"
   },
   {
    "duration": 11,
    "start_time": "2022-01-12T13:55:46.649Z"
   },
   {
    "duration": 8,
    "start_time": "2022-01-12T13:55:46.663Z"
   },
   {
    "duration": 47,
    "start_time": "2022-01-12T13:55:46.673Z"
   },
   {
    "duration": 10,
    "start_time": "2022-01-12T13:55:46.723Z"
   },
   {
    "duration": 19,
    "start_time": "2022-01-12T13:55:46.736Z"
   },
   {
    "duration": 6,
    "start_time": "2022-01-12T13:55:46.757Z"
   },
   {
    "duration": 911,
    "start_time": "2022-01-12T13:55:46.766Z"
   },
   {
    "duration": 8,
    "start_time": "2022-01-12T13:55:47.680Z"
   },
   {
    "duration": 30,
    "start_time": "2022-01-12T13:55:47.691Z"
   },
   {
    "duration": 824,
    "start_time": "2022-01-12T13:55:47.725Z"
   },
   {
    "duration": 90,
    "start_time": "2022-01-12T13:56:52.817Z"
   },
   {
    "duration": 515,
    "start_time": "2022-01-12T13:57:12.397Z"
   },
   {
    "duration": 591,
    "start_time": "2022-01-12T13:57:23.178Z"
   },
   {
    "duration": 550,
    "start_time": "2022-01-12T13:57:36.335Z"
   },
   {
    "duration": 295,
    "start_time": "2022-01-12T13:58:49.573Z"
   },
   {
    "duration": 84,
    "start_time": "2022-01-12T13:59:01.956Z"
   },
   {
    "duration": 44,
    "start_time": "2022-01-12T13:59:02.042Z"
   },
   {
    "duration": 16,
    "start_time": "2022-01-12T13:59:02.119Z"
   },
   {
    "duration": 11,
    "start_time": "2022-01-12T13:59:02.138Z"
   },
   {
    "duration": 135,
    "start_time": "2022-01-12T13:59:02.151Z"
   },
   {
    "duration": 9,
    "start_time": "2022-01-12T13:59:02.288Z"
   },
   {
    "duration": 24,
    "start_time": "2022-01-12T13:59:02.299Z"
   },
   {
    "duration": 11,
    "start_time": "2022-01-12T13:59:02.327Z"
   },
   {
    "duration": 383,
    "start_time": "2022-01-12T13:59:02.341Z"
   },
   {
    "duration": 23,
    "start_time": "2022-01-12T13:59:02.726Z"
   },
   {
    "duration": 12,
    "start_time": "2022-01-12T13:59:02.751Z"
   },
   {
    "duration": 12,
    "start_time": "2022-01-12T13:59:02.766Z"
   },
   {
    "duration": 60,
    "start_time": "2022-01-12T13:59:02.781Z"
   },
   {
    "duration": 13,
    "start_time": "2022-01-12T13:59:02.843Z"
   },
   {
    "duration": 8,
    "start_time": "2022-01-12T13:59:02.859Z"
   },
   {
    "duration": 48,
    "start_time": "2022-01-12T13:59:02.869Z"
   },
   {
    "duration": 130,
    "start_time": "2022-01-12T13:59:02.920Z"
   },
   {
    "duration": 6,
    "start_time": "2022-01-12T13:59:03.052Z"
   },
   {
    "duration": 94,
    "start_time": "2022-01-12T13:59:03.060Z"
   },
   {
    "duration": 11,
    "start_time": "2022-01-12T13:59:03.156Z"
   },
   {
    "duration": 9,
    "start_time": "2022-01-12T13:59:03.169Z"
   },
   {
    "duration": 17,
    "start_time": "2022-01-12T13:59:03.180Z"
   },
   {
    "duration": 6,
    "start_time": "2022-01-12T13:59:03.221Z"
   },
   {
    "duration": 62,
    "start_time": "2022-01-12T13:59:03.230Z"
   },
   {
    "duration": 24,
    "start_time": "2022-01-12T13:59:03.295Z"
   },
   {
    "duration": 6,
    "start_time": "2022-01-12T13:59:03.322Z"
   },
   {
    "duration": 7,
    "start_time": "2022-01-12T13:59:03.331Z"
   },
   {
    "duration": 13,
    "start_time": "2022-01-12T13:59:03.340Z"
   },
   {
    "duration": 9,
    "start_time": "2022-01-12T13:59:03.355Z"
   },
   {
    "duration": 53,
    "start_time": "2022-01-12T13:59:03.366Z"
   },
   {
    "duration": 6,
    "start_time": "2022-01-12T13:59:03.421Z"
   },
   {
    "duration": 746,
    "start_time": "2022-01-12T13:59:03.429Z"
   },
   {
    "duration": 14,
    "start_time": "2022-01-12T13:59:04.179Z"
   },
   {
    "duration": 38,
    "start_time": "2022-01-12T13:59:04.196Z"
   },
   {
    "duration": 14,
    "start_time": "2022-01-12T13:59:04.237Z"
   },
   {
    "duration": 10,
    "start_time": "2022-01-12T13:59:04.254Z"
   },
   {
    "duration": 12,
    "start_time": "2022-01-12T13:59:04.266Z"
   },
   {
    "duration": 42,
    "start_time": "2022-01-12T13:59:04.280Z"
   },
   {
    "duration": 18,
    "start_time": "2022-01-12T13:59:04.324Z"
   },
   {
    "duration": 9,
    "start_time": "2022-01-12T13:59:04.345Z"
   },
   {
    "duration": 7,
    "start_time": "2022-01-12T13:59:04.356Z"
   },
   {
    "duration": 10,
    "start_time": "2022-01-12T13:59:04.366Z"
   },
   {
    "duration": 44,
    "start_time": "2022-01-12T13:59:04.378Z"
   },
   {
    "duration": 20,
    "start_time": "2022-01-12T13:59:04.424Z"
   },
   {
    "duration": 4,
    "start_time": "2022-01-12T13:59:04.446Z"
   },
   {
    "duration": 832,
    "start_time": "2022-01-12T13:59:04.452Z"
   },
   {
    "duration": 7,
    "start_time": "2022-01-12T13:59:05.287Z"
   },
   {
    "duration": 51,
    "start_time": "2022-01-12T13:59:05.297Z"
   },
   {
    "duration": 603,
    "start_time": "2022-01-12T13:59:05.350Z"
   },
   {
    "duration": 249,
    "start_time": "2022-01-12T13:59:05.955Z"
   },
   {
    "duration": 348,
    "start_time": "2022-01-12T13:59:21.313Z"
   },
   {
    "duration": 242,
    "start_time": "2022-01-12T13:59:48.231Z"
   },
   {
    "duration": 557,
    "start_time": "2022-01-12T14:00:21.435Z"
   },
   {
    "duration": 522,
    "start_time": "2022-01-12T14:01:47.936Z"
   },
   {
    "duration": 274,
    "start_time": "2022-01-12T14:02:53.165Z"
   },
   {
    "duration": 237,
    "start_time": "2022-01-12T14:03:00.103Z"
   },
   {
    "duration": 207,
    "start_time": "2022-01-12T14:03:04.335Z"
   },
   {
    "duration": 198,
    "start_time": "2022-01-12T14:03:26.239Z"
   },
   {
    "duration": 201,
    "start_time": "2022-01-12T14:03:32.216Z"
   },
   {
    "duration": 204,
    "start_time": "2022-01-12T14:03:36.796Z"
   },
   {
    "duration": 197,
    "start_time": "2022-01-12T14:03:55.824Z"
   },
   {
    "duration": 190,
    "start_time": "2022-01-12T14:04:16.447Z"
   },
   {
    "duration": 595,
    "start_time": "2022-01-12T14:09:24.844Z"
   },
   {
    "duration": 682,
    "start_time": "2022-01-12T14:09:44.268Z"
   },
   {
    "duration": 614,
    "start_time": "2022-01-12T14:10:15.108Z"
   },
   {
    "duration": 481,
    "start_time": "2022-01-12T14:26:24.140Z"
   },
   {
    "duration": 377,
    "start_time": "2022-01-12T14:26:35.353Z"
   },
   {
    "duration": 452,
    "start_time": "2022-01-12T14:26:46.712Z"
   },
   {
    "duration": 676,
    "start_time": "2022-01-12T14:27:01.049Z"
   },
   {
    "duration": 728,
    "start_time": "2022-01-12T14:27:09.544Z"
   },
   {
    "duration": 400,
    "start_time": "2022-01-12T14:27:15.822Z"
   },
   {
    "duration": 456,
    "start_time": "2022-01-12T14:28:38.210Z"
   },
   {
    "duration": 465,
    "start_time": "2022-01-12T14:28:49.358Z"
   },
   {
    "duration": 469,
    "start_time": "2022-01-12T14:35:01.544Z"
   },
   {
    "duration": 79,
    "start_time": "2022-01-12T14:41:23.114Z"
   },
   {
    "duration": 431,
    "start_time": "2022-01-12T14:55:43.998Z"
   },
   {
    "duration": 433,
    "start_time": "2022-01-12T14:56:00.730Z"
   },
   {
    "duration": 655,
    "start_time": "2022-01-12T14:56:58.429Z"
   },
   {
    "duration": 221,
    "start_time": "2022-01-12T14:57:43.506Z"
   },
   {
    "duration": 221,
    "start_time": "2022-01-12T14:57:53.802Z"
   },
   {
    "duration": 13,
    "start_time": "2022-01-12T15:18:14.369Z"
   },
   {
    "duration": 289,
    "start_time": "2022-01-12T15:27:04.130Z"
   },
   {
    "duration": 269,
    "start_time": "2022-01-12T15:28:41.591Z"
   },
   {
    "duration": 280,
    "start_time": "2022-01-12T15:28:55.593Z"
   },
   {
    "duration": 93,
    "start_time": "2022-01-12T15:29:22.739Z"
   },
   {
    "duration": 9,
    "start_time": "2022-01-12T15:30:16.070Z"
   },
   {
    "duration": 82,
    "start_time": "2022-01-12T15:32:22.371Z"
   },
   {
    "duration": 83,
    "start_time": "2022-01-12T15:32:29.634Z"
   },
   {
    "duration": 74,
    "start_time": "2022-01-12T15:32:33.175Z"
   },
   {
    "duration": 73,
    "start_time": "2022-01-12T15:32:36.629Z"
   },
   {
    "duration": 83,
    "start_time": "2022-01-12T15:32:50.618Z"
   },
   {
    "duration": 608,
    "start_time": "2022-01-12T15:33:39.069Z"
   },
   {
    "duration": 11,
    "start_time": "2022-01-12T15:51:44.176Z"
   },
   {
    "duration": 9,
    "start_time": "2022-01-12T15:55:27.650Z"
   },
   {
    "duration": 9,
    "start_time": "2022-01-12T15:55:35.839Z"
   },
   {
    "duration": 409,
    "start_time": "2022-01-12T17:36:44.871Z"
   },
   {
    "duration": 759,
    "start_time": "2022-01-12T17:36:51.147Z"
   },
   {
    "duration": 32,
    "start_time": "2022-01-12T17:36:51.907Z"
   },
   {
    "duration": 11,
    "start_time": "2022-01-12T17:36:51.941Z"
   },
   {
    "duration": 9,
    "start_time": "2022-01-12T17:36:51.953Z"
   },
   {
    "duration": 83,
    "start_time": "2022-01-12T17:36:51.963Z"
   },
   {
    "duration": 6,
    "start_time": "2022-01-12T17:36:52.047Z"
   },
   {
    "duration": 5,
    "start_time": "2022-01-12T17:36:52.054Z"
   },
   {
    "duration": 7,
    "start_time": "2022-01-12T17:36:52.061Z"
   },
   {
    "duration": 229,
    "start_time": "2022-01-12T17:36:52.070Z"
   },
   {
    "duration": 15,
    "start_time": "2022-01-12T17:36:52.301Z"
   },
   {
    "duration": 20,
    "start_time": "2022-01-12T17:36:52.317Z"
   },
   {
    "duration": 13,
    "start_time": "2022-01-12T17:36:52.339Z"
   },
   {
    "duration": 22,
    "start_time": "2022-01-12T17:36:52.353Z"
   },
   {
    "duration": 10,
    "start_time": "2022-01-12T17:36:52.377Z"
   },
   {
    "duration": 5,
    "start_time": "2022-01-12T17:36:52.389Z"
   },
   {
    "duration": 11,
    "start_time": "2022-01-12T17:36:52.395Z"
   },
   {
    "duration": 43,
    "start_time": "2022-01-12T17:36:52.408Z"
   },
   {
    "duration": 4,
    "start_time": "2022-01-12T17:36:52.453Z"
   },
   {
    "duration": 41,
    "start_time": "2022-01-12T17:36:52.458Z"
   },
   {
    "duration": 7,
    "start_time": "2022-01-12T17:36:52.500Z"
   },
   {
    "duration": 26,
    "start_time": "2022-01-12T17:36:52.508Z"
   },
   {
    "duration": 15,
    "start_time": "2022-01-12T17:36:52.535Z"
   },
   {
    "duration": 5,
    "start_time": "2022-01-12T17:36:52.554Z"
   },
   {
    "duration": 36,
    "start_time": "2022-01-12T17:36:52.561Z"
   },
   {
    "duration": 5,
    "start_time": "2022-01-12T17:36:52.599Z"
   },
   {
    "duration": 9,
    "start_time": "2022-01-12T17:36:52.605Z"
   },
   {
    "duration": 17,
    "start_time": "2022-01-12T17:36:52.616Z"
   },
   {
    "duration": 9,
    "start_time": "2022-01-12T17:36:52.636Z"
   },
   {
    "duration": 15,
    "start_time": "2022-01-12T17:36:52.647Z"
   },
   {
    "duration": 12,
    "start_time": "2022-01-12T17:36:52.663Z"
   },
   {
    "duration": 6,
    "start_time": "2022-01-12T17:36:52.676Z"
   },
   {
    "duration": 503,
    "start_time": "2022-01-12T17:36:52.684Z"
   },
   {
    "duration": 8,
    "start_time": "2022-01-12T17:36:53.189Z"
   },
   {
    "duration": 13,
    "start_time": "2022-01-12T17:36:53.199Z"
   },
   {
    "duration": 22,
    "start_time": "2022-01-12T17:36:53.213Z"
   },
   {
    "duration": 17,
    "start_time": "2022-01-12T17:36:53.236Z"
   },
   {
    "duration": 5,
    "start_time": "2022-01-12T17:36:53.255Z"
   },
   {
    "duration": 9,
    "start_time": "2022-01-12T17:36:53.262Z"
   },
   {
    "duration": 15,
    "start_time": "2022-01-12T17:36:53.273Z"
   },
   {
    "duration": 8,
    "start_time": "2022-01-12T17:36:53.290Z"
   },
   {
    "duration": 7,
    "start_time": "2022-01-12T17:36:53.300Z"
   },
   {
    "duration": 18,
    "start_time": "2022-01-12T17:36:53.309Z"
   },
   {
    "duration": 15,
    "start_time": "2022-01-12T17:36:53.330Z"
   },
   {
    "duration": 15,
    "start_time": "2022-01-12T17:36:53.347Z"
   },
   {
    "duration": 4,
    "start_time": "2022-01-12T17:36:53.363Z"
   },
   {
    "duration": 494,
    "start_time": "2022-01-12T17:36:53.368Z"
   },
   {
    "duration": 6,
    "start_time": "2022-01-12T17:36:53.864Z"
   },
   {
    "duration": 6,
    "start_time": "2022-01-12T17:36:53.872Z"
   },
   {
    "duration": 316,
    "start_time": "2022-01-12T17:36:53.879Z"
   },
   {
    "duration": 372,
    "start_time": "2022-01-12T17:36:54.197Z"
   },
   {
    "duration": 273,
    "start_time": "2022-01-12T17:36:54.571Z"
   },
   {
    "duration": 233,
    "start_time": "2022-01-12T17:36:54.846Z"
   },
   {
    "duration": 355,
    "start_time": "2022-01-12T17:36:55.080Z"
   },
   {
    "duration": 175,
    "start_time": "2022-01-12T17:36:55.437Z"
   },
   {
    "duration": 11,
    "start_time": "2022-01-12T17:36:55.617Z"
   },
   {
    "duration": 23,
    "start_time": "2022-01-12T17:36:55.630Z"
   },
   {
    "duration": 16,
    "start_time": "2022-01-12T17:36:55.655Z"
   },
   {
    "duration": 360,
    "start_time": "2022-01-12T17:45:43.291Z"
   },
   {
    "duration": 109,
    "start_time": "2022-01-12T17:46:44.743Z"
   },
   {
    "duration": 111,
    "start_time": "2022-01-12T17:46:50.300Z"
   },
   {
    "duration": 353,
    "start_time": "2022-01-12T17:47:11.209Z"
   },
   {
    "duration": 419,
    "start_time": "2022-01-12T17:47:23.681Z"
   },
   {
    "duration": 332,
    "start_time": "2022-01-12T17:47:44.025Z"
   },
   {
    "duration": 8,
    "start_time": "2022-01-12T17:48:56.121Z"
   },
   {
    "duration": 40,
    "start_time": "2022-01-12T17:49:16.910Z"
   },
   {
    "duration": 289,
    "start_time": "2022-01-12T17:55:15.745Z"
   },
   {
    "duration": 120,
    "start_time": "2022-01-12T17:55:59.911Z"
   },
   {
    "duration": 8,
    "start_time": "2022-01-12T17:57:04.847Z"
   },
   {
    "duration": 117,
    "start_time": "2022-01-12T17:57:05.409Z"
   },
   {
    "duration": 236,
    "start_time": "2022-01-12T17:58:58.513Z"
   },
   {
    "duration": 343,
    "start_time": "2022-01-12T17:59:16.082Z"
   },
   {
    "duration": 349,
    "start_time": "2022-01-12T17:59:48.630Z"
   },
   {
    "duration": 552,
    "start_time": "2022-01-12T17:59:55.368Z"
   },
   {
    "duration": 370,
    "start_time": "2022-01-12T18:00:28.526Z"
   },
   {
    "duration": 8,
    "start_time": "2022-01-12T18:00:42.312Z"
   },
   {
    "duration": 6,
    "start_time": "2022-01-12T18:01:20.186Z"
   },
   {
    "duration": 4,
    "start_time": "2022-01-12T18:02:49.335Z"
   },
   {
    "duration": 27,
    "start_time": "2022-01-12T18:03:05.543Z"
   },
   {
    "duration": 347,
    "start_time": "2022-01-12T18:04:34.794Z"
   },
   {
    "duration": 271,
    "start_time": "2022-01-12T18:04:48.560Z"
   },
   {
    "duration": 697,
    "start_time": "2022-01-12T18:48:42.689Z"
   },
   {
    "duration": 341,
    "start_time": "2022-01-12T18:49:02.556Z"
   },
   {
    "duration": 362,
    "start_time": "2022-01-12T18:49:35.878Z"
   },
   {
    "duration": 370,
    "start_time": "2022-01-12T18:49:59.991Z"
   },
   {
    "duration": 9,
    "start_time": "2022-01-12T18:52:29.875Z"
   },
   {
    "duration": 8,
    "start_time": "2022-01-12T18:52:38.752Z"
   },
   {
    "duration": 13,
    "start_time": "2022-01-12T18:52:59.724Z"
   },
   {
    "duration": 8,
    "start_time": "2022-01-12T18:53:05.870Z"
   },
   {
    "duration": 49,
    "start_time": "2022-01-12T18:57:17.484Z"
   },
   {
    "duration": 318,
    "start_time": "2022-01-12T18:58:09.301Z"
   },
   {
    "duration": 45,
    "start_time": "2022-01-12T18:58:24.358Z"
   },
   {
    "duration": 7,
    "start_time": "2022-01-12T18:58:46.525Z"
   },
   {
    "duration": 310,
    "start_time": "2022-01-12T19:04:55.640Z"
   },
   {
    "duration": 13,
    "start_time": "2022-01-12T19:05:03.309Z"
   },
   {
    "duration": 6,
    "start_time": "2022-01-12T19:05:35.683Z"
   },
   {
    "duration": 40,
    "start_time": "2022-01-12T19:05:36.225Z"
   },
   {
    "duration": 108,
    "start_time": "2022-01-12T19:08:15.201Z"
   },
   {
    "duration": 340,
    "start_time": "2022-01-12T19:08:32.271Z"
   },
   {
    "duration": 170,
    "start_time": "2022-01-12T19:09:14.210Z"
   },
   {
    "duration": 232,
    "start_time": "2022-01-12T19:11:49.177Z"
   },
   {
    "duration": 190,
    "start_time": "2022-01-12T19:12:30.793Z"
   },
   {
    "duration": 20,
    "start_time": "2022-01-12T19:13:07.062Z"
   },
   {
    "duration": 10,
    "start_time": "2022-01-12T19:16:26.825Z"
   },
   {
    "duration": 8,
    "start_time": "2022-01-12T19:19:15.152Z"
   },
   {
    "duration": 126,
    "start_time": "2022-01-12T19:19:16.221Z"
   },
   {
    "duration": 9,
    "start_time": "2022-01-12T19:19:35.485Z"
   },
   {
    "duration": 112,
    "start_time": "2022-01-12T19:19:36.185Z"
   },
   {
    "duration": 8,
    "start_time": "2022-01-12T19:19:38.076Z"
   },
   {
    "duration": 6,
    "start_time": "2022-01-12T19:19:39.025Z"
   },
   {
    "duration": 3,
    "start_time": "2022-01-12T19:19:42.453Z"
   },
   {
    "duration": 439,
    "start_time": "2022-01-12T19:19:43.288Z"
   },
   {
    "duration": 7,
    "start_time": "2022-01-12T19:19:44.471Z"
   },
   {
    "duration": 23,
    "start_time": "2022-01-12T19:19:45.134Z"
   },
   {
    "duration": 182,
    "start_time": "2022-01-12T19:19:46.123Z"
   },
   {
    "duration": 8,
    "start_time": "2022-01-12T19:19:49.749Z"
   },
   {
    "duration": 8,
    "start_time": "2022-01-12T19:19:54.575Z"
   },
   {
    "duration": 6,
    "start_time": "2022-01-12T19:20:27.290Z"
   },
   {
    "duration": 351,
    "start_time": "2022-01-12T19:20:29.351Z"
   },
   {
    "duration": 9,
    "start_time": "2022-01-12T19:20:33.499Z"
   },
   {
    "duration": 21,
    "start_time": "2022-01-12T19:20:34.741Z"
   },
   {
    "duration": 188,
    "start_time": "2022-01-12T19:20:35.705Z"
   },
   {
    "duration": 9,
    "start_time": "2022-01-12T19:20:37.086Z"
   },
   {
    "duration": 6,
    "start_time": "2022-01-12T19:22:09.905Z"
   },
   {
    "duration": 371,
    "start_time": "2022-01-12T19:22:31.765Z"
   },
   {
    "duration": 368,
    "start_time": "2022-01-12T19:22:47.607Z"
   },
   {
    "duration": 22,
    "start_time": "2022-01-12T19:23:15.492Z"
   },
   {
    "duration": 37,
    "start_time": "2022-01-12T19:23:37.655Z"
   },
   {
    "duration": 185,
    "start_time": "2022-01-12T19:24:12.141Z"
   },
   {
    "duration": 9,
    "start_time": "2022-01-12T19:24:13.185Z"
   },
   {
    "duration": 10,
    "start_time": "2022-01-12T19:24:28.647Z"
   },
   {
    "duration": 10,
    "start_time": "2022-01-12T19:30:28.361Z"
   },
   {
    "duration": 20,
    "start_time": "2022-01-12T19:30:45.264Z"
   },
   {
    "duration": 102,
    "start_time": "2022-01-12T19:42:59.452Z"
   },
   {
    "duration": 325,
    "start_time": "2022-01-12T19:43:06.747Z"
   },
   {
    "duration": 18,
    "start_time": "2022-01-12T19:44:15.695Z"
   },
   {
    "duration": 11,
    "start_time": "2022-01-12T19:44:33.464Z"
   },
   {
    "duration": 3,
    "start_time": "2022-01-12T19:45:34.135Z"
   },
   {
    "duration": 181,
    "start_time": "2022-01-12T19:53:03.199Z"
   },
   {
    "duration": 178,
    "start_time": "2022-01-12T19:53:09.183Z"
   },
   {
    "duration": 699,
    "start_time": "2022-01-12T19:54:43.773Z"
   },
   {
    "duration": 7,
    "start_time": "2022-01-12T19:55:12.360Z"
   },
   {
    "duration": 10,
    "start_time": "2022-01-12T19:56:15.009Z"
   },
   {
    "duration": 9857,
    "start_time": "2022-01-12T19:58:32.502Z"
   },
   {
    "duration": 328,
    "start_time": "2022-01-12T19:59:00.564Z"
   },
   {
    "duration": 118,
    "start_time": "2022-01-12T20:11:07.936Z"
   },
   {
    "duration": 12,
    "start_time": "2022-01-12T20:11:41.348Z"
   },
   {
    "duration": 980,
    "start_time": "2022-01-12T20:11:53.888Z"
   },
   {
    "duration": 1007,
    "start_time": "2022-01-12T20:12:05.823Z"
   },
   {
    "duration": 1219,
    "start_time": "2022-01-12T20:12:36.587Z"
   },
   {
    "duration": 16,
    "start_time": "2022-01-12T20:13:29.962Z"
   },
   {
    "duration": 3,
    "start_time": "2022-01-12T20:13:30.756Z"
   },
   {
    "duration": 596,
    "start_time": "2022-01-12T20:13:31.656Z"
   },
   {
    "duration": 7,
    "start_time": "2022-01-12T20:13:40.784Z"
   },
   {
    "duration": 167,
    "start_time": "2022-01-12T20:13:53.422Z"
   },
   {
    "duration": 13,
    "start_time": "2022-01-12T20:21:48.094Z"
   },
   {
    "duration": 1769,
    "start_time": "2022-01-12T20:21:49.146Z"
   },
   {
    "duration": 481,
    "start_time": "2022-01-12T20:26:04.646Z"
   },
   {
    "duration": 5,
    "start_time": "2022-01-12T20:27:28.794Z"
   },
   {
    "duration": 1145,
    "start_time": "2022-01-12T20:35:10.869Z"
   },
   {
    "duration": 150,
    "start_time": "2022-01-12T20:35:25.063Z"
   },
   {
    "duration": 153,
    "start_time": "2022-01-12T20:35:39.247Z"
   },
   {
    "duration": 166,
    "start_time": "2022-01-12T20:35:46.458Z"
   },
   {
    "duration": 180,
    "start_time": "2022-01-12T20:36:38.672Z"
   },
   {
    "duration": 176,
    "start_time": "2022-01-12T20:36:56.861Z"
   },
   {
    "duration": -211,
    "start_time": "2022-01-12T20:37:36.570Z"
   },
   {
    "duration": 298,
    "start_time": "2022-01-12T20:37:42.804Z"
   },
   {
    "duration": 7,
    "start_time": "2022-01-12T20:37:53.843Z"
   },
   {
    "duration": 175,
    "start_time": "2022-01-12T20:42:38.654Z"
   },
   {
    "duration": 1419,
    "start_time": "2022-01-12T20:43:56.157Z"
   },
   {
    "duration": 177,
    "start_time": "2022-01-12T20:44:30.615Z"
   },
   {
    "duration": 11,
    "start_time": "2022-01-12T20:45:09.370Z"
   },
   {
    "duration": 9,
    "start_time": "2022-01-12T20:45:27.922Z"
   },
   {
    "duration": 1696,
    "start_time": "2022-01-12T20:46:21.933Z"
   },
   {
    "duration": 13,
    "start_time": "2022-01-12T20:47:37.656Z"
   },
   {
    "duration": 1178,
    "start_time": "2022-01-12T20:48:01.552Z"
   },
   {
    "duration": 328,
    "start_time": "2022-01-12T20:48:37.731Z"
   },
   {
    "duration": 1282,
    "start_time": "2022-01-12T20:48:39.380Z"
   },
   {
    "duration": 19,
    "start_time": "2022-01-12T20:49:05.119Z"
   },
   {
    "duration": 4244,
    "start_time": "2022-01-12T20:49:05.886Z"
   },
   {
    "duration": 180,
    "start_time": "2022-01-12T20:49:39.729Z"
   },
   {
    "duration": 184,
    "start_time": "2022-01-12T20:50:06.364Z"
   },
   {
    "duration": 174,
    "start_time": "2022-01-12T20:51:45.736Z"
   },
   {
    "duration": 166,
    "start_time": "2022-01-12T20:52:17.938Z"
   },
   {
    "duration": 342,
    "start_time": "2022-01-13T10:09:23.298Z"
   },
   {
    "duration": 1112,
    "start_time": "2022-01-13T10:09:27.450Z"
   },
   {
    "duration": 52,
    "start_time": "2022-01-13T10:09:28.565Z"
   },
   {
    "duration": 15,
    "start_time": "2022-01-13T10:09:28.624Z"
   },
   {
    "duration": 15,
    "start_time": "2022-01-13T10:09:28.642Z"
   },
   {
    "duration": 156,
    "start_time": "2022-01-13T10:09:28.660Z"
   },
   {
    "duration": 13,
    "start_time": "2022-01-13T10:09:28.819Z"
   },
   {
    "duration": 9,
    "start_time": "2022-01-13T10:09:28.834Z"
   },
   {
    "duration": 9,
    "start_time": "2022-01-13T10:09:28.846Z"
   },
   {
    "duration": 435,
    "start_time": "2022-01-13T10:09:28.858Z"
   },
   {
    "duration": 36,
    "start_time": "2022-01-13T10:09:29.296Z"
   },
   {
    "duration": 11,
    "start_time": "2022-01-13T10:09:29.334Z"
   },
   {
    "duration": 9,
    "start_time": "2022-01-13T10:09:29.348Z"
   },
   {
    "duration": 27,
    "start_time": "2022-01-13T10:09:29.360Z"
   },
   {
    "duration": 48,
    "start_time": "2022-01-13T10:09:29.389Z"
   },
   {
    "duration": 9,
    "start_time": "2022-01-13T10:09:29.439Z"
   },
   {
    "duration": 14,
    "start_time": "2022-01-13T10:09:29.451Z"
   },
   {
    "duration": 69,
    "start_time": "2022-01-13T10:09:29.467Z"
   },
   {
    "duration": 6,
    "start_time": "2022-01-13T10:09:29.538Z"
   },
   {
    "duration": 88,
    "start_time": "2022-01-13T10:09:29.546Z"
   },
   {
    "duration": 11,
    "start_time": "2022-01-13T10:09:29.636Z"
   },
   {
    "duration": 9,
    "start_time": "2022-01-13T10:09:29.649Z"
   },
   {
    "duration": 9,
    "start_time": "2022-01-13T10:09:29.660Z"
   },
   {
    "duration": 6,
    "start_time": "2022-01-13T10:09:29.675Z"
   },
   {
    "duration": 90,
    "start_time": "2022-01-13T10:09:29.684Z"
   },
   {
    "duration": 8,
    "start_time": "2022-01-13T10:09:29.776Z"
   },
   {
    "duration": 39,
    "start_time": "2022-01-13T10:09:29.786Z"
   },
   {
    "duration": 9,
    "start_time": "2022-01-13T10:09:29.828Z"
   },
   {
    "duration": 9,
    "start_time": "2022-01-13T10:09:29.839Z"
   },
   {
    "duration": 8,
    "start_time": "2022-01-13T10:09:29.850Z"
   },
   {
    "duration": 7,
    "start_time": "2022-01-13T10:09:29.860Z"
   },
   {
    "duration": 10,
    "start_time": "2022-01-13T10:09:29.869Z"
   },
   {
    "duration": 763,
    "start_time": "2022-01-13T10:09:29.881Z"
   },
   {
    "duration": 12,
    "start_time": "2022-01-13T10:09:30.646Z"
   },
   {
    "duration": 33,
    "start_time": "2022-01-13T10:09:30.661Z"
   },
   {
    "duration": 26,
    "start_time": "2022-01-13T10:09:30.697Z"
   },
   {
    "duration": 14,
    "start_time": "2022-01-13T10:09:30.726Z"
   },
   {
    "duration": 17,
    "start_time": "2022-01-13T10:09:30.742Z"
   },
   {
    "duration": 14,
    "start_time": "2022-01-13T10:09:30.761Z"
   },
   {
    "duration": 28,
    "start_time": "2022-01-13T10:09:30.777Z"
   },
   {
    "duration": 9,
    "start_time": "2022-01-13T10:09:30.808Z"
   },
   {
    "duration": 18,
    "start_time": "2022-01-13T10:09:30.819Z"
   },
   {
    "duration": 21,
    "start_time": "2022-01-13T10:09:30.839Z"
   },
   {
    "duration": 11,
    "start_time": "2022-01-13T10:09:30.863Z"
   },
   {
    "duration": 23,
    "start_time": "2022-01-13T10:09:30.877Z"
   },
   {
    "duration": 4,
    "start_time": "2022-01-13T10:09:30.903Z"
   },
   {
    "duration": 825,
    "start_time": "2022-01-13T10:09:30.909Z"
   },
   {
    "duration": 7,
    "start_time": "2022-01-13T10:09:31.736Z"
   },
   {
    "duration": 24,
    "start_time": "2022-01-13T10:09:31.745Z"
   },
   {
    "duration": 526,
    "start_time": "2022-01-13T10:09:31.771Z"
   },
   {
    "duration": 634,
    "start_time": "2022-01-13T10:09:32.300Z"
   },
   {
    "duration": 512,
    "start_time": "2022-01-13T10:09:32.936Z"
   },
   {
    "duration": 416,
    "start_time": "2022-01-13T10:09:33.450Z"
   },
   {
    "duration": 599,
    "start_time": "2022-01-13T10:09:33.868Z"
   },
   {
    "duration": 278,
    "start_time": "2022-01-13T10:09:34.469Z"
   },
   {
    "duration": 11,
    "start_time": "2022-01-13T10:09:34.750Z"
   },
   {
    "duration": 7,
    "start_time": "2022-01-13T10:09:34.763Z"
   },
   {
    "duration": 10,
    "start_time": "2022-01-13T10:09:34.772Z"
   },
   {
    "duration": 232,
    "start_time": "2022-01-13T10:09:34.784Z"
   },
   {
    "duration": 11,
    "start_time": "2022-01-13T10:09:35.023Z"
   },
   {
    "duration": 676,
    "start_time": "2022-01-13T10:09:35.036Z"
   },
   {
    "duration": 50,
    "start_time": "2022-01-13T10:09:35.714Z"
   },
   {
    "duration": 779,
    "start_time": "2022-01-13T10:09:35.766Z"
   },
   {
    "duration": -36,
    "start_time": "2022-01-13T10:09:36.584Z"
   },
   {
    "duration": -38,
    "start_time": "2022-01-13T10:09:36.588Z"
   },
   {
    "duration": -42,
    "start_time": "2022-01-13T10:09:36.593Z"
   },
   {
    "duration": -49,
    "start_time": "2022-01-13T10:09:36.601Z"
   },
   {
    "duration": -52,
    "start_time": "2022-01-13T10:09:36.606Z"
   },
   {
    "duration": -55,
    "start_time": "2022-01-13T10:09:36.610Z"
   },
   {
    "duration": -58,
    "start_time": "2022-01-13T10:09:36.614Z"
   },
   {
    "duration": -63,
    "start_time": "2022-01-13T10:09:36.621Z"
   },
   {
    "duration": -75,
    "start_time": "2022-01-13T10:09:36.634Z"
   },
   {
    "duration": -78,
    "start_time": "2022-01-13T10:09:36.638Z"
   },
   {
    "duration": -81,
    "start_time": "2022-01-13T10:09:36.643Z"
   },
   {
    "duration": -87,
    "start_time": "2022-01-13T10:09:36.650Z"
   },
   {
    "duration": -89,
    "start_time": "2022-01-13T10:09:36.654Z"
   },
   {
    "duration": 107,
    "start_time": "2022-01-13T10:13:07.490Z"
   },
   {
    "duration": 27,
    "start_time": "2022-01-13T10:13:26.517Z"
   },
   {
    "duration": 126,
    "start_time": "2022-01-13T10:13:31.218Z"
   },
   {
    "duration": 87,
    "start_time": "2022-01-13T10:13:31.347Z"
   },
   {
    "duration": 17,
    "start_time": "2022-01-13T10:13:31.438Z"
   },
   {
    "duration": 13,
    "start_time": "2022-01-13T10:13:31.459Z"
   },
   {
    "duration": 156,
    "start_time": "2022-01-13T10:13:31.475Z"
   },
   {
    "duration": 9,
    "start_time": "2022-01-13T10:13:31.634Z"
   },
   {
    "duration": 11,
    "start_time": "2022-01-13T10:13:31.645Z"
   },
   {
    "duration": 13,
    "start_time": "2022-01-13T10:13:31.661Z"
   },
   {
    "duration": 376,
    "start_time": "2022-01-13T10:13:31.677Z"
   },
   {
    "duration": 23,
    "start_time": "2022-01-13T10:13:32.056Z"
   },
   {
    "duration": 12,
    "start_time": "2022-01-13T10:13:32.082Z"
   },
   {
    "duration": 9,
    "start_time": "2022-01-13T10:13:32.123Z"
   },
   {
    "duration": 26,
    "start_time": "2022-01-13T10:13:32.134Z"
   },
   {
    "duration": 12,
    "start_time": "2022-01-13T10:13:32.162Z"
   },
   {
    "duration": 7,
    "start_time": "2022-01-13T10:13:32.177Z"
   },
   {
    "duration": 48,
    "start_time": "2022-01-13T10:13:32.187Z"
   },
   {
    "duration": 34,
    "start_time": "2022-01-13T10:13:32.237Z"
   },
   {
    "duration": 5,
    "start_time": "2022-01-13T10:13:32.273Z"
   },
   {
    "duration": 97,
    "start_time": "2022-01-13T10:13:32.280Z"
   },
   {
    "duration": 10,
    "start_time": "2022-01-13T10:13:32.379Z"
   },
   {
    "duration": 17,
    "start_time": "2022-01-13T10:13:32.391Z"
   },
   {
    "duration": 9,
    "start_time": "2022-01-13T10:13:32.424Z"
   },
   {
    "duration": 20,
    "start_time": "2022-01-13T10:13:32.439Z"
   },
   {
    "duration": 62,
    "start_time": "2022-01-13T10:13:32.462Z"
   },
   {
    "duration": 7,
    "start_time": "2022-01-13T10:13:32.527Z"
   },
   {
    "duration": 10,
    "start_time": "2022-01-13T10:13:32.536Z"
   },
   {
    "duration": 16,
    "start_time": "2022-01-13T10:13:32.548Z"
   },
   {
    "duration": 25,
    "start_time": "2022-01-13T10:13:32.566Z"
   },
   {
    "duration": 7,
    "start_time": "2022-01-13T10:13:32.593Z"
   },
   {
    "duration": 8,
    "start_time": "2022-01-13T10:13:32.602Z"
   },
   {
    "duration": 5,
    "start_time": "2022-01-13T10:13:32.624Z"
   },
   {
    "duration": 804,
    "start_time": "2022-01-13T10:13:32.632Z"
   },
   {
    "duration": 13,
    "start_time": "2022-01-13T10:13:33.438Z"
   },
   {
    "duration": 24,
    "start_time": "2022-01-13T10:13:33.453Z"
   },
   {
    "duration": 21,
    "start_time": "2022-01-13T10:13:33.479Z"
   },
   {
    "duration": 31,
    "start_time": "2022-01-13T10:13:33.502Z"
   },
   {
    "duration": 14,
    "start_time": "2022-01-13T10:13:33.535Z"
   },
   {
    "duration": 16,
    "start_time": "2022-01-13T10:13:33.551Z"
   },
   {
    "duration": 29,
    "start_time": "2022-01-13T10:13:33.569Z"
   },
   {
    "duration": 11,
    "start_time": "2022-01-13T10:13:33.601Z"
   },
   {
    "duration": 13,
    "start_time": "2022-01-13T10:13:33.615Z"
   },
   {
    "duration": 21,
    "start_time": "2022-01-13T10:13:33.631Z"
   },
   {
    "duration": 11,
    "start_time": "2022-01-13T10:13:33.655Z"
   },
   {
    "duration": 34,
    "start_time": "2022-01-13T10:13:33.669Z"
   },
   {
    "duration": 4,
    "start_time": "2022-01-13T10:13:33.706Z"
   },
   {
    "duration": 721,
    "start_time": "2022-01-13T10:13:33.712Z"
   },
   {
    "duration": 6,
    "start_time": "2022-01-13T10:13:34.436Z"
   },
   {
    "duration": 7,
    "start_time": "2022-01-13T10:13:34.444Z"
   },
   {
    "duration": 593,
    "start_time": "2022-01-13T10:13:34.453Z"
   },
   {
    "duration": 610,
    "start_time": "2022-01-13T10:13:35.048Z"
   },
   {
    "duration": 457,
    "start_time": "2022-01-13T10:13:35.661Z"
   },
   {
    "duration": 402,
    "start_time": "2022-01-13T10:13:36.124Z"
   },
   {
    "duration": 586,
    "start_time": "2022-01-13T10:13:36.529Z"
   },
   {
    "duration": 221,
    "start_time": "2022-01-13T10:13:37.117Z"
   },
   {
    "duration": 12,
    "start_time": "2022-01-13T10:13:37.340Z"
   },
   {
    "duration": 8,
    "start_time": "2022-01-13T10:13:37.355Z"
   },
   {
    "duration": 11,
    "start_time": "2022-01-13T10:13:37.365Z"
   },
   {
    "duration": 244,
    "start_time": "2022-01-13T10:13:37.379Z"
   },
   {
    "duration": 11,
    "start_time": "2022-01-13T10:13:37.625Z"
   },
   {
    "duration": 802,
    "start_time": "2022-01-13T10:13:37.638Z"
   },
   {
    "duration": 37,
    "start_time": "2022-01-13T10:13:38.443Z"
   },
   {
    "duration": 586,
    "start_time": "2022-01-13T10:13:38.482Z"
   },
   {
    "duration": -56,
    "start_time": "2022-01-13T10:13:39.127Z"
   },
   {
    "duration": -60,
    "start_time": "2022-01-13T10:13:39.132Z"
   },
   {
    "duration": -63,
    "start_time": "2022-01-13T10:13:39.136Z"
   },
   {
    "duration": -67,
    "start_time": "2022-01-13T10:13:39.142Z"
   },
   {
    "duration": -73,
    "start_time": "2022-01-13T10:13:39.150Z"
   },
   {
    "duration": -77,
    "start_time": "2022-01-13T10:13:39.155Z"
   },
   {
    "duration": -79,
    "start_time": "2022-01-13T10:13:39.159Z"
   },
   {
    "duration": -81,
    "start_time": "2022-01-13T10:13:39.163Z"
   },
   {
    "duration": -93,
    "start_time": "2022-01-13T10:13:39.176Z"
   },
   {
    "duration": -95,
    "start_time": "2022-01-13T10:13:39.180Z"
   },
   {
    "duration": -99,
    "start_time": "2022-01-13T10:13:39.185Z"
   },
   {
    "duration": -102,
    "start_time": "2022-01-13T10:13:39.189Z"
   },
   {
    "duration": -105,
    "start_time": "2022-01-13T10:13:39.193Z"
   },
   {
    "duration": 311,
    "start_time": "2022-01-13T10:14:19.097Z"
   },
   {
    "duration": 25,
    "start_time": "2022-01-13T10:14:21.924Z"
   },
   {
    "duration": 4,
    "start_time": "2022-01-13T10:14:22.506Z"
   },
   {
    "duration": 11,
    "start_time": "2022-01-13T10:14:23.004Z"
   },
   {
    "duration": 282,
    "start_time": "2022-01-13T10:14:23.449Z"
   },
   {
    "duration": 17,
    "start_time": "2022-01-13T10:14:24.083Z"
   },
   {
    "duration": 2882,
    "start_time": "2022-01-13T10:14:24.648Z"
   },
   {
    "duration": 738,
    "start_time": "2022-01-13T10:14:27.533Z"
   },
   {
    "duration": 390,
    "start_time": "2022-01-13T10:14:28.274Z"
   },
   {
    "duration": 9,
    "start_time": "2022-01-13T10:14:28.667Z"
   },
   {
    "duration": 313,
    "start_time": "2022-01-13T10:14:29.210Z"
   },
   {
    "duration": 323,
    "start_time": "2022-01-13T10:14:29.905Z"
   },
   {
    "duration": 313,
    "start_time": "2022-01-13T10:14:30.441Z"
   },
   {
    "duration": 28,
    "start_time": "2022-01-13T10:14:31.646Z"
   },
   {
    "duration": 353,
    "start_time": "2022-01-13T10:15:36.956Z"
   },
   {
    "duration": 286,
    "start_time": "2022-01-13T10:15:55.744Z"
   },
   {
    "duration": 299,
    "start_time": "2022-01-13T10:16:26.826Z"
   },
   {
    "duration": 4,
    "start_time": "2022-01-13T10:16:33.942Z"
   },
   {
    "duration": 283,
    "start_time": "2022-01-13T10:16:48.188Z"
   },
   {
    "duration": 28,
    "start_time": "2022-01-13T10:17:01.228Z"
   },
   {
    "duration": 4,
    "start_time": "2022-01-13T10:17:01.892Z"
   },
   {
    "duration": 14,
    "start_time": "2022-01-13T10:17:24.815Z"
   },
   {
    "duration": 26,
    "start_time": "2022-01-13T10:18:45.075Z"
   },
   {
    "duration": 4,
    "start_time": "2022-01-13T10:18:45.599Z"
   },
   {
    "duration": 17,
    "start_time": "2022-01-13T10:18:46.235Z"
   },
   {
    "duration": 6,
    "start_time": "2022-01-13T10:20:22.344Z"
   },
   {
    "duration": 6,
    "start_time": "2022-01-13T10:27:19.266Z"
   },
   {
    "duration": 9,
    "start_time": "2022-01-13T10:27:26.823Z"
   },
   {
    "duration": 11,
    "start_time": "2022-01-13T10:28:35.341Z"
   },
   {
    "duration": 10,
    "start_time": "2022-01-13T10:29:30.835Z"
   },
   {
    "duration": 37,
    "start_time": "2022-01-13T10:29:51.992Z"
   },
   {
    "duration": 5,
    "start_time": "2022-01-13T10:33:41.425Z"
   },
   {
    "duration": 10,
    "start_time": "2022-01-13T10:33:42.278Z"
   },
   {
    "duration": 5,
    "start_time": "2022-01-13T10:34:05.775Z"
   },
   {
    "duration": 9,
    "start_time": "2022-01-13T10:34:11.242Z"
   },
   {
    "duration": 13,
    "start_time": "2022-01-13T10:34:46.088Z"
   },
   {
    "duration": 5,
    "start_time": "2022-01-13T10:41:15.565Z"
   },
   {
    "duration": 37,
    "start_time": "2022-01-13T10:41:26.809Z"
   },
   {
    "duration": 406,
    "start_time": "2022-01-13T10:43:03.030Z"
   },
   {
    "duration": 6,
    "start_time": "2022-01-13T10:44:46.224Z"
   },
   {
    "duration": 296,
    "start_time": "2022-01-13T10:46:05.648Z"
   },
   {
    "duration": 294,
    "start_time": "2022-01-13T10:46:17.298Z"
   },
   {
    "duration": 26,
    "start_time": "2022-01-13T10:46:28.129Z"
   },
   {
    "duration": 283,
    "start_time": "2022-01-13T10:47:43.448Z"
   },
   {
    "duration": 8470,
    "start_time": "2022-01-13T10:50:09.962Z"
   },
   {
    "duration": 4,
    "start_time": "2022-01-13T10:50:18.536Z"
   },
   {
    "duration": 8269,
    "start_time": "2022-01-13T10:50:20.055Z"
   },
   {
    "duration": 7046,
    "start_time": "2022-01-13T10:50:31.089Z"
   },
   {
    "duration": 388,
    "start_time": "2022-01-13T10:51:05.511Z"
   },
   {
    "duration": 384,
    "start_time": "2022-01-13T10:51:18.869Z"
   },
   {
    "duration": 345,
    "start_time": "2022-01-13T10:51:28.052Z"
   },
   {
    "duration": 333,
    "start_time": "2022-01-13T10:53:53.193Z"
   },
   {
    "duration": 15,
    "start_time": "2022-01-13T10:58:01.401Z"
   },
   {
    "duration": 58,
    "start_time": "2022-01-13T10:58:08.472Z"
   },
   {
    "duration": 316,
    "start_time": "2022-01-13T11:03:52.247Z"
   },
   {
    "duration": 300,
    "start_time": "2022-01-13T11:04:04.180Z"
   },
   {
    "duration": 30,
    "start_time": "2022-01-13T11:05:13.779Z"
   },
   {
    "duration": 18,
    "start_time": "2022-01-13T11:05:28.074Z"
   },
   {
    "duration": 24,
    "start_time": "2022-01-13T11:07:04.818Z"
   },
   {
    "duration": 21,
    "start_time": "2022-01-13T11:07:05.569Z"
   },
   {
    "duration": 18,
    "start_time": "2022-01-13T11:08:09.963Z"
   },
   {
    "duration": 18,
    "start_time": "2022-01-13T11:08:37.373Z"
   },
   {
    "duration": 11,
    "start_time": "2022-01-13T11:09:53.943Z"
   },
   {
    "duration": 285,
    "start_time": "2022-01-13T11:10:50.569Z"
   },
   {
    "duration": 518,
    "start_time": "2022-01-13T11:11:11.097Z"
   },
   {
    "duration": 678,
    "start_time": "2022-01-13T11:11:23.303Z"
   },
   {
    "duration": 797,
    "start_time": "2022-01-13T11:11:52.146Z"
   },
   {
    "duration": 225,
    "start_time": "2022-01-13T11:12:01.504Z"
   },
   {
    "duration": 213,
    "start_time": "2022-01-13T11:12:27.655Z"
   },
   {
    "duration": 211,
    "start_time": "2022-01-13T11:12:32.826Z"
   },
   {
    "duration": 202,
    "start_time": "2022-01-13T11:12:43.659Z"
   },
   {
    "duration": 302,
    "start_time": "2022-01-13T11:13:22.542Z"
   },
   {
    "duration": 2401,
    "start_time": "2022-01-13T11:16:07.624Z"
   },
   {
    "duration": 1850,
    "start_time": "2022-01-13T11:16:38.427Z"
   },
   {
    "duration": 12,
    "start_time": "2022-01-13T11:20:02.891Z"
   },
   {
    "duration": 359,
    "start_time": "2022-01-13T11:20:36.700Z"
   },
   {
    "duration": 11,
    "start_time": "2022-01-13T11:21:41.509Z"
   },
   {
    "duration": 214,
    "start_time": "2022-01-13T11:22:00.640Z"
   },
   {
    "duration": 226,
    "start_time": "2022-01-13T11:22:11.618Z"
   },
   {
    "duration": 227,
    "start_time": "2022-01-13T11:22:23.740Z"
   },
   {
    "duration": 225,
    "start_time": "2022-01-13T11:23:36.045Z"
   },
   {
    "duration": 206,
    "start_time": "2022-01-13T11:23:45.819Z"
   },
   {
    "duration": 539,
    "start_time": "2022-01-13T11:25:17.268Z"
   },
   {
    "duration": 228,
    "start_time": "2022-01-13T11:25:30.324Z"
   },
   {
    "duration": 8304,
    "start_time": "2022-01-13T11:28:48.154Z"
   },
   {
    "duration": 3724,
    "start_time": "2022-01-13T11:29:24.039Z"
   },
   {
    "duration": 2813,
    "start_time": "2022-01-13T11:29:30.559Z"
   },
   {
    "duration": 4455,
    "start_time": "2022-01-13T11:29:35.907Z"
   },
   {
    "duration": 639,
    "start_time": "2022-01-13T11:29:54.508Z"
   },
   {
    "duration": 815,
    "start_time": "2022-01-13T11:30:03.816Z"
   },
   {
    "duration": 2582,
    "start_time": "2022-01-13T11:30:18.335Z"
   },
   {
    "duration": 2425,
    "start_time": "2022-01-13T11:30:40.655Z"
   },
   {
    "duration": 2883,
    "start_time": "2022-01-13T11:30:56.822Z"
   },
   {
    "duration": 2623,
    "start_time": "2022-01-13T11:31:14.606Z"
   },
   {
    "duration": 1767,
    "start_time": "2022-01-13T11:32:27.003Z"
   },
   {
    "duration": 1430,
    "start_time": "2022-01-13T11:33:25.187Z"
   },
   {
    "duration": 1405,
    "start_time": "2022-01-13T11:33:39.623Z"
   },
   {
    "duration": 1592,
    "start_time": "2022-01-13T11:33:48.657Z"
   },
   {
    "duration": 1575,
    "start_time": "2022-01-13T11:33:55.761Z"
   },
   {
    "duration": 286,
    "start_time": "2022-01-13T11:36:40.076Z"
   },
   {
    "duration": 313,
    "start_time": "2022-01-13T11:38:32.173Z"
   },
   {
    "duration": 324,
    "start_time": "2022-01-13T11:39:05.304Z"
   },
   {
    "duration": 292,
    "start_time": "2022-01-13T11:39:20.252Z"
   },
   {
    "duration": 310,
    "start_time": "2022-01-13T11:39:38.041Z"
   },
   {
    "duration": 316,
    "start_time": "2022-01-13T11:39:53.474Z"
   },
   {
    "duration": 295,
    "start_time": "2022-01-13T11:40:16.156Z"
   },
   {
    "duration": 283,
    "start_time": "2022-01-13T11:44:25.962Z"
   },
   {
    "duration": 307,
    "start_time": "2022-01-13T11:47:03.266Z"
   },
   {
    "duration": 302,
    "start_time": "2022-01-13T11:47:45.325Z"
   },
   {
    "duration": 423,
    "start_time": "2022-01-13T11:48:24.538Z"
   },
   {
    "duration": 287,
    "start_time": "2022-01-13T11:48:59.127Z"
   },
   {
    "duration": 279,
    "start_time": "2022-01-13T11:50:20.598Z"
   },
   {
    "duration": 11,
    "start_time": "2022-01-13T11:50:27.521Z"
   },
   {
    "duration": 296,
    "start_time": "2022-01-13T11:53:13.316Z"
   },
   {
    "duration": 305,
    "start_time": "2022-01-13T11:54:01.704Z"
   },
   {
    "duration": 279,
    "start_time": "2022-01-13T11:54:54.565Z"
   },
   {
    "duration": 430,
    "start_time": "2022-01-13T11:55:02.515Z"
   },
   {
    "duration": 275,
    "start_time": "2022-01-13T11:55:17.771Z"
   },
   {
    "duration": 703,
    "start_time": "2022-01-13T11:55:22.915Z"
   },
   {
    "duration": 2599,
    "start_time": "2022-01-13T11:55:42.653Z"
   },
   {
    "duration": 3186,
    "start_time": "2022-01-13T11:56:25.399Z"
   },
   {
    "duration": 340,
    "start_time": "2022-01-13T11:56:39.443Z"
   },
   {
    "duration": 405,
    "start_time": "2022-01-13T11:57:59.497Z"
   },
   {
    "duration": 33,
    "start_time": "2022-01-13T11:58:29.512Z"
   },
   {
    "duration": 39,
    "start_time": "2022-01-13T11:58:39.453Z"
   },
   {
    "duration": 339,
    "start_time": "2022-01-13T11:58:53.702Z"
   },
   {
    "duration": 276,
    "start_time": "2022-01-13T11:59:00.441Z"
   },
   {
    "duration": 294,
    "start_time": "2022-01-13T11:59:37.732Z"
   },
   {
    "duration": 511,
    "start_time": "2022-01-13T12:01:17.726Z"
   },
   {
    "duration": 320,
    "start_time": "2022-01-13T12:04:26.919Z"
   },
   {
    "duration": 307,
    "start_time": "2022-01-13T12:04:41.793Z"
   },
   {
    "duration": 307,
    "start_time": "2022-01-13T12:05:05.192Z"
   },
   {
    "duration": 302,
    "start_time": "2022-01-13T12:07:48.527Z"
   },
   {
    "duration": 295,
    "start_time": "2022-01-13T12:24:08.498Z"
   },
   {
    "duration": 943,
    "start_time": "2022-01-15T11:11:26.154Z"
   },
   {
    "duration": 49,
    "start_time": "2022-01-15T11:11:27.100Z"
   },
   {
    "duration": 16,
    "start_time": "2022-01-15T11:11:27.153Z"
   },
   {
    "duration": 14,
    "start_time": "2022-01-15T11:11:27.172Z"
   },
   {
    "duration": 139,
    "start_time": "2022-01-15T11:11:27.188Z"
   },
   {
    "duration": 11,
    "start_time": "2022-01-15T11:11:27.330Z"
   },
   {
    "duration": 8,
    "start_time": "2022-01-15T11:11:27.344Z"
   },
   {
    "duration": 9,
    "start_time": "2022-01-15T11:11:27.355Z"
   },
   {
    "duration": 371,
    "start_time": "2022-01-15T11:11:27.368Z"
   },
   {
    "duration": 24,
    "start_time": "2022-01-15T11:11:27.742Z"
   },
   {
    "duration": 12,
    "start_time": "2022-01-15T11:11:27.768Z"
   },
   {
    "duration": 39,
    "start_time": "2022-01-15T11:11:27.783Z"
   },
   {
    "duration": 29,
    "start_time": "2022-01-15T11:11:27.825Z"
   },
   {
    "duration": 14,
    "start_time": "2022-01-15T11:11:27.857Z"
   },
   {
    "duration": 8,
    "start_time": "2022-01-15T11:11:27.874Z"
   },
   {
    "duration": 47,
    "start_time": "2022-01-15T11:11:27.884Z"
   },
   {
    "duration": 41,
    "start_time": "2022-01-15T11:11:27.933Z"
   },
   {
    "duration": 5,
    "start_time": "2022-01-15T11:11:27.976Z"
   },
   {
    "duration": 88,
    "start_time": "2022-01-15T11:11:27.984Z"
   },
   {
    "duration": 10,
    "start_time": "2022-01-15T11:11:28.074Z"
   },
   {
    "duration": 8,
    "start_time": "2022-01-15T11:11:28.087Z"
   },
   {
    "duration": 32,
    "start_time": "2022-01-15T11:11:28.097Z"
   },
   {
    "duration": 6,
    "start_time": "2022-01-15T11:11:28.136Z"
   },
   {
    "duration": 100,
    "start_time": "2022-01-15T11:11:28.146Z"
   },
   {
    "duration": 7,
    "start_time": "2022-01-15T11:11:28.249Z"
   },
   {
    "duration": 6,
    "start_time": "2022-01-15T11:11:28.259Z"
   },
   {
    "duration": 10,
    "start_time": "2022-01-15T11:11:28.267Z"
   },
   {
    "duration": 45,
    "start_time": "2022-01-15T11:11:28.280Z"
   },
   {
    "duration": 8,
    "start_time": "2022-01-15T11:11:28.327Z"
   },
   {
    "duration": 7,
    "start_time": "2022-01-15T11:11:28.338Z"
   },
   {
    "duration": 11,
    "start_time": "2022-01-15T11:11:28.348Z"
   },
   {
    "duration": 756,
    "start_time": "2022-01-15T11:11:28.361Z"
   },
   {
    "duration": 15,
    "start_time": "2022-01-15T11:11:29.120Z"
   },
   {
    "duration": 21,
    "start_time": "2022-01-15T11:11:29.137Z"
   },
   {
    "duration": 13,
    "start_time": "2022-01-15T11:11:29.161Z"
   },
   {
    "duration": 49,
    "start_time": "2022-01-15T11:11:29.177Z"
   },
   {
    "duration": 6,
    "start_time": "2022-01-15T11:11:29.229Z"
   },
   {
    "duration": 8,
    "start_time": "2022-01-15T11:11:29.238Z"
   },
   {
    "duration": 16,
    "start_time": "2022-01-15T11:11:29.248Z"
   },
   {
    "duration": 9,
    "start_time": "2022-01-15T11:11:29.266Z"
   },
   {
    "duration": 6,
    "start_time": "2022-01-15T11:11:29.277Z"
   },
   {
    "duration": 7,
    "start_time": "2022-01-15T11:11:29.324Z"
   },
   {
    "duration": 12,
    "start_time": "2022-01-15T11:11:29.334Z"
   },
   {
    "duration": 22,
    "start_time": "2022-01-15T11:11:29.348Z"
   },
   {
    "duration": 3,
    "start_time": "2022-01-15T11:11:29.373Z"
   },
   {
    "duration": 824,
    "start_time": "2022-01-15T11:11:29.379Z"
   },
   {
    "duration": 17,
    "start_time": "2022-01-15T11:11:30.206Z"
   },
   {
    "duration": 17,
    "start_time": "2022-01-15T11:11:30.226Z"
   },
   {
    "duration": 517,
    "start_time": "2022-01-15T11:11:30.246Z"
   },
   {
    "duration": 630,
    "start_time": "2022-01-15T11:11:30.765Z"
   },
   {
    "duration": 458,
    "start_time": "2022-01-15T11:11:31.397Z"
   },
   {
    "duration": 390,
    "start_time": "2022-01-15T11:11:31.857Z"
   },
   {
    "duration": 676,
    "start_time": "2022-01-15T11:11:32.250Z"
   },
   {
    "duration": 290,
    "start_time": "2022-01-15T11:11:32.929Z"
   },
   {
    "duration": 12,
    "start_time": "2022-01-15T11:11:33.224Z"
   },
   {
    "duration": 11,
    "start_time": "2022-01-15T11:11:33.239Z"
   },
   {
    "duration": 17,
    "start_time": "2022-01-15T11:11:33.252Z"
   },
   {
    "duration": 226,
    "start_time": "2022-01-15T11:11:33.272Z"
   },
   {
    "duration": 9,
    "start_time": "2022-01-15T11:11:33.501Z"
   },
   {
    "duration": 621,
    "start_time": "2022-01-15T11:11:33.524Z"
   },
   {
    "duration": 36,
    "start_time": "2022-01-15T11:11:34.148Z"
   },
   {
    "duration": 324,
    "start_time": "2022-01-15T11:11:34.188Z"
   },
   {
    "duration": 29,
    "start_time": "2022-01-15T11:11:34.514Z"
   },
   {
    "duration": 4,
    "start_time": "2022-01-15T11:11:34.545Z"
   },
   {
    "duration": 13,
    "start_time": "2022-01-15T11:11:34.551Z"
   },
   {
    "duration": 323,
    "start_time": "2022-01-15T11:11:34.567Z"
   },
   {
    "duration": 31,
    "start_time": "2022-01-15T11:11:34.892Z"
   },
   {
    "duration": 2696,
    "start_time": "2022-01-15T11:11:34.932Z"
   },
   {
    "duration": 735,
    "start_time": "2022-01-15T11:11:37.633Z"
   },
   {
    "duration": 281,
    "start_time": "2022-01-15T11:11:38.371Z"
   },
   {
    "duration": 9,
    "start_time": "2022-01-15T11:11:38.654Z"
   },
   {
    "duration": 325,
    "start_time": "2022-01-15T11:11:38.665Z"
   },
   {
    "duration": 321,
    "start_time": "2022-01-15T11:11:38.992Z"
   },
   {
    "duration": 312,
    "start_time": "2022-01-15T11:11:39.323Z"
   },
   {
    "duration": 25,
    "start_time": "2022-01-15T11:11:39.638Z"
   },
   {
    "duration": 3,
    "start_time": "2022-01-15T11:11:39.665Z"
   },
   {
    "duration": 7,
    "start_time": "2022-01-15T11:11:39.671Z"
   },
   {
    "duration": 11,
    "start_time": "2022-01-15T11:11:39.680Z"
   },
   {
    "duration": 5,
    "start_time": "2022-01-15T11:11:39.723Z"
   },
   {
    "duration": 12,
    "start_time": "2022-01-15T11:11:39.731Z"
   },
   {
    "duration": 11,
    "start_time": "2022-01-15T11:11:39.747Z"
   },
   {
    "duration": 7,
    "start_time": "2022-01-15T11:11:39.760Z"
   },
   {
    "duration": 71,
    "start_time": "2022-01-15T11:11:39.769Z"
   },
   {
    "duration": 4,
    "start_time": "2022-01-15T11:11:39.843Z"
   },
   {
    "duration": 348,
    "start_time": "2022-01-15T11:11:39.850Z"
   },
   {
    "duration": 349,
    "start_time": "2022-01-15T11:11:40.201Z"
   },
   {
    "duration": 12,
    "start_time": "2022-01-15T11:11:40.552Z"
   },
   {
    "duration": 21,
    "start_time": "2022-01-15T11:11:40.567Z"
   },
   {
    "duration": 41,
    "start_time": "2022-01-15T11:11:40.590Z"
   },
   {
    "duration": 10,
    "start_time": "2022-01-15T11:11:40.634Z"
   },
   {
    "duration": 230,
    "start_time": "2022-01-15T11:11:40.647Z"
   },
   {
    "duration": 11,
    "start_time": "2022-01-15T11:11:40.880Z"
   },
   {
    "duration": 338,
    "start_time": "2022-01-15T11:11:40.894Z"
   },
   {
    "duration": 12,
    "start_time": "2022-01-15T11:11:41.234Z"
   },
   {
    "duration": 260,
    "start_time": "2022-01-15T11:11:41.248Z"
   },
   {
    "duration": 207,
    "start_time": "2022-01-15T11:11:41.510Z"
   },
   {
    "duration": 219,
    "start_time": "2022-01-15T11:11:41.723Z"
   },
   {
    "duration": 2871,
    "start_time": "2022-01-15T11:11:41.944Z"
   },
   {
    "duration": 309,
    "start_time": "2022-01-15T11:11:44.817Z"
   },
   {
    "duration": 3,
    "start_time": "2022-01-15T11:11:45.128Z"
   },
   {
    "duration": 302,
    "start_time": "2022-01-15T11:11:45.133Z"
   },
   {
    "duration": 313,
    "start_time": "2022-01-15T11:11:45.438Z"
   },
   {
    "duration": 14,
    "start_time": "2022-01-15T11:11:45.753Z"
   },
   {
    "duration": 287,
    "start_time": "2022-01-15T11:11:45.773Z"
   },
   {
    "duration": 296,
    "start_time": "2022-01-15T11:11:46.062Z"
   },
   {
    "duration": 512,
    "start_time": "2022-01-15T11:11:46.360Z"
   },
   {
    "duration": 424,
    "start_time": "2022-01-15T11:11:46.874Z"
   },
   {
    "duration": 310,
    "start_time": "2022-01-15T11:11:47.301Z"
   },
   {
    "duration": 321,
    "start_time": "2022-01-15T19:22:25.740Z"
   },
   {
    "duration": 1007,
    "start_time": "2022-01-15T19:22:31.643Z"
   },
   {
    "duration": 49,
    "start_time": "2022-01-15T19:22:32.653Z"
   },
   {
    "duration": 17,
    "start_time": "2022-01-15T19:22:32.718Z"
   },
   {
    "duration": 14,
    "start_time": "2022-01-15T19:22:32.739Z"
   },
   {
    "duration": 146,
    "start_time": "2022-01-15T19:22:32.756Z"
   },
   {
    "duration": 353,
    "start_time": "2022-01-15T19:22:32.905Z"
   },
   {
    "duration": -919,
    "start_time": "2022-01-15T19:22:34.185Z"
   },
   {
    "duration": -932,
    "start_time": "2022-01-15T19:22:34.199Z"
   },
   {
    "duration": -948,
    "start_time": "2022-01-15T19:22:34.217Z"
   },
   {
    "duration": -996,
    "start_time": "2022-01-15T19:22:34.267Z"
   },
   {
    "duration": -1041,
    "start_time": "2022-01-15T19:22:34.313Z"
   },
   {
    "duration": -1050,
    "start_time": "2022-01-15T19:22:34.324Z"
   },
   {
    "duration": -1069,
    "start_time": "2022-01-15T19:22:34.344Z"
   },
   {
    "duration": -1080,
    "start_time": "2022-01-15T19:22:34.357Z"
   },
   {
    "duration": -1086,
    "start_time": "2022-01-15T19:22:34.364Z"
   },
   {
    "duration": -1092,
    "start_time": "2022-01-15T19:22:34.372Z"
   },
   {
    "duration": -1109,
    "start_time": "2022-01-15T19:22:34.391Z"
   },
   {
    "duration": -1118,
    "start_time": "2022-01-15T19:22:34.401Z"
   },
   {
    "duration": -1134,
    "start_time": "2022-01-15T19:22:34.419Z"
   },
   {
    "duration": -1149,
    "start_time": "2022-01-15T19:22:34.435Z"
   },
   {
    "duration": -1164,
    "start_time": "2022-01-15T19:22:34.451Z"
   },
   {
    "duration": -1173,
    "start_time": "2022-01-15T19:22:34.462Z"
   },
   {
    "duration": -1185,
    "start_time": "2022-01-15T19:22:34.475Z"
   },
   {
    "duration": -1198,
    "start_time": "2022-01-15T19:22:34.490Z"
   },
   {
    "duration": -1209,
    "start_time": "2022-01-15T19:22:34.502Z"
   },
   {
    "duration": -1220,
    "start_time": "2022-01-15T19:22:34.515Z"
   },
   {
    "duration": -1226,
    "start_time": "2022-01-15T19:22:34.522Z"
   },
   {
    "duration": -1238,
    "start_time": "2022-01-15T19:22:34.535Z"
   },
   {
    "duration": -1249,
    "start_time": "2022-01-15T19:22:34.548Z"
   },
   {
    "duration": -1254,
    "start_time": "2022-01-15T19:22:34.554Z"
   },
   {
    "duration": -1250,
    "start_time": "2022-01-15T19:22:34.567Z"
   },
   {
    "duration": -1287,
    "start_time": "2022-01-15T19:22:34.606Z"
   },
   {
    "duration": -1327,
    "start_time": "2022-01-15T19:22:34.648Z"
   },
   {
    "duration": -1330,
    "start_time": "2022-01-15T19:22:34.654Z"
   },
   {
    "duration": -1341,
    "start_time": "2022-01-15T19:22:34.666Z"
   },
   {
    "duration": -1345,
    "start_time": "2022-01-15T19:22:34.672Z"
   },
   {
    "duration": -1377,
    "start_time": "2022-01-15T19:22:34.706Z"
   },
   {
    "duration": -1386,
    "start_time": "2022-01-15T19:22:34.717Z"
   },
   {
    "duration": -1419,
    "start_time": "2022-01-15T19:22:34.752Z"
   },
   {
    "duration": -1429,
    "start_time": "2022-01-15T19:22:34.764Z"
   },
   {
    "duration": -1460,
    "start_time": "2022-01-15T19:22:34.797Z"
   },
   {
    "duration": -1496,
    "start_time": "2022-01-15T19:22:34.835Z"
   },
   {
    "duration": -1506,
    "start_time": "2022-01-15T19:22:34.847Z"
   },
   {
    "duration": -1539,
    "start_time": "2022-01-15T19:22:34.881Z"
   },
   {
    "duration": -1573,
    "start_time": "2022-01-15T19:22:34.917Z"
   },
   {
    "duration": -1580,
    "start_time": "2022-01-15T19:22:34.926Z"
   },
   {
    "duration": -1615,
    "start_time": "2022-01-15T19:22:34.963Z"
   },
   {
    "duration": -1647,
    "start_time": "2022-01-15T19:22:34.997Z"
   },
   {
    "duration": -1651,
    "start_time": "2022-01-15T19:22:35.003Z"
   },
   {
    "duration": -1661,
    "start_time": "2022-01-15T19:22:35.015Z"
   },
   {
    "duration": -1696,
    "start_time": "2022-01-15T19:22:35.051Z"
   },
   {
    "duration": -1702,
    "start_time": "2022-01-15T19:22:35.059Z"
   },
   {
    "duration": -1650,
    "start_time": "2022-01-15T19:22:35.068Z"
   },
   {
    "duration": -1658,
    "start_time": "2022-01-15T19:22:35.078Z"
   },
   {
    "duration": -1693,
    "start_time": "2022-01-15T19:22:35.114Z"
   },
   {
    "duration": -1725,
    "start_time": "2022-01-15T19:22:35.147Z"
   },
   {
    "duration": -1758,
    "start_time": "2022-01-15T19:22:35.182Z"
   },
   {
    "duration": -1792,
    "start_time": "2022-01-15T19:22:35.217Z"
   },
   {
    "duration": -1800,
    "start_time": "2022-01-15T19:22:35.226Z"
   },
   {
    "duration": -1832,
    "start_time": "2022-01-15T19:22:35.260Z"
   },
   {
    "duration": -1868,
    "start_time": "2022-01-15T19:22:35.297Z"
   },
   {
    "duration": -1872,
    "start_time": "2022-01-15T19:22:35.303Z"
   },
   {
    "duration": -1898,
    "start_time": "2022-01-15T19:22:35.331Z"
   },
   {
    "duration": -1916,
    "start_time": "2022-01-15T19:22:35.350Z"
   },
   {
    "duration": -1922,
    "start_time": "2022-01-15T19:22:35.358Z"
   },
   {
    "duration": -1936,
    "start_time": "2022-01-15T19:22:35.374Z"
   },
   {
    "duration": -1957,
    "start_time": "2022-01-15T19:22:35.396Z"
   },
   {
    "duration": -1965,
    "start_time": "2022-01-15T19:22:35.405Z"
   },
   {
    "duration": -1979,
    "start_time": "2022-01-15T19:22:35.421Z"
   },
   {
    "duration": -1993,
    "start_time": "2022-01-15T19:22:35.436Z"
   },
   {
    "duration": -2003,
    "start_time": "2022-01-15T19:22:35.448Z"
   },
   {
    "duration": -2007,
    "start_time": "2022-01-15T19:22:35.453Z"
   },
   {
    "duration": -2020,
    "start_time": "2022-01-15T19:22:35.467Z"
   },
   {
    "duration": -2027,
    "start_time": "2022-01-15T19:22:35.476Z"
   },
   {
    "duration": -2037,
    "start_time": "2022-01-15T19:22:35.487Z"
   },
   {
    "duration": -2050,
    "start_time": "2022-01-15T19:22:35.501Z"
   },
   {
    "duration": -2062,
    "start_time": "2022-01-15T19:22:35.515Z"
   },
   {
    "duration": -2068,
    "start_time": "2022-01-15T19:22:35.522Z"
   },
   {
    "duration": -2079,
    "start_time": "2022-01-15T19:22:35.534Z"
   },
   {
    "duration": -2030,
    "start_time": "2022-01-15T19:22:35.546Z"
   },
   {
    "duration": -2036,
    "start_time": "2022-01-15T19:22:35.554Z"
   },
   {
    "duration": -2085,
    "start_time": "2022-01-15T19:22:35.604Z"
   },
   {
    "duration": -2095,
    "start_time": "2022-01-15T19:22:35.616Z"
   },
   {
    "duration": -2132,
    "start_time": "2022-01-15T19:22:35.654Z"
   },
   {
    "duration": -2141,
    "start_time": "2022-01-15T19:22:35.665Z"
   },
   {
    "duration": -2177,
    "start_time": "2022-01-15T19:22:35.702Z"
   },
   {
    "duration": -2186,
    "start_time": "2022-01-15T19:22:35.713Z"
   },
   {
    "duration": -2220,
    "start_time": "2022-01-15T19:22:35.748Z"
   },
   {
    "duration": -2225,
    "start_time": "2022-01-15T19:22:35.755Z"
   },
   {
    "duration": -2234,
    "start_time": "2022-01-15T19:22:35.765Z"
   },
   {
    "duration": -2274,
    "start_time": "2022-01-15T19:22:35.807Z"
   },
   {
    "duration": -2284,
    "start_time": "2022-01-15T19:22:35.819Z"
   },
   {
    "duration": -2328,
    "start_time": "2022-01-15T19:22:35.864Z"
   },
   {
    "duration": -2364,
    "start_time": "2022-01-15T19:22:35.901Z"
   },
   {
    "duration": -2374,
    "start_time": "2022-01-15T19:22:35.913Z"
   },
   {
    "duration": -2407,
    "start_time": "2022-01-15T19:22:35.947Z"
   },
   {
    "duration": -2442,
    "start_time": "2022-01-15T19:22:35.984Z"
   },
   {
    "duration": -2450,
    "start_time": "2022-01-15T19:22:35.993Z"
   },
   {
    "duration": -2486,
    "start_time": "2022-01-15T19:22:36.031Z"
   },
   {
    "duration": -2539,
    "start_time": "2022-01-15T19:22:36.085Z"
   },
   {
    "duration": -2601,
    "start_time": "2022-01-15T19:22:36.149Z"
   },
   {
    "duration": -2609,
    "start_time": "2022-01-15T19:22:36.158Z"
   },
   {
    "duration": -2619,
    "start_time": "2022-01-15T19:22:36.169Z"
   },
   {
    "duration": -2634,
    "start_time": "2022-01-15T19:22:36.186Z"
   },
   {
    "duration": -2648,
    "start_time": "2022-01-15T19:22:36.201Z"
   },
   {
    "duration": -2656,
    "start_time": "2022-01-15T19:22:36.210Z"
   },
   {
    "duration": -2672,
    "start_time": "2022-01-15T19:22:36.227Z"
   },
   {
    "duration": -2622,
    "start_time": "2022-01-15T19:22:36.238Z"
   },
   {
    "duration": -2636,
    "start_time": "2022-01-15T19:22:36.254Z"
   },
   {
    "duration": 35,
    "start_time": "2022-01-15T19:24:25.874Z"
   },
   {
    "duration": 33,
    "start_time": "2022-01-15T19:24:50.146Z"
   },
   {
    "duration": 104,
    "start_time": "2022-01-15T19:25:16.533Z"
   },
   {
    "duration": 33,
    "start_time": "2022-01-15T19:25:32.181Z"
   },
   {
    "duration": 241,
    "start_time": "2022-01-15T19:25:55.279Z"
   },
   {
    "duration": 588,
    "start_time": "2022-01-15T19:37:12.814Z"
   },
   {
    "duration": 615,
    "start_time": "2022-01-15T19:37:37.366Z"
   },
   {
    "duration": 96,
    "start_time": "2022-01-15T19:38:01.193Z"
   },
   {
    "duration": 73,
    "start_time": "2022-01-15T19:38:01.292Z"
   },
   {
    "duration": 15,
    "start_time": "2022-01-15T19:38:01.368Z"
   },
   {
    "duration": 13,
    "start_time": "2022-01-15T19:38:01.417Z"
   },
   {
    "duration": 152,
    "start_time": "2022-01-15T19:38:01.432Z"
   },
   {
    "duration": 37,
    "start_time": "2022-01-15T19:38:01.587Z"
   },
   {
    "duration": 9,
    "start_time": "2022-01-15T19:38:01.627Z"
   },
   {
    "duration": 22,
    "start_time": "2022-01-15T19:38:01.640Z"
   },
   {
    "duration": 641,
    "start_time": "2022-01-15T19:38:01.665Z"
   },
   {
    "duration": -760,
    "start_time": "2022-01-15T19:38:03.131Z"
   },
   {
    "duration": -999,
    "start_time": "2022-01-15T19:38:03.371Z"
   },
   {
    "duration": -1012,
    "start_time": "2022-01-15T19:38:03.385Z"
   },
   {
    "duration": -1022,
    "start_time": "2022-01-15T19:38:03.397Z"
   },
   {
    "duration": -1028,
    "start_time": "2022-01-15T19:38:03.404Z"
   },
   {
    "duration": -1038,
    "start_time": "2022-01-15T19:38:03.415Z"
   },
   {
    "duration": -1050,
    "start_time": "2022-01-15T19:38:03.428Z"
   },
   {
    "duration": -1055,
    "start_time": "2022-01-15T19:38:03.435Z"
   },
   {
    "duration": -1066,
    "start_time": "2022-01-15T19:38:03.447Z"
   },
   {
    "duration": -1249,
    "start_time": "2022-01-15T19:38:03.631Z"
   },
   {
    "duration": -1254,
    "start_time": "2022-01-15T19:38:03.638Z"
   },
   {
    "duration": -1295,
    "start_time": "2022-01-15T19:38:03.680Z"
   },
   {
    "duration": -1304,
    "start_time": "2022-01-15T19:38:03.690Z"
   },
   {
    "duration": -1330,
    "start_time": "2022-01-15T19:38:03.718Z"
   },
   {
    "duration": -1365,
    "start_time": "2022-01-15T19:38:03.754Z"
   },
   {
    "duration": -1395,
    "start_time": "2022-01-15T19:38:03.785Z"
   },
   {
    "duration": -1378,
    "start_time": "2022-01-15T19:38:03.795Z"
   },
   {
    "duration": -1383,
    "start_time": "2022-01-15T19:38:03.801Z"
   },
   {
    "duration": -1388,
    "start_time": "2022-01-15T19:38:03.808Z"
   },
   {
    "duration": -1393,
    "start_time": "2022-01-15T19:38:03.814Z"
   },
   {
    "duration": -1399,
    "start_time": "2022-01-15T19:38:03.822Z"
   },
   {
    "duration": -1404,
    "start_time": "2022-01-15T19:38:03.828Z"
   },
   {
    "duration": -1410,
    "start_time": "2022-01-15T19:38:03.835Z"
   },
   {
    "duration": -1414,
    "start_time": "2022-01-15T19:38:03.841Z"
   },
   {
    "duration": -1420,
    "start_time": "2022-01-15T19:38:03.848Z"
   },
   {
    "duration": -1425,
    "start_time": "2022-01-15T19:38:03.855Z"
   },
   {
    "duration": -1431,
    "start_time": "2022-01-15T19:38:03.862Z"
   },
   {
    "duration": -1435,
    "start_time": "2022-01-15T19:38:03.868Z"
   },
   {
    "duration": -1440,
    "start_time": "2022-01-15T19:38:03.874Z"
   },
   {
    "duration": -1444,
    "start_time": "2022-01-15T19:38:03.879Z"
   },
   {
    "duration": -1462,
    "start_time": "2022-01-15T19:38:03.899Z"
   },
   {
    "duration": -1472,
    "start_time": "2022-01-15T19:38:03.910Z"
   },
   {
    "duration": -1477,
    "start_time": "2022-01-15T19:38:03.917Z"
   },
   {
    "duration": -1490,
    "start_time": "2022-01-15T19:38:03.931Z"
   },
   {
    "duration": -1505,
    "start_time": "2022-01-15T19:38:03.948Z"
   },
   {
    "duration": -1510,
    "start_time": "2022-01-15T19:38:03.954Z"
   },
   {
    "duration": -1523,
    "start_time": "2022-01-15T19:38:03.968Z"
   },
   {
    "duration": -1534,
    "start_time": "2022-01-15T19:38:03.981Z"
   },
   {
    "duration": -1540,
    "start_time": "2022-01-15T19:38:03.988Z"
   },
   {
    "duration": -1550,
    "start_time": "2022-01-15T19:38:04.000Z"
   },
   {
    "duration": -1597,
    "start_time": "2022-01-15T19:38:04.048Z"
   },
   {
    "duration": -1603,
    "start_time": "2022-01-15T19:38:04.056Z"
   },
   {
    "duration": -1614,
    "start_time": "2022-01-15T19:38:04.068Z"
   },
   {
    "duration": -1564,
    "start_time": "2022-01-15T19:38:04.081Z"
   },
   {
    "duration": -1576,
    "start_time": "2022-01-15T19:38:04.094Z"
   },
   {
    "duration": -1580,
    "start_time": "2022-01-15T19:38:04.100Z"
   },
   {
    "duration": -1592,
    "start_time": "2022-01-15T19:38:04.113Z"
   },
   {
    "duration": -1595,
    "start_time": "2022-01-15T19:38:04.118Z"
   },
   {
    "duration": -1606,
    "start_time": "2022-01-15T19:38:04.130Z"
   },
   {
    "duration": -1612,
    "start_time": "2022-01-15T19:38:04.137Z"
   },
   {
    "duration": -1661,
    "start_time": "2022-01-15T19:38:04.188Z"
   },
   {
    "duration": -1672,
    "start_time": "2022-01-15T19:38:04.201Z"
   },
   {
    "duration": -1714,
    "start_time": "2022-01-15T19:38:04.244Z"
   },
   {
    "duration": -1719,
    "start_time": "2022-01-15T19:38:04.250Z"
   },
   {
    "duration": -1730,
    "start_time": "2022-01-15T19:38:04.263Z"
   },
   {
    "duration": -1734,
    "start_time": "2022-01-15T19:38:04.268Z"
   },
   {
    "duration": -1776,
    "start_time": "2022-01-15T19:38:04.311Z"
   },
   {
    "duration": -1780,
    "start_time": "2022-01-15T19:38:04.317Z"
   },
   {
    "duration": -1826,
    "start_time": "2022-01-15T19:38:04.364Z"
   },
   {
    "duration": -1830,
    "start_time": "2022-01-15T19:38:04.370Z"
   },
   {
    "duration": -1874,
    "start_time": "2022-01-15T19:38:04.415Z"
   },
   {
    "duration": -1879,
    "start_time": "2022-01-15T19:38:04.422Z"
   },
   {
    "duration": -1914,
    "start_time": "2022-01-15T19:38:04.458Z"
   },
   {
    "duration": -1951,
    "start_time": "2022-01-15T19:38:04.496Z"
   },
   {
    "duration": -1958,
    "start_time": "2022-01-15T19:38:04.505Z"
   },
   {
    "duration": -1966,
    "start_time": "2022-01-15T19:38:04.514Z"
   },
   {
    "duration": -1972,
    "start_time": "2022-01-15T19:38:04.522Z"
   },
   {
    "duration": -1985,
    "start_time": "2022-01-15T19:38:04.536Z"
   },
   {
    "duration": -1996,
    "start_time": "2022-01-15T19:38:04.549Z"
   },
   {
    "duration": -2008,
    "start_time": "2022-01-15T19:38:04.563Z"
   },
   {
    "duration": -1952,
    "start_time": "2022-01-15T19:38:04.569Z"
   },
   {
    "duration": -1958,
    "start_time": "2022-01-15T19:38:04.577Z"
   },
   {
    "duration": -1963,
    "start_time": "2022-01-15T19:38:04.583Z"
   },
   {
    "duration": -1973,
    "start_time": "2022-01-15T19:38:04.594Z"
   },
   {
    "duration": -1980,
    "start_time": "2022-01-15T19:38:04.602Z"
   },
   {
    "duration": -1985,
    "start_time": "2022-01-15T19:38:04.609Z"
   },
   {
    "duration": -1993,
    "start_time": "2022-01-15T19:38:04.618Z"
   },
   {
    "duration": -2000,
    "start_time": "2022-01-15T19:38:04.626Z"
   },
   {
    "duration": -2008,
    "start_time": "2022-01-15T19:38:04.635Z"
   },
   {
    "duration": -2012,
    "start_time": "2022-01-15T19:38:04.641Z"
   },
   {
    "duration": -2025,
    "start_time": "2022-01-15T19:38:04.655Z"
   },
   {
    "duration": -2034,
    "start_time": "2022-01-15T19:38:04.665Z"
   },
   {
    "duration": -2043,
    "start_time": "2022-01-15T19:38:04.675Z"
   },
   {
    "duration": -2051,
    "start_time": "2022-01-15T19:38:04.685Z"
   },
   {
    "duration": -2061,
    "start_time": "2022-01-15T19:38:04.696Z"
   },
   {
    "duration": -2064,
    "start_time": "2022-01-15T19:38:04.701Z"
   },
   {
    "duration": -2074,
    "start_time": "2022-01-15T19:38:04.712Z"
   },
   {
    "duration": -2080,
    "start_time": "2022-01-15T19:38:04.720Z"
   },
   {
    "duration": -2090,
    "start_time": "2022-01-15T19:38:04.732Z"
   },
   {
    "duration": -2098,
    "start_time": "2022-01-15T19:38:04.741Z"
   },
   {
    "duration": -2105,
    "start_time": "2022-01-15T19:38:04.750Z"
   },
   {
    "duration": -2112,
    "start_time": "2022-01-15T19:38:04.758Z"
   },
   {
    "duration": -2142,
    "start_time": "2022-01-15T19:38:04.790Z"
   },
   {
    "duration": -2175,
    "start_time": "2022-01-15T19:38:04.824Z"
   },
   {
    "duration": -2205,
    "start_time": "2022-01-15T19:38:04.856Z"
   },
   {
    "duration": -2239,
    "start_time": "2022-01-15T19:38:04.891Z"
   },
   {
    "duration": -2273,
    "start_time": "2022-01-15T19:38:04.927Z"
   },
   {
    "duration": -2310,
    "start_time": "2022-01-15T19:38:04.965Z"
   },
   {
    "duration": -2257,
    "start_time": "2022-01-15T19:38:04.973Z"
   },
   {
    "duration": 357,
    "start_time": "2022-01-15T19:39:27.511Z"
   },
   {
    "duration": 344,
    "start_time": "2022-01-15T19:39:36.487Z"
   },
   {
    "duration": 615,
    "start_time": "2022-01-15T19:39:51.353Z"
   },
   {
    "duration": 362,
    "start_time": "2022-01-15T19:51:20.754Z"
   },
   {
    "duration": 339,
    "start_time": "2022-01-15T19:52:24.956Z"
   },
   {
    "duration": 611,
    "start_time": "2022-01-15T19:52:38.772Z"
   },
   {
    "duration": 341,
    "start_time": "2022-01-15T19:54:33.376Z"
   },
   {
    "duration": 342,
    "start_time": "2022-01-15T19:56:08.325Z"
   },
   {
    "duration": 360,
    "start_time": "2022-01-15T19:56:24.532Z"
   },
   {
    "duration": 585,
    "start_time": "2022-01-15T19:57:51.021Z"
   },
   {
    "duration": 354,
    "start_time": "2022-01-15T20:03:50.772Z"
   },
   {
    "duration": 64,
    "start_time": "2022-01-16T11:49:06.550Z"
   },
   {
    "duration": 657,
    "start_time": "2022-01-16T11:49:12.014Z"
   },
   {
    "duration": 28,
    "start_time": "2022-01-16T11:49:12.673Z"
   },
   {
    "duration": 9,
    "start_time": "2022-01-16T11:49:12.703Z"
   },
   {
    "duration": 8,
    "start_time": "2022-01-16T11:49:12.714Z"
   },
   {
    "duration": 60,
    "start_time": "2022-01-16T11:49:12.723Z"
   },
   {
    "duration": 29,
    "start_time": "2022-01-16T11:49:12.784Z"
   },
   {
    "duration": 6,
    "start_time": "2022-01-16T11:49:12.814Z"
   },
   {
    "duration": 7,
    "start_time": "2022-01-16T11:49:12.821Z"
   },
   {
    "duration": 67,
    "start_time": "2022-01-16T11:49:12.830Z"
   },
   {
    "duration": 346,
    "start_time": "2022-01-16T11:49:12.555Z"
   },
   {
    "duration": 338,
    "start_time": "2022-01-16T11:49:12.564Z"
   },
   {
    "duration": 331,
    "start_time": "2022-01-16T11:49:12.572Z"
   },
   {
    "duration": 320,
    "start_time": "2022-01-16T11:49:12.584Z"
   },
   {
    "duration": 312,
    "start_time": "2022-01-16T11:49:12.593Z"
   },
   {
    "duration": 300,
    "start_time": "2022-01-16T11:49:12.605Z"
   },
   {
    "duration": 293,
    "start_time": "2022-01-16T11:49:12.613Z"
   },
   {
    "duration": 285,
    "start_time": "2022-01-16T11:49:12.622Z"
   },
   {
    "duration": 272,
    "start_time": "2022-01-16T11:49:12.636Z"
   },
   {
    "duration": 209,
    "start_time": "2022-01-16T11:49:12.700Z"
   },
   {
    "duration": 196,
    "start_time": "2022-01-16T11:49:12.713Z"
   },
   {
    "duration": 187,
    "start_time": "2022-01-16T11:49:12.723Z"
   },
   {
    "duration": 181,
    "start_time": "2022-01-16T11:49:12.730Z"
   },
   {
    "duration": 173,
    "start_time": "2022-01-16T11:49:12.739Z"
   },
   {
    "duration": 167,
    "start_time": "2022-01-16T11:49:12.746Z"
   },
   {
    "duration": 10,
    "start_time": "2022-01-16T11:49:12.904Z"
   },
   {
    "duration": -3,
    "start_time": "2022-01-16T11:49:12.917Z"
   },
   {
    "duration": -11,
    "start_time": "2022-01-16T11:49:12.926Z"
   },
   {
    "duration": -19,
    "start_time": "2022-01-16T11:49:12.935Z"
   },
   {
    "duration": -26,
    "start_time": "2022-01-16T11:49:12.943Z"
   },
   {
    "duration": -33,
    "start_time": "2022-01-16T11:49:12.951Z"
   },
   {
    "duration": -41,
    "start_time": "2022-01-16T11:49:12.960Z"
   },
   {
    "duration": -50,
    "start_time": "2022-01-16T11:49:12.969Z"
   },
   {
    "duration": -59,
    "start_time": "2022-01-16T11:49:12.979Z"
   },
   {
    "duration": -66,
    "start_time": "2022-01-16T11:49:12.987Z"
   },
   {
    "duration": -74,
    "start_time": "2022-01-16T11:49:12.996Z"
   },
   {
    "duration": -98,
    "start_time": "2022-01-16T11:49:13.021Z"
   },
   {
    "duration": -107,
    "start_time": "2022-01-16T11:49:13.030Z"
   },
   {
    "duration": -116,
    "start_time": "2022-01-16T11:49:13.040Z"
   },
   {
    "duration": -124,
    "start_time": "2022-01-16T11:49:13.049Z"
   },
   {
    "duration": -131,
    "start_time": "2022-01-16T11:49:13.057Z"
   },
   {
    "duration": -139,
    "start_time": "2022-01-16T11:49:13.066Z"
   },
   {
    "duration": -146,
    "start_time": "2022-01-16T11:49:13.074Z"
   },
   {
    "duration": -155,
    "start_time": "2022-01-16T11:49:13.084Z"
   },
   {
    "duration": -161,
    "start_time": "2022-01-16T11:49:13.091Z"
   },
   {
    "duration": -168,
    "start_time": "2022-01-16T11:49:13.098Z"
   },
   {
    "duration": -174,
    "start_time": "2022-01-16T11:49:13.105Z"
   },
   {
    "duration": -373,
    "start_time": "2022-01-16T11:49:13.305Z"
   },
   {
    "duration": -414,
    "start_time": "2022-01-16T11:49:13.347Z"
   },
   {
    "duration": -426,
    "start_time": "2022-01-16T11:49:13.360Z"
   },
   {
    "duration": -434,
    "start_time": "2022-01-16T11:49:13.369Z"
   },
   {
    "duration": -443,
    "start_time": "2022-01-16T11:49:13.378Z"
   },
   {
    "duration": -451,
    "start_time": "2022-01-16T11:49:13.387Z"
   },
   {
    "duration": -459,
    "start_time": "2022-01-16T11:49:13.396Z"
   },
   {
    "duration": -470,
    "start_time": "2022-01-16T11:49:13.408Z"
   },
   {
    "duration": -480,
    "start_time": "2022-01-16T11:49:13.418Z"
   },
   {
    "duration": -490,
    "start_time": "2022-01-16T11:49:13.429Z"
   },
   {
    "duration": -552,
    "start_time": "2022-01-16T11:49:13.492Z"
   },
   {
    "duration": -572,
    "start_time": "2022-01-16T11:49:13.513Z"
   },
   {
    "duration": -590,
    "start_time": "2022-01-16T11:49:13.532Z"
   },
   {
    "duration": -610,
    "start_time": "2022-01-16T11:49:13.553Z"
   },
   {
    "duration": -636,
    "start_time": "2022-01-16T11:49:13.580Z"
   },
   {
    "duration": -705,
    "start_time": "2022-01-16T11:49:13.649Z"
   },
   {
    "duration": -753,
    "start_time": "2022-01-16T11:49:13.698Z"
   },
   {
    "duration": -799,
    "start_time": "2022-01-16T11:49:13.745Z"
   },
   {
    "duration": -807,
    "start_time": "2022-01-16T11:49:13.754Z"
   },
   {
    "duration": -818,
    "start_time": "2022-01-16T11:49:13.766Z"
   },
   {
    "duration": -854,
    "start_time": "2022-01-16T11:49:13.802Z"
   },
   {
    "duration": -863,
    "start_time": "2022-01-16T11:49:13.812Z"
   },
   {
    "duration": -871,
    "start_time": "2022-01-16T11:49:13.821Z"
   },
   {
    "duration": -844,
    "start_time": "2022-01-16T11:49:13.856Z"
   },
   {
    "duration": -872,
    "start_time": "2022-01-16T11:49:13.885Z"
   },
   {
    "duration": -918,
    "start_time": "2022-01-16T11:49:13.931Z"
   },
   {
    "duration": -942,
    "start_time": "2022-01-16T11:49:13.956Z"
   },
   {
    "duration": -952,
    "start_time": "2022-01-16T11:49:13.967Z"
   },
   {
    "duration": -968,
    "start_time": "2022-01-16T11:49:13.984Z"
   },
   {
    "duration": -984,
    "start_time": "2022-01-16T11:49:14.001Z"
   },
   {
    "duration": -998,
    "start_time": "2022-01-16T11:49:14.016Z"
   },
   {
    "duration": -1008,
    "start_time": "2022-01-16T11:49:14.027Z"
   },
   {
    "duration": -1027,
    "start_time": "2022-01-16T11:49:14.046Z"
   },
   {
    "duration": -1043,
    "start_time": "2022-01-16T11:49:14.063Z"
   },
   {
    "duration": -1054,
    "start_time": "2022-01-16T11:49:14.075Z"
   },
   {
    "duration": -1076,
    "start_time": "2022-01-16T11:49:14.098Z"
   },
   {
    "duration": -1096,
    "start_time": "2022-01-16T11:49:14.119Z"
   },
   {
    "duration": -1111,
    "start_time": "2022-01-16T11:49:14.135Z"
   },
   {
    "duration": -1509,
    "start_time": "2022-01-16T11:49:14.534Z"
   },
   {
    "duration": -1560,
    "start_time": "2022-01-16T11:49:14.586Z"
   },
   {
    "duration": -1647,
    "start_time": "2022-01-16T11:49:14.674Z"
   },
   {
    "duration": -1698,
    "start_time": "2022-01-16T11:49:14.725Z"
   },
   {
    "duration": -1724,
    "start_time": "2022-01-16T11:49:14.752Z"
   },
   {
    "duration": -1752,
    "start_time": "2022-01-16T11:49:14.781Z"
   },
   {
    "duration": -1776,
    "start_time": "2022-01-16T11:49:14.806Z"
   },
   {
    "duration": -1798,
    "start_time": "2022-01-16T11:49:14.829Z"
   },
   {
    "duration": -1809,
    "start_time": "2022-01-16T11:49:14.841Z"
   },
   {
    "duration": -1820,
    "start_time": "2022-01-16T11:49:14.852Z"
   },
   {
    "duration": -1835,
    "start_time": "2022-01-16T11:49:14.868Z"
   },
   {
    "duration": -1860,
    "start_time": "2022-01-16T11:49:14.894Z"
   },
   {
    "duration": -1874,
    "start_time": "2022-01-16T11:49:14.909Z"
   },
   {
    "duration": -1892,
    "start_time": "2022-01-16T11:49:14.927Z"
   },
   {
    "duration": -1906,
    "start_time": "2022-01-16T11:49:14.942Z"
   },
   {
    "duration": -1926,
    "start_time": "2022-01-16T11:49:14.963Z"
   },
   {
    "duration": -1998,
    "start_time": "2022-01-16T11:49:15.036Z"
   },
   {
    "duration": -2055,
    "start_time": "2022-01-16T11:49:15.093Z"
   },
   {
    "duration": -2109,
    "start_time": "2022-01-16T11:49:15.148Z"
   },
   {
    "duration": -2119,
    "start_time": "2022-01-16T11:49:15.159Z"
   },
   {
    "duration": -2175,
    "start_time": "2022-01-16T11:49:15.216Z"
   },
   {
    "duration": -2188,
    "start_time": "2022-01-16T11:49:15.230Z"
   },
   {
    "duration": -2199,
    "start_time": "2022-01-16T11:49:15.241Z"
   },
   {
    "duration": -2240,
    "start_time": "2022-01-16T11:49:15.283Z"
   },
   {
    "duration": 73,
    "start_time": "2022-01-16T11:49:31.470Z"
   },
   {
    "duration": 196,
    "start_time": "2022-01-16T11:49:56.794Z"
   },
   {
    "duration": 196,
    "start_time": "2022-01-16T11:50:06.783Z"
   },
   {
    "duration": 186,
    "start_time": "2022-01-16T11:50:22.251Z"
   },
   {
    "duration": 455,
    "start_time": "2022-01-16T11:50:30.178Z"
   },
   {
    "duration": 396,
    "start_time": "2022-01-16T11:50:38.823Z"
   },
   {
    "duration": 190,
    "start_time": "2022-01-16T11:50:49.317Z"
   },
   {
    "duration": 187,
    "start_time": "2022-01-16T11:51:05.663Z"
   },
   {
    "duration": 191,
    "start_time": "2022-01-16T11:51:52.213Z"
   },
   {
    "duration": 188,
    "start_time": "2022-01-16T11:52:09.096Z"
   },
   {
    "duration": 187,
    "start_time": "2022-01-16T11:52:19.604Z"
   },
   {
    "duration": 185,
    "start_time": "2022-01-16T11:52:31.498Z"
   },
   {
    "duration": 186,
    "start_time": "2022-01-16T11:52:49.724Z"
   },
   {
    "duration": 373,
    "start_time": "2022-01-16T11:53:49.243Z"
   },
   {
    "duration": 370,
    "start_time": "2022-01-16T11:53:52.865Z"
   },
   {
    "duration": 315,
    "start_time": "2022-01-16T11:54:05.885Z"
   },
   {
    "duration": 185,
    "start_time": "2022-01-16T11:54:30.957Z"
   },
   {
    "duration": 370,
    "start_time": "2022-01-16T11:55:00.818Z"
   },
   {
    "duration": 182,
    "start_time": "2022-01-16T11:55:07.264Z"
   },
   {
    "duration": 192,
    "start_time": "2022-01-16T11:55:56.180Z"
   },
   {
    "duration": 363,
    "start_time": "2022-01-16T11:56:04.022Z"
   },
   {
    "duration": 377,
    "start_time": "2022-01-16T11:57:31.882Z"
   },
   {
    "duration": 375,
    "start_time": "2022-01-16T11:57:51.838Z"
   },
   {
    "duration": 364,
    "start_time": "2022-01-16T11:57:59.689Z"
   },
   {
    "duration": 397,
    "start_time": "2022-01-16T11:58:36.275Z"
   },
   {
    "duration": 211,
    "start_time": "2022-01-16T11:59:00.090Z"
   },
   {
    "duration": 182,
    "start_time": "2022-01-16T11:59:08.759Z"
   },
   {
    "duration": 61,
    "start_time": "2022-01-16T11:59:30.853Z"
   },
   {
    "duration": 846,
    "start_time": "2022-01-16T11:59:37.828Z"
   },
   {
    "duration": 193,
    "start_time": "2022-01-16T12:00:04.435Z"
   },
   {
    "duration": 184,
    "start_time": "2022-01-16T12:00:16.616Z"
   },
   {
    "duration": 68,
    "start_time": "2022-01-16T12:00:26.944Z"
   },
   {
    "duration": 182,
    "start_time": "2022-01-16T12:00:32.387Z"
   },
   {
    "duration": 197,
    "start_time": "2022-01-16T12:00:40.515Z"
   },
   {
    "duration": 184,
    "start_time": "2022-01-16T12:01:26.542Z"
   },
   {
    "duration": 185,
    "start_time": "2022-01-16T12:01:32.864Z"
   },
   {
    "duration": 367,
    "start_time": "2022-01-16T12:01:51.855Z"
   },
   {
    "duration": 202,
    "start_time": "2022-01-16T12:02:02.273Z"
   },
   {
    "duration": 196,
    "start_time": "2022-01-16T12:02:28.957Z"
   },
   {
    "duration": 357,
    "start_time": "2022-01-16T12:05:47.137Z"
   },
   {
    "duration": 59,
    "start_time": "2022-01-16T12:05:55.326Z"
   },
   {
    "duration": 26,
    "start_time": "2022-01-16T12:05:55.386Z"
   },
   {
    "duration": 11,
    "start_time": "2022-01-16T12:05:55.414Z"
   },
   {
    "duration": 8,
    "start_time": "2022-01-16T12:05:55.427Z"
   },
   {
    "duration": 92,
    "start_time": "2022-01-16T12:05:55.436Z"
   },
   {
    "duration": 5,
    "start_time": "2022-01-16T12:05:55.530Z"
   },
   {
    "duration": 5,
    "start_time": "2022-01-16T12:05:55.537Z"
   },
   {
    "duration": 6,
    "start_time": "2022-01-16T12:05:55.544Z"
   },
   {
    "duration": 278,
    "start_time": "2022-01-16T12:05:55.552Z"
   },
   {
    "duration": 14,
    "start_time": "2022-01-16T12:05:55.831Z"
   },
   {
    "duration": 7,
    "start_time": "2022-01-16T12:05:55.847Z"
   },
   {
    "duration": 6,
    "start_time": "2022-01-16T12:05:55.855Z"
   },
   {
    "duration": 17,
    "start_time": "2022-01-16T12:05:55.862Z"
   },
   {
    "duration": 39,
    "start_time": "2022-01-16T12:05:55.880Z"
   },
   {
    "duration": 5,
    "start_time": "2022-01-16T12:05:55.920Z"
   },
   {
    "duration": 10,
    "start_time": "2022-01-16T12:05:55.927Z"
   },
   {
    "duration": 20,
    "start_time": "2022-01-16T12:05:55.938Z"
   },
   {
    "duration": 3,
    "start_time": "2022-01-16T12:05:55.960Z"
   },
   {
    "duration": 68,
    "start_time": "2022-01-16T12:05:55.964Z"
   },
   {
    "duration": 7,
    "start_time": "2022-01-16T12:05:56.033Z"
   },
   {
    "duration": 6,
    "start_time": "2022-01-16T12:05:56.041Z"
   },
   {
    "duration": 6,
    "start_time": "2022-01-16T12:05:56.048Z"
   },
   {
    "duration": 4,
    "start_time": "2022-01-16T12:05:56.058Z"
   },
   {
    "duration": 62,
    "start_time": "2022-01-16T12:05:56.064Z"
   },
   {
    "duration": 5,
    "start_time": "2022-01-16T12:05:56.127Z"
   },
   {
    "duration": 7,
    "start_time": "2022-01-16T12:05:56.133Z"
   },
   {
    "duration": 5,
    "start_time": "2022-01-16T12:05:56.141Z"
   },
   {
    "duration": 5,
    "start_time": "2022-01-16T12:05:56.148Z"
   },
   {
    "duration": 6,
    "start_time": "2022-01-16T12:05:56.155Z"
   },
   {
    "duration": 4,
    "start_time": "2022-01-16T12:05:56.162Z"
   },
   {
    "duration": 6,
    "start_time": "2022-01-16T12:05:56.168Z"
   },
   {
    "duration": 502,
    "start_time": "2022-01-16T12:05:56.175Z"
   },
   {
    "duration": 9,
    "start_time": "2022-01-16T12:05:56.678Z"
   },
   {
    "duration": 24,
    "start_time": "2022-01-16T12:05:56.689Z"
   },
   {
    "duration": 9,
    "start_time": "2022-01-16T12:05:56.714Z"
   },
   {
    "duration": 6,
    "start_time": "2022-01-16T12:05:56.724Z"
   },
   {
    "duration": 7,
    "start_time": "2022-01-16T12:05:56.732Z"
   },
   {
    "duration": 5,
    "start_time": "2022-01-16T12:05:56.741Z"
   },
   {
    "duration": 13,
    "start_time": "2022-01-16T12:05:56.748Z"
   },
   {
    "duration": 6,
    "start_time": "2022-01-16T12:05:56.763Z"
   },
   {
    "duration": 5,
    "start_time": "2022-01-16T12:05:56.771Z"
   },
   {
    "duration": 6,
    "start_time": "2022-01-16T12:05:56.777Z"
   },
   {
    "duration": 5,
    "start_time": "2022-01-16T12:05:56.812Z"
   },
   {
    "duration": 12,
    "start_time": "2022-01-16T12:05:56.819Z"
   },
   {
    "duration": 3,
    "start_time": "2022-01-16T12:05:56.832Z"
   },
   {
    "duration": 445,
    "start_time": "2022-01-16T12:05:56.836Z"
   },
   {
    "duration": 5,
    "start_time": "2022-01-16T12:05:57.282Z"
   },
   {
    "duration": 5,
    "start_time": "2022-01-16T12:05:57.289Z"
   },
   {
    "duration": 297,
    "start_time": "2022-01-16T12:05:57.295Z"
   },
   {
    "duration": 344,
    "start_time": "2022-01-16T12:05:57.594Z"
   },
   {
    "duration": 330,
    "start_time": "2022-01-16T12:05:57.940Z"
   },
   {
    "duration": 233,
    "start_time": "2022-01-16T12:05:58.272Z"
   },
   {
    "duration": 329,
    "start_time": "2022-01-16T12:05:58.506Z"
   },
   {
    "duration": 122,
    "start_time": "2022-01-16T12:05:58.837Z"
   },
   {
    "duration": 7,
    "start_time": "2022-01-16T12:05:58.961Z"
   },
   {
    "duration": 6,
    "start_time": "2022-01-16T12:05:58.970Z"
   },
   {
    "duration": 8,
    "start_time": "2022-01-16T12:05:58.977Z"
   },
   {
    "duration": 142,
    "start_time": "2022-01-16T12:05:58.987Z"
   },
   {
    "duration": 6,
    "start_time": "2022-01-16T12:05:59.131Z"
   },
   {
    "duration": 369,
    "start_time": "2022-01-16T12:05:59.139Z"
   },
   {
    "duration": 21,
    "start_time": "2022-01-16T12:05:59.511Z"
   },
   {
    "duration": 187,
    "start_time": "2022-01-16T12:05:59.534Z"
   },
   {
    "duration": 14,
    "start_time": "2022-01-16T12:05:59.723Z"
   },
   {
    "duration": 3,
    "start_time": "2022-01-16T12:05:59.738Z"
   },
   {
    "duration": 12,
    "start_time": "2022-01-16T12:05:59.742Z"
   },
   {
    "duration": 190,
    "start_time": "2022-01-16T12:05:59.755Z"
   },
   {
    "duration": 12,
    "start_time": "2022-01-16T12:05:59.947Z"
   },
   {
    "duration": 1682,
    "start_time": "2022-01-16T12:05:59.964Z"
   },
   {
    "duration": 491,
    "start_time": "2022-01-16T12:06:01.648Z"
   },
   {
    "duration": 172,
    "start_time": "2022-01-16T12:06:02.141Z"
   },
   {
    "duration": 7,
    "start_time": "2022-01-16T12:06:02.315Z"
   },
   {
    "duration": 198,
    "start_time": "2022-01-16T12:06:02.324Z"
   },
   {
    "duration": 200,
    "start_time": "2022-01-16T12:06:02.524Z"
   },
   {
    "duration": 187,
    "start_time": "2022-01-16T12:06:02.726Z"
   },
   {
    "duration": 17,
    "start_time": "2022-01-16T12:06:02.915Z"
   },
   {
    "duration": 3,
    "start_time": "2022-01-16T12:06:02.934Z"
   },
   {
    "duration": 4,
    "start_time": "2022-01-16T12:06:02.939Z"
   },
   {
    "duration": 7,
    "start_time": "2022-01-16T12:06:02.945Z"
   },
   {
    "duration": 4,
    "start_time": "2022-01-16T12:06:02.954Z"
   },
   {
    "duration": 7,
    "start_time": "2022-01-16T12:06:02.960Z"
   },
   {
    "duration": 43,
    "start_time": "2022-01-16T12:06:02.969Z"
   },
   {
    "duration": 4,
    "start_time": "2022-01-16T12:06:03.013Z"
   },
   {
    "duration": 21,
    "start_time": "2022-01-16T12:06:03.019Z"
   },
   {
    "duration": 3,
    "start_time": "2022-01-16T12:06:03.042Z"
   },
   {
    "duration": 211,
    "start_time": "2022-01-16T12:06:03.046Z"
   },
   {
    "duration": 283,
    "start_time": "2022-01-16T12:06:03.259Z"
   },
   {
    "duration": 7,
    "start_time": "2022-01-16T12:06:03.543Z"
   },
   {
    "duration": 12,
    "start_time": "2022-01-16T12:06:03.551Z"
   },
   {
    "duration": 9,
    "start_time": "2022-01-16T12:06:03.565Z"
   },
   {
    "duration": 6,
    "start_time": "2022-01-16T12:06:03.575Z"
   },
   {
    "duration": 142,
    "start_time": "2022-01-16T12:06:03.582Z"
   },
   {
    "duration": 7,
    "start_time": "2022-01-16T12:06:03.725Z"
   },
   {
    "duration": 138,
    "start_time": "2022-01-16T12:06:03.734Z"
   },
   {
    "duration": 7,
    "start_time": "2022-01-16T12:06:03.873Z"
   },
   {
    "duration": 145,
    "start_time": "2022-01-16T12:06:03.881Z"
   },
   {
    "duration": 124,
    "start_time": "2022-01-16T12:06:04.027Z"
   },
   {
    "duration": 131,
    "start_time": "2022-01-16T12:06:04.152Z"
   },
   {
    "duration": 1577,
    "start_time": "2022-01-16T12:06:04.284Z"
   },
   {
    "duration": 172,
    "start_time": "2022-01-16T12:06:05.862Z"
   },
   {
    "duration": 2,
    "start_time": "2022-01-16T12:06:06.036Z"
   },
   {
    "duration": 175,
    "start_time": "2022-01-16T12:06:06.039Z"
   },
   {
    "duration": 167,
    "start_time": "2022-01-16T12:06:06.215Z"
   },
   {
    "duration": 7,
    "start_time": "2022-01-16T12:06:06.383Z"
   },
   {
    "duration": 162,
    "start_time": "2022-01-16T12:06:06.391Z"
   },
   {
    "duration": 166,
    "start_time": "2022-01-16T12:06:06.555Z"
   },
   {
    "duration": 325,
    "start_time": "2022-01-16T12:06:06.722Z"
   },
   {
    "duration": 179,
    "start_time": "2022-01-16T12:06:07.048Z"
   },
   {
    "duration": 181,
    "start_time": "2022-01-16T12:06:07.228Z"
   },
   {
    "duration": 4644,
    "start_time": "2022-01-16T12:06:28.156Z"
   },
   {
    "duration": 4649,
    "start_time": "2022-01-16T12:06:58.706Z"
   },
   {
    "duration": 489,
    "start_time": "2022-01-16T12:07:13.750Z"
   },
   {
    "duration": 467,
    "start_time": "2022-01-16T12:07:37.292Z"
   },
   {
    "duration": 452,
    "start_time": "2022-01-16T12:07:58.236Z"
   },
   {
    "duration": 360,
    "start_time": "2022-01-16T12:08:23.681Z"
   },
   {
    "duration": 464,
    "start_time": "2022-01-16T12:08:31.899Z"
   },
   {
    "duration": 612,
    "start_time": "2022-01-16T12:10:54.694Z"
   },
   {
    "duration": 292,
    "start_time": "2022-01-16T12:11:12.083Z"
   },
   {
    "duration": 403,
    "start_time": "2022-01-16T12:11:23.622Z"
   },
   {
    "duration": 490,
    "start_time": "2022-01-16T12:11:48.625Z"
   },
   {
    "duration": 304,
    "start_time": "2022-01-16T12:11:54.200Z"
   },
   {
    "duration": 347,
    "start_time": "2022-01-16T12:13:00.134Z"
   },
   {
    "duration": 262,
    "start_time": "2022-01-16T12:13:35.239Z"
   },
   {
    "duration": 260,
    "start_time": "2022-01-16T12:13:50.071Z"
   },
   {
    "duration": 401,
    "start_time": "2022-01-16T12:14:01.221Z"
   },
   {
    "duration": 268,
    "start_time": "2022-01-16T12:14:06.624Z"
   },
   {
    "duration": 263,
    "start_time": "2022-01-16T12:14:10.634Z"
   },
   {
    "duration": 259,
    "start_time": "2022-01-16T12:14:14.754Z"
   },
   {
    "duration": 231,
    "start_time": "2022-01-16T12:14:49.900Z"
   },
   {
    "duration": 56,
    "start_time": "2022-01-16T12:15:15.470Z"
   },
   {
    "duration": 233,
    "start_time": "2022-01-16T12:15:27.295Z"
   },
   {
    "duration": 273,
    "start_time": "2022-01-16T12:15:44.789Z"
   },
   {
    "duration": 323,
    "start_time": "2022-01-16T12:16:20.923Z"
   },
   {
    "duration": 465,
    "start_time": "2022-01-16T12:17:08.167Z"
   },
   {
    "duration": 114,
    "start_time": "2022-01-16T12:17:41.866Z"
   },
   {
    "duration": 122,
    "start_time": "2022-01-16T12:19:07.631Z"
   },
   {
    "duration": 120,
    "start_time": "2022-01-16T12:19:18.381Z"
   },
   {
    "duration": 114,
    "start_time": "2022-01-16T12:19:46.554Z"
   },
   {
    "duration": 361,
    "start_time": "2022-01-16T12:20:15.904Z"
   },
   {
    "duration": 364,
    "start_time": "2022-01-16T12:20:46.169Z"
   },
   {
    "duration": 190,
    "start_time": "2022-01-16T12:22:31.382Z"
   },
   {
    "duration": 181,
    "start_time": "2022-01-16T12:22:39.471Z"
   },
   {
    "duration": 122,
    "start_time": "2022-01-16T12:25:52.868Z"
   },
   {
    "duration": 132,
    "start_time": "2022-01-16T12:26:06.310Z"
   },
   {
    "duration": 113,
    "start_time": "2022-01-16T12:30:31.735Z"
   },
   {
    "duration": 116,
    "start_time": "2022-01-16T12:30:40.069Z"
   },
   {
    "duration": 115,
    "start_time": "2022-01-16T12:30:45.822Z"
   },
   {
    "duration": 130,
    "start_time": "2022-01-16T12:30:52.753Z"
   },
   {
    "duration": 121,
    "start_time": "2022-01-16T12:31:11.728Z"
   },
   {
    "duration": 130,
    "start_time": "2022-01-16T12:31:21.927Z"
   },
   {
    "duration": 11,
    "start_time": "2022-01-16T12:38:28.343Z"
   },
   {
    "duration": 54,
    "start_time": "2022-01-16T12:40:46.676Z"
   },
   {
    "duration": 1170,
    "start_time": "2022-01-16T12:40:53.002Z"
   },
   {
    "duration": 297,
    "start_time": "2022-01-16T12:41:09.263Z"
   },
   {
    "duration": 905,
    "start_time": "2022-01-16T12:41:26.280Z"
   },
   {
    "duration": 4,
    "start_time": "2022-01-16T12:43:45.649Z"
   },
   {
    "duration": 3,
    "start_time": "2022-01-16T12:44:01.910Z"
   },
   {
    "duration": 5,
    "start_time": "2022-01-16T12:44:08.490Z"
   },
   {
    "duration": 4,
    "start_time": "2022-01-16T12:44:30.216Z"
   },
   {
    "duration": 1042,
    "start_time": "2022-01-16T12:44:37.922Z"
   },
   {
    "duration": 190,
    "start_time": "2022-01-16T12:45:32.311Z"
   },
   {
    "duration": 6,
    "start_time": "2022-01-16T12:45:39.788Z"
   },
   {
    "duration": 5,
    "start_time": "2022-01-16T12:45:57.139Z"
   },
   {
    "duration": 5,
    "start_time": "2022-01-16T12:46:02.875Z"
   },
   {
    "duration": 6,
    "start_time": "2022-01-16T12:46:20.053Z"
   },
   {
    "duration": 5,
    "start_time": "2022-01-16T12:47:15.116Z"
   },
   {
    "duration": 7,
    "start_time": "2022-01-16T12:52:18.207Z"
   },
   {
    "duration": 8,
    "start_time": "2022-01-16T12:52:28.340Z"
   },
   {
    "duration": 171,
    "start_time": "2022-01-16T12:53:09.143Z"
   },
   {
    "duration": 131,
    "start_time": "2022-01-16T12:54:23.440Z"
   },
   {
    "duration": 6,
    "start_time": "2022-01-16T12:55:03.101Z"
   },
   {
    "duration": 128,
    "start_time": "2022-01-16T12:55:03.845Z"
   },
   {
    "duration": 6,
    "start_time": "2022-01-16T12:55:18.859Z"
   },
   {
    "duration": 120,
    "start_time": "2022-01-16T12:55:19.635Z"
   },
   {
    "duration": 7,
    "start_time": "2022-01-16T12:55:28.570Z"
   },
   {
    "duration": 126,
    "start_time": "2022-01-16T12:55:29.160Z"
   },
   {
    "duration": 7,
    "start_time": "2022-01-16T12:55:47.075Z"
   },
   {
    "duration": 126,
    "start_time": "2022-01-16T12:55:47.587Z"
   },
   {
    "duration": 6,
    "start_time": "2022-01-16T12:55:53.701Z"
   },
   {
    "duration": 127,
    "start_time": "2022-01-16T12:55:54.313Z"
   },
   {
    "duration": 7,
    "start_time": "2022-01-16T12:56:03.014Z"
   },
   {
    "duration": 123,
    "start_time": "2022-01-16T12:56:03.535Z"
   },
   {
    "duration": 7,
    "start_time": "2022-01-16T12:56:07.828Z"
   },
   {
    "duration": 130,
    "start_time": "2022-01-16T12:56:08.371Z"
   },
   {
    "duration": 4476,
    "start_time": "2022-01-16T12:56:38.141Z"
   },
   {
    "duration": 66,
    "start_time": "2022-01-16T12:56:57.112Z"
   },
   {
    "duration": 7,
    "start_time": "2022-01-16T12:57:17.985Z"
   },
   {
    "duration": 67,
    "start_time": "2022-01-16T12:57:31.959Z"
   },
   {
    "duration": 276,
    "start_time": "2022-01-16T12:58:03.419Z"
   },
   {
    "duration": 125,
    "start_time": "2022-01-16T12:58:04.072Z"
   },
   {
    "duration": 5387,
    "start_time": "2022-01-16T12:58:13.650Z"
   },
   {
    "duration": 463,
    "start_time": "2022-01-16T12:58:29.471Z"
   },
   {
    "duration": 4766,
    "start_time": "2022-01-16T12:58:31.092Z"
   },
   {
    "duration": 1046,
    "start_time": "2022-01-16T12:58:40.557Z"
   },
   {
    "duration": 825,
    "start_time": "2022-01-16T12:58:40.780Z"
   },
   {
    "duration": 4519,
    "start_time": "2022-01-16T12:58:53.413Z"
   },
   {
    "duration": 780,
    "start_time": "2022-01-16T12:58:57.154Z"
   },
   {
    "duration": 728,
    "start_time": "2022-01-16T12:58:57.207Z"
   },
   {
    "duration": 4897,
    "start_time": "2022-01-16T13:01:03.472Z"
   },
   {
    "duration": 4687,
    "start_time": "2022-01-16T13:01:41.685Z"
   },
   {
    "duration": 266,
    "start_time": "2022-01-16T13:02:12.518Z"
   },
   {
    "duration": 13,
    "start_time": "2022-01-16T13:22:01.101Z"
   },
   {
    "duration": 14,
    "start_time": "2022-01-16T13:22:15.959Z"
   },
   {
    "duration": 10,
    "start_time": "2022-01-16T13:22:26.921Z"
   },
   {
    "duration": 59,
    "start_time": "2022-01-16T13:23:20.537Z"
   },
   {
    "duration": 25,
    "start_time": "2022-01-16T13:23:20.598Z"
   },
   {
    "duration": 14,
    "start_time": "2022-01-16T13:23:20.624Z"
   },
   {
    "duration": 8,
    "start_time": "2022-01-16T13:23:20.640Z"
   },
   {
    "duration": 79,
    "start_time": "2022-01-16T13:23:20.649Z"
   },
   {
    "duration": 5,
    "start_time": "2022-01-16T13:23:20.730Z"
   },
   {
    "duration": 10,
    "start_time": "2022-01-16T13:23:20.736Z"
   },
   {
    "duration": 7,
    "start_time": "2022-01-16T13:23:20.749Z"
   },
   {
    "duration": 241,
    "start_time": "2022-01-16T13:23:20.758Z"
   },
   {
    "duration": 15,
    "start_time": "2022-01-16T13:23:21.013Z"
   },
   {
    "duration": 8,
    "start_time": "2022-01-16T13:23:21.030Z"
   },
   {
    "duration": 7,
    "start_time": "2022-01-16T13:23:21.040Z"
   },
   {
    "duration": 17,
    "start_time": "2022-01-16T13:23:21.048Z"
   },
   {
    "duration": 10,
    "start_time": "2022-01-16T13:23:21.066Z"
   },
   {
    "duration": 36,
    "start_time": "2022-01-16T13:23:21.077Z"
   },
   {
    "duration": 8,
    "start_time": "2022-01-16T13:23:21.114Z"
   },
   {
    "duration": 26,
    "start_time": "2022-01-16T13:23:21.124Z"
   },
   {
    "duration": 3,
    "start_time": "2022-01-16T13:23:21.151Z"
   },
   {
    "duration": 40,
    "start_time": "2022-01-16T13:23:21.156Z"
   },
   {
    "duration": 15,
    "start_time": "2022-01-16T13:23:21.198Z"
   },
   {
    "duration": 8,
    "start_time": "2022-01-16T13:23:21.214Z"
   },
   {
    "duration": 5,
    "start_time": "2022-01-16T13:23:21.223Z"
   },
   {
    "duration": 7,
    "start_time": "2022-01-16T13:23:21.231Z"
   },
   {
    "duration": 39,
    "start_time": "2022-01-16T13:23:21.240Z"
   },
   {
    "duration": 5,
    "start_time": "2022-01-16T13:23:21.281Z"
   },
   {
    "duration": 27,
    "start_time": "2022-01-16T13:23:21.287Z"
   },
   {
    "duration": 5,
    "start_time": "2022-01-16T13:23:21.315Z"
   },
   {
    "duration": 14,
    "start_time": "2022-01-16T13:23:21.322Z"
   },
   {
    "duration": 10,
    "start_time": "2022-01-16T13:23:21.338Z"
   },
   {
    "duration": 5,
    "start_time": "2022-01-16T13:23:21.350Z"
   },
   {
    "duration": 5,
    "start_time": "2022-01-16T13:23:21.357Z"
   },
   {
    "duration": 489,
    "start_time": "2022-01-16T13:23:21.364Z"
   },
   {
    "duration": 9,
    "start_time": "2022-01-16T13:23:21.855Z"
   },
   {
    "duration": 12,
    "start_time": "2022-01-16T13:23:21.865Z"
   },
   {
    "duration": 9,
    "start_time": "2022-01-16T13:23:21.878Z"
   },
   {
    "duration": 6,
    "start_time": "2022-01-16T13:23:21.888Z"
   },
   {
    "duration": 5,
    "start_time": "2022-01-16T13:23:21.912Z"
   },
   {
    "duration": 7,
    "start_time": "2022-01-16T13:23:21.918Z"
   },
   {
    "duration": 13,
    "start_time": "2022-01-16T13:23:21.926Z"
   },
   {
    "duration": 6,
    "start_time": "2022-01-16T13:23:21.940Z"
   },
   {
    "duration": 7,
    "start_time": "2022-01-16T13:23:21.947Z"
   },
   {
    "duration": 5,
    "start_time": "2022-01-16T13:23:21.955Z"
   },
   {
    "duration": 6,
    "start_time": "2022-01-16T13:23:21.961Z"
   },
   {
    "duration": 12,
    "start_time": "2022-01-16T13:23:21.968Z"
   },
   {
    "duration": 2,
    "start_time": "2022-01-16T13:23:21.982Z"
   },
   {
    "duration": 451,
    "start_time": "2022-01-16T13:23:21.985Z"
   },
   {
    "duration": 5,
    "start_time": "2022-01-16T13:23:22.437Z"
   },
   {
    "duration": 8,
    "start_time": "2022-01-16T13:23:22.443Z"
   },
   {
    "duration": 301,
    "start_time": "2022-01-16T13:23:22.452Z"
   },
   {
    "duration": 487,
    "start_time": "2022-01-16T13:23:22.754Z"
   },
   {
    "duration": 268,
    "start_time": "2022-01-16T13:23:23.242Z"
   },
   {
    "duration": 242,
    "start_time": "2022-01-16T13:23:23.512Z"
   },
   {
    "duration": 336,
    "start_time": "2022-01-16T13:23:23.755Z"
   },
   {
    "duration": 121,
    "start_time": "2022-01-16T13:23:24.093Z"
   },
   {
    "duration": 6,
    "start_time": "2022-01-16T13:23:24.216Z"
   },
   {
    "duration": 5,
    "start_time": "2022-01-16T13:23:24.224Z"
   },
   {
    "duration": 7,
    "start_time": "2022-01-16T13:23:24.230Z"
   },
   {
    "duration": 137,
    "start_time": "2022-01-16T13:23:24.238Z"
   },
   {
    "duration": 6,
    "start_time": "2022-01-16T13:23:24.377Z"
   },
   {
    "duration": 366,
    "start_time": "2022-01-16T13:23:24.385Z"
   },
   {
    "duration": 22,
    "start_time": "2022-01-16T13:23:24.753Z"
   },
   {
    "duration": 192,
    "start_time": "2022-01-16T13:23:24.776Z"
   },
   {
    "duration": 120,
    "start_time": "2022-01-16T13:27:52.793Z"
   },
   {
    "duration": 7,
    "start_time": "2022-01-16T13:31:40.846Z"
   },
   {
    "duration": 6,
    "start_time": "2022-01-16T13:32:10.620Z"
   },
   {
    "duration": 200,
    "start_time": "2022-01-16T14:39:07.135Z"
   },
   {
    "duration": 5,
    "start_time": "2022-01-16T14:39:16.773Z"
   },
   {
    "duration": 4,
    "start_time": "2022-01-16T14:41:34.915Z"
   },
   {
    "duration": 128,
    "start_time": "2022-01-16T14:41:52.799Z"
   },
   {
    "duration": 121,
    "start_time": "2022-01-16T14:42:03.176Z"
   },
   {
    "duration": 125,
    "start_time": "2022-01-16T14:42:08.927Z"
   },
   {
    "duration": 425,
    "start_time": "2022-01-16T14:44:07.966Z"
   },
   {
    "duration": 463,
    "start_time": "2022-01-16T14:44:13.599Z"
   },
   {
    "duration": 47,
    "start_time": "2022-01-16T14:44:29.982Z"
   },
   {
    "duration": 199,
    "start_time": "2022-01-16T14:45:29.568Z"
   },
   {
    "duration": 289,
    "start_time": "2022-01-16T14:47:18.081Z"
   },
   {
    "duration": 270,
    "start_time": "2022-01-16T14:47:34.597Z"
   },
   {
    "duration": 238,
    "start_time": "2022-01-16T14:47:40.228Z"
   },
   {
    "duration": 415,
    "start_time": "2022-01-16T14:48:18.429Z"
   },
   {
    "duration": 232,
    "start_time": "2022-01-16T14:48:34.112Z"
   },
   {
    "duration": 137,
    "start_time": "2022-01-16T14:49:26.106Z"
   },
   {
    "duration": 13,
    "start_time": "2022-01-16T14:50:02.036Z"
   },
   {
    "duration": 8,
    "start_time": "2022-01-16T14:50:23.530Z"
   },
   {
    "duration": 182,
    "start_time": "2022-01-16T14:54:08.314Z"
   },
   {
    "duration": 356,
    "start_time": "2022-01-16T14:54:32.516Z"
   },
   {
    "duration": 200,
    "start_time": "2022-01-16T14:56:40.184Z"
   },
   {
    "duration": 199,
    "start_time": "2022-01-16T14:57:26.690Z"
   },
   {
    "duration": 75,
    "start_time": "2022-01-16T14:58:15.695Z"
   },
   {
    "duration": 177,
    "start_time": "2022-01-16T14:58:23.174Z"
   },
   {
    "duration": 5,
    "start_time": "2022-01-16T14:58:38.543Z"
   },
   {
    "duration": 264,
    "start_time": "2022-01-16T14:59:55.952Z"
   },
   {
    "duration": 254,
    "start_time": "2022-01-16T14:59:56.977Z"
   },
   {
    "duration": 12,
    "start_time": "2022-01-16T15:00:09.128Z"
   },
   {
    "duration": 16,
    "start_time": "2022-01-16T15:42:43.039Z"
   },
   {
    "duration": 3,
    "start_time": "2022-01-16T15:45:29.930Z"
   },
   {
    "duration": 3,
    "start_time": "2022-01-16T15:45:58.346Z"
   },
   {
    "duration": 4,
    "start_time": "2022-01-16T15:46:44.869Z"
   },
   {
    "duration": 198,
    "start_time": "2022-01-16T15:46:52.208Z"
   },
   {
    "duration": 70,
    "start_time": "2022-01-16T15:47:12.309Z"
   },
   {
    "duration": 3,
    "start_time": "2022-01-16T15:47:20.994Z"
   },
   {
    "duration": 204,
    "start_time": "2022-01-16T15:47:21.850Z"
   },
   {
    "duration": 3,
    "start_time": "2022-01-16T15:48:27.084Z"
   },
   {
    "duration": 3,
    "start_time": "2022-01-16T15:48:31.091Z"
   },
   {
    "duration": 4,
    "start_time": "2022-01-16T15:48:37.570Z"
   },
   {
    "duration": 3,
    "start_time": "2022-01-16T15:49:29.340Z"
   },
   {
    "duration": 4,
    "start_time": "2022-01-16T15:49:30.278Z"
   },
   {
    "duration": 3,
    "start_time": "2022-01-16T15:49:40.108Z"
   },
   {
    "duration": 193,
    "start_time": "2022-01-16T15:49:44.445Z"
   },
   {
    "duration": 181,
    "start_time": "2022-01-16T15:50:44.362Z"
   },
   {
    "duration": 92,
    "start_time": "2022-01-16T15:50:52.717Z"
   },
   {
    "duration": 3,
    "start_time": "2022-01-16T15:51:17.230Z"
   },
   {
    "duration": 397,
    "start_time": "2022-01-16T15:51:19.826Z"
   },
   {
    "duration": 4,
    "start_time": "2022-01-16T15:51:47.052Z"
   },
   {
    "duration": 89,
    "start_time": "2022-01-16T15:51:47.940Z"
   },
   {
    "duration": 202,
    "start_time": "2022-01-16T16:05:21.758Z"
   },
   {
    "duration": 8,
    "start_time": "2022-01-16T16:05:31.117Z"
   },
   {
    "duration": 6,
    "start_time": "2022-01-16T16:05:43.334Z"
   },
   {
    "duration": 7,
    "start_time": "2022-01-16T16:05:59.852Z"
   },
   {
    "duration": 192,
    "start_time": "2022-01-16T16:06:13.447Z"
   },
   {
    "duration": 8,
    "start_time": "2022-01-16T16:06:59.474Z"
   },
   {
    "duration": 5,
    "start_time": "2022-01-16T16:09:15.227Z"
   },
   {
    "duration": 6,
    "start_time": "2022-01-16T16:10:38.029Z"
   },
   {
    "duration": 5,
    "start_time": "2022-01-16T16:10:47.421Z"
   },
   {
    "duration": 5,
    "start_time": "2022-01-16T16:13:05.191Z"
   },
   {
    "duration": 209,
    "start_time": "2022-01-16T16:14:09.846Z"
   },
   {
    "duration": 8,
    "start_time": "2022-01-16T16:15:11.715Z"
   },
   {
    "duration": 4,
    "start_time": "2022-01-16T16:19:58.134Z"
   },
   {
    "duration": 6,
    "start_time": "2022-01-16T16:20:13.470Z"
   },
   {
    "duration": 122,
    "start_time": "2022-01-16T16:22:58.551Z"
   },
   {
    "duration": 133,
    "start_time": "2022-01-16T16:23:47.962Z"
   },
   {
    "duration": 136,
    "start_time": "2022-01-16T16:23:54.245Z"
   },
   {
    "duration": 127,
    "start_time": "2022-01-16T16:24:00.658Z"
   },
   {
    "duration": 127,
    "start_time": "2022-01-16T16:24:10.533Z"
   },
   {
    "duration": 120,
    "start_time": "2022-01-16T16:24:18.329Z"
   },
   {
    "duration": 8,
    "start_time": "2022-01-16T16:25:18.435Z"
   },
   {
    "duration": 5,
    "start_time": "2022-01-16T16:29:17.352Z"
   },
   {
    "duration": 5,
    "start_time": "2022-01-16T16:29:24.514Z"
   },
   {
    "duration": 5,
    "start_time": "2022-01-16T16:29:29.747Z"
   },
   {
    "duration": 5,
    "start_time": "2022-01-16T16:29:36.569Z"
   },
   {
    "duration": 6,
    "start_time": "2022-01-16T16:29:40.737Z"
   },
   {
    "duration": 207,
    "start_time": "2022-01-16T16:30:30.357Z"
   },
   {
    "duration": 200,
    "start_time": "2022-01-16T16:30:38.893Z"
   },
   {
    "duration": 7,
    "start_time": "2022-01-16T16:30:46.352Z"
   },
   {
    "duration": 6,
    "start_time": "2022-01-16T16:31:22.140Z"
   },
   {
    "duration": 6,
    "start_time": "2022-01-16T16:40:52.250Z"
   },
   {
    "duration": 8,
    "start_time": "2022-01-16T16:40:59.995Z"
   },
   {
    "duration": 9,
    "start_time": "2022-01-16T16:41:22.443Z"
   },
   {
    "duration": 6,
    "start_time": "2022-01-16T16:42:12.690Z"
   },
   {
    "duration": 4,
    "start_time": "2022-01-16T16:42:26.889Z"
   },
   {
    "duration": 5,
    "start_time": "2022-01-16T16:42:33.038Z"
   },
   {
    "duration": 207,
    "start_time": "2022-01-16T16:43:56.382Z"
   },
   {
    "duration": 220,
    "start_time": "2022-01-16T16:44:05.606Z"
   },
   {
    "duration": 215,
    "start_time": "2022-01-16T16:45:54.182Z"
   },
   {
    "duration": 4,
    "start_time": "2022-01-16T16:46:04.561Z"
   },
   {
    "duration": 221,
    "start_time": "2022-01-16T16:46:05.635Z"
   },
   {
    "duration": 5,
    "start_time": "2022-01-16T16:46:48.733Z"
   },
   {
    "duration": 176,
    "start_time": "2022-01-16T16:46:49.574Z"
   },
   {
    "duration": 192,
    "start_time": "2022-01-16T16:47:10.741Z"
   },
   {
    "duration": 167,
    "start_time": "2022-01-16T16:47:22.385Z"
   },
   {
    "duration": 152,
    "start_time": "2022-01-16T16:47:34.207Z"
   },
   {
    "duration": 196,
    "start_time": "2022-01-16T16:47:37.723Z"
   },
   {
    "duration": 177,
    "start_time": "2022-01-16T16:47:53.111Z"
   },
   {
    "duration": 396,
    "start_time": "2022-01-16T16:50:06.639Z"
   },
   {
    "duration": 218,
    "start_time": "2022-01-16T16:50:31.305Z"
   },
   {
    "duration": 60,
    "start_time": "2022-01-16T16:50:57.800Z"
   },
   {
    "duration": 219,
    "start_time": "2022-01-16T16:51:03.430Z"
   },
   {
    "duration": 220,
    "start_time": "2022-01-16T16:51:08.630Z"
   },
   {
    "duration": 8,
    "start_time": "2022-01-16T16:53:37.818Z"
   },
   {
    "duration": 7,
    "start_time": "2022-01-16T16:53:52.820Z"
   },
   {
    "duration": 6,
    "start_time": "2022-01-16T16:53:59.623Z"
   },
   {
    "duration": 6,
    "start_time": "2022-01-16T16:57:40.669Z"
   },
   {
    "duration": 5,
    "start_time": "2022-01-16T16:57:47.841Z"
   },
   {
    "duration": 5,
    "start_time": "2022-01-16T16:58:06.632Z"
   },
   {
    "duration": 5,
    "start_time": "2022-01-16T16:58:13.021Z"
   },
   {
    "duration": 36,
    "start_time": "2022-01-16T16:59:18.151Z"
   },
   {
    "duration": 8,
    "start_time": "2022-01-16T16:59:43.690Z"
   },
   {
    "duration": 199,
    "start_time": "2022-01-16T17:00:26.545Z"
   },
   {
    "duration": 157,
    "start_time": "2022-01-16T17:00:37.420Z"
   },
   {
    "duration": 176,
    "start_time": "2022-01-16T17:00:53.283Z"
   },
   {
    "duration": 475,
    "start_time": "2022-01-16T17:05:32.050Z"
   },
   {
    "duration": 454,
    "start_time": "2022-01-16T17:05:37.530Z"
   },
   {
    "duration": 460,
    "start_time": "2022-01-16T17:05:56.200Z"
   },
   {
    "duration": 196,
    "start_time": "2022-01-16T17:06:38.476Z"
   },
   {
    "duration": 206,
    "start_time": "2022-01-16T17:06:58.289Z"
   },
   {
    "duration": 190,
    "start_time": "2022-01-16T17:07:13.009Z"
   },
   {
    "duration": 183,
    "start_time": "2022-01-16T17:07:27.031Z"
   },
   {
    "duration": 128,
    "start_time": "2022-01-16T17:07:52.866Z"
   },
   {
    "duration": 1849,
    "start_time": "2022-01-16T17:07:58.555Z"
   },
   {
    "duration": 190,
    "start_time": "2022-01-16T17:08:25.910Z"
   },
   {
    "duration": 178,
    "start_time": "2022-01-16T17:08:42.897Z"
   },
   {
    "duration": 182,
    "start_time": "2022-01-16T17:08:58.571Z"
   },
   {
    "duration": 187,
    "start_time": "2022-01-16T17:09:37.019Z"
   },
   {
    "duration": 184,
    "start_time": "2022-01-16T17:10:03.430Z"
   },
   {
    "duration": 114,
    "start_time": "2022-02-05T11:15:30.536Z"
   },
   {
    "duration": 726,
    "start_time": "2022-02-05T11:15:34.333Z"
   },
   {
    "duration": 26,
    "start_time": "2022-02-05T11:15:35.061Z"
   },
   {
    "duration": 9,
    "start_time": "2022-02-05T11:15:35.089Z"
   },
   {
    "duration": 28,
    "start_time": "2022-02-05T11:15:35.099Z"
   },
   {
    "duration": 61,
    "start_time": "2022-02-05T11:15:35.128Z"
   },
   {
    "duration": 2,
    "start_time": "2022-02-05T11:15:35.191Z"
   },
   {
    "duration": 76,
    "start_time": "2022-02-05T11:15:35.195Z"
   },
   {
    "duration": 5,
    "start_time": "2022-02-05T11:15:35.273Z"
   },
   {
    "duration": 14,
    "start_time": "2022-02-05T11:15:35.280Z"
   },
   {
    "duration": 6,
    "start_time": "2022-02-05T11:15:35.296Z"
   },
   {
    "duration": 209,
    "start_time": "2022-02-05T11:15:35.303Z"
   },
   {
    "duration": 18,
    "start_time": "2022-02-05T11:15:35.514Z"
   },
   {
    "duration": 7,
    "start_time": "2022-02-05T11:15:35.533Z"
   },
   {
    "duration": 10,
    "start_time": "2022-02-05T11:15:35.541Z"
   },
   {
    "duration": 20,
    "start_time": "2022-02-05T11:15:35.552Z"
   },
   {
    "duration": 10,
    "start_time": "2022-02-05T11:15:35.574Z"
   },
   {
    "duration": 5,
    "start_time": "2022-02-05T11:15:35.585Z"
   },
   {
    "duration": 12,
    "start_time": "2022-02-05T11:15:35.591Z"
   },
   {
    "duration": 42,
    "start_time": "2022-02-05T11:15:35.604Z"
   },
   {
    "duration": 3,
    "start_time": "2022-02-05T11:15:35.648Z"
   },
   {
    "duration": 37,
    "start_time": "2022-02-05T11:15:35.652Z"
   },
   {
    "duration": 7,
    "start_time": "2022-02-05T11:15:35.690Z"
   },
   {
    "duration": 27,
    "start_time": "2022-02-05T11:15:35.701Z"
   },
   {
    "duration": 4,
    "start_time": "2022-02-05T11:15:35.730Z"
   },
   {
    "duration": 5,
    "start_time": "2022-02-05T11:15:35.736Z"
   },
   {
    "duration": 30,
    "start_time": "2022-02-05T11:15:35.742Z"
   },
   {
    "duration": 4,
    "start_time": "2022-02-05T11:15:35.773Z"
   },
   {
    "duration": 14,
    "start_time": "2022-02-05T11:15:35.779Z"
   },
   {
    "duration": 7,
    "start_time": "2022-02-05T11:15:35.794Z"
   },
   {
    "duration": 8,
    "start_time": "2022-02-05T11:15:35.802Z"
   },
   {
    "duration": 16,
    "start_time": "2022-02-05T11:15:35.811Z"
   },
   {
    "duration": 4,
    "start_time": "2022-02-05T11:15:35.828Z"
   },
   {
    "duration": 6,
    "start_time": "2022-02-05T11:15:35.833Z"
   },
   {
    "duration": 565,
    "start_time": "2022-02-05T11:15:35.840Z"
   },
   {
    "duration": 7,
    "start_time": "2022-02-05T11:15:36.407Z"
   },
   {
    "duration": 19,
    "start_time": "2022-02-05T11:15:36.416Z"
   },
   {
    "duration": 7,
    "start_time": "2022-02-05T11:15:36.437Z"
   },
   {
    "duration": 6,
    "start_time": "2022-02-05T11:15:36.445Z"
   },
   {
    "duration": 4,
    "start_time": "2022-02-05T11:15:36.453Z"
   },
   {
    "duration": 6,
    "start_time": "2022-02-05T11:15:36.458Z"
   },
   {
    "duration": 13,
    "start_time": "2022-02-05T11:15:36.465Z"
   },
   {
    "duration": 5,
    "start_time": "2022-02-05T11:15:36.479Z"
   },
   {
    "duration": 5,
    "start_time": "2022-02-05T11:15:36.486Z"
   },
   {
    "duration": 6,
    "start_time": "2022-02-05T11:15:36.492Z"
   },
   {
    "duration": 29,
    "start_time": "2022-02-05T11:15:36.499Z"
   },
   {
    "duration": 12,
    "start_time": "2022-02-05T11:15:36.529Z"
   },
   {
    "duration": 2,
    "start_time": "2022-02-05T11:15:36.542Z"
   },
   {
    "duration": 472,
    "start_time": "2022-02-05T11:15:36.546Z"
   },
   {
    "duration": 4,
    "start_time": "2022-02-05T11:15:37.020Z"
   },
   {
    "duration": 5,
    "start_time": "2022-02-05T11:15:37.025Z"
   },
   {
    "duration": 276,
    "start_time": "2022-02-05T11:15:37.032Z"
   },
   {
    "duration": 335,
    "start_time": "2022-02-05T11:15:37.309Z"
   },
   {
    "duration": 252,
    "start_time": "2022-02-05T11:15:37.645Z"
   },
   {
    "duration": 223,
    "start_time": "2022-02-05T11:15:37.899Z"
   },
   {
    "duration": 317,
    "start_time": "2022-02-05T11:15:38.123Z"
   },
   {
    "duration": 172,
    "start_time": "2022-02-05T11:15:38.442Z"
   },
   {
    "duration": 12,
    "start_time": "2022-02-05T11:15:38.616Z"
   },
   {
    "duration": 4,
    "start_time": "2022-02-05T11:15:38.629Z"
   },
   {
    "duration": 7,
    "start_time": "2022-02-05T11:15:38.634Z"
   },
   {
    "duration": 122,
    "start_time": "2022-02-05T11:15:38.642Z"
   },
   {
    "duration": 6,
    "start_time": "2022-02-05T11:15:38.766Z"
   },
   {
    "duration": 358,
    "start_time": "2022-02-05T11:15:38.774Z"
   },
   {
    "duration": 22,
    "start_time": "2022-02-05T11:15:39.134Z"
   },
   {
    "duration": 197,
    "start_time": "2022-02-05T11:15:39.157Z"
   },
   {
    "duration": 153,
    "start_time": "2022-02-05T11:15:39.355Z"
   },
   {
    "duration": 5,
    "start_time": "2022-02-05T11:15:39.509Z"
   },
   {
    "duration": 13,
    "start_time": "2022-02-05T11:15:39.515Z"
   },
   {
    "duration": 3,
    "start_time": "2022-02-05T11:15:39.533Z"
   },
   {
    "duration": 228,
    "start_time": "2022-02-05T11:15:39.538Z"
   },
   {
    "duration": 11,
    "start_time": "2022-02-05T11:15:39.767Z"
   },
   {
    "duration": 8,
    "start_time": "2022-02-05T11:15:39.780Z"
   },
   {
    "duration": 4,
    "start_time": "2022-02-05T11:15:39.789Z"
   },
   {
    "duration": 6,
    "start_time": "2022-02-05T11:15:39.794Z"
   },
   {
    "duration": 33,
    "start_time": "2022-02-05T11:15:39.801Z"
   },
   {
    "duration": 2,
    "start_time": "2022-02-05T11:15:39.836Z"
   },
   {
    "duration": 5,
    "start_time": "2022-02-05T11:15:39.840Z"
   },
   {
    "duration": 122,
    "start_time": "2022-02-05T11:15:39.846Z"
   },
   {
    "duration": 6,
    "start_time": "2022-02-05T11:15:39.969Z"
   },
   {
    "duration": 3,
    "start_time": "2022-02-05T11:15:39.976Z"
   },
   {
    "duration": 5,
    "start_time": "2022-02-05T11:15:39.981Z"
   },
   {
    "duration": 5,
    "start_time": "2022-02-05T11:15:39.987Z"
   },
   {
    "duration": 3,
    "start_time": "2022-02-05T11:15:39.994Z"
   },
   {
    "duration": 228,
    "start_time": "2022-02-05T11:15:39.999Z"
   },
   {
    "duration": 8,
    "start_time": "2022-02-05T11:15:40.228Z"
   },
   {
    "duration": 3,
    "start_time": "2022-02-05T11:15:40.237Z"
   },
   {
    "duration": 7,
    "start_time": "2022-02-05T11:15:40.242Z"
   },
   {
    "duration": 6,
    "start_time": "2022-02-05T11:15:40.250Z"
   },
   {
    "duration": 37,
    "start_time": "2022-02-05T11:15:40.258Z"
   },
   {
    "duration": 7,
    "start_time": "2022-02-05T11:15:40.296Z"
   },
   {
    "duration": 14,
    "start_time": "2022-02-05T11:15:40.327Z"
   },
   {
    "duration": 2,
    "start_time": "2022-02-05T11:15:40.342Z"
   },
   {
    "duration": 13,
    "start_time": "2022-02-05T11:15:40.346Z"
   },
   {
    "duration": 174,
    "start_time": "2022-02-05T11:15:40.360Z"
   },
   {
    "duration": 10,
    "start_time": "2022-02-05T11:15:40.535Z"
   },
   {
    "duration": 101,
    "start_time": "2022-02-05T11:15:40.546Z"
   },
   {
    "duration": -7204,
    "start_time": "2022-02-05T11:15:47.852Z"
   },
   {
    "duration": -7214,
    "start_time": "2022-02-05T11:15:47.863Z"
   },
   {
    "duration": -7219,
    "start_time": "2022-02-05T11:15:47.869Z"
   },
   {
    "duration": -7227,
    "start_time": "2022-02-05T11:15:47.878Z"
   },
   {
    "duration": -7232,
    "start_time": "2022-02-05T11:15:47.884Z"
   },
   {
    "duration": -7243,
    "start_time": "2022-02-05T11:15:47.896Z"
   },
   {
    "duration": -7251,
    "start_time": "2022-02-05T11:15:47.904Z"
   },
   {
    "duration": -7260,
    "start_time": "2022-02-05T11:15:47.914Z"
   },
   {
    "duration": -7266,
    "start_time": "2022-02-05T11:15:47.921Z"
   },
   {
    "duration": -7275,
    "start_time": "2022-02-05T11:15:47.931Z"
   },
   {
    "duration": -7283,
    "start_time": "2022-02-05T11:15:47.940Z"
   },
   {
    "duration": -7289,
    "start_time": "2022-02-05T11:15:47.947Z"
   },
   {
    "duration": -7295,
    "start_time": "2022-02-05T11:15:47.954Z"
   },
   {
    "duration": -7305,
    "start_time": "2022-02-05T11:15:47.965Z"
   },
   {
    "duration": -7354,
    "start_time": "2022-02-05T11:15:48.015Z"
   },
   {
    "duration": -7365,
    "start_time": "2022-02-05T11:15:48.027Z"
   },
   {
    "duration": -7391,
    "start_time": "2022-02-05T11:15:48.054Z"
   },
   {
    "duration": -7415,
    "start_time": "2022-02-05T11:15:48.079Z"
   },
   {
    "duration": -7421,
    "start_time": "2022-02-05T11:15:48.086Z"
   },
   {
    "duration": -7431,
    "start_time": "2022-02-05T11:15:48.097Z"
   },
   {
    "duration": -7438,
    "start_time": "2022-02-05T11:15:48.105Z"
   },
   {
    "duration": -7445,
    "start_time": "2022-02-05T11:15:48.113Z"
   },
   {
    "duration": -7452,
    "start_time": "2022-02-05T11:15:48.121Z"
   },
   {
    "duration": -7462,
    "start_time": "2022-02-05T11:15:48.132Z"
   },
   {
    "duration": -7471,
    "start_time": "2022-02-05T11:15:48.141Z"
   },
   {
    "duration": -7479,
    "start_time": "2022-02-05T11:15:48.150Z"
   },
   {
    "duration": -7489,
    "start_time": "2022-02-05T11:15:48.161Z"
   },
   {
    "duration": -7496,
    "start_time": "2022-02-05T11:15:48.169Z"
   },
   {
    "duration": -7504,
    "start_time": "2022-02-05T11:15:48.178Z"
   },
   {
    "duration": -7512,
    "start_time": "2022-02-05T11:15:48.187Z"
   },
   {
    "duration": -7520,
    "start_time": "2022-02-05T11:15:48.196Z"
   },
   {
    "duration": -7527,
    "start_time": "2022-02-05T11:15:48.204Z"
   },
   {
    "duration": -7537,
    "start_time": "2022-02-05T11:15:48.215Z"
   },
   {
    "duration": -7546,
    "start_time": "2022-02-05T11:15:48.225Z"
   },
   {
    "duration": -7554,
    "start_time": "2022-02-05T11:15:48.234Z"
   },
   {
    "duration": -7562,
    "start_time": "2022-02-05T11:15:48.243Z"
   },
   {
    "duration": -7569,
    "start_time": "2022-02-05T11:15:48.251Z"
   },
   {
    "duration": -7579,
    "start_time": "2022-02-05T11:15:48.262Z"
   },
   {
    "duration": -7585,
    "start_time": "2022-02-05T11:15:48.269Z"
   },
   {
    "duration": -7592,
    "start_time": "2022-02-05T11:15:48.277Z"
   },
   {
    "duration": 1954,
    "start_time": "2022-02-05T11:16:12.335Z"
   },
   {
    "duration": 1832,
    "start_time": "2022-02-05T11:16:29.322Z"
   },
   {
    "duration": 306,
    "start_time": "2022-02-05T11:17:29.320Z"
   },
   {
    "duration": 333,
    "start_time": "2022-02-05T11:17:41.395Z"
   },
   {
    "duration": 404,
    "start_time": "2022-02-05T11:18:23.958Z"
   },
   {
    "duration": 478,
    "start_time": "2022-02-05T11:18:44.470Z"
   },
   {
    "duration": 3,
    "start_time": "2022-02-05T11:19:04.135Z"
   },
   {
    "duration": 16,
    "start_time": "2022-02-05T11:19:13.397Z"
   },
   {
    "duration": 2,
    "start_time": "2022-02-05T11:19:14.623Z"
   },
   {
    "duration": 316,
    "start_time": "2022-02-05T11:19:15.262Z"
   },
   {
    "duration": 320,
    "start_time": "2022-02-05T11:19:16.164Z"
   },
   {
    "duration": 320,
    "start_time": "2022-02-05T11:20:58.539Z"
   },
   {
    "duration": 15,
    "start_time": "2022-02-05T11:21:09.996Z"
   },
   {
    "duration": 2,
    "start_time": "2022-02-05T11:21:10.911Z"
   },
   {
    "duration": 324,
    "start_time": "2022-02-05T11:21:12.012Z"
   },
   {
    "duration": 12,
    "start_time": "2022-02-05T11:21:26.349Z"
   },
   {
    "duration": 19,
    "start_time": "2022-02-05T11:21:49.241Z"
   },
   {
    "duration": 2,
    "start_time": "2022-02-05T11:21:49.587Z"
   },
   {
    "duration": 7,
    "start_time": "2022-02-05T11:21:49.994Z"
   },
   {
    "duration": 178,
    "start_time": "2022-02-05T11:21:51.021Z"
   },
   {
    "duration": 743,
    "start_time": "2022-02-11T18:34:40.051Z"
   },
   {
    "duration": 30,
    "start_time": "2022-02-11T18:34:40.796Z"
   },
   {
    "duration": 10,
    "start_time": "2022-02-11T18:34:40.828Z"
   },
   {
    "duration": 33,
    "start_time": "2022-02-11T18:34:40.840Z"
   },
   {
    "duration": 62,
    "start_time": "2022-02-11T18:34:40.875Z"
   },
   {
    "duration": 2,
    "start_time": "2022-02-11T18:34:40.939Z"
   },
   {
    "duration": 99,
    "start_time": "2022-02-11T18:34:40.943Z"
   },
   {
    "duration": 7,
    "start_time": "2022-02-11T18:34:41.044Z"
   },
   {
    "duration": 19,
    "start_time": "2022-02-11T18:34:41.053Z"
   },
   {
    "duration": 6,
    "start_time": "2022-02-11T18:34:41.073Z"
   },
   {
    "duration": 209,
    "start_time": "2022-02-11T18:34:41.080Z"
   },
   {
    "duration": 14,
    "start_time": "2022-02-11T18:34:41.290Z"
   },
   {
    "duration": 7,
    "start_time": "2022-02-11T18:34:41.305Z"
   },
   {
    "duration": 6,
    "start_time": "2022-02-11T18:34:41.314Z"
   },
   {
    "duration": 19,
    "start_time": "2022-02-11T18:34:41.321Z"
   },
   {
    "duration": 30,
    "start_time": "2022-02-11T18:34:41.342Z"
   },
   {
    "duration": 6,
    "start_time": "2022-02-11T18:34:41.373Z"
   },
   {
    "duration": 9,
    "start_time": "2022-02-11T18:34:41.380Z"
   },
   {
    "duration": 22,
    "start_time": "2022-02-11T18:34:41.390Z"
   },
   {
    "duration": 3,
    "start_time": "2022-02-11T18:34:41.414Z"
   },
   {
    "duration": 64,
    "start_time": "2022-02-11T18:34:41.419Z"
   },
   {
    "duration": 7,
    "start_time": "2022-02-11T18:34:41.485Z"
   },
   {
    "duration": 5,
    "start_time": "2022-02-11T18:34:41.495Z"
   },
   {
    "duration": 5,
    "start_time": "2022-02-11T18:34:41.502Z"
   },
   {
    "duration": 4,
    "start_time": "2022-02-11T18:34:41.508Z"
   },
   {
    "duration": 33,
    "start_time": "2022-02-11T18:34:41.513Z"
   },
   {
    "duration": 26,
    "start_time": "2022-02-11T18:34:41.548Z"
   },
   {
    "duration": 5,
    "start_time": "2022-02-11T18:34:41.575Z"
   },
   {
    "duration": 5,
    "start_time": "2022-02-11T18:34:41.581Z"
   },
   {
    "duration": 9,
    "start_time": "2022-02-11T18:34:41.587Z"
   },
   {
    "duration": 8,
    "start_time": "2022-02-11T18:34:41.597Z"
   },
   {
    "duration": 8,
    "start_time": "2022-02-11T18:34:41.606Z"
   },
   {
    "duration": 8,
    "start_time": "2022-02-11T18:34:41.615Z"
   },
   {
    "duration": 494,
    "start_time": "2022-02-11T18:34:41.624Z"
   },
   {
    "duration": 8,
    "start_time": "2022-02-11T18:34:42.120Z"
   },
   {
    "duration": 12,
    "start_time": "2022-02-11T18:34:42.129Z"
   },
   {
    "duration": 8,
    "start_time": "2022-02-11T18:34:42.142Z"
   },
   {
    "duration": 19,
    "start_time": "2022-02-11T18:34:42.152Z"
   },
   {
    "duration": 4,
    "start_time": "2022-02-11T18:34:42.173Z"
   },
   {
    "duration": 5,
    "start_time": "2022-02-11T18:34:42.178Z"
   },
   {
    "duration": 9,
    "start_time": "2022-02-11T18:34:42.184Z"
   },
   {
    "duration": 6,
    "start_time": "2022-02-11T18:34:42.195Z"
   },
   {
    "duration": 10,
    "start_time": "2022-02-11T18:34:42.203Z"
   },
   {
    "duration": 10,
    "start_time": "2022-02-11T18:34:42.214Z"
   },
   {
    "duration": 9,
    "start_time": "2022-02-11T18:34:42.226Z"
   },
   {
    "duration": 15,
    "start_time": "2022-02-11T18:34:42.236Z"
   },
   {
    "duration": 19,
    "start_time": "2022-02-11T18:34:42.253Z"
   },
   {
    "duration": 465,
    "start_time": "2022-02-11T18:34:42.273Z"
   },
   {
    "duration": 4,
    "start_time": "2022-02-11T18:34:42.740Z"
   },
   {
    "duration": 5,
    "start_time": "2022-02-11T18:34:42.745Z"
   },
   {
    "duration": 292,
    "start_time": "2022-02-11T18:34:42.751Z"
   },
   {
    "duration": 344,
    "start_time": "2022-02-11T18:34:43.044Z"
   },
   {
    "duration": 262,
    "start_time": "2022-02-11T18:34:43.389Z"
   },
   {
    "duration": 234,
    "start_time": "2022-02-11T18:34:43.652Z"
   },
   {
    "duration": 311,
    "start_time": "2022-02-11T18:34:43.887Z"
   },
   {
    "duration": 174,
    "start_time": "2022-02-11T18:34:44.199Z"
   },
   {
    "duration": 7,
    "start_time": "2022-02-11T18:34:44.374Z"
   },
   {
    "duration": 5,
    "start_time": "2022-02-11T18:34:44.382Z"
   },
   {
    "duration": 7,
    "start_time": "2022-02-11T18:34:44.388Z"
   },
   {
    "duration": 127,
    "start_time": "2022-02-11T18:34:44.396Z"
   },
   {
    "duration": 7,
    "start_time": "2022-02-11T18:34:44.525Z"
   },
   {
    "duration": 352,
    "start_time": "2022-02-11T18:34:44.533Z"
   },
   {
    "duration": 22,
    "start_time": "2022-02-11T18:34:44.887Z"
   },
   {
    "duration": 195,
    "start_time": "2022-02-11T18:34:44.910Z"
   },
   {
    "duration": 123,
    "start_time": "2022-02-11T18:34:45.106Z"
   },
   {
    "duration": 5,
    "start_time": "2022-02-11T18:34:45.230Z"
   },
   {
    "duration": 4,
    "start_time": "2022-02-11T18:34:45.236Z"
   },
   {
    "duration": 3,
    "start_time": "2022-02-11T18:34:45.246Z"
   },
   {
    "duration": 247,
    "start_time": "2022-02-11T18:34:45.251Z"
   },
   {
    "duration": 12,
    "start_time": "2022-02-11T18:34:45.499Z"
   },
   {
    "duration": 7,
    "start_time": "2022-02-11T18:34:45.512Z"
   },
   {
    "duration": 4,
    "start_time": "2022-02-11T18:34:45.521Z"
   },
   {
    "duration": 5,
    "start_time": "2022-02-11T18:34:45.526Z"
   },
   {
    "duration": 8,
    "start_time": "2022-02-11T18:34:45.532Z"
   },
   {
    "duration": 3,
    "start_time": "2022-02-11T18:34:45.542Z"
   },
   {
    "duration": 3,
    "start_time": "2022-02-11T18:34:45.572Z"
   },
   {
    "duration": 124,
    "start_time": "2022-02-11T18:34:45.577Z"
   },
   {
    "duration": 6,
    "start_time": "2022-02-11T18:34:45.702Z"
   },
   {
    "duration": 4,
    "start_time": "2022-02-11T18:34:45.710Z"
   },
   {
    "duration": 4,
    "start_time": "2022-02-11T18:34:45.715Z"
   },
   {
    "duration": 7,
    "start_time": "2022-02-11T18:34:45.721Z"
   },
   {
    "duration": 24,
    "start_time": "2022-02-11T18:34:45.729Z"
   },
   {
    "duration": 221,
    "start_time": "2022-02-11T18:34:45.755Z"
   },
   {
    "duration": 9,
    "start_time": "2022-02-11T18:34:45.978Z"
   },
   {
    "duration": 8,
    "start_time": "2022-02-11T18:34:45.989Z"
   },
   {
    "duration": 16,
    "start_time": "2022-02-11T18:34:45.999Z"
   },
   {
    "duration": 22,
    "start_time": "2022-02-11T18:34:46.016Z"
   },
   {
    "duration": -18100,
    "start_time": "2022-02-11T18:36:47.908Z"
   },
   {
    "duration": -18106,
    "start_time": "2022-02-11T18:36:47.915Z"
   },
   {
    "duration": -18116,
    "start_time": "2022-02-11T18:36:47.926Z"
   },
   {
    "duration": -18125,
    "start_time": "2022-02-11T18:36:47.936Z"
   },
   {
    "duration": -18132,
    "start_time": "2022-02-11T18:36:47.944Z"
   },
   {
    "duration": -18144,
    "start_time": "2022-02-11T18:36:47.957Z"
   },
   {
    "duration": -18156,
    "start_time": "2022-02-11T18:36:47.970Z"
   },
   {
    "duration": -18163,
    "start_time": "2022-02-11T18:36:47.978Z"
   },
   {
    "duration": -18175,
    "start_time": "2022-02-11T18:36:47.991Z"
   },
   {
    "duration": -18192,
    "start_time": "2022-02-11T18:36:48.009Z"
   },
   {
    "duration": -18204,
    "start_time": "2022-02-11T18:36:48.022Z"
   },
   {
    "duration": -18211,
    "start_time": "2022-02-11T18:36:48.030Z"
   },
   {
    "duration": -18220,
    "start_time": "2022-02-11T18:36:48.040Z"
   },
   {
    "duration": -18230,
    "start_time": "2022-02-11T18:36:48.051Z"
   },
   {
    "duration": -18238,
    "start_time": "2022-02-11T18:36:48.060Z"
   },
   {
    "duration": -18247,
    "start_time": "2022-02-11T18:36:48.070Z"
   },
   {
    "duration": -18256,
    "start_time": "2022-02-11T18:36:48.080Z"
   },
   {
    "duration": -18264,
    "start_time": "2022-02-11T18:36:48.089Z"
   },
   {
    "duration": -18275,
    "start_time": "2022-02-11T18:36:48.101Z"
   },
   {
    "duration": -18284,
    "start_time": "2022-02-11T18:36:48.111Z"
   },
   {
    "duration": -18293,
    "start_time": "2022-02-11T18:36:48.121Z"
   },
   {
    "duration": -18302,
    "start_time": "2022-02-11T18:36:48.131Z"
   },
   {
    "duration": -18311,
    "start_time": "2022-02-11T18:36:48.141Z"
   },
   {
    "duration": -18322,
    "start_time": "2022-02-11T18:36:48.153Z"
   },
   {
    "duration": -18334,
    "start_time": "2022-02-11T18:36:48.166Z"
   },
   {
    "duration": -18344,
    "start_time": "2022-02-11T18:36:48.177Z"
   },
   {
    "duration": -18355,
    "start_time": "2022-02-11T18:36:48.188Z"
   },
   {
    "duration": -18360,
    "start_time": "2022-02-11T18:36:48.195Z"
   },
   {
    "duration": -18369,
    "start_time": "2022-02-11T18:36:48.205Z"
   },
   {
    "duration": -18375,
    "start_time": "2022-02-11T18:36:48.212Z"
   },
   {
    "duration": -18388,
    "start_time": "2022-02-11T18:36:48.225Z"
   },
   {
    "duration": -18397,
    "start_time": "2022-02-11T18:36:48.235Z"
   },
   {
    "duration": -18405,
    "start_time": "2022-02-11T18:36:48.244Z"
   },
   {
    "duration": -18415,
    "start_time": "2022-02-11T18:36:48.255Z"
   },
   {
    "duration": -18433,
    "start_time": "2022-02-11T18:36:48.274Z"
   },
   {
    "duration": -18442,
    "start_time": "2022-02-11T18:36:48.284Z"
   },
   {
    "duration": -18450,
    "start_time": "2022-02-11T18:36:48.293Z"
   },
   {
    "duration": -18471,
    "start_time": "2022-02-11T18:36:48.315Z"
   },
   {
    "duration": -18492,
    "start_time": "2022-02-11T18:36:48.337Z"
   },
   {
    "duration": -18490,
    "start_time": "2022-02-11T18:36:48.361Z"
   },
   {
    "duration": -18514,
    "start_time": "2022-02-11T18:36:48.387Z"
   },
   {
    "duration": -18523,
    "start_time": "2022-02-11T18:36:48.397Z"
   },
   {
    "duration": -18534,
    "start_time": "2022-02-11T18:36:48.409Z"
   },
   {
    "duration": -18586,
    "start_time": "2022-02-11T18:36:48.462Z"
   },
   {
    "duration": -18610,
    "start_time": "2022-02-11T18:36:48.487Z"
   },
   {
    "duration": -18638,
    "start_time": "2022-02-11T18:36:48.516Z"
   },
   {
    "duration": -18660,
    "start_time": "2022-02-11T18:36:48.538Z"
   },
   {
    "duration": -18666,
    "start_time": "2022-02-11T18:36:48.545Z"
   },
   {
    "duration": -18685,
    "start_time": "2022-02-11T18:36:48.565Z"
   },
   {
    "duration": -18710,
    "start_time": "2022-02-11T18:36:48.591Z"
   },
   {
    "duration": -18723,
    "start_time": "2022-02-11T18:36:48.605Z"
   },
   {
    "duration": -18732,
    "start_time": "2022-02-11T18:36:48.615Z"
   },
   {
    "duration": -18741,
    "start_time": "2022-02-11T18:36:48.625Z"
   },
   {
    "duration": -18752,
    "start_time": "2022-02-11T18:36:48.637Z"
   },
   {
    "duration": -18767,
    "start_time": "2022-02-11T18:36:48.653Z"
   },
   {
    "duration": -18775,
    "start_time": "2022-02-11T18:36:48.662Z"
   },
   {
    "duration": -18790,
    "start_time": "2022-02-11T18:36:48.677Z"
   },
   {
    "duration": -18803,
    "start_time": "2022-02-11T18:36:48.691Z"
   },
   {
    "duration": -18815,
    "start_time": "2022-02-11T18:36:48.704Z"
   },
   {
    "duration": -18825,
    "start_time": "2022-02-11T18:36:48.715Z"
   },
   {
    "duration": -18833,
    "start_time": "2022-02-11T18:36:48.724Z"
   },
   {
    "duration": -18844,
    "start_time": "2022-02-11T18:36:48.736Z"
   },
   {
    "duration": -18871,
    "start_time": "2022-02-11T18:36:48.764Z"
   },
   {
    "duration": -18880,
    "start_time": "2022-02-11T18:36:48.774Z"
   },
   {
    "duration": -18891,
    "start_time": "2022-02-11T18:36:48.786Z"
   },
   {
    "duration": -18900,
    "start_time": "2022-02-11T18:36:48.796Z"
   },
   {
    "duration": -18909,
    "start_time": "2022-02-11T18:36:48.806Z"
   },
   {
    "duration": -18918,
    "start_time": "2022-02-11T18:36:48.816Z"
   },
   {
    "duration": -18927,
    "start_time": "2022-02-11T18:36:48.825Z"
   },
   {
    "duration": -18936,
    "start_time": "2022-02-11T18:36:48.835Z"
   },
   {
    "duration": -18944,
    "start_time": "2022-02-11T18:36:48.844Z"
   },
   {
    "duration": -18951,
    "start_time": "2022-02-11T18:36:48.852Z"
   },
   {
    "duration": -18957,
    "start_time": "2022-02-11T18:36:48.859Z"
   },
   {
    "duration": -18963,
    "start_time": "2022-02-11T18:36:48.866Z"
   },
   {
    "duration": -18971,
    "start_time": "2022-02-11T18:36:48.874Z"
   },
   {
    "duration": -18976,
    "start_time": "2022-02-11T18:36:48.880Z"
   },
   {
    "duration": -18983,
    "start_time": "2022-02-11T18:36:48.888Z"
   },
   {
    "duration": -18990,
    "start_time": "2022-02-11T18:36:48.895Z"
   },
   {
    "duration": -18997,
    "start_time": "2022-02-11T18:36:48.903Z"
   },
   {
    "duration": -19002,
    "start_time": "2022-02-11T18:36:48.909Z"
   },
   {
    "duration": -19011,
    "start_time": "2022-02-11T18:36:48.918Z"
   },
   {
    "duration": -19017,
    "start_time": "2022-02-11T18:36:48.925Z"
   },
   {
    "duration": -19024,
    "start_time": "2022-02-11T18:36:48.933Z"
   },
   {
    "duration": -19030,
    "start_time": "2022-02-11T18:36:48.939Z"
   },
   {
    "duration": -19037,
    "start_time": "2022-02-11T18:36:48.947Z"
   },
   {
    "duration": -19044,
    "start_time": "2022-02-11T18:36:48.955Z"
   },
   {
    "duration": -19051,
    "start_time": "2022-02-11T18:36:48.962Z"
   },
   {
    "duration": -19057,
    "start_time": "2022-02-11T18:36:48.969Z"
   },
   {
    "duration": -19065,
    "start_time": "2022-02-11T18:36:48.977Z"
   },
   {
    "duration": -19073,
    "start_time": "2022-02-11T18:36:48.986Z"
   },
   {
    "duration": -19080,
    "start_time": "2022-02-11T18:36:48.993Z"
   },
   {
    "duration": -19086,
    "start_time": "2022-02-11T18:36:49.000Z"
   },
   {
    "duration": -19035,
    "start_time": "2022-02-11T18:36:49.007Z"
   },
   {
    "duration": -19042,
    "start_time": "2022-02-11T18:36:49.015Z"
   },
   {
    "duration": -19049,
    "start_time": "2022-02-11T18:36:49.022Z"
   },
   {
    "duration": -19055,
    "start_time": "2022-02-11T18:36:49.029Z"
   },
   {
    "duration": -19063,
    "start_time": "2022-02-11T18:36:49.038Z"
   },
   {
    "duration": -19069,
    "start_time": "2022-02-11T18:36:49.044Z"
   },
   {
    "duration": -19076,
    "start_time": "2022-02-11T18:36:49.052Z"
   },
   {
    "duration": -19081,
    "start_time": "2022-02-11T18:36:49.058Z"
   },
   {
    "duration": -19089,
    "start_time": "2022-02-11T18:36:49.066Z"
   },
   {
    "duration": -19095,
    "start_time": "2022-02-11T18:36:49.073Z"
   },
   {
    "duration": -19102,
    "start_time": "2022-02-11T18:36:49.081Z"
   },
   {
    "duration": -19108,
    "start_time": "2022-02-11T18:36:49.088Z"
   },
   {
    "duration": -19115,
    "start_time": "2022-02-11T18:36:49.095Z"
   },
   {
    "duration": -19122,
    "start_time": "2022-02-11T18:36:49.103Z"
   },
   {
    "duration": -19129,
    "start_time": "2022-02-11T18:36:49.111Z"
   },
   {
    "duration": -19136,
    "start_time": "2022-02-11T18:36:49.118Z"
   },
   {
    "duration": -19142,
    "start_time": "2022-02-11T18:36:49.125Z"
   },
   {
    "duration": -19148,
    "start_time": "2022-02-11T18:36:49.132Z"
   },
   {
    "duration": -19156,
    "start_time": "2022-02-11T18:36:49.140Z"
   },
   {
    "duration": -19161,
    "start_time": "2022-02-11T18:36:49.146Z"
   },
   {
    "duration": -19169,
    "start_time": "2022-02-11T18:36:49.155Z"
   },
   {
    "duration": -19174,
    "start_time": "2022-02-11T18:36:49.161Z"
   },
   {
    "duration": -19182,
    "start_time": "2022-02-11T18:36:49.169Z"
   },
   {
    "duration": -19187,
    "start_time": "2022-02-11T18:36:49.175Z"
   },
   {
    "duration": -19194,
    "start_time": "2022-02-11T18:36:49.183Z"
   },
   {
    "duration": -19201,
    "start_time": "2022-02-11T18:36:49.190Z"
   },
   {
    "duration": -19207,
    "start_time": "2022-02-11T18:36:49.197Z"
   },
   {
    "duration": -19213,
    "start_time": "2022-02-11T18:36:49.204Z"
   },
   {
    "duration": -19219,
    "start_time": "2022-02-11T18:36:49.211Z"
   },
   {
    "duration": -19226,
    "start_time": "2022-02-11T18:36:49.218Z"
   },
   {
    "duration": -19232,
    "start_time": "2022-02-11T18:36:49.225Z"
   },
   {
    "duration": -19239,
    "start_time": "2022-02-11T18:36:49.233Z"
   },
   {
    "duration": -19247,
    "start_time": "2022-02-11T18:36:49.242Z"
   },
   {
    "duration": -19253,
    "start_time": "2022-02-11T18:36:49.249Z"
   },
   {
    "duration": -19260,
    "start_time": "2022-02-11T18:36:49.257Z"
   },
   {
    "duration": -19266,
    "start_time": "2022-02-11T18:36:49.264Z"
   },
   {
    "duration": -19273,
    "start_time": "2022-02-11T18:36:49.271Z"
   },
   {
    "duration": -19278,
    "start_time": "2022-02-11T18:36:49.277Z"
   },
   {
    "duration": -19285,
    "start_time": "2022-02-11T18:36:49.285Z"
   },
   {
    "duration": -19291,
    "start_time": "2022-02-11T18:36:49.292Z"
   },
   {
    "duration": -19297,
    "start_time": "2022-02-11T18:36:49.299Z"
   },
   {
    "duration": -19303,
    "start_time": "2022-02-11T18:36:49.306Z"
   },
   {
    "duration": -19310,
    "start_time": "2022-02-11T18:36:49.314Z"
   },
   {
    "duration": -19317,
    "start_time": "2022-02-11T18:36:49.321Z"
   },
   {
    "duration": 58,
    "start_time": "2022-02-11T18:39:40.584Z"
   },
   {
    "duration": 25,
    "start_time": "2022-02-11T18:39:41.356Z"
   },
   {
    "duration": 11,
    "start_time": "2022-02-11T18:39:42.970Z"
   },
   {
    "duration": 10,
    "start_time": "2022-02-11T18:39:44.068Z"
   },
   {
    "duration": 63,
    "start_time": "2022-02-11T18:39:44.962Z"
   },
   {
    "duration": 3,
    "start_time": "2022-02-11T18:39:46.117Z"
   },
   {
    "duration": 73,
    "start_time": "2022-02-11T18:39:46.405Z"
   },
   {
    "duration": 8,
    "start_time": "2022-02-11T18:39:47.711Z"
   },
   {
    "duration": 8,
    "start_time": "2022-02-11T18:39:47.966Z"
   },
   {
    "duration": 11,
    "start_time": "2022-02-11T18:39:48.206Z"
   },
   {
    "duration": 307,
    "start_time": "2022-02-11T18:39:48.456Z"
   },
   {
    "duration": 19,
    "start_time": "2022-02-11T18:39:49.329Z"
   },
   {
    "duration": 8,
    "start_time": "2022-02-11T18:39:49.533Z"
   },
   {
    "duration": 6,
    "start_time": "2022-02-11T18:39:49.949Z"
   },
   {
    "duration": 16,
    "start_time": "2022-02-11T18:39:50.143Z"
   },
   {
    "duration": 9,
    "start_time": "2022-02-11T18:39:50.348Z"
   },
   {
    "duration": 7,
    "start_time": "2022-02-11T18:39:50.552Z"
   },
   {
    "duration": 9,
    "start_time": "2022-02-11T18:39:50.736Z"
   },
   {
    "duration": 21,
    "start_time": "2022-02-11T18:39:50.941Z"
   },
   {
    "duration": 4,
    "start_time": "2022-02-11T18:39:51.125Z"
   },
   {
    "duration": 38,
    "start_time": "2022-02-11T18:39:51.521Z"
   },
   {
    "duration": 7,
    "start_time": "2022-02-11T18:39:51.934Z"
   },
   {
    "duration": 6,
    "start_time": "2022-02-11T18:39:52.347Z"
   },
   {
    "duration": 6,
    "start_time": "2022-02-11T18:39:52.554Z"
   },
   {
    "duration": 5,
    "start_time": "2022-02-11T18:39:52.766Z"
   },
   {
    "duration": 32,
    "start_time": "2022-02-11T18:39:53.385Z"
   },
   {
    "duration": 5,
    "start_time": "2022-02-11T18:39:53.592Z"
   },
   {
    "duration": 6,
    "start_time": "2022-02-11T18:39:53.794Z"
   },
   {
    "duration": 5,
    "start_time": "2022-02-11T18:39:54.201Z"
   },
   {
    "duration": 6,
    "start_time": "2022-02-11T18:39:54.419Z"
   },
   {
    "duration": 6,
    "start_time": "2022-02-11T18:39:54.670Z"
   },
   {
    "duration": 6,
    "start_time": "2022-02-11T18:39:55.404Z"
   },
   {
    "duration": 5,
    "start_time": "2022-02-11T18:39:55.655Z"
   },
   {
    "duration": 482,
    "start_time": "2022-02-11T18:39:55.871Z"
   },
   {
    "duration": 16,
    "start_time": "2022-02-11T18:39:56.355Z"
   },
   {
    "duration": 12,
    "start_time": "2022-02-11T18:39:56.373Z"
   },
   {
    "duration": 8,
    "start_time": "2022-02-11T18:39:56.755Z"
   },
   {
    "duration": 4,
    "start_time": "2022-02-11T18:39:57.316Z"
   },
   {
    "duration": 5,
    "start_time": "2022-02-11T18:39:57.777Z"
   },
   {
    "duration": 5,
    "start_time": "2022-02-11T18:39:58.096Z"
   },
   {
    "duration": 9,
    "start_time": "2022-02-11T18:39:58.893Z"
   },
   {
    "duration": 9,
    "start_time": "2022-02-11T18:39:59.269Z"
   },
   {
    "duration": 5,
    "start_time": "2022-02-11T18:40:01.368Z"
   },
   {
    "duration": 5,
    "start_time": "2022-02-11T18:40:01.615Z"
   },
   {
    "duration": 6,
    "start_time": "2022-02-11T18:40:01.851Z"
   },
   {
    "duration": 13,
    "start_time": "2022-02-11T18:40:02.066Z"
   },
   {
    "duration": 3,
    "start_time": "2022-02-11T18:40:02.545Z"
   },
   {
    "duration": 418,
    "start_time": "2022-02-11T18:40:02.781Z"
   },
   {
    "duration": 5,
    "start_time": "2022-02-11T18:40:03.200Z"
   },
   {
    "duration": 5,
    "start_time": "2022-02-11T18:40:03.214Z"
   },
   {
    "duration": 283,
    "start_time": "2022-02-11T18:40:04.375Z"
   },
   {
    "duration": 367,
    "start_time": "2022-02-11T18:40:04.660Z"
   },
   {
    "duration": 271,
    "start_time": "2022-02-11T18:40:05.029Z"
   },
   {
    "duration": 231,
    "start_time": "2022-02-11T18:40:05.302Z"
   },
   {
    "duration": 380,
    "start_time": "2022-02-11T18:40:07.522Z"
   },
   {
    "duration": 122,
    "start_time": "2022-02-11T18:40:08.118Z"
   },
   {
    "duration": 8,
    "start_time": "2022-02-11T18:40:09.347Z"
   },
   {
    "duration": 6,
    "start_time": "2022-02-11T18:40:10.164Z"
   },
   {
    "duration": 9,
    "start_time": "2022-02-11T18:40:12.240Z"
   },
   {
    "duration": 113,
    "start_time": "2022-02-11T18:40:12.898Z"
   },
   {
    "duration": 8,
    "start_time": "2022-02-11T18:40:13.524Z"
   },
   {
    "duration": 877,
    "start_time": "2022-02-11T18:40:14.089Z"
   },
   {
    "duration": 24,
    "start_time": "2022-02-11T18:40:14.968Z"
   },
   {
    "duration": 183,
    "start_time": "2022-02-11T18:40:15.838Z"
   },
   {
    "duration": 122,
    "start_time": "2022-02-11T18:40:19.634Z"
   },
   {
    "duration": 6,
    "start_time": "2022-02-11T18:40:20.319Z"
   },
   {
    "duration": 4,
    "start_time": "2022-02-11T18:40:21.052Z"
   },
   {
    "duration": 4,
    "start_time": "2022-02-11T18:40:21.339Z"
   },
   {
    "duration": 229,
    "start_time": "2022-02-11T18:40:21.590Z"
   },
   {
    "duration": 13,
    "start_time": "2022-02-11T18:40:22.152Z"
   },
   {
    "duration": 9,
    "start_time": "2022-02-11T18:40:22.387Z"
   },
   {
    "duration": 5,
    "start_time": "2022-02-11T18:40:23.176Z"
   },
   {
    "duration": 7,
    "start_time": "2022-02-11T18:40:23.447Z"
   },
   {
    "duration": 9,
    "start_time": "2022-02-11T18:40:23.715Z"
   },
   {
    "duration": 4,
    "start_time": "2022-02-11T18:40:23.963Z"
   },
   {
    "duration": 4,
    "start_time": "2022-02-11T18:40:24.199Z"
   },
   {
    "duration": 156,
    "start_time": "2022-02-11T18:40:24.407Z"
   },
   {
    "duration": 7,
    "start_time": "2022-02-11T18:40:24.636Z"
   },
   {
    "duration": 4,
    "start_time": "2022-02-11T18:40:24.835Z"
   },
   {
    "duration": 5,
    "start_time": "2022-02-11T18:40:25.056Z"
   },
   {
    "duration": 7,
    "start_time": "2022-02-11T18:40:40.932Z"
   },
   {
    "duration": 4,
    "start_time": "2022-02-11T18:40:41.010Z"
   },
   {
    "duration": 213,
    "start_time": "2022-02-11T18:40:42.576Z"
   },
   {
    "duration": 635,
    "start_time": "2022-02-11T18:40:43.491Z"
   },
   {
    "duration": 39,
    "start_time": "2022-02-11T18:42:16.609Z"
   }
  ],
  "kernelspec": {
   "display_name": "Python 3 (ipykernel)",
   "language": "python",
   "name": "python3"
  },
  "language_info": {
   "codemirror_mode": {
    "name": "ipython",
    "version": 3
   },
   "file_extension": ".py",
   "mimetype": "text/x-python",
   "name": "python",
   "nbconvert_exporter": "python",
   "pygments_lexer": "ipython3",
   "version": "3.9.5"
  },
  "toc": {
   "base_numbering": 1,
   "nav_menu": {},
   "number_sections": true,
   "sideBar": true,
   "skip_h1_title": true,
   "title_cell": "Содержание",
   "title_sidebar": "Contents",
   "toc_cell": true,
   "toc_position": {},
   "toc_section_display": true,
   "toc_window_display": false
  }
 },
 "nbformat": 4,
 "nbformat_minor": 2
}
