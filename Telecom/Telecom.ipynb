{
 "cells": [
  {
   "cell_type": "markdown",
   "metadata": {},
   "source": [
    "# Определение перспективного тарифа для телеком-компании\n",
    "\n",
    "Вы аналитик компании «Мегалайн» — федерального оператора сотовой связи. Клиентам предлагают два тарифных плана: «Смарт» и «Ультра». Чтобы скорректировать рекламный бюджет, коммерческий департамент хочет понять, какой тариф приносит больше денег.\n",
    "Вам предстоит сделать предварительный анализ тарифов на небольшой выборке клиентов. В вашем распоряжении данные 500 пользователей «Мегалайна»: кто они, откуда, каким тарифом пользуются, сколько звонков и сообщений каждый отправил за 2018 год. Нужно проанализировать поведение клиентов и сделать вывод — какой тариф лучше.\n",
    "\n",
    "##### Описание тарифов \n",
    "\n",
    "  Тариф «Смарт» \n",
    "- Ежемесячная плата: 550 рублей \n",
    "- Включено 500 минут разговора, 50 сообщений и 15 Гб интернет-трафика\n",
    "- Стоимость услуг сверх тарифного пакета: 1. минута разговора: 3 рубля («Мегалайн» всегда округляет вверх значения минут и мегабайтов. Если пользователь проговорил всего 1 секунду, в тарифе засчитывается целая минута); - Cообщение: 3 рубля; \n",
    "- 1 Гб интернет-трафика: 200 рублей.\n",
    "\n",
    "Тариф «Ультра» \n",
    "\n",
    "- Ежемесячная плата: 1950 рублей\n",
    "- Включено 3000 минут разговора, 1000 сообщений и 30 Гб интернет-трафика\n",
    "- Стоимость услуг сверх тарифного пакета: 1. минута разговора: 1 рубль; 2. сообщение: 1 рубль; 3. 1 Гб интернет-трафика: 150 рублей.\n",
    "\n",
    "Примечание: \n",
    "«Мегалайн» всегда округляет секунды до минут, а мегабайты — до гигабайт. Каждый звонок округляется отдельно: даже если он длился всего 1 секунду, будет засчитан как 1 минута.\n",
    "Для веб-трафика отдельные сессии не считаются. Вместо этого общая сумма за месяц округляется в бо́льшую сторону. Если абонент использует 1025 мегабайт в этом месяце, с него возьмут плату за 2 гигабайта."
   ]
  },
  {
   "cell_type": "markdown",
   "metadata": {},
   "source": [
    "## Изучение данных из файла"
   ]
  },
  {
   "cell_type": "code",
   "execution_count": 1,
   "metadata": {},
   "outputs": [],
   "source": [
    "import pandas as pd\n",
    "import matplotlib.pyplot as plt \n",
    "import seaborn as sns\n",
    "from scipy import stats as st\n",
    "import numpy as np"
   ]
  },
  {
   "cell_type": "code",
   "execution_count": 2,
   "metadata": {},
   "outputs": [],
   "source": [
    "import warnings\n",
    "warnings.filterwarnings(\"ignore\", category=DeprecationWarning) "
   ]
  },
  {
   "cell_type": "markdown",
   "metadata": {},
   "source": [
    "Посмотрю сначала вцелом что за данные в таблицах. Потом подробнее про каждую отдельно, через функцию мне не совсем удобно в плане наглядности."
   ]
  },
  {
   "cell_type": "code",
   "execution_count": 3,
   "metadata": {
    "scrolled": true
   },
   "outputs": [
    {
     "name": "stdout",
     "output_type": "stream",
     "text": [
      "<class 'pandas.core.frame.DataFrame'>\n",
      "RangeIndex: 202607 entries, 0 to 202606\n",
      "Data columns (total 4 columns):\n",
      "id           202607 non-null object\n",
      "call_date    202607 non-null object\n",
      "duration     202607 non-null float64\n",
      "user_id      202607 non-null int64\n",
      "dtypes: float64(1), int64(1), object(2)\n",
      "memory usage: 6.2+ MB\n",
      "None\n",
      "\n",
      "<class 'pandas.core.frame.DataFrame'>\n",
      "RangeIndex: 149396 entries, 0 to 149395\n",
      "Data columns (total 5 columns):\n",
      "Unnamed: 0      149396 non-null int64\n",
      "id              149396 non-null object\n",
      "mb_used         149396 non-null float64\n",
      "session_date    149396 non-null object\n",
      "user_id         149396 non-null int64\n",
      "dtypes: float64(1), int64(2), object(2)\n",
      "memory usage: 5.7+ MB\n",
      "None\n",
      "\n",
      "<class 'pandas.core.frame.DataFrame'>\n",
      "RangeIndex: 123036 entries, 0 to 123035\n",
      "Data columns (total 3 columns):\n",
      "id              123036 non-null object\n",
      "message_date    123036 non-null object\n",
      "user_id         123036 non-null int64\n",
      "dtypes: int64(1), object(2)\n",
      "memory usage: 2.8+ MB\n",
      "None\n",
      "\n",
      "<class 'pandas.core.frame.DataFrame'>\n",
      "RangeIndex: 2 entries, 0 to 1\n",
      "Data columns (total 8 columns):\n",
      "messages_included        2 non-null int64\n",
      "mb_per_month_included    2 non-null int64\n",
      "minutes_included         2 non-null int64\n",
      "rub_monthly_fee          2 non-null int64\n",
      "rub_per_gb               2 non-null int64\n",
      "rub_per_message          2 non-null int64\n",
      "rub_per_minute           2 non-null int64\n",
      "tariff_name              2 non-null object\n",
      "dtypes: int64(7), object(1)\n",
      "memory usage: 256.0+ bytes\n",
      "None\n",
      "\n",
      "<class 'pandas.core.frame.DataFrame'>\n",
      "RangeIndex: 500 entries, 0 to 499\n",
      "Data columns (total 8 columns):\n",
      "user_id       500 non-null int64\n",
      "age           500 non-null int64\n",
      "churn_date    38 non-null object\n",
      "city          500 non-null object\n",
      "first_name    500 non-null object\n",
      "last_name     500 non-null object\n",
      "reg_date      500 non-null object\n",
      "tariff        500 non-null object\n",
      "dtypes: int64(2), object(6)\n",
      "memory usage: 31.4+ KB\n",
      "None\n",
      "\n"
     ]
    }
   ],
   "source": [
    "data_calls = pd.read_csv('/datasets/calls.csv')\n",
    "data_internet = pd.read_csv('/datasets/internet.csv')\n",
    "data_messages = pd.read_csv('/datasets/messages.csv')\n",
    "data_tariffs = pd.read_csv('/datasets/tariffs.csv')\n",
    "data_users = pd.read_csv('/datasets/users.csv')\n",
    "\n",
    "for i in [data_calls, data_internet, data_messages, data_tariffs, data_users]:\n",
    "    print (i.info(), end='\\n\\n')"
   ]
  },
  {
   "cell_type": "markdown",
   "metadata": {},
   "source": [
    "#По первому взгляду вижу пропуски в churn_date (но скорее всего по условиям значит, что тариф действующий). Поменять нужно тип в датах на временной. "
   ]
  },
  {
   "cell_type": "markdown",
   "metadata": {},
   "source": [
    "#### Описание данных\n",
    " Таблица users (информация о пользователях):  \n",
    "- user_id — уникальный идентификатор пользователя\n",
    "- first_name — имя пользователя\n",
    "- last_name — фамилия пользователя\n",
    "- age — возраст пользователя (годы)\n",
    "- reg_date — дата подключения тарифа (день, месяц, год)\n",
    "- churn_date — дата прекращения пользования тарифом (если значение пропущено, то тариф ещё действовал на момент выгрузки данных)\n",
    "- city — город проживания пользователя\n",
    "- tarif — название тарифного плана\n",
    "\n",
    "Таблица calls (информация о звонках): \n",
    " \n",
    "- id — уникальный номер звонка\n",
    "- call_date — дата звонка\n",
    "- duration — длительность звонка в минутах\n",
    "- user_id — идентификатор пользователя, сделавшего звонок\n",
    "\n",
    "Таблица messages (информация о сообщениях): \n",
    " \n",
    "- id — уникальный номер сообщения\n",
    "- message_date — дата сообщения\n",
    "- user_id — идентификатор пользователя, отправившего сообщение\n",
    "\n",
    "Таблица internet (информация об интернет-сессиях): \n",
    " \n",
    "- id — уникальный номер сессии\n",
    "- mb_used — объём потраченного за сессию интернет-трафика (в мегабайтах)\n",
    "- session_date — дата интернет-сессии\n",
    "- user_id — идентификатор пользователя\n",
    "\n",
    "Таблица tariffs (информация о тарифах): \n",
    " \n",
    "- tariff_name — название тарифа\n",
    "- rub_monthly_fee — ежемесячная абонентская плата в рублях\n",
    "- minutes_included — количество минут разговора в месяц, включённых в абонентскую плату\n",
    "- messages_included — количество сообщений в месяц, включённых в абонентскую плату\n",
    "- mb_per_month_included — объём интернет-трафика, включённого в абонентскую плату (в мегабайтах)\n",
    "- rub_per_minute — стоимость минуты разговора сверх тарифного пакета (например, если в тарифе 100 минут разговора в месяц, то со 101 минуты будет взиматься плата)\n",
    "- rub_per_message — стоимость отправки сообщения сверх тарифного пакета\n",
    "- rub_per_gb — стоимость дополнительного гигабайта интернет-трафика сверх тарифного пакета (1 гигабайт = 1024 мегабайта)\n"
   ]
  },
  {
   "cell_type": "code",
   "execution_count": 4,
   "metadata": {},
   "outputs": [
    {
     "data": {
      "text/html": [
       "<div>\n",
       "<style scoped>\n",
       "    .dataframe tbody tr th:only-of-type {\n",
       "        vertical-align: middle;\n",
       "    }\n",
       "\n",
       "    .dataframe tbody tr th {\n",
       "        vertical-align: top;\n",
       "    }\n",
       "\n",
       "    .dataframe thead th {\n",
       "        text-align: right;\n",
       "    }\n",
       "</style>\n",
       "<table border=\"1\" class=\"dataframe\">\n",
       "  <thead>\n",
       "    <tr style=\"text-align: right;\">\n",
       "      <th></th>\n",
       "      <th>user_id</th>\n",
       "      <th>age</th>\n",
       "      <th>churn_date</th>\n",
       "      <th>city</th>\n",
       "      <th>first_name</th>\n",
       "      <th>last_name</th>\n",
       "      <th>reg_date</th>\n",
       "      <th>tariff</th>\n",
       "    </tr>\n",
       "  </thead>\n",
       "  <tbody>\n",
       "    <tr>\n",
       "      <td>0</td>\n",
       "      <td>1000</td>\n",
       "      <td>52</td>\n",
       "      <td>NaN</td>\n",
       "      <td>Краснодар</td>\n",
       "      <td>Рафаил</td>\n",
       "      <td>Верещагин</td>\n",
       "      <td>2018-05-25</td>\n",
       "      <td>ultra</td>\n",
       "    </tr>\n",
       "    <tr>\n",
       "      <td>1</td>\n",
       "      <td>1001</td>\n",
       "      <td>41</td>\n",
       "      <td>NaN</td>\n",
       "      <td>Москва</td>\n",
       "      <td>Иван</td>\n",
       "      <td>Ежов</td>\n",
       "      <td>2018-11-01</td>\n",
       "      <td>smart</td>\n",
       "    </tr>\n",
       "    <tr>\n",
       "      <td>2</td>\n",
       "      <td>1002</td>\n",
       "      <td>59</td>\n",
       "      <td>NaN</td>\n",
       "      <td>Стерлитамак</td>\n",
       "      <td>Евгений</td>\n",
       "      <td>Абрамович</td>\n",
       "      <td>2018-06-17</td>\n",
       "      <td>smart</td>\n",
       "    </tr>\n",
       "    <tr>\n",
       "      <td>3</td>\n",
       "      <td>1003</td>\n",
       "      <td>23</td>\n",
       "      <td>NaN</td>\n",
       "      <td>Москва</td>\n",
       "      <td>Белла</td>\n",
       "      <td>Белякова</td>\n",
       "      <td>2018-08-17</td>\n",
       "      <td>ultra</td>\n",
       "    </tr>\n",
       "    <tr>\n",
       "      <td>4</td>\n",
       "      <td>1004</td>\n",
       "      <td>68</td>\n",
       "      <td>NaN</td>\n",
       "      <td>Новокузнецк</td>\n",
       "      <td>Татьяна</td>\n",
       "      <td>Авдеенко</td>\n",
       "      <td>2018-05-14</td>\n",
       "      <td>ultra</td>\n",
       "    </tr>\n",
       "  </tbody>\n",
       "</table>\n",
       "</div>"
      ],
      "text/plain": [
       "   user_id  age churn_date         city first_name  last_name    reg_date  \\\n",
       "0     1000   52        NaN    Краснодар     Рафаил  Верещагин  2018-05-25   \n",
       "1     1001   41        NaN       Москва       Иван       Ежов  2018-11-01   \n",
       "2     1002   59        NaN  Стерлитамак    Евгений  Абрамович  2018-06-17   \n",
       "3     1003   23        NaN       Москва      Белла   Белякова  2018-08-17   \n",
       "4     1004   68        NaN  Новокузнецк    Татьяна   Авдеенко  2018-05-14   \n",
       "\n",
       "  tariff  \n",
       "0  ultra  \n",
       "1  smart  \n",
       "2  smart  \n",
       "3  ultra  \n",
       "4  ultra  "
      ]
     },
     "execution_count": 4,
     "metadata": {},
     "output_type": "execute_result"
    }
   ],
   "source": [
    "data_users.head(5)"
   ]
  },
  {
   "cell_type": "code",
   "execution_count": 5,
   "metadata": {},
   "outputs": [
    {
     "data": {
      "text/plain": [
       "smart    351\n",
       "ultra    149\n",
       "Name: tariff, dtype: int64"
      ]
     },
     "execution_count": 5,
     "metadata": {},
     "output_type": "execute_result"
    }
   ],
   "source": [
    "data_users['tariff'].value_counts()"
   ]
  },
  {
   "cell_type": "markdown",
   "metadata": {},
   "source": [
    "#скорее всего поменяю потом reg_date, так как год один, а для анализа возможно понадобится значение месяца"
   ]
  },
  {
   "cell_type": "code",
   "execution_count": 6,
   "metadata": {},
   "outputs": [
    {
     "data": {
      "text/html": [
       "<div>\n",
       "<style scoped>\n",
       "    .dataframe tbody tr th:only-of-type {\n",
       "        vertical-align: middle;\n",
       "    }\n",
       "\n",
       "    .dataframe tbody tr th {\n",
       "        vertical-align: top;\n",
       "    }\n",
       "\n",
       "    .dataframe thead th {\n",
       "        text-align: right;\n",
       "    }\n",
       "</style>\n",
       "<table border=\"1\" class=\"dataframe\">\n",
       "  <thead>\n",
       "    <tr style=\"text-align: right;\">\n",
       "      <th></th>\n",
       "      <th>id</th>\n",
       "      <th>call_date</th>\n",
       "      <th>duration</th>\n",
       "      <th>user_id</th>\n",
       "    </tr>\n",
       "  </thead>\n",
       "  <tbody>\n",
       "    <tr>\n",
       "      <td>202592</td>\n",
       "      <td>1499_205</td>\n",
       "      <td>2018-10-13</td>\n",
       "      <td>0.00</td>\n",
       "      <td>1499</td>\n",
       "    </tr>\n",
       "    <tr>\n",
       "      <td>202593</td>\n",
       "      <td>1499_206</td>\n",
       "      <td>2018-12-26</td>\n",
       "      <td>0.00</td>\n",
       "      <td>1499</td>\n",
       "    </tr>\n",
       "    <tr>\n",
       "      <td>202594</td>\n",
       "      <td>1499_207</td>\n",
       "      <td>2018-10-28</td>\n",
       "      <td>0.00</td>\n",
       "      <td>1499</td>\n",
       "    </tr>\n",
       "    <tr>\n",
       "      <td>202595</td>\n",
       "      <td>1499_208</td>\n",
       "      <td>2018-11-03</td>\n",
       "      <td>14.29</td>\n",
       "      <td>1499</td>\n",
       "    </tr>\n",
       "    <tr>\n",
       "      <td>202596</td>\n",
       "      <td>1499_209</td>\n",
       "      <td>2018-12-16</td>\n",
       "      <td>0.00</td>\n",
       "      <td>1499</td>\n",
       "    </tr>\n",
       "    <tr>\n",
       "      <td>202597</td>\n",
       "      <td>1499_210</td>\n",
       "      <td>2018-10-02</td>\n",
       "      <td>8.86</td>\n",
       "      <td>1499</td>\n",
       "    </tr>\n",
       "    <tr>\n",
       "      <td>202598</td>\n",
       "      <td>1499_211</td>\n",
       "      <td>2018-12-29</td>\n",
       "      <td>4.58</td>\n",
       "      <td>1499</td>\n",
       "    </tr>\n",
       "    <tr>\n",
       "      <td>202599</td>\n",
       "      <td>1499_212</td>\n",
       "      <td>2018-12-30</td>\n",
       "      <td>1.35</td>\n",
       "      <td>1499</td>\n",
       "    </tr>\n",
       "    <tr>\n",
       "      <td>202600</td>\n",
       "      <td>1499_213</td>\n",
       "      <td>2018-10-17</td>\n",
       "      <td>10.77</td>\n",
       "      <td>1499</td>\n",
       "    </tr>\n",
       "    <tr>\n",
       "      <td>202601</td>\n",
       "      <td>1499_214</td>\n",
       "      <td>2018-12-05</td>\n",
       "      <td>2.42</td>\n",
       "      <td>1499</td>\n",
       "    </tr>\n",
       "    <tr>\n",
       "      <td>202602</td>\n",
       "      <td>1499_215</td>\n",
       "      <td>2018-12-26</td>\n",
       "      <td>0.76</td>\n",
       "      <td>1499</td>\n",
       "    </tr>\n",
       "    <tr>\n",
       "      <td>202603</td>\n",
       "      <td>1499_216</td>\n",
       "      <td>2018-10-18</td>\n",
       "      <td>18.83</td>\n",
       "      <td>1499</td>\n",
       "    </tr>\n",
       "    <tr>\n",
       "      <td>202604</td>\n",
       "      <td>1499_217</td>\n",
       "      <td>2018-11-10</td>\n",
       "      <td>10.81</td>\n",
       "      <td>1499</td>\n",
       "    </tr>\n",
       "    <tr>\n",
       "      <td>202605</td>\n",
       "      <td>1499_218</td>\n",
       "      <td>2018-10-06</td>\n",
       "      <td>4.27</td>\n",
       "      <td>1499</td>\n",
       "    </tr>\n",
       "    <tr>\n",
       "      <td>202606</td>\n",
       "      <td>1499_219</td>\n",
       "      <td>2018-12-14</td>\n",
       "      <td>19.62</td>\n",
       "      <td>1499</td>\n",
       "    </tr>\n",
       "  </tbody>\n",
       "</table>\n",
       "</div>"
      ],
      "text/plain": [
       "              id   call_date  duration  user_id\n",
       "202592  1499_205  2018-10-13      0.00     1499\n",
       "202593  1499_206  2018-12-26      0.00     1499\n",
       "202594  1499_207  2018-10-28      0.00     1499\n",
       "202595  1499_208  2018-11-03     14.29     1499\n",
       "202596  1499_209  2018-12-16      0.00     1499\n",
       "202597  1499_210  2018-10-02      8.86     1499\n",
       "202598  1499_211  2018-12-29      4.58     1499\n",
       "202599  1499_212  2018-12-30      1.35     1499\n",
       "202600  1499_213  2018-10-17     10.77     1499\n",
       "202601  1499_214  2018-12-05      2.42     1499\n",
       "202602  1499_215  2018-12-26      0.76     1499\n",
       "202603  1499_216  2018-10-18     18.83     1499\n",
       "202604  1499_217  2018-11-10     10.81     1499\n",
       "202605  1499_218  2018-10-06      4.27     1499\n",
       "202606  1499_219  2018-12-14     19.62     1499"
      ]
     },
     "execution_count": 6,
     "metadata": {},
     "output_type": "execute_result"
    }
   ],
   "source": [
    "data_calls.tail(15)"
   ]
  },
  {
   "cell_type": "code",
   "execution_count": 7,
   "metadata": {},
   "outputs": [
    {
     "data": {
      "text/plain": [
       "0.19551644316336553"
      ]
     },
     "execution_count": 7,
     "metadata": {},
     "output_type": "execute_result"
    }
   ],
   "source": [
    "#какая доля 0 значений\n",
    "data_calls[data_calls['duration'] == 0].count()[0]/data_calls.shape[0]"
   ]
  },
  {
   "cell_type": "code",
   "execution_count": 8,
   "metadata": {},
   "outputs": [
    {
     "data": {
      "text/plain": [
       "492"
      ]
     },
     "execution_count": 8,
     "metadata": {},
     "output_type": "execute_result"
    }
   ],
   "source": [
    "len(data_calls['user_id'].unique()) #из 500 8 пользователей не разговаривали по телефону, что вполне возможно"
   ]
  },
  {
   "cell_type": "markdown",
   "metadata": {},
   "source": [
    "#в соответсвии с условием задачи нужно округлить секунды до минут, а мегабайты — до гигабайт (далее). Id привязан к user_id. Нулевыx значений длительности 19%, предположим что это не сбой программы, так как даты подгрузились, и заменим на 1 (на среднее значение некорректно, так как это может повлиять на всю базу, возможно что был вызов в долях секунд)"
   ]
  },
  {
   "cell_type": "code",
   "execution_count": 9,
   "metadata": {},
   "outputs": [
    {
     "data": {
      "text/html": [
       "<div>\n",
       "<style scoped>\n",
       "    .dataframe tbody tr th:only-of-type {\n",
       "        vertical-align: middle;\n",
       "    }\n",
       "\n",
       "    .dataframe tbody tr th {\n",
       "        vertical-align: top;\n",
       "    }\n",
       "\n",
       "    .dataframe thead th {\n",
       "        text-align: right;\n",
       "    }\n",
       "</style>\n",
       "<table border=\"1\" class=\"dataframe\">\n",
       "  <thead>\n",
       "    <tr style=\"text-align: right;\">\n",
       "      <th></th>\n",
       "      <th>id</th>\n",
       "      <th>message_date</th>\n",
       "      <th>user_id</th>\n",
       "    </tr>\n",
       "  </thead>\n",
       "  <tbody>\n",
       "    <tr>\n",
       "      <td>0</td>\n",
       "      <td>1000_0</td>\n",
       "      <td>2018-06-27</td>\n",
       "      <td>1000</td>\n",
       "    </tr>\n",
       "    <tr>\n",
       "      <td>1</td>\n",
       "      <td>1000_1</td>\n",
       "      <td>2018-10-08</td>\n",
       "      <td>1000</td>\n",
       "    </tr>\n",
       "    <tr>\n",
       "      <td>2</td>\n",
       "      <td>1000_2</td>\n",
       "      <td>2018-08-04</td>\n",
       "      <td>1000</td>\n",
       "    </tr>\n",
       "    <tr>\n",
       "      <td>3</td>\n",
       "      <td>1000_3</td>\n",
       "      <td>2018-06-16</td>\n",
       "      <td>1000</td>\n",
       "    </tr>\n",
       "    <tr>\n",
       "      <td>4</td>\n",
       "      <td>1000_4</td>\n",
       "      <td>2018-12-05</td>\n",
       "      <td>1000</td>\n",
       "    </tr>\n",
       "  </tbody>\n",
       "</table>\n",
       "</div>"
      ],
      "text/plain": [
       "       id message_date  user_id\n",
       "0  1000_0   2018-06-27     1000\n",
       "1  1000_1   2018-10-08     1000\n",
       "2  1000_2   2018-08-04     1000\n",
       "3  1000_3   2018-06-16     1000\n",
       "4  1000_4   2018-12-05     1000"
      ]
     },
     "execution_count": 9,
     "metadata": {},
     "output_type": "execute_result"
    }
   ],
   "source": [
    "data_messages.head(5)"
   ]
  },
  {
   "cell_type": "code",
   "execution_count": 10,
   "metadata": {},
   "outputs": [
    {
     "data": {
      "text/html": [
       "<div>\n",
       "<style scoped>\n",
       "    .dataframe tbody tr th:only-of-type {\n",
       "        vertical-align: middle;\n",
       "    }\n",
       "\n",
       "    .dataframe tbody tr th {\n",
       "        vertical-align: top;\n",
       "    }\n",
       "\n",
       "    .dataframe thead th {\n",
       "        text-align: right;\n",
       "    }\n",
       "</style>\n",
       "<table border=\"1\" class=\"dataframe\">\n",
       "  <thead>\n",
       "    <tr style=\"text-align: right;\">\n",
       "      <th></th>\n",
       "      <th>Unnamed: 0</th>\n",
       "      <th>id</th>\n",
       "      <th>mb_used</th>\n",
       "      <th>session_date</th>\n",
       "      <th>user_id</th>\n",
       "    </tr>\n",
       "  </thead>\n",
       "  <tbody>\n",
       "    <tr>\n",
       "      <td>0</td>\n",
       "      <td>0</td>\n",
       "      <td>1000_0</td>\n",
       "      <td>112.95</td>\n",
       "      <td>2018-11-25</td>\n",
       "      <td>1000</td>\n",
       "    </tr>\n",
       "    <tr>\n",
       "      <td>1</td>\n",
       "      <td>1</td>\n",
       "      <td>1000_1</td>\n",
       "      <td>1052.81</td>\n",
       "      <td>2018-09-07</td>\n",
       "      <td>1000</td>\n",
       "    </tr>\n",
       "    <tr>\n",
       "      <td>2</td>\n",
       "      <td>2</td>\n",
       "      <td>1000_2</td>\n",
       "      <td>1197.26</td>\n",
       "      <td>2018-06-25</td>\n",
       "      <td>1000</td>\n",
       "    </tr>\n",
       "    <tr>\n",
       "      <td>3</td>\n",
       "      <td>3</td>\n",
       "      <td>1000_3</td>\n",
       "      <td>550.27</td>\n",
       "      <td>2018-08-22</td>\n",
       "      <td>1000</td>\n",
       "    </tr>\n",
       "    <tr>\n",
       "      <td>4</td>\n",
       "      <td>4</td>\n",
       "      <td>1000_4</td>\n",
       "      <td>302.56</td>\n",
       "      <td>2018-09-24</td>\n",
       "      <td>1000</td>\n",
       "    </tr>\n",
       "  </tbody>\n",
       "</table>\n",
       "</div>"
      ],
      "text/plain": [
       "   Unnamed: 0      id  mb_used session_date  user_id\n",
       "0           0  1000_0   112.95   2018-11-25     1000\n",
       "1           1  1000_1  1052.81   2018-09-07     1000\n",
       "2           2  1000_2  1197.26   2018-06-25     1000\n",
       "3           3  1000_3   550.27   2018-08-22     1000\n",
       "4           4  1000_4   302.56   2018-09-24     1000"
      ]
     },
     "execution_count": 10,
     "metadata": {},
     "output_type": "execute_result"
    }
   ],
   "source": [
    "data_internet.head(5)"
   ]
  },
  {
   "cell_type": "code",
   "execution_count": 11,
   "metadata": {},
   "outputs": [
    {
     "data": {
      "text/plain": [
       "0.00      19598\n",
       "197.56        9\n",
       "447.30        9\n",
       "335.91        9\n",
       "108.95        8\n",
       "          ...  \n",
       "72.49         1\n",
       "846.22        1\n",
       "429.17        1\n",
       "899.03        1\n",
       "483.87        1\n",
       "Name: mb_used, Length: 70003, dtype: int64"
      ]
     },
     "execution_count": 11,
     "metadata": {},
     "output_type": "execute_result"
    }
   ],
   "source": [
    "data_internet['mb_used'].value_counts()"
   ]
  },
  {
   "cell_type": "code",
   "execution_count": 12,
   "metadata": {},
   "outputs": [
    {
     "data": {
      "text/plain": [
       "11    0.0\n",
       "38    0.0\n",
       "46    0.0\n",
       "67    0.0\n",
       "72    0.0\n",
       "Name: mb_used, dtype: float64"
      ]
     },
     "execution_count": 12,
     "metadata": {},
     "output_type": "execute_result"
    }
   ],
   "source": [
    "data_internet['mb_used'].nsmallest(5)"
   ]
  },
  {
   "cell_type": "code",
   "execution_count": 13,
   "metadata": {},
   "outputs": [
    {
     "data": {
      "text/plain": [
       "0.13118155773916304"
      ]
     },
     "execution_count": 13,
     "metadata": {},
     "output_type": "execute_result"
    }
   ],
   "source": [
    "#какая доля 0 значений\n",
    "data_internet[data_internet['mb_used'] == 0].count()[0]/data_internet.shape[0]"
   ]
  },
  {
   "cell_type": "markdown",
   "metadata": {},
   "source": [
    "#много нулей в сессиях, это или ошибка, или пользователь не пользовался интернетом совсем (что вряд ли, так как дата сессии зафиксировалась, а мегалайн увеличивет в большую сторону интернет). Данные скорее всего в мгб, привести нужно к округлению и 0 заменить на 1"
   ]
  },
  {
   "cell_type": "code",
   "execution_count": 14,
   "metadata": {},
   "outputs": [
    {
     "data": {
      "text/html": [
       "<div>\n",
       "<style scoped>\n",
       "    .dataframe tbody tr th:only-of-type {\n",
       "        vertical-align: middle;\n",
       "    }\n",
       "\n",
       "    .dataframe tbody tr th {\n",
       "        vertical-align: top;\n",
       "    }\n",
       "\n",
       "    .dataframe thead th {\n",
       "        text-align: right;\n",
       "    }\n",
       "</style>\n",
       "<table border=\"1\" class=\"dataframe\">\n",
       "  <thead>\n",
       "    <tr style=\"text-align: right;\">\n",
       "      <th></th>\n",
       "      <th>messages_included</th>\n",
       "      <th>mb_per_month_included</th>\n",
       "      <th>minutes_included</th>\n",
       "      <th>rub_monthly_fee</th>\n",
       "      <th>rub_per_gb</th>\n",
       "      <th>rub_per_message</th>\n",
       "      <th>rub_per_minute</th>\n",
       "      <th>tariff_name</th>\n",
       "    </tr>\n",
       "  </thead>\n",
       "  <tbody>\n",
       "    <tr>\n",
       "      <td>0</td>\n",
       "      <td>50</td>\n",
       "      <td>15360</td>\n",
       "      <td>500</td>\n",
       "      <td>550</td>\n",
       "      <td>200</td>\n",
       "      <td>3</td>\n",
       "      <td>3</td>\n",
       "      <td>smart</td>\n",
       "    </tr>\n",
       "    <tr>\n",
       "      <td>1</td>\n",
       "      <td>1000</td>\n",
       "      <td>30720</td>\n",
       "      <td>3000</td>\n",
       "      <td>1950</td>\n",
       "      <td>150</td>\n",
       "      <td>1</td>\n",
       "      <td>1</td>\n",
       "      <td>ultra</td>\n",
       "    </tr>\n",
       "  </tbody>\n",
       "</table>\n",
       "</div>"
      ],
      "text/plain": [
       "   messages_included  mb_per_month_included  minutes_included  \\\n",
       "0                 50                  15360               500   \n",
       "1               1000                  30720              3000   \n",
       "\n",
       "   rub_monthly_fee  rub_per_gb  rub_per_message  rub_per_minute tariff_name  \n",
       "0              550         200                3               3       smart  \n",
       "1             1950         150                1               1       ultra  "
      ]
     },
     "execution_count": 14,
     "metadata": {},
     "output_type": "execute_result"
    }
   ],
   "source": [
    "data_tariffs.head()"
   ]
  },
  {
   "cell_type": "markdown",
   "metadata": {},
   "source": [
    "### Вывод\n",
    "Обнаружны нулевые значения в звонках и сессиях (mb_used, duration),  также нужно исправить тип в duration, mb_used после округления на int,  в датах и перевести в удобный читаемый формат. Далее объединить данные. В data_internet странный столбец, дублирующий индекс, не нужен для задачи."
   ]
  },
  {
   "cell_type": "markdown",
   "metadata": {},
   "source": [
    "## Предобработка данных"
   ]
  },
  {
   "cell_type": "code",
   "execution_count": 15,
   "metadata": {},
   "outputs": [],
   "source": [
    "#изменяем тип данных в датах\n",
    "data_calls['call_date'] = pd.to_datetime(data_calls['call_date'], format='%Y-%m-%d')\n",
    "data_internet['session_date'] = pd.to_datetime(data_internet['session_date'], format='%Y-%m-%d')\n",
    "data_messages['message_date'] = pd.to_datetime(data_messages['message_date'], format='%Y-%m-%d')\n",
    "data_users['churn_date'] = pd.to_datetime(data_users['churn_date'], format='%Y-%m-%d')\n",
    "data_users['reg_date'] = pd.to_datetime(data_users['reg_date'], format='%Y-%m-%d')"
   ]
  },
  {
   "cell_type": "code",
   "execution_count": 16,
   "metadata": {},
   "outputs": [],
   "source": [
    "data_internet['mb_used'] = np.ceil(data_internet['mb_used']).astype('int')\n",
    "data_calls['duration'] = data_calls['duration'].astype('int')"
   ]
  },
  {
   "cell_type": "code",
   "execution_count": 17,
   "metadata": {},
   "outputs": [],
   "source": [
    "data_internet.loc[data_internet['mb_used'] == 0, 'mb_used'] = 1"
   ]
  },
  {
   "cell_type": "code",
   "execution_count": 18,
   "metadata": {},
   "outputs": [
    {
     "data": {
      "text/plain": [
       "0    47927\n",
       "6    11509\n",
       "5    11457\n",
       "4    11405\n",
       "7    11268\n",
       "Name: duration, dtype: int64"
      ]
     },
     "execution_count": 18,
     "metadata": {},
     "output_type": "execute_result"
    }
   ],
   "source": [
    "data_calls['duration'].value_counts().head(5)"
   ]
  },
  {
   "cell_type": "code",
   "execution_count": 19,
   "metadata": {},
   "outputs": [
    {
     "data": {
      "text/plain": [
       "1      19700\n",
       "333      231\n",
       "382      228\n",
       "377      224\n",
       "253      222\n",
       "Name: mb_used, dtype: int64"
      ]
     },
     "execution_count": 19,
     "metadata": {},
     "output_type": "execute_result"
    }
   ],
   "source": [
    "data_internet['mb_used'].value_counts().head(5)"
   ]
  },
  {
   "cell_type": "code",
   "execution_count": 20,
   "metadata": {},
   "outputs": [
    {
     "data": {
      "text/plain": [
       "count    149396.000000\n",
       "mean        370.753280\n",
       "std         278.212524\n",
       "min           1.000000\n",
       "25%         139.000000\n",
       "50%         349.000000\n",
       "75%         560.000000\n",
       "max        1725.000000\n",
       "Name: mb_used, dtype: float64"
      ]
     },
     "execution_count": 20,
     "metadata": {},
     "output_type": "execute_result"
    }
   ],
   "source": [
    "data_internet['mb_used'].describe() #проверю для себя реальность"
   ]
  },
  {
   "cell_type": "code",
   "execution_count": 21,
   "metadata": {},
   "outputs": [],
   "source": [
    "#сделаем столбец месяца\n",
    "data_calls['month'] = pd.DatetimeIndex(data_calls['call_date']).month"
   ]
  },
  {
   "cell_type": "code",
   "execution_count": 22,
   "metadata": {},
   "outputs": [
    {
     "data": {
      "text/html": [
       "<div>\n",
       "<style scoped>\n",
       "    .dataframe tbody tr th:only-of-type {\n",
       "        vertical-align: middle;\n",
       "    }\n",
       "\n",
       "    .dataframe tbody tr th {\n",
       "        vertical-align: top;\n",
       "    }\n",
       "\n",
       "    .dataframe thead th {\n",
       "        text-align: right;\n",
       "    }\n",
       "</style>\n",
       "<table border=\"1\" class=\"dataframe\">\n",
       "  <thead>\n",
       "    <tr style=\"text-align: right;\">\n",
       "      <th></th>\n",
       "      <th>id</th>\n",
       "      <th>call_date</th>\n",
       "      <th>duration</th>\n",
       "      <th>user_id</th>\n",
       "      <th>month</th>\n",
       "    </tr>\n",
       "  </thead>\n",
       "  <tbody>\n",
       "    <tr>\n",
       "      <td>0</td>\n",
       "      <td>1000_0</td>\n",
       "      <td>2018-07-25</td>\n",
       "      <td>0</td>\n",
       "      <td>1000</td>\n",
       "      <td>7</td>\n",
       "    </tr>\n",
       "    <tr>\n",
       "      <td>1</td>\n",
       "      <td>1000_1</td>\n",
       "      <td>2018-08-17</td>\n",
       "      <td>0</td>\n",
       "      <td>1000</td>\n",
       "      <td>8</td>\n",
       "    </tr>\n",
       "    <tr>\n",
       "      <td>2</td>\n",
       "      <td>1000_2</td>\n",
       "      <td>2018-06-11</td>\n",
       "      <td>2</td>\n",
       "      <td>1000</td>\n",
       "      <td>6</td>\n",
       "    </tr>\n",
       "    <tr>\n",
       "      <td>3</td>\n",
       "      <td>1000_3</td>\n",
       "      <td>2018-09-21</td>\n",
       "      <td>13</td>\n",
       "      <td>1000</td>\n",
       "      <td>9</td>\n",
       "    </tr>\n",
       "    <tr>\n",
       "      <td>4</td>\n",
       "      <td>1000_4</td>\n",
       "      <td>2018-12-15</td>\n",
       "      <td>5</td>\n",
       "      <td>1000</td>\n",
       "      <td>12</td>\n",
       "    </tr>\n",
       "  </tbody>\n",
       "</table>\n",
       "</div>"
      ],
      "text/plain": [
       "       id  call_date  duration  user_id  month\n",
       "0  1000_0 2018-07-25         0     1000      7\n",
       "1  1000_1 2018-08-17         0     1000      8\n",
       "2  1000_2 2018-06-11         2     1000      6\n",
       "3  1000_3 2018-09-21        13     1000      9\n",
       "4  1000_4 2018-12-15         5     1000     12"
      ]
     },
     "execution_count": 22,
     "metadata": {},
     "output_type": "execute_result"
    }
   ],
   "source": [
    "data_calls.head(5)"
   ]
  },
  {
   "cell_type": "code",
   "execution_count": 23,
   "metadata": {},
   "outputs": [
    {
     "data": {
      "text/html": [
       "<div>\n",
       "<style scoped>\n",
       "    .dataframe tbody tr th:only-of-type {\n",
       "        vertical-align: middle;\n",
       "    }\n",
       "\n",
       "    .dataframe tbody tr th {\n",
       "        vertical-align: top;\n",
       "    }\n",
       "\n",
       "    .dataframe thead th {\n",
       "        text-align: right;\n",
       "    }\n",
       "</style>\n",
       "<table border=\"1\" class=\"dataframe\">\n",
       "  <thead>\n",
       "    <tr style=\"text-align: right;\">\n",
       "      <th></th>\n",
       "      <th></th>\n",
       "      <th>total_calls</th>\n",
       "      <th>count_calls</th>\n",
       "    </tr>\n",
       "    <tr>\n",
       "      <th>user_id</th>\n",
       "      <th>month</th>\n",
       "      <th></th>\n",
       "      <th></th>\n",
       "    </tr>\n",
       "  </thead>\n",
       "  <tbody>\n",
       "    <tr>\n",
       "      <td rowspan=\"5\" valign=\"top\">1000</td>\n",
       "      <td>5</td>\n",
       "      <td>142</td>\n",
       "      <td>22</td>\n",
       "    </tr>\n",
       "    <tr>\n",
       "      <td>6</td>\n",
       "      <td>144</td>\n",
       "      <td>43</td>\n",
       "    </tr>\n",
       "    <tr>\n",
       "      <td>7</td>\n",
       "      <td>299</td>\n",
       "      <td>47</td>\n",
       "    </tr>\n",
       "    <tr>\n",
       "      <td>8</td>\n",
       "      <td>367</td>\n",
       "      <td>52</td>\n",
       "    </tr>\n",
       "    <tr>\n",
       "      <td>9</td>\n",
       "      <td>421</td>\n",
       "      <td>58</td>\n",
       "    </tr>\n",
       "    <tr>\n",
       "      <td>...</td>\n",
       "      <td>...</td>\n",
       "      <td>...</td>\n",
       "      <td>...</td>\n",
       "    </tr>\n",
       "    <tr>\n",
       "      <td>1498</td>\n",
       "      <td>10</td>\n",
       "      <td>218</td>\n",
       "      <td>41</td>\n",
       "    </tr>\n",
       "    <tr>\n",
       "      <td rowspan=\"4\" valign=\"top\">1499</td>\n",
       "      <td>9</td>\n",
       "      <td>62</td>\n",
       "      <td>9</td>\n",
       "    </tr>\n",
       "    <tr>\n",
       "      <td>10</td>\n",
       "      <td>406</td>\n",
       "      <td>68</td>\n",
       "    </tr>\n",
       "    <tr>\n",
       "      <td>11</td>\n",
       "      <td>550</td>\n",
       "      <td>74</td>\n",
       "    </tr>\n",
       "    <tr>\n",
       "      <td>12</td>\n",
       "      <td>436</td>\n",
       "      <td>69</td>\n",
       "    </tr>\n",
       "  </tbody>\n",
       "</table>\n",
       "<p>3174 rows × 2 columns</p>\n",
       "</div>"
      ],
      "text/plain": [
       "               total_calls  count_calls\n",
       "user_id month                          \n",
       "1000    5              142           22\n",
       "        6              144           43\n",
       "        7              299           47\n",
       "        8              367           52\n",
       "        9              421           58\n",
       "...                    ...          ...\n",
       "1498    10             218           41\n",
       "1499    9               62            9\n",
       "        10             406           68\n",
       "        11             550           74\n",
       "        12             436           69\n",
       "\n",
       "[3174 rows x 2 columns]"
      ]
     },
     "execution_count": 23,
     "metadata": {},
     "output_type": "execute_result"
    }
   ],
   "source": [
    "# рассмотрим количество сделанных звонков и израсходованных минут по месяцам\n",
    "data_calls_pivot = data_calls.pivot_table(index=['user_id', 'month'], values= ['duration'], aggfunc=['sum', 'count'])\n",
    "data_calls_pivot.columns = ['total_calls', 'count_calls']\n",
    "\n",
    "data_calls_pivot"
   ]
  },
  {
   "cell_type": "code",
   "execution_count": 24,
   "metadata": {},
   "outputs": [],
   "source": [
    "data_messages['month'] = pd.DatetimeIndex(data_messages['message_date']).month\n",
    "data_internet['month'] = pd.DatetimeIndex(data_internet['session_date']).month"
   ]
  },
  {
   "cell_type": "code",
   "execution_count": 25,
   "metadata": {},
   "outputs": [
    {
     "data": {
      "text/html": [
       "<div>\n",
       "<style scoped>\n",
       "    .dataframe tbody tr th:only-of-type {\n",
       "        vertical-align: middle;\n",
       "    }\n",
       "\n",
       "    .dataframe tbody tr th {\n",
       "        vertical-align: top;\n",
       "    }\n",
       "\n",
       "    .dataframe thead th {\n",
       "        text-align: right;\n",
       "    }\n",
       "</style>\n",
       "<table border=\"1\" class=\"dataframe\">\n",
       "  <thead>\n",
       "    <tr style=\"text-align: right;\">\n",
       "      <th></th>\n",
       "      <th></th>\n",
       "      <th>count_message</th>\n",
       "    </tr>\n",
       "    <tr>\n",
       "      <th>user_id</th>\n",
       "      <th>month</th>\n",
       "      <th></th>\n",
       "    </tr>\n",
       "  </thead>\n",
       "  <tbody>\n",
       "    <tr>\n",
       "      <td rowspan=\"5\" valign=\"top\">1000</td>\n",
       "      <td>5</td>\n",
       "      <td>22</td>\n",
       "    </tr>\n",
       "    <tr>\n",
       "      <td>6</td>\n",
       "      <td>60</td>\n",
       "    </tr>\n",
       "    <tr>\n",
       "      <td>7</td>\n",
       "      <td>75</td>\n",
       "    </tr>\n",
       "    <tr>\n",
       "      <td>8</td>\n",
       "      <td>81</td>\n",
       "    </tr>\n",
       "    <tr>\n",
       "      <td>9</td>\n",
       "      <td>57</td>\n",
       "    </tr>\n",
       "    <tr>\n",
       "      <td>...</td>\n",
       "      <td>...</td>\n",
       "      <td>...</td>\n",
       "    </tr>\n",
       "    <tr>\n",
       "      <td>1498</td>\n",
       "      <td>10</td>\n",
       "      <td>42</td>\n",
       "    </tr>\n",
       "    <tr>\n",
       "      <td rowspan=\"4\" valign=\"top\">1499</td>\n",
       "      <td>9</td>\n",
       "      <td>11</td>\n",
       "    </tr>\n",
       "    <tr>\n",
       "      <td>10</td>\n",
       "      <td>48</td>\n",
       "    </tr>\n",
       "    <tr>\n",
       "      <td>11</td>\n",
       "      <td>59</td>\n",
       "    </tr>\n",
       "    <tr>\n",
       "      <td>12</td>\n",
       "      <td>66</td>\n",
       "    </tr>\n",
       "  </tbody>\n",
       "</table>\n",
       "<p>2717 rows × 1 columns</p>\n",
       "</div>"
      ],
      "text/plain": [
       "               count_message\n",
       "user_id month               \n",
       "1000    5                 22\n",
       "        6                 60\n",
       "        7                 75\n",
       "        8                 81\n",
       "        9                 57\n",
       "...                      ...\n",
       "1498    10                42\n",
       "1499    9                 11\n",
       "        10                48\n",
       "        11                59\n",
       "        12                66\n",
       "\n",
       "[2717 rows x 1 columns]"
      ]
     },
     "execution_count": 25,
     "metadata": {},
     "output_type": "execute_result"
    }
   ],
   "source": [
    "data_messages_pivot = data_messages.pivot_table(index=['user_id', 'month'], values= 'id', aggfunc='count')\n",
    "data_messages_pivot.columns = ['count_message']\n",
    "\n",
    "data_messages_pivot"
   ]
  },
  {
   "cell_type": "code",
   "execution_count": 26,
   "metadata": {},
   "outputs": [
    {
     "data": {
      "text/html": [
       "<div>\n",
       "<style scoped>\n",
       "    .dataframe tbody tr th:only-of-type {\n",
       "        vertical-align: middle;\n",
       "    }\n",
       "\n",
       "    .dataframe tbody tr th {\n",
       "        vertical-align: top;\n",
       "    }\n",
       "\n",
       "    .dataframe thead th {\n",
       "        text-align: right;\n",
       "    }\n",
       "</style>\n",
       "<table border=\"1\" class=\"dataframe\">\n",
       "  <thead>\n",
       "    <tr style=\"text-align: right;\">\n",
       "      <th></th>\n",
       "      <th></th>\n",
       "      <th>traffic_total</th>\n",
       "    </tr>\n",
       "    <tr>\n",
       "      <th>user_id</th>\n",
       "      <th>month</th>\n",
       "      <th></th>\n",
       "    </tr>\n",
       "  </thead>\n",
       "  <tbody>\n",
       "    <tr>\n",
       "      <td rowspan=\"5\" valign=\"top\">1000</td>\n",
       "      <td>5</td>\n",
       "      <td>2257</td>\n",
       "    </tr>\n",
       "    <tr>\n",
       "      <td>6</td>\n",
       "      <td>23262</td>\n",
       "    </tr>\n",
       "    <tr>\n",
       "      <td>7</td>\n",
       "      <td>14017</td>\n",
       "    </tr>\n",
       "    <tr>\n",
       "      <td>8</td>\n",
       "      <td>14072</td>\n",
       "    </tr>\n",
       "    <tr>\n",
       "      <td>9</td>\n",
       "      <td>14583</td>\n",
       "    </tr>\n",
       "    <tr>\n",
       "      <td>...</td>\n",
       "      <td>...</td>\n",
       "      <td>...</td>\n",
       "    </tr>\n",
       "    <tr>\n",
       "      <td>1498</td>\n",
       "      <td>10</td>\n",
       "      <td>20614</td>\n",
       "    </tr>\n",
       "    <tr>\n",
       "      <td rowspan=\"4\" valign=\"top\">1499</td>\n",
       "      <td>9</td>\n",
       "      <td>1849</td>\n",
       "    </tr>\n",
       "    <tr>\n",
       "      <td>10</td>\n",
       "      <td>17824</td>\n",
       "    </tr>\n",
       "    <tr>\n",
       "      <td>11</td>\n",
       "      <td>17994</td>\n",
       "    </tr>\n",
       "    <tr>\n",
       "      <td>12</td>\n",
       "      <td>13082</td>\n",
       "    </tr>\n",
       "  </tbody>\n",
       "</table>\n",
       "<p>3203 rows × 1 columns</p>\n",
       "</div>"
      ],
      "text/plain": [
       "               traffic_total\n",
       "user_id month               \n",
       "1000    5               2257\n",
       "        6              23262\n",
       "        7              14017\n",
       "        8              14072\n",
       "        9              14583\n",
       "...                      ...\n",
       "1498    10             20614\n",
       "1499    9               1849\n",
       "        10             17824\n",
       "        11             17994\n",
       "        12             13082\n",
       "\n",
       "[3203 rows x 1 columns]"
      ]
     },
     "execution_count": 26,
     "metadata": {},
     "output_type": "execute_result"
    }
   ],
   "source": [
    "# рассмотрим объем израсходованного интернет-трафика по месяцам\n",
    "data_internet_pivot = data_internet.pivot_table(index=['user_id', 'month'], values='mb_used', aggfunc=['sum'])\n",
    "data_internet_pivot.columns = ['traffic_total']\n",
    "\n",
    "data_internet_pivot"
   ]
  },
  {
   "cell_type": "code",
   "execution_count": 27,
   "metadata": {},
   "outputs": [
    {
     "data": {
      "text/html": [
       "<div>\n",
       "<style scoped>\n",
       "    .dataframe tbody tr th:only-of-type {\n",
       "        vertical-align: middle;\n",
       "    }\n",
       "\n",
       "    .dataframe tbody tr th {\n",
       "        vertical-align: top;\n",
       "    }\n",
       "\n",
       "    .dataframe thead th {\n",
       "        text-align: right;\n",
       "    }\n",
       "</style>\n",
       "<table border=\"1\" class=\"dataframe\">\n",
       "  <thead>\n",
       "    <tr style=\"text-align: right;\">\n",
       "      <th></th>\n",
       "      <th>user_id</th>\n",
       "      <th>month</th>\n",
       "      <th>count_message</th>\n",
       "      <th>total_calls</th>\n",
       "      <th>count_calls</th>\n",
       "      <th>traffic_total</th>\n",
       "    </tr>\n",
       "  </thead>\n",
       "  <tbody>\n",
       "    <tr>\n",
       "      <td>0</td>\n",
       "      <td>1000</td>\n",
       "      <td>5</td>\n",
       "      <td>22.0</td>\n",
       "      <td>142.0</td>\n",
       "      <td>22.0</td>\n",
       "      <td>2257.0</td>\n",
       "    </tr>\n",
       "    <tr>\n",
       "      <td>1</td>\n",
       "      <td>1000</td>\n",
       "      <td>6</td>\n",
       "      <td>60.0</td>\n",
       "      <td>144.0</td>\n",
       "      <td>43.0</td>\n",
       "      <td>23262.0</td>\n",
       "    </tr>\n",
       "    <tr>\n",
       "      <td>2</td>\n",
       "      <td>1000</td>\n",
       "      <td>7</td>\n",
       "      <td>75.0</td>\n",
       "      <td>299.0</td>\n",
       "      <td>47.0</td>\n",
       "      <td>14017.0</td>\n",
       "    </tr>\n",
       "    <tr>\n",
       "      <td>3</td>\n",
       "      <td>1000</td>\n",
       "      <td>8</td>\n",
       "      <td>81.0</td>\n",
       "      <td>367.0</td>\n",
       "      <td>52.0</td>\n",
       "      <td>14072.0</td>\n",
       "    </tr>\n",
       "    <tr>\n",
       "      <td>4</td>\n",
       "      <td>1000</td>\n",
       "      <td>9</td>\n",
       "      <td>57.0</td>\n",
       "      <td>421.0</td>\n",
       "      <td>58.0</td>\n",
       "      <td>14583.0</td>\n",
       "    </tr>\n",
       "    <tr>\n",
       "      <td>...</td>\n",
       "      <td>...</td>\n",
       "      <td>...</td>\n",
       "      <td>...</td>\n",
       "      <td>...</td>\n",
       "      <td>...</td>\n",
       "      <td>...</td>\n",
       "    </tr>\n",
       "    <tr>\n",
       "      <td>3209</td>\n",
       "      <td>1494</td>\n",
       "      <td>9</td>\n",
       "      <td>NaN</td>\n",
       "      <td>444.0</td>\n",
       "      <td>66.0</td>\n",
       "      <td>16993.0</td>\n",
       "    </tr>\n",
       "    <tr>\n",
       "      <td>3210</td>\n",
       "      <td>1494</td>\n",
       "      <td>10</td>\n",
       "      <td>NaN</td>\n",
       "      <td>309.0</td>\n",
       "      <td>52.0</td>\n",
       "      <td>17799.0</td>\n",
       "    </tr>\n",
       "    <tr>\n",
       "      <td>3211</td>\n",
       "      <td>1494</td>\n",
       "      <td>11</td>\n",
       "      <td>NaN</td>\n",
       "      <td>367.0</td>\n",
       "      <td>63.0</td>\n",
       "      <td>18083.0</td>\n",
       "    </tr>\n",
       "    <tr>\n",
       "      <td>3212</td>\n",
       "      <td>1494</td>\n",
       "      <td>12</td>\n",
       "      <td>NaN</td>\n",
       "      <td>364.0</td>\n",
       "      <td>62.0</td>\n",
       "      <td>17650.0</td>\n",
       "    </tr>\n",
       "    <tr>\n",
       "      <td>3213</td>\n",
       "      <td>1476</td>\n",
       "      <td>4</td>\n",
       "      <td>NaN</td>\n",
       "      <td>NaN</td>\n",
       "      <td>NaN</td>\n",
       "      <td>531.0</td>\n",
       "    </tr>\n",
       "  </tbody>\n",
       "</table>\n",
       "<p>3214 rows × 6 columns</p>\n",
       "</div>"
      ],
      "text/plain": [
       "      user_id  month  count_message  total_calls  count_calls  traffic_total\n",
       "0        1000      5           22.0        142.0         22.0         2257.0\n",
       "1        1000      6           60.0        144.0         43.0        23262.0\n",
       "2        1000      7           75.0        299.0         47.0        14017.0\n",
       "3        1000      8           81.0        367.0         52.0        14072.0\n",
       "4        1000      9           57.0        421.0         58.0        14583.0\n",
       "...       ...    ...            ...          ...          ...            ...\n",
       "3209     1494      9            NaN        444.0         66.0        16993.0\n",
       "3210     1494     10            NaN        309.0         52.0        17799.0\n",
       "3211     1494     11            NaN        367.0         63.0        18083.0\n",
       "3212     1494     12            NaN        364.0         62.0        17650.0\n",
       "3213     1476      4            NaN          NaN          NaN          531.0\n",
       "\n",
       "[3214 rows x 6 columns]"
      ]
     },
     "execution_count": 27,
     "metadata": {},
     "output_type": "execute_result"
    }
   ],
   "source": [
    "# объединим таблицы для расчета ежемесячной выручки и дальнейшего анализа\n",
    "# сформируем таблицу, содержащую информацию о количестве звонков, сообщений и объеме интернета\n",
    "megaline_traf = pd.merge(data_messages_pivot, data_calls_pivot, on= ['user_id', 'month'], how='outer')\n",
    "megaline_traf = pd.merge(megaline_traf,data_internet_pivot, on= ['user_id', 'month'], how='outer' )\n",
    "megaline_traf = megaline_traf.reset_index()\n",
    "megaline_traf \n"
   ]
  },
  {
   "cell_type": "code",
   "execution_count": 28,
   "metadata": {},
   "outputs": [],
   "source": [
    "all_users = data_users.loc[:,['user_id', 'city', 'tariff']] #все остальное типа имен мне не потребуется (были бы номера телефонов по нима можно было бы тоже проверить)"
   ]
  },
  {
   "cell_type": "code",
   "execution_count": 29,
   "metadata": {},
   "outputs": [
    {
     "data": {
      "text/html": [
       "<div>\n",
       "<style scoped>\n",
       "    .dataframe tbody tr th:only-of-type {\n",
       "        vertical-align: middle;\n",
       "    }\n",
       "\n",
       "    .dataframe tbody tr th {\n",
       "        vertical-align: top;\n",
       "    }\n",
       "\n",
       "    .dataframe thead th {\n",
       "        text-align: right;\n",
       "    }\n",
       "</style>\n",
       "<table border=\"1\" class=\"dataframe\">\n",
       "  <thead>\n",
       "    <tr style=\"text-align: right;\">\n",
       "      <th></th>\n",
       "      <th>user_id</th>\n",
       "      <th>month</th>\n",
       "      <th>count_message</th>\n",
       "      <th>total_calls</th>\n",
       "      <th>count_calls</th>\n",
       "      <th>traffic_total</th>\n",
       "      <th>city</th>\n",
       "      <th>tariff</th>\n",
       "    </tr>\n",
       "  </thead>\n",
       "  <tbody>\n",
       "    <tr>\n",
       "      <td>0</td>\n",
       "      <td>1000</td>\n",
       "      <td>5.0</td>\n",
       "      <td>22.0</td>\n",
       "      <td>142.0</td>\n",
       "      <td>22.0</td>\n",
       "      <td>2257.0</td>\n",
       "      <td>Краснодар</td>\n",
       "      <td>ultra</td>\n",
       "    </tr>\n",
       "    <tr>\n",
       "      <td>1</td>\n",
       "      <td>1000</td>\n",
       "      <td>6.0</td>\n",
       "      <td>60.0</td>\n",
       "      <td>144.0</td>\n",
       "      <td>43.0</td>\n",
       "      <td>23262.0</td>\n",
       "      <td>Краснодар</td>\n",
       "      <td>ultra</td>\n",
       "    </tr>\n",
       "    <tr>\n",
       "      <td>2</td>\n",
       "      <td>1000</td>\n",
       "      <td>7.0</td>\n",
       "      <td>75.0</td>\n",
       "      <td>299.0</td>\n",
       "      <td>47.0</td>\n",
       "      <td>14017.0</td>\n",
       "      <td>Краснодар</td>\n",
       "      <td>ultra</td>\n",
       "    </tr>\n",
       "    <tr>\n",
       "      <td>3</td>\n",
       "      <td>1000</td>\n",
       "      <td>8.0</td>\n",
       "      <td>81.0</td>\n",
       "      <td>367.0</td>\n",
       "      <td>52.0</td>\n",
       "      <td>14072.0</td>\n",
       "      <td>Краснодар</td>\n",
       "      <td>ultra</td>\n",
       "    </tr>\n",
       "    <tr>\n",
       "      <td>4</td>\n",
       "      <td>1000</td>\n",
       "      <td>9.0</td>\n",
       "      <td>57.0</td>\n",
       "      <td>421.0</td>\n",
       "      <td>58.0</td>\n",
       "      <td>14583.0</td>\n",
       "      <td>Краснодар</td>\n",
       "      <td>ultra</td>\n",
       "    </tr>\n",
       "    <tr>\n",
       "      <td>...</td>\n",
       "      <td>...</td>\n",
       "      <td>...</td>\n",
       "      <td>...</td>\n",
       "      <td>...</td>\n",
       "      <td>...</td>\n",
       "      <td>...</td>\n",
       "      <td>...</td>\n",
       "      <td>...</td>\n",
       "    </tr>\n",
       "    <tr>\n",
       "      <td>3211</td>\n",
       "      <td>1494</td>\n",
       "      <td>10.0</td>\n",
       "      <td>NaN</td>\n",
       "      <td>309.0</td>\n",
       "      <td>52.0</td>\n",
       "      <td>17799.0</td>\n",
       "      <td>Омск</td>\n",
       "      <td>smart</td>\n",
       "    </tr>\n",
       "    <tr>\n",
       "      <td>3212</td>\n",
       "      <td>1494</td>\n",
       "      <td>11.0</td>\n",
       "      <td>NaN</td>\n",
       "      <td>367.0</td>\n",
       "      <td>63.0</td>\n",
       "      <td>18083.0</td>\n",
       "      <td>Омск</td>\n",
       "      <td>smart</td>\n",
       "    </tr>\n",
       "    <tr>\n",
       "      <td>3213</td>\n",
       "      <td>1494</td>\n",
       "      <td>12.0</td>\n",
       "      <td>NaN</td>\n",
       "      <td>364.0</td>\n",
       "      <td>62.0</td>\n",
       "      <td>17650.0</td>\n",
       "      <td>Омск</td>\n",
       "      <td>smart</td>\n",
       "    </tr>\n",
       "    <tr>\n",
       "      <td>3214</td>\n",
       "      <td>1128</td>\n",
       "      <td>NaN</td>\n",
       "      <td>NaN</td>\n",
       "      <td>NaN</td>\n",
       "      <td>NaN</td>\n",
       "      <td>NaN</td>\n",
       "      <td>Волжский</td>\n",
       "      <td>ultra</td>\n",
       "    </tr>\n",
       "    <tr>\n",
       "      <td>3215</td>\n",
       "      <td>1371</td>\n",
       "      <td>NaN</td>\n",
       "      <td>NaN</td>\n",
       "      <td>NaN</td>\n",
       "      <td>NaN</td>\n",
       "      <td>NaN</td>\n",
       "      <td>Омск</td>\n",
       "      <td>smart</td>\n",
       "    </tr>\n",
       "  </tbody>\n",
       "</table>\n",
       "<p>3216 rows × 8 columns</p>\n",
       "</div>"
      ],
      "text/plain": [
       "      user_id  month  count_message  total_calls  count_calls  traffic_total  \\\n",
       "0        1000    5.0           22.0        142.0         22.0         2257.0   \n",
       "1        1000    6.0           60.0        144.0         43.0        23262.0   \n",
       "2        1000    7.0           75.0        299.0         47.0        14017.0   \n",
       "3        1000    8.0           81.0        367.0         52.0        14072.0   \n",
       "4        1000    9.0           57.0        421.0         58.0        14583.0   \n",
       "...       ...    ...            ...          ...          ...            ...   \n",
       "3211     1494   10.0            NaN        309.0         52.0        17799.0   \n",
       "3212     1494   11.0            NaN        367.0         63.0        18083.0   \n",
       "3213     1494   12.0            NaN        364.0         62.0        17650.0   \n",
       "3214     1128    NaN            NaN          NaN          NaN            NaN   \n",
       "3215     1371    NaN            NaN          NaN          NaN            NaN   \n",
       "\n",
       "           city tariff  \n",
       "0     Краснодар  ultra  \n",
       "1     Краснодар  ultra  \n",
       "2     Краснодар  ultra  \n",
       "3     Краснодар  ultra  \n",
       "4     Краснодар  ultra  \n",
       "...         ...    ...  \n",
       "3211       Омск  smart  \n",
       "3212       Омск  smart  \n",
       "3213       Омск  smart  \n",
       "3214   Волжский  ultra  \n",
       "3215       Омск  smart  \n",
       "\n",
       "[3216 rows x 8 columns]"
      ]
     },
     "execution_count": 29,
     "metadata": {},
     "output_type": "execute_result"
    }
   ],
   "source": [
    "megaline_traf  = pd.merge(megaline_traf, all_users, on= ['user_id'], how = 'outer' )\n",
    "megaline_traf.reset_index(drop=True)\n",
    "megaline_traf "
   ]
  },
  {
   "cell_type": "code",
   "execution_count": 30,
   "metadata": {},
   "outputs": [
    {
     "data": {
      "text/plain": [
       "500"
      ]
     },
     "execution_count": 30,
     "metadata": {},
     "output_type": "execute_result"
    }
   ],
   "source": [
    "megaline_traf['user_id'].nunique() #проверю что все на месте"
   ]
  },
  {
   "cell_type": "markdown",
   "metadata": {},
   "source": [
    "### Вывод\n",
    "Вцелом значения не требуют особой обработки, кажутся вполне реальными. Заполнены нулевые значения в duration и mb_used, приведены типы данных. Разбиты месяца. Сформированна таблица со всеми данными по пользователям.В churn_date часть значений отсутсвует (по условиям значит тариф еще действет),  и NaN в звонках"
   ]
  },
  {
   "cell_type": "markdown",
   "metadata": {},
   "source": [
    "## Расчёты и добавление результатов в таблицу"
   ]
  },
  {
   "cell_type": "markdown",
   "metadata": {},
   "source": [
    "#### задача посчитать выручку:\n",
    "\n",
    "Для каждого пользователя посчитаем:\n",
    "- помесячную выручку (вычтем бесплатный лимит из суммарного количества звонков, сообщений и интернет-трафика; остаток умножим на значение из тарифного плана; прибавим абонентскую плату, соответствующую тарифному плану)"
   ]
  },
  {
   "cell_type": "markdown",
   "metadata": {},
   "source": [
    "#заменю Nan на 0\n",
    "megaline_traf.isna().sum()"
   ]
  },
  {
   "cell_type": "code",
   "execution_count": 31,
   "metadata": {},
   "outputs": [
    {
     "data": {
      "text/html": [
       "<div>\n",
       "<style scoped>\n",
       "    .dataframe tbody tr th:only-of-type {\n",
       "        vertical-align: middle;\n",
       "    }\n",
       "\n",
       "    .dataframe tbody tr th {\n",
       "        vertical-align: top;\n",
       "    }\n",
       "\n",
       "    .dataframe thead th {\n",
       "        text-align: right;\n",
       "    }\n",
       "</style>\n",
       "<table border=\"1\" class=\"dataframe\">\n",
       "  <thead>\n",
       "    <tr style=\"text-align: right;\">\n",
       "      <th></th>\n",
       "      <th>user_id</th>\n",
       "      <th>month</th>\n",
       "      <th>count_message</th>\n",
       "      <th>total_calls</th>\n",
       "      <th>count_calls</th>\n",
       "      <th>traffic_total</th>\n",
       "      <th>city</th>\n",
       "      <th>tariff</th>\n",
       "    </tr>\n",
       "  </thead>\n",
       "  <tbody>\n",
       "    <tr>\n",
       "      <td>3214</td>\n",
       "      <td>1128</td>\n",
       "      <td>NaN</td>\n",
       "      <td>NaN</td>\n",
       "      <td>NaN</td>\n",
       "      <td>NaN</td>\n",
       "      <td>NaN</td>\n",
       "      <td>Волжский</td>\n",
       "      <td>ultra</td>\n",
       "    </tr>\n",
       "    <tr>\n",
       "      <td>3215</td>\n",
       "      <td>1371</td>\n",
       "      <td>NaN</td>\n",
       "      <td>NaN</td>\n",
       "      <td>NaN</td>\n",
       "      <td>NaN</td>\n",
       "      <td>NaN</td>\n",
       "      <td>Омск</td>\n",
       "      <td>smart</td>\n",
       "    </tr>\n",
       "  </tbody>\n",
       "</table>\n",
       "</div>"
      ],
      "text/plain": [
       "      user_id  month  count_message  total_calls  count_calls  traffic_total  \\\n",
       "3214     1128    NaN            NaN          NaN          NaN            NaN   \n",
       "3215     1371    NaN            NaN          NaN          NaN            NaN   \n",
       "\n",
       "          city tariff  \n",
       "3214  Волжский  ultra  \n",
       "3215      Омск  smart  "
      ]
     },
     "execution_count": 31,
     "metadata": {},
     "output_type": "execute_result"
    }
   ],
   "source": [
    "megaline_traf[megaline_traf['month'].isna()]"
   ]
  },
  {
   "cell_type": "markdown",
   "metadata": {},
   "source": [
    "2 абонента которые не звонили, не заходили в интернет и никак не пользовались услугами, удалим их,  или можно поставить им 12 месяц как новым пользователям (возможно они поэтому не пользовались пока услугами)"
   ]
  },
  {
   "cell_type": "code",
   "execution_count": 32,
   "metadata": {},
   "outputs": [
    {
     "data": {
      "text/html": [
       "<div>\n",
       "<style scoped>\n",
       "    .dataframe tbody tr th:only-of-type {\n",
       "        vertical-align: middle;\n",
       "    }\n",
       "\n",
       "    .dataframe tbody tr th {\n",
       "        vertical-align: top;\n",
       "    }\n",
       "\n",
       "    .dataframe thead th {\n",
       "        text-align: right;\n",
       "    }\n",
       "</style>\n",
       "<table border=\"1\" class=\"dataframe\">\n",
       "  <thead>\n",
       "    <tr style=\"text-align: right;\">\n",
       "      <th></th>\n",
       "      <th>user_id</th>\n",
       "      <th>month</th>\n",
       "      <th>count_message</th>\n",
       "      <th>total_calls</th>\n",
       "      <th>count_calls</th>\n",
       "      <th>traffic_total</th>\n",
       "      <th>city</th>\n",
       "      <th>tariff</th>\n",
       "    </tr>\n",
       "  </thead>\n",
       "  <tbody>\n",
       "    <tr>\n",
       "      <td>0</td>\n",
       "      <td>1000</td>\n",
       "      <td>5.0</td>\n",
       "      <td>22.0</td>\n",
       "      <td>142.0</td>\n",
       "      <td>22.0</td>\n",
       "      <td>2257.0</td>\n",
       "      <td>Краснодар</td>\n",
       "      <td>ultra</td>\n",
       "    </tr>\n",
       "    <tr>\n",
       "      <td>1</td>\n",
       "      <td>1000</td>\n",
       "      <td>6.0</td>\n",
       "      <td>60.0</td>\n",
       "      <td>144.0</td>\n",
       "      <td>43.0</td>\n",
       "      <td>23262.0</td>\n",
       "      <td>Краснодар</td>\n",
       "      <td>ultra</td>\n",
       "    </tr>\n",
       "    <tr>\n",
       "      <td>2</td>\n",
       "      <td>1000</td>\n",
       "      <td>7.0</td>\n",
       "      <td>75.0</td>\n",
       "      <td>299.0</td>\n",
       "      <td>47.0</td>\n",
       "      <td>14017.0</td>\n",
       "      <td>Краснодар</td>\n",
       "      <td>ultra</td>\n",
       "    </tr>\n",
       "    <tr>\n",
       "      <td>3</td>\n",
       "      <td>1000</td>\n",
       "      <td>8.0</td>\n",
       "      <td>81.0</td>\n",
       "      <td>367.0</td>\n",
       "      <td>52.0</td>\n",
       "      <td>14072.0</td>\n",
       "      <td>Краснодар</td>\n",
       "      <td>ultra</td>\n",
       "    </tr>\n",
       "    <tr>\n",
       "      <td>4</td>\n",
       "      <td>1000</td>\n",
       "      <td>9.0</td>\n",
       "      <td>57.0</td>\n",
       "      <td>421.0</td>\n",
       "      <td>58.0</td>\n",
       "      <td>14583.0</td>\n",
       "      <td>Краснодар</td>\n",
       "      <td>ultra</td>\n",
       "    </tr>\n",
       "    <tr>\n",
       "      <td>...</td>\n",
       "      <td>...</td>\n",
       "      <td>...</td>\n",
       "      <td>...</td>\n",
       "      <td>...</td>\n",
       "      <td>...</td>\n",
       "      <td>...</td>\n",
       "      <td>...</td>\n",
       "      <td>...</td>\n",
       "    </tr>\n",
       "    <tr>\n",
       "      <td>3209</td>\n",
       "      <td>1494</td>\n",
       "      <td>8.0</td>\n",
       "      <td>NaN</td>\n",
       "      <td>237.0</td>\n",
       "      <td>32.0</td>\n",
       "      <td>6607.0</td>\n",
       "      <td>Омск</td>\n",
       "      <td>smart</td>\n",
       "    </tr>\n",
       "    <tr>\n",
       "      <td>3210</td>\n",
       "      <td>1494</td>\n",
       "      <td>9.0</td>\n",
       "      <td>NaN</td>\n",
       "      <td>444.0</td>\n",
       "      <td>66.0</td>\n",
       "      <td>16993.0</td>\n",
       "      <td>Омск</td>\n",
       "      <td>smart</td>\n",
       "    </tr>\n",
       "    <tr>\n",
       "      <td>3211</td>\n",
       "      <td>1494</td>\n",
       "      <td>10.0</td>\n",
       "      <td>NaN</td>\n",
       "      <td>309.0</td>\n",
       "      <td>52.0</td>\n",
       "      <td>17799.0</td>\n",
       "      <td>Омск</td>\n",
       "      <td>smart</td>\n",
       "    </tr>\n",
       "    <tr>\n",
       "      <td>3212</td>\n",
       "      <td>1494</td>\n",
       "      <td>11.0</td>\n",
       "      <td>NaN</td>\n",
       "      <td>367.0</td>\n",
       "      <td>63.0</td>\n",
       "      <td>18083.0</td>\n",
       "      <td>Омск</td>\n",
       "      <td>smart</td>\n",
       "    </tr>\n",
       "    <tr>\n",
       "      <td>3213</td>\n",
       "      <td>1494</td>\n",
       "      <td>12.0</td>\n",
       "      <td>NaN</td>\n",
       "      <td>364.0</td>\n",
       "      <td>62.0</td>\n",
       "      <td>17650.0</td>\n",
       "      <td>Омск</td>\n",
       "      <td>smart</td>\n",
       "    </tr>\n",
       "  </tbody>\n",
       "</table>\n",
       "<p>3214 rows × 8 columns</p>\n",
       "</div>"
      ],
      "text/plain": [
       "      user_id  month  count_message  total_calls  count_calls  traffic_total  \\\n",
       "0        1000    5.0           22.0        142.0         22.0         2257.0   \n",
       "1        1000    6.0           60.0        144.0         43.0        23262.0   \n",
       "2        1000    7.0           75.0        299.0         47.0        14017.0   \n",
       "3        1000    8.0           81.0        367.0         52.0        14072.0   \n",
       "4        1000    9.0           57.0        421.0         58.0        14583.0   \n",
       "...       ...    ...            ...          ...          ...            ...   \n",
       "3209     1494    8.0            NaN        237.0         32.0         6607.0   \n",
       "3210     1494    9.0            NaN        444.0         66.0        16993.0   \n",
       "3211     1494   10.0            NaN        309.0         52.0        17799.0   \n",
       "3212     1494   11.0            NaN        367.0         63.0        18083.0   \n",
       "3213     1494   12.0            NaN        364.0         62.0        17650.0   \n",
       "\n",
       "           city tariff  \n",
       "0     Краснодар  ultra  \n",
       "1     Краснодар  ultra  \n",
       "2     Краснодар  ultra  \n",
       "3     Краснодар  ultra  \n",
       "4     Краснодар  ultra  \n",
       "...         ...    ...  \n",
       "3209       Омск  smart  \n",
       "3210       Омск  smart  \n",
       "3211       Омск  smart  \n",
       "3212       Омск  smart  \n",
       "3213       Омск  smart  \n",
       "\n",
       "[3214 rows x 8 columns]"
      ]
     },
     "execution_count": 32,
     "metadata": {},
     "output_type": "execute_result"
    }
   ],
   "source": [
    "megaline_traf = megaline_traf.dropna(subset=['month'])\n",
    "megaline_traf"
   ]
  },
  {
   "cell_type": "code",
   "execution_count": 33,
   "metadata": {},
   "outputs": [],
   "source": [
    "pd.set_option('chained_assignment', None)\n",
    "megaline_traf.loc[:,['count_message', 'total_calls', 'count_calls', 'traffic_total']] = megaline_traf.loc[:,['count_message', 'total_calls', 'count_calls', 'traffic_total']].fillna(0)"
   ]
  },
  {
   "cell_type": "code",
   "execution_count": 34,
   "metadata": {},
   "outputs": [
    {
     "data": {
      "text/plain": [
       "user_id          0\n",
       "month            0\n",
       "count_message    0\n",
       "total_calls      0\n",
       "count_calls      0\n",
       "traffic_total    0\n",
       "city             0\n",
       "tariff           0\n",
       "dtype: int64"
      ]
     },
     "execution_count": 34,
     "metadata": {},
     "output_type": "execute_result"
    }
   ],
   "source": [
    "megaline_traf.isna().sum()"
   ]
  },
  {
   "cell_type": "code",
   "execution_count": 35,
   "metadata": {},
   "outputs": [
    {
     "data": {
      "text/html": [
       "<div>\n",
       "<style scoped>\n",
       "    .dataframe tbody tr th:only-of-type {\n",
       "        vertical-align: middle;\n",
       "    }\n",
       "\n",
       "    .dataframe tbody tr th {\n",
       "        vertical-align: top;\n",
       "    }\n",
       "\n",
       "    .dataframe thead th {\n",
       "        text-align: right;\n",
       "    }\n",
       "</style>\n",
       "<table border=\"1\" class=\"dataframe\">\n",
       "  <thead>\n",
       "    <tr style=\"text-align: right;\">\n",
       "      <th></th>\n",
       "      <th>messages_included</th>\n",
       "      <th>mb_per_month_included</th>\n",
       "      <th>minutes_included</th>\n",
       "      <th>rub_monthly_fee</th>\n",
       "      <th>rub_per_gb</th>\n",
       "      <th>rub_per_message</th>\n",
       "      <th>rub_per_minute</th>\n",
       "      <th>tariff_name</th>\n",
       "    </tr>\n",
       "  </thead>\n",
       "  <tbody>\n",
       "    <tr>\n",
       "      <td>0</td>\n",
       "      <td>50</td>\n",
       "      <td>15360</td>\n",
       "      <td>500</td>\n",
       "      <td>550</td>\n",
       "      <td>200</td>\n",
       "      <td>3</td>\n",
       "      <td>3</td>\n",
       "      <td>smart</td>\n",
       "    </tr>\n",
       "    <tr>\n",
       "      <td>1</td>\n",
       "      <td>1000</td>\n",
       "      <td>30720</td>\n",
       "      <td>3000</td>\n",
       "      <td>1950</td>\n",
       "      <td>150</td>\n",
       "      <td>1</td>\n",
       "      <td>1</td>\n",
       "      <td>ultra</td>\n",
       "    </tr>\n",
       "  </tbody>\n",
       "</table>\n",
       "</div>"
      ],
      "text/plain": [
       "   messages_included  mb_per_month_included  minutes_included  \\\n",
       "0                 50                  15360               500   \n",
       "1               1000                  30720              3000   \n",
       "\n",
       "   rub_monthly_fee  rub_per_gb  rub_per_message  rub_per_minute tariff_name  \n",
       "0              550         200                3               3       smart  \n",
       "1             1950         150                1               1       ultra  "
      ]
     },
     "execution_count": 35,
     "metadata": {},
     "output_type": "execute_result"
    }
   ],
   "source": [
    "data_tariffs"
   ]
  },
  {
   "cell_type": "code",
   "execution_count": 36,
   "metadata": {},
   "outputs": [],
   "source": [
    "#у каждого пользователя есть тариф. Он по нему платит, иногда он платит больше. Напишу функцию (вычесть бесплатный лимит и умножить на трафик)\n",
    "def salary_month(row):\n",
    "    \n",
    "    if row['tariff']=='smart':\n",
    "        cost_calls = (row['total_calls'] - data_tariffs.loc[0,'minutes_included']) * data_tariffs.loc[0,'rub_per_minute']\n",
    "        if cost_calls < 0: cost_calls = 0\n",
    "        cost_message = (row['count_message'] - data_tariffs.loc[0,'messages_included']) * data_tariffs.loc[0,'rub_per_message']\n",
    "        if cost_message < 0 : cost_message = 0\n",
    "        \n",
    "        cost_mb  = ((row['traffic_total'] - data_tariffs.loc[0,'mb_per_month_included'])/1024) * data_tariffs.loc[0,'rub_per_gb'] \n",
    "        if cost_mb < 0 : cost_mb = 0\n",
    "        \n",
    "        cost = cost_calls + cost_message + cost_mb + data_tariffs.loc[0,'rub_monthly_fee']\n",
    "    elif row['tariff']=='ultra':\n",
    "        cost_calls = (row['total_calls'] - data_tariffs.loc[1,'minutes_included']) * data_tariffs.loc[1,'rub_per_minute']\n",
    "        if cost_calls < 0:\n",
    "            cost_calls = 0\n",
    "        cost_message = (row['count_message'] - data_tariffs.loc[1,'messages_included']) * data_tariffs.loc[1,'rub_per_message']\n",
    "        if cost_message < 0 : cost_message = 0\n",
    "        \n",
    "        cost_mb  = ((row['traffic_total'] - data_tariffs.loc[1,'mb_per_month_included'])/1024) * data_tariffs.loc[1,'rub_per_gb'] \n",
    "        if cost_mb < 0 : cost_mb = 0\n",
    "        \n",
    "        cost = cost_calls + cost_message + cost_mb + data_tariffs.loc[1,'rub_monthly_fee']\n",
    "   \n",
    "\n",
    "    return cost\n",
    "\n",
    "megaline_traf['profit'] = megaline_traf.apply(salary_month, axis=1)\n",
    "\n"
   ]
  },
  {
   "cell_type": "code",
   "execution_count": 37,
   "metadata": {
    "scrolled": true
   },
   "outputs": [
    {
     "data": {
      "text/html": [
       "<div>\n",
       "<style scoped>\n",
       "    .dataframe tbody tr th:only-of-type {\n",
       "        vertical-align: middle;\n",
       "    }\n",
       "\n",
       "    .dataframe tbody tr th {\n",
       "        vertical-align: top;\n",
       "    }\n",
       "\n",
       "    .dataframe thead th {\n",
       "        text-align: right;\n",
       "    }\n",
       "</style>\n",
       "<table border=\"1\" class=\"dataframe\">\n",
       "  <thead>\n",
       "    <tr style=\"text-align: right;\">\n",
       "      <th></th>\n",
       "      <th>user_id</th>\n",
       "      <th>month</th>\n",
       "      <th>count_message</th>\n",
       "      <th>total_calls</th>\n",
       "      <th>count_calls</th>\n",
       "      <th>traffic_total</th>\n",
       "      <th>city</th>\n",
       "      <th>tariff</th>\n",
       "      <th>profit</th>\n",
       "    </tr>\n",
       "  </thead>\n",
       "  <tbody>\n",
       "    <tr>\n",
       "      <td>0</td>\n",
       "      <td>1000</td>\n",
       "      <td>5.0</td>\n",
       "      <td>22.0</td>\n",
       "      <td>142.0</td>\n",
       "      <td>22.0</td>\n",
       "      <td>2257.0</td>\n",
       "      <td>Краснодар</td>\n",
       "      <td>ultra</td>\n",
       "      <td>1950.000000</td>\n",
       "    </tr>\n",
       "    <tr>\n",
       "      <td>1</td>\n",
       "      <td>1000</td>\n",
       "      <td>6.0</td>\n",
       "      <td>60.0</td>\n",
       "      <td>144.0</td>\n",
       "      <td>43.0</td>\n",
       "      <td>23262.0</td>\n",
       "      <td>Краснодар</td>\n",
       "      <td>ultra</td>\n",
       "      <td>1950.000000</td>\n",
       "    </tr>\n",
       "    <tr>\n",
       "      <td>2</td>\n",
       "      <td>1000</td>\n",
       "      <td>7.0</td>\n",
       "      <td>75.0</td>\n",
       "      <td>299.0</td>\n",
       "      <td>47.0</td>\n",
       "      <td>14017.0</td>\n",
       "      <td>Краснодар</td>\n",
       "      <td>ultra</td>\n",
       "      <td>1950.000000</td>\n",
       "    </tr>\n",
       "    <tr>\n",
       "      <td>3</td>\n",
       "      <td>1000</td>\n",
       "      <td>8.0</td>\n",
       "      <td>81.0</td>\n",
       "      <td>367.0</td>\n",
       "      <td>52.0</td>\n",
       "      <td>14072.0</td>\n",
       "      <td>Краснодар</td>\n",
       "      <td>ultra</td>\n",
       "      <td>1950.000000</td>\n",
       "    </tr>\n",
       "    <tr>\n",
       "      <td>4</td>\n",
       "      <td>1000</td>\n",
       "      <td>9.0</td>\n",
       "      <td>57.0</td>\n",
       "      <td>421.0</td>\n",
       "      <td>58.0</td>\n",
       "      <td>14583.0</td>\n",
       "      <td>Краснодар</td>\n",
       "      <td>ultra</td>\n",
       "      <td>1950.000000</td>\n",
       "    </tr>\n",
       "    <tr>\n",
       "      <td>...</td>\n",
       "      <td>...</td>\n",
       "      <td>...</td>\n",
       "      <td>...</td>\n",
       "      <td>...</td>\n",
       "      <td>...</td>\n",
       "      <td>...</td>\n",
       "      <td>...</td>\n",
       "      <td>...</td>\n",
       "      <td>...</td>\n",
       "    </tr>\n",
       "    <tr>\n",
       "      <td>3209</td>\n",
       "      <td>1494</td>\n",
       "      <td>8.0</td>\n",
       "      <td>0.0</td>\n",
       "      <td>237.0</td>\n",
       "      <td>32.0</td>\n",
       "      <td>6607.0</td>\n",
       "      <td>Омск</td>\n",
       "      <td>smart</td>\n",
       "      <td>550.000000</td>\n",
       "    </tr>\n",
       "    <tr>\n",
       "      <td>3210</td>\n",
       "      <td>1494</td>\n",
       "      <td>9.0</td>\n",
       "      <td>0.0</td>\n",
       "      <td>444.0</td>\n",
       "      <td>66.0</td>\n",
       "      <td>16993.0</td>\n",
       "      <td>Омск</td>\n",
       "      <td>smart</td>\n",
       "      <td>868.945312</td>\n",
       "    </tr>\n",
       "    <tr>\n",
       "      <td>3211</td>\n",
       "      <td>1494</td>\n",
       "      <td>10.0</td>\n",
       "      <td>0.0</td>\n",
       "      <td>309.0</td>\n",
       "      <td>52.0</td>\n",
       "      <td>17799.0</td>\n",
       "      <td>Омск</td>\n",
       "      <td>smart</td>\n",
       "      <td>1026.367188</td>\n",
       "    </tr>\n",
       "    <tr>\n",
       "      <td>3212</td>\n",
       "      <td>1494</td>\n",
       "      <td>11.0</td>\n",
       "      <td>0.0</td>\n",
       "      <td>367.0</td>\n",
       "      <td>63.0</td>\n",
       "      <td>18083.0</td>\n",
       "      <td>Омск</td>\n",
       "      <td>smart</td>\n",
       "      <td>1081.835938</td>\n",
       "    </tr>\n",
       "    <tr>\n",
       "      <td>3213</td>\n",
       "      <td>1494</td>\n",
       "      <td>12.0</td>\n",
       "      <td>0.0</td>\n",
       "      <td>364.0</td>\n",
       "      <td>62.0</td>\n",
       "      <td>17650.0</td>\n",
       "      <td>Омск</td>\n",
       "      <td>smart</td>\n",
       "      <td>997.265625</td>\n",
       "    </tr>\n",
       "  </tbody>\n",
       "</table>\n",
       "<p>3214 rows × 9 columns</p>\n",
       "</div>"
      ],
      "text/plain": [
       "      user_id  month  count_message  total_calls  count_calls  traffic_total  \\\n",
       "0        1000    5.0           22.0        142.0         22.0         2257.0   \n",
       "1        1000    6.0           60.0        144.0         43.0        23262.0   \n",
       "2        1000    7.0           75.0        299.0         47.0        14017.0   \n",
       "3        1000    8.0           81.0        367.0         52.0        14072.0   \n",
       "4        1000    9.0           57.0        421.0         58.0        14583.0   \n",
       "...       ...    ...            ...          ...          ...            ...   \n",
       "3209     1494    8.0            0.0        237.0         32.0         6607.0   \n",
       "3210     1494    9.0            0.0        444.0         66.0        16993.0   \n",
       "3211     1494   10.0            0.0        309.0         52.0        17799.0   \n",
       "3212     1494   11.0            0.0        367.0         63.0        18083.0   \n",
       "3213     1494   12.0            0.0        364.0         62.0        17650.0   \n",
       "\n",
       "           city tariff       profit  \n",
       "0     Краснодар  ultra  1950.000000  \n",
       "1     Краснодар  ultra  1950.000000  \n",
       "2     Краснодар  ultra  1950.000000  \n",
       "3     Краснодар  ultra  1950.000000  \n",
       "4     Краснодар  ultra  1950.000000  \n",
       "...         ...    ...          ...  \n",
       "3209       Омск  smart   550.000000  \n",
       "3210       Омск  smart   868.945312  \n",
       "3211       Омск  smart  1026.367188  \n",
       "3212       Омск  smart  1081.835938  \n",
       "3213       Омск  smart   997.265625  \n",
       "\n",
       "[3214 rows x 9 columns]"
      ]
     },
     "execution_count": 37,
     "metadata": {},
     "output_type": "execute_result"
    }
   ],
   "source": [
    "megaline_traf"
   ]
  },
  {
   "cell_type": "markdown",
   "metadata": {},
   "source": [
    "#странная ошибка вышла у функции, но столбец с выручкой появился "
   ]
  },
  {
   "cell_type": "code",
   "execution_count": 38,
   "metadata": {},
   "outputs": [],
   "source": [
    "megaline_traf['traffic_total'] = np.ceil(megaline_traf['traffic_total']/1000)"
   ]
  },
  {
   "cell_type": "code",
   "execution_count": 39,
   "metadata": {},
   "outputs": [
    {
     "data": {
      "text/html": [
       "<div>\n",
       "<style scoped>\n",
       "    .dataframe tbody tr th:only-of-type {\n",
       "        vertical-align: middle;\n",
       "    }\n",
       "\n",
       "    .dataframe tbody tr th {\n",
       "        vertical-align: top;\n",
       "    }\n",
       "\n",
       "    .dataframe thead th {\n",
       "        text-align: right;\n",
       "    }\n",
       "</style>\n",
       "<table border=\"1\" class=\"dataframe\">\n",
       "  <thead>\n",
       "    <tr style=\"text-align: right;\">\n",
       "      <th></th>\n",
       "      <th>user_id</th>\n",
       "      <th>month</th>\n",
       "      <th>count_message</th>\n",
       "      <th>total_calls</th>\n",
       "      <th>count_calls</th>\n",
       "      <th>traffic_total</th>\n",
       "      <th>city</th>\n",
       "      <th>tariff</th>\n",
       "      <th>profit</th>\n",
       "    </tr>\n",
       "  </thead>\n",
       "  <tbody>\n",
       "    <tr>\n",
       "      <td>0</td>\n",
       "      <td>1000</td>\n",
       "      <td>5.0</td>\n",
       "      <td>22.0</td>\n",
       "      <td>142.0</td>\n",
       "      <td>22.0</td>\n",
       "      <td>3.0</td>\n",
       "      <td>Краснодар</td>\n",
       "      <td>ultra</td>\n",
       "      <td>1950.000000</td>\n",
       "    </tr>\n",
       "    <tr>\n",
       "      <td>1</td>\n",
       "      <td>1000</td>\n",
       "      <td>6.0</td>\n",
       "      <td>60.0</td>\n",
       "      <td>144.0</td>\n",
       "      <td>43.0</td>\n",
       "      <td>24.0</td>\n",
       "      <td>Краснодар</td>\n",
       "      <td>ultra</td>\n",
       "      <td>1950.000000</td>\n",
       "    </tr>\n",
       "    <tr>\n",
       "      <td>2</td>\n",
       "      <td>1000</td>\n",
       "      <td>7.0</td>\n",
       "      <td>75.0</td>\n",
       "      <td>299.0</td>\n",
       "      <td>47.0</td>\n",
       "      <td>15.0</td>\n",
       "      <td>Краснодар</td>\n",
       "      <td>ultra</td>\n",
       "      <td>1950.000000</td>\n",
       "    </tr>\n",
       "    <tr>\n",
       "      <td>3</td>\n",
       "      <td>1000</td>\n",
       "      <td>8.0</td>\n",
       "      <td>81.0</td>\n",
       "      <td>367.0</td>\n",
       "      <td>52.0</td>\n",
       "      <td>15.0</td>\n",
       "      <td>Краснодар</td>\n",
       "      <td>ultra</td>\n",
       "      <td>1950.000000</td>\n",
       "    </tr>\n",
       "    <tr>\n",
       "      <td>4</td>\n",
       "      <td>1000</td>\n",
       "      <td>9.0</td>\n",
       "      <td>57.0</td>\n",
       "      <td>421.0</td>\n",
       "      <td>58.0</td>\n",
       "      <td>15.0</td>\n",
       "      <td>Краснодар</td>\n",
       "      <td>ultra</td>\n",
       "      <td>1950.000000</td>\n",
       "    </tr>\n",
       "    <tr>\n",
       "      <td>...</td>\n",
       "      <td>...</td>\n",
       "      <td>...</td>\n",
       "      <td>...</td>\n",
       "      <td>...</td>\n",
       "      <td>...</td>\n",
       "      <td>...</td>\n",
       "      <td>...</td>\n",
       "      <td>...</td>\n",
       "      <td>...</td>\n",
       "    </tr>\n",
       "    <tr>\n",
       "      <td>3209</td>\n",
       "      <td>1494</td>\n",
       "      <td>8.0</td>\n",
       "      <td>0.0</td>\n",
       "      <td>237.0</td>\n",
       "      <td>32.0</td>\n",
       "      <td>7.0</td>\n",
       "      <td>Омск</td>\n",
       "      <td>smart</td>\n",
       "      <td>550.000000</td>\n",
       "    </tr>\n",
       "    <tr>\n",
       "      <td>3210</td>\n",
       "      <td>1494</td>\n",
       "      <td>9.0</td>\n",
       "      <td>0.0</td>\n",
       "      <td>444.0</td>\n",
       "      <td>66.0</td>\n",
       "      <td>17.0</td>\n",
       "      <td>Омск</td>\n",
       "      <td>smart</td>\n",
       "      <td>868.945312</td>\n",
       "    </tr>\n",
       "    <tr>\n",
       "      <td>3211</td>\n",
       "      <td>1494</td>\n",
       "      <td>10.0</td>\n",
       "      <td>0.0</td>\n",
       "      <td>309.0</td>\n",
       "      <td>52.0</td>\n",
       "      <td>18.0</td>\n",
       "      <td>Омск</td>\n",
       "      <td>smart</td>\n",
       "      <td>1026.367188</td>\n",
       "    </tr>\n",
       "    <tr>\n",
       "      <td>3212</td>\n",
       "      <td>1494</td>\n",
       "      <td>11.0</td>\n",
       "      <td>0.0</td>\n",
       "      <td>367.0</td>\n",
       "      <td>63.0</td>\n",
       "      <td>19.0</td>\n",
       "      <td>Омск</td>\n",
       "      <td>smart</td>\n",
       "      <td>1081.835938</td>\n",
       "    </tr>\n",
       "    <tr>\n",
       "      <td>3213</td>\n",
       "      <td>1494</td>\n",
       "      <td>12.0</td>\n",
       "      <td>0.0</td>\n",
       "      <td>364.0</td>\n",
       "      <td>62.0</td>\n",
       "      <td>18.0</td>\n",
       "      <td>Омск</td>\n",
       "      <td>smart</td>\n",
       "      <td>997.265625</td>\n",
       "    </tr>\n",
       "  </tbody>\n",
       "</table>\n",
       "<p>3214 rows × 9 columns</p>\n",
       "</div>"
      ],
      "text/plain": [
       "      user_id  month  count_message  total_calls  count_calls  traffic_total  \\\n",
       "0        1000    5.0           22.0        142.0         22.0            3.0   \n",
       "1        1000    6.0           60.0        144.0         43.0           24.0   \n",
       "2        1000    7.0           75.0        299.0         47.0           15.0   \n",
       "3        1000    8.0           81.0        367.0         52.0           15.0   \n",
       "4        1000    9.0           57.0        421.0         58.0           15.0   \n",
       "...       ...    ...            ...          ...          ...            ...   \n",
       "3209     1494    8.0            0.0        237.0         32.0            7.0   \n",
       "3210     1494    9.0            0.0        444.0         66.0           17.0   \n",
       "3211     1494   10.0            0.0        309.0         52.0           18.0   \n",
       "3212     1494   11.0            0.0        367.0         63.0           19.0   \n",
       "3213     1494   12.0            0.0        364.0         62.0           18.0   \n",
       "\n",
       "           city tariff       profit  \n",
       "0     Краснодар  ultra  1950.000000  \n",
       "1     Краснодар  ultra  1950.000000  \n",
       "2     Краснодар  ultra  1950.000000  \n",
       "3     Краснодар  ultra  1950.000000  \n",
       "4     Краснодар  ultra  1950.000000  \n",
       "...         ...    ...          ...  \n",
       "3209       Омск  smart   550.000000  \n",
       "3210       Омск  smart   868.945312  \n",
       "3211       Омск  smart  1026.367188  \n",
       "3212       Омск  smart  1081.835938  \n",
       "3213       Омск  smart   997.265625  \n",
       "\n",
       "[3214 rows x 9 columns]"
      ]
     },
     "execution_count": 39,
     "metadata": {},
     "output_type": "execute_result"
    }
   ],
   "source": [
    "megaline_traf"
   ]
  },
  {
   "cell_type": "markdown",
   "metadata": {},
   "source": [
    "#### Задача. \n",
    "Опишите поведение клиентов оператора, исходя из выборки. Сколько минут разговора, сколько сообщений и какой объём интернет-трафика требуется пользователям каждого тарифа в месяц? Посчитайте среднее количество, дисперсию и стандартное отклонение. Постройте гистограммы. Опишите распределения."
   ]
  },
  {
   "cell_type": "code",
   "execution_count": 40,
   "metadata": {},
   "outputs": [],
   "source": [
    "#посмотрим тариф смарт\n",
    "#Сколько минут разговора, сколько сообщений и какой объём интернет-трафика требуется пользователям каждого тарифа в месяц\n",
    "megaline_traf_smart = megaline_traf.query('tariff==\"smart\"').groupby(['tariff', 'month'])['count_message', 'total_calls', 'traffic_total', 'profit'].sum().reset_index()"
   ]
  },
  {
   "cell_type": "code",
   "execution_count": 41,
   "metadata": {},
   "outputs": [
    {
     "data": {
      "text/html": [
       "<div>\n",
       "<style scoped>\n",
       "    .dataframe tbody tr th:only-of-type {\n",
       "        vertical-align: middle;\n",
       "    }\n",
       "\n",
       "    .dataframe tbody tr th {\n",
       "        vertical-align: top;\n",
       "    }\n",
       "\n",
       "    .dataframe thead th {\n",
       "        text-align: right;\n",
       "    }\n",
       "</style>\n",
       "<table border=\"1\" class=\"dataframe\">\n",
       "  <thead>\n",
       "    <tr style=\"text-align: right;\">\n",
       "      <th></th>\n",
       "      <th>tariff</th>\n",
       "      <th>month</th>\n",
       "      <th>count_message</th>\n",
       "      <th>total_calls</th>\n",
       "      <th>traffic_total</th>\n",
       "      <th>profit</th>\n",
       "    </tr>\n",
       "  </thead>\n",
       "  <tbody>\n",
       "    <tr>\n",
       "      <td>0</td>\n",
       "      <td>smart</td>\n",
       "      <td>1.0</td>\n",
       "      <td>620.0</td>\n",
       "      <td>6198.0</td>\n",
       "      <td>307.0</td>\n",
       "      <td>23759.460938</td>\n",
       "    </tr>\n",
       "    <tr>\n",
       "      <td>1</td>\n",
       "      <td>smart</td>\n",
       "      <td>2.0</td>\n",
       "      <td>1397.0</td>\n",
       "      <td>15453.0</td>\n",
       "      <td>702.0</td>\n",
       "      <td>44888.265625</td>\n",
       "    </tr>\n",
       "    <tr>\n",
       "      <td>2</td>\n",
       "      <td>smart</td>\n",
       "      <td>3.0</td>\n",
       "      <td>2453.0</td>\n",
       "      <td>26691.0</td>\n",
       "      <td>1200.0</td>\n",
       "      <td>82136.421875</td>\n",
       "    </tr>\n",
       "    <tr>\n",
       "      <td>3</td>\n",
       "      <td>smart</td>\n",
       "      <td>4.0</td>\n",
       "      <td>3443.0</td>\n",
       "      <td>36518.0</td>\n",
       "      <td>1562.0</td>\n",
       "      <td>98710.570312</td>\n",
       "    </tr>\n",
       "    <tr>\n",
       "      <td>4</td>\n",
       "      <td>smart</td>\n",
       "      <td>5.0</td>\n",
       "      <td>4762.0</td>\n",
       "      <td>48444.0</td>\n",
       "      <td>2306.0</td>\n",
       "      <td>155301.617188</td>\n",
       "    </tr>\n",
       "    <tr>\n",
       "      <td>5</td>\n",
       "      <td>smart</td>\n",
       "      <td>6.0</td>\n",
       "      <td>5478.0</td>\n",
       "      <td>57667.0</td>\n",
       "      <td>2673.0</td>\n",
       "      <td>180659.570312</td>\n",
       "    </tr>\n",
       "    <tr>\n",
       "      <td>6</td>\n",
       "      <td>smart</td>\n",
       "      <td>7.0</td>\n",
       "      <td>6784.0</td>\n",
       "      <td>72960.0</td>\n",
       "      <td>3270.0</td>\n",
       "      <td>223983.507812</td>\n",
       "    </tr>\n",
       "    <tr>\n",
       "      <td>7</td>\n",
       "      <td>smart</td>\n",
       "      <td>8.0</td>\n",
       "      <td>7905.0</td>\n",
       "      <td>88051.0</td>\n",
       "      <td>4033.0</td>\n",
       "      <td>282645.046875</td>\n",
       "    </tr>\n",
       "    <tr>\n",
       "      <td>8</td>\n",
       "      <td>smart</td>\n",
       "      <td>9.0</td>\n",
       "      <td>8746.0</td>\n",
       "      <td>99061.0</td>\n",
       "      <td>4374.0</td>\n",
       "      <td>295957.898438</td>\n",
       "    </tr>\n",
       "    <tr>\n",
       "      <td>9</td>\n",
       "      <td>smart</td>\n",
       "      <td>10.0</td>\n",
       "      <td>9927.0</td>\n",
       "      <td>111379.0</td>\n",
       "      <td>5078.0</td>\n",
       "      <td>365781.976562</td>\n",
       "    </tr>\n",
       "    <tr>\n",
       "      <td>10</td>\n",
       "      <td>smart</td>\n",
       "      <td>11.0</td>\n",
       "      <td>10768.0</td>\n",
       "      <td>122154.0</td>\n",
       "      <td>5508.0</td>\n",
       "      <td>385952.242188</td>\n",
       "    </tr>\n",
       "    <tr>\n",
       "      <td>11</td>\n",
       "      <td>smart</td>\n",
       "      <td>12.0</td>\n",
       "      <td>12130.0</td>\n",
       "      <td>143373.0</td>\n",
       "      <td>6282.0</td>\n",
       "      <td>479260.570312</td>\n",
       "    </tr>\n",
       "  </tbody>\n",
       "</table>\n",
       "</div>"
      ],
      "text/plain": [
       "   tariff  month  count_message  total_calls  traffic_total         profit\n",
       "0   smart    1.0          620.0       6198.0          307.0   23759.460938\n",
       "1   smart    2.0         1397.0      15453.0          702.0   44888.265625\n",
       "2   smart    3.0         2453.0      26691.0         1200.0   82136.421875\n",
       "3   smart    4.0         3443.0      36518.0         1562.0   98710.570312\n",
       "4   smart    5.0         4762.0      48444.0         2306.0  155301.617188\n",
       "5   smart    6.0         5478.0      57667.0         2673.0  180659.570312\n",
       "6   smart    7.0         6784.0      72960.0         3270.0  223983.507812\n",
       "7   smart    8.0         7905.0      88051.0         4033.0  282645.046875\n",
       "8   smart    9.0         8746.0      99061.0         4374.0  295957.898438\n",
       "9   smart   10.0         9927.0     111379.0         5078.0  365781.976562\n",
       "10  smart   11.0        10768.0     122154.0         5508.0  385952.242188\n",
       "11  smart   12.0        12130.0     143373.0         6282.0  479260.570312"
      ]
     },
     "execution_count": 41,
     "metadata": {},
     "output_type": "execute_result"
    }
   ],
   "source": [
    "megaline_traf_smart"
   ]
  },
  {
   "cell_type": "code",
   "execution_count": 42,
   "metadata": {},
   "outputs": [
    {
     "data": {
      "text/plain": [
       "2619037.1484375"
      ]
     },
     "execution_count": 42,
     "metadata": {},
     "output_type": "execute_result"
    }
   ],
   "source": [
    "megaline_traf_smart['profit'].sum()"
   ]
  },
  {
   "cell_type": "code",
   "execution_count": 43,
   "metadata": {
    "scrolled": true
   },
   "outputs": [
    {
     "data": {
      "text/html": [
       "<div>\n",
       "<style scoped>\n",
       "    .dataframe tbody tr th:only-of-type {\n",
       "        vertical-align: middle;\n",
       "    }\n",
       "\n",
       "    .dataframe tbody tr th {\n",
       "        vertical-align: top;\n",
       "    }\n",
       "\n",
       "    .dataframe thead th {\n",
       "        text-align: right;\n",
       "    }\n",
       "</style>\n",
       "<table border=\"1\" class=\"dataframe\">\n",
       "  <thead>\n",
       "    <tr style=\"text-align: right;\">\n",
       "      <th></th>\n",
       "      <th>tariff</th>\n",
       "      <th>month</th>\n",
       "      <th>count_message</th>\n",
       "      <th>total_calls</th>\n",
       "      <th>traffic_total</th>\n",
       "      <th>profit</th>\n",
       "    </tr>\n",
       "  </thead>\n",
       "  <tbody>\n",
       "    <tr>\n",
       "      <td>0</td>\n",
       "      <td>ultra</td>\n",
       "      <td>1.0</td>\n",
       "      <td>304.0</td>\n",
       "      <td>3439.0</td>\n",
       "      <td>123.0</td>\n",
       "      <td>17550.000000</td>\n",
       "    </tr>\n",
       "    <tr>\n",
       "      <td>1</td>\n",
       "      <td>ultra</td>\n",
       "      <td>2.0</td>\n",
       "      <td>527.0</td>\n",
       "      <td>6320.0</td>\n",
       "      <td>293.0</td>\n",
       "      <td>47354.296875</td>\n",
       "    </tr>\n",
       "    <tr>\n",
       "      <td>2</td>\n",
       "      <td>ultra</td>\n",
       "      <td>3.0</td>\n",
       "      <td>1195.0</td>\n",
       "      <td>16129.0</td>\n",
       "      <td>670.0</td>\n",
       "      <td>74157.421875</td>\n",
       "    </tr>\n",
       "    <tr>\n",
       "      <td>3</td>\n",
       "      <td>ultra</td>\n",
       "      <td>4.0</td>\n",
       "      <td>1736.0</td>\n",
       "      <td>22357.0</td>\n",
       "      <td>953.0</td>\n",
       "      <td>109751.074219</td>\n",
       "    </tr>\n",
       "    <tr>\n",
       "      <td>4</td>\n",
       "      <td>ultra</td>\n",
       "      <td>5.0</td>\n",
       "      <td>2536.0</td>\n",
       "      <td>30352.0</td>\n",
       "      <td>1333.0</td>\n",
       "      <td>137686.523438</td>\n",
       "    </tr>\n",
       "    <tr>\n",
       "      <td>5</td>\n",
       "      <td>ultra</td>\n",
       "      <td>6.0</td>\n",
       "      <td>3505.0</td>\n",
       "      <td>35799.0</td>\n",
       "      <td>1634.0</td>\n",
       "      <td>170697.216797</td>\n",
       "    </tr>\n",
       "    <tr>\n",
       "      <td>6</td>\n",
       "      <td>ultra</td>\n",
       "      <td>7.0</td>\n",
       "      <td>4536.0</td>\n",
       "      <td>44143.0</td>\n",
       "      <td>1914.0</td>\n",
       "      <td>191879.150391</td>\n",
       "    </tr>\n",
       "    <tr>\n",
       "      <td>7</td>\n",
       "      <td>ultra</td>\n",
       "      <td>8.0</td>\n",
       "      <td>5183.0</td>\n",
       "      <td>48565.0</td>\n",
       "      <td>2146.0</td>\n",
       "      <td>221621.630859</td>\n",
       "    </tr>\n",
       "    <tr>\n",
       "      <td>8</td>\n",
       "      <td>ultra</td>\n",
       "      <td>9.0</td>\n",
       "      <td>6013.0</td>\n",
       "      <td>55146.0</td>\n",
       "      <td>2269.0</td>\n",
       "      <td>231584.326172</td>\n",
       "    </tr>\n",
       "    <tr>\n",
       "      <td>9</td>\n",
       "      <td>ultra</td>\n",
       "      <td>10.0</td>\n",
       "      <td>7187.0</td>\n",
       "      <td>61009.0</td>\n",
       "      <td>2528.0</td>\n",
       "      <td>253007.958984</td>\n",
       "    </tr>\n",
       "    <tr>\n",
       "      <td>10</td>\n",
       "      <td>ultra</td>\n",
       "      <td>11.0</td>\n",
       "      <td>7476.0</td>\n",
       "      <td>64475.0</td>\n",
       "      <td>2722.0</td>\n",
       "      <td>278834.033203</td>\n",
       "    </tr>\n",
       "    <tr>\n",
       "      <td>11</td>\n",
       "      <td>ultra</td>\n",
       "      <td>12.0</td>\n",
       "      <td>8425.0</td>\n",
       "      <td>73171.0</td>\n",
       "      <td>3104.0</td>\n",
       "      <td>295558.886719</td>\n",
       "    </tr>\n",
       "  </tbody>\n",
       "</table>\n",
       "</div>"
      ],
      "text/plain": [
       "   tariff  month  count_message  total_calls  traffic_total         profit\n",
       "0   ultra    1.0          304.0       3439.0          123.0   17550.000000\n",
       "1   ultra    2.0          527.0       6320.0          293.0   47354.296875\n",
       "2   ultra    3.0         1195.0      16129.0          670.0   74157.421875\n",
       "3   ultra    4.0         1736.0      22357.0          953.0  109751.074219\n",
       "4   ultra    5.0         2536.0      30352.0         1333.0  137686.523438\n",
       "5   ultra    6.0         3505.0      35799.0         1634.0  170697.216797\n",
       "6   ultra    7.0         4536.0      44143.0         1914.0  191879.150391\n",
       "7   ultra    8.0         5183.0      48565.0         2146.0  221621.630859\n",
       "8   ultra    9.0         6013.0      55146.0         2269.0  231584.326172\n",
       "9   ultra   10.0         7187.0      61009.0         2528.0  253007.958984\n",
       "10  ultra   11.0         7476.0      64475.0         2722.0  278834.033203\n",
       "11  ultra   12.0         8425.0      73171.0         3104.0  295558.886719"
      ]
     },
     "execution_count": 43,
     "metadata": {},
     "output_type": "execute_result"
    }
   ],
   "source": [
    "megaline_traf_ultra = megaline_traf.query('tariff==\"ultra\"').groupby(['tariff', 'month'])['count_message', 'total_calls', 'traffic_total', 'profit'].sum().reset_index()\n",
    "megaline_traf_ultra"
   ]
  },
  {
   "cell_type": "code",
   "execution_count": 44,
   "metadata": {},
   "outputs": [
    {
     "data": {
      "text/plain": [
       "2029682.51953125"
      ]
     },
     "execution_count": 44,
     "metadata": {},
     "output_type": "execute_result"
    }
   ],
   "source": [
    "megaline_traf_ultra['profit'].sum()"
   ]
  },
  {
   "cell_type": "code",
   "execution_count": 45,
   "metadata": {},
   "outputs": [
    {
     "data": {
      "text/plain": [
       "0.7749727875154978"
      ]
     },
     "execution_count": 45,
     "metadata": {},
     "output_type": "execute_result"
    }
   ],
   "source": [
    "megaline_traf_ultra['profit'].sum()/megaline_traf_smart['profit'].sum() #посмотреть на сколько больше выручка с смарта"
   ]
  },
  {
   "cell_type": "code",
   "execution_count": 46,
   "metadata": {},
   "outputs": [
    {
     "data": {
      "image/png": "[encoded data removed]",
      "text/plain": [
       "<Figure size 432x288 with 1 Axes>"
      ]
     },
     "metadata": {
      "needs_background": "light"
     },
     "output_type": "display_data"
    },
    {
     "data": {
      "image/png": "[encoded data removed]",
      "text/plain": [
       "<Figure size 432x288 with 1 Axes>"
      ]
     },
     "metadata": {
      "needs_background": "light"
     },
     "output_type": "display_data"
    },
    {
     "data": {
      "image/png": "[encoded data removed]",
      "text/plain": [
       "<Figure size 432x288 with 1 Axes>"
      ]
     },
     "metadata": {
      "needs_background": "light"
     },
     "output_type": "display_data"
    },
    {
     "data": {
      "image/png": "[encoded data removed]",
      "text/plain": [
       "<Figure size 432x288 with 1 Axes>"
      ]
     },
     "metadata": {
      "needs_background": "light"
     },
     "output_type": "display_data"
    }
   ],
   "source": [
    "for i in ['count_message', 'total_calls', 'traffic_total', 'profit']:\n",
    "    fig = plt.figure()\n",
    "    ax = fig.add_subplot()\n",
    "    ax.plot(megaline_traf_smart['month'], megaline_traf_smart[i], color='tab:blue', label='smart')\n",
    "    ax.plot(megaline_traf_ultra['month'], megaline_traf_ultra[i], color='tab:orange',label='ultra' )\n",
    "    plt.xlabel('month')\n",
    "    plt.ylabel(i)\n",
    "    plt.title(f'Кол-во {i} всех клиентов по месяцам для 2 тарифов')\n",
    "    plt.legend()\n",
    "    plt.show();"
   ]
  },
  {
   "cell_type": "markdown",
   "metadata": {},
   "source": [
    "Посмотрим на гистограммах частоту распределения клиентов по объему использования услуг"
   ]
  },
  {
   "cell_type": "code",
   "execution_count": 47,
   "metadata": {},
   "outputs": [
    {
     "data": {
      "image/png": "[encoded data removed]",
      "text/plain": [
       "<Figure size 1008x360 with 1 Axes>"
      ]
     },
     "metadata": {
      "needs_background": "light"
     },
     "output_type": "display_data"
    },
    {
     "data": {
      "image/png": "[encoded data removed]",
      "text/plain": [
       "<Figure size 1008x360 with 1 Axes>"
      ]
     },
     "metadata": {
      "needs_background": "light"
     },
     "output_type": "display_data"
    },
    {
     "data": {
      "image/png": "[encoded data removed]",
      "text/plain": [
       "<Figure size 1008x360 with 1 Axes>"
      ]
     },
     "metadata": {
      "needs_background": "light"
     },
     "output_type": "display_data"
    },
    {
     "data": {
      "image/png": "[encoded data removed]",
      "text/plain": [
       "<Figure size 1008x360 with 1 Axes>"
      ]
     },
     "metadata": {
      "needs_background": "light"
     },
     "output_type": "display_data"
    }
   ],
   "source": [
    "for i in ['count_message', 'total_calls', 'traffic_total', 'profit']:\n",
    "    plt.figure(figsize=(14, 5))\n",
    "    \n",
    "    plt.hist(megaline_traf.loc[megaline_traf['tariff'] == \"smart\", i], label='smart', alpha=0.35, bins = 50)\n",
    "    plt.hist(megaline_traf.loc[megaline_traf['tariff'] == \"ultra\", i], label='ultra', color='r', alpha=0.35, bins = 50)\n",
    "    \n",
    "    plt.ylabel('распределение')\n",
    "    plt.xlabel(i)\n",
    "    plt.grid()\n",
    "    plt.title(f'Распределение {i} в месяцам для обоих тарифов')\n",
    "    plt.legend()\n",
    "    plt.show();"
   ]
  },
  {
   "cell_type": "markdown",
   "metadata": {},
   "source": [
    "###### Вывод:\n",
    "Минут разговора, число сообщений и объем потраченного интернет-трафика по тарифу смарт больше чем ультра,особенно на крайних месяцах, что логично - так как у тарифа больше пользователей и он более дешевый.  Выручка в первой половине года почти равно, а во второй - абоненты smart с каждым месяцем приносят выручки все больше. В ультра включено больше минут, гб и сообщений, поэтому распределение выручки более однотипное, равное оплате тарифа. Мало пользователей, кто использует сообщения (что логично, больше пользуются интернетом).  Далее будем смотреть средние."
   ]
  },
  {
   "cell_type": "code",
   "execution_count": 48,
   "metadata": {},
   "outputs": [
    {
     "data": {
      "text/html": [
       "<div>\n",
       "<style scoped>\n",
       "    .dataframe tbody tr th:only-of-type {\n",
       "        vertical-align: middle;\n",
       "    }\n",
       "\n",
       "    .dataframe tbody tr th {\n",
       "        vertical-align: top;\n",
       "    }\n",
       "\n",
       "    .dataframe thead th {\n",
       "        text-align: right;\n",
       "    }\n",
       "</style>\n",
       "<table border=\"1\" class=\"dataframe\">\n",
       "  <thead>\n",
       "    <tr style=\"text-align: right;\">\n",
       "      <th></th>\n",
       "      <th>month</th>\n",
       "      <th>count_message</th>\n",
       "      <th>total_calls</th>\n",
       "      <th>traffic_total</th>\n",
       "      <th>profit</th>\n",
       "    </tr>\n",
       "  </thead>\n",
       "  <tbody>\n",
       "    <tr>\n",
       "      <td>count</td>\n",
       "      <td>12.000000</td>\n",
       "      <td>12.000000</td>\n",
       "      <td>12.000000</td>\n",
       "      <td>12.000000</td>\n",
       "      <td>12.000000</td>\n",
       "    </tr>\n",
       "    <tr>\n",
       "      <td>mean</td>\n",
       "      <td>6.500000</td>\n",
       "      <td>6201.083333</td>\n",
       "      <td>68995.750000</td>\n",
       "      <td>3107.916667</td>\n",
       "      <td>218253.095703</td>\n",
       "    </tr>\n",
       "    <tr>\n",
       "      <td>std</td>\n",
       "      <td>3.605551</td>\n",
       "      <td>3790.989687</td>\n",
       "      <td>44356.455341</td>\n",
       "      <td>1970.169511</td>\n",
       "      <td>145947.480569</td>\n",
       "    </tr>\n",
       "    <tr>\n",
       "      <td>min</td>\n",
       "      <td>1.000000</td>\n",
       "      <td>620.000000</td>\n",
       "      <td>6198.000000</td>\n",
       "      <td>307.000000</td>\n",
       "      <td>23759.460938</td>\n",
       "    </tr>\n",
       "    <tr>\n",
       "      <td>25%</td>\n",
       "      <td>3.750000</td>\n",
       "      <td>3195.500000</td>\n",
       "      <td>34061.250000</td>\n",
       "      <td>1471.500000</td>\n",
       "      <td>94567.033203</td>\n",
       "    </tr>\n",
       "    <tr>\n",
       "      <td>50%</td>\n",
       "      <td>6.500000</td>\n",
       "      <td>6131.000000</td>\n",
       "      <td>65313.500000</td>\n",
       "      <td>2971.500000</td>\n",
       "      <td>202321.539062</td>\n",
       "    </tr>\n",
       "    <tr>\n",
       "      <td>75%</td>\n",
       "      <td>9.250000</td>\n",
       "      <td>9041.250000</td>\n",
       "      <td>102140.500000</td>\n",
       "      <td>4550.000000</td>\n",
       "      <td>313413.917969</td>\n",
       "    </tr>\n",
       "    <tr>\n",
       "      <td>max</td>\n",
       "      <td>12.000000</td>\n",
       "      <td>12130.000000</td>\n",
       "      <td>143373.000000</td>\n",
       "      <td>6282.000000</td>\n",
       "      <td>479260.570312</td>\n",
       "    </tr>\n",
       "  </tbody>\n",
       "</table>\n",
       "</div>"
      ],
      "text/plain": [
       "           month  count_message    total_calls  traffic_total         profit\n",
       "count  12.000000      12.000000      12.000000      12.000000      12.000000\n",
       "mean    6.500000    6201.083333   68995.750000    3107.916667  218253.095703\n",
       "std     3.605551    3790.989687   44356.455341    1970.169511  145947.480569\n",
       "min     1.000000     620.000000    6198.000000     307.000000   23759.460938\n",
       "25%     3.750000    3195.500000   34061.250000    1471.500000   94567.033203\n",
       "50%     6.500000    6131.000000   65313.500000    2971.500000  202321.539062\n",
       "75%     9.250000    9041.250000  102140.500000    4550.000000  313413.917969\n",
       "max    12.000000   12130.000000  143373.000000    6282.000000  479260.570312"
      ]
     },
     "execution_count": 48,
     "metadata": {},
     "output_type": "execute_result"
    }
   ],
   "source": [
    "megaline_traf_smart.describe()"
   ]
  },
  {
   "cell_type": "code",
   "execution_count": 49,
   "metadata": {},
   "outputs": [],
   "source": [
    "#найдем средннее по месяцам для интереса\n",
    "tariffs_mean = megaline_traf.groupby([ 'tariff', 'month'])['count_message', 'total_calls', 'traffic_total', 'profit'].mean().reset_index()"
   ]
  },
  {
   "cell_type": "code",
   "execution_count": 50,
   "metadata": {},
   "outputs": [
    {
     "data": {
      "text/html": [
       "<div>\n",
       "<style scoped>\n",
       "    .dataframe tbody tr th:only-of-type {\n",
       "        vertical-align: middle;\n",
       "    }\n",
       "\n",
       "    .dataframe tbody tr th {\n",
       "        vertical-align: top;\n",
       "    }\n",
       "\n",
       "    .dataframe thead th {\n",
       "        text-align: right;\n",
       "    }\n",
       "</style>\n",
       "<table border=\"1\" class=\"dataframe\">\n",
       "  <thead>\n",
       "    <tr style=\"text-align: right;\">\n",
       "      <th></th>\n",
       "      <th>tariff</th>\n",
       "      <th>month</th>\n",
       "      <th>count_message</th>\n",
       "      <th>total_calls</th>\n",
       "      <th>traffic_total</th>\n",
       "      <th>profit</th>\n",
       "    </tr>\n",
       "  </thead>\n",
       "  <tbody>\n",
       "    <tr>\n",
       "      <td>0</td>\n",
       "      <td>smart</td>\n",
       "      <td>1.0</td>\n",
       "      <td>18.235294</td>\n",
       "      <td>182.294118</td>\n",
       "      <td>9.029412</td>\n",
       "      <td>698.807675</td>\n",
       "    </tr>\n",
       "    <tr>\n",
       "      <td>1</td>\n",
       "      <td>smart</td>\n",
       "      <td>2.0</td>\n",
       "      <td>24.086207</td>\n",
       "      <td>266.431034</td>\n",
       "      <td>12.103448</td>\n",
       "      <td>773.935614</td>\n",
       "    </tr>\n",
       "    <tr>\n",
       "      <td>2</td>\n",
       "      <td>smart</td>\n",
       "      <td>3.0</td>\n",
       "      <td>31.857143</td>\n",
       "      <td>346.636364</td>\n",
       "      <td>15.584416</td>\n",
       "      <td>1066.706778</td>\n",
       "    </tr>\n",
       "    <tr>\n",
       "      <td>3</td>\n",
       "      <td>smart</td>\n",
       "      <td>4.0</td>\n",
       "      <td>30.741071</td>\n",
       "      <td>326.053571</td>\n",
       "      <td>13.946429</td>\n",
       "      <td>881.344378</td>\n",
       "    </tr>\n",
       "    <tr>\n",
       "      <td>4</td>\n",
       "      <td>smart</td>\n",
       "      <td>5.0</td>\n",
       "      <td>33.773050</td>\n",
       "      <td>343.574468</td>\n",
       "      <td>16.354610</td>\n",
       "      <td>1101.429909</td>\n",
       "    </tr>\n",
       "    <tr>\n",
       "      <td>5</td>\n",
       "      <td>smart</td>\n",
       "      <td>6.0</td>\n",
       "      <td>33.402439</td>\n",
       "      <td>351.628049</td>\n",
       "      <td>16.298780</td>\n",
       "      <td>1101.582746</td>\n",
       "    </tr>\n",
       "    <tr>\n",
       "      <td>6</td>\n",
       "      <td>smart</td>\n",
       "      <td>7.0</td>\n",
       "      <td>33.751244</td>\n",
       "      <td>362.985075</td>\n",
       "      <td>16.268657</td>\n",
       "      <td>1114.345810</td>\n",
       "    </tr>\n",
       "    <tr>\n",
       "      <td>7</td>\n",
       "      <td>smart</td>\n",
       "      <td>8.0</td>\n",
       "      <td>33.638298</td>\n",
       "      <td>374.685106</td>\n",
       "      <td>17.161702</td>\n",
       "      <td>1202.744880</td>\n",
       "    </tr>\n",
       "    <tr>\n",
       "      <td>8</td>\n",
       "      <td>smart</td>\n",
       "      <td>9.0</td>\n",
       "      <td>33.638462</td>\n",
       "      <td>381.003846</td>\n",
       "      <td>16.823077</td>\n",
       "      <td>1138.299609</td>\n",
       "    </tr>\n",
       "    <tr>\n",
       "      <td>9</td>\n",
       "      <td>smart</td>\n",
       "      <td>10.0</td>\n",
       "      <td>33.765306</td>\n",
       "      <td>378.840136</td>\n",
       "      <td>17.272109</td>\n",
       "      <td>1244.156383</td>\n",
       "    </tr>\n",
       "    <tr>\n",
       "      <td>10</td>\n",
       "      <td>smart</td>\n",
       "      <td>11.0</td>\n",
       "      <td>34.075949</td>\n",
       "      <td>386.563291</td>\n",
       "      <td>17.430380</td>\n",
       "      <td>1221.367855</td>\n",
       "    </tr>\n",
       "    <tr>\n",
       "      <td>11</td>\n",
       "      <td>smart</td>\n",
       "      <td>12.0</td>\n",
       "      <td>35.994065</td>\n",
       "      <td>425.439169</td>\n",
       "      <td>18.640950</td>\n",
       "      <td>1422.138191</td>\n",
       "    </tr>\n",
       "    <tr>\n",
       "      <td>12</td>\n",
       "      <td>ultra</td>\n",
       "      <td>1.0</td>\n",
       "      <td>33.777778</td>\n",
       "      <td>382.111111</td>\n",
       "      <td>13.666667</td>\n",
       "      <td>1950.000000</td>\n",
       "    </tr>\n",
       "    <tr>\n",
       "      <td>13</td>\n",
       "      <td>ultra</td>\n",
       "      <td>2.0</td>\n",
       "      <td>21.958333</td>\n",
       "      <td>263.333333</td>\n",
       "      <td>12.208333</td>\n",
       "      <td>1973.095703</td>\n",
       "    </tr>\n",
       "    <tr>\n",
       "      <td>14</td>\n",
       "      <td>ultra</td>\n",
       "      <td>3.0</td>\n",
       "      <td>32.297297</td>\n",
       "      <td>435.918919</td>\n",
       "      <td>18.108108</td>\n",
       "      <td>2004.254645</td>\n",
       "    </tr>\n",
       "    <tr>\n",
       "      <td>15</td>\n",
       "      <td>ultra</td>\n",
       "      <td>4.0</td>\n",
       "      <td>31.563636</td>\n",
       "      <td>406.490909</td>\n",
       "      <td>17.327273</td>\n",
       "      <td>1995.474077</td>\n",
       "    </tr>\n",
       "    <tr>\n",
       "      <td>16</td>\n",
       "      <td>ultra</td>\n",
       "      <td>5.0</td>\n",
       "      <td>37.850746</td>\n",
       "      <td>453.014925</td>\n",
       "      <td>19.895522</td>\n",
       "      <td>2055.022738</td>\n",
       "    </tr>\n",
       "    <tr>\n",
       "      <td>17</td>\n",
       "      <td>ultra</td>\n",
       "      <td>6.0</td>\n",
       "      <td>41.726190</td>\n",
       "      <td>426.178571</td>\n",
       "      <td>19.452381</td>\n",
       "      <td>2032.109724</td>\n",
       "    </tr>\n",
       "    <tr>\n",
       "      <td>18</td>\n",
       "      <td>ultra</td>\n",
       "      <td>7.0</td>\n",
       "      <td>49.846154</td>\n",
       "      <td>485.087912</td>\n",
       "      <td>21.032967</td>\n",
       "      <td>2108.562092</td>\n",
       "    </tr>\n",
       "    <tr>\n",
       "      <td>19</td>\n",
       "      <td>ultra</td>\n",
       "      <td>8.0</td>\n",
       "      <td>48.439252</td>\n",
       "      <td>453.878505</td>\n",
       "      <td>20.056075</td>\n",
       "      <td>2071.230195</td>\n",
       "    </tr>\n",
       "    <tr>\n",
       "      <td>20</td>\n",
       "      <td>ultra</td>\n",
       "      <td>9.0</td>\n",
       "      <td>52.286957</td>\n",
       "      <td>479.530435</td>\n",
       "      <td>19.730435</td>\n",
       "      <td>2013.776749</td>\n",
       "    </tr>\n",
       "    <tr>\n",
       "      <td>21</td>\n",
       "      <td>ultra</td>\n",
       "      <td>10.0</td>\n",
       "      <td>58.430894</td>\n",
       "      <td>496.008130</td>\n",
       "      <td>20.552846</td>\n",
       "      <td>2056.975276</td>\n",
       "    </tr>\n",
       "    <tr>\n",
       "      <td>22</td>\n",
       "      <td>ultra</td>\n",
       "      <td>11.0</td>\n",
       "      <td>55.791045</td>\n",
       "      <td>481.156716</td>\n",
       "      <td>20.313433</td>\n",
       "      <td>2080.850994</td>\n",
       "    </tr>\n",
       "    <tr>\n",
       "      <td>23</td>\n",
       "      <td>ultra</td>\n",
       "      <td>12.0</td>\n",
       "      <td>60.611511</td>\n",
       "      <td>526.410072</td>\n",
       "      <td>22.330935</td>\n",
       "      <td>2126.322926</td>\n",
       "    </tr>\n",
       "  </tbody>\n",
       "</table>\n",
       "</div>"
      ],
      "text/plain": [
       "   tariff  month  count_message  total_calls  traffic_total       profit\n",
       "0   smart    1.0      18.235294   182.294118       9.029412   698.807675\n",
       "1   smart    2.0      24.086207   266.431034      12.103448   773.935614\n",
       "2   smart    3.0      31.857143   346.636364      15.584416  1066.706778\n",
       "3   smart    4.0      30.741071   326.053571      13.946429   881.344378\n",
       "4   smart    5.0      33.773050   343.574468      16.354610  1101.429909\n",
       "5   smart    6.0      33.402439   351.628049      16.298780  1101.582746\n",
       "6   smart    7.0      33.751244   362.985075      16.268657  1114.345810\n",
       "7   smart    8.0      33.638298   374.685106      17.161702  1202.744880\n",
       "8   smart    9.0      33.638462   381.003846      16.823077  1138.299609\n",
       "9   smart   10.0      33.765306   378.840136      17.272109  1244.156383\n",
       "10  smart   11.0      34.075949   386.563291      17.430380  1221.367855\n",
       "11  smart   12.0      35.994065   425.439169      18.640950  1422.138191\n",
       "12  ultra    1.0      33.777778   382.111111      13.666667  1950.000000\n",
       "13  ultra    2.0      21.958333   263.333333      12.208333  1973.095703\n",
       "14  ultra    3.0      32.297297   435.918919      18.108108  2004.254645\n",
       "15  ultra    4.0      31.563636   406.490909      17.327273  1995.474077\n",
       "16  ultra    5.0      37.850746   453.014925      19.895522  2055.022738\n",
       "17  ultra    6.0      41.726190   426.178571      19.452381  2032.109724\n",
       "18  ultra    7.0      49.846154   485.087912      21.032967  2108.562092\n",
       "19  ultra    8.0      48.439252   453.878505      20.056075  2071.230195\n",
       "20  ultra    9.0      52.286957   479.530435      19.730435  2013.776749\n",
       "21  ultra   10.0      58.430894   496.008130      20.552846  2056.975276\n",
       "22  ultra   11.0      55.791045   481.156716      20.313433  2080.850994\n",
       "23  ultra   12.0      60.611511   526.410072      22.330935  2126.322926"
      ]
     },
     "execution_count": 50,
     "metadata": {},
     "output_type": "execute_result"
    }
   ],
   "source": [
    "tariffs_mean"
   ]
  },
  {
   "cell_type": "code",
   "execution_count": 51,
   "metadata": {},
   "outputs": [
    {
     "data": {
      "text/html": [
       "<div>\n",
       "<style scoped>\n",
       "    .dataframe tbody tr th:only-of-type {\n",
       "        vertical-align: middle;\n",
       "    }\n",
       "\n",
       "    .dataframe tbody tr th {\n",
       "        vertical-align: top;\n",
       "    }\n",
       "\n",
       "    .dataframe thead th {\n",
       "        text-align: right;\n",
       "    }\n",
       "</style>\n",
       "<table border=\"1\" class=\"dataframe\">\n",
       "  <thead>\n",
       "    <tr style=\"text-align: right;\">\n",
       "      <th></th>\n",
       "      <th>tariff</th>\n",
       "      <th>month</th>\n",
       "      <th>count_message</th>\n",
       "      <th>total_calls</th>\n",
       "      <th>traffic_total</th>\n",
       "      <th>profit</th>\n",
       "    </tr>\n",
       "  </thead>\n",
       "  <tbody>\n",
       "    <tr>\n",
       "      <td>0</td>\n",
       "      <td>smart</td>\n",
       "      <td>1.0</td>\n",
       "      <td>18.235294</td>\n",
       "      <td>182.294118</td>\n",
       "      <td>9.029412</td>\n",
       "      <td>698.807675</td>\n",
       "    </tr>\n",
       "    <tr>\n",
       "      <td>1</td>\n",
       "      <td>smart</td>\n",
       "      <td>2.0</td>\n",
       "      <td>24.086207</td>\n",
       "      <td>266.431034</td>\n",
       "      <td>12.103448</td>\n",
       "      <td>773.935614</td>\n",
       "    </tr>\n",
       "    <tr>\n",
       "      <td>2</td>\n",
       "      <td>smart</td>\n",
       "      <td>3.0</td>\n",
       "      <td>31.857143</td>\n",
       "      <td>346.636364</td>\n",
       "      <td>15.584416</td>\n",
       "      <td>1066.706778</td>\n",
       "    </tr>\n",
       "    <tr>\n",
       "      <td>3</td>\n",
       "      <td>smart</td>\n",
       "      <td>4.0</td>\n",
       "      <td>30.741071</td>\n",
       "      <td>326.053571</td>\n",
       "      <td>13.946429</td>\n",
       "      <td>881.344378</td>\n",
       "    </tr>\n",
       "    <tr>\n",
       "      <td>4</td>\n",
       "      <td>smart</td>\n",
       "      <td>5.0</td>\n",
       "      <td>33.773050</td>\n",
       "      <td>343.574468</td>\n",
       "      <td>16.354610</td>\n",
       "      <td>1101.429909</td>\n",
       "    </tr>\n",
       "    <tr>\n",
       "      <td>5</td>\n",
       "      <td>smart</td>\n",
       "      <td>6.0</td>\n",
       "      <td>33.402439</td>\n",
       "      <td>351.628049</td>\n",
       "      <td>16.298780</td>\n",
       "      <td>1101.582746</td>\n",
       "    </tr>\n",
       "    <tr>\n",
       "      <td>6</td>\n",
       "      <td>smart</td>\n",
       "      <td>7.0</td>\n",
       "      <td>33.751244</td>\n",
       "      <td>362.985075</td>\n",
       "      <td>16.268657</td>\n",
       "      <td>1114.345810</td>\n",
       "    </tr>\n",
       "    <tr>\n",
       "      <td>7</td>\n",
       "      <td>smart</td>\n",
       "      <td>8.0</td>\n",
       "      <td>33.638298</td>\n",
       "      <td>374.685106</td>\n",
       "      <td>17.161702</td>\n",
       "      <td>1202.744880</td>\n",
       "    </tr>\n",
       "    <tr>\n",
       "      <td>8</td>\n",
       "      <td>smart</td>\n",
       "      <td>9.0</td>\n",
       "      <td>33.638462</td>\n",
       "      <td>381.003846</td>\n",
       "      <td>16.823077</td>\n",
       "      <td>1138.299609</td>\n",
       "    </tr>\n",
       "    <tr>\n",
       "      <td>9</td>\n",
       "      <td>smart</td>\n",
       "      <td>10.0</td>\n",
       "      <td>33.765306</td>\n",
       "      <td>378.840136</td>\n",
       "      <td>17.272109</td>\n",
       "      <td>1244.156383</td>\n",
       "    </tr>\n",
       "    <tr>\n",
       "      <td>10</td>\n",
       "      <td>smart</td>\n",
       "      <td>11.0</td>\n",
       "      <td>34.075949</td>\n",
       "      <td>386.563291</td>\n",
       "      <td>17.430380</td>\n",
       "      <td>1221.367855</td>\n",
       "    </tr>\n",
       "    <tr>\n",
       "      <td>11</td>\n",
       "      <td>smart</td>\n",
       "      <td>12.0</td>\n",
       "      <td>35.994065</td>\n",
       "      <td>425.439169</td>\n",
       "      <td>18.640950</td>\n",
       "      <td>1422.138191</td>\n",
       "    </tr>\n",
       "  </tbody>\n",
       "</table>\n",
       "</div>"
      ],
      "text/plain": [
       "   tariff  month  count_message  total_calls  traffic_total       profit\n",
       "0   smart    1.0      18.235294   182.294118       9.029412   698.807675\n",
       "1   smart    2.0      24.086207   266.431034      12.103448   773.935614\n",
       "2   smart    3.0      31.857143   346.636364      15.584416  1066.706778\n",
       "3   smart    4.0      30.741071   326.053571      13.946429   881.344378\n",
       "4   smart    5.0      33.773050   343.574468      16.354610  1101.429909\n",
       "5   smart    6.0      33.402439   351.628049      16.298780  1101.582746\n",
       "6   smart    7.0      33.751244   362.985075      16.268657  1114.345810\n",
       "7   smart    8.0      33.638298   374.685106      17.161702  1202.744880\n",
       "8   smart    9.0      33.638462   381.003846      16.823077  1138.299609\n",
       "9   smart   10.0      33.765306   378.840136      17.272109  1244.156383\n",
       "10  smart   11.0      34.075949   386.563291      17.430380  1221.367855\n",
       "11  smart   12.0      35.994065   425.439169      18.640950  1422.138191"
      ]
     },
     "execution_count": 51,
     "metadata": {},
     "output_type": "execute_result"
    }
   ],
   "source": [
    "tariffs_smart = tariffs_mean.query(' tariff==\"smart\" ')\n",
    "tariffs_smart #разделим по тарифам для интереса (в рамках задачи не требуется, просто попробовать)"
   ]
  },
  {
   "cell_type": "code",
   "execution_count": 52,
   "metadata": {
    "scrolled": true
   },
   "outputs": [
    {
     "data": {
      "text/html": [
       "<div>\n",
       "<style scoped>\n",
       "    .dataframe tbody tr th:only-of-type {\n",
       "        vertical-align: middle;\n",
       "    }\n",
       "\n",
       "    .dataframe tbody tr th {\n",
       "        vertical-align: top;\n",
       "    }\n",
       "\n",
       "    .dataframe thead th {\n",
       "        text-align: right;\n",
       "    }\n",
       "</style>\n",
       "<table border=\"1\" class=\"dataframe\">\n",
       "  <thead>\n",
       "    <tr style=\"text-align: right;\">\n",
       "      <th></th>\n",
       "      <th>index</th>\n",
       "      <th>tariff</th>\n",
       "      <th>month</th>\n",
       "      <th>count_message</th>\n",
       "      <th>total_calls</th>\n",
       "      <th>traffic_total</th>\n",
       "      <th>profit</th>\n",
       "    </tr>\n",
       "  </thead>\n",
       "  <tbody>\n",
       "    <tr>\n",
       "      <td>0</td>\n",
       "      <td>12</td>\n",
       "      <td>ultra</td>\n",
       "      <td>1.0</td>\n",
       "      <td>33.777778</td>\n",
       "      <td>382.111111</td>\n",
       "      <td>13.666667</td>\n",
       "      <td>1950.000000</td>\n",
       "    </tr>\n",
       "    <tr>\n",
       "      <td>1</td>\n",
       "      <td>13</td>\n",
       "      <td>ultra</td>\n",
       "      <td>2.0</td>\n",
       "      <td>21.958333</td>\n",
       "      <td>263.333333</td>\n",
       "      <td>12.208333</td>\n",
       "      <td>1973.095703</td>\n",
       "    </tr>\n",
       "    <tr>\n",
       "      <td>2</td>\n",
       "      <td>14</td>\n",
       "      <td>ultra</td>\n",
       "      <td>3.0</td>\n",
       "      <td>32.297297</td>\n",
       "      <td>435.918919</td>\n",
       "      <td>18.108108</td>\n",
       "      <td>2004.254645</td>\n",
       "    </tr>\n",
       "    <tr>\n",
       "      <td>3</td>\n",
       "      <td>15</td>\n",
       "      <td>ultra</td>\n",
       "      <td>4.0</td>\n",
       "      <td>31.563636</td>\n",
       "      <td>406.490909</td>\n",
       "      <td>17.327273</td>\n",
       "      <td>1995.474077</td>\n",
       "    </tr>\n",
       "    <tr>\n",
       "      <td>4</td>\n",
       "      <td>16</td>\n",
       "      <td>ultra</td>\n",
       "      <td>5.0</td>\n",
       "      <td>37.850746</td>\n",
       "      <td>453.014925</td>\n",
       "      <td>19.895522</td>\n",
       "      <td>2055.022738</td>\n",
       "    </tr>\n",
       "    <tr>\n",
       "      <td>5</td>\n",
       "      <td>17</td>\n",
       "      <td>ultra</td>\n",
       "      <td>6.0</td>\n",
       "      <td>41.726190</td>\n",
       "      <td>426.178571</td>\n",
       "      <td>19.452381</td>\n",
       "      <td>2032.109724</td>\n",
       "    </tr>\n",
       "    <tr>\n",
       "      <td>6</td>\n",
       "      <td>18</td>\n",
       "      <td>ultra</td>\n",
       "      <td>7.0</td>\n",
       "      <td>49.846154</td>\n",
       "      <td>485.087912</td>\n",
       "      <td>21.032967</td>\n",
       "      <td>2108.562092</td>\n",
       "    </tr>\n",
       "    <tr>\n",
       "      <td>7</td>\n",
       "      <td>19</td>\n",
       "      <td>ultra</td>\n",
       "      <td>8.0</td>\n",
       "      <td>48.439252</td>\n",
       "      <td>453.878505</td>\n",
       "      <td>20.056075</td>\n",
       "      <td>2071.230195</td>\n",
       "    </tr>\n",
       "    <tr>\n",
       "      <td>8</td>\n",
       "      <td>20</td>\n",
       "      <td>ultra</td>\n",
       "      <td>9.0</td>\n",
       "      <td>52.286957</td>\n",
       "      <td>479.530435</td>\n",
       "      <td>19.730435</td>\n",
       "      <td>2013.776749</td>\n",
       "    </tr>\n",
       "    <tr>\n",
       "      <td>9</td>\n",
       "      <td>21</td>\n",
       "      <td>ultra</td>\n",
       "      <td>10.0</td>\n",
       "      <td>58.430894</td>\n",
       "      <td>496.008130</td>\n",
       "      <td>20.552846</td>\n",
       "      <td>2056.975276</td>\n",
       "    </tr>\n",
       "    <tr>\n",
       "      <td>10</td>\n",
       "      <td>22</td>\n",
       "      <td>ultra</td>\n",
       "      <td>11.0</td>\n",
       "      <td>55.791045</td>\n",
       "      <td>481.156716</td>\n",
       "      <td>20.313433</td>\n",
       "      <td>2080.850994</td>\n",
       "    </tr>\n",
       "    <tr>\n",
       "      <td>11</td>\n",
       "      <td>23</td>\n",
       "      <td>ultra</td>\n",
       "      <td>12.0</td>\n",
       "      <td>60.611511</td>\n",
       "      <td>526.410072</td>\n",
       "      <td>22.330935</td>\n",
       "      <td>2126.322926</td>\n",
       "    </tr>\n",
       "  </tbody>\n",
       "</table>\n",
       "</div>"
      ],
      "text/plain": [
       "    index tariff  month  count_message  total_calls  traffic_total  \\\n",
       "0      12  ultra    1.0      33.777778   382.111111      13.666667   \n",
       "1      13  ultra    2.0      21.958333   263.333333      12.208333   \n",
       "2      14  ultra    3.0      32.297297   435.918919      18.108108   \n",
       "3      15  ultra    4.0      31.563636   406.490909      17.327273   \n",
       "4      16  ultra    5.0      37.850746   453.014925      19.895522   \n",
       "5      17  ultra    6.0      41.726190   426.178571      19.452381   \n",
       "6      18  ultra    7.0      49.846154   485.087912      21.032967   \n",
       "7      19  ultra    8.0      48.439252   453.878505      20.056075   \n",
       "8      20  ultra    9.0      52.286957   479.530435      19.730435   \n",
       "9      21  ultra   10.0      58.430894   496.008130      20.552846   \n",
       "10     22  ultra   11.0      55.791045   481.156716      20.313433   \n",
       "11     23  ultra   12.0      60.611511   526.410072      22.330935   \n",
       "\n",
       "         profit  \n",
       "0   1950.000000  \n",
       "1   1973.095703  \n",
       "2   2004.254645  \n",
       "3   1995.474077  \n",
       "4   2055.022738  \n",
       "5   2032.109724  \n",
       "6   2108.562092  \n",
       "7   2071.230195  \n",
       "8   2013.776749  \n",
       "9   2056.975276  \n",
       "10  2080.850994  \n",
       "11  2126.322926  "
      ]
     },
     "execution_count": 52,
     "metadata": {},
     "output_type": "execute_result"
    }
   ],
   "source": [
    "tariffs_ultra = tariffs_mean.query(' tariff==\"ultra\" ').reset_index()\n",
    "tariffs_ultra"
   ]
  },
  {
   "cell_type": "markdown",
   "metadata": {},
   "source": [
    "tariffs_ultra = tariffs_ultra.pivot_table(index=['tariff'], values=['count_message', 'total_calls', 'traffic_total'], \n",
    "                    aggfunc={'count_message': [np.median, np.var, np.std], \n",
    "                             'total_calls': [np.median, np.var, np.std], \n",
    "                             'traffic_total': [np.median, np.var, np.std]})\n",
    "tariffs_ultra"
   ]
  },
  {
   "cell_type": "code",
   "execution_count": 53,
   "metadata": {},
   "outputs": [],
   "source": [
    "#найдем средннее вцелом\n",
    "tariffs_mean_year = megaline_traf.groupby([ 'tariff'])['count_message', 'total_calls', 'traffic_total', 'profit'].mean().reset_index()"
   ]
  },
  {
   "cell_type": "code",
   "execution_count": 54,
   "metadata": {},
   "outputs": [
    {
     "data": {
      "text/html": [
       "<div>\n",
       "<style scoped>\n",
       "    .dataframe tbody tr th:only-of-type {\n",
       "        vertical-align: middle;\n",
       "    }\n",
       "\n",
       "    .dataframe tbody tr th {\n",
       "        vertical-align: top;\n",
       "    }\n",
       "\n",
       "    .dataframe thead th {\n",
       "        text-align: right;\n",
       "    }\n",
       "</style>\n",
       "<table border=\"1\" class=\"dataframe\">\n",
       "  <thead>\n",
       "    <tr style=\"text-align: right;\">\n",
       "      <th></th>\n",
       "      <th>tariff</th>\n",
       "      <th>count_message</th>\n",
       "      <th>total_calls</th>\n",
       "      <th>traffic_total</th>\n",
       "      <th>profit</th>\n",
       "    </tr>\n",
       "  </thead>\n",
       "  <tbody>\n",
       "    <tr>\n",
       "      <td>0</td>\n",
       "      <td>smart</td>\n",
       "      <td>33.384029</td>\n",
       "      <td>371.444145</td>\n",
       "      <td>16.731718</td>\n",
       "      <td>1174.983019</td>\n",
       "    </tr>\n",
       "    <tr>\n",
       "      <td>1</td>\n",
       "      <td>ultra</td>\n",
       "      <td>49.363452</td>\n",
       "      <td>467.923858</td>\n",
       "      <td>19.988832</td>\n",
       "      <td>2060.591390</td>\n",
       "    </tr>\n",
       "  </tbody>\n",
       "</table>\n",
       "</div>"
      ],
      "text/plain": [
       "  tariff  count_message  total_calls  traffic_total       profit\n",
       "0  smart      33.384029   371.444145      16.731718  1174.983019\n",
       "1  ultra      49.363452   467.923858      19.988832  2060.591390"
      ]
     },
     "execution_count": 54,
     "metadata": {},
     "output_type": "execute_result"
    }
   ],
   "source": [
    "tariffs_mean_year#найдем средннее вцелом\n",
    "tariffs_mean_year = megaline_traf.groupby([ 'tariff'])['count_message', 'total_calls', 'traffic_total', 'profit'].mean().reset_index()\n",
    "tariffs_mean_year"
   ]
  },
  {
   "cell_type": "code",
   "execution_count": 55,
   "metadata": {},
   "outputs": [],
   "source": [
    "#найдем медиану вцелом \n",
    "tariffs_median_year = megaline_traf.groupby([ 'tariff'])['count_message', 'total_calls', 'traffic_total', 'profit'].median().reset_index()"
   ]
  },
  {
   "cell_type": "code",
   "execution_count": 56,
   "metadata": {},
   "outputs": [
    {
     "data": {
      "text/html": [
       "<div>\n",
       "<style scoped>\n",
       "    .dataframe tbody tr th:only-of-type {\n",
       "        vertical-align: middle;\n",
       "    }\n",
       "\n",
       "    .dataframe tbody tr th {\n",
       "        vertical-align: top;\n",
       "    }\n",
       "\n",
       "    .dataframe thead th {\n",
       "        text-align: right;\n",
       "    }\n",
       "</style>\n",
       "<table border=\"1\" class=\"dataframe\">\n",
       "  <thead>\n",
       "    <tr style=\"text-align: right;\">\n",
       "      <th></th>\n",
       "      <th>tariff</th>\n",
       "      <th>count_message</th>\n",
       "      <th>total_calls</th>\n",
       "      <th>traffic_total</th>\n",
       "      <th>profit</th>\n",
       "    </tr>\n",
       "  </thead>\n",
       "  <tbody>\n",
       "    <tr>\n",
       "      <td>0</td>\n",
       "      <td>smart</td>\n",
       "      <td>28.0</td>\n",
       "      <td>375.0</td>\n",
       "      <td>17.0</td>\n",
       "      <td>894.921875</td>\n",
       "    </tr>\n",
       "    <tr>\n",
       "      <td>1</td>\n",
       "      <td>ultra</td>\n",
       "      <td>38.0</td>\n",
       "      <td>458.0</td>\n",
       "      <td>20.0</td>\n",
       "      <td>1950.000000</td>\n",
       "    </tr>\n",
       "  </tbody>\n",
       "</table>\n",
       "</div>"
      ],
      "text/plain": [
       "  tariff  count_message  total_calls  traffic_total       profit\n",
       "0  smart           28.0        375.0           17.0   894.921875\n",
       "1  ultra           38.0        458.0           20.0  1950.000000"
      ]
     },
     "execution_count": 56,
     "metadata": {},
     "output_type": "execute_result"
    }
   ],
   "source": [
    "tariffs_median_year"
   ]
  },
  {
   "cell_type": "raw",
   "metadata": {},
   "source": [
    "медианы не особо отличаются от средних, только в profit более понятно, что есть небольшая скошенность влево"
   ]
  },
  {
   "cell_type": "code",
   "execution_count": 57,
   "metadata": {},
   "outputs": [],
   "source": [
    "count_message_var_year = np.var(megaline_traf['count_message'], ddof=1)"
   ]
  },
  {
   "cell_type": "code",
   "execution_count": 58,
   "metadata": {},
   "outputs": [
    {
     "data": {
      "text/plain": [
       "1306.7014417742485"
      ]
     },
     "execution_count": 58,
     "metadata": {},
     "output_type": "execute_result"
    }
   ],
   "source": [
    "count_message_var_year"
   ]
  },
  {
   "cell_type": "code",
   "execution_count": 59,
   "metadata": {},
   "outputs": [],
   "source": [
    "tariffs_var_year =round(megaline_traf.groupby([ 'tariff'])['count_message', 'total_calls', 'traffic_total', 'profit'].var(ddof=1).reset_index(), 1)\n"
   ]
  },
  {
   "cell_type": "code",
   "execution_count": 60,
   "metadata": {},
   "outputs": [
    {
     "data": {
      "text/html": [
       "<div>\n",
       "<style scoped>\n",
       "    .dataframe tbody tr th:only-of-type {\n",
       "        vertical-align: middle;\n",
       "    }\n",
       "\n",
       "    .dataframe tbody tr th {\n",
       "        vertical-align: top;\n",
       "    }\n",
       "\n",
       "    .dataframe thead th {\n",
       "        text-align: right;\n",
       "    }\n",
       "</style>\n",
       "<table border=\"1\" class=\"dataframe\">\n",
       "  <thead>\n",
       "    <tr style=\"text-align: right;\">\n",
       "      <th></th>\n",
       "      <th>tariff</th>\n",
       "      <th>count_message</th>\n",
       "      <th>total_calls</th>\n",
       "      <th>traffic_total</th>\n",
       "      <th>profit</th>\n",
       "    </tr>\n",
       "  </thead>\n",
       "  <tbody>\n",
       "    <tr>\n",
       "      <td>0</td>\n",
       "      <td>smart</td>\n",
       "      <td>796.8</td>\n",
       "      <td>28860.9</td>\n",
       "      <td>34.7</td>\n",
       "      <td>569618.5</td>\n",
       "    </tr>\n",
       "    <tr>\n",
       "      <td>1</td>\n",
       "      <td>ultra</td>\n",
       "      <td>2285.3</td>\n",
       "      <td>79896.9</td>\n",
       "      <td>102.3</td>\n",
       "      <td>127041.1</td>\n",
       "    </tr>\n",
       "  </tbody>\n",
       "</table>\n",
       "</div>"
      ],
      "text/plain": [
       "  tariff  count_message  total_calls  traffic_total    profit\n",
       "0  smart          796.8      28860.9           34.7  569618.5\n",
       "1  ultra         2285.3      79896.9          102.3  127041.1"
      ]
     },
     "execution_count": 60,
     "metadata": {},
     "output_type": "execute_result"
    }
   ],
   "source": [
    "tariffs_var_year #дисперсия по тарифам"
   ]
  },
  {
   "cell_type": "code",
   "execution_count": 61,
   "metadata": {},
   "outputs": [],
   "source": [
    "tariffs_std_year = round(np.sqrt(megaline_traf.groupby([ 'tariff'])['count_message', 'total_calls', 'traffic_total', 'profit'].var(ddof=1)).reset_index())"
   ]
  },
  {
   "cell_type": "code",
   "execution_count": 62,
   "metadata": {},
   "outputs": [
    {
     "data": {
      "text/html": [
       "<div>\n",
       "<style scoped>\n",
       "    .dataframe tbody tr th:only-of-type {\n",
       "        vertical-align: middle;\n",
       "    }\n",
       "\n",
       "    .dataframe tbody tr th {\n",
       "        vertical-align: top;\n",
       "    }\n",
       "\n",
       "    .dataframe thead th {\n",
       "        text-align: right;\n",
       "    }\n",
       "</style>\n",
       "<table border=\"1\" class=\"dataframe\">\n",
       "  <thead>\n",
       "    <tr style=\"text-align: right;\">\n",
       "      <th></th>\n",
       "      <th>tariff</th>\n",
       "      <th>count_message</th>\n",
       "      <th>total_calls</th>\n",
       "      <th>traffic_total</th>\n",
       "      <th>profit</th>\n",
       "    </tr>\n",
       "  </thead>\n",
       "  <tbody>\n",
       "    <tr>\n",
       "      <td>0</td>\n",
       "      <td>smart</td>\n",
       "      <td>28.0</td>\n",
       "      <td>170.0</td>\n",
       "      <td>6.0</td>\n",
       "      <td>755.0</td>\n",
       "    </tr>\n",
       "    <tr>\n",
       "      <td>1</td>\n",
       "      <td>ultra</td>\n",
       "      <td>48.0</td>\n",
       "      <td>283.0</td>\n",
       "      <td>10.0</td>\n",
       "      <td>356.0</td>\n",
       "    </tr>\n",
       "  </tbody>\n",
       "</table>\n",
       "</div>"
      ],
      "text/plain": [
       "  tariff  count_message  total_calls  traffic_total  profit\n",
       "0  smart           28.0        170.0            6.0   755.0\n",
       "1  ultra           48.0        283.0           10.0   356.0"
      ]
     },
     "execution_count": 62,
     "metadata": {},
     "output_type": "execute_result"
    }
   ],
   "source": [
    "tariffs_std_year #стандартное отклонение по тарифам"
   ]
  },
  {
   "cell_type": "markdown",
   "metadata": {},
   "source": [
    "#еще раз проверю прошлые графики\n",
    "for i in ['count_message', 'total_calls', 'traffic_total', 'profit']:\n",
    "    sns.catplot(data=tariffs_std_year, kind = 'box',  y=i, x='tariff')"
   ]
  },
  {
   "cell_type": "markdown",
   "metadata": {},
   "source": [
    "Видно что стандартное отклонение тарифа smart меньше везде, кроме показателя выручки. "
   ]
  },
  {
   "cell_type": "markdown",
   "metadata": {},
   "source": [
    "for i in ['count_message', 'total_calls', 'traffic_total', 'profit']:\n",
    "    sns.catplot(data=tariffs_median_year, kind = 'box',  y=i, x='tariff')"
   ]
  },
  {
   "cell_type": "markdown",
   "metadata": {},
   "source": [
    "##### комментарий:\n",
    "Минуты разговора, число сообщений и объем потраченного интернет-трафика по тарифу «Ультра» имеет большую дисперсию по сравнению с тарифом «Смарт», и медианы  также смещены в большую сторону, выбросов в рамках более дешевого тарифа существенно больше."
   ]
  },
  {
   "cell_type": "markdown",
   "metadata": {},
   "source": [
    "##### Вывод:\n",
    "Пользователи обоих тарифов укладываются в среднем в пакетные значения, в тарифе ультра даже тратят меньше минут на звонки, чем входит в тариф (что для выручки хорошо). В сообщениях также пользователи укладываются в лимиты, используют эту опцию мало. В интернете пользователи смарта в среднем превышают лимит, в середине года используют чуть больше, чем в начале (думаю зависит от подключения, так как после первого квартала постепенный рост идет).  Поэтому пользователи тарифа ультра остаются в рамках лимита в части оплаты, а пользователи тарифа смарт доплачивают за тариф, чаще всего за интернет, которого им не хватает в рамках лимита.\n"
   ]
  },
  {
   "cell_type": "markdown",
   "metadata": {},
   "source": [
    "## Гипотезы"
   ]
  },
  {
   "cell_type": "markdown",
   "metadata": {},
   "source": [
    "#### задача проверить гипотезы:\n",
    "- средняя выручка пользователей тарифов «Ультра» и «Смарт» различаются;\n",
    "- средняя выручка пользователей из Москвы отличается от выручки пользователей из других регионов.\n",
    "- Пороговое значение alpha задать самостоятельно.\n",
    "\n",
    " Пояснить:\n",
    "- как  формулировали нулевую и альтернативную гипотезы;\n",
    "- какой критерий использовался для проверки гипотез и почему."
   ]
  },
  {
   "cell_type": "markdown",
   "metadata": {},
   "source": [
    "##### Гипотеза №1: средняя выручка пользователей тарифов «Ультра» и «Смарт» различается\n",
    "Так как \"H₀ всегда формулируется так, чтобы использовать знак равенства\" то:\n",
    "\n",
    " H0 - средняя выручка пользователей тарифов «Ультра» и «Смарт»  равны; \n",
    " \n",
    " H1 - средняя выручка пользователей тарифов «Ультра» и «Смарт» различается\n",
    " \n",
    " alpha = 0.05"
   ]
  },
  {
   "cell_type": "markdown",
   "metadata": {},
   "source": [
    "#теория для меня: В Python есть специальный метод для проверки гипотезы о равенстве среднего двух генеральных совокупностей по взятым из них выборкам: scipy.stats.ttest_ind (array1, array2,equal_var). Дисперсии рассматриваемых генеральных совокупностей должны быть равны.\n",
    "Это коварное условие. С одной стороны, вы никогда точно не знаете, равны ли дисперсии рассматриваемых генеральных совокупностей. С другой — по умолчанию параметр equal_var принимает значение True: дисперсии считаются равными и тест объединяет обе выборки в одну, чтобы эту дисперсию поточнее оценить."
   ]
  },
  {
   "cell_type": "code",
   "execution_count": 63,
   "metadata": {},
   "outputs": [
    {
     "data": {
      "text/html": [
       "<div>\n",
       "<style scoped>\n",
       "    .dataframe tbody tr th:only-of-type {\n",
       "        vertical-align: middle;\n",
       "    }\n",
       "\n",
       "    .dataframe tbody tr th {\n",
       "        vertical-align: top;\n",
       "    }\n",
       "\n",
       "    .dataframe thead th {\n",
       "        text-align: right;\n",
       "    }\n",
       "</style>\n",
       "<table border=\"1\" class=\"dataframe\">\n",
       "  <thead>\n",
       "    <tr style=\"text-align: right;\">\n",
       "      <th></th>\n",
       "      <th>tariff</th>\n",
       "      <th>count_message</th>\n",
       "      <th>total_calls</th>\n",
       "      <th>traffic_total</th>\n",
       "      <th>profit</th>\n",
       "    </tr>\n",
       "  </thead>\n",
       "  <tbody>\n",
       "    <tr>\n",
       "      <td>0</td>\n",
       "      <td>smart</td>\n",
       "      <td>796.8</td>\n",
       "      <td>28860.9</td>\n",
       "      <td>34.7</td>\n",
       "      <td>569618.5</td>\n",
       "    </tr>\n",
       "    <tr>\n",
       "      <td>1</td>\n",
       "      <td>ultra</td>\n",
       "      <td>2285.3</td>\n",
       "      <td>79896.9</td>\n",
       "      <td>102.3</td>\n",
       "      <td>127041.1</td>\n",
       "    </tr>\n",
       "  </tbody>\n",
       "</table>\n",
       "</div>"
      ],
      "text/plain": [
       "  tariff  count_message  total_calls  traffic_total    profit\n",
       "0  smart          796.8      28860.9           34.7  569618.5\n",
       "1  ultra         2285.3      79896.9          102.3  127041.1"
      ]
     },
     "execution_count": 63,
     "metadata": {},
     "output_type": "execute_result"
    }
   ],
   "source": [
    "tariffs_var_year"
   ]
  },
  {
   "cell_type": "markdown",
   "metadata": {},
   "source": [
    "#дисперсии выручки отличаются, поэтому применяю equal_var = False"
   ]
  },
  {
   "cell_type": "code",
   "execution_count": 64,
   "metadata": {},
   "outputs": [
    {
     "data": {
      "text/plain": [
       "array([ 698.80767463,  773.93561422, 1066.7067776 ,  881.34437779,\n",
       "       1101.42990913, 1101.58274581, 1114.34581001, 1202.74488032,\n",
       "       1138.29960938, 1244.15638287, 1221.36785502, 1422.13819084])"
      ]
     },
     "execution_count": 64,
     "metadata": {},
     "output_type": "execute_result"
    }
   ],
   "source": [
    "tariffs_smart_result = tariffs_smart['profit'].values\n",
    "tariffs_smart_result"
   ]
  },
  {
   "cell_type": "code",
   "execution_count": 65,
   "metadata": {},
   "outputs": [
    {
     "data": {
      "text/plain": [
       "array([1950.        , 1973.09570312, 2004.25464527, 1995.4740767 ,\n",
       "       2055.02273787, 2032.10972377, 2108.5620922 , 2071.23019495,\n",
       "       2013.77674932, 2056.9752763 , 2080.85099405, 2126.32292603])"
      ]
     },
     "execution_count": 65,
     "metadata": {},
     "output_type": "execute_result"
    }
   ],
   "source": [
    "tariffs_ultra_result = tariffs_ultra['profit'].values\n",
    "tariffs_ultra_result"
   ]
  },
  {
   "cell_type": "code",
   "execution_count": 66,
   "metadata": {},
   "outputs": [
    {
     "name": "stdout",
     "output_type": "stream",
     "text": [
      "p-значение: 1.3803351009411774e-09\n",
      "Отвергаем нулевую гипотезу\n"
     ]
    }
   ],
   "source": [
    "alpha = 0.05\n",
    "\n",
    "results = st.ttest_ind(tariffs_smart_result, tariffs_ultra_result, equal_var = False)\n",
    "\n",
    "print('p-значение:', results.pvalue)\n",
    "\n",
    "if (results.pvalue < alpha):\n",
    "    print(\"Отвергаем нулевую гипотезу\")\n",
    "else:\n",
    "    print(\"Не получилось отвергнуть нулевую гипотезу\")"
   ]
  },
  {
   "cell_type": "markdown",
   "metadata": {},
   "source": [
    "Так как нулевую гипотезу отвергли, получается подтверждаем, что тариф ультра и смарт различаются.А значит доходы компании по двум тарифам различаются."
   ]
  },
  {
   "cell_type": "code",
   "execution_count": 67,
   "metadata": {},
   "outputs": [
    {
     "data": {
      "text/plain": [
       "8        550.000000\n",
       "9        990.429688\n",
       "10      1525.976562\n",
       "11       816.406250\n",
       "12       550.000000\n",
       "           ...     \n",
       "3209     550.000000\n",
       "3210     868.945312\n",
       "3211    1026.367188\n",
       "3212    1081.835938\n",
       "3213     997.265625\n",
       "Name: profit, Length: 2229, dtype: float64"
      ]
     },
     "execution_count": 67,
     "metadata": {},
     "output_type": "execute_result"
    }
   ],
   "source": [
    "tariffs_smart_result_new = megaline_traf.query('tariff==\"smart\"')['profit']\n",
    "tariffs_smart_result_new"
   ]
  },
  {
   "cell_type": "code",
   "execution_count": 68,
   "metadata": {},
   "outputs": [
    {
     "data": {
      "text/plain": [
       "0       1950.000000\n",
       "1       1950.000000\n",
       "2       1950.000000\n",
       "3       1950.000000\n",
       "4       1950.000000\n",
       "           ...     \n",
       "3198    2294.384766\n",
       "3199    2390.478516\n",
       "3200    2345.654297\n",
       "3201    2655.322266\n",
       "3202    1950.000000\n",
       "Name: profit, Length: 985, dtype: float64"
      ]
     },
     "execution_count": 68,
     "metadata": {},
     "output_type": "execute_result"
    }
   ],
   "source": [
    "tariffs_ultra_result_new = megaline_traf.query('tariff==\"ultra\"')['profit']\n",
    "tariffs_ultra_result_new"
   ]
  },
  {
   "cell_type": "code",
   "execution_count": 69,
   "metadata": {},
   "outputs": [
    {
     "name": "stdout",
     "output_type": "stream",
     "text": [
      "p-значение: 0.0\n",
      "Отвергаем нулевую гипотезу\n"
     ]
    }
   ],
   "source": [
    "alpha = 0.05\n",
    "\n",
    "results = st.ttest_ind(tariffs_ultra_result_new, tariffs_smart_result_new, equal_var = False)\n",
    "\n",
    "print('p-значение:', results.pvalue)\n",
    "\n",
    "if (results.pvalue < alpha):\n",
    "    print(\"Отвергаем нулевую гипотезу\")\n",
    "else:\n",
    "    print(\"Не получилось отвергнуть нулевую гипотезу\")"
   ]
  },
  {
   "cell_type": "markdown",
   "metadata": {},
   "source": [
    "##### Гипотеза №2: средняя выручка пользователей Москвы и регионов\n",
    "\n",
    "H0 — средняя выручка пользователей из Москвы равна средней выручке пользователей из других регионов.\n",
    "\n",
    "H1 — средняя выручка пользователей из Москвы отличается от средней выручке пользователей из других регионов.\n",
    "\n",
    "alpha = 0.05"
   ]
  },
  {
   "cell_type": "code",
   "execution_count": 70,
   "metadata": {},
   "outputs": [],
   "source": [
    "moscow_profit_result = megaline_traf.query('city == \"Москва\"')['profit'].values\n",
    "other_profit_result = megaline_traf.query('city != \"Москва\"')['profit'].values\n"
   ]
  },
  {
   "cell_type": "code",
   "execution_count": 71,
   "metadata": {},
   "outputs": [
    {
     "data": {
      "text/plain": [
       "array([1950.        , 1950.        , 1950.        , 1950.        ,\n",
       "       1950.        ,  550.        , 1011.1328125 ,  550.        ,\n",
       "        677.84375   , 1598.6328125 ,  814.        ,  550.        ,\n",
       "        792.515625  ,  550.        ,  841.        ,  556.        ,\n",
       "        550.        , 1947.9921875 , 2690.9609375 , 1531.796875  ,\n",
       "       2503.5       , 1724.7890625 ,  768.9453125 ,  550.        ,\n",
       "        869.140625  , 2854.21875   ,  550.        ,  550.        ,\n",
       "       1635.7421875 , 2008.7890625 ,  550.        ,  550.        ,\n",
       "        550.        , 1950.        , 1950.        , 1950.        ,\n",
       "       1950.        , 1950.        , 1950.        , 1950.        ,\n",
       "       1950.        , 1950.        , 1950.        ,  550.        ,\n",
       "        550.        , 1387.4453125 , 2422.0234375 , 3194.9296875 ,\n",
       "       2027.7734375 , 1645.671875  , 2339.8828125 , 3123.8046875 ,\n",
       "       1701.2578125 , 2008.4296875 ,  550.        ,  550.        ,\n",
       "        619.        ,  796.        ,  589.        ,  550.        ,\n",
       "        550.        ,  592.        ,  604.        ,  634.        ,\n",
       "        550.        , 2609.921875  , 1687.265625  , 3076.9453125 ,\n",
       "       2453.90625   ,  566.796875  ,  550.        , 1582.84375   ,\n",
       "       2882.1875    ,  550.        ,  679.        ,  625.        ,\n",
       "        811.        ,  643.        ,  550.        ,  553.        ,\n",
       "        577.        , 1950.        , 1950.        , 1950.        ,\n",
       "       1950.        , 1950.        , 1950.        , 1950.        ,\n",
       "       1950.        , 1950.        , 1950.        , 1950.        ,\n",
       "       1950.        , 1950.        , 1950.        , 1950.        ,\n",
       "        619.        ,  895.296875  ,  721.        ,  550.        ,\n",
       "       1746.09375   , 1309.375     , 1733.09375   , 1357.8125    ,\n",
       "       1607.421875  , 2018.1328125 , 1540.4296875 , 1209.765625  ,\n",
       "        550.        ,  715.        ,  805.        ,  550.        ,\n",
       "        550.        ,  724.        ,  550.        ,  550.        ,\n",
       "        550.        ,  550.        ,  952.        ,  610.        ,\n",
       "        778.        ,  925.        ,  823.        , 1117.        ,\n",
       "        841.        , 1229.3046875 ,  670.        ,  550.        ,\n",
       "        550.        ,  550.        , 1088.671875  ,  550.        ,\n",
       "        550.        ,  550.        ,  697.        , 1950.        ,\n",
       "       2923.53515625, 2069.23828125, 2821.2890625 , 1950.        ,\n",
       "       2538.28125   , 2340.52734375, 1950.        , 3838.76953125,\n",
       "       1950.        , 1950.        ,  550.        ,  562.        ,\n",
       "       1950.        , 1950.        , 1950.        , 1950.        ,\n",
       "       1950.        , 1950.        , 1950.        , 1950.        ,\n",
       "       1950.        , 1950.        ,  550.        , 1483.203125  ,\n",
       "       2918.359375  ,  550.        ,  550.        ,  550.        ,\n",
       "       2926.390625  , 3690.7734375 ,  628.        ,  650.1484375 ,\n",
       "       1157.40625   , 1793.359375  ,  697.        , 2026.15625   ,\n",
       "        580.        ,  737.8359375 , 1430.2265625 , 1581.6953125 ,\n",
       "       1943.4609375 , 2945.7890625 , 1389.1953125 , 2148.8125    ,\n",
       "       1950.        , 1950.        , 1950.        , 1950.        ,\n",
       "        550.        , 2448.828125  , 1844.421875  , 2006.0546875 ,\n",
       "       1531.4453125 ,  958.59375   , 1100.9765625 , 1329.8828125 ,\n",
       "        550.        , 1736.0078125 , 1597.0703125 ,  550.        ,\n",
       "        550.        , 1312.3046875 ,  780.46875   ,  714.890625  ,\n",
       "        550.        , 1206.4453125 ,  736.328125  ,  725.        ,\n",
       "        550.        ,  550.        , 1157.8125    ,  550.        ,\n",
       "        550.        , 2366.30859375, 1950.        , 1950.        ,\n",
       "        717.7734375 , 1360.9375    , 1236.1328125 , 2058.3984375 ,\n",
       "        550.        , 4946.9453125 , 1950.        , 1950.        ,\n",
       "       1950.        , 1950.        ,  550.        ,  604.1015625 ,\n",
       "        550.        ,  550.        ,  550.        ,  599.4140625 ,\n",
       "        550.5859375 , 1950.        , 2478.80859375, 2336.27929688,\n",
       "       3064.453125  , 3945.26367188, 2632.91015625,  550.        ,\n",
       "        550.        , 1306.640625  ,  856.0546875 , 1370.3125    ,\n",
       "        550.        ,  790.234375  ,  550.        , 1151.953125  ,\n",
       "        550.        ,  550.        , 1775.        ,  550.        ,\n",
       "        975.59375   ,  659.765625  , 1438.0859375 , 1307.0546875 ,\n",
       "        949.        ,  583.203125  ,  550.        ,  550.        ,\n",
       "       1024.4140625 ,  550.        , 1386.1328125 , 1573.046875  ,\n",
       "        684.1796875 ,  984.5703125 , 1307.8125    ,  980.2734375 ,\n",
       "       1950.        , 1950.        , 2282.8125    , 2203.41796875,\n",
       "       1950.        , 2281.640625  , 1950.        , 1950.        ,\n",
       "       2516.74804688,  550.        , 1567.890625  , 1251.953125  ,\n",
       "       1226.5625    ,  950.78125   ,  928.125     , 1918.359375  ,\n",
       "       1070.8984375 , 1950.        , 1950.        , 1950.        ,\n",
       "       1950.        , 1950.        , 1950.        , 1950.        ,\n",
       "       1950.        , 1950.        , 1950.        , 1950.        ,\n",
       "        550.        ,  935.9375    , 2146.09375   ,  879.1015625 ,\n",
       "       1249.0234375 ,  910.15625   ,  550.        , 1154.296875  ,\n",
       "       1950.        , 1950.        , 1950.        , 2206.93359375,\n",
       "       2420.5078125 , 2023.97460938, 1950.        ,  619.140625  ,\n",
       "        550.        , 2175.1953125 ,  550.        , 1409.765625  ,\n",
       "        852.734375  ,  550.        , 1950.        , 1950.        ,\n",
       "       1950.        , 1950.        , 1950.        , 1950.        ,\n",
       "       3700.04882812, 3305.56640625, 1950.        , 1950.        ,\n",
       "       1950.        , 2287.79296875, 1950.        , 3264.55078125,\n",
       "        550.        ,  877.        ,  550.        ,  967.8125    ,\n",
       "       1319.3984375 , 1420.7265625 , 1950.        , 1950.        ,\n",
       "       1950.        , 3340.57617188, 1950.        , 1950.        ,\n",
       "       1950.        , 1950.        , 1950.        , 1950.        ,\n",
       "       1950.        , 1950.        , 1950.        , 2120.36132812,\n",
       "       1950.        , 1950.        , 1950.        , 1950.        ,\n",
       "       2234.03320312, 2032.17773438, 1950.        , 1950.        ,\n",
       "       1950.        , 2956.49414062, 2683.30078125, 2468.11523438,\n",
       "       1950.        , 2483.64257812, 3067.67578125, 1778.7109375 ,\n",
       "       1200.9765625 ,  634.1796875 ,  838.4765625 ,  550.        ,\n",
       "        550.        , 2120.5078125 ,  610.        , 1981.5234375 ,\n",
       "       1457.234375  ,  550.        , 1373.6328125 ,  576.3671875 ,\n",
       "       1119.234375  ,  550.        , 1639.546875  , 1501.515625  ,\n",
       "        908.3046875 ,  550.        , 1357.8828125 , 2767.5390625 ,\n",
       "       2696.6171875 , 1961.734375  ,  550.        ,  550.        ,\n",
       "        621.6796875 ,  550.        ,  550.        ,  550.        ,\n",
       "        583.        ,  550.        ,  550.        ,  550.        ,\n",
       "        568.        ,  550.        , 1950.        , 1950.        ,\n",
       "       2246.77734375, 2857.03125   , 1950.        , 1950.        ,\n",
       "       1950.        ,  550.        ,  550.        ,  550.        ,\n",
       "       1950.        , 2253.22265625, 1950.        , 1950.        ,\n",
       "       1950.        , 1950.        , 3075.5859375 ,  555.078125  ,\n",
       "       1950.        , 1950.        , 1950.        , 1950.        ,\n",
       "       1950.        , 1950.        , 2063.81835938, 1950.        ,\n",
       "       1950.        , 1950.        , 1950.        , 1950.        ,\n",
       "       1950.        , 1950.        , 1950.        , 1950.        ,\n",
       "       1950.        ,  886.5234375 ,  550.        , 1499.390625  ,\n",
       "       1545.9609375 , 2765.9375    ,  550.        ,  792.53125   ,\n",
       "        988.        ,  858.9140625 , 1548.3515625 ,  724.        ,\n",
       "        550.        , 1576.3828125 ,  702.71875   , 1950.        ,\n",
       "       1950.        , 1950.        , 1950.        , 1950.        ,\n",
       "       1950.        , 1950.        , 1950.        , 1950.        ,\n",
       "       1950.        , 1950.        , 1950.        , 1950.        ,\n",
       "       1950.        , 1950.        , 1950.        , 1950.        ,\n",
       "       1950.        , 1950.        , 1950.        , 1950.        ,\n",
       "       1950.        , 1950.        , 1950.        , 1950.        ,\n",
       "       1950.        , 1950.        , 1950.        , 1950.        ,\n",
       "       1950.        ,  550.        , 1100.9765625 , 1520.703125  ,\n",
       "       1081.25      ,  550.        , 1286.1328125 , 1733.59375   ,\n",
       "        925.390625  , 1117.3828125 , 1446.6796875 ,  771.6796875 ,\n",
       "        550.        , 1724.609375  , 1366.015625  ,  586.        ,\n",
       "        929.8828125 ,  550.        , 1593.359375  , 1210.15625   ,\n",
       "        637.890625  , 1155.46875   ,  550.        , 1950.        ,\n",
       "       1950.        , 1950.        , 1950.        , 1950.        ,\n",
       "       1950.        , 1950.        , 1950.        , 1950.        ,\n",
       "       1950.        ,  916.0703125 ,  556.        ,  698.046875  ,\n",
       "       1023.2890625 ,  550.        ,  661.1328125 , 2837.5       ,\n",
       "       1837.890625  , 2408.984375  , 1248.4375    , 1157.03125   ,\n",
       "       1502.9296875 , 2824.8046875 , 1290.4296875 , 2988.4765625 ,\n",
       "        550.        , 1912.890625  ,  557.421875  ,  550.        ,\n",
       "       1634.1796875 , 1739.2578125 ,  550.        ,  550.        ,\n",
       "       1856.8359375 ,  851.3671875 , 1654.4921875 , 2181.4453125 ,\n",
       "        550.        ,  550.        ,  550.        , 1950.        ,\n",
       "       1950.        , 1950.        , 1950.        , 1950.        ,\n",
       "        647.8515625 , 1414.453125  , 1781.25      , 1202.5390625 ,\n",
       "        964.6484375 , 1423.046875  , 2877.5390625 , 1626.5625    ,\n",
       "       1267.1875    , 2036.9140625 , 1557.6171875 , 2100.390625  ,\n",
       "        550.        , 1378.        , 1006.        , 2234.96875   ,\n",
       "       2591.5546875 , 2070.765625  , 1235.859375  , 1723.03125   ,\n",
       "       1950.        , 1950.        , 1950.        , 1950.        ,\n",
       "       1950.        , 1950.        , 1950.        , 1950.        ,\n",
       "        550.        , 1021.        ,  958.1640625 , 1405.        ,\n",
       "        550.        , 1393.        ,  550.        , 1238.8671875 ,\n",
       "        550.        ,  898.3984375 ,  550.        ,  801.5625    ,\n",
       "        550.        ,  550.        ,  598.        ,  550.        ,\n",
       "        955.        ,  550.        , 2736.21875   , 1823.4921875 ,\n",
       "        550.        , 1491.40625   , 1315.0078125 , 2360.546875  ,\n",
       "       1766.0859375 , 1950.        , 1950.        , 1950.        ,\n",
       "        550.        , 1742.578125  ,  958.984375  , 2045.703125  ,\n",
       "        752.34375   , 1520.703125  , 1266.6015625 , 2061.71875   ,\n",
       "       1234.9609375 , 1735.546875  , 2022.0703125 ])"
      ]
     },
     "execution_count": 71,
     "metadata": {},
     "output_type": "execute_result"
    }
   ],
   "source": [
    "moscow_profit_result"
   ]
  },
  {
   "cell_type": "code",
   "execution_count": 72,
   "metadata": {},
   "outputs": [
    {
     "data": {
      "text/plain": [
       "array([1950.       , 1950.       , 1950.       , ..., 1026.3671875,\n",
       "       1081.8359375,  997.265625 ])"
      ]
     },
     "execution_count": 72,
     "metadata": {},
     "output_type": "execute_result"
    }
   ],
   "source": [
    "other_profit_result"
   ]
  },
  {
   "cell_type": "code",
   "execution_count": 73,
   "metadata": {},
   "outputs": [
    {
     "data": {
      "text/plain": [
       "544697.9925375014"
      ]
     },
     "execution_count": 73,
     "metadata": {},
     "output_type": "execute_result"
    }
   ],
   "source": [
    " np.var(moscow_profit_result)"
   ]
  },
  {
   "cell_type": "code",
   "execution_count": 74,
   "metadata": {},
   "outputs": [
    {
     "data": {
      "text/plain": [
       "613382.6225168307"
      ]
     },
     "execution_count": 74,
     "metadata": {},
     "output_type": "execute_result"
    }
   ],
   "source": [
    " np.var(other_profit_result)"
   ]
  },
  {
   "cell_type": "code",
   "execution_count": 75,
   "metadata": {},
   "outputs": [
    {
     "name": "stdout",
     "output_type": "stream",
     "text": [
      "p-значение: 0.3868632726686817\n",
      "Не получилось отвергнуть нулевую гипотезу\n"
     ]
    }
   ],
   "source": [
    "alpha = 0.05\n",
    "\n",
    "results = st.ttest_ind(moscow_profit_result, other_profit_result)\n",
    "\n",
    "print('p-значение:', results.pvalue)\n",
    "\n",
    "if (results.pvalue < alpha):\n",
    "    print(\"Отвергаем нулевую гипотезу\")\n",
    "else:\n",
    "    print(\"Не получилось отвергнуть нулевую гипотезу\")"
   ]
  },
  {
   "cell_type": "markdown",
   "metadata": {},
   "source": [
    "Для меня стало открытием, но в соответствии с тестом получается, что вторая гипотеза не подтверждается. Значит доходы в Москве не особо отличаются от доходов в других регионах (по хорошему в реальной практике все же кажется, что есть смысл разделить на мск + питер, милионники и другие)."
   ]
  },
  {
   "cell_type": "markdown",
   "metadata": {},
   "source": [
    "## Общий вывод"
   ]
  },
  {
   "cell_type": "markdown",
   "metadata": {},
   "source": [
    "По результатам статистического анализа доходы от тарифа «Ультра» больше, чем от тарифа «Смарт» в среднем, но и тариф ультра дороже.\n",
    "Пользователи обоих тарифов укладываются в среднем в лимиты пакетов, в тарифе ультра даже тратят меньше минут на звонки, чем входит в тариф (что для выручки хорошо). В сообщениях также пользователи укладываются в лимиты, при этом  используют эту опцию мало. С интернетом несколько другая картина - пользователи смарта выходят за предедлы лимита и доплачивают сверх тарифа. Даже если бы средний пользователь перешел с тарифа ультра на смарт, то в итоге платил бы меньше, чем стоит пакет ультра. \n",
    "Пользователей тарифа смарт больше, возможно поэтому выручка оказалась больше ~30%, и можно было бы рекомендовать продвижение тарифа смарт, но в данном случае не учитываются затраты на обслуживание. Так как меньшее количество пользователей с более дорогим тарифом требует меньше вложений в обслуживание, и если увеличить с помощью продвижения долю абонентов тарифа ультра, вполне можно проверить гипотезу, что выручка будет больше (а  если подтвердится гипотеза с городами милионниками, то есть смысл делить тарифы в зависимости от гео). Пока что по имеющимся данным средние доходы от пользователей в Москве не отличаются от доходов в других населенных пунктах: разница статистически незначима."
   ]
  }
 ],
 "metadata": {
  "ExecuteTimeLog": [
   {
    "duration": 1514,
    "start_time": "2022-01-26T08:43:27.984Z"
   },
   {
    "duration": 567,
    "start_time": "2022-01-26T08:53:06.833Z"
   },
   {
    "duration": 927,
    "start_time": "2022-01-26T08:53:18.824Z"
   },
   {
    "duration": 813,
    "start_time": "2022-01-26T08:53:25.568Z"
   },
   {
    "duration": 551,
    "start_time": "2022-01-26T08:53:34.409Z"
   },
   {
    "duration": 592,
    "start_time": "2022-01-26T08:54:37.916Z"
   },
   {
    "duration": 584,
    "start_time": "2022-01-26T08:55:01.379Z"
   },
   {
    "duration": 4,
    "start_time": "2022-01-26T08:58:31.990Z"
   },
   {
    "duration": 21,
    "start_time": "2022-01-26T08:58:49.590Z"
   },
   {
    "duration": 4,
    "start_time": "2022-01-26T08:59:23.886Z"
   },
   {
    "duration": 18,
    "start_time": "2022-01-26T09:00:17.636Z"
   },
   {
    "duration": 404,
    "start_time": "2022-01-26T09:00:45.519Z"
   },
   {
    "duration": 9,
    "start_time": "2022-01-26T09:01:46.405Z"
   },
   {
    "duration": 8,
    "start_time": "2022-01-26T09:01:52.619Z"
   },
   {
    "duration": 593,
    "start_time": "2022-01-26T09:02:57.245Z"
   },
   {
    "duration": 567,
    "start_time": "2022-01-26T09:03:12.207Z"
   },
   {
    "duration": 18,
    "start_time": "2022-01-26T09:03:46.871Z"
   },
   {
    "duration": 17,
    "start_time": "2022-01-26T09:03:52.226Z"
   },
   {
    "duration": 4,
    "start_time": "2022-01-26T09:04:26.640Z"
   },
   {
    "duration": 256,
    "start_time": "2022-01-26T09:04:34.627Z"
   },
   {
    "duration": 545,
    "start_time": "2022-01-26T09:05:06.416Z"
   },
   {
    "duration": 30,
    "start_time": "2022-01-26T09:05:08.168Z"
   },
   {
    "duration": 581,
    "start_time": "2022-01-26T09:05:43.153Z"
   },
   {
    "duration": 39,
    "start_time": "2022-01-26T09:05:43.736Z"
   },
   {
    "duration": 20,
    "start_time": "2022-01-26T09:06:42.097Z"
   },
   {
    "duration": 4,
    "start_time": "2022-01-26T09:06:51.905Z"
   },
   {
    "duration": 600,
    "start_time": "2022-01-26T09:06:52.851Z"
   },
   {
    "duration": 21,
    "start_time": "2022-01-26T09:06:53.549Z"
   },
   {
    "duration": 16,
    "start_time": "2022-01-26T09:15:18.949Z"
   },
   {
    "duration": 346,
    "start_time": "2022-01-26T09:19:09.228Z"
   },
   {
    "duration": 279,
    "start_time": "2022-01-26T09:19:18.372Z"
   },
   {
    "duration": 7,
    "start_time": "2022-01-26T09:21:38.025Z"
   },
   {
    "duration": 6,
    "start_time": "2022-01-26T09:21:50.220Z"
   },
   {
    "duration": 18,
    "start_time": "2022-01-26T09:22:43.230Z"
   },
   {
    "duration": 7,
    "start_time": "2022-01-26T09:25:00.000Z"
   },
   {
    "duration": 8,
    "start_time": "2022-01-26T09:25:20.495Z"
   },
   {
    "duration": 10,
    "start_time": "2022-01-26T09:26:20.926Z"
   },
   {
    "duration": 12,
    "start_time": "2022-01-26T09:32:53.463Z"
   },
   {
    "duration": 12,
    "start_time": "2022-01-26T09:41:13.840Z"
   },
   {
    "duration": 13,
    "start_time": "2022-01-26T09:41:29.091Z"
   },
   {
    "duration": 12,
    "start_time": "2022-01-26T09:43:05.781Z"
   },
   {
    "duration": 12,
    "start_time": "2022-01-26T09:44:49.267Z"
   },
   {
    "duration": 24,
    "start_time": "2022-01-26T09:46:57.279Z"
   },
   {
    "duration": 13,
    "start_time": "2022-01-26T09:52:31.811Z"
   },
   {
    "duration": 14,
    "start_time": "2022-01-26T09:52:37.140Z"
   },
   {
    "duration": 7,
    "start_time": "2022-01-26T09:53:09.546Z"
   },
   {
    "duration": 13,
    "start_time": "2022-01-26T09:54:32.320Z"
   },
   {
    "duration": 12,
    "start_time": "2022-01-26T09:54:39.328Z"
   },
   {
    "duration": 4,
    "start_time": "2022-01-26T09:59:47.055Z"
   },
   {
    "duration": 11,
    "start_time": "2022-01-26T10:15:07.514Z"
   },
   {
    "duration": 12,
    "start_time": "2022-01-26T10:15:08.398Z"
   },
   {
    "duration": 268,
    "start_time": "2022-01-26T10:15:10.032Z"
   },
   {
    "duration": 87,
    "start_time": "2022-01-26T10:15:57.804Z"
   },
   {
    "duration": 187,
    "start_time": "2022-01-26T10:17:12.171Z"
   },
   {
    "duration": 17,
    "start_time": "2022-01-26T10:17:16.983Z"
   },
   {
    "duration": 16,
    "start_time": "2022-01-26T10:18:05.853Z"
   },
   {
    "duration": 14,
    "start_time": "2022-01-26T10:18:33.650Z"
   },
   {
    "duration": 19,
    "start_time": "2022-01-26T10:23:16.757Z"
   },
   {
    "duration": 19,
    "start_time": "2022-01-26T10:23:28.434Z"
   },
   {
    "duration": 14,
    "start_time": "2022-01-26T10:23:32.610Z"
   },
   {
    "duration": 14,
    "start_time": "2022-01-26T10:23:38.458Z"
   },
   {
    "duration": 7,
    "start_time": "2022-01-26T10:29:24.177Z"
   },
   {
    "duration": 9,
    "start_time": "2022-01-26T10:30:22.967Z"
   },
   {
    "duration": 30,
    "start_time": "2022-01-26T10:31:05.416Z"
   },
   {
    "duration": 11,
    "start_time": "2022-01-26T10:31:38.269Z"
   },
   {
    "duration": 11,
    "start_time": "2022-01-26T10:31:59.416Z"
   },
   {
    "duration": 19,
    "start_time": "2022-01-26T10:32:12.599Z"
   },
   {
    "duration": 10,
    "start_time": "2022-01-26T10:32:13.213Z"
   },
   {
    "duration": 10,
    "start_time": "2022-01-26T10:32:13.937Z"
   },
   {
    "duration": 35,
    "start_time": "2022-01-26T10:32:49.991Z"
   },
   {
    "duration": 16,
    "start_time": "2022-01-26T10:32:50.570Z"
   },
   {
    "duration": 10,
    "start_time": "2022-01-26T10:32:51.204Z"
   },
   {
    "duration": 470,
    "start_time": "2022-01-26T17:46:07.567Z"
   },
   {
    "duration": 1150,
    "start_time": "2022-01-26T17:46:19.209Z"
   },
   {
    "duration": 453,
    "start_time": "2022-01-26T17:46:20.361Z"
   },
   {
    "duration": 13,
    "start_time": "2022-01-26T17:46:20.816Z"
   },
   {
    "duration": 13,
    "start_time": "2022-01-26T17:46:20.831Z"
   },
   {
    "duration": 32,
    "start_time": "2022-01-26T17:46:20.846Z"
   },
   {
    "duration": 7,
    "start_time": "2022-01-26T17:46:20.880Z"
   },
   {
    "duration": 9,
    "start_time": "2022-01-26T17:46:20.897Z"
   },
   {
    "duration": 28,
    "start_time": "2022-01-26T17:46:20.909Z"
   },
   {
    "duration": 11,
    "start_time": "2022-01-26T17:46:20.940Z"
   },
   {
    "duration": 12,
    "start_time": "2022-01-26T17:46:20.953Z"
   },
   {
    "duration": 35,
    "start_time": "2022-01-26T17:46:20.966Z"
   },
   {
    "duration": 74,
    "start_time": "2022-01-26T17:46:21.003Z"
   },
   {
    "duration": 20,
    "start_time": "2022-01-26T17:46:21.079Z"
   },
   {
    "duration": 32,
    "start_time": "2022-01-26T17:46:21.101Z"
   },
   {
    "duration": 7,
    "start_time": "2022-01-26T17:46:21.134Z"
   },
   {
    "duration": 11,
    "start_time": "2022-01-26T17:46:21.143Z"
   },
   {
    "duration": 252,
    "start_time": "2022-01-26T17:46:21.156Z"
   },
   {
    "duration": 199,
    "start_time": "2022-01-26T17:46:36.244Z"
   },
   {
    "duration": 23,
    "start_time": "2022-01-26T17:48:08.326Z"
   },
   {
    "duration": 10,
    "start_time": "2022-01-26T17:48:26.874Z"
   },
   {
    "duration": 220,
    "start_time": "2022-01-26T17:54:04.223Z"
   },
   {
    "duration": 1200,
    "start_time": "2022-01-26T17:54:08.021Z"
   },
   {
    "duration": 612,
    "start_time": "2022-01-26T17:54:09.223Z"
   },
   {
    "duration": 12,
    "start_time": "2022-01-26T17:54:09.837Z"
   },
   {
    "duration": 11,
    "start_time": "2022-01-26T17:54:09.851Z"
   },
   {
    "duration": 39,
    "start_time": "2022-01-26T17:54:09.864Z"
   },
   {
    "duration": 8,
    "start_time": "2022-01-26T17:54:09.905Z"
   },
   {
    "duration": 18,
    "start_time": "2022-01-26T17:54:09.915Z"
   },
   {
    "duration": 20,
    "start_time": "2022-01-26T17:54:09.936Z"
   },
   {
    "duration": 12,
    "start_time": "2022-01-26T17:54:09.958Z"
   },
   {
    "duration": 36,
    "start_time": "2022-01-26T17:54:09.972Z"
   },
   {
    "duration": 9,
    "start_time": "2022-01-26T17:54:10.010Z"
   },
   {
    "duration": 97,
    "start_time": "2022-01-26T17:54:10.022Z"
   },
   {
    "duration": 9,
    "start_time": "2022-01-26T17:54:10.121Z"
   },
   {
    "duration": 33,
    "start_time": "2022-01-26T17:54:10.132Z"
   },
   {
    "duration": 7,
    "start_time": "2022-01-26T17:54:10.167Z"
   },
   {
    "duration": 8,
    "start_time": "2022-01-26T17:54:10.197Z"
   },
   {
    "duration": 22,
    "start_time": "2022-01-26T17:54:10.207Z"
   },
   {
    "duration": 8,
    "start_time": "2022-01-26T17:54:10.231Z"
   },
   {
    "duration": 128,
    "start_time": "2022-01-26T17:54:10.241Z"
   },
   {
    "duration": 91,
    "start_time": "2022-01-26T17:57:25.380Z"
   },
   {
    "duration": 15,
    "start_time": "2022-01-26T17:57:31.331Z"
   },
   {
    "duration": 746,
    "start_time": "2022-01-26T17:58:45.749Z"
   },
   {
    "duration": 768,
    "start_time": "2022-01-26T17:59:16.396Z"
   },
   {
    "duration": 15,
    "start_time": "2022-01-26T17:59:17.257Z"
   },
   {
    "duration": 818,
    "start_time": "2022-01-26T18:02:41.321Z"
   },
   {
    "duration": 858,
    "start_time": "2022-01-26T18:07:03.818Z"
   },
   {
    "duration": 87,
    "start_time": "2022-01-26T18:07:49.675Z"
   },
   {
    "duration": 748,
    "start_time": "2022-01-26T18:11:19.599Z"
   },
   {
    "duration": 767,
    "start_time": "2022-01-26T18:17:38.135Z"
   },
   {
    "duration": 276,
    "start_time": "2022-01-26T18:18:05.311Z"
   },
   {
    "duration": 96,
    "start_time": "2022-01-26T18:18:20.222Z"
   },
   {
    "duration": 99,
    "start_time": "2022-01-26T18:18:33.542Z"
   },
   {
    "duration": 63,
    "start_time": "2022-01-26T18:18:50.296Z"
   },
   {
    "duration": 60,
    "start_time": "2022-01-26T18:19:03.591Z"
   },
   {
    "duration": 221,
    "start_time": "2022-01-26T18:20:44.734Z"
   },
   {
    "duration": 1171,
    "start_time": "2022-01-26T18:20:49.024Z"
   },
   {
    "duration": 602,
    "start_time": "2022-01-26T18:20:50.197Z"
   },
   {
    "duration": 13,
    "start_time": "2022-01-26T18:20:50.802Z"
   },
   {
    "duration": 11,
    "start_time": "2022-01-26T18:20:50.818Z"
   },
   {
    "duration": 22,
    "start_time": "2022-01-26T18:20:50.831Z"
   },
   {
    "duration": 8,
    "start_time": "2022-01-26T18:20:50.855Z"
   },
   {
    "duration": 38,
    "start_time": "2022-01-26T18:20:50.865Z"
   },
   {
    "duration": 19,
    "start_time": "2022-01-26T18:20:50.906Z"
   },
   {
    "duration": 11,
    "start_time": "2022-01-26T18:20:50.927Z"
   },
   {
    "duration": 13,
    "start_time": "2022-01-26T18:20:50.940Z"
   },
   {
    "duration": 7,
    "start_time": "2022-01-26T18:20:50.955Z"
   },
   {
    "duration": 110,
    "start_time": "2022-01-26T18:20:50.964Z"
   },
   {
    "duration": 22,
    "start_time": "2022-01-26T18:20:51.075Z"
   },
   {
    "duration": 36,
    "start_time": "2022-01-26T18:20:51.100Z"
   },
   {
    "duration": 8,
    "start_time": "2022-01-26T18:20:51.138Z"
   },
   {
    "duration": 8,
    "start_time": "2022-01-26T18:20:51.148Z"
   },
   {
    "duration": 52,
    "start_time": "2022-01-26T18:20:51.157Z"
   },
   {
    "duration": 10,
    "start_time": "2022-01-26T18:20:51.211Z"
   },
   {
    "duration": 80,
    "start_time": "2022-01-26T18:20:51.222Z"
   },
   {
    "duration": 30,
    "start_time": "2022-01-26T18:24:09.798Z"
   },
   {
    "duration": 331,
    "start_time": "2022-01-26T18:25:42.544Z"
   },
   {
    "duration": 35,
    "start_time": "2022-01-26T18:26:01.517Z"
   },
   {
    "duration": 53,
    "start_time": "2022-01-26T18:27:52.133Z"
   },
   {
    "duration": 41,
    "start_time": "2022-01-26T18:31:14.591Z"
   },
   {
    "duration": 244,
    "start_time": "2022-01-26T18:40:53.889Z"
   },
   {
    "duration": 186,
    "start_time": "2022-01-26T18:41:03.136Z"
   },
   {
    "duration": 26,
    "start_time": "2022-01-26T18:41:12.883Z"
   },
   {
    "duration": 15,
    "start_time": "2022-01-26T18:41:20.918Z"
   },
   {
    "duration": 29,
    "start_time": "2022-01-26T18:42:33.594Z"
   },
   {
    "duration": 14,
    "start_time": "2022-01-26T18:42:34.703Z"
   },
   {
    "duration": 185,
    "start_time": "2022-01-26T18:43:01.358Z"
   },
   {
    "duration": 14,
    "start_time": "2022-01-26T18:43:01.994Z"
   },
   {
    "duration": 31,
    "start_time": "2022-01-26T18:43:18.638Z"
   },
   {
    "duration": 15,
    "start_time": "2022-01-26T18:43:19.392Z"
   },
   {
    "duration": 187,
    "start_time": "2022-01-26T18:45:22.641Z"
   },
   {
    "duration": 14,
    "start_time": "2022-01-26T18:45:23.499Z"
   },
   {
    "duration": 176,
    "start_time": "2022-01-26T18:46:07.719Z"
   },
   {
    "duration": 19,
    "start_time": "2022-01-26T18:47:42.906Z"
   },
   {
    "duration": 27,
    "start_time": "2022-01-26T18:47:43.726Z"
   },
   {
    "duration": 5,
    "start_time": "2022-01-26T18:48:43.564Z"
   },
   {
    "duration": 4306,
    "start_time": "2022-01-26T18:50:31.815Z"
   },
   {
    "duration": 4458,
    "start_time": "2022-01-26T18:50:58.444Z"
   },
   {
    "duration": 4573,
    "start_time": "2022-01-26T18:51:19.863Z"
   },
   {
    "duration": 15,
    "start_time": "2022-01-26T18:51:57.920Z"
   },
   {
    "duration": 182,
    "start_time": "2022-01-26T19:06:26.442Z"
   },
   {
    "duration": 17,
    "start_time": "2022-01-26T19:07:09.071Z"
   },
   {
    "duration": 20,
    "start_time": "2022-01-26T19:07:15.622Z"
   },
   {
    "duration": 18,
    "start_time": "2022-01-26T19:08:17.601Z"
   },
   {
    "duration": 19,
    "start_time": "2022-01-26T19:08:18.138Z"
   },
   {
    "duration": 27,
    "start_time": "2022-01-26T19:09:34.122Z"
   },
   {
    "duration": 246,
    "start_time": "2022-01-27T10:33:17.014Z"
   },
   {
    "duration": 1074,
    "start_time": "2022-01-27T10:33:21.453Z"
   },
   {
    "duration": 422,
    "start_time": "2022-01-27T10:33:22.529Z"
   },
   {
    "duration": 13,
    "start_time": "2022-01-27T10:33:22.953Z"
   },
   {
    "duration": 10,
    "start_time": "2022-01-27T10:33:22.967Z"
   },
   {
    "duration": 36,
    "start_time": "2022-01-27T10:33:22.978Z"
   },
   {
    "duration": 7,
    "start_time": "2022-01-27T10:33:23.016Z"
   },
   {
    "duration": 9,
    "start_time": "2022-01-27T10:33:23.024Z"
   },
   {
    "duration": 17,
    "start_time": "2022-01-27T10:33:23.036Z"
   },
   {
    "duration": 11,
    "start_time": "2022-01-27T10:33:23.054Z"
   },
   {
    "duration": 48,
    "start_time": "2022-01-27T10:33:23.066Z"
   },
   {
    "duration": 8,
    "start_time": "2022-01-27T10:33:23.116Z"
   },
   {
    "duration": 64,
    "start_time": "2022-01-27T10:33:23.126Z"
   },
   {
    "duration": 25,
    "start_time": "2022-01-27T10:33:23.192Z"
   },
   {
    "duration": 31,
    "start_time": "2022-01-27T10:33:23.218Z"
   },
   {
    "duration": 8,
    "start_time": "2022-01-27T10:33:23.251Z"
   },
   {
    "duration": 13,
    "start_time": "2022-01-27T10:33:23.260Z"
   },
   {
    "duration": 54,
    "start_time": "2022-01-27T10:33:23.275Z"
   },
   {
    "duration": 9,
    "start_time": "2022-01-27T10:33:23.331Z"
   },
   {
    "duration": 8,
    "start_time": "2022-01-27T10:33:27.064Z"
   },
   {
    "duration": 69,
    "start_time": "2022-01-27T10:33:28.009Z"
   },
   {
    "duration": 59,
    "start_time": "2022-01-27T10:33:38.424Z"
   },
   {
    "duration": 255,
    "start_time": "2022-01-27T10:34:01.864Z"
   },
   {
    "duration": 2,
    "start_time": "2022-01-27T10:34:26.370Z"
   },
   {
    "duration": 435,
    "start_time": "2022-01-27T10:34:26.374Z"
   },
   {
    "duration": 9,
    "start_time": "2022-01-27T10:34:26.811Z"
   },
   {
    "duration": 10,
    "start_time": "2022-01-27T10:34:26.822Z"
   },
   {
    "duration": 14,
    "start_time": "2022-01-27T10:34:26.834Z"
   },
   {
    "duration": 8,
    "start_time": "2022-01-27T10:34:26.849Z"
   },
   {
    "duration": 9,
    "start_time": "2022-01-27T10:34:26.860Z"
   },
   {
    "duration": 55,
    "start_time": "2022-01-27T10:34:26.871Z"
   },
   {
    "duration": 9,
    "start_time": "2022-01-27T10:34:26.927Z"
   },
   {
    "duration": 11,
    "start_time": "2022-01-27T10:34:26.938Z"
   },
   {
    "duration": 7,
    "start_time": "2022-01-27T10:34:26.950Z"
   },
   {
    "duration": 94,
    "start_time": "2022-01-27T10:34:26.959Z"
   },
   {
    "duration": 7,
    "start_time": "2022-01-27T10:34:27.055Z"
   },
   {
    "duration": 25,
    "start_time": "2022-01-27T10:34:27.064Z"
   },
   {
    "duration": 23,
    "start_time": "2022-01-27T10:34:27.091Z"
   },
   {
    "duration": 6,
    "start_time": "2022-01-27T10:34:27.115Z"
   },
   {
    "duration": 21,
    "start_time": "2022-01-27T10:34:27.123Z"
   },
   {
    "duration": 8,
    "start_time": "2022-01-27T10:34:27.146Z"
   },
   {
    "duration": 68,
    "start_time": "2022-01-27T10:34:27.156Z"
   },
   {
    "duration": 29,
    "start_time": "2022-01-27T10:34:27.226Z"
   },
   {
    "duration": 30,
    "start_time": "2022-01-27T10:34:27.256Z"
   },
   {
    "duration": 57,
    "start_time": "2022-01-27T10:34:27.288Z"
   },
   {
    "duration": 12,
    "start_time": "2022-01-27T10:34:27.347Z"
   },
   {
    "duration": 15,
    "start_time": "2022-01-27T10:34:27.361Z"
   },
   {
    "duration": 35,
    "start_time": "2022-01-27T10:34:27.378Z"
   },
   {
    "duration": 248,
    "start_time": "2022-01-27T10:34:27.415Z"
   },
   {
    "duration": 24,
    "start_time": "2022-01-27T10:36:08.765Z"
   },
   {
    "duration": 3,
    "start_time": "2022-01-27T10:36:12.515Z"
   },
   {
    "duration": 428,
    "start_time": "2022-01-27T10:36:12.531Z"
   },
   {
    "duration": 9,
    "start_time": "2022-01-27T10:36:12.961Z"
   },
   {
    "duration": 9,
    "start_time": "2022-01-27T10:36:12.972Z"
   },
   {
    "duration": 36,
    "start_time": "2022-01-27T10:36:12.982Z"
   },
   {
    "duration": 7,
    "start_time": "2022-01-27T10:36:13.019Z"
   },
   {
    "duration": 10,
    "start_time": "2022-01-27T10:36:13.028Z"
   },
   {
    "duration": 17,
    "start_time": "2022-01-27T10:36:13.039Z"
   },
   {
    "duration": 9,
    "start_time": "2022-01-27T10:36:13.057Z"
   },
   {
    "duration": 10,
    "start_time": "2022-01-27T10:36:13.068Z"
   },
   {
    "duration": 38,
    "start_time": "2022-01-27T10:36:13.080Z"
   },
   {
    "duration": 60,
    "start_time": "2022-01-27T10:36:13.120Z"
   },
   {
    "duration": 5,
    "start_time": "2022-01-27T10:36:13.182Z"
   },
   {
    "duration": 41,
    "start_time": "2022-01-27T10:36:13.189Z"
   },
   {
    "duration": 7,
    "start_time": "2022-01-27T10:36:13.231Z"
   },
   {
    "duration": 6,
    "start_time": "2022-01-27T10:36:13.240Z"
   },
   {
    "duration": 22,
    "start_time": "2022-01-27T10:36:13.248Z"
   },
   {
    "duration": 8,
    "start_time": "2022-01-27T10:36:13.272Z"
   },
   {
    "duration": 80,
    "start_time": "2022-01-27T10:36:13.282Z"
   },
   {
    "duration": 29,
    "start_time": "2022-01-27T10:36:13.364Z"
   },
   {
    "duration": 47,
    "start_time": "2022-01-27T10:36:13.395Z"
   },
   {
    "duration": 38,
    "start_time": "2022-01-27T10:36:13.443Z"
   },
   {
    "duration": 33,
    "start_time": "2022-01-27T10:36:13.483Z"
   },
   {
    "duration": 23,
    "start_time": "2022-01-27T10:36:13.517Z"
   },
   {
    "duration": 15,
    "start_time": "2022-01-27T10:36:13.541Z"
   },
   {
    "duration": 207,
    "start_time": "2022-01-27T10:36:13.557Z"
   },
   {
    "duration": 14,
    "start_time": "2022-01-27T10:39:28.537Z"
   },
   {
    "duration": 17,
    "start_time": "2022-01-27T10:39:29.665Z"
   },
   {
    "duration": 23,
    "start_time": "2022-01-27T10:39:52.108Z"
   },
   {
    "duration": 198,
    "start_time": "2022-01-27T10:40:53.622Z"
   },
   {
    "duration": 207,
    "start_time": "2022-01-27T10:40:56.958Z"
   },
   {
    "duration": 23,
    "start_time": "2022-01-27T10:41:06.126Z"
   },
   {
    "duration": 1308,
    "start_time": "2022-01-27T10:46:47.525Z"
   },
   {
    "duration": 24,
    "start_time": "2022-01-27T10:46:58.504Z"
   },
   {
    "duration": 25,
    "start_time": "2022-01-27T10:53:33.929Z"
   },
   {
    "duration": 15,
    "start_time": "2022-01-27T10:53:35.343Z"
   },
   {
    "duration": 808,
    "start_time": "2022-01-27T10:53:56.770Z"
   },
   {
    "duration": 2388,
    "start_time": "2022-01-27T10:54:19.595Z"
   },
   {
    "duration": 15,
    "start_time": "2022-01-27T10:54:31.491Z"
   },
   {
    "duration": 22,
    "start_time": "2022-01-27T10:54:49.697Z"
   },
   {
    "duration": 26,
    "start_time": "2022-01-27T10:55:02.522Z"
   },
   {
    "duration": 23,
    "start_time": "2022-01-27T10:55:22.728Z"
   },
   {
    "duration": 201,
    "start_time": "2022-01-27T11:06:49.425Z"
   },
   {
    "duration": 5,
    "start_time": "2022-01-27T11:07:15.440Z"
   },
   {
    "duration": 5186,
    "start_time": "2022-01-27T11:07:27.853Z"
   },
   {
    "duration": 12,
    "start_time": "2022-01-27T11:10:44.374Z"
   },
   {
    "duration": 6106,
    "start_time": "2022-01-27T11:20:43.057Z"
   },
   {
    "duration": 5377,
    "start_time": "2022-01-27T11:21:19.443Z"
   },
   {
    "duration": 17,
    "start_time": "2022-01-27T11:21:58.496Z"
   },
   {
    "duration": 15,
    "start_time": "2022-01-27T11:22:28.622Z"
   },
   {
    "duration": 15,
    "start_time": "2022-01-27T11:22:37.717Z"
   },
   {
    "duration": 295,
    "start_time": "2022-01-27T11:25:43.889Z"
   },
   {
    "duration": 4,
    "start_time": "2022-01-27T11:26:10.704Z"
   },
   {
    "duration": 16,
    "start_time": "2022-01-27T11:28:33.588Z"
   },
   {
    "duration": 17,
    "start_time": "2022-01-27T11:29:46.821Z"
   },
   {
    "duration": 30,
    "start_time": "2022-01-27T11:32:02.587Z"
   },
   {
    "duration": 18,
    "start_time": "2022-01-27T11:32:30.680Z"
   },
   {
    "duration": 42,
    "start_time": "2022-01-27T11:32:58.144Z"
   },
   {
    "duration": 30,
    "start_time": "2022-01-27T11:32:58.789Z"
   },
   {
    "duration": 30,
    "start_time": "2022-01-27T11:32:59.232Z"
   },
   {
    "duration": 24,
    "start_time": "2022-01-27T11:32:59.472Z"
   },
   {
    "duration": 27,
    "start_time": "2022-01-27T11:32:59.724Z"
   },
   {
    "duration": 3,
    "start_time": "2022-01-27T11:33:00.029Z"
   },
   {
    "duration": 18,
    "start_time": "2022-01-27T11:33:00.986Z"
   },
   {
    "duration": 21,
    "start_time": "2022-01-27T11:33:24.866Z"
   },
   {
    "duration": 26,
    "start_time": "2022-01-27T11:33:53.223Z"
   },
   {
    "duration": 4,
    "start_time": "2022-01-27T11:33:55.767Z"
   },
   {
    "duration": 17,
    "start_time": "2022-01-27T11:33:58.005Z"
   },
   {
    "duration": 17,
    "start_time": "2022-01-27T11:34:17.209Z"
   },
   {
    "duration": 43,
    "start_time": "2022-01-27T11:35:23.303Z"
   },
   {
    "duration": 31,
    "start_time": "2022-01-27T11:35:24.063Z"
   },
   {
    "duration": 33,
    "start_time": "2022-01-27T11:35:24.575Z"
   },
   {
    "duration": 25,
    "start_time": "2022-01-27T11:35:24.848Z"
   },
   {
    "duration": 28,
    "start_time": "2022-01-27T11:35:25.105Z"
   },
   {
    "duration": 3,
    "start_time": "2022-01-27T11:35:25.462Z"
   },
   {
    "duration": 17,
    "start_time": "2022-01-27T11:35:26.801Z"
   },
   {
    "duration": 4,
    "start_time": "2022-01-27T11:35:42.472Z"
   },
   {
    "duration": 442,
    "start_time": "2022-01-27T11:35:42.478Z"
   },
   {
    "duration": 13,
    "start_time": "2022-01-27T11:35:42.923Z"
   },
   {
    "duration": 8,
    "start_time": "2022-01-27T11:35:42.938Z"
   },
   {
    "duration": 14,
    "start_time": "2022-01-27T11:35:42.948Z"
   },
   {
    "duration": 4,
    "start_time": "2022-01-27T11:35:42.964Z"
   },
   {
    "duration": 39,
    "start_time": "2022-01-27T11:35:42.973Z"
   },
   {
    "duration": 13,
    "start_time": "2022-01-27T11:35:43.017Z"
   },
   {
    "duration": 14,
    "start_time": "2022-01-27T11:35:43.033Z"
   },
   {
    "duration": 9,
    "start_time": "2022-01-27T11:35:43.049Z"
   },
   {
    "duration": 9,
    "start_time": "2022-01-27T11:35:43.060Z"
   },
   {
    "duration": 47,
    "start_time": "2022-01-27T11:35:43.071Z"
   },
   {
    "duration": 61,
    "start_time": "2022-01-27T11:35:43.122Z"
   },
   {
    "duration": 29,
    "start_time": "2022-01-27T11:35:43.185Z"
   },
   {
    "duration": 31,
    "start_time": "2022-01-27T11:35:43.216Z"
   },
   {
    "duration": 6,
    "start_time": "2022-01-27T11:35:43.249Z"
   },
   {
    "duration": 6,
    "start_time": "2022-01-27T11:35:43.257Z"
   },
   {
    "duration": 13,
    "start_time": "2022-01-27T11:35:43.265Z"
   },
   {
    "duration": 52,
    "start_time": "2022-01-27T11:35:43.281Z"
   },
   {
    "duration": 10,
    "start_time": "2022-01-27T11:35:43.335Z"
   },
   {
    "duration": 70,
    "start_time": "2022-01-27T11:35:43.347Z"
   },
   {
    "duration": 31,
    "start_time": "2022-01-27T11:35:43.420Z"
   },
   {
    "duration": 31,
    "start_time": "2022-01-27T11:35:43.453Z"
   },
   {
    "duration": 54,
    "start_time": "2022-01-27T11:35:43.486Z"
   },
   {
    "duration": 26,
    "start_time": "2022-01-27T11:35:43.542Z"
   },
   {
    "duration": 4,
    "start_time": "2022-01-27T11:35:43.570Z"
   },
   {
    "duration": 47,
    "start_time": "2022-01-27T11:35:43.576Z"
   },
   {
    "duration": 893,
    "start_time": "2022-01-27T11:37:34.325Z"
   },
   {
    "duration": 48,
    "start_time": "2022-01-27T11:37:43.876Z"
   },
   {
    "duration": 22,
    "start_time": "2022-01-27T11:38:04.235Z"
   },
   {
    "duration": 929,
    "start_time": "2022-01-27T11:39:54.388Z"
   },
   {
    "duration": 24,
    "start_time": "2022-01-27T11:40:09.215Z"
   },
   {
    "duration": 808,
    "start_time": "2022-01-27T11:42:19.066Z"
   },
   {
    "duration": 31,
    "start_time": "2022-01-27T11:43:10.012Z"
   },
   {
    "duration": 244,
    "start_time": "2022-01-27T11:43:29.974Z"
   },
   {
    "duration": 19,
    "start_time": "2022-01-27T11:43:41.782Z"
   },
   {
    "duration": 42,
    "start_time": "2022-01-27T13:19:07.186Z"
   },
   {
    "duration": 30,
    "start_time": "2022-01-27T13:19:07.839Z"
   },
   {
    "duration": 30,
    "start_time": "2022-01-27T13:19:08.443Z"
   },
   {
    "duration": 24,
    "start_time": "2022-01-27T13:19:09.091Z"
   },
   {
    "duration": 26,
    "start_time": "2022-01-27T13:19:32.398Z"
   },
   {
    "duration": 4,
    "start_time": "2022-01-27T13:19:33.433Z"
   },
   {
    "duration": 18,
    "start_time": "2022-01-27T13:19:34.185Z"
   },
   {
    "duration": 4,
    "start_time": "2022-01-27T15:00:41.266Z"
   },
   {
    "duration": 6,
    "start_time": "2022-01-27T15:18:11.218Z"
   },
   {
    "duration": 10,
    "start_time": "2022-01-27T15:19:10.038Z"
   },
   {
    "duration": 16,
    "start_time": "2022-01-27T15:23:40.619Z"
   },
   {
    "duration": 8,
    "start_time": "2022-01-27T15:26:52.559Z"
   },
   {
    "duration": 3,
    "start_time": "2022-01-27T15:27:47.098Z"
   },
   {
    "duration": 412,
    "start_time": "2022-01-27T15:27:47.103Z"
   },
   {
    "duration": 10,
    "start_time": "2022-01-27T15:27:47.517Z"
   },
   {
    "duration": 12,
    "start_time": "2022-01-27T15:27:47.529Z"
   },
   {
    "duration": 21,
    "start_time": "2022-01-27T15:27:47.543Z"
   },
   {
    "duration": 5,
    "start_time": "2022-01-27T15:27:47.565Z"
   },
   {
    "duration": 16,
    "start_time": "2022-01-27T15:27:47.572Z"
   },
   {
    "duration": 23,
    "start_time": "2022-01-27T15:27:47.590Z"
   },
   {
    "duration": 23,
    "start_time": "2022-01-27T15:27:47.614Z"
   },
   {
    "duration": 8,
    "start_time": "2022-01-27T15:27:47.639Z"
   },
   {
    "duration": 17,
    "start_time": "2022-01-27T15:27:47.648Z"
   },
   {
    "duration": 10,
    "start_time": "2022-01-27T15:27:47.667Z"
   },
   {
    "duration": 74,
    "start_time": "2022-01-27T15:27:47.678Z"
   },
   {
    "duration": 5,
    "start_time": "2022-01-27T15:27:47.754Z"
   },
   {
    "duration": 23,
    "start_time": "2022-01-27T15:27:47.760Z"
   },
   {
    "duration": 6,
    "start_time": "2022-01-27T15:27:47.784Z"
   },
   {
    "duration": 6,
    "start_time": "2022-01-27T15:27:47.812Z"
   },
   {
    "duration": 10,
    "start_time": "2022-01-27T15:27:47.820Z"
   },
   {
    "duration": 21,
    "start_time": "2022-01-27T15:27:47.833Z"
   },
   {
    "duration": 7,
    "start_time": "2022-01-27T15:27:47.856Z"
   },
   {
    "duration": 75,
    "start_time": "2022-01-27T15:27:47.865Z"
   },
   {
    "duration": 27,
    "start_time": "2022-01-27T15:27:47.942Z"
   },
   {
    "duration": 42,
    "start_time": "2022-01-27T15:27:47.971Z"
   },
   {
    "duration": 26,
    "start_time": "2022-01-27T15:27:48.014Z"
   },
   {
    "duration": 24,
    "start_time": "2022-01-27T15:27:48.041Z"
   },
   {
    "duration": 4,
    "start_time": "2022-01-27T15:27:48.066Z"
   },
   {
    "duration": 19,
    "start_time": "2022-01-27T15:27:48.071Z"
   },
   {
    "duration": 4,
    "start_time": "2022-01-27T15:27:48.112Z"
   },
   {
    "duration": 6,
    "start_time": "2022-01-27T15:27:48.118Z"
   },
   {
    "duration": 9,
    "start_time": "2022-01-27T15:27:48.125Z"
   },
   {
    "duration": 15,
    "start_time": "2022-01-27T15:27:48.136Z"
   },
   {
    "duration": 6,
    "start_time": "2022-01-27T15:27:48.152Z"
   },
   {
    "duration": 6,
    "start_time": "2022-01-27T15:28:06.445Z"
   },
   {
    "duration": 70,
    "start_time": "2022-01-27T16:15:20.612Z"
   },
   {
    "duration": 66,
    "start_time": "2022-01-27T16:15:50.569Z"
   },
   {
    "duration": 75,
    "start_time": "2022-01-27T16:16:10.279Z"
   },
   {
    "duration": 284,
    "start_time": "2022-01-27T16:16:19.736Z"
   },
   {
    "duration": 3,
    "start_time": "2022-01-27T16:16:26.271Z"
   },
   {
    "duration": 416,
    "start_time": "2022-01-27T16:16:26.277Z"
   },
   {
    "duration": 9,
    "start_time": "2022-01-27T16:16:26.694Z"
   },
   {
    "duration": 9,
    "start_time": "2022-01-27T16:16:26.705Z"
   },
   {
    "duration": 15,
    "start_time": "2022-01-27T16:16:26.716Z"
   },
   {
    "duration": 4,
    "start_time": "2022-01-27T16:16:26.733Z"
   },
   {
    "duration": 6,
    "start_time": "2022-01-27T16:16:26.738Z"
   },
   {
    "duration": 9,
    "start_time": "2022-01-27T16:16:26.745Z"
   },
   {
    "duration": 14,
    "start_time": "2022-01-27T16:16:26.756Z"
   },
   {
    "duration": 44,
    "start_time": "2022-01-27T16:16:26.772Z"
   },
   {
    "duration": 11,
    "start_time": "2022-01-27T16:16:26.817Z"
   },
   {
    "duration": 8,
    "start_time": "2022-01-27T16:16:26.829Z"
   },
   {
    "duration": 81,
    "start_time": "2022-01-27T16:16:26.838Z"
   },
   {
    "duration": 7,
    "start_time": "2022-01-27T16:16:26.920Z"
   },
   {
    "duration": 26,
    "start_time": "2022-01-27T16:16:26.929Z"
   },
   {
    "duration": 6,
    "start_time": "2022-01-27T16:16:26.957Z"
   },
   {
    "duration": 6,
    "start_time": "2022-01-27T16:16:26.965Z"
   },
   {
    "duration": 41,
    "start_time": "2022-01-27T16:16:26.972Z"
   },
   {
    "duration": 22,
    "start_time": "2022-01-27T16:16:27.014Z"
   },
   {
    "duration": 8,
    "start_time": "2022-01-27T16:16:27.037Z"
   },
   {
    "duration": 67,
    "start_time": "2022-01-27T16:16:27.046Z"
   },
   {
    "duration": 28,
    "start_time": "2022-01-27T16:16:27.114Z"
   },
   {
    "duration": 29,
    "start_time": "2022-01-27T16:16:27.144Z"
   },
   {
    "duration": 46,
    "start_time": "2022-01-27T16:16:27.176Z"
   },
   {
    "duration": 26,
    "start_time": "2022-01-27T16:16:27.224Z"
   },
   {
    "duration": 3,
    "start_time": "2022-01-27T16:16:27.252Z"
   },
   {
    "duration": 21,
    "start_time": "2022-01-27T16:16:27.257Z"
   },
   {
    "duration": 4,
    "start_time": "2022-01-27T16:16:27.279Z"
   },
   {
    "duration": 29,
    "start_time": "2022-01-27T16:16:27.284Z"
   },
   {
    "duration": 11,
    "start_time": "2022-01-27T16:16:27.314Z"
   },
   {
    "duration": 17,
    "start_time": "2022-01-27T16:16:27.326Z"
   },
   {
    "duration": 7,
    "start_time": "2022-01-27T16:16:27.344Z"
   },
   {
    "duration": 7,
    "start_time": "2022-01-27T16:16:27.352Z"
   },
   {
    "duration": 320,
    "start_time": "2022-01-27T16:16:27.361Z"
   },
   {
    "duration": 286,
    "start_time": "2022-01-27T16:17:00.694Z"
   },
   {
    "duration": 297,
    "start_time": "2022-01-27T16:17:10.513Z"
   },
   {
    "duration": 62,
    "start_time": "2022-01-27T17:16:48.434Z"
   },
   {
    "duration": 4,
    "start_time": "2022-01-27T17:16:56.548Z"
   },
   {
    "duration": 7,
    "start_time": "2022-01-27T17:17:11.892Z"
   },
   {
    "duration": 7,
    "start_time": "2022-01-27T17:17:38.180Z"
   },
   {
    "duration": 280,
    "start_time": "2022-01-27T17:17:41.024Z"
   },
   {
    "duration": 4,
    "start_time": "2022-01-27T17:18:01.920Z"
   },
   {
    "duration": 5,
    "start_time": "2022-01-27T17:18:13.711Z"
   },
   {
    "duration": 3,
    "start_time": "2022-01-27T17:18:27.481Z"
   },
   {
    "duration": 276,
    "start_time": "2022-01-27T19:24:54.165Z"
   },
   {
    "duration": 2,
    "start_time": "2022-01-27T19:24:58.575Z"
   },
   {
    "duration": 418,
    "start_time": "2022-01-27T19:24:58.579Z"
   },
   {
    "duration": 9,
    "start_time": "2022-01-27T19:24:58.999Z"
   },
   {
    "duration": 10,
    "start_time": "2022-01-27T19:24:59.010Z"
   },
   {
    "duration": 16,
    "start_time": "2022-01-27T19:24:59.021Z"
   },
   {
    "duration": 5,
    "start_time": "2022-01-27T19:24:59.038Z"
   },
   {
    "duration": 7,
    "start_time": "2022-01-27T19:24:59.045Z"
   },
   {
    "duration": 8,
    "start_time": "2022-01-27T19:24:59.053Z"
   },
   {
    "duration": 49,
    "start_time": "2022-01-27T19:24:59.064Z"
   },
   {
    "duration": 8,
    "start_time": "2022-01-27T19:24:59.115Z"
   },
   {
    "duration": 11,
    "start_time": "2022-01-27T19:24:59.125Z"
   },
   {
    "duration": 7,
    "start_time": "2022-01-27T19:24:59.138Z"
   },
   {
    "duration": 88,
    "start_time": "2022-01-27T19:24:59.146Z"
   },
   {
    "duration": 6,
    "start_time": "2022-01-27T19:24:59.235Z"
   },
   {
    "duration": 27,
    "start_time": "2022-01-27T19:24:59.243Z"
   },
   {
    "duration": 6,
    "start_time": "2022-01-27T19:24:59.271Z"
   },
   {
    "duration": 34,
    "start_time": "2022-01-27T19:24:59.279Z"
   },
   {
    "duration": 12,
    "start_time": "2022-01-27T19:24:59.314Z"
   },
   {
    "duration": 21,
    "start_time": "2022-01-27T19:24:59.328Z"
   },
   {
    "duration": 8,
    "start_time": "2022-01-27T19:24:59.350Z"
   },
   {
    "duration": 71,
    "start_time": "2022-01-27T19:24:59.359Z"
   },
   {
    "duration": 29,
    "start_time": "2022-01-27T19:24:59.432Z"
   },
   {
    "duration": 31,
    "start_time": "2022-01-27T19:24:59.462Z"
   },
   {
    "duration": 45,
    "start_time": "2022-01-27T19:24:59.494Z"
   },
   {
    "duration": 25,
    "start_time": "2022-01-27T19:24:59.541Z"
   },
   {
    "duration": 4,
    "start_time": "2022-01-27T19:24:59.567Z"
   },
   {
    "duration": 43,
    "start_time": "2022-01-27T19:24:59.574Z"
   },
   {
    "duration": 4,
    "start_time": "2022-01-27T19:24:59.619Z"
   },
   {
    "duration": 5,
    "start_time": "2022-01-27T19:24:59.625Z"
   },
   {
    "duration": 10,
    "start_time": "2022-01-27T19:24:59.632Z"
   },
   {
    "duration": 18,
    "start_time": "2022-01-27T19:24:59.643Z"
   },
   {
    "duration": 8,
    "start_time": "2022-01-27T19:24:59.663Z"
   },
   {
    "duration": 41,
    "start_time": "2022-01-27T19:24:59.672Z"
   },
   {
    "duration": 9,
    "start_time": "2022-01-27T19:24:59.715Z"
   },
   {
    "duration": 344,
    "start_time": "2022-01-27T19:24:59.726Z"
   },
   {
    "duration": 17,
    "start_time": "2022-01-27T19:25:15.464Z"
   },
   {
    "duration": 5318,
    "start_time": "2022-01-27T19:26:57.265Z"
   },
   {
    "duration": 204,
    "start_time": "2022-01-27T19:27:43.094Z"
   },
   {
    "duration": 1115,
    "start_time": "2022-01-27T19:27:58.244Z"
   },
   {
    "duration": -37,
    "start_time": "2022-01-27T19:27:59.398Z"
   },
   {
    "duration": 3,
    "start_time": "2022-01-27T19:28:20.187Z"
   },
   {
    "duration": 402,
    "start_time": "2022-01-27T19:28:20.191Z"
   },
   {
    "duration": 9,
    "start_time": "2022-01-27T19:28:20.594Z"
   },
   {
    "duration": 8,
    "start_time": "2022-01-27T19:28:20.605Z"
   },
   {
    "duration": 21,
    "start_time": "2022-01-27T19:28:20.615Z"
   },
   {
    "duration": 12,
    "start_time": "2022-01-27T19:28:20.637Z"
   },
   {
    "duration": 25,
    "start_time": "2022-01-27T19:28:20.650Z"
   },
   {
    "duration": 20,
    "start_time": "2022-01-27T19:28:20.676Z"
   },
   {
    "duration": 22,
    "start_time": "2022-01-27T19:28:20.698Z"
   },
   {
    "duration": 7,
    "start_time": "2022-01-27T19:28:20.722Z"
   },
   {
    "duration": 24,
    "start_time": "2022-01-27T19:28:20.730Z"
   },
   {
    "duration": 7,
    "start_time": "2022-01-27T19:28:20.755Z"
   },
   {
    "duration": 64,
    "start_time": "2022-01-27T19:28:20.764Z"
   },
   {
    "duration": 6,
    "start_time": "2022-01-27T19:28:20.829Z"
   },
   {
    "duration": 31,
    "start_time": "2022-01-27T19:28:20.837Z"
   },
   {
    "duration": 6,
    "start_time": "2022-01-27T19:28:20.870Z"
   },
   {
    "duration": 6,
    "start_time": "2022-01-27T19:28:20.877Z"
   },
   {
    "duration": 36,
    "start_time": "2022-01-27T19:28:20.884Z"
   },
   {
    "duration": 21,
    "start_time": "2022-01-27T19:28:20.921Z"
   },
   {
    "duration": 8,
    "start_time": "2022-01-27T19:28:20.944Z"
   },
   {
    "duration": 63,
    "start_time": "2022-01-27T19:28:20.953Z"
   },
   {
    "duration": 28,
    "start_time": "2022-01-27T19:28:21.017Z"
   },
   {
    "duration": 30,
    "start_time": "2022-01-27T19:28:21.046Z"
   },
   {
    "duration": 46,
    "start_time": "2022-01-27T19:28:21.077Z"
   },
   {
    "duration": 25,
    "start_time": "2022-01-27T19:28:21.125Z"
   },
   {
    "duration": 3,
    "start_time": "2022-01-27T19:28:21.151Z"
   },
   {
    "duration": 26,
    "start_time": "2022-01-27T19:28:21.158Z"
   },
   {
    "duration": 22,
    "start_time": "2022-01-27T19:28:21.186Z"
   },
   {
    "duration": 14,
    "start_time": "2022-01-27T19:28:21.209Z"
   },
   {
    "duration": 15,
    "start_time": "2022-01-27T19:28:21.224Z"
   },
   {
    "duration": 16,
    "start_time": "2022-01-27T19:28:21.240Z"
   },
   {
    "duration": 5,
    "start_time": "2022-01-27T19:28:21.257Z"
   },
   {
    "duration": 5,
    "start_time": "2022-01-27T19:28:21.264Z"
   },
   {
    "duration": 7,
    "start_time": "2022-01-27T19:28:21.270Z"
   },
   {
    "duration": 301,
    "start_time": "2022-01-27T19:28:21.279Z"
   },
   {
    "duration": 352,
    "start_time": "2022-01-27T19:29:42.937Z"
   },
   {
    "duration": 323,
    "start_time": "2022-01-27T19:29:52.153Z"
   },
   {
    "duration": 1249,
    "start_time": "2022-01-27T19:29:58.616Z"
   },
   {
    "duration": 65,
    "start_time": "2022-01-27T19:31:08.602Z"
   },
   {
    "duration": 69,
    "start_time": "2022-01-27T19:31:24.390Z"
   },
   {
    "duration": 339,
    "start_time": "2022-01-27T19:31:37.246Z"
   },
   {
    "duration": 1155,
    "start_time": "2022-01-27T19:31:53.130Z"
   },
   {
    "duration": 1138,
    "start_time": "2022-01-27T19:34:15.734Z"
   },
   {
    "duration": 310,
    "start_time": "2022-01-27T19:34:45.109Z"
   },
   {
    "duration": 1107,
    "start_time": "2022-01-27T19:34:54.094Z"
   },
   {
    "duration": 71,
    "start_time": "2022-01-27T19:38:21.335Z"
   },
   {
    "duration": 70,
    "start_time": "2022-01-27T19:38:30.626Z"
   },
   {
    "duration": 72,
    "start_time": "2022-01-27T19:38:46.441Z"
   },
   {
    "duration": 276,
    "start_time": "2022-01-27T19:38:55.138Z"
   },
   {
    "duration": 3,
    "start_time": "2022-01-27T19:39:16.486Z"
   },
   {
    "duration": 407,
    "start_time": "2022-01-27T19:39:16.490Z"
   },
   {
    "duration": 9,
    "start_time": "2022-01-27T19:39:16.899Z"
   },
   {
    "duration": 9,
    "start_time": "2022-01-27T19:39:16.910Z"
   },
   {
    "duration": 15,
    "start_time": "2022-01-27T19:39:16.921Z"
   },
   {
    "duration": 6,
    "start_time": "2022-01-27T19:39:16.937Z"
   },
   {
    "duration": 7,
    "start_time": "2022-01-27T19:39:16.946Z"
   },
   {
    "duration": 8,
    "start_time": "2022-01-27T19:39:16.955Z"
   },
   {
    "duration": 51,
    "start_time": "2022-01-27T19:39:16.965Z"
   },
   {
    "duration": 7,
    "start_time": "2022-01-27T19:39:17.018Z"
   },
   {
    "duration": 11,
    "start_time": "2022-01-27T19:39:17.027Z"
   },
   {
    "duration": 7,
    "start_time": "2022-01-27T19:39:17.039Z"
   },
   {
    "duration": 81,
    "start_time": "2022-01-27T19:39:17.048Z"
   },
   {
    "duration": 6,
    "start_time": "2022-01-27T19:39:17.130Z"
   },
   {
    "duration": 23,
    "start_time": "2022-01-27T19:39:17.137Z"
   },
   {
    "duration": 6,
    "start_time": "2022-01-27T19:39:17.162Z"
   },
   {
    "duration": 7,
    "start_time": "2022-01-27T19:39:17.169Z"
   },
   {
    "duration": 36,
    "start_time": "2022-01-27T19:39:17.177Z"
   },
   {
    "duration": 21,
    "start_time": "2022-01-27T19:39:17.216Z"
   },
   {
    "duration": 7,
    "start_time": "2022-01-27T19:39:17.239Z"
   },
   {
    "duration": 69,
    "start_time": "2022-01-27T19:39:17.248Z"
   },
   {
    "duration": 28,
    "start_time": "2022-01-27T19:39:17.318Z"
   },
   {
    "duration": 30,
    "start_time": "2022-01-27T19:39:17.347Z"
   },
   {
    "duration": 44,
    "start_time": "2022-01-27T19:39:17.378Z"
   },
   {
    "duration": 26,
    "start_time": "2022-01-27T19:39:17.424Z"
   },
   {
    "duration": 3,
    "start_time": "2022-01-27T19:39:17.451Z"
   },
   {
    "duration": 21,
    "start_time": "2022-01-27T19:39:17.456Z"
   },
   {
    "duration": 4,
    "start_time": "2022-01-27T19:39:17.478Z"
   },
   {
    "duration": 29,
    "start_time": "2022-01-27T19:39:17.484Z"
   },
   {
    "duration": 9,
    "start_time": "2022-01-27T19:39:17.515Z"
   },
   {
    "duration": 15,
    "start_time": "2022-01-27T19:39:17.526Z"
   },
   {
    "duration": 6,
    "start_time": "2022-01-27T19:39:17.543Z"
   },
   {
    "duration": 6,
    "start_time": "2022-01-27T19:39:17.550Z"
   },
   {
    "duration": 6,
    "start_time": "2022-01-27T19:39:17.558Z"
   },
   {
    "duration": 315,
    "start_time": "2022-01-27T19:39:17.566Z"
   },
   {
    "duration": 292,
    "start_time": "2022-01-27T19:39:47.522Z"
   },
   {
    "duration": 556,
    "start_time": "2022-01-27T19:39:53.590Z"
   },
   {
    "duration": 286,
    "start_time": "2022-01-27T19:40:02.179Z"
   },
   {
    "duration": 627,
    "start_time": "2022-01-27T19:40:56.582Z"
   },
   {
    "duration": 518,
    "start_time": "2022-01-27T19:41:08.998Z"
   },
   {
    "duration": 279,
    "start_time": "2022-01-27T19:41:22.204Z"
   },
   {
    "duration": 15,
    "start_time": "2022-01-27T19:44:35.610Z"
   },
   {
    "duration": 291,
    "start_time": "2022-01-27T19:45:13.655Z"
   },
   {
    "duration": 16,
    "start_time": "2022-01-27T19:45:14.837Z"
   },
   {
    "duration": 60,
    "start_time": "2022-01-27T19:47:56.622Z"
   },
   {
    "duration": 17,
    "start_time": "2022-01-27T19:47:57.992Z"
   },
   {
    "duration": 310,
    "start_time": "2022-01-27T19:49:59.753Z"
   },
   {
    "duration": 16,
    "start_time": "2022-01-27T19:50:00.394Z"
   },
   {
    "duration": 100,
    "start_time": "2022-01-27T20:03:01.308Z"
   },
   {
    "duration": 9,
    "start_time": "2022-01-27T20:03:45.720Z"
   },
   {
    "duration": 10,
    "start_time": "2022-01-27T20:03:52.375Z"
   },
   {
    "duration": 8,
    "start_time": "2022-01-27T20:07:00.335Z"
   },
   {
    "duration": 9,
    "start_time": "2022-01-27T20:07:01.219Z"
   },
   {
    "duration": 9,
    "start_time": "2022-01-27T20:07:18.185Z"
   },
   {
    "duration": 11,
    "start_time": "2022-01-27T20:07:18.809Z"
   },
   {
    "duration": 17,
    "start_time": "2022-01-27T20:08:40.665Z"
   },
   {
    "duration": 6,
    "start_time": "2022-01-27T20:12:29.926Z"
   },
   {
    "duration": 5,
    "start_time": "2022-01-27T20:13:03.520Z"
   },
   {
    "duration": 4,
    "start_time": "2022-01-27T20:13:14.196Z"
   },
   {
    "duration": 228,
    "start_time": "2022-01-27T20:13:30.343Z"
   },
   {
    "duration": 6,
    "start_time": "2022-01-27T20:13:44.811Z"
   },
   {
    "duration": 22,
    "start_time": "2022-01-27T20:16:22.729Z"
   },
   {
    "duration": 600,
    "start_time": "2022-01-27T20:31:52.884Z"
   },
   {
    "duration": 5605,
    "start_time": "2022-01-27T20:32:14.489Z"
   },
   {
    "duration": 10,
    "start_time": "2022-01-27T20:33:12.511Z"
   },
   {
    "duration": 11,
    "start_time": "2022-01-27T20:33:13.105Z"
   },
   {
    "duration": 17,
    "start_time": "2022-01-27T20:33:26.131Z"
   },
   {
    "duration": 684,
    "start_time": "2022-01-27T20:33:26.985Z"
   },
   {
    "duration": 789,
    "start_time": "2022-01-27T20:34:12.883Z"
   },
   {
    "duration": 754,
    "start_time": "2022-01-27T20:34:21.116Z"
   },
   {
    "duration": 23,
    "start_time": "2022-01-27T20:40:35.729Z"
   },
   {
    "duration": 305,
    "start_time": "2022-01-28T15:53:07.806Z"
   },
   {
    "duration": 1138,
    "start_time": "2022-01-28T15:53:28.257Z"
   },
   {
    "duration": 475,
    "start_time": "2022-01-28T15:53:29.397Z"
   },
   {
    "duration": 13,
    "start_time": "2022-01-28T15:53:29.874Z"
   },
   {
    "duration": 12,
    "start_time": "2022-01-28T15:53:29.889Z"
   },
   {
    "duration": 15,
    "start_time": "2022-01-28T15:53:29.902Z"
   },
   {
    "duration": 19,
    "start_time": "2022-01-28T15:53:29.919Z"
   },
   {
    "duration": 6,
    "start_time": "2022-01-28T15:53:29.939Z"
   },
   {
    "duration": 13,
    "start_time": "2022-01-28T15:53:29.947Z"
   },
   {
    "duration": 11,
    "start_time": "2022-01-28T15:53:29.963Z"
   },
   {
    "duration": 38,
    "start_time": "2022-01-28T15:53:29.977Z"
   },
   {
    "duration": 12,
    "start_time": "2022-01-28T15:53:30.018Z"
   },
   {
    "duration": 17,
    "start_time": "2022-01-28T15:53:30.032Z"
   },
   {
    "duration": 10,
    "start_time": "2022-01-28T15:53:30.052Z"
   },
   {
    "duration": 78,
    "start_time": "2022-01-28T15:53:30.098Z"
   },
   {
    "duration": 21,
    "start_time": "2022-01-28T15:53:30.178Z"
   },
   {
    "duration": 36,
    "start_time": "2022-01-28T15:53:30.200Z"
   },
   {
    "duration": 9,
    "start_time": "2022-01-28T15:53:30.238Z"
   },
   {
    "duration": 18,
    "start_time": "2022-01-28T15:53:30.249Z"
   },
   {
    "duration": 36,
    "start_time": "2022-01-28T15:53:30.270Z"
   },
   {
    "duration": 24,
    "start_time": "2022-01-28T15:53:30.308Z"
   },
   {
    "duration": 9,
    "start_time": "2022-01-28T15:53:30.333Z"
   },
   {
    "duration": 95,
    "start_time": "2022-01-28T15:53:30.344Z"
   },
   {
    "duration": 34,
    "start_time": "2022-01-28T15:53:30.443Z"
   },
   {
    "duration": 52,
    "start_time": "2022-01-28T15:53:30.479Z"
   },
   {
    "duration": 36,
    "start_time": "2022-01-28T15:53:30.533Z"
   },
   {
    "duration": 52,
    "start_time": "2022-01-28T15:53:30.570Z"
   },
   {
    "duration": 5,
    "start_time": "2022-01-28T15:53:30.623Z"
   },
   {
    "duration": 34,
    "start_time": "2022-01-28T15:53:30.630Z"
   },
   {
    "duration": 4,
    "start_time": "2022-01-28T15:53:30.666Z"
   },
   {
    "duration": 28,
    "start_time": "2022-01-28T15:53:30.672Z"
   },
   {
    "duration": 26,
    "start_time": "2022-01-28T15:53:30.702Z"
   },
   {
    "duration": 10,
    "start_time": "2022-01-28T15:53:30.730Z"
   },
   {
    "duration": 16,
    "start_time": "2022-01-28T15:53:30.742Z"
   },
   {
    "duration": 20,
    "start_time": "2022-01-28T15:53:30.760Z"
   },
   {
    "duration": 360,
    "start_time": "2022-01-28T15:53:30.782Z"
   },
   {
    "duration": 19,
    "start_time": "2022-01-28T15:53:31.144Z"
   },
   {
    "duration": 16,
    "start_time": "2022-01-28T15:53:31.165Z"
   },
   {
    "duration": 26,
    "start_time": "2022-01-28T15:53:31.184Z"
   },
   {
    "duration": 31,
    "start_time": "2022-01-28T15:53:31.212Z"
   },
   {
    "duration": 969,
    "start_time": "2022-01-28T15:53:31.245Z"
   },
   {
    "duration": 27,
    "start_time": "2022-01-28T15:53:32.216Z"
   },
   {
    "duration": 14,
    "start_time": "2022-01-28T15:53:32.245Z"
   },
   {
    "duration": 7,
    "start_time": "2022-01-28T15:55:05.709Z"
   },
   {
    "duration": 11,
    "start_time": "2022-01-28T15:55:10.518Z"
   },
   {
    "duration": 7,
    "start_time": "2022-01-28T15:55:21.498Z"
   },
   {
    "duration": 11,
    "start_time": "2022-01-28T15:55:22.133Z"
   },
   {
    "duration": 7,
    "start_time": "2022-01-28T15:55:37.222Z"
   },
   {
    "duration": 11,
    "start_time": "2022-01-28T15:55:37.786Z"
   },
   {
    "duration": 6,
    "start_time": "2022-01-28T15:56:31.925Z"
   },
   {
    "duration": 8,
    "start_time": "2022-01-28T15:56:32.462Z"
   },
   {
    "duration": 10,
    "start_time": "2022-01-28T15:57:00.503Z"
   },
   {
    "duration": 12,
    "start_time": "2022-01-28T15:57:01.039Z"
   },
   {
    "duration": 19,
    "start_time": "2022-01-28T15:57:25.390Z"
   },
   {
    "duration": 7307,
    "start_time": "2022-01-28T15:57:26.277Z"
   },
   {
    "duration": -34,
    "start_time": "2022-01-28T15:57:33.620Z"
   },
   {
    "duration": -39,
    "start_time": "2022-01-28T15:57:33.626Z"
   },
   {
    "duration": -42,
    "start_time": "2022-01-28T15:57:33.630Z"
   },
   {
    "duration": 21,
    "start_time": "2022-01-28T15:57:53.561Z"
   },
   {
    "duration": 5,
    "start_time": "2022-01-28T15:57:54.816Z"
   },
   {
    "duration": 8,
    "start_time": "2022-01-28T15:57:55.460Z"
   },
   {
    "duration": 9,
    "start_time": "2022-01-28T15:58:22.895Z"
   },
   {
    "duration": 10,
    "start_time": "2022-01-28T15:58:23.415Z"
   },
   {
    "duration": 19,
    "start_time": "2022-01-28T15:58:31.277Z"
   },
   {
    "duration": 899,
    "start_time": "2022-01-28T15:58:31.744Z"
   },
   {
    "duration": 25,
    "start_time": "2022-01-28T15:58:33.760Z"
   },
   {
    "duration": 280,
    "start_time": "2022-01-28T16:00:24.564Z"
   },
   {
    "duration": 7,
    "start_time": "2022-01-28T16:00:43.761Z"
   },
   {
    "duration": 13,
    "start_time": "2022-01-28T16:00:49.427Z"
   },
   {
    "duration": 8,
    "start_time": "2022-01-28T16:01:03.762Z"
   },
   {
    "duration": 13,
    "start_time": "2022-01-28T16:01:04.537Z"
   },
   {
    "duration": 9,
    "start_time": "2022-01-28T16:04:35.969Z"
   },
   {
    "duration": 13,
    "start_time": "2022-01-28T16:04:36.607Z"
   },
   {
    "duration": 13,
    "start_time": "2022-01-28T16:05:47.533Z"
   },
   {
    "duration": 14,
    "start_time": "2022-01-28T16:06:07.701Z"
   },
   {
    "duration": 18,
    "start_time": "2022-01-28T16:06:49.839Z"
   },
   {
    "duration": 6,
    "start_time": "2022-01-28T16:11:22.333Z"
   },
   {
    "duration": 8,
    "start_time": "2022-01-28T16:11:22.978Z"
   },
   {
    "duration": 270,
    "start_time": "2022-01-28T16:16:35.620Z"
   },
   {
    "duration": 281,
    "start_time": "2022-01-28T16:16:46.676Z"
   },
   {
    "duration": 283,
    "start_time": "2022-01-28T16:18:29.761Z"
   },
   {
    "duration": 312,
    "start_time": "2022-01-28T16:21:33.591Z"
   },
   {
    "duration": 4,
    "start_time": "2022-01-28T16:23:25.991Z"
   },
   {
    "duration": 4,
    "start_time": "2022-01-28T16:23:31.528Z"
   },
   {
    "duration": 82,
    "start_time": "2022-01-28T16:25:26.844Z"
   },
   {
    "duration": 257,
    "start_time": "2022-01-28T16:25:35.363Z"
   },
   {
    "duration": 4,
    "start_time": "2022-01-28T16:25:49.864Z"
   },
   {
    "duration": 8,
    "start_time": "2022-01-28T16:37:51.214Z"
   },
   {
    "duration": 9,
    "start_time": "2022-01-28T16:37:59.298Z"
   },
   {
    "duration": 9,
    "start_time": "2022-01-28T17:27:25.485Z"
   },
   {
    "duration": 9,
    "start_time": "2022-01-28T17:27:26.409Z"
   },
   {
    "duration": 8,
    "start_time": "2022-01-28T17:27:53.446Z"
   },
   {
    "duration": 9,
    "start_time": "2022-01-28T17:27:54.043Z"
   },
   {
    "duration": 283,
    "start_time": "2022-01-28T17:30:14.825Z"
   },
   {
    "duration": 299,
    "start_time": "2022-01-28T17:36:21.647Z"
   },
   {
    "duration": 283,
    "start_time": "2022-01-28T17:36:35.773Z"
   },
   {
    "duration": 304,
    "start_time": "2022-01-28T17:37:00.282Z"
   },
   {
    "duration": 8,
    "start_time": "2022-01-28T17:38:54.352Z"
   },
   {
    "duration": 9,
    "start_time": "2022-01-28T17:39:01.393Z"
   },
   {
    "duration": 7,
    "start_time": "2022-01-28T17:39:32.618Z"
   },
   {
    "duration": 10,
    "start_time": "2022-01-28T17:39:33.134Z"
   },
   {
    "duration": 9,
    "start_time": "2022-01-28T17:39:54.820Z"
   },
   {
    "duration": 8,
    "start_time": "2022-01-28T17:39:55.462Z"
   },
   {
    "duration": 7,
    "start_time": "2022-01-28T17:43:47.105Z"
   },
   {
    "duration": 9,
    "start_time": "2022-01-28T17:43:47.759Z"
   },
   {
    "duration": 323,
    "start_time": "2022-01-28T17:48:57.322Z"
   },
   {
    "duration": 1305,
    "start_time": "2022-01-28T17:49:08.888Z"
   },
   {
    "duration": 1341,
    "start_time": "2022-01-28T17:49:33.348Z"
   },
   {
    "duration": 260,
    "start_time": "2022-01-28T17:51:40.546Z"
   },
   {
    "duration": 648,
    "start_time": "2022-01-28T17:51:50.224Z"
   },
   {
    "duration": 8,
    "start_time": "2022-01-28T17:52:37.764Z"
   },
   {
    "duration": 9,
    "start_time": "2022-01-28T17:52:38.359Z"
   },
   {
    "duration": 623,
    "start_time": "2022-01-28T17:52:39.046Z"
   },
   {
    "duration": 277,
    "start_time": "2022-01-28T17:52:59.797Z"
   },
   {
    "duration": 285,
    "start_time": "2022-01-28T17:53:07.741Z"
   },
   {
    "duration": 1271,
    "start_time": "2022-01-28T17:53:31.207Z"
   },
   {
    "duration": 9,
    "start_time": "2022-01-28T17:53:32.513Z"
   },
   {
    "duration": 701,
    "start_time": "2022-01-28T17:53:34.994Z"
   },
   {
    "duration": 9,
    "start_time": "2022-01-28T17:53:48.883Z"
   },
   {
    "duration": 10,
    "start_time": "2022-01-28T17:53:49.624Z"
   },
   {
    "duration": 592,
    "start_time": "2022-01-28T17:53:50.085Z"
   },
   {
    "duration": 1928,
    "start_time": "2022-01-28T17:56:12.084Z"
   },
   {
    "duration": 737,
    "start_time": "2022-01-28T17:56:40.627Z"
   },
   {
    "duration": 2120,
    "start_time": "2022-01-28T17:56:53.141Z"
   },
   {
    "duration": 1521,
    "start_time": "2022-01-28T17:57:25.435Z"
   },
   {
    "duration": 16,
    "start_time": "2022-01-28T18:01:10.132Z"
   },
   {
    "duration": 200,
    "start_time": "2022-01-28T18:03:29.441Z"
   },
   {
    "duration": 275,
    "start_time": "2022-01-28T18:11:59.547Z"
   },
   {
    "duration": 285,
    "start_time": "2022-01-28T18:12:32.626Z"
   },
   {
    "duration": 10,
    "start_time": "2022-01-28T18:12:50.869Z"
   },
   {
    "duration": 8,
    "start_time": "2022-01-28T18:15:18.359Z"
   },
   {
    "duration": 14,
    "start_time": "2022-01-28T18:15:25.543Z"
   },
   {
    "duration": 8,
    "start_time": "2022-01-28T18:16:37.113Z"
   },
   {
    "duration": 8,
    "start_time": "2022-01-28T18:16:52.555Z"
   },
   {
    "duration": 7,
    "start_time": "2022-01-28T18:17:14.263Z"
   },
   {
    "duration": 9,
    "start_time": "2022-01-28T18:17:15.216Z"
   },
   {
    "duration": 87,
    "start_time": "2022-01-28T18:18:35.945Z"
   },
   {
    "duration": 284,
    "start_time": "2022-01-28T18:19:26.664Z"
   },
   {
    "duration": 8,
    "start_time": "2022-01-28T18:19:49.119Z"
   },
   {
    "duration": 9,
    "start_time": "2022-01-28T18:19:50.014Z"
   },
   {
    "duration": 1522,
    "start_time": "2022-01-28T18:20:16.397Z"
   },
   {
    "duration": -258,
    "start_time": "2022-01-28T18:20:18.179Z"
   },
   {
    "duration": 286,
    "start_time": "2022-01-28T18:23:26.196Z"
   },
   {
    "duration": 556,
    "start_time": "2022-01-28T18:25:54.008Z"
   },
   {
    "duration": 95,
    "start_time": "2022-01-28T18:30:54.862Z"
   },
   {
    "duration": 117,
    "start_time": "2022-01-28T18:31:23.574Z"
   },
   {
    "duration": 84,
    "start_time": "2022-01-28T18:31:27.334Z"
   },
   {
    "duration": 154,
    "start_time": "2022-01-28T18:33:00.897Z"
   },
   {
    "duration": 93,
    "start_time": "2022-01-28T18:33:30.443Z"
   },
   {
    "duration": 100,
    "start_time": "2022-01-28T18:34:23.959Z"
   },
   {
    "duration": 94,
    "start_time": "2022-01-28T18:34:29.184Z"
   },
   {
    "duration": 1397,
    "start_time": "2022-01-28T19:17:13.357Z"
   },
   {
    "duration": 261,
    "start_time": "2022-01-28T19:17:31.312Z"
   },
   {
    "duration": 1438,
    "start_time": "2022-01-28T19:17:43.805Z"
   },
   {
    "duration": 378,
    "start_time": "2022-01-28T19:30:04.931Z"
   },
   {
    "duration": 457,
    "start_time": "2022-01-28T19:30:34.092Z"
   },
   {
    "duration": 322,
    "start_time": "2022-01-28T19:31:55.839Z"
   },
   {
    "duration": 360,
    "start_time": "2022-01-28T19:32:22.358Z"
   },
   {
    "duration": 658,
    "start_time": "2022-01-28T19:33:06.552Z"
   },
   {
    "duration": 101,
    "start_time": "2022-01-28T19:33:54.812Z"
   },
   {
    "duration": 1688,
    "start_time": "2022-01-28T19:33:58.515Z"
   },
   {
    "duration": 1285,
    "start_time": "2022-01-28T19:35:27.506Z"
   },
   {
    "duration": 1313,
    "start_time": "2022-01-28T19:36:11.389Z"
   },
   {
    "duration": 267,
    "start_time": "2022-01-28T19:36:58.059Z"
   },
   {
    "duration": 440,
    "start_time": "2022-01-28T19:37:29.372Z"
   },
   {
    "duration": 345,
    "start_time": "2022-01-28T19:37:36.035Z"
   },
   {
    "duration": 1204,
    "start_time": "2022-01-28T19:37:53.015Z"
   },
   {
    "duration": 271,
    "start_time": "2022-01-28T19:38:15.170Z"
   },
   {
    "duration": 1432,
    "start_time": "2022-01-28T19:38:21.041Z"
   },
   {
    "duration": 1636,
    "start_time": "2022-01-28T19:40:32.428Z"
   },
   {
    "duration": 583,
    "start_time": "2022-01-28T19:43:08.717Z"
   },
   {
    "duration": 488,
    "start_time": "2022-01-28T19:43:22.394Z"
   },
   {
    "duration": 3,
    "start_time": "2022-01-28T19:43:31.369Z"
   },
   {
    "duration": 510,
    "start_time": "2022-01-28T19:43:31.374Z"
   },
   {
    "duration": 10,
    "start_time": "2022-01-28T19:43:31.886Z"
   },
   {
    "duration": 8,
    "start_time": "2022-01-28T19:43:31.898Z"
   },
   {
    "duration": 15,
    "start_time": "2022-01-28T19:43:31.908Z"
   },
   {
    "duration": 18,
    "start_time": "2022-01-28T19:43:31.924Z"
   },
   {
    "duration": 5,
    "start_time": "2022-01-28T19:43:31.944Z"
   },
   {
    "duration": 9,
    "start_time": "2022-01-28T19:43:31.952Z"
   },
   {
    "duration": 15,
    "start_time": "2022-01-28T19:43:31.963Z"
   },
   {
    "duration": 17,
    "start_time": "2022-01-28T19:43:31.998Z"
   },
   {
    "duration": 10,
    "start_time": "2022-01-28T19:43:32.017Z"
   },
   {
    "duration": 18,
    "start_time": "2022-01-28T19:43:32.029Z"
   },
   {
    "duration": 9,
    "start_time": "2022-01-28T19:43:32.049Z"
   },
   {
    "duration": 97,
    "start_time": "2022-01-28T19:43:32.060Z"
   },
   {
    "duration": 8,
    "start_time": "2022-01-28T19:43:32.158Z"
   },
   {
    "duration": 40,
    "start_time": "2022-01-28T19:43:32.168Z"
   },
   {
    "duration": 9,
    "start_time": "2022-01-28T19:43:32.210Z"
   },
   {
    "duration": 9,
    "start_time": "2022-01-28T19:43:32.221Z"
   },
   {
    "duration": 13,
    "start_time": "2022-01-28T19:43:32.235Z"
   },
   {
    "duration": 57,
    "start_time": "2022-01-28T19:43:32.251Z"
   },
   {
    "duration": 10,
    "start_time": "2022-01-28T19:43:32.310Z"
   },
   {
    "duration": 58,
    "start_time": "2022-01-28T19:43:32.322Z"
   },
   {
    "duration": 40,
    "start_time": "2022-01-28T19:43:32.383Z"
   },
   {
    "duration": 32,
    "start_time": "2022-01-28T19:43:32.425Z"
   },
   {
    "duration": 58,
    "start_time": "2022-01-28T19:43:32.460Z"
   },
   {
    "duration": 27,
    "start_time": "2022-01-28T19:43:32.520Z"
   },
   {
    "duration": 5,
    "start_time": "2022-01-28T19:43:32.549Z"
   },
   {
    "duration": 21,
    "start_time": "2022-01-28T19:43:32.555Z"
   },
   {
    "duration": 4,
    "start_time": "2022-01-28T19:43:32.599Z"
   },
   {
    "duration": 12,
    "start_time": "2022-01-28T19:43:32.605Z"
   },
   {
    "duration": 17,
    "start_time": "2022-01-28T19:43:32.619Z"
   },
   {
    "duration": 7,
    "start_time": "2022-01-28T19:43:32.637Z"
   },
   {
    "duration": 10,
    "start_time": "2022-01-28T19:43:32.646Z"
   },
   {
    "duration": 9,
    "start_time": "2022-01-28T19:43:32.658Z"
   },
   {
    "duration": 340,
    "start_time": "2022-01-28T19:43:32.669Z"
   },
   {
    "duration": 19,
    "start_time": "2022-01-28T19:43:33.011Z"
   },
   {
    "duration": 12,
    "start_time": "2022-01-28T19:43:33.032Z"
   },
   {
    "duration": 10,
    "start_time": "2022-01-28T19:43:33.046Z"
   },
   {
    "duration": 45,
    "start_time": "2022-01-28T19:43:33.058Z"
   },
   {
    "duration": 825,
    "start_time": "2022-01-28T19:43:33.105Z"
   },
   {
    "duration": 26,
    "start_time": "2022-01-28T19:43:33.931Z"
   },
   {
    "duration": 8,
    "start_time": "2022-01-28T19:43:33.958Z"
   },
   {
    "duration": 33,
    "start_time": "2022-01-28T19:43:33.967Z"
   },
   {
    "duration": 14,
    "start_time": "2022-01-28T19:43:34.002Z"
   },
   {
    "duration": 15,
    "start_time": "2022-01-28T19:43:34.018Z"
   },
   {
    "duration": 8,
    "start_time": "2022-01-28T19:43:34.035Z"
   },
   {
    "duration": 8,
    "start_time": "2022-01-28T19:43:34.044Z"
   },
   {
    "duration": 9,
    "start_time": "2022-01-28T19:43:34.053Z"
   },
   {
    "duration": 9,
    "start_time": "2022-01-28T19:43:34.064Z"
   },
   {
    "duration": 3,
    "start_time": "2022-01-28T19:43:34.098Z"
   },
   {
    "duration": 7,
    "start_time": "2022-01-28T19:43:34.103Z"
   },
   {
    "duration": 10,
    "start_time": "2022-01-28T19:43:34.111Z"
   },
   {
    "duration": 11,
    "start_time": "2022-01-28T19:43:34.123Z"
   },
   {
    "duration": 9,
    "start_time": "2022-01-28T19:43:34.135Z"
   },
   {
    "duration": 8,
    "start_time": "2022-01-28T19:43:34.148Z"
   },
   {
    "duration": 505,
    "start_time": "2022-01-28T19:43:34.158Z"
   },
   {
    "duration": 92,
    "start_time": "2022-01-28T19:45:08.060Z"
   },
   {
    "duration": 279,
    "start_time": "2022-01-28T19:45:12.782Z"
   },
   {
    "duration": 1675,
    "start_time": "2022-01-28T19:45:21.763Z"
   },
   {
    "duration": 565,
    "start_time": "2022-01-28T19:46:07.796Z"
   },
   {
    "duration": 1250,
    "start_time": "2022-01-28T19:46:18.721Z"
   },
   {
    "duration": 3435,
    "start_time": "2022-01-28T19:47:49.512Z"
   },
   {
    "duration": 315,
    "start_time": "2022-01-28T19:49:02.689Z"
   },
   {
    "duration": 273,
    "start_time": "2022-01-28T19:49:23.035Z"
   },
   {
    "duration": 269,
    "start_time": "2022-01-28T19:49:30.972Z"
   },
   {
    "duration": 1760,
    "start_time": "2022-01-28T19:50:33.915Z"
   },
   {
    "duration": 1670,
    "start_time": "2022-01-28T19:50:49.635Z"
   },
   {
    "duration": 925,
    "start_time": "2022-01-28T19:52:17.349Z"
   },
   {
    "duration": 1061,
    "start_time": "2022-01-28T19:56:20.398Z"
   },
   {
    "duration": 264,
    "start_time": "2022-01-28T19:59:34.551Z"
   },
   {
    "duration": 1259,
    "start_time": "2022-01-28T19:59:45.524Z"
   },
   {
    "duration": 1326,
    "start_time": "2022-01-28T20:00:19.650Z"
   },
   {
    "duration": 29,
    "start_time": "2022-01-28T20:26:04.975Z"
   },
   {
    "duration": 1283,
    "start_time": "2022-01-28T20:26:42.872Z"
   },
   {
    "duration": 3,
    "start_time": "2022-01-28T20:26:48.878Z"
   },
   {
    "duration": 467,
    "start_time": "2022-01-28T20:26:48.885Z"
   },
   {
    "duration": 10,
    "start_time": "2022-01-28T20:26:49.354Z"
   },
   {
    "duration": 105,
    "start_time": "2022-01-28T20:26:49.366Z"
   },
   {
    "duration": 13,
    "start_time": "2022-01-28T20:26:49.473Z"
   },
   {
    "duration": 19,
    "start_time": "2022-01-28T20:26:49.488Z"
   },
   {
    "duration": 5,
    "start_time": "2022-01-28T20:26:49.508Z"
   },
   {
    "duration": 7,
    "start_time": "2022-01-28T20:26:49.515Z"
   },
   {
    "duration": 14,
    "start_time": "2022-01-28T20:26:49.523Z"
   },
   {
    "duration": 18,
    "start_time": "2022-01-28T20:26:49.539Z"
   },
   {
    "duration": 7,
    "start_time": "2022-01-28T20:26:49.559Z"
   },
   {
    "duration": 12,
    "start_time": "2022-01-28T20:26:49.599Z"
   },
   {
    "duration": 8,
    "start_time": "2022-01-28T20:26:49.612Z"
   },
   {
    "duration": 79,
    "start_time": "2022-01-28T20:26:49.621Z"
   },
   {
    "duration": 6,
    "start_time": "2022-01-28T20:26:49.702Z"
   },
   {
    "duration": 23,
    "start_time": "2022-01-28T20:26:49.710Z"
   },
   {
    "duration": 7,
    "start_time": "2022-01-28T20:26:49.735Z"
   },
   {
    "duration": 7,
    "start_time": "2022-01-28T20:26:49.743Z"
   },
   {
    "duration": 12,
    "start_time": "2022-01-28T20:26:49.751Z"
   },
   {
    "duration": 52,
    "start_time": "2022-01-28T20:26:49.765Z"
   },
   {
    "duration": 8,
    "start_time": "2022-01-28T20:26:49.819Z"
   },
   {
    "duration": 71,
    "start_time": "2022-01-28T20:26:49.829Z"
   },
   {
    "duration": 31,
    "start_time": "2022-01-28T20:26:49.901Z"
   },
   {
    "duration": 31,
    "start_time": "2022-01-28T20:26:49.933Z"
   },
   {
    "duration": 45,
    "start_time": "2022-01-28T20:26:49.965Z"
   },
   {
    "duration": 27,
    "start_time": "2022-01-28T20:26:50.012Z"
   },
   {
    "duration": 4,
    "start_time": "2022-01-28T20:26:50.041Z"
   },
   {
    "duration": 19,
    "start_time": "2022-01-28T20:26:50.049Z"
   },
   {
    "duration": 31,
    "start_time": "2022-01-28T20:26:50.070Z"
   },
   {
    "duration": 13,
    "start_time": "2022-01-28T20:26:50.102Z"
   },
   {
    "duration": 17,
    "start_time": "2022-01-28T20:26:50.116Z"
   },
   {
    "duration": 7,
    "start_time": "2022-01-28T20:26:50.135Z"
   },
   {
    "duration": 8,
    "start_time": "2022-01-28T20:26:50.143Z"
   },
   {
    "duration": 10,
    "start_time": "2022-01-28T20:26:50.152Z"
   },
   {
    "duration": 330,
    "start_time": "2022-01-28T20:26:50.163Z"
   },
   {
    "duration": 18,
    "start_time": "2022-01-28T20:26:50.495Z"
   },
   {
    "duration": 11,
    "start_time": "2022-01-28T20:26:50.514Z"
   },
   {
    "duration": 10,
    "start_time": "2022-01-28T20:26:50.526Z"
   },
   {
    "duration": 18,
    "start_time": "2022-01-28T20:26:50.538Z"
   },
   {
    "duration": 841,
    "start_time": "2022-01-28T20:26:50.557Z"
   },
   {
    "duration": 24,
    "start_time": "2022-01-28T20:26:51.400Z"
   },
   {
    "duration": 8,
    "start_time": "2022-01-28T20:26:51.425Z"
   },
   {
    "duration": 14,
    "start_time": "2022-01-28T20:26:51.435Z"
   },
   {
    "duration": 13,
    "start_time": "2022-01-28T20:26:51.451Z"
   },
   {
    "duration": 41,
    "start_time": "2022-01-28T20:26:51.466Z"
   },
   {
    "duration": 29,
    "start_time": "2022-01-28T20:26:51.509Z"
   },
   {
    "duration": 1338,
    "start_time": "2022-01-28T20:26:51.539Z"
   },
   {
    "duration": 7,
    "start_time": "2022-01-28T20:26:52.879Z"
   },
   {
    "duration": 18,
    "start_time": "2022-01-28T20:26:52.887Z"
   },
   {
    "duration": 13,
    "start_time": "2022-01-28T20:26:52.906Z"
   },
   {
    "duration": 24,
    "start_time": "2022-01-28T20:26:52.920Z"
   },
   {
    "duration": 4,
    "start_time": "2022-01-28T20:26:52.946Z"
   },
   {
    "duration": 6,
    "start_time": "2022-01-28T20:26:52.952Z"
   },
   {
    "duration": 8,
    "start_time": "2022-01-28T20:26:52.959Z"
   },
   {
    "duration": 8,
    "start_time": "2022-01-28T20:26:52.968Z"
   },
   {
    "duration": 9,
    "start_time": "2022-01-28T20:26:52.999Z"
   },
   {
    "duration": 10,
    "start_time": "2022-01-28T20:26:53.010Z"
   },
   {
    "duration": 1237,
    "start_time": "2022-01-28T20:26:53.022Z"
   },
   {
    "duration": 14,
    "start_time": "2022-01-28T20:31:19.687Z"
   },
   {
    "duration": 28,
    "start_time": "2022-01-28T20:31:20.693Z"
   },
   {
    "duration": 1368,
    "start_time": "2022-01-28T20:31:21.608Z"
   },
   {
    "duration": 1241,
    "start_time": "2022-01-28T20:32:10.716Z"
   },
   {
    "duration": 1324,
    "start_time": "2022-01-28T20:33:10.969Z"
   },
   {
    "duration": 441,
    "start_time": "2022-01-29T09:20:33.018Z"
   },
   {
    "duration": 308,
    "start_time": "2022-01-29T09:20:42.633Z"
   },
   {
    "duration": 1195,
    "start_time": "2022-01-29T09:20:47.809Z"
   },
   {
    "duration": 577,
    "start_time": "2022-01-29T09:20:49.006Z"
   },
   {
    "duration": 14,
    "start_time": "2022-01-29T09:20:49.585Z"
   },
   {
    "duration": 39,
    "start_time": "2022-01-29T09:20:49.602Z"
   },
   {
    "duration": 58,
    "start_time": "2022-01-29T09:20:49.643Z"
   },
   {
    "duration": 53,
    "start_time": "2022-01-29T09:20:49.703Z"
   },
   {
    "duration": 21,
    "start_time": "2022-01-29T09:20:49.758Z"
   },
   {
    "duration": 23,
    "start_time": "2022-01-29T09:20:49.782Z"
   },
   {
    "duration": 63,
    "start_time": "2022-01-29T09:20:49.807Z"
   },
   {
    "duration": 40,
    "start_time": "2022-01-29T09:20:49.873Z"
   },
   {
    "duration": 18,
    "start_time": "2022-01-29T09:20:49.915Z"
   },
   {
    "duration": 28,
    "start_time": "2022-01-29T09:20:49.935Z"
   },
   {
    "duration": 18,
    "start_time": "2022-01-29T09:20:49.964Z"
   },
   {
    "duration": 105,
    "start_time": "2022-01-29T09:20:49.985Z"
   },
   {
    "duration": 10,
    "start_time": "2022-01-29T09:20:50.092Z"
   },
   {
    "duration": 56,
    "start_time": "2022-01-29T09:20:50.104Z"
   },
   {
    "duration": 13,
    "start_time": "2022-01-29T09:20:50.162Z"
   },
   {
    "duration": 39,
    "start_time": "2022-01-29T09:20:50.177Z"
   },
   {
    "duration": 42,
    "start_time": "2022-01-29T09:20:50.218Z"
   },
   {
    "duration": 43,
    "start_time": "2022-01-29T09:20:50.262Z"
   },
   {
    "duration": 30,
    "start_time": "2022-01-29T09:20:50.308Z"
   },
   {
    "duration": 95,
    "start_time": "2022-01-29T09:20:50.341Z"
   },
   {
    "duration": 40,
    "start_time": "2022-01-29T09:20:50.442Z"
   },
   {
    "duration": 71,
    "start_time": "2022-01-29T09:20:50.486Z"
   },
   {
    "duration": 50,
    "start_time": "2022-01-29T09:20:50.559Z"
   },
   {
    "duration": 30,
    "start_time": "2022-01-29T09:20:50.611Z"
   },
   {
    "duration": 5,
    "start_time": "2022-01-29T09:20:50.643Z"
   },
   {
    "duration": 49,
    "start_time": "2022-01-29T09:20:50.650Z"
   },
   {
    "duration": 20,
    "start_time": "2022-01-29T09:20:50.702Z"
   },
   {
    "duration": 31,
    "start_time": "2022-01-29T09:20:50.725Z"
   },
   {
    "duration": 54,
    "start_time": "2022-01-29T09:20:50.758Z"
   },
   {
    "duration": 34,
    "start_time": "2022-01-29T09:20:50.815Z"
   },
   {
    "duration": 39,
    "start_time": "2022-01-29T09:20:50.850Z"
   },
   {
    "duration": 38,
    "start_time": "2022-01-29T09:20:50.891Z"
   },
   {
    "duration": 505,
    "start_time": "2022-01-29T09:20:50.931Z"
   },
   {
    "duration": 21,
    "start_time": "2022-01-29T09:20:51.438Z"
   },
   {
    "duration": 51,
    "start_time": "2022-01-29T09:20:51.462Z"
   },
   {
    "duration": 37,
    "start_time": "2022-01-29T09:20:51.515Z"
   },
   {
    "duration": 65,
    "start_time": "2022-01-29T09:20:51.553Z"
   },
   {
    "duration": 901,
    "start_time": "2022-01-29T09:20:51.620Z"
   },
   {
    "duration": 599,
    "start_time": "2022-01-29T09:20:52.524Z"
   },
   {
    "duration": -216,
    "start_time": "2022-01-29T09:20:53.341Z"
   },
   {
    "duration": -249,
    "start_time": "2022-01-29T09:20:53.375Z"
   },
   {
    "duration": -273,
    "start_time": "2022-01-29T09:20:53.400Z"
   },
   {
    "duration": -295,
    "start_time": "2022-01-29T09:20:53.424Z"
   },
   {
    "duration": -325,
    "start_time": "2022-01-29T09:20:53.455Z"
   },
   {
    "duration": -335,
    "start_time": "2022-01-29T09:20:53.466Z"
   },
   {
    "duration": -342,
    "start_time": "2022-01-29T09:20:53.474Z"
   },
   {
    "duration": -353,
    "start_time": "2022-01-29T09:20:53.486Z"
   },
   {
    "duration": -364,
    "start_time": "2022-01-29T09:20:53.499Z"
   },
   {
    "duration": -371,
    "start_time": "2022-01-29T09:20:53.507Z"
   },
   {
    "duration": -426,
    "start_time": "2022-01-29T09:20:53.563Z"
   },
   {
    "duration": -434,
    "start_time": "2022-01-29T09:20:53.572Z"
   },
   {
    "duration": -443,
    "start_time": "2022-01-29T09:20:53.583Z"
   },
   {
    "duration": -448,
    "start_time": "2022-01-29T09:20:53.589Z"
   },
   {
    "duration": -458,
    "start_time": "2022-01-29T09:20:53.600Z"
   },
   {
    "duration": -465,
    "start_time": "2022-01-29T09:20:53.608Z"
   },
   {
    "duration": 2170,
    "start_time": "2022-01-29T09:21:17.791Z"
   },
   {
    "duration": 1958,
    "start_time": "2022-01-29T09:21:40.464Z"
   },
   {
    "duration": 25,
    "start_time": "2022-01-29T09:26:07.525Z"
   },
   {
    "duration": 9,
    "start_time": "2022-01-29T09:26:08.083Z"
   },
   {
    "duration": 14,
    "start_time": "2022-01-29T09:26:08.468Z"
   },
   {
    "duration": 15,
    "start_time": "2022-01-29T09:26:08.663Z"
   },
   {
    "duration": 16,
    "start_time": "2022-01-29T09:26:08.906Z"
   },
   {
    "duration": 7,
    "start_time": "2022-01-29T09:26:09.354Z"
   },
   {
    "duration": 7,
    "start_time": "2022-01-29T09:26:09.563Z"
   },
   {
    "duration": 7,
    "start_time": "2022-01-29T09:26:09.868Z"
   },
   {
    "duration": 12,
    "start_time": "2022-01-29T09:26:10.108Z"
   },
   {
    "duration": 4,
    "start_time": "2022-01-29T09:26:11.019Z"
   },
   {
    "duration": 4,
    "start_time": "2022-01-29T09:26:11.287Z"
   },
   {
    "duration": 10,
    "start_time": "2022-01-29T09:26:11.507Z"
   },
   {
    "duration": 9,
    "start_time": "2022-01-29T09:26:11.705Z"
   },
   {
    "duration": 9,
    "start_time": "2022-01-29T09:26:11.913Z"
   },
   {
    "duration": 10,
    "start_time": "2022-01-29T09:26:12.159Z"
   },
   {
    "duration": 1258,
    "start_time": "2022-01-29T09:26:13.188Z"
   },
   {
    "duration": 1316,
    "start_time": "2022-01-29T09:26:35.870Z"
   },
   {
    "duration": 1426,
    "start_time": "2022-01-29T09:27:25.071Z"
   },
   {
    "duration": 1313,
    "start_time": "2022-01-29T09:28:27.654Z"
   },
   {
    "duration": 14,
    "start_time": "2022-01-29T09:31:30.778Z"
   },
   {
    "duration": 11,
    "start_time": "2022-01-29T09:52:49.560Z"
   },
   {
    "duration": 3,
    "start_time": "2022-01-29T09:57:36.879Z"
   },
   {
    "duration": 5,
    "start_time": "2022-01-29T09:57:42.023Z"
   },
   {
    "duration": 5,
    "start_time": "2022-01-29T09:58:37.435Z"
   },
   {
    "duration": 5,
    "start_time": "2022-01-29T09:58:57.761Z"
   },
   {
    "duration": 11,
    "start_time": "2022-01-29T11:11:22.275Z"
   },
   {
    "duration": 9,
    "start_time": "2022-01-29T11:11:36.001Z"
   },
   {
    "duration": 4,
    "start_time": "2022-01-29T11:11:36.706Z"
   },
   {
    "duration": 10,
    "start_time": "2022-01-29T11:11:48.161Z"
   },
   {
    "duration": 5,
    "start_time": "2022-01-29T11:11:52.268Z"
   },
   {
    "duration": 4,
    "start_time": "2022-01-29T13:18:07.324Z"
   },
   {
    "duration": 5,
    "start_time": "2022-01-29T13:18:19.349Z"
   },
   {
    "duration": 6,
    "start_time": "2022-01-29T13:19:00.230Z"
   },
   {
    "duration": 6,
    "start_time": "2022-01-29T13:30:17.235Z"
   },
   {
    "duration": 5,
    "start_time": "2022-01-29T13:30:35.691Z"
   },
   {
    "duration": 16,
    "start_time": "2022-01-29T13:30:35.874Z"
   },
   {
    "duration": 4,
    "start_time": "2022-01-29T13:30:47.799Z"
   },
   {
    "duration": 6,
    "start_time": "2022-01-29T13:31:05.710Z"
   },
   {
    "duration": 5,
    "start_time": "2022-01-29T13:31:34.146Z"
   },
   {
    "duration": 6,
    "start_time": "2022-01-29T13:32:25.997Z"
   },
   {
    "duration": 5,
    "start_time": "2022-01-29T13:33:05.330Z"
   },
   {
    "duration": 6,
    "start_time": "2022-01-29T13:33:31.803Z"
   },
   {
    "duration": 87,
    "start_time": "2022-01-29T13:44:48.190Z"
   },
   {
    "duration": 87,
    "start_time": "2022-01-29T13:44:53.929Z"
   },
   {
    "duration": 82,
    "start_time": "2022-01-29T13:44:59.448Z"
   },
   {
    "duration": 3,
    "start_time": "2022-01-29T13:45:33.505Z"
   },
   {
    "duration": 3,
    "start_time": "2022-01-29T13:45:44.161Z"
   },
   {
    "duration": 17,
    "start_time": "2022-01-29T13:45:44.166Z"
   },
   {
    "duration": 494,
    "start_time": "2022-01-29T13:45:44.186Z"
   },
   {
    "duration": 11,
    "start_time": "2022-01-29T13:45:44.682Z"
   },
   {
    "duration": 33,
    "start_time": "2022-01-29T13:45:44.695Z"
   },
   {
    "duration": 21,
    "start_time": "2022-01-29T13:45:44.730Z"
   },
   {
    "duration": 33,
    "start_time": "2022-01-29T13:45:44.754Z"
   },
   {
    "duration": 7,
    "start_time": "2022-01-29T13:45:44.790Z"
   },
   {
    "duration": 20,
    "start_time": "2022-01-29T13:45:44.798Z"
   },
   {
    "duration": 23,
    "start_time": "2022-01-29T13:45:44.820Z"
   },
   {
    "duration": 39,
    "start_time": "2022-01-29T13:45:44.845Z"
   },
   {
    "duration": 14,
    "start_time": "2022-01-29T13:45:44.887Z"
   },
   {
    "duration": 27,
    "start_time": "2022-01-29T13:45:44.904Z"
   },
   {
    "duration": 12,
    "start_time": "2022-01-29T13:45:44.933Z"
   },
   {
    "duration": 81,
    "start_time": "2022-01-29T13:45:44.947Z"
   },
   {
    "duration": 7,
    "start_time": "2022-01-29T13:45:45.030Z"
   },
   {
    "duration": 47,
    "start_time": "2022-01-29T13:45:45.040Z"
   },
   {
    "duration": 21,
    "start_time": "2022-01-29T13:45:45.091Z"
   },
   {
    "duration": 21,
    "start_time": "2022-01-29T13:45:45.115Z"
   },
   {
    "duration": 26,
    "start_time": "2022-01-29T13:45:45.138Z"
   },
   {
    "duration": 30,
    "start_time": "2022-01-29T13:45:45.166Z"
   },
   {
    "duration": 10,
    "start_time": "2022-01-29T13:45:45.198Z"
   },
   {
    "duration": 61,
    "start_time": "2022-01-29T13:45:45.210Z"
   },
   {
    "duration": 49,
    "start_time": "2022-01-29T13:45:45.273Z"
   },
   {
    "duration": 35,
    "start_time": "2022-01-29T13:45:45.325Z"
   },
   {
    "duration": 50,
    "start_time": "2022-01-29T13:45:45.362Z"
   },
   {
    "duration": 28,
    "start_time": "2022-01-29T13:45:45.414Z"
   },
   {
    "duration": 4,
    "start_time": "2022-01-29T13:45:45.445Z"
   },
   {
    "duration": 53,
    "start_time": "2022-01-29T13:45:45.451Z"
   },
   {
    "duration": 7,
    "start_time": "2022-01-29T13:45:45.506Z"
   },
   {
    "duration": 28,
    "start_time": "2022-01-29T13:45:45.514Z"
   },
   {
    "duration": 31,
    "start_time": "2022-01-29T13:45:45.544Z"
   },
   {
    "duration": 10,
    "start_time": "2022-01-29T13:45:45.577Z"
   },
   {
    "duration": 19,
    "start_time": "2022-01-29T13:45:45.589Z"
   },
   {
    "duration": 18,
    "start_time": "2022-01-29T13:45:45.610Z"
   },
   {
    "duration": 334,
    "start_time": "2022-01-29T13:45:45.630Z"
   },
   {
    "duration": 19,
    "start_time": "2022-01-29T13:45:45.966Z"
   },
   {
    "duration": 29,
    "start_time": "2022-01-29T13:45:45.987Z"
   },
   {
    "duration": 29,
    "start_time": "2022-01-29T13:45:46.018Z"
   },
   {
    "duration": 13,
    "start_time": "2022-01-29T13:45:46.049Z"
   },
   {
    "duration": 25,
    "start_time": "2022-01-29T13:45:46.064Z"
   },
   {
    "duration": 11,
    "start_time": "2022-01-29T13:45:46.091Z"
   },
   {
    "duration": 23,
    "start_time": "2022-01-29T13:45:46.104Z"
   },
   {
    "duration": 824,
    "start_time": "2022-01-29T13:45:46.130Z"
   },
   {
    "duration": 1970,
    "start_time": "2022-01-29T13:45:46.956Z"
   },
   {
    "duration": 28,
    "start_time": "2022-01-29T13:45:48.928Z"
   },
   {
    "duration": 8,
    "start_time": "2022-01-29T13:45:48.958Z"
   },
   {
    "duration": 41,
    "start_time": "2022-01-29T13:45:48.968Z"
   },
   {
    "duration": 24,
    "start_time": "2022-01-29T13:45:49.011Z"
   },
   {
    "duration": 19,
    "start_time": "2022-01-29T13:45:49.038Z"
   },
   {
    "duration": 9,
    "start_time": "2022-01-29T13:45:49.063Z"
   },
   {
    "duration": 39,
    "start_time": "2022-01-29T13:45:49.075Z"
   },
   {
    "duration": 7,
    "start_time": "2022-01-29T13:45:49.116Z"
   },
   {
    "duration": 11,
    "start_time": "2022-01-29T13:45:49.125Z"
   },
   {
    "duration": 6,
    "start_time": "2022-01-29T13:45:49.138Z"
   },
   {
    "duration": 7,
    "start_time": "2022-01-29T13:45:49.146Z"
   },
   {
    "duration": 11,
    "start_time": "2022-01-29T13:45:49.154Z"
   },
   {
    "duration": 40,
    "start_time": "2022-01-29T13:45:49.166Z"
   },
   {
    "duration": 10,
    "start_time": "2022-01-29T13:45:49.208Z"
   },
   {
    "duration": 15,
    "start_time": "2022-01-29T13:45:49.219Z"
   },
   {
    "duration": 1355,
    "start_time": "2022-01-29T13:45:49.236Z"
   },
   {
    "duration": 1420,
    "start_time": "2022-01-29T13:45:50.593Z"
   },
   {
    "duration": 1267,
    "start_time": "2022-01-29T13:45:52.016Z"
   },
   {
    "duration": 1293,
    "start_time": "2022-01-29T13:45:53.285Z"
   },
   {
    "duration": 8,
    "start_time": "2022-01-29T13:45:54.581Z"
   },
   {
    "duration": 18,
    "start_time": "2022-01-29T13:45:54.591Z"
   },
   {
    "duration": 8,
    "start_time": "2022-01-29T13:45:54.610Z"
   },
   {
    "duration": 6,
    "start_time": "2022-01-29T13:45:54.620Z"
   },
   {
    "duration": 11,
    "start_time": "2022-01-29T13:45:54.628Z"
   },
   {
    "duration": 12,
    "start_time": "2022-01-29T13:45:54.641Z"
   },
   {
    "duration": 6,
    "start_time": "2022-01-29T13:45:54.655Z"
   },
   {
    "duration": 46,
    "start_time": "2022-01-29T13:45:54.663Z"
   },
   {
    "duration": 24,
    "start_time": "2022-01-29T13:45:54.711Z"
   },
   {
    "duration": 14,
    "start_time": "2022-01-29T13:45:54.737Z"
   },
   {
    "duration": 8,
    "start_time": "2022-01-29T13:46:08.011Z"
   },
   {
    "duration": 359,
    "start_time": "2022-01-29T13:46:12.502Z"
   },
   {
    "duration": 1198,
    "start_time": "2022-01-29T14:46:58.446Z"
   },
   {
    "duration": 3,
    "start_time": "2022-01-29T14:46:59.646Z"
   },
   {
    "duration": 483,
    "start_time": "2022-01-29T14:46:59.653Z"
   },
   {
    "duration": 14,
    "start_time": "2022-01-29T14:47:00.138Z"
   },
   {
    "duration": 11,
    "start_time": "2022-01-29T14:47:00.154Z"
   },
   {
    "duration": 33,
    "start_time": "2022-01-29T14:47:00.167Z"
   },
   {
    "duration": 17,
    "start_time": "2022-01-29T14:47:00.203Z"
   },
   {
    "duration": 5,
    "start_time": "2022-01-29T14:47:00.223Z"
   },
   {
    "duration": 10,
    "start_time": "2022-01-29T14:47:00.230Z"
   },
   {
    "duration": 23,
    "start_time": "2022-01-29T14:47:00.242Z"
   },
   {
    "duration": 45,
    "start_time": "2022-01-29T14:47:00.267Z"
   },
   {
    "duration": 12,
    "start_time": "2022-01-29T14:47:00.314Z"
   },
   {
    "duration": 44,
    "start_time": "2022-01-29T14:47:00.328Z"
   },
   {
    "duration": 10,
    "start_time": "2022-01-29T14:47:00.374Z"
   },
   {
    "duration": 91,
    "start_time": "2022-01-29T14:47:00.387Z"
   },
   {
    "duration": 10,
    "start_time": "2022-01-29T14:47:00.480Z"
   },
   {
    "duration": 45,
    "start_time": "2022-01-29T14:47:00.492Z"
   },
   {
    "duration": 8,
    "start_time": "2022-01-29T14:47:00.539Z"
   },
   {
    "duration": 19,
    "start_time": "2022-01-29T14:47:00.549Z"
   },
   {
    "duration": 30,
    "start_time": "2022-01-29T14:47:00.570Z"
   },
   {
    "duration": 26,
    "start_time": "2022-01-29T14:47:00.602Z"
   },
   {
    "duration": 9,
    "start_time": "2022-01-29T14:47:00.633Z"
   },
   {
    "duration": 97,
    "start_time": "2022-01-29T14:47:00.646Z"
   },
   {
    "duration": 33,
    "start_time": "2022-01-29T14:47:00.745Z"
   },
   {
    "duration": 53,
    "start_time": "2022-01-29T14:47:00.780Z"
   },
   {
    "duration": 34,
    "start_time": "2022-01-29T14:47:00.835Z"
   },
   {
    "duration": 47,
    "start_time": "2022-01-29T14:47:00.871Z"
   },
   {
    "duration": 5,
    "start_time": "2022-01-29T14:47:00.920Z"
   },
   {
    "duration": 26,
    "start_time": "2022-01-29T14:47:00.927Z"
   },
   {
    "duration": 5,
    "start_time": "2022-01-29T14:47:00.955Z"
   },
   {
    "duration": 38,
    "start_time": "2022-01-29T14:47:00.961Z"
   },
   {
    "duration": 19,
    "start_time": "2022-01-29T14:47:01.001Z"
   },
   {
    "duration": 8,
    "start_time": "2022-01-29T14:47:01.022Z"
   },
   {
    "duration": 11,
    "start_time": "2022-01-29T14:47:01.032Z"
   },
   {
    "duration": 20,
    "start_time": "2022-01-29T14:47:01.045Z"
   },
   {
    "duration": 367,
    "start_time": "2022-01-29T14:47:01.067Z"
   },
   {
    "duration": 19,
    "start_time": "2022-01-29T14:47:01.436Z"
   },
   {
    "duration": 21,
    "start_time": "2022-01-29T14:47:01.457Z"
   },
   {
    "duration": 27,
    "start_time": "2022-01-29T14:47:01.480Z"
   },
   {
    "duration": 6,
    "start_time": "2022-01-29T14:47:01.509Z"
   },
   {
    "duration": 20,
    "start_time": "2022-01-29T14:47:01.517Z"
   },
   {
    "duration": 4,
    "start_time": "2022-01-29T14:47:01.539Z"
   },
   {
    "duration": 8,
    "start_time": "2022-01-29T14:47:01.545Z"
   },
   {
    "duration": 979,
    "start_time": "2022-01-29T14:47:01.555Z"
   },
   {
    "duration": 2239,
    "start_time": "2022-01-29T14:47:02.536Z"
   },
   {
    "duration": 34,
    "start_time": "2022-01-29T14:47:04.777Z"
   },
   {
    "duration": 9,
    "start_time": "2022-01-29T14:47:04.813Z"
   },
   {
    "duration": 16,
    "start_time": "2022-01-29T14:47:04.824Z"
   },
   {
    "duration": 17,
    "start_time": "2022-01-29T14:47:04.842Z"
   },
   {
    "duration": 49,
    "start_time": "2022-01-29T14:47:04.861Z"
   },
   {
    "duration": 8,
    "start_time": "2022-01-29T14:47:04.913Z"
   },
   {
    "duration": 17,
    "start_time": "2022-01-29T14:47:04.924Z"
   },
   {
    "duration": 9,
    "start_time": "2022-01-29T14:47:04.943Z"
   },
   {
    "duration": 11,
    "start_time": "2022-01-29T14:47:04.954Z"
   },
   {
    "duration": 4,
    "start_time": "2022-01-29T14:47:04.999Z"
   },
   {
    "duration": 7,
    "start_time": "2022-01-29T14:47:05.006Z"
   },
   {
    "duration": 15,
    "start_time": "2022-01-29T14:47:05.015Z"
   },
   {
    "duration": 13,
    "start_time": "2022-01-29T14:47:05.032Z"
   },
   {
    "duration": 13,
    "start_time": "2022-01-29T14:47:05.047Z"
   },
   {
    "duration": 37,
    "start_time": "2022-01-29T14:47:05.062Z"
   },
   {
    "duration": 1504,
    "start_time": "2022-01-29T14:47:05.102Z"
   },
   {
    "duration": 1613,
    "start_time": "2022-01-29T14:47:06.608Z"
   },
   {
    "duration": 1419,
    "start_time": "2022-01-29T14:47:08.223Z"
   },
   {
    "duration": 1403,
    "start_time": "2022-01-29T14:47:09.643Z"
   },
   {
    "duration": 10,
    "start_time": "2022-01-29T14:47:11.048Z"
   },
   {
    "duration": 6,
    "start_time": "2022-01-29T14:47:11.060Z"
   },
   {
    "duration": 4,
    "start_time": "2022-01-29T14:47:11.072Z"
   },
   {
    "duration": 6,
    "start_time": "2022-01-29T14:47:11.099Z"
   },
   {
    "duration": 13,
    "start_time": "2022-01-29T14:47:11.107Z"
   },
   {
    "duration": 13,
    "start_time": "2022-01-29T14:47:11.122Z"
   },
   {
    "duration": 12,
    "start_time": "2022-01-29T14:47:11.137Z"
   },
   {
    "duration": 10,
    "start_time": "2022-01-29T14:47:11.151Z"
   },
   {
    "duration": 12,
    "start_time": "2022-01-29T14:47:11.163Z"
   },
   {
    "duration": 24,
    "start_time": "2022-01-29T14:47:11.177Z"
   },
   {
    "duration": 303,
    "start_time": "2022-01-29T14:56:42.885Z"
   },
   {
    "duration": 11,
    "start_time": "2022-01-29T14:56:47.944Z"
   },
   {
    "duration": 5,
    "start_time": "2022-01-29T16:17:19.988Z"
   },
   {
    "duration": 5,
    "start_time": "2022-01-29T16:17:20.992Z"
   },
   {
    "duration": 5,
    "start_time": "2022-01-29T16:17:21.803Z"
   },
   {
    "duration": 5,
    "start_time": "2022-01-29T16:17:22.614Z"
   },
   {
    "duration": 5,
    "start_time": "2022-01-29T16:17:23.384Z"
   },
   {
    "duration": 5,
    "start_time": "2022-01-29T16:17:24.154Z"
   },
   {
    "duration": 5,
    "start_time": "2022-01-29T16:17:24.849Z"
   },
   {
    "duration": 4,
    "start_time": "2022-01-29T16:17:28.664Z"
   },
   {
    "duration": 5,
    "start_time": "2022-01-29T16:17:29.510Z"
   },
   {
    "duration": 6,
    "start_time": "2022-01-29T16:17:30.195Z"
   },
   {
    "duration": 5,
    "start_time": "2022-01-29T16:19:25.850Z"
   },
   {
    "duration": 5,
    "start_time": "2022-01-29T16:19:28.813Z"
   },
   {
    "duration": 18,
    "start_time": "2022-01-29T16:33:51.609Z"
   },
   {
    "duration": 4,
    "start_time": "2022-01-29T16:33:55.983Z"
   },
   {
    "duration": 4,
    "start_time": "2022-01-29T16:34:13.103Z"
   },
   {
    "duration": 19,
    "start_time": "2022-01-29T16:38:58.072Z"
   },
   {
    "duration": 5,
    "start_time": "2022-01-29T16:40:21.390Z"
   },
   {
    "duration": 86,
    "start_time": "2022-01-31T10:22:56.271Z"
   },
   {
    "duration": 354,
    "start_time": "2022-01-31T10:25:05.184Z"
   },
   {
    "duration": 1592,
    "start_time": "2022-01-31T10:25:14.007Z"
   },
   {
    "duration": 3,
    "start_time": "2022-01-31T10:25:15.601Z"
   },
   {
    "duration": 624,
    "start_time": "2022-01-31T10:25:15.607Z"
   },
   {
    "duration": 24,
    "start_time": "2022-01-31T10:25:16.233Z"
   },
   {
    "duration": 8,
    "start_time": "2022-01-31T10:25:16.260Z"
   },
   {
    "duration": 16,
    "start_time": "2022-01-31T10:25:16.271Z"
   },
   {
    "duration": 61,
    "start_time": "2022-01-31T10:25:16.290Z"
   },
   {
    "duration": 9,
    "start_time": "2022-01-31T10:25:16.357Z"
   },
   {
    "duration": 9,
    "start_time": "2022-01-31T10:25:16.369Z"
   },
   {
    "duration": 11,
    "start_time": "2022-01-31T10:25:16.380Z"
   },
   {
    "duration": 55,
    "start_time": "2022-01-31T10:25:16.393Z"
   },
   {
    "duration": 14,
    "start_time": "2022-01-31T10:25:16.450Z"
   },
   {
    "duration": 15,
    "start_time": "2022-01-31T10:25:16.467Z"
   },
   {
    "duration": 53,
    "start_time": "2022-01-31T10:25:16.485Z"
   },
   {
    "duration": 118,
    "start_time": "2022-01-31T10:25:16.541Z"
   },
   {
    "duration": 8,
    "start_time": "2022-01-31T10:25:16.661Z"
   },
   {
    "duration": 25,
    "start_time": "2022-01-31T10:25:16.672Z"
   },
   {
    "duration": 10,
    "start_time": "2022-01-31T10:25:16.699Z"
   },
   {
    "duration": 11,
    "start_time": "2022-01-31T10:25:16.733Z"
   },
   {
    "duration": 17,
    "start_time": "2022-01-31T10:25:16.750Z"
   },
   {
    "duration": 64,
    "start_time": "2022-01-31T10:25:16.770Z"
   },
   {
    "duration": 14,
    "start_time": "2022-01-31T10:25:16.836Z"
   },
   {
    "duration": 108,
    "start_time": "2022-01-31T10:25:16.858Z"
   },
   {
    "duration": 42,
    "start_time": "2022-01-31T10:25:16.971Z"
   },
   {
    "duration": 50,
    "start_time": "2022-01-31T10:25:17.032Z"
   },
   {
    "duration": 65,
    "start_time": "2022-01-31T10:25:17.085Z"
   },
   {
    "duration": 42,
    "start_time": "2022-01-31T10:25:17.152Z"
   },
   {
    "duration": 6,
    "start_time": "2022-01-31T10:25:17.196Z"
   },
   {
    "duration": 62,
    "start_time": "2022-01-31T10:25:17.204Z"
   },
   {
    "duration": 7,
    "start_time": "2022-01-31T10:25:17.269Z"
   },
   {
    "duration": 16,
    "start_time": "2022-01-31T10:25:17.279Z"
   },
   {
    "duration": 35,
    "start_time": "2022-01-31T10:25:17.334Z"
   },
   {
    "duration": 13,
    "start_time": "2022-01-31T10:25:17.371Z"
   },
   {
    "duration": 8,
    "start_time": "2022-01-31T10:25:17.386Z"
   },
   {
    "duration": 45,
    "start_time": "2022-01-31T10:25:17.396Z"
   },
   {
    "duration": 618,
    "start_time": "2022-01-31T10:25:17.443Z"
   },
   {
    "duration": 27,
    "start_time": "2022-01-31T10:25:18.065Z"
   },
   {
    "duration": 40,
    "start_time": "2022-01-31T10:25:18.094Z"
   },
   {
    "duration": 21,
    "start_time": "2022-01-31T10:25:18.138Z"
   },
   {
    "duration": 7,
    "start_time": "2022-01-31T10:25:18.162Z"
   },
   {
    "duration": 26,
    "start_time": "2022-01-31T10:25:18.172Z"
   },
   {
    "duration": 6,
    "start_time": "2022-01-31T10:25:18.232Z"
   },
   {
    "duration": 8,
    "start_time": "2022-01-31T10:25:18.240Z"
   },
   {
    "duration": 1210,
    "start_time": "2022-01-31T10:25:18.250Z"
   },
   {
    "duration": 3121,
    "start_time": "2022-01-31T10:25:19.463Z"
   },
   {
    "duration": 47,
    "start_time": "2022-01-31T10:25:22.586Z"
   },
   {
    "duration": 11,
    "start_time": "2022-01-31T10:25:22.636Z"
   },
   {
    "duration": 23,
    "start_time": "2022-01-31T10:25:22.649Z"
   },
   {
    "duration": 21,
    "start_time": "2022-01-31T10:25:22.674Z"
   },
   {
    "duration": 52,
    "start_time": "2022-01-31T10:25:22.697Z"
   },
   {
    "duration": 9,
    "start_time": "2022-01-31T10:25:22.751Z"
   },
   {
    "duration": 20,
    "start_time": "2022-01-31T10:25:22.763Z"
   },
   {
    "duration": 48,
    "start_time": "2022-01-31T10:25:22.785Z"
   },
   {
    "duration": 13,
    "start_time": "2022-01-31T10:25:22.835Z"
   },
   {
    "duration": 4,
    "start_time": "2022-01-31T10:25:22.850Z"
   },
   {
    "duration": 7,
    "start_time": "2022-01-31T10:25:22.857Z"
   },
   {
    "duration": 17,
    "start_time": "2022-01-31T10:25:22.866Z"
   },
   {
    "duration": 11,
    "start_time": "2022-01-31T10:25:22.885Z"
   },
   {
    "duration": 12,
    "start_time": "2022-01-31T10:25:22.933Z"
   },
   {
    "duration": 12,
    "start_time": "2022-01-31T10:25:22.947Z"
   },
   {
    "duration": 2435,
    "start_time": "2022-01-31T10:25:22.962Z"
   },
   {
    "duration": 1994,
    "start_time": "2022-01-31T10:25:25.400Z"
   },
   {
    "duration": 1820,
    "start_time": "2022-01-31T10:25:27.396Z"
   },
   {
    "duration": 1721,
    "start_time": "2022-01-31T10:25:29.219Z"
   },
   {
    "duration": 13,
    "start_time": "2022-01-31T10:25:30.944Z"
   },
   {
    "duration": 14,
    "start_time": "2022-01-31T10:25:30.960Z"
   },
   {
    "duration": 9,
    "start_time": "2022-01-31T10:25:30.976Z"
   },
   {
    "duration": 7,
    "start_time": "2022-01-31T10:25:30.991Z"
   },
   {
    "duration": 11,
    "start_time": "2022-01-31T10:25:31.033Z"
   },
   {
    "duration": 16,
    "start_time": "2022-01-31T10:25:31.046Z"
   },
   {
    "duration": 5,
    "start_time": "2022-01-31T10:25:31.064Z"
   },
   {
    "duration": 12,
    "start_time": "2022-01-31T10:25:31.071Z"
   },
   {
    "duration": 9,
    "start_time": "2022-01-31T10:25:31.085Z"
   },
   {
    "duration": 38,
    "start_time": "2022-01-31T10:25:31.097Z"
   },
   {
    "duration": 12,
    "start_time": "2022-01-31T10:25:54.361Z"
   },
   {
    "duration": 10,
    "start_time": "2022-01-31T10:27:00.960Z"
   },
   {
    "duration": 11,
    "start_time": "2022-01-31T10:28:17.092Z"
   },
   {
    "duration": 8,
    "start_time": "2022-01-31T10:28:17.969Z"
   },
   {
    "duration": 11,
    "start_time": "2022-01-31T10:28:18.513Z"
   },
   {
    "duration": 548,
    "start_time": "2022-01-31T10:28:18.958Z"
   },
   {
    "duration": 563,
    "start_time": "2022-01-31T10:31:31.182Z"
   },
   {
    "duration": 25,
    "start_time": "2022-01-31T10:31:32.112Z"
   },
   {
    "duration": 4,
    "start_time": "2022-01-31T10:31:45.388Z"
   },
   {
    "duration": 8,
    "start_time": "2022-01-31T10:31:45.394Z"
   },
   {
    "duration": 630,
    "start_time": "2022-01-31T10:31:45.406Z"
   },
   {
    "duration": 15,
    "start_time": "2022-01-31T10:31:46.039Z"
   },
   {
    "duration": 12,
    "start_time": "2022-01-31T10:31:46.056Z"
   },
   {
    "duration": 14,
    "start_time": "2022-01-31T10:31:46.070Z"
   },
   {
    "duration": 53,
    "start_time": "2022-01-31T10:31:46.087Z"
   },
   {
    "duration": 8,
    "start_time": "2022-01-31T10:31:46.143Z"
   },
   {
    "duration": 12,
    "start_time": "2022-01-31T10:31:46.158Z"
   },
   {
    "duration": 15,
    "start_time": "2022-01-31T10:31:46.174Z"
   },
   {
    "duration": 68,
    "start_time": "2022-01-31T10:31:46.191Z"
   },
   {
    "duration": 14,
    "start_time": "2022-01-31T10:31:46.262Z"
   },
   {
    "duration": 20,
    "start_time": "2022-01-31T10:31:46.279Z"
   },
   {
    "duration": 18,
    "start_time": "2022-01-31T10:31:46.334Z"
   },
   {
    "duration": 161,
    "start_time": "2022-01-31T10:31:46.356Z"
   },
   {
    "duration": 18,
    "start_time": "2022-01-31T10:31:46.520Z"
   },
   {
    "duration": 34,
    "start_time": "2022-01-31T10:31:46.541Z"
   },
   {
    "duration": 14,
    "start_time": "2022-01-31T10:31:46.578Z"
   },
   {
    "duration": 44,
    "start_time": "2022-01-31T10:31:46.595Z"
   },
   {
    "duration": 21,
    "start_time": "2022-01-31T10:31:46.643Z"
   },
   {
    "duration": 43,
    "start_time": "2022-01-31T10:31:46.667Z"
   },
   {
    "duration": 29,
    "start_time": "2022-01-31T10:31:46.712Z"
   },
   {
    "duration": 90,
    "start_time": "2022-01-31T10:31:46.744Z"
   },
   {
    "duration": 50,
    "start_time": "2022-01-31T10:31:46.836Z"
   },
   {
    "duration": 74,
    "start_time": "2022-01-31T10:31:46.889Z"
   },
   {
    "duration": 47,
    "start_time": "2022-01-31T10:31:46.966Z"
   },
   {
    "duration": 46,
    "start_time": "2022-01-31T10:31:47.033Z"
   },
   {
    "duration": 6,
    "start_time": "2022-01-31T10:31:47.083Z"
   },
   {
    "duration": 62,
    "start_time": "2022-01-31T10:31:47.092Z"
   },
   {
    "duration": 7,
    "start_time": "2022-01-31T10:31:47.158Z"
   },
   {
    "duration": 19,
    "start_time": "2022-01-31T10:31:47.167Z"
   },
   {
    "duration": 60,
    "start_time": "2022-01-31T10:31:47.189Z"
   },
   {
    "duration": 11,
    "start_time": "2022-01-31T10:31:47.252Z"
   },
   {
    "duration": 11,
    "start_time": "2022-01-31T10:31:47.265Z"
   },
   {
    "duration": 13,
    "start_time": "2022-01-31T10:31:47.278Z"
   },
   {
    "duration": 608,
    "start_time": "2022-01-31T10:31:47.293Z"
   },
   {
    "duration": 36,
    "start_time": "2022-01-31T10:31:47.903Z"
   },
   {
    "duration": 19,
    "start_time": "2022-01-31T10:31:47.941Z"
   },
   {
    "duration": 22,
    "start_time": "2022-01-31T10:31:47.963Z"
   },
   {
    "duration": 7,
    "start_time": "2022-01-31T10:31:47.988Z"
   },
   {
    "duration": 37,
    "start_time": "2022-01-31T10:31:48.031Z"
   },
   {
    "duration": 6,
    "start_time": "2022-01-31T10:31:48.070Z"
   },
   {
    "duration": 10,
    "start_time": "2022-01-31T10:31:48.078Z"
   },
   {
    "duration": 1367,
    "start_time": "2022-01-31T10:31:48.091Z"
   },
   {
    "duration": 2939,
    "start_time": "2022-01-31T10:31:49.461Z"
   },
   {
    "duration": 53,
    "start_time": "2022-01-31T10:31:52.402Z"
   },
   {
    "duration": 10,
    "start_time": "2022-01-31T10:31:52.457Z"
   },
   {
    "duration": 23,
    "start_time": "2022-01-31T10:31:52.469Z"
   },
   {
    "duration": 46,
    "start_time": "2022-01-31T10:31:52.495Z"
   },
   {
    "duration": 31,
    "start_time": "2022-01-31T10:31:52.545Z"
   },
   {
    "duration": 12,
    "start_time": "2022-01-31T10:31:52.580Z"
   },
   {
    "duration": 56,
    "start_time": "2022-01-31T10:31:52.596Z"
   },
   {
    "duration": 12,
    "start_time": "2022-01-31T10:31:52.656Z"
   },
   {
    "duration": 17,
    "start_time": "2022-01-31T10:31:52.671Z"
   },
   {
    "duration": 5,
    "start_time": "2022-01-31T10:31:52.690Z"
   },
   {
    "duration": 37,
    "start_time": "2022-01-31T10:31:52.698Z"
   },
   {
    "duration": 15,
    "start_time": "2022-01-31T10:31:52.737Z"
   },
   {
    "duration": 13,
    "start_time": "2022-01-31T10:31:52.755Z"
   },
   {
    "duration": 19,
    "start_time": "2022-01-31T10:31:52.770Z"
   },
   {
    "duration": 42,
    "start_time": "2022-01-31T10:31:52.791Z"
   },
   {
    "duration": 1860,
    "start_time": "2022-01-31T10:31:52.838Z"
   },
   {
    "duration": 2492,
    "start_time": "2022-01-31T10:31:54.702Z"
   },
   {
    "duration": 2014,
    "start_time": "2022-01-31T10:31:57.197Z"
   },
   {
    "duration": 1803,
    "start_time": "2022-01-31T10:31:59.215Z"
   },
   {
    "duration": 17,
    "start_time": "2022-01-31T10:32:01.021Z"
   },
   {
    "duration": 12,
    "start_time": "2022-01-31T10:32:01.041Z"
   },
   {
    "duration": 11,
    "start_time": "2022-01-31T10:32:01.055Z"
   },
   {
    "duration": 12,
    "start_time": "2022-01-31T10:32:01.069Z"
   },
   {
    "duration": 18,
    "start_time": "2022-01-31T10:32:01.084Z"
   },
   {
    "duration": 21,
    "start_time": "2022-01-31T10:32:01.132Z"
   },
   {
    "duration": 10,
    "start_time": "2022-01-31T10:32:01.156Z"
   },
   {
    "duration": 6,
    "start_time": "2022-01-31T10:32:01.168Z"
   },
   {
    "duration": 12,
    "start_time": "2022-01-31T10:32:01.177Z"
   },
   {
    "duration": 46,
    "start_time": "2022-01-31T10:32:01.192Z"
   },
   {
    "duration": 1242,
    "start_time": "2022-01-31T10:33:11.927Z"
   },
   {
    "duration": 38,
    "start_time": "2022-01-31T10:33:13.172Z"
   },
   {
    "duration": 547,
    "start_time": "2022-01-31T10:33:45.320Z"
   },
   {
    "duration": 24,
    "start_time": "2022-01-31T10:33:45.970Z"
   },
   {
    "duration": 110,
    "start_time": "2022-01-31T10:34:01.261Z"
   },
   {
    "duration": 24,
    "start_time": "2022-01-31T10:34:02.443Z"
   },
   {
    "duration": 615,
    "start_time": "2022-01-31T10:34:34.988Z"
   },
   {
    "duration": 38,
    "start_time": "2022-01-31T10:34:35.605Z"
   },
   {
    "duration": 6,
    "start_time": "2022-01-31T10:35:42.076Z"
   },
   {
    "duration": 28,
    "start_time": "2022-01-31T10:35:54.384Z"
   },
   {
    "duration": 7,
    "start_time": "2022-01-31T10:37:11.296Z"
   },
   {
    "duration": 32,
    "start_time": "2022-01-31T10:37:11.978Z"
   },
   {
    "duration": 6,
    "start_time": "2022-01-31T10:38:35.495Z"
   },
   {
    "duration": 27,
    "start_time": "2022-01-31T10:38:36.040Z"
   },
   {
    "duration": 6,
    "start_time": "2022-01-31T10:38:45.752Z"
   },
   {
    "duration": 28,
    "start_time": "2022-01-31T10:38:46.195Z"
   },
   {
    "duration": 5,
    "start_time": "2022-01-31T10:38:58.972Z"
   },
   {
    "duration": 28,
    "start_time": "2022-01-31T10:38:59.720Z"
   },
   {
    "duration": 25,
    "start_time": "2022-01-31T10:39:04.054Z"
   },
   {
    "duration": 5,
    "start_time": "2022-01-31T10:39:04.534Z"
   },
   {
    "duration": 27,
    "start_time": "2022-01-31T10:39:05.039Z"
   },
   {
    "duration": 6,
    "start_time": "2022-01-31T10:39:12.102Z"
   },
   {
    "duration": 25,
    "start_time": "2022-01-31T10:39:12.579Z"
   },
   {
    "duration": 569,
    "start_time": "2022-01-31T10:39:19.672Z"
   },
   {
    "duration": 25,
    "start_time": "2022-01-31T10:39:20.277Z"
   },
   {
    "duration": 5,
    "start_time": "2022-01-31T10:39:45.384Z"
   },
   {
    "duration": 11,
    "start_time": "2022-01-31T10:39:45.391Z"
   },
   {
    "duration": 575,
    "start_time": "2022-01-31T10:39:45.405Z"
   },
   {
    "duration": 14,
    "start_time": "2022-01-31T10:39:45.983Z"
   },
   {
    "duration": 32,
    "start_time": "2022-01-31T10:39:45.999Z"
   },
   {
    "duration": 12,
    "start_time": "2022-01-31T10:39:46.033Z"
   },
   {
    "duration": 20,
    "start_time": "2022-01-31T10:39:46.049Z"
   },
   {
    "duration": 5,
    "start_time": "2022-01-31T10:39:46.072Z"
   },
   {
    "duration": 12,
    "start_time": "2022-01-31T10:39:46.080Z"
   },
   {
    "duration": 46,
    "start_time": "2022-01-31T10:39:46.095Z"
   },
   {
    "duration": 24,
    "start_time": "2022-01-31T10:39:46.143Z"
   },
   {
    "duration": 10,
    "start_time": "2022-01-31T10:39:46.169Z"
   },
   {
    "duration": 13,
    "start_time": "2022-01-31T10:39:46.181Z"
   },
   {
    "duration": 12,
    "start_time": "2022-01-31T10:39:46.233Z"
   },
   {
    "duration": 101,
    "start_time": "2022-01-31T10:39:46.247Z"
   },
   {
    "duration": 8,
    "start_time": "2022-01-31T10:39:46.350Z"
   },
   {
    "duration": 22,
    "start_time": "2022-01-31T10:39:46.360Z"
   },
   {
    "duration": 11,
    "start_time": "2022-01-31T10:39:46.384Z"
   },
   {
    "duration": 38,
    "start_time": "2022-01-31T10:39:46.400Z"
   },
   {
    "duration": 15,
    "start_time": "2022-01-31T10:39:46.442Z"
   },
   {
    "duration": 31,
    "start_time": "2022-01-31T10:39:46.459Z"
   },
   {
    "duration": 44,
    "start_time": "2022-01-31T10:39:46.493Z"
   },
   {
    "duration": 74,
    "start_time": "2022-01-31T10:39:46.540Z"
   },
   {
    "duration": 42,
    "start_time": "2022-01-31T10:39:46.632Z"
   },
   {
    "duration": 61,
    "start_time": "2022-01-31T10:39:46.677Z"
   },
   {
    "duration": 39,
    "start_time": "2022-01-31T10:39:46.741Z"
   },
   {
    "duration": 64,
    "start_time": "2022-01-31T10:39:46.783Z"
   },
   {
    "duration": 5,
    "start_time": "2022-01-31T10:39:46.850Z"
   },
   {
    "duration": 31,
    "start_time": "2022-01-31T10:39:46.857Z"
   },
   {
    "duration": 6,
    "start_time": "2022-01-31T10:39:46.890Z"
   },
   {
    "duration": 44,
    "start_time": "2022-01-31T10:39:46.898Z"
   },
   {
    "duration": 23,
    "start_time": "2022-01-31T10:39:46.945Z"
   },
   {
    "duration": 10,
    "start_time": "2022-01-31T10:39:46.970Z"
   },
   {
    "duration": 8,
    "start_time": "2022-01-31T10:39:46.982Z"
   },
   {
    "duration": 43,
    "start_time": "2022-01-31T10:39:46.992Z"
   },
   {
    "duration": 569,
    "start_time": "2022-01-31T10:39:47.037Z"
   },
   {
    "duration": 36,
    "start_time": "2022-01-31T10:39:47.608Z"
   },
   {
    "duration": 7,
    "start_time": "2022-01-31T10:39:47.647Z"
   },
   {
    "duration": 29,
    "start_time": "2022-01-31T10:39:47.656Z"
   },
   {
    "duration": 50,
    "start_time": "2022-01-31T10:39:47.688Z"
   },
   {
    "duration": 16,
    "start_time": "2022-01-31T10:39:47.741Z"
   },
   {
    "duration": 8,
    "start_time": "2022-01-31T10:39:47.760Z"
   },
   {
    "duration": 68,
    "start_time": "2022-01-31T10:39:47.771Z"
   },
   {
    "duration": 6,
    "start_time": "2022-01-31T10:39:47.842Z"
   },
   {
    "duration": 8,
    "start_time": "2022-01-31T10:39:47.851Z"
   },
   {
    "duration": 1337,
    "start_time": "2022-01-31T10:39:47.862Z"
   },
   {
    "duration": 3008,
    "start_time": "2022-01-31T10:39:49.201Z"
   },
   {
    "duration": 46,
    "start_time": "2022-01-31T10:39:52.211Z"
   },
   {
    "duration": 16,
    "start_time": "2022-01-31T10:39:52.260Z"
   },
   {
    "duration": 22,
    "start_time": "2022-01-31T10:39:52.279Z"
   },
   {
    "duration": 45,
    "start_time": "2022-01-31T10:39:52.303Z"
   },
   {
    "duration": 23,
    "start_time": "2022-01-31T10:39:52.350Z"
   },
   {
    "duration": 15,
    "start_time": "2022-01-31T10:39:52.375Z"
   },
   {
    "duration": 39,
    "start_time": "2022-01-31T10:39:52.392Z"
   },
   {
    "duration": 27,
    "start_time": "2022-01-31T10:39:52.438Z"
   },
   {
    "duration": 23,
    "start_time": "2022-01-31T10:39:52.468Z"
   },
   {
    "duration": 10,
    "start_time": "2022-01-31T10:39:52.493Z"
   },
   {
    "duration": 10,
    "start_time": "2022-01-31T10:39:52.506Z"
   },
   {
    "duration": 15,
    "start_time": "2022-01-31T10:39:52.518Z"
   },
   {
    "duration": 18,
    "start_time": "2022-01-31T10:39:52.535Z"
   },
   {
    "duration": 13,
    "start_time": "2022-01-31T10:39:52.555Z"
   },
   {
    "duration": 16,
    "start_time": "2022-01-31T10:39:52.570Z"
   },
   {
    "duration": 1712,
    "start_time": "2022-01-31T10:39:52.588Z"
   },
   {
    "duration": 1655,
    "start_time": "2022-01-31T10:39:54.302Z"
   },
   {
    "duration": 1803,
    "start_time": "2022-01-31T10:39:55.959Z"
   },
   {
    "duration": 1907,
    "start_time": "2022-01-31T10:39:57.765Z"
   },
   {
    "duration": 12,
    "start_time": "2022-01-31T10:39:59.674Z"
   },
   {
    "duration": 8,
    "start_time": "2022-01-31T10:39:59.688Z"
   },
   {
    "duration": 34,
    "start_time": "2022-01-31T10:39:59.698Z"
   },
   {
    "duration": 6,
    "start_time": "2022-01-31T10:39:59.734Z"
   },
   {
    "duration": 11,
    "start_time": "2022-01-31T10:39:59.743Z"
   },
   {
    "duration": 13,
    "start_time": "2022-01-31T10:39:59.756Z"
   },
   {
    "duration": 4,
    "start_time": "2022-01-31T10:39:59.772Z"
   },
   {
    "duration": 54,
    "start_time": "2022-01-31T10:39:59.778Z"
   },
   {
    "duration": 5,
    "start_time": "2022-01-31T10:39:59.835Z"
   },
   {
    "duration": 9,
    "start_time": "2022-01-31T10:39:59.842Z"
   },
   {
    "duration": 5,
    "start_time": "2022-01-31T10:40:06.717Z"
   },
   {
    "duration": 29,
    "start_time": "2022-01-31T10:40:06.725Z"
   },
   {
    "duration": 82,
    "start_time": "2022-01-31T10:43:25.860Z"
   },
   {
    "duration": 987,
    "start_time": "2022-01-31T10:46:46.552Z"
   },
   {
    "duration": 429,
    "start_time": "2022-01-31T10:52:59.078Z"
   },
   {
    "duration": 684,
    "start_time": "2022-01-31T10:54:20.590Z"
   },
   {
    "duration": 12,
    "start_time": "2022-01-31T10:56:52.077Z"
   },
   {
    "duration": 11,
    "start_time": "2022-01-31T10:57:17.433Z"
   },
   {
    "duration": 7,
    "start_time": "2022-01-31T10:57:44.608Z"
   },
   {
    "duration": 7,
    "start_time": "2022-01-31T10:59:14.204Z"
   },
   {
    "duration": 7,
    "start_time": "2022-01-31T11:01:49.621Z"
   },
   {
    "duration": 7,
    "start_time": "2022-01-31T11:02:16.108Z"
   },
   {
    "duration": 7,
    "start_time": "2022-01-31T11:02:40.049Z"
   },
   {
    "duration": 11,
    "start_time": "2022-01-31T11:06:39.274Z"
   },
   {
    "duration": 25,
    "start_time": "2022-01-31T11:06:50.732Z"
   },
   {
    "duration": 7,
    "start_time": "2022-01-31T11:06:51.418Z"
   },
   {
    "duration": 11,
    "start_time": "2022-01-31T11:07:01.302Z"
   },
   {
    "duration": 11,
    "start_time": "2022-01-31T11:07:01.927Z"
   },
   {
    "duration": 9,
    "start_time": "2022-01-31T11:07:03.154Z"
   },
   {
    "duration": 1153,
    "start_time": "2022-01-31T17:55:57.465Z"
   },
   {
    "duration": 3,
    "start_time": "2022-01-31T17:55:58.620Z"
   },
   {
    "duration": 471,
    "start_time": "2022-01-31T17:55:58.628Z"
   },
   {
    "duration": 12,
    "start_time": "2022-01-31T17:55:59.101Z"
   },
   {
    "duration": 6,
    "start_time": "2022-01-31T17:55:59.114Z"
   },
   {
    "duration": 22,
    "start_time": "2022-01-31T17:55:59.122Z"
   },
   {
    "duration": 18,
    "start_time": "2022-01-31T17:55:59.147Z"
   },
   {
    "duration": 7,
    "start_time": "2022-01-31T17:55:59.167Z"
   },
   {
    "duration": 7,
    "start_time": "2022-01-31T17:55:59.176Z"
   },
   {
    "duration": 35,
    "start_time": "2022-01-31T17:55:59.185Z"
   },
   {
    "duration": 23,
    "start_time": "2022-01-31T17:55:59.223Z"
   },
   {
    "duration": 10,
    "start_time": "2022-01-31T17:55:59.248Z"
   },
   {
    "duration": 11,
    "start_time": "2022-01-31T17:55:59.260Z"
   },
   {
    "duration": 7,
    "start_time": "2022-01-31T17:55:59.273Z"
   },
   {
    "duration": 75,
    "start_time": "2022-01-31T17:55:59.319Z"
   },
   {
    "duration": 29,
    "start_time": "2022-01-31T17:55:59.396Z"
   },
   {
    "duration": 24,
    "start_time": "2022-01-31T17:55:59.427Z"
   },
   {
    "duration": 7,
    "start_time": "2022-01-31T17:55:59.453Z"
   },
   {
    "duration": 8,
    "start_time": "2022-01-31T17:55:59.462Z"
   },
   {
    "duration": 11,
    "start_time": "2022-01-31T17:55:59.472Z"
   },
   {
    "duration": 55,
    "start_time": "2022-01-31T17:55:59.485Z"
   },
   {
    "duration": 10,
    "start_time": "2022-01-31T17:55:59.544Z"
   },
   {
    "duration": 89,
    "start_time": "2022-01-31T17:55:59.557Z"
   },
   {
    "duration": 29,
    "start_time": "2022-01-31T17:55:59.648Z"
   },
   {
    "duration": 56,
    "start_time": "2022-01-31T17:55:59.679Z"
   },
   {
    "duration": 35,
    "start_time": "2022-01-31T17:55:59.737Z"
   },
   {
    "duration": 48,
    "start_time": "2022-01-31T17:55:59.773Z"
   },
   {
    "duration": 5,
    "start_time": "2022-01-31T17:55:59.823Z"
   },
   {
    "duration": 30,
    "start_time": "2022-01-31T17:55:59.830Z"
   },
   {
    "duration": 4,
    "start_time": "2022-01-31T17:55:59.862Z"
   },
   {
    "duration": 13,
    "start_time": "2022-01-31T17:55:59.868Z"
   },
   {
    "duration": 37,
    "start_time": "2022-01-31T17:55:59.883Z"
   },
   {
    "duration": 11,
    "start_time": "2022-01-31T17:55:59.923Z"
   },
   {
    "duration": 10,
    "start_time": "2022-01-31T17:55:59.937Z"
   },
   {
    "duration": 8,
    "start_time": "2022-01-31T17:55:59.949Z"
   },
   {
    "duration": 449,
    "start_time": "2022-01-31T17:55:59.959Z"
   },
   {
    "duration": 31,
    "start_time": "2022-01-31T17:56:00.410Z"
   },
   {
    "duration": 35,
    "start_time": "2022-01-31T17:56:00.443Z"
   },
   {
    "duration": 59,
    "start_time": "2022-01-31T17:56:00.480Z"
   },
   {
    "duration": 24,
    "start_time": "2022-01-31T17:56:00.541Z"
   },
   {
    "duration": 14,
    "start_time": "2022-01-31T17:56:00.567Z"
   },
   {
    "duration": 14,
    "start_time": "2022-01-31T17:56:00.583Z"
   },
   {
    "duration": 29,
    "start_time": "2022-01-31T17:56:00.599Z"
   },
   {
    "duration": 4,
    "start_time": "2022-01-31T17:56:00.631Z"
   },
   {
    "duration": 18,
    "start_time": "2022-01-31T17:56:00.637Z"
   },
   {
    "duration": 787,
    "start_time": "2022-01-31T17:56:00.657Z"
   },
   {
    "duration": 1895,
    "start_time": "2022-01-31T17:56:01.446Z"
   },
   {
    "duration": 23,
    "start_time": "2022-01-31T17:56:03.343Z"
   },
   {
    "duration": 8,
    "start_time": "2022-01-31T17:56:03.368Z"
   },
   {
    "duration": 13,
    "start_time": "2022-01-31T17:56:03.378Z"
   },
   {
    "duration": 35,
    "start_time": "2022-01-31T17:56:03.393Z"
   },
   {
    "duration": 23,
    "start_time": "2022-01-31T17:56:03.431Z"
   },
   {
    "duration": 8,
    "start_time": "2022-01-31T17:56:03.456Z"
   },
   {
    "duration": 13,
    "start_time": "2022-01-31T17:56:03.466Z"
   },
   {
    "duration": 8,
    "start_time": "2022-01-31T17:56:03.481Z"
   },
   {
    "duration": 28,
    "start_time": "2022-01-31T17:56:03.491Z"
   },
   {
    "duration": 5,
    "start_time": "2022-01-31T17:56:03.521Z"
   },
   {
    "duration": 16,
    "start_time": "2022-01-31T17:56:03.528Z"
   },
   {
    "duration": 9,
    "start_time": "2022-01-31T17:56:03.546Z"
   },
   {
    "duration": 14,
    "start_time": "2022-01-31T17:56:03.557Z"
   },
   {
    "duration": 10,
    "start_time": "2022-01-31T17:56:03.573Z"
   },
   {
    "duration": 40,
    "start_time": "2022-01-31T17:56:03.584Z"
   },
   {
    "duration": 12,
    "start_time": "2022-01-31T17:56:03.628Z"
   },
   {
    "duration": 8,
    "start_time": "2022-01-31T17:56:03.643Z"
   },
   {
    "duration": 6,
    "start_time": "2022-01-31T17:56:03.653Z"
   },
   {
    "duration": 11,
    "start_time": "2022-01-31T17:56:03.661Z"
   },
   {
    "duration": 18,
    "start_time": "2022-01-31T17:56:03.678Z"
   },
   {
    "duration": 11,
    "start_time": "2022-01-31T17:56:03.718Z"
   },
   {
    "duration": 15,
    "start_time": "2022-01-31T17:56:03.732Z"
   },
   {
    "duration": 23,
    "start_time": "2022-01-31T17:56:03.749Z"
   },
   {
    "duration": 21,
    "start_time": "2022-01-31T17:56:03.774Z"
   },
   {
    "duration": 16,
    "start_time": "2022-01-31T17:56:03.797Z"
   },
   {
    "duration": 24,
    "start_time": "2022-01-31T17:56:03.815Z"
   },
   {
    "duration": 20,
    "start_time": "2022-01-31T17:56:03.840Z"
   },
   {
    "duration": 14,
    "start_time": "2022-01-31T17:56:03.862Z"
   }
  ],
  "kernelspec": {
   "display_name": "Python 3 (ipykernel)",
   "language": "python",
   "name": "python3"
  },
  "language_info": {
   "codemirror_mode": {
    "name": "ipython",
    "version": 3
   },
   "file_extension": ".py",
   "mimetype": "text/x-python",
   "name": "python",
   "nbconvert_exporter": "python",
   "pygments_lexer": "ipython3",
   "version": "3.9.5"
  },
  "toc": {
   "base_numbering": 1,
   "nav_menu": {},
   "number_sections": true,
   "sideBar": true,
   "skip_h1_title": true,
   "title_cell": "Table of Contents",
   "title_sidebar": "Contents",
   "toc_cell": false,
   "toc_position": {},
   "toc_section_display": true,
   "toc_window_display": false
  }
 },
 "nbformat": 4,
 "nbformat_minor": 2
}
