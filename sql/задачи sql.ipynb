{
 "cells": [
  {
   "cell_type": "markdown",
   "metadata": {
    "toc": true
   },
   "source": [
    "<h1>Table of Contents<span class=\"tocSkip\"></span></h1>\n",
    "<div class=\"toc\"><ul class=\"toc-item\"><li><ul class=\"toc-item\"><li><span><a href=\"#Описание-данных\" data-toc-modified-id=\"Описание-данных-0.1\"><span class=\"toc-item-num\">0.1&nbsp;&nbsp;</span>Описание данных</a></span></li></ul></li><li><span><a href=\"#Шаг-1\" data-toc-modified-id=\"Шаг-1-1\"><span class=\"toc-item-num\">1&nbsp;&nbsp;</span>Шаг 1</a></span><ul class=\"toc-item\"><li><ul class=\"toc-item\"><li><span><a href=\"#Вывод:\" data-toc-modified-id=\"Вывод:-1.0.1\"><span class=\"toc-item-num\">1.0.1&nbsp;&nbsp;</span>Вывод:</a></span></li></ul></li></ul></li><li><span><a href=\"#Задача-1\" data-toc-modified-id=\"Задача-1-2\"><span class=\"toc-item-num\">2&nbsp;&nbsp;</span>Задача 1</a></span><ul class=\"toc-item\"><li><span><a href=\"#Ответ\" data-toc-modified-id=\"Ответ-2.1\"><span class=\"toc-item-num\">2.1&nbsp;&nbsp;</span>Ответ</a></span></li></ul></li><li><span><a href=\"#Задача-2\" data-toc-modified-id=\"Задача-2-3\"><span class=\"toc-item-num\">3&nbsp;&nbsp;</span>Задача 2</a></span><ul class=\"toc-item\"><li><span><a href=\"#Ответ\" data-toc-modified-id=\"Ответ-3.1\"><span class=\"toc-item-num\">3.1&nbsp;&nbsp;</span>Ответ</a></span></li></ul></li><li><span><a href=\"#Задача-3\" data-toc-modified-id=\"Задача-3-4\"><span class=\"toc-item-num\">4&nbsp;&nbsp;</span>Задача 3</a></span><ul class=\"toc-item\"><li><span><a href=\"#Ответ\" data-toc-modified-id=\"Ответ-4.1\"><span class=\"toc-item-num\">4.1&nbsp;&nbsp;</span>Ответ</a></span></li></ul></li><li><span><a href=\"#Задача-4\" data-toc-modified-id=\"Задача-4-5\"><span class=\"toc-item-num\">5&nbsp;&nbsp;</span>Задача 4</a></span><ul class=\"toc-item\"><li><span><a href=\"#Ответ\" data-toc-modified-id=\"Ответ-5.1\"><span class=\"toc-item-num\">5.1&nbsp;&nbsp;</span>Ответ</a></span></li></ul></li><li><span><a href=\"#Задача-5\" data-toc-modified-id=\"Задача-5-6\"><span class=\"toc-item-num\">6&nbsp;&nbsp;</span>Задача 5</a></span><ul class=\"toc-item\"><li><span><a href=\"#Ответ\" data-toc-modified-id=\"Ответ-6.1\"><span class=\"toc-item-num\">6.1&nbsp;&nbsp;</span>Ответ</a></span></li><li><span><a href=\"#Вывод\" data-toc-modified-id=\"Вывод-6.2\"><span class=\"toc-item-num\">6.2&nbsp;&nbsp;</span>Вывод</a></span></li></ul></li></ul></div>"
   ]
  },
  {
   "cell_type": "markdown",
   "metadata": {},
   "source": [
    "# SQL\n",
    "Крупный сервис для чтения книг по подписке. \n",
    "\n",
    "Первая задача как аналитика — проанализировать базу данных. В ней — информация о книгах, издательствах, авторах, а также пользовательские обзоры книг. Эти данные помогут сформулировать ценностное предложение для нового продукта."
   ]
  },
  {
   "cell_type": "markdown",
   "metadata": {},
   "source": [
    "# Описание даннх\n",
    "### Описание данных\n",
    "\n",
    "**Таблица `books`**\n",
    "\n",
    "Содержит данные о книгах:\n",
    "\n",
    "- `book_id` — идентификатор книги;\n",
    "- `author_id` — идентификатор автора;\n",
    "- `title` — название книги;\n",
    "- `num_pages` — количество страниц;\n",
    "- `publication_date` — дата публикации книги;\n",
    "- `publisher_id` — идентификатор издателя.\n",
    "\n",
    "**Таблица `authors`**\n",
    "\n",
    "Содержит данные об авторах:\n",
    "\n",
    "- `author_id` — идентификатор автора;\n",
    "- `author` — имя автора.\n",
    "\n",
    "**Таблица `publishers`**\n",
    "\n",
    "Содержит данные об издательствах:\n",
    "\n",
    "- `publisher_id` — идентификатор издательства;\n",
    "- `publisher` — название издательства;\n",
    "\n",
    "**Таблица `ratings`**\n",
    "\n",
    "Содержит данные о пользовательских оценках книг:\n",
    "\n",
    "- `rating_id` — идентификатор оценки;\n",
    "- `book_id` — идентификатор книги;\n",
    "- `username` — имя пользователя, оставившего оценку;\n",
    "- `rating` — оценка книги.\n",
    "\n",
    "**Таблица `reviews`**\n",
    "\n",
    "Содержит данные о пользовательских обзорах на книги:\n",
    "\n",
    "- `review_id` — идентификатор обзора;\n",
    "- `book_id` — идентификатор книги;\n",
    "- `username` — имя пользователя, написавшего обзор;\n",
    "- `text` — текст обзора."
   ]
  },
  {
   "cell_type": "markdown",
   "metadata": {},
   "source": [
    "## Шаг 1 \n",
    "Прочитаь таблицы"
   ]
  },
  {
   "cell_type": "code",
   "execution_count": 1,
   "metadata": {},
   "outputs": [],
   "source": [
    "# импортируем библиотеки\n",
    "import pandas as pd\n",
    "from sqlalchemy import create_engine\n",
    "# устанавливаем параметры\n",
    "db_config = {'user': 'praktikum_student', # имя пользователя\n",
    "'pwd': 'Sdf4$2;d-d30pp', # пароль\n",
    "'host': 'rc1b-wcoijxj3yxfsf3fs.mdb.yandexcloud.net',\n",
    "'port': 6432, # порт подключения\n",
    "'db': 'data-analyst-final-project-db'} # название базы данных\n",
    "connection_string = 'postgresql://{}:{}@{}:{}/{}'.format(db_config['user'],\n",
    " db_config['pwd'],\n",
    " db_config['host'],\n",
    " db_config['port'],\n",
    " db_config['db'])\n",
    "# сохраняем коннектор\n",
    "engine = create_engine(connection_string, connect_args={'sslmode':'require'}) "
   ]
  },
  {
   "cell_type": "code",
   "execution_count": 2,
   "metadata": {
    "scrolled": true
   },
   "outputs": [
    {
     "data": {
      "text/html": [
       "<div>\n",
       "<style scoped>\n",
       "    .dataframe tbody tr th:only-of-type {\n",
       "        vertical-align: middle;\n",
       "    }\n",
       "\n",
       "    .dataframe tbody tr th {\n",
       "        vertical-align: top;\n",
       "    }\n",
       "\n",
       "    .dataframe thead th {\n",
       "        text-align: right;\n",
       "    }\n",
       "</style>\n",
       "<table border=\"1\" class=\"dataframe\">\n",
       "  <thead>\n",
       "    <tr style=\"text-align: right;\">\n",
       "      <th></th>\n",
       "      <th>book_id</th>\n",
       "      <th>author_id</th>\n",
       "      <th>title</th>\n",
       "      <th>num_pages</th>\n",
       "      <th>publication_date</th>\n",
       "      <th>publisher_id</th>\n",
       "    </tr>\n",
       "  </thead>\n",
       "  <tbody>\n",
       "    <tr>\n",
       "      <th>0</th>\n",
       "      <td>1</td>\n",
       "      <td>546</td>\n",
       "      <td>'Salem's Lot</td>\n",
       "      <td>594</td>\n",
       "      <td>2005-11-01</td>\n",
       "      <td>93</td>\n",
       "    </tr>\n",
       "    <tr>\n",
       "      <th>1</th>\n",
       "      <td>2</td>\n",
       "      <td>465</td>\n",
       "      <td>1 000 Places to See Before You Die</td>\n",
       "      <td>992</td>\n",
       "      <td>2003-05-22</td>\n",
       "      <td>336</td>\n",
       "    </tr>\n",
       "    <tr>\n",
       "      <th>2</th>\n",
       "      <td>3</td>\n",
       "      <td>407</td>\n",
       "      <td>13 Little Blue Envelopes (Little Blue Envelope...</td>\n",
       "      <td>322</td>\n",
       "      <td>2010-12-21</td>\n",
       "      <td>135</td>\n",
       "    </tr>\n",
       "    <tr>\n",
       "      <th>3</th>\n",
       "      <td>4</td>\n",
       "      <td>82</td>\n",
       "      <td>1491: New Revelations of the Americas Before C...</td>\n",
       "      <td>541</td>\n",
       "      <td>2006-10-10</td>\n",
       "      <td>309</td>\n",
       "    </tr>\n",
       "    <tr>\n",
       "      <th>4</th>\n",
       "      <td>5</td>\n",
       "      <td>125</td>\n",
       "      <td>1776</td>\n",
       "      <td>386</td>\n",
       "      <td>2006-07-04</td>\n",
       "      <td>268</td>\n",
       "    </tr>\n",
       "  </tbody>\n",
       "</table>\n",
       "</div>"
      ],
      "text/plain": [
       "   book_id  author_id                                              title  \\\n",
       "0        1        546                                       'Salem's Lot   \n",
       "1        2        465                 1 000 Places to See Before You Die   \n",
       "2        3        407  13 Little Blue Envelopes (Little Blue Envelope...   \n",
       "3        4         82  1491: New Revelations of the Americas Before C...   \n",
       "4        5        125                                               1776   \n",
       "\n",
       "   num_pages publication_date  publisher_id  \n",
       "0        594       2005-11-01            93  \n",
       "1        992       2003-05-22           336  \n",
       "2        322       2010-12-21           135  \n",
       "3        541       2006-10-10           309  \n",
       "4        386       2006-07-04           268  "
      ]
     },
     "execution_count": 2,
     "metadata": {},
     "output_type": "execute_result"
    }
   ],
   "source": [
    "query = (\n",
    "''' select *\n",
    "    from books\n",
    "''')\n",
    "books = pd.io.sql.read_sql(query, con = engine)\n",
    "books.head(5)"
   ]
  },
  {
   "cell_type": "code",
   "execution_count": 3,
   "metadata": {},
   "outputs": [
    {
     "name": "stdout",
     "output_type": "stream",
     "text": [
      "<class 'pandas.core.frame.DataFrame'>\n",
      "RangeIndex: 1000 entries, 0 to 999\n",
      "Data columns (total 6 columns):\n",
      " #   Column            Non-Null Count  Dtype \n",
      "---  ------            --------------  ----- \n",
      " 0   book_id           1000 non-null   int64 \n",
      " 1   author_id         1000 non-null   int64 \n",
      " 2   title             1000 non-null   object\n",
      " 3   num_pages         1000 non-null   int64 \n",
      " 4   publication_date  1000 non-null   object\n",
      " 5   publisher_id      1000 non-null   int64 \n",
      "dtypes: int64(4), object(2)\n",
      "memory usage: 47.0+ KB\n"
     ]
    }
   ],
   "source": [
    "books.info()"
   ]
  },
  {
   "cell_type": "code",
   "execution_count": 4,
   "metadata": {},
   "outputs": [
    {
     "data": {
      "text/html": [
       "<div>\n",
       "<style scoped>\n",
       "    .dataframe tbody tr th:only-of-type {\n",
       "        vertical-align: middle;\n",
       "    }\n",
       "\n",
       "    .dataframe tbody tr th {\n",
       "        vertical-align: top;\n",
       "    }\n",
       "\n",
       "    .dataframe thead th {\n",
       "        text-align: right;\n",
       "    }\n",
       "</style>\n",
       "<table border=\"1\" class=\"dataframe\">\n",
       "  <thead>\n",
       "    <tr style=\"text-align: right;\">\n",
       "      <th></th>\n",
       "      <th>author_id</th>\n",
       "      <th>author</th>\n",
       "    </tr>\n",
       "  </thead>\n",
       "  <tbody>\n",
       "    <tr>\n",
       "      <th>0</th>\n",
       "      <td>1</td>\n",
       "      <td>A.S. Byatt</td>\n",
       "    </tr>\n",
       "    <tr>\n",
       "      <th>1</th>\n",
       "      <td>2</td>\n",
       "      <td>Aesop/Laura Harris/Laura Gibbs</td>\n",
       "    </tr>\n",
       "    <tr>\n",
       "      <th>2</th>\n",
       "      <td>3</td>\n",
       "      <td>Agatha Christie</td>\n",
       "    </tr>\n",
       "    <tr>\n",
       "      <th>3</th>\n",
       "      <td>4</td>\n",
       "      <td>Alan Brennert</td>\n",
       "    </tr>\n",
       "    <tr>\n",
       "      <th>4</th>\n",
       "      <td>5</td>\n",
       "      <td>Alan Moore/David   Lloyd</td>\n",
       "    </tr>\n",
       "  </tbody>\n",
       "</table>\n",
       "</div>"
      ],
      "text/plain": [
       "   author_id                          author\n",
       "0          1                      A.S. Byatt\n",
       "1          2  Aesop/Laura Harris/Laura Gibbs\n",
       "2          3                 Agatha Christie\n",
       "3          4                   Alan Brennert\n",
       "4          5        Alan Moore/David   Lloyd"
      ]
     },
     "execution_count": 4,
     "metadata": {},
     "output_type": "execute_result"
    }
   ],
   "source": [
    "query = (\n",
    "''' select *\n",
    "    from authors\n",
    "''')\n",
    "authors = pd.io.sql.read_sql(query, con = engine)\n",
    "authors.head(5)"
   ]
  },
  {
   "cell_type": "code",
   "execution_count": 5,
   "metadata": {},
   "outputs": [
    {
     "name": "stdout",
     "output_type": "stream",
     "text": [
      "<class 'pandas.core.frame.DataFrame'>\n",
      "RangeIndex: 636 entries, 0 to 635\n",
      "Data columns (total 2 columns):\n",
      " #   Column     Non-Null Count  Dtype \n",
      "---  ------     --------------  ----- \n",
      " 0   author_id  636 non-null    int64 \n",
      " 1   author     636 non-null    object\n",
      "dtypes: int64(1), object(1)\n",
      "memory usage: 10.1+ KB\n"
     ]
    }
   ],
   "source": [
    "authors.info()"
   ]
  },
  {
   "cell_type": "code",
   "execution_count": 6,
   "metadata": {},
   "outputs": [
    {
     "data": {
      "text/html": [
       "<div>\n",
       "<style scoped>\n",
       "    .dataframe tbody tr th:only-of-type {\n",
       "        vertical-align: middle;\n",
       "    }\n",
       "\n",
       "    .dataframe tbody tr th {\n",
       "        vertical-align: top;\n",
       "    }\n",
       "\n",
       "    .dataframe thead th {\n",
       "        text-align: right;\n",
       "    }\n",
       "</style>\n",
       "<table border=\"1\" class=\"dataframe\">\n",
       "  <thead>\n",
       "    <tr style=\"text-align: right;\">\n",
       "      <th></th>\n",
       "      <th>publisher_id</th>\n",
       "      <th>publisher</th>\n",
       "    </tr>\n",
       "  </thead>\n",
       "  <tbody>\n",
       "    <tr>\n",
       "      <th>0</th>\n",
       "      <td>1</td>\n",
       "      <td>Ace</td>\n",
       "    </tr>\n",
       "    <tr>\n",
       "      <th>1</th>\n",
       "      <td>2</td>\n",
       "      <td>Ace Book</td>\n",
       "    </tr>\n",
       "    <tr>\n",
       "      <th>2</th>\n",
       "      <td>3</td>\n",
       "      <td>Ace Books</td>\n",
       "    </tr>\n",
       "    <tr>\n",
       "      <th>3</th>\n",
       "      <td>4</td>\n",
       "      <td>Ace Hardcover</td>\n",
       "    </tr>\n",
       "    <tr>\n",
       "      <th>4</th>\n",
       "      <td>5</td>\n",
       "      <td>Addison Wesley Publishing Company</td>\n",
       "    </tr>\n",
       "  </tbody>\n",
       "</table>\n",
       "</div>"
      ],
      "text/plain": [
       "   publisher_id                          publisher\n",
       "0             1                                Ace\n",
       "1             2                           Ace Book\n",
       "2             3                          Ace Books\n",
       "3             4                      Ace Hardcover\n",
       "4             5  Addison Wesley Publishing Company"
      ]
     },
     "execution_count": 6,
     "metadata": {},
     "output_type": "execute_result"
    }
   ],
   "source": [
    "query = (\n",
    "''' select *\n",
    "    from publishers\n",
    "    limit 5\n",
    "''')\n",
    "pd.io.sql.read_sql(query, con = engine)\n"
   ]
  },
  {
   "cell_type": "code",
   "execution_count": 7,
   "metadata": {},
   "outputs": [
    {
     "data": {
      "text/html": [
       "<div>\n",
       "<style scoped>\n",
       "    .dataframe tbody tr th:only-of-type {\n",
       "        vertical-align: middle;\n",
       "    }\n",
       "\n",
       "    .dataframe tbody tr th {\n",
       "        vertical-align: top;\n",
       "    }\n",
       "\n",
       "    .dataframe thead th {\n",
       "        text-align: right;\n",
       "    }\n",
       "</style>\n",
       "<table border=\"1\" class=\"dataframe\">\n",
       "  <thead>\n",
       "    <tr style=\"text-align: right;\">\n",
       "      <th></th>\n",
       "      <th>rating_id</th>\n",
       "      <th>book_id</th>\n",
       "      <th>username</th>\n",
       "      <th>rating</th>\n",
       "    </tr>\n",
       "  </thead>\n",
       "  <tbody>\n",
       "    <tr>\n",
       "      <th>3923</th>\n",
       "      <td>3924</td>\n",
       "      <td>635</td>\n",
       "      <td>colin90</td>\n",
       "      <td>4</td>\n",
       "    </tr>\n",
       "    <tr>\n",
       "      <th>4083</th>\n",
       "      <td>4084</td>\n",
       "      <td>665</td>\n",
       "      <td>shermannatalie</td>\n",
       "      <td>4</td>\n",
       "    </tr>\n",
       "    <tr>\n",
       "      <th>5597</th>\n",
       "      <td>5598</td>\n",
       "      <td>863</td>\n",
       "      <td>kevincampbell</td>\n",
       "      <td>4</td>\n",
       "    </tr>\n",
       "    <tr>\n",
       "      <th>3433</th>\n",
       "      <td>3434</td>\n",
       "      <td>545</td>\n",
       "      <td>johngonzalez</td>\n",
       "      <td>5</td>\n",
       "    </tr>\n",
       "    <tr>\n",
       "      <th>3043</th>\n",
       "      <td>3044</td>\n",
       "      <td>481</td>\n",
       "      <td>danielchung</td>\n",
       "      <td>4</td>\n",
       "    </tr>\n",
       "  </tbody>\n",
       "</table>\n",
       "</div>"
      ],
      "text/plain": [
       "      rating_id  book_id        username  rating\n",
       "3923       3924      635         colin90       4\n",
       "4083       4084      665  shermannatalie       4\n",
       "5597       5598      863   kevincampbell       4\n",
       "3433       3434      545    johngonzalez       5\n",
       "3043       3044      481     danielchung       4"
      ]
     },
     "execution_count": 7,
     "metadata": {},
     "output_type": "execute_result"
    }
   ],
   "source": [
    "query = (\n",
    "''' select *\n",
    "    from ratings\n",
    "\n",
    "''')\n",
    "ratings = pd.io.sql.read_sql(query, con = engine)\n",
    "ratings.sample(5)"
   ]
  },
  {
   "cell_type": "code",
   "execution_count": 8,
   "metadata": {},
   "outputs": [
    {
     "name": "stdout",
     "output_type": "stream",
     "text": [
      "<class 'pandas.core.frame.DataFrame'>\n",
      "RangeIndex: 6456 entries, 0 to 6455\n",
      "Data columns (total 4 columns):\n",
      " #   Column     Non-Null Count  Dtype \n",
      "---  ------     --------------  ----- \n",
      " 0   rating_id  6456 non-null   int64 \n",
      " 1   book_id    6456 non-null   int64 \n",
      " 2   username   6456 non-null   object\n",
      " 3   rating     6456 non-null   int64 \n",
      "dtypes: int64(3), object(1)\n",
      "memory usage: 201.9+ KB\n"
     ]
    }
   ],
   "source": [
    "ratings.info()"
   ]
  },
  {
   "cell_type": "code",
   "execution_count": 9,
   "metadata": {},
   "outputs": [
    {
     "data": {
      "text/html": [
       "<div>\n",
       "<style scoped>\n",
       "    .dataframe tbody tr th:only-of-type {\n",
       "        vertical-align: middle;\n",
       "    }\n",
       "\n",
       "    .dataframe tbody tr th {\n",
       "        vertical-align: top;\n",
       "    }\n",
       "\n",
       "    .dataframe thead th {\n",
       "        text-align: right;\n",
       "    }\n",
       "</style>\n",
       "<table border=\"1\" class=\"dataframe\">\n",
       "  <thead>\n",
       "    <tr style=\"text-align: right;\">\n",
       "      <th></th>\n",
       "      <th>review_id</th>\n",
       "      <th>book_id</th>\n",
       "      <th>username</th>\n",
       "      <th>text</th>\n",
       "    </tr>\n",
       "  </thead>\n",
       "  <tbody>\n",
       "    <tr>\n",
       "      <th>0</th>\n",
       "      <td>1</td>\n",
       "      <td>1</td>\n",
       "      <td>brandtandrea</td>\n",
       "      <td>Mention society tell send professor analysis. ...</td>\n",
       "    </tr>\n",
       "    <tr>\n",
       "      <th>1</th>\n",
       "      <td>2</td>\n",
       "      <td>1</td>\n",
       "      <td>ryanfranco</td>\n",
       "      <td>Foot glass pretty audience hit themselves. Amo...</td>\n",
       "    </tr>\n",
       "    <tr>\n",
       "      <th>2</th>\n",
       "      <td>3</td>\n",
       "      <td>2</td>\n",
       "      <td>lorichen</td>\n",
       "      <td>Listen treat keep worry. Miss husband tax but ...</td>\n",
       "    </tr>\n",
       "    <tr>\n",
       "      <th>3</th>\n",
       "      <td>4</td>\n",
       "      <td>3</td>\n",
       "      <td>johnsonamanda</td>\n",
       "      <td>Finally month interesting blue could nature cu...</td>\n",
       "    </tr>\n",
       "    <tr>\n",
       "      <th>4</th>\n",
       "      <td>5</td>\n",
       "      <td>3</td>\n",
       "      <td>scotttamara</td>\n",
       "      <td>Nation purpose heavy give wait song will. List...</td>\n",
       "    </tr>\n",
       "  </tbody>\n",
       "</table>\n",
       "</div>"
      ],
      "text/plain": [
       "   review_id  book_id       username  \\\n",
       "0          1        1   brandtandrea   \n",
       "1          2        1     ryanfranco   \n",
       "2          3        2       lorichen   \n",
       "3          4        3  johnsonamanda   \n",
       "4          5        3    scotttamara   \n",
       "\n",
       "                                                text  \n",
       "0  Mention society tell send professor analysis. ...  \n",
       "1  Foot glass pretty audience hit themselves. Amo...  \n",
       "2  Listen treat keep worry. Miss husband tax but ...  \n",
       "3  Finally month interesting blue could nature cu...  \n",
       "4  Nation purpose heavy give wait song will. List...  "
      ]
     },
     "execution_count": 9,
     "metadata": {},
     "output_type": "execute_result"
    }
   ],
   "source": [
    "query = (\n",
    "''' select *\n",
    "    from reviews\n",
    "    \n",
    "''')\n",
    "reviews = pd.io.sql.read_sql(query, con = engine)\n",
    "reviews.head(5)"
   ]
  },
  {
   "cell_type": "code",
   "execution_count": 10,
   "metadata": {},
   "outputs": [
    {
     "name": "stdout",
     "output_type": "stream",
     "text": [
      "<class 'pandas.core.frame.DataFrame'>\n",
      "RangeIndex: 2793 entries, 0 to 2792\n",
      "Data columns (total 4 columns):\n",
      " #   Column     Non-Null Count  Dtype \n",
      "---  ------     --------------  ----- \n",
      " 0   review_id  2793 non-null   int64 \n",
      " 1   book_id    2793 non-null   int64 \n",
      " 2   username   2793 non-null   object\n",
      " 3   text       2793 non-null   object\n",
      "dtypes: int64(2), object(2)\n",
      "memory usage: 87.4+ KB\n"
     ]
    }
   ],
   "source": [
    "reviews.info()"
   ]
  },
  {
   "cell_type": "markdown",
   "metadata": {},
   "source": [
    "#### Вывод:\n",
    "- Обзоров меньше, чем рейтингов\n",
    "- Книг всего 1000\n",
    "- авторов 636\n",
    "- издательств 5"
   ]
  },
  {
   "cell_type": "markdown",
   "metadata": {},
   "source": [
    "## Задача 1\n",
    "Посчитайте, сколько книг вышло после 1 января 2000 года"
   ]
  },
  {
   "cell_type": "code",
   "execution_count": 11,
   "metadata": {},
   "outputs": [
    {
     "data": {
      "text/html": [
       "<div>\n",
       "<style scoped>\n",
       "    .dataframe tbody tr th:only-of-type {\n",
       "        vertical-align: middle;\n",
       "    }\n",
       "\n",
       "    .dataframe tbody tr th {\n",
       "        vertical-align: top;\n",
       "    }\n",
       "\n",
       "    .dataframe thead th {\n",
       "        text-align: right;\n",
       "    }\n",
       "</style>\n",
       "<table border=\"1\" class=\"dataframe\">\n",
       "  <thead>\n",
       "    <tr style=\"text-align: right;\">\n",
       "      <th></th>\n",
       "      <th>count</th>\n",
       "    </tr>\n",
       "  </thead>\n",
       "  <tbody>\n",
       "    <tr>\n",
       "      <th>0</th>\n",
       "      <td>819</td>\n",
       "    </tr>\n",
       "  </tbody>\n",
       "</table>\n",
       "</div>"
      ],
      "text/plain": [
       "   count\n",
       "0    819"
      ]
     },
     "execution_count": 11,
     "metadata": {},
     "output_type": "execute_result"
    }
   ],
   "source": [
    "query = (\n",
    "'''\n",
    "SELECT \n",
    "COUNT(*)\n",
    "FROM books\n",
    "WHERE CAST(publication_date AS date) >'2000-01-01' \n",
    "''')\n",
    "pd.io.sql.read_sql(query, con = engine)\n"
   ]
  },
  {
   "cell_type": "markdown",
   "metadata": {},
   "source": [
    "### Ответ\n",
    "819 книг вышло после 1.01.2000"
   ]
  },
  {
   "cell_type": "markdown",
   "metadata": {},
   "source": [
    "## Задача 2\n",
    "Для каждой книги посчитайте количество обзоров и среднюю оценку"
   ]
  },
  {
   "cell_type": "code",
   "execution_count": 12,
   "metadata": {},
   "outputs": [
    {
     "data": {
      "text/html": [
       "<div>\n",
       "<style scoped>\n",
       "    .dataframe tbody tr th:only-of-type {\n",
       "        vertical-align: middle;\n",
       "    }\n",
       "\n",
       "    .dataframe tbody tr th {\n",
       "        vertical-align: top;\n",
       "    }\n",
       "\n",
       "    .dataframe thead th {\n",
       "        text-align: right;\n",
       "    }\n",
       "</style>\n",
       "<table border=\"1\" class=\"dataframe\">\n",
       "  <thead>\n",
       "    <tr style=\"text-align: right;\">\n",
       "      <th></th>\n",
       "      <th>book_id</th>\n",
       "      <th>review_count</th>\n",
       "      <th>avg</th>\n",
       "    </tr>\n",
       "  </thead>\n",
       "  <tbody>\n",
       "    <tr>\n",
       "      <th>0</th>\n",
       "      <td>652</td>\n",
       "      <td>4</td>\n",
       "      <td>4.500000</td>\n",
       "    </tr>\n",
       "    <tr>\n",
       "      <th>1</th>\n",
       "      <td>273</td>\n",
       "      <td>4</td>\n",
       "      <td>4.500000</td>\n",
       "    </tr>\n",
       "    <tr>\n",
       "      <th>2</th>\n",
       "      <td>51</td>\n",
       "      <td>60</td>\n",
       "      <td>4.250000</td>\n",
       "    </tr>\n",
       "    <tr>\n",
       "      <th>3</th>\n",
       "      <td>951</td>\n",
       "      <td>4</td>\n",
       "      <td>4.000000</td>\n",
       "    </tr>\n",
       "    <tr>\n",
       "      <th>4</th>\n",
       "      <td>839</td>\n",
       "      <td>28</td>\n",
       "      <td>4.285714</td>\n",
       "    </tr>\n",
       "    <tr>\n",
       "      <th>...</th>\n",
       "      <td>...</td>\n",
       "      <td>...</td>\n",
       "      <td>...</td>\n",
       "    </tr>\n",
       "    <tr>\n",
       "      <th>995</th>\n",
       "      <td>64</td>\n",
       "      <td>52</td>\n",
       "      <td>4.230769</td>\n",
       "    </tr>\n",
       "    <tr>\n",
       "      <th>996</th>\n",
       "      <td>55</td>\n",
       "      <td>4</td>\n",
       "      <td>5.000000</td>\n",
       "    </tr>\n",
       "    <tr>\n",
       "      <th>997</th>\n",
       "      <td>148</td>\n",
       "      <td>21</td>\n",
       "      <td>3.428571</td>\n",
       "    </tr>\n",
       "    <tr>\n",
       "      <th>998</th>\n",
       "      <td>790</td>\n",
       "      <td>4</td>\n",
       "      <td>3.500000</td>\n",
       "    </tr>\n",
       "    <tr>\n",
       "      <th>999</th>\n",
       "      <td>828</td>\n",
       "      <td>4</td>\n",
       "      <td>3.000000</td>\n",
       "    </tr>\n",
       "  </tbody>\n",
       "</table>\n",
       "<p>1000 rows × 3 columns</p>\n",
       "</div>"
      ],
      "text/plain": [
       "     book_id  review_count       avg\n",
       "0        652             4  4.500000\n",
       "1        273             4  4.500000\n",
       "2         51            60  4.250000\n",
       "3        951             4  4.000000\n",
       "4        839            28  4.285714\n",
       "..       ...           ...       ...\n",
       "995       64            52  4.230769\n",
       "996       55             4  5.000000\n",
       "997      148            21  3.428571\n",
       "998      790             4  3.500000\n",
       "999      828             4  3.000000\n",
       "\n",
       "[1000 rows x 3 columns]"
      ]
     },
     "execution_count": 12,
     "metadata": {},
     "output_type": "execute_result"
    }
   ],
   "source": [
    "query = (\n",
    "'''\n",
    "select b.book_id, \n",
    "count(r.review_id) as review_count,\n",
    "avg(rat.rating)\n",
    "from books b\n",
    "left outer join  reviews as r on b.book_id = r.book_id\n",
    "left outer join  ratings as rat on r.book_id = rat.book_id\n",
    "group by b.book_id\n",
    "''')\n",
    "pd.io.sql.read_sql(query, con = engine)"
   ]
  },
  {
   "cell_type": "markdown",
   "metadata": {},
   "source": [
    "### Ответ\n",
    "отображена таблица, в которой есть средняя оценка по каждой книге и кол-во обзоров"
   ]
  },
  {
   "cell_type": "markdown",
   "metadata": {},
   "source": [
    "## Задача 3\n",
    "Определите издательство, которое выпустило наибольшее число книг толще 50 страниц — так вы исключите из анализа брошюры"
   ]
  },
  {
   "cell_type": "code",
   "execution_count": 13,
   "metadata": {},
   "outputs": [
    {
     "data": {
      "text/html": [
       "<div>\n",
       "<style scoped>\n",
       "    .dataframe tbody tr th:only-of-type {\n",
       "        vertical-align: middle;\n",
       "    }\n",
       "\n",
       "    .dataframe tbody tr th {\n",
       "        vertical-align: top;\n",
       "    }\n",
       "\n",
       "    .dataframe thead th {\n",
       "        text-align: right;\n",
       "    }\n",
       "</style>\n",
       "<table border=\"1\" class=\"dataframe\">\n",
       "  <thead>\n",
       "    <tr style=\"text-align: right;\">\n",
       "      <th></th>\n",
       "      <th>publisher</th>\n",
       "      <th>count_books</th>\n",
       "    </tr>\n",
       "  </thead>\n",
       "  <tbody>\n",
       "    <tr>\n",
       "      <th>0</th>\n",
       "      <td>Penguin Books</td>\n",
       "      <td>42</td>\n",
       "    </tr>\n",
       "  </tbody>\n",
       "</table>\n",
       "</div>"
      ],
      "text/plain": [
       "       publisher  count_books\n",
       "0  Penguin Books           42"
      ]
     },
     "execution_count": 13,
     "metadata": {},
     "output_type": "execute_result"
    }
   ],
   "source": [
    "query = (\n",
    "'''\n",
    "select p.publisher, count(*) count_books \n",
    "from books as b\n",
    "INNER JOIN publishers as p on b.publisher_id = p.publisher_id\n",
    "where b.num_pages > 50\n",
    "group by p.publisher\n",
    "order by count(*) desc\n",
    "limit 1\n",
    "''')\n",
    "pd.io.sql.read_sql(query, con = engine)"
   ]
  },
  {
   "cell_type": "markdown",
   "metadata": {},
   "source": [
    "### Ответ\n",
    "издательство Penguin Books"
   ]
  },
  {
   "cell_type": "markdown",
   "metadata": {},
   "source": [
    "## Задача 4\n",
    "Определите автора с самой высокой средней оценкой книг — учитывайте только книги с 50 и более оценками"
   ]
  },
  {
   "cell_type": "code",
   "execution_count": 14,
   "metadata": {},
   "outputs": [
    {
     "data": {
      "text/html": [
       "<div>\n",
       "<style scoped>\n",
       "    .dataframe tbody tr th:only-of-type {\n",
       "        vertical-align: middle;\n",
       "    }\n",
       "\n",
       "    .dataframe tbody tr th {\n",
       "        vertical-align: top;\n",
       "    }\n",
       "\n",
       "    .dataframe thead th {\n",
       "        text-align: right;\n",
       "    }\n",
       "</style>\n",
       "<table border=\"1\" class=\"dataframe\">\n",
       "  <thead>\n",
       "    <tr style=\"text-align: right;\">\n",
       "      <th></th>\n",
       "      <th>author</th>\n",
       "      <th>avg</th>\n",
       "    </tr>\n",
       "  </thead>\n",
       "  <tbody>\n",
       "    <tr>\n",
       "      <th>0</th>\n",
       "      <td>J.K. Rowling/Mary GrandPré</td>\n",
       "      <td>4.288462</td>\n",
       "    </tr>\n",
       "  </tbody>\n",
       "</table>\n",
       "</div>"
      ],
      "text/plain": [
       "                       author       avg\n",
       "0  J.K. Rowling/Mary GrandPré  4.288462"
      ]
     },
     "execution_count": 14,
     "metadata": {},
     "output_type": "execute_result"
    }
   ],
   "source": [
    "query = (\n",
    "'''\n",
    "select a.author, avg(rat.rating)\n",
    "from books as b\n",
    "INNER JOIN authors as a on b.author_id = a.author_id\n",
    "INNER JOIN ratings as rat on b.book_id = rat.book_id\n",
    "group by author\n",
    "having count(*) >= 50\n",
    "limit 1\n",
    "''')\n",
    "pd.io.sql.read_sql(query, con = engine)"
   ]
  },
  {
   "cell_type": "markdown",
   "metadata": {},
   "source": [
    "### Ответ\n",
    "автоп J.K. Rowling/Mary GrandPré имеет самую высокую среднюю оценку среди книг с 50 и более оценками"
   ]
  },
  {
   "cell_type": "markdown",
   "metadata": {},
   "source": [
    "## Задача 5\n",
    "Посчитайте среднее количество обзоров от пользователей, которые поставили больше 50 оценок."
   ]
  },
  {
   "cell_type": "code",
   "execution_count": 15,
   "metadata": {},
   "outputs": [
    {
     "data": {
      "text/html": [
       "<div>\n",
       "<style scoped>\n",
       "    .dataframe tbody tr th:only-of-type {\n",
       "        vertical-align: middle;\n",
       "    }\n",
       "\n",
       "    .dataframe tbody tr th {\n",
       "        vertical-align: top;\n",
       "    }\n",
       "\n",
       "    .dataframe thead th {\n",
       "        text-align: right;\n",
       "    }\n",
       "</style>\n",
       "<table border=\"1\" class=\"dataframe\">\n",
       "  <thead>\n",
       "    <tr style=\"text-align: right;\">\n",
       "      <th></th>\n",
       "      <th>username</th>\n",
       "      <th>count</th>\n",
       "    </tr>\n",
       "  </thead>\n",
       "  <tbody>\n",
       "    <tr>\n",
       "      <th>0</th>\n",
       "      <td>sfitzgerald</td>\n",
       "      <td>55</td>\n",
       "    </tr>\n",
       "    <tr>\n",
       "      <th>1</th>\n",
       "      <td>jennifermiller</td>\n",
       "      <td>53</td>\n",
       "    </tr>\n",
       "    <tr>\n",
       "      <th>2</th>\n",
       "      <td>xdavis</td>\n",
       "      <td>51</td>\n",
       "    </tr>\n",
       "    <tr>\n",
       "      <th>3</th>\n",
       "      <td>paul88</td>\n",
       "      <td>56</td>\n",
       "    </tr>\n",
       "    <tr>\n",
       "      <th>4</th>\n",
       "      <td>martinadam</td>\n",
       "      <td>56</td>\n",
       "    </tr>\n",
       "    <tr>\n",
       "      <th>5</th>\n",
       "      <td>richard89</td>\n",
       "      <td>55</td>\n",
       "    </tr>\n",
       "  </tbody>\n",
       "</table>\n",
       "</div>"
      ],
      "text/plain": [
       "         username  count\n",
       "0     sfitzgerald     55\n",
       "1  jennifermiller     53\n",
       "2          xdavis     51\n",
       "3          paul88     56\n",
       "4      martinadam     56\n",
       "5       richard89     55"
      ]
     },
     "execution_count": 15,
     "metadata": {},
     "output_type": "execute_result"
    }
   ],
   "source": [
    "#спомогательные таблицы для себя\n",
    "query = '''\n",
    "            SELECT username, COUNT(rating)\n",
    "            FROM ratings\n",
    "            GROUP BY username\n",
    "            HAVING COUNT(rating) > 50\n",
    "                 '''\n",
    "pd.io.sql.read_sql(query, con = engine)"
   ]
  },
  {
   "cell_type": "code",
   "execution_count": 16,
   "metadata": {},
   "outputs": [
    {
     "data": {
      "text/html": [
       "<div>\n",
       "<style scoped>\n",
       "    .dataframe tbody tr th:only-of-type {\n",
       "        vertical-align: middle;\n",
       "    }\n",
       "\n",
       "    .dataframe tbody tr th {\n",
       "        vertical-align: top;\n",
       "    }\n",
       "\n",
       "    .dataframe thead th {\n",
       "        text-align: right;\n",
       "    }\n",
       "</style>\n",
       "<table border=\"1\" class=\"dataframe\">\n",
       "  <thead>\n",
       "    <tr style=\"text-align: right;\">\n",
       "      <th></th>\n",
       "      <th>username</th>\n",
       "      <th>count</th>\n",
       "    </tr>\n",
       "  </thead>\n",
       "  <tbody>\n",
       "    <tr>\n",
       "      <th>0</th>\n",
       "      <td>zjohnston</td>\n",
       "      <td>14</td>\n",
       "    </tr>\n",
       "    <tr>\n",
       "      <th>1</th>\n",
       "      <td>jnelson</td>\n",
       "      <td>21</td>\n",
       "    </tr>\n",
       "    <tr>\n",
       "      <th>2</th>\n",
       "      <td>lewisdesiree</td>\n",
       "      <td>19</td>\n",
       "    </tr>\n",
       "    <tr>\n",
       "      <th>3</th>\n",
       "      <td>patrickhudson</td>\n",
       "      <td>15</td>\n",
       "    </tr>\n",
       "    <tr>\n",
       "      <th>4</th>\n",
       "      <td>ulowe</td>\n",
       "      <td>16</td>\n",
       "    </tr>\n",
       "    <tr>\n",
       "      <th>...</th>\n",
       "      <td>...</td>\n",
       "      <td>...</td>\n",
       "    </tr>\n",
       "    <tr>\n",
       "      <th>155</th>\n",
       "      <td>shermannatalie</td>\n",
       "      <td>24</td>\n",
       "    </tr>\n",
       "    <tr>\n",
       "      <th>156</th>\n",
       "      <td>dmiller</td>\n",
       "      <td>18</td>\n",
       "    </tr>\n",
       "    <tr>\n",
       "      <th>157</th>\n",
       "      <td>charlesraymond</td>\n",
       "      <td>16</td>\n",
       "    </tr>\n",
       "    <tr>\n",
       "      <th>158</th>\n",
       "      <td>isaiahreyes</td>\n",
       "      <td>15</td>\n",
       "    </tr>\n",
       "    <tr>\n",
       "      <th>159</th>\n",
       "      <td>masonsara</td>\n",
       "      <td>14</td>\n",
       "    </tr>\n",
       "  </tbody>\n",
       "</table>\n",
       "<p>160 rows × 2 columns</p>\n",
       "</div>"
      ],
      "text/plain": [
       "           username  count\n",
       "0         zjohnston     14\n",
       "1           jnelson     21\n",
       "2      lewisdesiree     19\n",
       "3     patrickhudson     15\n",
       "4             ulowe     16\n",
       "..              ...    ...\n",
       "155  shermannatalie     24\n",
       "156         dmiller     18\n",
       "157  charlesraymond     16\n",
       "158     isaiahreyes     15\n",
       "159       masonsara     14\n",
       "\n",
       "[160 rows x 2 columns]"
      ]
     },
     "execution_count": 16,
     "metadata": {},
     "output_type": "execute_result"
    }
   ],
   "source": [
    "query = '''\n",
    "            SELECT username, COUNT(review_id)\n",
    "            FROM reviews\n",
    "            GROUP BY username\n",
    "            \n",
    "                 '''\n",
    "pd.io.sql.read_sql(query, con = engine)"
   ]
  },
  {
   "cell_type": "code",
   "execution_count": 17,
   "metadata": {},
   "outputs": [
    {
     "data": {
      "text/html": [
       "<div>\n",
       "<style scoped>\n",
       "    .dataframe tbody tr th:only-of-type {\n",
       "        vertical-align: middle;\n",
       "    }\n",
       "\n",
       "    .dataframe tbody tr th {\n",
       "        vertical-align: top;\n",
       "    }\n",
       "\n",
       "    .dataframe thead th {\n",
       "        text-align: right;\n",
       "    }\n",
       "</style>\n",
       "<table border=\"1\" class=\"dataframe\">\n",
       "  <thead>\n",
       "    <tr style=\"text-align: right;\">\n",
       "      <th></th>\n",
       "      <th>avg</th>\n",
       "    </tr>\n",
       "  </thead>\n",
       "  <tbody>\n",
       "    <tr>\n",
       "      <th>0</th>\n",
       "      <td>24.333333</td>\n",
       "    </tr>\n",
       "  </tbody>\n",
       "</table>\n",
       "</div>"
      ],
      "text/plain": [
       "         avg\n",
       "0  24.333333"
      ]
     },
     "execution_count": 17,
     "metadata": {},
     "output_type": "execute_result"
    }
   ],
   "source": [
    "query = (\n",
    "'''\n",
    "WITH\n",
    "rat AS (SELECT username, COUNT(rating)\n",
    "            FROM ratings\n",
    "            GROUP BY username\n",
    "            HAVING COUNT(rating) > 50),\n",
    "\n",
    "r AS (SELECT username, COUNT(review_id) as review_count\n",
    "            FROM reviews\n",
    "            GROUP BY username)\n",
    "SELECT avg(review_count)\n",
    "FROM rat LEFT OUTER JOIN r ON rat.username=r.username;\n",
    "\n",
    "\n",
    "''')\n",
    "pd.io.sql.read_sql(query, con = engine)"
   ]
  },
  {
   "cell_type": "markdown",
   "metadata": {},
   "source": [
    "### Ответ\n",
    "среднее кол-во обзоров от пользователей, которые поставили более 50 оценок: 24,3"
   ]
  },
  {
   "cell_type": "markdown",
   "metadata": {},
   "source": [
    "### Вывод\n",
    "в рамках проекта представлено 5 таблиц с данными от книжного сервиса:\n",
    "- Книг представлено всего 1000\n",
    "- Авторов 636\n",
    "- Издательств 5\n",
    "- В таблице ratings  рейтингов проставлено больше, чем обзоров (написать обхор более трудозатратно, скорее всего связано с этим)\n",
    "\n",
    "* Для большинства книг было написано несколько обзоров \n",
    "* Издательство \"Penguin Books\" выпустило 42 книги толще 50 страниц и является самым выпускаемым для такого объема\n",
    "* Автор с самой высокой оценкой - Джоан Роулинг в соавторстве с Мэри Гранпрэ(иллюстратором). Вполне ожидаемо, так как книги о Гарри Поттере одни из самых популярных и любимых\n",
    "* Среднее количество обзоров от пользователей, которые поставили более 50 оценок - 24. Можно предположить, что пользователям нравится  серсис и они с удовольствием им пользуются"
   ]
  }
 ],
 "metadata": {
  "ExecuteTimeLog": [
   {
    "duration": 5,
    "start_time": "2022-06-11T16:37:49.311Z"
   },
   {
    "duration": 26,
    "start_time": "2022-06-11T16:39:53.943Z"
   },
   {
    "duration": 4,
    "start_time": "2022-06-11T16:39:57.989Z"
   },
   {
    "duration": 98,
    "start_time": "2022-06-11T16:40:06.897Z"
   },
   {
    "duration": 28,
    "start_time": "2022-06-11T16:46:55.545Z"
   },
   {
    "duration": 286,
    "start_time": "2022-06-11T16:47:31.854Z"
   },
   {
    "duration": 83,
    "start_time": "2022-06-11T16:55:34.693Z"
   },
   {
    "duration": 71,
    "start_time": "2022-06-11T16:56:10.011Z"
   },
   {
    "duration": 82,
    "start_time": "2022-06-11T16:56:32.537Z"
   },
   {
    "duration": 72,
    "start_time": "2022-06-11T16:56:55.564Z"
   },
   {
    "duration": 99,
    "start_time": "2022-06-11T16:57:49.558Z"
   },
   {
    "duration": 13,
    "start_time": "2022-06-11T16:58:04.563Z"
   },
   {
    "duration": 21,
    "start_time": "2022-06-11T16:58:21.133Z"
   },
   {
    "duration": 81,
    "start_time": "2022-06-11T16:58:53.352Z"
   },
   {
    "duration": 11,
    "start_time": "2022-06-11T16:59:01.685Z"
   },
   {
    "duration": 71,
    "start_time": "2022-06-11T16:59:27.906Z"
   },
   {
    "duration": 12,
    "start_time": "2022-06-11T16:59:35.505Z"
   },
   {
    "duration": 71,
    "start_time": "2022-06-11T17:00:06.187Z"
   },
   {
    "duration": 126,
    "start_time": "2022-06-11T17:00:31.783Z"
   },
   {
    "duration": 11,
    "start_time": "2022-06-11T17:00:40.246Z"
   },
   {
    "duration": 116,
    "start_time": "2022-06-11T17:01:24.075Z"
   },
   {
    "duration": 10,
    "start_time": "2022-06-11T17:01:29.727Z"
   },
   {
    "duration": 26,
    "start_time": "2022-06-12T13:45:24.145Z"
   },
   {
    "duration": 3013,
    "start_time": "2022-06-12T13:45:27.496Z"
   },
   {
    "duration": 310,
    "start_time": "2022-06-12T13:45:30.511Z"
   },
   {
    "duration": 13,
    "start_time": "2022-06-12T13:45:30.823Z"
   },
   {
    "duration": 108,
    "start_time": "2022-06-12T13:45:30.839Z"
   },
   {
    "duration": 9,
    "start_time": "2022-06-12T13:45:30.949Z"
   },
   {
    "duration": 95,
    "start_time": "2022-06-12T13:45:30.960Z"
   },
   {
    "duration": 108,
    "start_time": "2022-06-12T13:45:31.057Z"
   },
   {
    "duration": 14,
    "start_time": "2022-06-12T13:45:31.167Z"
   },
   {
    "duration": 116,
    "start_time": "2022-06-12T13:45:31.183Z"
   },
   {
    "duration": 11,
    "start_time": "2022-06-12T13:45:31.301Z"
   },
   {
    "duration": 42,
    "start_time": "2022-06-12T13:45:31.313Z"
   },
   {
    "duration": 20,
    "start_time": "2022-06-12T13:45:46.541Z"
   },
   {
    "duration": 31,
    "start_time": "2022-06-12T13:46:03.463Z"
   },
   {
    "duration": 81,
    "start_time": "2022-06-12T13:47:02.520Z"
   },
   {
    "duration": 166,
    "start_time": "2022-06-12T14:07:27.105Z"
   },
   {
    "duration": 17,
    "start_time": "2022-06-12T14:08:18.048Z"
   },
   {
    "duration": 101,
    "start_time": "2022-06-12T14:08:57.977Z"
   },
   {
    "duration": 99,
    "start_time": "2022-06-12T14:10:47.934Z"
   },
   {
    "duration": 35,
    "start_time": "2022-06-12T14:13:34.907Z"
   },
   {
    "duration": 111,
    "start_time": "2022-06-12T14:13:57.873Z"
   },
   {
    "duration": 106,
    "start_time": "2022-06-12T14:16:18.748Z"
   },
   {
    "duration": 14,
    "start_time": "2022-06-13T10:10:58.431Z"
   },
   {
    "duration": 47,
    "start_time": "2022-06-13T10:12:03.440Z"
   },
   {
    "duration": 46,
    "start_time": "2022-06-13T10:12:35.021Z"
   },
   {
    "duration": 62,
    "start_time": "2022-06-13T10:13:20.785Z"
   },
   {
    "duration": 15,
    "start_time": "2022-06-13T10:13:42.496Z"
   },
   {
    "duration": 15,
    "start_time": "2022-06-13T10:14:08.751Z"
   },
   {
    "duration": 11,
    "start_time": "2022-06-13T10:14:15.535Z"
   },
   {
    "duration": 49,
    "start_time": "2022-06-13T10:20:25.057Z"
   },
   {
    "duration": 43,
    "start_time": "2022-06-13T10:20:39.413Z"
   },
   {
    "duration": 58,
    "start_time": "2022-06-13T10:28:57.383Z"
   },
   {
    "duration": 42,
    "start_time": "2022-06-13T10:29:34.738Z"
   },
   {
    "duration": 57,
    "start_time": "2022-06-13T10:30:01.687Z"
   },
   {
    "duration": 12,
    "start_time": "2022-06-13T10:30:14.144Z"
   },
   {
    "duration": 48,
    "start_time": "2022-06-13T10:30:48.549Z"
   },
   {
    "duration": 47,
    "start_time": "2022-06-13T10:31:03.689Z"
   },
   {
    "duration": 46,
    "start_time": "2022-06-13T10:31:07.450Z"
   },
   {
    "duration": 41,
    "start_time": "2022-06-13T10:31:15.898Z"
   },
   {
    "duration": 43,
    "start_time": "2022-06-13T10:31:55.895Z"
   },
   {
    "duration": 22,
    "start_time": "2022-06-13T10:32:27.315Z"
   },
   {
    "duration": 60,
    "start_time": "2022-06-13T10:33:04.388Z"
   },
   {
    "duration": 72,
    "start_time": "2022-06-13T10:33:47.638Z"
   },
   {
    "duration": 46,
    "start_time": "2022-06-13T10:34:11.582Z"
   },
   {
    "duration": 15,
    "start_time": "2022-06-13T10:34:42.917Z"
   },
   {
    "duration": 22,
    "start_time": "2022-06-13T10:35:02.889Z"
   },
   {
    "duration": 488,
    "start_time": "2022-06-13T10:40:14.432Z"
   },
   {
    "duration": 13,
    "start_time": "2022-06-13T10:40:58.863Z"
   },
   {
    "duration": 48,
    "start_time": "2022-06-13T10:43:09.959Z"
   },
   {
    "duration": 44,
    "start_time": "2022-06-13T10:43:17.601Z"
   },
   {
    "duration": 17,
    "start_time": "2022-06-13T10:46:12.040Z"
   },
   {
    "duration": 61,
    "start_time": "2022-06-13T10:57:26.692Z"
   },
   {
    "duration": 11,
    "start_time": "2022-06-13T10:57:52.420Z"
   },
   {
    "duration": 38,
    "start_time": "2022-06-13T10:58:05.370Z"
   },
   {
    "duration": 58,
    "start_time": "2022-06-13T11:02:04.460Z"
   },
   {
    "duration": 212,
    "start_time": "2022-06-13T11:02:19.213Z"
   },
   {
    "duration": 16,
    "start_time": "2022-06-13T11:03:06.508Z"
   },
   {
    "duration": 2740,
    "start_time": "2022-06-13T11:04:15.207Z"
   },
   {
    "duration": 65,
    "start_time": "2022-06-13T11:05:40.675Z"
   },
   {
    "duration": 49,
    "start_time": "2022-06-13T11:05:57.107Z"
   },
   {
    "duration": 45,
    "start_time": "2022-06-13T11:06:06.536Z"
   },
   {
    "duration": 27,
    "start_time": "2022-06-13T11:07:00.183Z"
   },
   {
    "duration": 16,
    "start_time": "2022-06-13T11:07:25.313Z"
   },
   {
    "duration": 16,
    "start_time": "2022-06-13T11:08:19.663Z"
   },
   {
    "duration": 16,
    "start_time": "2022-06-13T11:08:38.241Z"
   },
   {
    "duration": 29,
    "start_time": "2022-06-13T11:10:15.794Z"
   },
   {
    "duration": 19,
    "start_time": "2022-06-13T11:10:23.996Z"
   },
   {
    "duration": 27,
    "start_time": "2022-06-13T11:10:31.289Z"
   },
   {
    "duration": 21,
    "start_time": "2022-06-13T11:11:29.606Z"
   },
   {
    "duration": 18,
    "start_time": "2022-06-13T11:11:55.852Z"
   },
   {
    "duration": 26,
    "start_time": "2022-06-13T11:13:40.977Z"
   },
   {
    "duration": 20,
    "start_time": "2022-06-13T11:14:10.865Z"
   },
   {
    "duration": 17,
    "start_time": "2022-06-13T11:14:11.848Z"
   },
   {
    "duration": 69,
    "start_time": "2022-06-13T11:15:12.373Z"
   },
   {
    "duration": 36,
    "start_time": "2022-06-13T11:15:37.712Z"
   },
   {
    "duration": 11,
    "start_time": "2022-06-13T11:15:58.060Z"
   },
   {
    "duration": 13,
    "start_time": "2022-06-13T11:17:44.629Z"
   },
   {
    "duration": 18,
    "start_time": "2022-06-13T11:18:14.646Z"
   },
   {
    "duration": 20,
    "start_time": "2022-06-13T11:18:47.147Z"
   },
   {
    "duration": 24,
    "start_time": "2022-06-13T11:19:02.507Z"
   },
   {
    "duration": 31,
    "start_time": "2022-06-13T11:19:14.092Z"
   },
   {
    "duration": 20,
    "start_time": "2022-06-13T11:19:22.605Z"
   },
   {
    "duration": 69,
    "start_time": "2022-06-13T11:20:14.272Z"
   },
   {
    "duration": 21,
    "start_time": "2022-06-13T11:20:31.005Z"
   },
   {
    "duration": 14,
    "start_time": "2022-06-13T11:27:06.293Z"
   },
   {
    "duration": 65,
    "start_time": "2022-06-13T11:29:31.546Z"
   },
   {
    "duration": 56,
    "start_time": "2022-06-13T11:30:30.404Z"
   },
   {
    "duration": 67,
    "start_time": "2022-06-13T11:30:43.187Z"
   },
   {
    "duration": 14,
    "start_time": "2022-06-13T11:30:53.317Z"
   },
   {
    "duration": 13,
    "start_time": "2022-06-13T11:32:23.147Z"
   },
   {
    "duration": 512,
    "start_time": "2022-06-13T15:37:43.523Z"
   },
   {
    "duration": 76,
    "start_time": "2022-06-13T15:37:44.037Z"
   },
   {
    "duration": 11,
    "start_time": "2022-06-13T15:37:44.114Z"
   },
   {
    "duration": 18,
    "start_time": "2022-06-13T15:37:44.128Z"
   },
   {
    "duration": 13,
    "start_time": "2022-06-13T15:37:44.147Z"
   },
   {
    "duration": 16,
    "start_time": "2022-06-13T15:37:44.161Z"
   },
   {
    "duration": 24,
    "start_time": "2022-06-13T15:37:44.192Z"
   },
   {
    "duration": 10,
    "start_time": "2022-06-13T15:37:44.218Z"
   },
   {
    "duration": 30,
    "start_time": "2022-06-13T15:37:44.229Z"
   },
   {
    "duration": 12,
    "start_time": "2022-06-13T15:37:44.261Z"
   },
   {
    "duration": 23,
    "start_time": "2022-06-13T15:37:44.275Z"
   },
   {
    "duration": 2576,
    "start_time": "2022-06-13T15:37:44.300Z"
   },
   {
    "duration": 12,
    "start_time": "2022-06-13T15:37:46.877Z"
   },
   {
    "duration": 15,
    "start_time": "2022-06-13T15:37:46.890Z"
   },
   {
    "duration": 12,
    "start_time": "2022-06-13T15:37:46.906Z"
   },
   {
    "duration": 16,
    "start_time": "2022-06-13T15:37:46.920Z"
   },
   {
    "duration": 18,
    "start_time": "2022-06-13T15:37:46.938Z"
   },
   {
    "duration": 555,
    "start_time": "2022-06-13T15:39:49.605Z"
   },
   {
    "duration": 156,
    "start_time": "2022-06-13T15:39:50.162Z"
   },
   {
    "duration": 10,
    "start_time": "2022-06-13T15:39:50.320Z"
   },
   {
    "duration": 15,
    "start_time": "2022-06-13T15:39:50.332Z"
   },
   {
    "duration": 9,
    "start_time": "2022-06-13T15:39:50.349Z"
   },
   {
    "duration": 16,
    "start_time": "2022-06-13T15:39:50.360Z"
   },
   {
    "duration": 31,
    "start_time": "2022-06-13T15:39:50.377Z"
   },
   {
    "duration": 11,
    "start_time": "2022-06-13T15:39:50.409Z"
   },
   {
    "duration": 17,
    "start_time": "2022-06-13T15:39:50.421Z"
   },
   {
    "duration": 10,
    "start_time": "2022-06-13T15:39:50.440Z"
   },
   {
    "duration": 12,
    "start_time": "2022-06-13T15:39:50.451Z"
   },
   {
    "duration": 46,
    "start_time": "2022-06-13T15:39:50.465Z"
   },
   {
    "duration": 11,
    "start_time": "2022-06-13T15:39:50.513Z"
   },
   {
    "duration": 14,
    "start_time": "2022-06-13T15:39:50.526Z"
   },
   {
    "duration": 12,
    "start_time": "2022-06-13T15:39:50.541Z"
   },
   {
    "duration": 18,
    "start_time": "2022-06-13T15:39:50.555Z"
   },
   {
    "duration": 29,
    "start_time": "2022-06-13T15:39:50.575Z"
   },
   {
    "duration": 451,
    "start_time": "2022-06-13T16:23:51.239Z"
   },
   {
    "duration": 56,
    "start_time": "2022-06-13T16:23:51.692Z"
   },
   {
    "duration": 10,
    "start_time": "2022-06-13T16:23:51.749Z"
   },
   {
    "duration": 18,
    "start_time": "2022-06-13T16:23:51.761Z"
   },
   {
    "duration": 11,
    "start_time": "2022-06-13T16:23:51.781Z"
   },
   {
    "duration": 14,
    "start_time": "2022-06-13T16:23:51.794Z"
   },
   {
    "duration": 24,
    "start_time": "2022-06-13T16:23:51.810Z"
   },
   {
    "duration": 11,
    "start_time": "2022-06-13T16:23:51.836Z"
   },
   {
    "duration": 18,
    "start_time": "2022-06-13T16:23:51.848Z"
   },
   {
    "duration": 29,
    "start_time": "2022-06-13T16:23:51.868Z"
   },
   {
    "duration": 15,
    "start_time": "2022-06-13T16:23:51.899Z"
   },
   {
    "duration": 23,
    "start_time": "2022-06-13T16:23:51.915Z"
   },
   {
    "duration": 14,
    "start_time": "2022-06-13T16:23:51.939Z"
   },
   {
    "duration": 17,
    "start_time": "2022-06-13T16:23:51.954Z"
   },
   {
    "duration": 35,
    "start_time": "2022-06-13T16:23:51.973Z"
   },
   {
    "duration": 16,
    "start_time": "2022-06-13T16:23:52.010Z"
   },
   {
    "duration": 14,
    "start_time": "2022-06-13T16:23:52.028Z"
   },
   {
    "duration": 536,
    "start_time": "2022-06-13T16:24:30.272Z"
   },
   {
    "duration": 70,
    "start_time": "2022-06-13T16:24:30.810Z"
   },
   {
    "duration": 10,
    "start_time": "2022-06-13T16:24:30.881Z"
   },
   {
    "duration": 14,
    "start_time": "2022-06-13T16:24:30.893Z"
   },
   {
    "duration": 9,
    "start_time": "2022-06-13T16:24:30.909Z"
   },
   {
    "duration": 16,
    "start_time": "2022-06-13T16:24:30.920Z"
   },
   {
    "duration": 29,
    "start_time": "2022-06-13T16:24:30.937Z"
   },
   {
    "duration": 24,
    "start_time": "2022-06-13T16:24:30.967Z"
   },
   {
    "duration": 31,
    "start_time": "2022-06-13T16:24:30.993Z"
   },
   {
    "duration": 11,
    "start_time": "2022-06-13T16:24:31.026Z"
   },
   {
    "duration": 14,
    "start_time": "2022-06-13T16:24:31.038Z"
   },
   {
    "duration": 24,
    "start_time": "2022-06-13T16:24:31.053Z"
   },
   {
    "duration": 11,
    "start_time": "2022-06-13T16:24:31.079Z"
   },
   {
    "duration": 13,
    "start_time": "2022-06-13T16:24:31.092Z"
   },
   {
    "duration": 12,
    "start_time": "2022-06-13T16:24:31.107Z"
   },
   {
    "duration": 11,
    "start_time": "2022-06-13T16:24:31.121Z"
   },
   {
    "duration": 12,
    "start_time": "2022-06-13T16:24:31.133Z"
   }
  ],
  "kernelspec": {
   "display_name": "Python 3 (ipykernel)",
   "language": "python",
   "name": "python3"
  },
  "language_info": {
   "codemirror_mode": {
    "name": "ipython",
    "version": 3
   },
   "file_extension": ".py",
   "mimetype": "text/x-python",
   "name": "python",
   "nbconvert_exporter": "python",
   "pygments_lexer": "ipython3",
   "version": "3.9.5"
  },
  "toc": {
   "base_numbering": 1,
   "nav_menu": {},
   "number_sections": true,
   "sideBar": true,
   "skip_h1_title": true,
   "title_cell": "Table of Contents",
   "title_sidebar": "Contents",
   "toc_cell": true,
   "toc_position": {},
   "toc_section_display": true,
   "toc_window_display": true
  }
 },
 "nbformat": 4,
 "nbformat_minor": 2
}
